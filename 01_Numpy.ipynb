{
 "cells": [
  {
   "cell_type": "code",
   "execution_count": 2,
   "id": "513b7a23-357b-4659-bf87-d952c425e898",
   "metadata": {},
   "outputs": [],
   "source": [
    "# # 주피터노트북 셀 스타일 조절\n",
    "# from IPython.core.display import display, HTML\n",
    "# # display(HTML(\"<style>.container { font-weight: bold !important; }</style>\"))\n",
    "# display(HTML(\"<style>.container { width: 100% !important; }</style>\"))\n",
    "\n",
    "# # 경고메시지 숨기기\n",
    "# import warning\n",
    "# warnings.filterwarnings(action='ignore')"
   ]
  },
  {
   "cell_type": "markdown",
   "id": "4c298beb-3f55-42c2-ac31-cfa5f9c55667",
   "metadata": {},
   "source": [
    "# Numpy 개요\n",
    "Numeric + Python = Numpy   \n",
    " - 수학 및 과학 연산을 위한 파이썬 패키지   \n",
    " - 배열이나 행렬 계산에 용이한 메서드를 제공   \n",
    " - 한글로 넘파이로 주로 통칭, 넘피/늄파이라고 부르기도 함   \n",
    " - 관련 사이트 : http://www.numpy.org   \n",
    "\n",
    "일반 List에 비해 빠르고, 메모리 효율적   \n",
    "\n",
    " - 반복문 없이 데이터 배열에 대한 처리를 지원함   \n",
    " - 선형대수와 관련된 다양한 기능을 제공함   \n",
    " - Reference Site   \n",
    " - cs231 : http://cs231n.github.io/python-numpy-tutorial/#numpy   \n",
    " - https://docs.scipy.org/doc/numpy-dev/user/quickstart.html   \n",
    " - 데이터사이언스스쿨(파이썬버전) - https://goo.gl/3hsjbS   \n",
    "\n",
    "설치 및 임포트   \n",
    "\n",
    " - 넘파이는 외부 라이브러리이므로 설치 필요.(아나콘다는 사전 설치됨)   \n",
    " - pip install numpy   "
   ]
  },
  {
   "cell_type": "code",
   "execution_count": 1,
   "id": "fbe2b528-043d-4c0a-bfc7-1da49bb98ff9",
   "metadata": {},
   "outputs": [
    {
     "data": {
      "text/plain": [
       "'1.26.4'"
      ]
     },
     "execution_count": 1,
     "metadata": {},
     "output_type": "execute_result"
    }
   ],
   "source": [
    "import numpy as np\n",
    "np.__version__"
   ]
  },
  {
   "cell_type": "markdown",
   "id": "ca359cd7-dc35-40eb-948b-7e6574fb2643",
   "metadata": {},
   "source": [
    "## ndim(dimention, rank)\n",
    " - 몇 차원인지 반환"
   ]
  },
  {
   "cell_type": "code",
   "execution_count": 4,
   "id": "98c3a20c-5f71-4adc-b383-7b7b449491d1",
   "metadata": {},
   "outputs": [],
   "source": [
    "a = np.array(0)"
   ]
  },
  {
   "cell_type": "code",
   "execution_count": 5,
   "id": "77c086b7-e532-4288-ae44-90c1cfc5dfdc",
   "metadata": {},
   "outputs": [
    {
     "data": {
      "text/plain": [
       "(array(0), 0, numpy.ndarray)"
      ]
     },
     "execution_count": 5,
     "metadata": {},
     "output_type": "execute_result"
    }
   ],
   "source": [
    "a, a.ndim, type(a)"
   ]
  },
  {
   "cell_type": "code",
   "execution_count": 6,
   "id": "f26eafdc-e381-43a9-ba6f-395bc705b83d",
   "metadata": {},
   "outputs": [
    {
     "data": {
      "text/plain": [
       "(array([2, 4, 6]), 1, numpy.ndarray)"
      ]
     },
     "execution_count": 6,
     "metadata": {},
     "output_type": "execute_result"
    }
   ],
   "source": [
    "a = np.array([2, 4, 6])\n",
    "a, a.ndim, type(a)"
   ]
  },
  {
   "cell_type": "code",
   "execution_count": 7,
   "id": "7755be45-f1e7-4383-bdde-0e210ee7fc6c",
   "metadata": {},
   "outputs": [
    {
     "data": {
      "text/plain": [
       "[[1, 2, 3], [4, 5, 6]]"
      ]
     },
     "execution_count": 7,
     "metadata": {},
     "output_type": "execute_result"
    }
   ],
   "source": [
    "a = [[1,2,3], [4,5,6]]\n",
    "a"
   ]
  },
  {
   "cell_type": "code",
   "execution_count": null,
   "id": "b6b6563d-d88b-4f2d-9c3f-bee2a31db09a",
   "metadata": {},
   "outputs": [],
   "source": []
  }
 ],
 "metadata": {
  "kernelspec": {
   "display_name": "Python 3 (ipykernel)",
   "language": "python",
   "name": "python3"
  },
  "language_info": {
   "codemirror_mode": {
    "name": "ipython",
    "version": 3
   },
   "file_extension": ".py",
   "mimetype": "text/x-python",
   "name": "python",
   "nbconvert_exporter": "python",
   "pygments_lexer": "ipython3",
   "version": "3.11.7"
  }
 },
 "nbformat": 4,
 "nbformat_minor": 5
}
