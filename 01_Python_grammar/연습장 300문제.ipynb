{
 "cells": [
  {
   "cell_type": "markdown",
   "id": "764ef6d9-0cd9-48f2-bf51-c9bee376bc75",
   "metadata": {},
   "source": [
    "# 파이썬 시작하기"
   ]
  },
  {
   "cell_type": "markdown",
   "id": "0cc48630-fa54-469c-b2b3-09ff63d5d0b8",
   "metadata": {},
   "source": [
    "## 001 ~ 010"
   ]
  },
  {
   "cell_type": "code",
   "execution_count": 1,
   "id": "aa78bad9-5520-4bb5-a90e-9bb6e4763098",
   "metadata": {},
   "outputs": [
    {
     "name": "stdout",
     "output_type": "stream",
     "text": [
      "Hello World\n"
     ]
    }
   ],
   "source": [
    "# 001 화면에 (Hello World) 문자열을 출력하세요.\n",
    "print('Hello World')"
   ]
  },
  {
   "cell_type": "code",
   "execution_count": 2,
   "id": "d7d09bfa-8295-4102-8e9e-c5c2e4a5f8ba",
   "metadata": {},
   "outputs": [
    {
     "name": "stdout",
     "output_type": "stream",
     "text": [
      "Mary's cometics\n"
     ]
    }
   ],
   "source": [
    "# 002 화면에 (Mary's cosmetics)을 출력하세요.\n",
    "print(\"Mary's cometics\")"
   ]
  },
  {
   "cell_type": "code",
   "execution_count": 3,
   "id": "52d0ded1-6d30-45b5-923b-1c32183936d2",
   "metadata": {},
   "outputs": [
    {
     "name": "stdout",
     "output_type": "stream",
     "text": [
      "신씨가 소리질렀다. \"도둑이야\".\n"
     ]
    }
   ],
   "source": [
    "# 003 (신씨가 소리질렀다. \"도둑이야\".)을 출력하세요.\n",
    "print('신씨가 소리질렀다. \"도둑이야\".')"
   ]
  },
  {
   "cell_type": "code",
   "execution_count": 5,
   "id": "80065133-ed91-49f6-85f4-56aef486fa87",
   "metadata": {},
   "outputs": [
    {
     "name": "stdout",
     "output_type": "stream",
     "text": [
      "C:\\Windows\n"
     ]
    }
   ],
   "source": [
    "# 004 화면에 (C:\\Windows)를 출력하세요.\n",
    "print('C:\\Windows')"
   ]
  },
  {
   "cell_type": "code",
   "execution_count": 6,
   "id": "c39072e4-2eb6-4810-8bc6-f3884096b636",
   "metadata": {},
   "outputs": [
    {
     "name": "stdout",
     "output_type": "stream",
     "text": [
      "안녕하세요.\n",
      "만나서\t\t반갑습니다.\n"
     ]
    }
   ],
   "source": [
    "# 005 다음 코드(print(\"안녕하세요.\\n만나서\\t\\t반갑습니다.\"))를 실행해보고 \\t와 \\n의 역할을 설명해보세요.\n",
    "print(\"안녕하세요.\\n만나서\\t\\t반갑습니다.\")"
   ]
  },
  {
   "cell_type": "code",
   "execution_count": 7,
   "id": "83844e16-0047-4577-b2f4-f01b495bd466",
   "metadata": {},
   "outputs": [
    {
     "name": "stdout",
     "output_type": "stream",
     "text": [
      "안녕하세요.\n",
      "만나서\t반갑습니다.\n"
     ]
    }
   ],
   "source": [
    "# /n은 줄 바꿈, /t는 tab에 역할\n",
    "print(\"안녕하세요.\\n만나서\\t반갑습니다.\")"
   ]
  },
  {
   "cell_type": "code",
   "execution_count": 8,
   "id": "1f08ccfb-60cd-4573-bbb6-e948276741a0",
   "metadata": {},
   "outputs": [
    {
     "name": "stdout",
     "output_type": "stream",
     "text": [
      "오늘은 일요일\n"
     ]
    }
   ],
   "source": [
    "# 006 print 함수에 두 개의 단어를 입력한 예제입니다. 아래 코드의 출력 결과를 예상해봅시다.\n",
    "print (\"오늘은\", \"일요일\")"
   ]
  },
  {
   "cell_type": "code",
   "execution_count": 9,
   "id": "42ca4190-69b1-4814-990e-4480ebe64a46",
   "metadata": {},
   "outputs": [
    {
     "name": "stdout",
     "output_type": "stream",
     "text": [
      "naver;kakao;sk;samsung\n"
     ]
    }
   ],
   "source": [
    "# 007 print() 함수를 사용하여 (naver;kakao;sk;samsung)출력하세요.\n",
    "print('naver;kakao;sk;samsung')"
   ]
  },
  {
   "cell_type": "code",
   "execution_count": 10,
   "id": "f7058d35-063b-4028-bfb4-390d8d589b56",
   "metadata": {},
   "outputs": [
    {
     "name": "stdout",
     "output_type": "stream",
     "text": [
      "naver;kakao;sk;samsung\n"
     ]
    }
   ],
   "source": [
    "print('naver', 'kakao', 'sk', 'samsung', sep=';')"
   ]
  },
  {
   "cell_type": "code",
   "execution_count": 11,
   "id": "70c76b2e-5320-4091-a6bf-3c947da6581f",
   "metadata": {},
   "outputs": [
    {
     "data": {
      "text/plain": [
       "\u001b[1;31mSignature:\u001b[0m \u001b[0mprint\u001b[0m\u001b[1;33m(\u001b[0m\u001b[1;33m*\u001b[0m\u001b[0margs\u001b[0m\u001b[1;33m,\u001b[0m \u001b[0msep\u001b[0m\u001b[1;33m=\u001b[0m\u001b[1;34m' '\u001b[0m\u001b[1;33m,\u001b[0m \u001b[0mend\u001b[0m\u001b[1;33m=\u001b[0m\u001b[1;34m'\\n'\u001b[0m\u001b[1;33m,\u001b[0m \u001b[0mfile\u001b[0m\u001b[1;33m=\u001b[0m\u001b[1;32mNone\u001b[0m\u001b[1;33m,\u001b[0m \u001b[0mflush\u001b[0m\u001b[1;33m=\u001b[0m\u001b[1;32mFalse\u001b[0m\u001b[1;33m)\u001b[0m\u001b[1;33m\u001b[0m\u001b[1;33m\u001b[0m\u001b[0m\n",
       "\u001b[1;31mDocstring:\u001b[0m\n",
       "Prints the values to a stream, or to sys.stdout by default.\n",
       "\n",
       "sep\n",
       "  string inserted between values, default a space.\n",
       "end\n",
       "  string appended after the last value, default a newline.\n",
       "file\n",
       "  a file-like object (stream); defaults to the current sys.stdout.\n",
       "flush\n",
       "  whether to forcibly flush the stream.\n",
       "\u001b[1;31mType:\u001b[0m      builtin_function_or_method"
      ]
     },
     "metadata": {},
     "output_type": "display_data"
    }
   ],
   "source": [
    "print?"
   ]
  },
  {
   "cell_type": "code",
   "execution_count": 12,
   "id": "47f9bb0b-f647-47df-82c4-98392e59045a",
   "metadata": {},
   "outputs": [
    {
     "name": "stdout",
     "output_type": "stream",
     "text": [
      "naver/kakao/sk/samsung\n"
     ]
    }
   ],
   "source": [
    "# 008 print() 함수를 사용하여 (naver/kakao/sk/samsung) 출력하세요.\n",
    "print('naver', 'kakao', 'sk', 'samsung', sep='/')"
   ]
  },
  {
   "cell_type": "code",
   "execution_count": 17,
   "id": "2766aceb-0adc-4d6c-b67d-b4ea7d39793f",
   "metadata": {},
   "outputs": [
    {
     "name": "stdout",
     "output_type": "stream",
     "text": [
      "firstsecond\n"
     ]
    }
   ],
   "source": [
    "# 009 다음 코드를 수정하여 줄바꿈이 없이 출력하세요. (힌트: end='') print 함수는 두 번 사용합니다. 세미콜론 (;)은 한줄에 여러 개의 명령을 작성하기 위해 사용합니다.\n",
    "# print(\"first\");print(\"second\")\n",
    "print(\"first\",end=\"\");print(\"second\")"
   ]
  },
  {
   "cell_type": "code",
   "execution_count": 20,
   "id": "aceae88c-bc32-4832-b455-ed8a5cd5838c",
   "metadata": {},
   "outputs": [
    {
     "name": "stdout",
     "output_type": "stream",
     "text": [
      "1.6666666666666667\n"
     ]
    }
   ],
   "source": [
    "# 010 5/3의 결과를 화면에 출력하세요.\n",
    "print(5/3)"
   ]
  },
  {
   "cell_type": "markdown",
   "id": "8930aec0-cc3f-4d1c-bb58-754a1c144190",
   "metadata": {},
   "source": [
    "# 파이썬 변수"
   ]
  },
  {
   "cell_type": "markdown",
   "id": "205be78f-d05e-4cd0-a045-0ea36e922d8a",
   "metadata": {},
   "source": [
    "## 011 ~ 020"
   ]
  },
  {
   "cell_type": "code",
   "execution_count": 23,
   "id": "cc420c7e-6866-4417-869d-8c25b676d0ba",
   "metadata": {},
   "outputs": [
    {
     "name": "stdout",
     "output_type": "stream",
     "text": [
      "250000\n"
     ]
    }
   ],
   "source": [
    "# 011 삼성전자라는 변수로 50,000원을 바인딩해보세요. 삼성전자 주식 10주를 보유하고 있을 때 총 평가금액을 출력하세요.\n",
    "삼성전자 = 50000\n",
    "총평가금액 = 삼성전자 * 5\n",
    "print(총평가금액)"
   ]
  },
  {
   "cell_type": "code",
   "execution_count": 32,
   "id": "f82ae64f-f07c-4b9e-bec7-4ca86afedc8a",
   "metadata": {},
   "outputs": [
    {
     "name": "stdout",
     "output_type": "stream",
     "text": [
      "총 평가금액 250000\n"
     ]
    }
   ],
   "source": [
    "삼성전자 = 50000\n",
    "a = '총 평가금액'\n",
    "b = 삼성전자 * 5\n",
    "print(a, b)"
   ]
  },
  {
   "cell_type": "code",
   "execution_count": 36,
   "id": "611305b2-5856-4dc9-8f09-4982e0f5617e",
   "metadata": {},
   "outputs": [
    {
     "name": "stdout",
     "output_type": "stream",
     "text": [
      "총 평가금액 = 250000\n"
     ]
    }
   ],
   "source": [
    "삼성전자 = 50000\n",
    "총평가금액 = 삼성전자 * 5\n",
    "print('총 평가금액 =',총평가금액)"
   ]
  },
  {
   "cell_type": "code",
   "execution_count": null,
   "id": "f2e41550-7fd8-4d7a-a1b1-615b4b80f691",
   "metadata": {},
   "outputs": [],
   "source": [
    "# 012 다음 표는 삼성전자의 일부 투자정보입니다. 변수를 사용해서 시가총액, 현재가, PER 등을 바인딩해보세요."
   ]
  },
  {
   "cell_type": "markdown",
   "id": "3b42161d-9545-470e-869c-172c9619bcaf",
   "metadata": {},
   "source": [
    "|항목|\t값|\n",
    "|--|--|\n",
    "|시가총액|\t298조|\n",
    "|현재가\t|50,000원|\n",
    "|PER\t|15.79|"
   ]
  },
  {
   "cell_type": "code",
   "execution_count": 37,
   "id": "bbe46a0a-565d-4ca3-b9c8-c37705e3c897",
   "metadata": {},
   "outputs": [
    {
     "name": "stdout",
     "output_type": "stream",
     "text": [
      "298조 50,000원 15.79\n"
     ]
    }
   ],
   "source": [
    "시가총액 = '298조'\n",
    "현재가 = '50,000원'\n",
    "PER = 15.79\n",
    "print(시가총액, 현재가, PER)"
   ]
  },
  {
   "cell_type": "code",
   "execution_count": 38,
   "id": "47cf88f8-b281-4040-8e00-5fe7e11a7d26",
   "metadata": {},
   "outputs": [
    {
     "name": "stdout",
     "output_type": "stream",
     "text": [
      "298조 <class 'str'>\n",
      "50,000원 <class 'str'>\n",
      "15.79 <class 'float'>\n"
     ]
    }
   ],
   "source": [
    "print(시가총액, type(시가총액))\n",
    "print(현재가, type(현재가))\n",
    "print(PER, type(PER))"
   ]
  },
  {
   "cell_type": "code",
   "execution_count": null,
   "id": "c64836ea-0f00-4efa-8930-c218a947ac7b",
   "metadata": {},
   "outputs": [],
   "source": [
    "# 013 변수 s와 t에는 각각 문자열이 바인딩 되어있습니다.\n",
    "\n",
    ">> s = \"hello\"\n",
    ">> t = \"python\"\n",
    "두 변수를 이용하여 아래와 같이 출력해보세요.\n",
    "\n",
    "실행 예:\n",
    "hello! python"
   ]
  },
  {
   "cell_type": "code",
   "execution_count": 48,
   "id": "d2af3ec8-1bcd-4e9e-a7f8-f91ff130a14b",
   "metadata": {},
   "outputs": [
    {
     "name": "stdout",
     "output_type": "stream",
     "text": [
      "hello! python\n"
     ]
    }
   ],
   "source": [
    "s = \"hello\"\n",
    "t = \"python\"\n",
    "print(s+'!',t)"
   ]
  },
  {
   "cell_type": "code",
   "execution_count": null,
   "id": "98bc87b8-0c5e-4599-8c9e-0d0b1da1863c",
   "metadata": {},
   "outputs": [],
   "source": [
    "# 014 아래 코드의 실행 결과를 예상해보세요.\n",
    "\n",
    ">> 2 + 2 * 3 "
   ]
  },
  {
   "cell_type": "code",
   "execution_count": 49,
   "id": "30acb6c3-c6a2-49ff-9cbb-ba8ef0b1bafc",
   "metadata": {},
   "outputs": [
    {
     "data": {
      "text/plain": [
       "8"
      ]
     },
     "execution_count": 49,
     "metadata": {},
     "output_type": "execute_result"
    }
   ],
   "source": [
    "2 + 2 * 3"
   ]
  },
  {
   "cell_type": "code",
   "execution_count": null,
   "id": "3c8f2b9d-074b-43d5-8f24-3537d2565ba6",
   "metadata": {},
   "outputs": [],
   "source": [
    "# 015 type() 함수는 데이터 타입을 판별합니다. 변수 a에는 128 숫자가 바인딩돼 있어 type 함수가 int (정수)형임을 알려줍니다.\n",
    "\n",
    ">> a = 128\n",
    ">> print (type(a))\n",
    "<class 'int'>\n",
    "아래 변수에 바인딩된 값의 타입을 판별해보세요.\n",
    "\n",
    ">> a = \"132\""
   ]
  },
  {
   "cell_type": "code",
   "execution_count": 50,
   "id": "19b498d9-5887-4184-97c5-7c32265bf2e3",
   "metadata": {},
   "outputs": [
    {
     "name": "stdout",
     "output_type": "stream",
     "text": [
      "<class 'str'>\n"
     ]
    }
   ],
   "source": [
    "a = \"132\"\n",
    "print(type(a))"
   ]
  },
  {
   "cell_type": "code",
   "execution_count": null,
   "id": "498b0c8d-22c0-48cf-b5a6-59769868c777",
   "metadata": {},
   "outputs": [],
   "source": [
    "# 016 문자열 '720'를 정수형으로 변환해보세요.\n",
    "\n",
    ">> num_str = \"720\""
   ]
  },
  {
   "cell_type": "code",
   "execution_count": 52,
   "id": "9f347ed4-ad4a-4670-9911-e7037fadd2b7",
   "metadata": {},
   "outputs": [
    {
     "name": "stdout",
     "output_type": "stream",
     "text": [
      "720 <class 'int'>\n"
     ]
    }
   ],
   "source": [
    "num_str = \"720\"\n",
    "num_int = int(num_str)\n",
    "print(num_int, type(num_int))"
   ]
  },
  {
   "cell_type": "code",
   "execution_count": 51,
   "id": "b118d8e4-1081-4a97-9081-c55a75be8579",
   "metadata": {},
   "outputs": [
    {
     "name": "stdout",
     "output_type": "stream",
     "text": [
      "721 <class 'int'>\n"
     ]
    }
   ],
   "source": [
    "num_str = \"720\"\n",
    "num_int = int(num_str)\n",
    "print(num_int+1, type(num_int))"
   ]
  },
  {
   "cell_type": "code",
   "execution_count": null,
   "id": "3dea9307-2bd6-4596-98f2-ae67e7202e9c",
   "metadata": {},
   "outputs": [],
   "source": [
    "# 017 정수 100을 문자열 '100'으로 변환해보세요.\n",
    "\n",
    "num = 100"
   ]
  },
  {
   "cell_type": "code",
   "execution_count": 53,
   "id": "78e00f07-f250-452f-9253-9a2d28f0c50f",
   "metadata": {},
   "outputs": [
    {
     "name": "stdout",
     "output_type": "stream",
     "text": [
      "100 <class 'str'>\n"
     ]
    }
   ],
   "source": [
    "num = 100\n",
    "num_str = str(num)\n",
    "print(num_str, type(num_str))"
   ]
  },
  {
   "cell_type": "code",
   "execution_count": null,
   "id": "168b378b-3274-4e06-ad7d-6f5bddeeda8c",
   "metadata": {},
   "outputs": [],
   "source": [
    "# 018 문자열 \"15.79\"를 실수(float) 타입으로 변환해보세요."
   ]
  },
  {
   "cell_type": "code",
   "execution_count": 55,
   "id": "ed0abf0f-6145-4fc7-b4d5-2cbcfea0cf95",
   "metadata": {},
   "outputs": [
    {
     "name": "stdout",
     "output_type": "stream",
     "text": [
      "15.79 <class 'float'>\n"
     ]
    }
   ],
   "source": [
    "num = \"15.79\"\n",
    "num_float = float(num)\n",
    "print(num_float, type(num_float))"
   ]
  },
  {
   "cell_type": "code",
   "execution_count": null,
   "id": "42d9513e-1393-478c-8587-e3a6f5e0230d",
   "metadata": {},
   "outputs": [],
   "source": [
    "# 019 year라는 변수가 문자열 타입의 연도를 바인딩하고 있습니다. 이를 정수로 변환한 후 최근 3년의 연도를 화면에 출력해보세요.\n",
    "\n",
    "year = \"2020\""
   ]
  },
  {
   "cell_type": "code",
   "execution_count": 56,
   "id": "9678c842-2b66-4bf6-a48d-d6c1694fde99",
   "metadata": {},
   "outputs": [
    {
     "name": "stdout",
     "output_type": "stream",
     "text": [
      "2021\n",
      "2022\n",
      "2023\n"
     ]
    }
   ],
   "source": [
    "year = \"2020\"\n",
    "year_int = int(year)\n",
    "print(year_int+1)\n",
    "print(year_int+2)\n",
    "print(year_int+3)"
   ]
  },
  {
   "cell_type": "code",
   "execution_count": null,
   "id": "6702bfaf-ef2c-45d0-bc4f-9b89f039f2e2",
   "metadata": {},
   "outputs": [],
   "source": [
    "# 020 에이컨이 월 48,584원에 무이자 36개월의 조건으로 홈쇼핑에서 판매되고 있습니다. 총 금액은 계산한 후 이를 화면에 출력해보세요. (변수사용하기)"
   ]
  },
  {
   "cell_type": "code",
   "execution_count": 57,
   "id": "fa14ce24-049c-4735-ae9e-b5258b27f95e",
   "metadata": {},
   "outputs": [
    {
     "name": "stdout",
     "output_type": "stream",
     "text": [
      "1749024\n"
     ]
    }
   ],
   "source": [
    "air = 48584\n",
    "mon = 36\n",
    "print(air * mon)"
   ]
  },
  {
   "cell_type": "code",
   "execution_count": 58,
   "id": "6a8894e7-7f51-4bc7-8fe4-b962b45075a4",
   "metadata": {},
   "outputs": [
    {
     "name": "stdout",
     "output_type": "stream",
     "text": [
      "1749024\n"
     ]
    }
   ],
   "source": [
    "air = 48584\n",
    "총금액 = air * 36\n",
    "print(총금액)"
   ]
  },
  {
   "cell_type": "markdown",
   "id": "d52bd375-0ad5-492b-b8a2-d473169ab77b",
   "metadata": {},
   "source": [
    "# 파이썬 문자열"
   ]
  },
  {
   "cell_type": "markdown",
   "id": "d5c4f3ce-107d-442d-8801-526595cfdfd3",
   "metadata": {},
   "source": [
    "## 021 ~ 030"
   ]
  },
  {
   "cell_type": "code",
   "execution_count": null,
   "id": "dda974f1-828e-493b-b243-c116b4064f22",
   "metadata": {},
   "outputs": [],
   "source": [
    "# 021 문자열 인덱싱\n",
    "letters가 바인딩하는 문자열에서 첫번째와 세번째 문자를 출력하세요.\n",
    "\n",
    ">> letters = 'python'\n",
    "실행 예\n",
    "p t"
   ]
  },
  {
   "cell_type": "code",
   "execution_count": 60,
   "id": "cf839396-9b5f-4857-a268-10a6cac9c17e",
   "metadata": {},
   "outputs": [
    {
     "name": "stdout",
     "output_type": "stream",
     "text": [
      "p t\n"
     ]
    }
   ],
   "source": [
    "letters = 'python'\n",
    "print(letters[0], letters[2])"
   ]
  },
  {
   "cell_type": "code",
   "execution_count": null,
   "id": "64839691-51ff-423d-af22-5ac4637cda08",
   "metadata": {},
   "outputs": [],
   "source": [
    "# 022 문자열 슬라이싱\n",
    "자동차 번호가 다음과 같을 때 뒤에 4자리만 출력하세요.\n",
    "\n",
    ">> license_plate = \"24가 2210\"\n",
    "실행 예: 2210"
   ]
  },
  {
   "cell_type": "code",
   "execution_count": 61,
   "id": "c9429466-d1dd-4dea-87ed-910eb9989daf",
   "metadata": {},
   "outputs": [
    {
     "name": "stdout",
     "output_type": "stream",
     "text": [
      "2210\n"
     ]
    }
   ],
   "source": [
    "license_plate = \"24가 2210\"\n",
    "print(license_plate[4:])"
   ]
  },
  {
   "cell_type": "code",
   "execution_count": 62,
   "id": "b0d40ac1-240f-49e2-83f8-2078eb99765c",
   "metadata": {},
   "outputs": [
    {
     "name": "stdout",
     "output_type": "stream",
     "text": [
      "0\n"
     ]
    }
   ],
   "source": [
    "license_plate = \"24가 2210\"\n",
    "print(license_plate[-1:])"
   ]
  },
  {
   "cell_type": "code",
   "execution_count": 63,
   "id": "26baa562-80f5-4d05-bafa-172a9a1728e5",
   "metadata": {},
   "outputs": [
    {
     "name": "stdout",
     "output_type": "stream",
     "text": [
      "2210\n"
     ]
    }
   ],
   "source": [
    "license_plate = \"24가 2210\"\n",
    "print(license_plate[-4:])"
   ]
  },
  {
   "cell_type": "code",
   "execution_count": null,
   "id": "8fbab8a1-e262-4a7d-89af-74f241585e89",
   "metadata": {},
   "outputs": [],
   "source": [
    "# 023 문자열 인덱싱\n",
    "아래의 문자열에서 '홀' 만 출력하세요.\n",
    "\n",
    ">> string = \"홀짝홀짝홀짝\"\n",
    "실행 예:\n",
    "홀홀홀"
   ]
  },
  {
   "cell_type": "code",
   "execution_count": 66,
   "id": "6c1b7b21-a556-4a39-9d59-3ea75317de49",
   "metadata": {},
   "outputs": [
    {
     "name": "stdout",
     "output_type": "stream",
     "text": [
      "홀홀홀\n"
     ]
    }
   ],
   "source": [
    "string = \"홀짝홀짝홀짝\"\n",
    "print(string[0::2])"
   ]
  },
  {
   "cell_type": "code",
   "execution_count": 67,
   "id": "d5ac20b0-f764-4163-b4f9-34832700d5a3",
   "metadata": {},
   "outputs": [
    {
     "name": "stdout",
     "output_type": "stream",
     "text": [
      "홀홀홀\n"
     ]
    }
   ],
   "source": [
    "string = \"홀짝홀짝홀짝\"\n",
    "print(string[::2])"
   ]
  },
  {
   "cell_type": "code",
   "execution_count": null,
   "id": "16e64b8f-239b-426b-a1ba-800ed613c495",
   "metadata": {},
   "outputs": [],
   "source": [
    "# 024 문자열 슬라이싱\n",
    "문자열을 거꾸로 뒤집어 출력하세요.\n",
    "\n",
    ">> string = \"PYTHON\"\n",
    "실행 예:\n",
    "NOHTYP"
   ]
  },
  {
   "cell_type": "code",
   "execution_count": 68,
   "id": "f99d7a23-a3fd-4db8-b3af-a6de63bbc659",
   "metadata": {},
   "outputs": [
    {
     "name": "stdout",
     "output_type": "stream",
     "text": [
      "NOHTYP\n"
     ]
    }
   ],
   "source": [
    "string = \"PYTHON\"\n",
    "print(string[::-1])"
   ]
  },
  {
   "cell_type": "code",
   "execution_count": 123,
   "id": "bb84e855-bafa-4bed-88c9-98f377807445",
   "metadata": {},
   "outputs": [
    {
     "name": "stdout",
     "output_type": "stream",
     "text": [
      "NOHTYP\n"
     ]
    }
   ],
   "source": [
    "string = \"PYTHON\"\n",
    "print(string[::-1])"
   ]
  },
  {
   "cell_type": "code",
   "execution_count": null,
   "id": "59101a53-6ff9-4dd5-9c84-f5615093759b",
   "metadata": {},
   "outputs": [],
   "source": [
    "# 025 문자열 치환\n",
    "아래의 전화번호에서 하이푼 ('-')을 제거하고 출력하세요.\n",
    "\n",
    ">> phone_number = \"010-1111-2222\"\n",
    "실행 예\n",
    "010 1111 2222"
   ]
  },
  {
   "cell_type": "code",
   "execution_count": 72,
   "id": "378aa97c-4cf8-463d-a815-4bc31b86e84b",
   "metadata": {},
   "outputs": [
    {
     "name": "stdout",
     "output_type": "stream",
     "text": [
      "010 1111 2222\n"
     ]
    }
   ],
   "source": [
    "phone_number = \"010-1111-2222\"\n",
    "print(phone_number.replace(\"-\",\" \"))"
   ]
  },
  {
   "cell_type": "code",
   "execution_count": null,
   "id": "15db6b55-5cc5-4571-9aee-78c9f101ecd7",
   "metadata": {},
   "outputs": [],
   "source": [
    "# 026 문자열 다루기\n",
    "25번 문제의 전화번호를 아래와 같이 모두 붙여 출력하세요.\n",
    "\n",
    "실행 예\n",
    "01011112222"
   ]
  },
  {
   "cell_type": "code",
   "execution_count": 73,
   "id": "3d43c406-77f9-44c4-a15f-061a747ad62f",
   "metadata": {},
   "outputs": [
    {
     "name": "stdout",
     "output_type": "stream",
     "text": [
      "01011112222\n"
     ]
    }
   ],
   "source": [
    "phone_number = \"010-1111-2222\"\n",
    "print(phone_number.replace(\"-\",\"\"))"
   ]
  },
  {
   "cell_type": "code",
   "execution_count": null,
   "id": "8182f613-4a57-4097-87eb-b5d6c47f7f5a",
   "metadata": {},
   "outputs": [],
   "source": [
    "# 027 문자열 다루기\n",
    "url 에 저장된 웹 페이지 주소에서 도메인을 출력하세요.\n",
    "\n",
    ">> url = \"http://sharebook.kr\"\n",
    "실행 예:\n",
    "kr"
   ]
  },
  {
   "cell_type": "code",
   "execution_count": 76,
   "id": "4989babc-cbde-463c-a67e-e2823815481c",
   "metadata": {},
   "outputs": [
    {
     "name": "stdout",
     "output_type": "stream",
     "text": [
      "['http://sharebook', 'kr']\n"
     ]
    }
   ],
   "source": [
    "url = \"http://sharebook.kr\"\n",
    "print(url.split('.'))"
   ]
  },
  {
   "cell_type": "code",
   "execution_count": 77,
   "id": "1c539b4c-5483-4a85-b920-28ef55a4f888",
   "metadata": {},
   "outputs": [
    {
     "name": "stdout",
     "output_type": "stream",
     "text": [
      "kr\n"
     ]
    }
   ],
   "source": [
    "url = \"http://sharebook.kr\"\n",
    "url_split = url.split('.')\n",
    "print(url_split[-1])"
   ]
  },
  {
   "cell_type": "code",
   "execution_count": null,
   "id": "56aa4d55-efb0-4f2e-82da-dafad90a517d",
   "metadata": {},
   "outputs": [],
   "source": [
    "# 028 문자열은 immutable\n",
    "아래 코드의 실행 결과를 예상해보세요.\n",
    "\n",
    ">> lang = 'python'\n",
    ">> lang[0] = 'P'\n",
    ">> print(lang)"
   ]
  },
  {
   "cell_type": "code",
   "execution_count": 78,
   "id": "ba308277-cae2-410d-b2b3-a8177f4a29e4",
   "metadata": {},
   "outputs": [
    {
     "ename": "TypeError",
     "evalue": "'str' object does not support item assignment",
     "output_type": "error",
     "traceback": [
      "\u001b[1;31m---------------------------------------------------------------------------\u001b[0m",
      "\u001b[1;31mTypeError\u001b[0m                                 Traceback (most recent call last)",
      "Cell \u001b[1;32mIn[78], line 2\u001b[0m\n\u001b[0;32m      1\u001b[0m lang \u001b[38;5;241m=\u001b[39m \u001b[38;5;124m'\u001b[39m\u001b[38;5;124mpython\u001b[39m\u001b[38;5;124m'\u001b[39m\n\u001b[1;32m----> 2\u001b[0m lang[\u001b[38;5;241m0\u001b[39m] \u001b[38;5;241m=\u001b[39m \u001b[38;5;124m'\u001b[39m\u001b[38;5;124mP\u001b[39m\u001b[38;5;124m'\u001b[39m\n\u001b[0;32m      3\u001b[0m \u001b[38;5;28mprint\u001b[39m(lang)\n",
      "\u001b[1;31mTypeError\u001b[0m: 'str' object does not support item assignment"
     ]
    }
   ],
   "source": [
    "lang = 'python'\n",
    "lang[0] = 'P'\n",
    "print(lang)"
   ]
  },
  {
   "cell_type": "code",
   "execution_count": 79,
   "id": "b72e287b-3866-417e-a0e0-16690804adf6",
   "metadata": {},
   "outputs": [
    {
     "name": "stdout",
     "output_type": "stream",
     "text": [
      "p\n"
     ]
    }
   ],
   "source": [
    "lang = 'python'\n",
    "print(lang[0])"
   ]
  },
  {
   "cell_type": "code",
   "execution_count": null,
   "id": "e120d342-4560-4b31-a8c8-e79bd609869e",
   "metadata": {},
   "outputs": [],
   "source": [
    "# 029 replace 메서드\n",
    "아래 문자열에서 소문자 'a'를 대문자 'A'로 변경하세요.\n",
    "\n",
    ">> string = 'abcdfe2a354a32a'\n",
    "실행 예:\n",
    "Abcdfe2A354A32A"
   ]
  },
  {
   "cell_type": "code",
   "execution_count": 81,
   "id": "2760946f-c046-43cf-a6bc-1c08649a9d29",
   "metadata": {},
   "outputs": [
    {
     "name": "stdout",
     "output_type": "stream",
     "text": [
      "Abcdfe2A354A32A\n"
     ]
    }
   ],
   "source": [
    "string = 'abcdfe2a354a32a'\n",
    "print(string.replace('a', 'A'))"
   ]
  },
  {
   "cell_type": "code",
   "execution_count": 80,
   "id": "27fd954a-1409-4eec-9a2d-8060840d8623",
   "metadata": {},
   "outputs": [
    {
     "name": "stdout",
     "output_type": "stream",
     "text": [
      "Abcdfe2A354A32A\n"
     ]
    }
   ],
   "source": [
    "string = 'abcdfe2a354a32a'\n",
    "string = string.replace('a', 'A')\n",
    "print(string)"
   ]
  },
  {
   "cell_type": "code",
   "execution_count": null,
   "id": "3bb66834-fdca-49bf-95c2-7daf6a81fe3d",
   "metadata": {},
   "outputs": [],
   "source": [
    "# 030 replace 메서드\n",
    "아래 코드의 실행 결과를 예상해보세요.\n",
    "\n",
    ">> string = 'abcd'\n",
    ">> string.replace('b', 'B')\n",
    ">> print(string)"
   ]
  },
  {
   "cell_type": "code",
   "execution_count": 83,
   "id": "b6012f22-5673-45fc-9c66-0312354c7fe5",
   "metadata": {},
   "outputs": [
    {
     "name": "stdout",
     "output_type": "stream",
     "text": [
      "abcd\n"
     ]
    }
   ],
   "source": [
    "string = 'abcd'\n",
    "string.replace('b', 'B')\n",
    "print(string)"
   ]
  },
  {
   "cell_type": "code",
   "execution_count": 84,
   "id": "9b195623-ec4b-4c1c-acb0-8d584c046492",
   "metadata": {},
   "outputs": [
    {
     "name": "stdout",
     "output_type": "stream",
     "text": [
      "aBcd\n"
     ]
    }
   ],
   "source": [
    "string = 'abcd'\n",
    "print(string.replace('b', 'B'))"
   ]
  },
  {
   "cell_type": "markdown",
   "id": "f30e3853-3211-4821-95c1-a60a18917ae8",
   "metadata": {},
   "source": [
    "## 031 ~ 040"
   ]
  },
  {
   "cell_type": "code",
   "execution_count": null,
   "id": "6910d2f9-32d1-43f9-8c29-42201b21e9ff",
   "metadata": {},
   "outputs": [],
   "source": [
    "# 031 문자열 합치기\n",
    "아래 코드의 실행 결과를 예상해보세요.\n",
    "\n",
    ">> a = \"3\"\n",
    ">> b = \"4\"\n",
    ">> print(a + b)"
   ]
  },
  {
   "cell_type": "code",
   "execution_count": 85,
   "id": "dfad76c1-b443-4a7a-96c7-9b4483e8d747",
   "metadata": {},
   "outputs": [
    {
     "name": "stdout",
     "output_type": "stream",
     "text": [
      "34\n"
     ]
    }
   ],
   "source": [
    "a = \"3\"\n",
    "b = \"4\"\n",
    "print(a + b)"
   ]
  },
  {
   "cell_type": "code",
   "execution_count": null,
   "id": "a79c2fff-bb44-46a3-823c-9fc432191347",
   "metadata": {},
   "outputs": [],
   "source": [
    "# 032 문자열 곱하기\n",
    "아래 코드의 실행 결과를 예상해보세요.\n",
    "\n",
    ">> print(\"Hi\" * 3)"
   ]
  },
  {
   "cell_type": "code",
   "execution_count": 86,
   "id": "dfb5c617-fb14-401d-aa17-935c8a6b3d27",
   "metadata": {},
   "outputs": [
    {
     "name": "stdout",
     "output_type": "stream",
     "text": [
      "HiHiHi\n"
     ]
    }
   ],
   "source": [
    "print(\"Hi\" * 3)"
   ]
  },
  {
   "cell_type": "code",
   "execution_count": null,
   "id": "576a8624-efdd-4a6a-a5fe-08b3d575b23d",
   "metadata": {},
   "outputs": [],
   "source": [
    "# 033 문자열 곱하기\n",
    "화면에 '-'를 80개 출력하세요.\n",
    "\n",
    "실행 예:\n",
    "--------------------------------------------------------------------------------"
   ]
  },
  {
   "cell_type": "code",
   "execution_count": 87,
   "id": "fad9e939-1600-4748-94cf-fda84aaa7397",
   "metadata": {},
   "outputs": [
    {
     "name": "stdout",
     "output_type": "stream",
     "text": [
      "--------------------------------------------------------------------------------\n"
     ]
    }
   ],
   "source": [
    "print(\"-\" * 80)"
   ]
  },
  {
   "cell_type": "code",
   "execution_count": null,
   "id": "25aa2c37-09e6-4588-a2a7-c1b48d81a098",
   "metadata": {},
   "outputs": [],
   "source": [
    "# 034 문자열 곱하기\n",
    "변수에 다음과 같은 문자열이 바인딩되어 있습니다.\n",
    "\n",
    ">>> t1 = 'python'\n",
    ">>> t2 = 'java'\n",
    "변수에 문자열 더하기와 문자열 곱하기를 사용해서 아래와 같이 출력해보세요.\n",
    "\n",
    "실행 예:\n",
    "python java python java python java python java"
   ]
  },
  {
   "cell_type": "code",
   "execution_count": 95,
   "id": "6dba2cf1-183c-4eaa-80e5-12678d54e997",
   "metadata": {},
   "outputs": [
    {
     "name": "stdout",
     "output_type": "stream",
     "text": [
      "python java python java python java python java \n"
     ]
    }
   ],
   "source": [
    "t1 = 'python'\n",
    "t2 = 'java'\n",
    "\n",
    "print((t1+' '+t2+' ')*4)"
   ]
  },
  {
   "cell_type": "code",
   "execution_count": 96,
   "id": "6211b1b3-5786-447a-9cb0-9279c968dfac",
   "metadata": {},
   "outputs": [
    {
     "name": "stdout",
     "output_type": "stream",
     "text": [
      "python java python java python java python java \n"
     ]
    }
   ],
   "source": [
    "t1 = \"python\"\n",
    "t2 = \"java\"\n",
    "t3 = t1 + ' ' + t2 + ' '\n",
    "print(t3 * 4)"
   ]
  },
  {
   "cell_type": "code",
   "execution_count": null,
   "id": "6ef85ff0-731c-463f-bf14-ff7b239ca647",
   "metadata": {},
   "outputs": [],
   "source": [
    "# 035 문자열 출력\n",
    "변수에 다음과 같이 문자열과 정수가 바인딩되어 있을 때 % formatting을 사용해서 다음과 같이 출력해보세요.\n",
    "\n",
    "name1 = \"김민수\" \n",
    "age1 = 10\n",
    "name2 = \"이철희\"\n",
    "age2 = 13\n",
    "이름: 김민수 나이: 10\n",
    "이름: 이철희 나이: 13"
   ]
  },
  {
   "cell_type": "code",
   "execution_count": 98,
   "id": "83abe188-b146-453d-b126-9ad49c957aa7",
   "metadata": {},
   "outputs": [
    {
     "name": "stdout",
     "output_type": "stream",
     "text": [
      "이름: 김민수 나이: 10\n",
      "이름: 이철희 나이: 13\n"
     ]
    }
   ],
   "source": [
    "name1 = \"김민수\" \n",
    "age1 = 10\n",
    "name2 = \"이철희\"\n",
    "age2 = 13\n",
    "\n",
    "print('이름:', name1, '나이:', age1)\n",
    "print('이름:', name2, '나이:', age2)"
   ]
  },
  {
   "cell_type": "code",
   "execution_count": 99,
   "id": "eb913e71-4b42-4f8f-8612-f6be6b92b46d",
   "metadata": {},
   "outputs": [
    {
     "name": "stdout",
     "output_type": "stream",
     "text": [
      "이름: 김민수 나이: 10\n",
      "이름: 이철희 나이: 13\n"
     ]
    }
   ],
   "source": [
    "#print 포맷팅에서 `%s`는 문자열 데이터 타입의 값을 `%d`는 정수형 데이터 타입 값의 출력을 의미합니다.\n",
    "name1 = \"김민수\" \n",
    "age1 = 10\n",
    "name2 = \"이철희\"\n",
    "age2 = 13\n",
    "print(\"이름: %s 나이: %d\" % (name1, age1))\n",
    "print(\"이름: %s 나이: %d\" % (name2, age2))"
   ]
  },
  {
   "cell_type": "code",
   "execution_count": null,
   "id": "2dfbe596-0576-452f-b212-abcb1d8ed530",
   "metadata": {},
   "outputs": [],
   "source": [
    "# 036 문자열 출력\n",
    "문자열의 format( ) 메서드를 사용해서 035번 문제를 다시 풀어보세요."
   ]
  },
  {
   "cell_type": "code",
   "execution_count": 100,
   "id": "8aafce03-af74-428a-9a5b-d07307cd3e43",
   "metadata": {},
   "outputs": [
    {
     "name": "stdout",
     "output_type": "stream",
     "text": [
      "이름: 김민수 나이: 10\n",
      "이름: 이철희 나이: 13\n"
     ]
    }
   ],
   "source": [
    "#문자열의 포맷 메서드는 타입과 상관없이 값이 출력될 위치에 `{ }`를 적어주면 됩니다.\n",
    "name1 = \"김민수\" \n",
    "age1 = 10\n",
    "name2 = \"이철희\"\n",
    "age2 = 13\n",
    "print(\"이름: {} 나이: {}\".format(name1, age1))\n",
    "print(\"이름: {} 나이: {}\".format(name2, age2))"
   ]
  },
  {
   "cell_type": "code",
   "execution_count": null,
   "id": "7105c70c-50e9-4a94-87ea-3e415e3dcdcb",
   "metadata": {},
   "outputs": [],
   "source": [
    "# 037 문자열 출력\n",
    "파이썬 3.6부터 지원하는 f-string을 사용해서 035번 문제를 다시 풀어보세요."
   ]
  },
  {
   "cell_type": "code",
   "execution_count": 101,
   "id": "528517df-497a-420b-9159-9101590777a7",
   "metadata": {},
   "outputs": [
    {
     "name": "stdout",
     "output_type": "stream",
     "text": [
      "이름: 김민수 나이: 10\n",
      "이름: 이철희 나이: 13\n"
     ]
    }
   ],
   "source": [
    "#f-string은 문자열 앞에 f가 붙은 형태입니다. f-string을 사용하면 `{변수}`와 같은 형태로 문자열 사이에 타입과 상관없이 값을 출력할 수 있습니다.\n",
    "name1 = \"김민수\" \n",
    "age1 = 10\n",
    "name2 = \"이철희\"\n",
    "age2 = 13\n",
    "print(f\"이름: {name1} 나이: {age1}\")\n",
    "print(f\"이름: {name2} 나이: {age2}\")"
   ]
  },
  {
   "cell_type": "code",
   "execution_count": null,
   "id": "3e0373b5-c0ab-45a7-a534-24ab733a81af",
   "metadata": {},
   "outputs": [],
   "source": [
    "# 038 컴마 제거하기\n",
    "삼성전자의 상장주식수가 다음과 같습니다. 컴마를 제거한 후 이를 정수 타입으로 변환해보세요.\n",
    "\n",
    "상장주식수 = \"5,969,782,550\""
   ]
  },
  {
   "cell_type": "code",
   "execution_count": 103,
   "id": "13e5e58b-bb56-41fa-9e41-4ae173329ab9",
   "metadata": {},
   "outputs": [
    {
     "name": "stdout",
     "output_type": "stream",
     "text": [
      "5969782550 <class 'int'>\n"
     ]
    }
   ],
   "source": [
    "상장주식수 = \"5,969,782,550\"\n",
    "상장주식수 = 상장주식수.replace(',', '')\n",
    "정수 = int(상장주식수)\n",
    "print(정수,type(정수))"
   ]
  },
  {
   "cell_type": "code",
   "execution_count": null,
   "id": "4cc97ff9-1225-422e-aeb9-53a93e25880f",
   "metadata": {},
   "outputs": [],
   "source": [
    "# 039 문자열 슬라이싱\n",
    "다음과 같은 문자열에서 '2020/03'만 출력하세요.\n",
    "\n",
    "분기 = \"2020/03(E) (IFRS연결)\""
   ]
  },
  {
   "cell_type": "code",
   "execution_count": 104,
   "id": "a2262dd4-0bbf-441f-baf6-36e36eb7945c",
   "metadata": {},
   "outputs": [
    {
     "name": "stdout",
     "output_type": "stream",
     "text": [
      "2020/03\n"
     ]
    }
   ],
   "source": [
    "분기 = \"2020/03(E) (IFRS연결)\"\n",
    "print(분기[:7])"
   ]
  },
  {
   "cell_type": "code",
   "execution_count": null,
   "id": "a4091059-98ea-4c1c-849b-aa217538279d",
   "metadata": {},
   "outputs": [],
   "source": [
    "# 040 strip 메서드\n",
    "문자열의 좌우의 공백이 있을 때 이를 제거해보세요.\n",
    "\n",
    "data = \"   삼성전자    \""
   ]
  },
  {
   "cell_type": "code",
   "execution_count": 148,
   "id": "c2910580-b00d-4bef-9cfc-6dc65669ae6e",
   "metadata": {},
   "outputs": [
    {
     "data": {
      "text/plain": [
       "'삼성전자'"
      ]
     },
     "execution_count": 148,
     "metadata": {},
     "output_type": "execute_result"
    }
   ],
   "source": [
    "data = \"   삼성전자    \"\n",
    "data2 = data.strip()\n",
    "data2"
   ]
  },
  {
   "cell_type": "code",
   "execution_count": 108,
   "id": "1da4b293-3485-4393-b66d-e5db9bc86f10",
   "metadata": {},
   "outputs": [
    {
     "name": "stdout",
     "output_type": "stream",
     "text": [
      "삼성전자\n"
     ]
    }
   ],
   "source": [
    "#문자열에서 strip( ) 메서드를 사용하면 좌우의 공백을 제거할 수 있습니다. 이때 원본 문자열은 그대로 유지되고 공백이 제거된 새로운 문자열이 반환됩니다.\n",
    "data = \"   삼성전자    \"\n",
    "data1 = data.strip()\n",
    "print(data1)"
   ]
  },
  {
   "cell_type": "markdown",
   "id": "dbcf7f7a-f759-4112-a228-1d7712f182e5",
   "metadata": {},
   "source": [
    "## 041 ~ 050"
   ]
  },
  {
   "cell_type": "code",
   "execution_count": null,
   "id": "231b6126-e618-4807-8157-27b1f47d5949",
   "metadata": {},
   "outputs": [],
   "source": [
    "# 041 upper 메서드\n",
    "다음과 같은 문자열이 있을 때 이를 대문자 BTC_KRW로 변경하세요.\n",
    "\n",
    "ticker = \"btc_krw\""
   ]
  },
  {
   "cell_type": "code",
   "execution_count": 126,
   "id": "79e41f76-1b37-4021-94d3-cac2f8022553",
   "metadata": {},
   "outputs": [
    {
     "name": "stdout",
     "output_type": "stream",
     "text": [
      "BTC_KRW\n"
     ]
    }
   ],
   "source": [
    "ticker = \"btc_krw\"\n",
    "\n",
    "print(ticker.upper())"
   ]
  },
  {
   "cell_type": "code",
   "execution_count": null,
   "id": "358cb333-add3-40fb-9b9b-228940f69b40",
   "metadata": {},
   "outputs": [],
   "source": [
    "#upper 메서드를 호출하면 문자열을 대문자로 만들 수 있습니다. 다만 이 경우에도 원본 문자열은 유지되고 대문자로 변경된 새로운 문자열 객체가 반환되는 겁니다.\n",
    "#반환된 새로운 객체를 새로운 변수로 바인딩한 후 이를 print 함수로 출력하면 됩니다.\n",
    "ticker = \"btc_krw\"\n",
    "ticker1 = ticker.upper()\n",
    "print(ticker1)"
   ]
  },
  {
   "cell_type": "code",
   "execution_count": null,
   "id": "7e108c1e-474e-4113-b87a-e5bb53a33edc",
   "metadata": {},
   "outputs": [],
   "source": [
    "# 042 lower 메서드\n",
    "다음과 같은 문자열이 있을 때 이를 소문자 btc_krw로 변경하세요.\n",
    "\n",
    "ticker = \"BTC_KRW\""
   ]
  },
  {
   "cell_type": "code",
   "execution_count": 127,
   "id": "c3047a42-91a4-4dc9-a6b2-9c7f41a84096",
   "metadata": {},
   "outputs": [
    {
     "name": "stdout",
     "output_type": "stream",
     "text": [
      "btc_krw\n"
     ]
    }
   ],
   "source": [
    "ticker = \"BTC_KRW\"\n",
    "\n",
    "print(ticker.lower())"
   ]
  },
  {
   "cell_type": "code",
   "execution_count": 150,
   "id": "1ddf9cd0-2589-4445-89f2-0f43d734ffdc",
   "metadata": {},
   "outputs": [
    {
     "name": "stdout",
     "output_type": "stream",
     "text": [
      "btc_krw\n"
     ]
    }
   ],
   "source": [
    "#lower 메서드를\n",
    "ticker = \"BTC_KRW\"\n",
    "ticker = ticker.lower()\n",
    "print(ticker)"
   ]
  },
  {
   "cell_type": "code",
   "execution_count": 149,
   "id": "63e831c5-376c-43ab-80b5-cd0acdb0213d",
   "metadata": {},
   "outputs": [
    {
     "ename": "SyntaxError",
     "evalue": "invalid syntax (846362474.py, line 2)",
     "output_type": "error",
     "traceback": [
      "\u001b[1;36m  Cell \u001b[1;32mIn[149], line 2\u001b[1;36m\u001b[0m\n\u001b[1;33m    문자열 'hello'가 있을 때 이를 'Hello'로 변경해보세요.\u001b[0m\n\u001b[1;37m        ^\u001b[0m\n\u001b[1;31mSyntaxError\u001b[0m\u001b[1;31m:\u001b[0m invalid syntax\n"
     ]
    }
   ],
   "source": [
    "# 043 capitalize 메서드\n",
    "문자열 'hello'가 있을 때 이를 'Hello'로 변경해보세요."
   ]
  },
  {
   "cell_type": "code",
   "execution_count": 131,
   "id": "98d1d65a-85a0-4111-87dc-32bb31dc88eb",
   "metadata": {},
   "outputs": [
    {
     "name": "stdout",
     "output_type": "stream",
     "text": [
      "Hello\n"
     ]
    }
   ],
   "source": [
    "a = 'hello'\n",
    "a = a.capitalize()\n",
    "print(a)"
   ]
  },
  {
   "cell_type": "code",
   "execution_count": 136,
   "id": "3ae544ea-c8b2-4e6e-9da7-114903b48473",
   "metadata": {},
   "outputs": [
    {
     "data": {
      "text/plain": [
       "\u001b[1;31mSignature:\u001b[0m \u001b[0ma\u001b[0m\u001b[1;33m.\u001b[0m\u001b[0mcapitalize\u001b[0m\u001b[1;33m(\u001b[0m\u001b[1;33m)\u001b[0m\u001b[1;33m\u001b[0m\u001b[1;33m\u001b[0m\u001b[0m\n",
       "\u001b[1;31mDocstring:\u001b[0m\n",
       "Return a capitalized version of the string.\n",
       "\n",
       "More specifically, make the first character have upper case and the rest lower\n",
       "case.\n",
       "\u001b[1;31mType:\u001b[0m      builtin_function_or_method"
      ]
     },
     "metadata": {},
     "output_type": "display_data"
    }
   ],
   "source": [
    "a.capitalize?"
   ]
  },
  {
   "cell_type": "code",
   "execution_count": 137,
   "id": "425e4a5b-45be-46bb-868b-202294d60b95",
   "metadata": {},
   "outputs": [
    {
     "name": "stdout",
     "output_type": "stream",
     "text": [
      "Hello abcdefg\n"
     ]
    }
   ],
   "source": [
    "# 첫글자는 대문자로 나머지는 소문자로 변환\n",
    "a = 'hello ABCDEFG'\n",
    "a = a.capitalize()\n",
    "print(a)"
   ]
  },
  {
   "cell_type": "code",
   "execution_count": null,
   "id": "3dbffeab-848f-45fa-a57b-3ae0d071429e",
   "metadata": {},
   "outputs": [],
   "source": [
    "# 044 endswith 메서드\n",
    "파일 이름이 문자열로 저장되어 있을 때 endswith 메서드를 사용해서 파일 이름이 'xlsx'로 끝나는지 확인해보세요.\n",
    "\n",
    "file_name = \"보고서.xlsx\""
   ]
  },
  {
   "cell_type": "code",
   "execution_count": 138,
   "id": "84c75c1a-ed44-4758-95c0-6d60e7c1e2bc",
   "metadata": {},
   "outputs": [
    {
     "data": {
      "text/plain": [
       "True"
      ]
     },
     "execution_count": 138,
     "metadata": {},
     "output_type": "execute_result"
    }
   ],
   "source": [
    "file_name = \"보고서.xlsx\"\n",
    "file_name.endswith(\"xlsx\")"
   ]
  },
  {
   "cell_type": "code",
   "execution_count": null,
   "id": "941a1041-0777-426e-876b-4c5b9db1aa39",
   "metadata": {},
   "outputs": [],
   "source": [
    "# 045 endswith 메서드\n",
    "파일 이름이 문자열로 저장되어 있을 때 endswith 메서드를 사용해서 파일 이름이 'xlsx' 또는 'xls'로 끝나는지 확인해보세요.\n",
    "\n",
    "file_name = \"보고서.xlsx\""
   ]
  },
  {
   "cell_type": "code",
   "execution_count": 139,
   "id": "b8d67ea7-f2b4-4ee7-835f-59e2e1e985c0",
   "metadata": {},
   "outputs": [
    {
     "data": {
      "text/plain": [
       "True"
      ]
     },
     "execution_count": 139,
     "metadata": {},
     "output_type": "execute_result"
    }
   ],
   "source": [
    "file_name = \"보고서.xlsx\"\n",
    "file_name.endswith((\"xlsx\", \"xls\"))"
   ]
  },
  {
   "cell_type": "code",
   "execution_count": null,
   "id": "495d39ba-3360-4c4a-9734-c38f902c61f8",
   "metadata": {},
   "outputs": [],
   "source": [
    "# 046 startswith 메서드\n",
    "파일 이름이 문자열로 저장되어 있을 때 startswith 메서드를 사용해서 파일 이름이 '2020'로 시작하는지 확인해보세요.\n",
    "\n",
    "file_name = \"2020_보고서.xlsx\""
   ]
  },
  {
   "cell_type": "code",
   "execution_count": 140,
   "id": "fd4ae9dd-439a-4eca-b792-77bcfc1467ca",
   "metadata": {},
   "outputs": [
    {
     "data": {
      "text/plain": [
       "True"
      ]
     },
     "execution_count": 140,
     "metadata": {},
     "output_type": "execute_result"
    }
   ],
   "source": [
    "file_name = \"2020_보고서.xlsx\"\n",
    "file_name.startswith(\"2020\")"
   ]
  },
  {
   "cell_type": "code",
   "execution_count": null,
   "id": "f814c253-3761-4aba-80e0-eea7ff2cfdb6",
   "metadata": {},
   "outputs": [],
   "source": [
    "# 047 split 메서드\n",
    "다음과 같은 문자열이 있을 때 공백을 기준으로 문자열을 나눠보세요.\n",
    "\n",
    "a = \"hello world\""
   ]
  },
  {
   "cell_type": "code",
   "execution_count": 141,
   "id": "a88d38b6-3822-4e9b-b2e6-238689b45d0a",
   "metadata": {},
   "outputs": [
    {
     "data": {
      "text/plain": [
       "['hello', 'world']"
      ]
     },
     "execution_count": 141,
     "metadata": {},
     "output_type": "execute_result"
    }
   ],
   "source": [
    "a = \"hello world\"\n",
    "a.split()"
   ]
  },
  {
   "cell_type": "code",
   "execution_count": null,
   "id": "0aa5b29b-64f4-4044-a67a-08ead1aa6b46",
   "metadata": {},
   "outputs": [],
   "source": [
    "# 048 split 메서드\n",
    "#문자열에서 split() 메서드는 문자열을 분리할 때 사용합니다. 이때 어떤 값을 넘겨주면 그 값을 기준으로 문자열을 분리해줍니다.\n",
    "다음과 같이 문자열이 있을 때 btc와 krw로 나눠보세요.\n",
    "\n",
    "ticker = \"btc_krw\""
   ]
  },
  {
   "cell_type": "code",
   "execution_count": 142,
   "id": "d353f100-4ee4-4ac7-9eca-9cbe8cb6cd96",
   "metadata": {},
   "outputs": [
    {
     "data": {
      "text/plain": [
       "['btc', 'krw']"
      ]
     },
     "execution_count": 142,
     "metadata": {},
     "output_type": "execute_result"
    }
   ],
   "source": [
    "ticker = \"btc_krw\"\n",
    "ticker.split(\"_\")"
   ]
  },
  {
   "cell_type": "code",
   "execution_count": null,
   "id": "d7930ab8-0911-454e-b6f3-d301e183354c",
   "metadata": {},
   "outputs": [],
   "source": [
    "# 049 split 메서드\n",
    "다음과 같이 날짜를 표현하는 문자열이 있을 때 연도, 월, 일로 나눠보세요.\n",
    "\n",
    "date = \"2020-05-01\""
   ]
  },
  {
   "cell_type": "code",
   "execution_count": 143,
   "id": "f4564385-57cd-4211-bae5-23af5565b4a9",
   "metadata": {},
   "outputs": [
    {
     "data": {
      "text/plain": [
       "['2020', '05', '01']"
      ]
     },
     "execution_count": 143,
     "metadata": {},
     "output_type": "execute_result"
    }
   ],
   "source": [
    "date = \"2020-05-01\"\n",
    "date.split('-')"
   ]
  },
  {
   "cell_type": "code",
   "execution_count": null,
   "id": "84efb66e-6a3d-4870-aee7-85f57e2007c3",
   "metadata": {},
   "outputs": [],
   "source": [
    "# 050 rstrip 메서드\n",
    "문자열의 오른쪽에 공백이 있을 때 이를 제거해보세요.\n",
    "\n",
    "data = \"039490     \""
   ]
  },
  {
   "cell_type": "code",
   "execution_count": 147,
   "id": "c6c7a615-47a4-4ace-9fef-fab990316cb1",
   "metadata": {},
   "outputs": [
    {
     "data": {
      "text/plain": [
       "'039490'"
      ]
     },
     "execution_count": 147,
     "metadata": {},
     "output_type": "execute_result"
    }
   ],
   "source": [
    "data = \"039490     \"\n",
    "data2 = data.rstrip()\n",
    "data2"
   ]
  },
  {
   "cell_type": "markdown",
   "id": "1846b055-9de8-498c-b2fa-5938047c4c7c",
   "metadata": {},
   "source": [
    "# 파이썬 리스트"
   ]
  },
  {
   "cell_type": "markdown",
   "id": "f5a9c33b-4d92-4d4b-9c06-c09e4d40e2b4",
   "metadata": {},
   "source": [
    "## 051 ~ 060"
   ]
  },
  {
   "cell_type": "code",
   "execution_count": null,
   "id": "251201e5-b847-4a86-b0e9-f469bc355054",
   "metadata": {},
   "outputs": [],
   "source": [
    "# 051 리스트 생성\n",
    "2016년 11월 영화 예매 순위 기준 top3는 다음과 같습니다. 영화 제목을 movie_rank 이름의 리스트에 저장해보세요. (순위 정보는 저장하지 않습니다.)"
   ]
  },
  {
   "cell_type": "markdown",
   "id": "c381e01e-07e0-449c-8fc5-8e5d2fe9fa61",
   "metadata": {},
   "source": [
    "|순위|영화|\n",
    "|---|---|\n",
    "|1|닥터 스트레인지|\n",
    "|2|스플릿|\n",
    "|3|럭키|"
   ]
  },
  {
   "cell_type": "code",
   "execution_count": 153,
   "id": "fee29ef4-252f-47c1-b72c-098d26063fc0",
   "metadata": {},
   "outputs": [
    {
     "data": {
      "text/plain": [
       "['닥터 스트레인지', '스플릿', '럭키']"
      ]
     },
     "execution_count": 153,
     "metadata": {},
     "output_type": "execute_result"
    }
   ],
   "source": [
    "movie_rank = [\"닥터 스트레인지\", \"스플릿\", \"럭키\"]\n",
    "movie_rank"
   ]
  },
  {
   "cell_type": "code",
   "execution_count": null,
   "id": "39552890-aa29-48b5-92d4-ad99107e1b0f",
   "metadata": {},
   "outputs": [],
   "source": [
    "# 052 리스트에 원소 추가\n",
    "051의 movie_rank 리스트에 \"배트맨\"을 추가하라."
   ]
  },
  {
   "cell_type": "code",
   "execution_count": 156,
   "id": "ba31d410-7820-47b8-b070-eb413eb00e0a",
   "metadata": {},
   "outputs": [
    {
     "data": {
      "text/plain": [
       "['닥터 스트레인지', '스플릿', '럭키', '배트맨']"
      ]
     },
     "execution_count": 156,
     "metadata": {},
     "output_type": "execute_result"
    }
   ],
   "source": [
    "movie_rank = [\"닥터 스트레인지\", \"스플릿\", \"럭키\"]\n",
    "movie_rank.append(\"배트맨\")\n",
    "movie_rank"
   ]
  },
  {
   "cell_type": "code",
   "execution_count": null,
   "id": "26b3c89b-4613-4594-b458-a9219b78cdd1",
   "metadata": {},
   "outputs": [],
   "source": [
    "# 053 \n",
    "movie_rank 리스트에는 아래와 같이 네 개의 영화 제목이 바인딩되어 있다. \"슈퍼맨\"을 \"닥터 스트레인지\"와 \"스플릿\" 사이에 추가하라.\n",
    "movie_rank = ['닥터 스트레인지', '스플릿', '럭키', '배트맨']"
   ]
  },
  {
   "cell_type": "code",
   "execution_count": 160,
   "id": "4ff40d84-fba6-4fea-a241-a346c433d6ce",
   "metadata": {},
   "outputs": [
    {
     "name": "stdout",
     "output_type": "stream",
     "text": [
      "['닥터 스트레인지', '슈퍼맨', '스플릿', '럭키', '배트맨']\n"
     ]
    }
   ],
   "source": [
    "#리스트의 `insert(인덱스, 원소)` 메서드를 사용하면 특정 위치에 값을 끼어넣기 할 수 있습니다\n",
    "movie_rank = ['닥터 스트레인지', '스플릿', '럭키', '배트맨']\n",
    "movie_rank.insert(1, \"슈퍼맨\")\n",
    "print(movie_rank)"
   ]
  },
  {
   "cell_type": "code",
   "execution_count": null,
   "id": "d0b5f335-08e3-4a13-9783-49ee100e90b4",
   "metadata": {},
   "outputs": [],
   "source": [
    "# 054\n",
    "movie_rank = ['닥터 스트레인지', '슈퍼맨', '스플릿', '럭키', '배트맨']"
   ]
  },
  {
   "cell_type": "code",
   "execution_count": 161,
   "id": "d80f4acb-2bfb-4a0e-be1a-53e282529130",
   "metadata": {},
   "outputs": [
    {
     "name": "stdout",
     "output_type": "stream",
     "text": [
      "['닥터 스트레인지', '슈퍼맨', '스플릿', '배트맨']\n"
     ]
    }
   ],
   "source": [
    "movie_rank = ['닥터 스트레인지', '슈퍼맨', '스플릿', '럭키', '배트맨']\n",
    "del movie_rank[3]\n",
    "print(movie_rank)"
   ]
  },
  {
   "cell_type": "code",
   "execution_count": null,
   "id": "2b030db4-25b1-4726-a562-a06b8a2f72de",
   "metadata": {},
   "outputs": [],
   "source": [
    "# 055\n",
    "movie_rank 리스트에서 '스플릿' 과 '배트맨'을 를 삭제하라.\n",
    "\n",
    "movie_rank = ['닥터 스트레인지', '슈퍼맨', '스플릿', '배트맨']"
   ]
  },
  {
   "cell_type": "code",
   "execution_count": 162,
   "id": "97dd82a1-6fc4-4195-85d9-893e17792003",
   "metadata": {},
   "outputs": [
    {
     "name": "stdout",
     "output_type": "stream",
     "text": [
      "['닥터 스트레인지', '슈퍼맨']\n"
     ]
    }
   ],
   "source": [
    "#del을 이용하여 리스트에서 원소를 삭제할 수 있습니다. 리스트에서 어떤 값을 삭제하면 남은 값들은 새로 인덱싱됩니다. \n",
    "#따라서 여러 값을 삭제할 때는 어떤 값이 먼저 삭제된 후 남은 원소들에 대해서 순서를 새로 고려한 후 삭제해야 합니다.\n",
    "movie_rank = ['닥터 스트레인지', '슈퍼맨', '스플릿', '배트맨']\n",
    "del movie_rank[2]\n",
    "del movie_rank[2]\n",
    "print(movie_rank)"
   ]
  },
  {
   "cell_type": "code",
   "execution_count": null,
   "id": "f5eaefc1-a606-4a4a-8bdb-04cb1957c3f3",
   "metadata": {},
   "outputs": [],
   "source": [
    "# 056\n",
    "lang1과 lang2 리스트가 있을 때 lang1과 lang2의 원소를 모두 갖고 있는 langs 리스트를 만들어라.\n",
    "\n",
    ">> lang1 = [\"C\", \"C++\", \"JAVA\"]\n",
    ">> lang2 = [\"Python\", \"Go\", \"C#\"]\n",
    "실행 예:\n",
    ">> langs\n",
    "['C', 'C++', 'JAVA', 'Python', 'Go', 'C#']"
   ]
  },
  {
   "cell_type": "code",
   "execution_count": 165,
   "id": "0092b960-1de0-46ee-8bc4-b446e9fffb51",
   "metadata": {},
   "outputs": [
    {
     "name": "stdout",
     "output_type": "stream",
     "text": [
      "['C', 'C++', 'JAVA', 'Python', 'Go', 'C#']\n"
     ]
    }
   ],
   "source": [
    "lang1 = [\"C\", \"C++\", \"JAVA\"]\n",
    "lang2 = [\"Python\", \"Go\", \"C#\"]\n",
    "\n",
    "langs = lang1 + lang2\n",
    "print(langs)"
   ]
  },
  {
   "cell_type": "code",
   "execution_count": null,
   "id": "7f942240-5327-434a-9a57-76145d405b1c",
   "metadata": {},
   "outputs": [],
   "source": [
    "# 057\n",
    "다음 리스트에서 최댓값과 최솟값을 출력하라. (힌트: min(), max() 함수 사용)\n",
    "\n",
    "nums = [1, 2, 3, 4, 5, 6, 7]\n",
    "실행 예:\n",
    "max:  7\n",
    "min:  1"
   ]
  },
  {
   "cell_type": "code",
   "execution_count": 169,
   "id": "8f311a2f-eaf0-4f19-a848-e08d3ce58152",
   "metadata": {},
   "outputs": [
    {
     "name": "stdout",
     "output_type": "stream",
     "text": [
      "max: 7\n",
      "min: 1\n"
     ]
    }
   ],
   "source": [
    "nums = [1, 2, 3, 4, 5, 6, 7]\n",
    "\n",
    "print(\"max:\",max(nums))\n",
    "print(\"min:\",min(nums))"
   ]
  },
  {
   "cell_type": "code",
   "execution_count": null,
   "id": "0d9b6d5a-e5e0-4ac2-b8c0-fd12e1563acd",
   "metadata": {},
   "outputs": [],
   "source": [
    "# 058\n",
    "다음 리스트의 합을 출력하라.\n",
    "\n",
    "nums = [1, 2, 3, 4, 5]\n",
    "실행 예:\n",
    "15"
   ]
  },
  {
   "cell_type": "code",
   "execution_count": 170,
   "id": "f16f9846-d1ed-43aa-b0b9-d58c40579e16",
   "metadata": {},
   "outputs": [
    {
     "name": "stdout",
     "output_type": "stream",
     "text": [
      "15\n"
     ]
    }
   ],
   "source": [
    "nums = [1, 2, 3, 4, 5]\n",
    "\n",
    "print(sum(nums))"
   ]
  },
  {
   "cell_type": "code",
   "execution_count": null,
   "id": "8e574f12-c28e-41aa-a65c-65dfd58134a8",
   "metadata": {},
   "outputs": [],
   "source": [
    "# 059\n",
    "다음 리스트에 저장된 데이터의 개수를 화면에 구하하라.\n",
    "\n",
    "cook = [\"피자\", \"김밥\", \"만두\", \"양념치킨\", \"족발\", \"피자\", \"김치만두\", \"쫄면\", \"소시지\", \"라면\", \"팥빙수\", \"김치전\"]"
   ]
  },
  {
   "cell_type": "code",
   "execution_count": 172,
   "id": "eaea2a99-e5d2-488e-b3f8-df7e36b138dc",
   "metadata": {},
   "outputs": [
    {
     "name": "stdout",
     "output_type": "stream",
     "text": [
      "12\n"
     ]
    }
   ],
   "source": [
    "cook = [\"피자\", \"김밥\", \"만두\", \"양념치킨\", \"족발\", \"피자\", \"김치만두\", \"쫄면\", \"소시지\", \"라면\", \"팥빙수\", \"김치전\"]\n",
    "\n",
    "print(len(cook))"
   ]
  },
  {
   "cell_type": "code",
   "execution_count": null,
   "id": "186572d2-3f84-437f-b714-ece32021b1e4",
   "metadata": {},
   "outputs": [],
   "source": [
    "# 060\n",
    "다음 리스트의 평균을 출력하라.\n",
    "\n",
    "nums = [1, 2, 3, 4, 5]\n",
    "실행 예:\n",
    "3.0"
   ]
  },
  {
   "cell_type": "code",
   "execution_count": 178,
   "id": "b40df8c1-3cdf-4f90-a9d1-83e3ab4b8628",
   "metadata": {},
   "outputs": [
    {
     "name": "stdout",
     "output_type": "stream",
     "text": [
      "3.0\n"
     ]
    }
   ],
   "source": [
    "nums = [1, 2, 3, 4, 5]\n",
    "\n",
    "print(sum(nums)/len(nums))"
   ]
  },
  {
   "cell_type": "code",
   "execution_count": null,
   "id": "67fab0bc-4dab-40ab-aea3-5a4d7682fcdb",
   "metadata": {},
   "outputs": [],
   "source": [
    "nums = [1, 2, 3, 4, 5]\n",
    "average = sum(nums) / len(nums)\n",
    "print(average)"
   ]
  },
  {
   "cell_type": "markdown",
   "id": "799fd010-cd4a-4356-8c13-e040595bc712",
   "metadata": {},
   "source": [
    "## 061 ~ 070"
   ]
  },
  {
   "cell_type": "code",
   "execution_count": null,
   "id": "a3168fb2-537f-46d3-a351-ae879f22ea3b",
   "metadata": {},
   "outputs": [],
   "source": [
    "# 061\n",
    "price 변수에는 날짜와 종가 정보가 저장돼 있다. 날짜 정보를 제외하고 가격 정보만을 출력하라. (힌트 : 슬라이싱)\n",
    "\n",
    "price = ['20180728', 100, 130, 140, 150, 160, 170]\n",
    "출력 예시:\n",
    "[100, 130, 140, 150, 160, 170]"
   ]
  },
  {
   "cell_type": "code",
   "execution_count": 179,
   "id": "9f8b358c-e0b8-4240-8545-67f1b597a181",
   "metadata": {},
   "outputs": [
    {
     "name": "stdout",
     "output_type": "stream",
     "text": [
      "[100, 130, 140, 150, 160, 170]\n"
     ]
    }
   ],
   "source": [
    "price = ['20180728', 100, 130, 140, 150, 160, 170]\n",
    "print(price[1:])"
   ]
  },
  {
   "cell_type": "code",
   "execution_count": null,
   "id": "2f3ac5c7-d748-4580-a373-a6d54f6b7b9e",
   "metadata": {},
   "outputs": [],
   "source": [
    "# 062\n",
    "슬라이싱을 사용해서 홀수만 출력하라.\n",
    "\n",
    "nums = [1, 2, 3, 4, 5, 6, 7, 8, 9, 10]\n",
    "실행 예:\n",
    "[1, 3, 5, 7, 9]"
   ]
  },
  {
   "cell_type": "code",
   "execution_count": 185,
   "id": "68f27d0a-adcc-4345-9c01-97131cf931af",
   "metadata": {},
   "outputs": [
    {
     "name": "stdout",
     "output_type": "stream",
     "text": [
      "[1, 3, 5, 7, 9]\n"
     ]
    }
   ],
   "source": [
    "nums = [1, 2, 3, 4, 5, 6, 7, 8, 9, 10]\n",
    "\n",
    "print(nums[::2])"
   ]
  },
  {
   "cell_type": "code",
   "execution_count": null,
   "id": "8daa5c03-8a47-41d5-85a4-6e8b794b7351",
   "metadata": {},
   "outputs": [],
   "source": [
    "# 063 슬라이싱을 사용해서 짝수만 출력하라.\n",
    "\n",
    "nums = [1, 2, 3, 4, 5, 6, 7, 8, 9, 10]\n",
    "실행 예:\n",
    "[2, 4, 6, 8, 10]"
   ]
  },
  {
   "cell_type": "code",
   "execution_count": 195,
   "id": "ca1a31ec-a9ae-40ea-9e0c-28f8379ebf6d",
   "metadata": {},
   "outputs": [
    {
     "name": "stdout",
     "output_type": "stream",
     "text": [
      "[2, 4, 6, 8, 10]\n"
     ]
    }
   ],
   "source": [
    "nums = [1, 2, 3, 4, 5, 6, 7, 8, 9, 10]\n",
    "\n",
    "print(nums[1::2])"
   ]
  },
  {
   "cell_type": "code",
   "execution_count": null,
   "id": "678a8f21-123c-438c-8aa9-a0824e431ada",
   "metadata": {},
   "outputs": [],
   "source": [
    "# 064\n",
    "슬라이싱을 사용해서 리스트의 숫자를 역 방향으로 출력하라.\n",
    "\n",
    "nums = [1, 2, 3, 4, 5]\n",
    "실행 예:\n",
    "[5, 4, 3, 2, 1]"
   ]
  },
  {
   "cell_type": "code",
   "execution_count": 183,
   "id": "390c53c7-dc3a-45f2-9544-dd4076543de3",
   "metadata": {},
   "outputs": [
    {
     "name": "stdout",
     "output_type": "stream",
     "text": [
      "[5, 4, 3, 2, 1]\n"
     ]
    }
   ],
   "source": [
    "nums = [1, 2, 3, 4, 5]\n",
    "\n",
    "print(nums[::-1])"
   ]
  },
  {
   "cell_type": "code",
   "execution_count": null,
   "id": "48b924c8-534f-44dc-8ded-99501a10594e",
   "metadata": {},
   "outputs": [],
   "source": [
    "# 065\n",
    "interest 리스트에는 아래의 데이터가 바인딩되어 있다.\n",
    "\n",
    "interest = ['삼성전자', 'LG전자', 'Naver']\n",
    "interest 리스트를 사용하여 아래와 같이 화면에 출력하라.\n",
    "\n",
    "출력 예시:\n",
    "삼성전자 Naver"
   ]
  },
  {
   "cell_type": "code",
   "execution_count": 186,
   "id": "77fe09a9-f0fe-4c14-a877-90dda1533d3e",
   "metadata": {},
   "outputs": [
    {
     "name": "stdout",
     "output_type": "stream",
     "text": [
      "삼성전자 Naver\n"
     ]
    }
   ],
   "source": [
    "interest = ['삼성전자', 'LG전자', 'Naver']\n",
    "\n",
    "print(interest[0],interest[2])"
   ]
  },
  {
   "cell_type": "code",
   "execution_count": null,
   "id": "2c73b327-c903-44e7-997f-9524382d3fce",
   "metadata": {},
   "outputs": [],
   "source": [
    "# 066  join 메서드\n",
    "interest 리스트에는 아래의 데이터가 바인딩되어 있다.\n",
    "\n",
    "interest = ['삼성전자', 'LG전자', 'Naver', 'SK하이닉스', '미래에셋대우']\n",
    "interest 리스트를 사용하여 아래와 같이 화면에 출력하라.\n",
    "\n",
    "출력 예시:\n",
    "삼성전자 LG전자 Naver SK하이닉스 미래에셋대우"
   ]
  },
  {
   "cell_type": "code",
   "execution_count": 191,
   "id": "f4916f8e-9d72-4dad-a893-f80b6c4e8d5e",
   "metadata": {},
   "outputs": [
    {
     "name": "stdout",
     "output_type": "stream",
     "text": [
      "삼성전자 LG전자 Naver SK하이닉스 미래에셋대우\n"
     ]
    }
   ],
   "source": [
    "interest = ['삼성전자', 'LG전자', 'Naver', 'SK하이닉스', '미래에셋대우']\n",
    "\n",
    "print(\" \".join(interest))"
   ]
  },
  {
   "cell_type": "code",
   "execution_count": null,
   "id": "824f0c75-6f81-4a38-8e9d-4669bc2918b4",
   "metadata": {},
   "outputs": [],
   "source": [
    "# 067 join 메서드\n",
    "interest 리스트에는 아래의 데이터가 바인딩되어 있다.\n",
    "\n",
    "interest = ['삼성전자', 'LG전자', 'Naver', 'SK하이닉스', '미래에셋대우']\n",
    "interest 리스트를 사용하여 아래와 같이 화면에 출력하라.\n",
    "\n",
    "출력 예시:\n",
    "삼성전자/LG전자/Naver/SK하이닉스/미래에셋대우"
   ]
  },
  {
   "cell_type": "code",
   "execution_count": 192,
   "id": "1cc9a895-a039-400a-a11f-16464a7ad909",
   "metadata": {},
   "outputs": [
    {
     "name": "stdout",
     "output_type": "stream",
     "text": [
      "삼성전자/LG전자/Naver/SK하이닉스/미래에셋대우\n"
     ]
    }
   ],
   "source": [
    "interest = ['삼성전자', 'LG전자', 'Naver', 'SK하이닉스', '미래에셋대우']\n",
    "\n",
    "print(\"/\".join(interest))"
   ]
  },
  {
   "cell_type": "code",
   "execution_count": 193,
   "id": "424d2cf7-85b3-448d-856c-261520a851d3",
   "metadata": {},
   "outputs": [
    {
     "name": "stdout",
     "output_type": "stream",
     "text": [
      "삼성전자LG전자NaverSK하이닉스미래에셋대우\n"
     ]
    }
   ],
   "source": [
    "interest = ['삼성전자', 'LG전자', 'Naver', 'SK하이닉스', '미래에셋대우']\n",
    "\n",
    "print(\"\".join(interest))"
   ]
  },
  {
   "cell_type": "code",
   "execution_count": null,
   "id": "49a59baa-eaa0-4f3a-bae0-c3152ead8862",
   "metadata": {},
   "outputs": [],
   "source": [
    "# 068 join 메서드\n",
    "interest 리스트에는 아래의 데이터가 바인딩되어 있다.\n",
    "\n",
    "interest = ['삼성전자', 'LG전자', 'Naver', 'SK하이닉스', '미래에셋대우']\n",
    "join() 메서드를 사용해서 interest 리스트를 아래와 같이 화면에 출력하라.\n",
    "\n",
    "출력 예시:\n",
    "삼성전자\n",
    "LG전자\n",
    "Naver\n",
    "SK하이닉스\n",
    "미래에셋대우"
   ]
  },
  {
   "cell_type": "code",
   "execution_count": 197,
   "id": "c168858c-8635-4417-8954-37558310c47c",
   "metadata": {},
   "outputs": [
    {
     "name": "stdout",
     "output_type": "stream",
     "text": [
      "삼성전자\n",
      "LG전자\n",
      "Naver\n",
      "SK하이닉스\n",
      "미래에셋대우\n"
     ]
    }
   ],
   "source": [
    "interest = ['삼성전자', 'LG전자', 'Naver', 'SK하이닉스', '미래에셋대우']\n",
    "\n",
    "print(\"\\n\".join(interest))"
   ]
  },
  {
   "cell_type": "code",
   "execution_count": null,
   "id": "21d5492a-7f61-4f70-ac50-3ed0d3960b28",
   "metadata": {},
   "outputs": [],
   "source": [
    "# 069 문자열 split 메서드\n",
    "회사 이름이 슬래시 ('/')로 구분되어 하나의 문자열로 저장되어 있다.\n",
    "\n",
    "string = \"삼성전자/LG전자/Naver\"\n",
    "이를 interest 이름의 리스트로 분리 저장하라.\n",
    "\n",
    "실행 예시\n",
    ">> print(interest)\n",
    "['삼성전자', 'LG전자', 'Naver']"
   ]
  },
  {
   "cell_type": "code",
   "execution_count": 199,
   "id": "b50c7813-372c-4c6a-bff6-20c1e460d814",
   "metadata": {},
   "outputs": [
    {
     "name": "stdout",
     "output_type": "stream",
     "text": [
      "['삼성전자', 'LG전자', 'Naver']\n"
     ]
    }
   ],
   "source": [
    "string = \"삼성전자/LG전자/Naver\"\n",
    "\n",
    "interest = string.split(\"/\")\n",
    "\n",
    "print(interest)"
   ]
  },
  {
   "cell_type": "code",
   "execution_count": null,
   "id": "e1a0d0c8-5126-43bb-a7d2-a2045652e83e",
   "metadata": {},
   "outputs": [],
   "source": [
    "# 070 리스트 정렬\n",
    "리스트에 있는 값을 오름차순으로 정렬하세요.\n",
    "\n",
    "data = [2, 4, 3, 1, 5, 10, 9]"
   ]
  },
  {
   "cell_type": "code",
   "execution_count": 200,
   "id": "54c80dd9-95db-4896-ab29-c8dcc4cfc97b",
   "metadata": {},
   "outputs": [
    {
     "name": "stdout",
     "output_type": "stream",
     "text": [
      "[1, 2, 3, 4, 5, 9, 10]\n"
     ]
    }
   ],
   "source": [
    "data = [2, 4, 3, 1, 5, 10, 9]\n",
    "\n",
    "data.sort()\n",
    "\n",
    "print(data)"
   ]
  },
  {
   "cell_type": "code",
   "execution_count": 201,
   "id": "99367b9b-e993-4cfe-a4a4-baef41e9ef7e",
   "metadata": {},
   "outputs": [
    {
     "name": "stdout",
     "output_type": "stream",
     "text": [
      "[1, 2, 3, 4, 5, 9, 10]\n"
     ]
    }
   ],
   "source": [
    "data = [2, 4, 3, 1, 5, 10, 9]\n",
    "\n",
    "data2 = sorted(data)\n",
    "\n",
    "print(data2)"
   ]
  },
  {
   "cell_type": "markdown",
   "id": "4251996f-b536-4dd0-be38-1ebdd9a847a9",
   "metadata": {},
   "source": [
    "# 파이썬 튜플"
   ]
  },
  {
   "cell_type": "markdown",
   "id": "7ed92d1e-6196-4959-8dff-4274d27a43ba",
   "metadata": {},
   "source": [
    "## 071 ~ 080"
   ]
  },
  {
   "cell_type": "code",
   "execution_count": null,
   "id": "bbecf694-d742-4323-9aba-34961167e0e2",
   "metadata": {},
   "outputs": [],
   "source": [
    "# 071\n",
    "my_variable 이름의 비어있는 튜플을 만들라."
   ]
  },
  {
   "cell_type": "code",
   "execution_count": 204,
   "id": "33fec079-c74b-4151-a81a-34aa898a152e",
   "metadata": {},
   "outputs": [
    {
     "name": "stdout",
     "output_type": "stream",
     "text": [
      "() <class 'tuple'>\n"
     ]
    }
   ],
   "source": [
    "my_variable = ()\n",
    "print(my_variable, type(my_variable))"
   ]
  },
  {
   "cell_type": "code",
   "execution_count": null,
   "id": "7b8ef487-8f27-455f-88bb-ba52472d526e",
   "metadata": {},
   "outputs": [],
   "source": [
    "# 072\n",
    "2016년 11월 영화 예매 순위 기준 top3는 다음과 같다. 영화 제목을 movie_rank 이름의 튜플에 저장하라. (순위 정보는 저장하지 않는다.)"
   ]
  },
  {
   "cell_type": "markdown",
   "id": "c9d16b26-d5aa-4f0b-a8ff-615a9c32e7d0",
   "metadata": {},
   "source": [
    "|순위|영화|\n",
    "|---|---|\n",
    "|1|닥터 스트레인지|\n",
    "|2|스플릿|\n",
    "|3|럭키|"
   ]
  },
  {
   "cell_type": "code",
   "execution_count": 207,
   "id": "7102f560-71ea-405b-9130-55428f6f6518",
   "metadata": {},
   "outputs": [
    {
     "name": "stdout",
     "output_type": "stream",
     "text": [
      "('닥터 스트레인지', '스플릿', '럭키')\n"
     ]
    }
   ],
   "source": [
    " movie_rank = ('닥터 스트레인지', '스플릿', '럭키')\n",
    "\n",
    "print(movie_rank)"
   ]
  },
  {
   "cell_type": "code",
   "execution_count": null,
   "id": "b7c1f296-a8ae-44ce-ab92-de66235134b6",
   "metadata": {},
   "outputs": [],
   "source": [
    "# 073\n",
    "숫자 1 이 저장된 튜플을 생성하라."
   ]
  },
  {
   "cell_type": "code",
   "execution_count": 211,
   "id": "a6a28006-74ad-41a0-b45b-8b68b172c0d7",
   "metadata": {},
   "outputs": [
    {
     "name": "stdout",
     "output_type": "stream",
     "text": [
      "<class 'int'>\n"
     ]
    }
   ],
   "source": [
    "my_tuple = (1)\n",
    "print(type (my_tuple))"
   ]
  },
  {
   "cell_type": "code",
   "execution_count": 212,
   "id": "88baead1-f296-43b1-a95a-3f189ae3638b",
   "metadata": {},
   "outputs": [
    {
     "name": "stdout",
     "output_type": "stream",
     "text": [
      "<class 'tuple'>\n"
     ]
    }
   ],
   "source": [
    "my_tuple = (1, )\n",
    "print(type (my_tuple))"
   ]
  },
  {
   "cell_type": "markdown",
   "id": "74f87d91-cc72-428a-951d-23946547f3ac",
   "metadata": {},
   "source": [
    "괄호와 함께 하나의 정숫값을 저장하면 튜플이 정의 될 것같지만 그렇지 않습니다.   \n",
    "type()을 출력해보면 파이썬은 튜플이 아닌 정수로 인식합니다.   \n",
    "하나의 데이터가 저장되는 경우, 아래와 같이 쉼표를 입력해만 합니다."
   ]
  },
  {
   "cell_type": "code",
   "execution_count": null,
   "id": "c30654c6-0d09-4e28-88b6-767aa4bcd23a",
   "metadata": {},
   "outputs": [],
   "source": [
    "# 074\n",
    "다음 코드를 실행해보고 오류가 발생하는 원인을 설명하라.\n",
    "\n",
    ">> t = (1, 2, 3)\n",
    ">> t[0] = 'a'\n",
    "Traceback (most recent call last):\n",
    "  File \"<pyshell#46>\", line 1, in <module>\n",
    "    t[0] = 'a'\n",
    "TypeError: 'tuple' object does not support item assignment"
   ]
  },
  {
   "cell_type": "code",
   "execution_count": 214,
   "id": "40acfe43-2324-495f-9916-822c507ff48a",
   "metadata": {},
   "outputs": [
    {
     "ename": "TypeError",
     "evalue": "'tuple' object does not support item assignment",
     "output_type": "error",
     "traceback": [
      "\u001b[1;31m---------------------------------------------------------------------------\u001b[0m",
      "\u001b[1;31mTypeError\u001b[0m                                 Traceback (most recent call last)",
      "Cell \u001b[1;32mIn[214], line 2\u001b[0m\n\u001b[0;32m      1\u001b[0m t \u001b[38;5;241m=\u001b[39m (\u001b[38;5;241m1\u001b[39m, \u001b[38;5;241m2\u001b[39m, \u001b[38;5;241m3\u001b[39m)\n\u001b[1;32m----> 2\u001b[0m t[\u001b[38;5;241m0\u001b[39m] \u001b[38;5;241m=\u001b[39m \u001b[38;5;124m'\u001b[39m\u001b[38;5;124ma\u001b[39m\u001b[38;5;124m'\u001b[39m\n",
      "\u001b[1;31mTypeError\u001b[0m: 'tuple' object does not support item assignment"
     ]
    }
   ],
   "source": [
    "t = (1, 2, 3)\n",
    "t[0] = 'a'"
   ]
  },
  {
   "cell_type": "markdown",
   "id": "9cadd3bd-458e-4e0d-b61a-380af7cc27a1",
   "metadata": {},
   "source": [
    "tuple은 원소(element)의 값을 변경할 수 없습니다."
   ]
  },
  {
   "cell_type": "code",
   "execution_count": null,
   "id": "7b4ba2ed-4ef1-463a-a12f-82be70478c1f",
   "metadata": {},
   "outputs": [],
   "source": [
    "# 075\n",
    "아래와 같이 t에는 1, 2, 3, 4 데이터가 바인딩되어 있다. t가 바인딩하는 데이터 타입은 무엇인가?\n",
    "\n",
    "t = 1, 2, 3, 4"
   ]
  },
  {
   "cell_type": "code",
   "execution_count": 215,
   "id": "2f9b5634-58c8-41d3-8478-c371ff5c2877",
   "metadata": {},
   "outputs": [
    {
     "name": "stdout",
     "output_type": "stream",
     "text": [
      "<class 'tuple'>\n"
     ]
    }
   ],
   "source": [
    "t = 1, 2, 3, 4\n",
    "\n",
    "print(type(t))"
   ]
  },
  {
   "cell_type": "markdown",
   "id": "c46d561e-ed1e-4af8-bd00-f5021c21a0f8",
   "metadata": {},
   "source": [
    "원칙적으로 튜플은 괄호와 함께 데이터를 정의해야 하지만, 사용자 편의를 위해 괄호 없이도 동작합니다."
   ]
  },
  {
   "cell_type": "code",
   "execution_count": null,
   "id": "7a209048-af2b-4be6-9987-5ba7420b148d",
   "metadata": {},
   "outputs": [],
   "source": [
    "# 076\n",
    "변수 t에는 아래와 같은 값이 저장되어 있다. 변수 t가 ('A', 'b', 'c') 튜플을 가리키도록 수정 하라.\n",
    "\n",
    "t = ('a', 'b', 'c')"
   ]
  },
  {
   "cell_type": "code",
   "execution_count": 216,
   "id": "72e54fd4-0f63-4cce-bf56-2d1d52416945",
   "metadata": {},
   "outputs": [
    {
     "name": "stdout",
     "output_type": "stream",
     "text": [
      "('a', 'b', 'c')\n",
      "('A', 'B', 'C')\n"
     ]
    }
   ],
   "source": [
    "t = ('a', 'b', 'c')\n",
    "print(t)\n",
    "t = ('A', 'B', 'C')\n",
    "print(t)"
   ]
  },
  {
   "cell_type": "markdown",
   "id": "01ec80a1-153f-4f7b-ac62-3cf852125001",
   "metadata": {},
   "source": [
    "튜플의 값은 변경할 수 없기 때문에, 새로운 튜플을 만들고 t 라는 변수를 업데이트 해야 합니다. 기존의 튜플 ('a', 'b', 'c')은 자동으로 삭제됩니다."
   ]
  },
  {
   "cell_type": "code",
   "execution_count": null,
   "id": "10c6205d-0afc-4582-9204-c9da23da71ed",
   "metadata": {},
   "outputs": [],
   "source": [
    "# 077 \n",
    "다음 튜플을 리스트로 변환하라.\n",
    "\n",
    "interest = ('삼성전자', 'LG전자', 'SK Hynix')"
   ]
  },
  {
   "cell_type": "code",
   "execution_count": 1,
   "id": "fe1df429-4990-4ad6-9eb6-9a39a3f5369c",
   "metadata": {},
   "outputs": [
    {
     "name": "stdout",
     "output_type": "stream",
     "text": [
      "['삼성전자', 'LG전자', 'SK Hynix']\n"
     ]
    }
   ],
   "source": [
    "interest = ('삼성전자', 'LG전자', 'SK Hynix')\n",
    "\n",
    "print(list(interest))"
   ]
  },
  {
   "cell_type": "code",
   "execution_count": 236,
   "id": "6aaf8494-dc31-4f89-ab38-38e7d3f0e3f5",
   "metadata": {},
   "outputs": [],
   "source": [
    "# 078\n",
    "다음 리스트를 튜플로 변경하라.\n",
    "\n",
    "interest = ['삼성전자', 'LG전자', 'SK Hynix']"
   ]
  },
  {
   "cell_type": "code",
   "execution_count": 232,
   "id": "311725ce-e2cd-483b-a10d-05eb81d39d18",
   "metadata": {},
   "outputs": [
    {
     "name": "stdout",
     "output_type": "stream",
     "text": [
      "('삼성전자', 'LG전자', 'SK Hynix') <class 'tuple'>\n"
     ]
    }
   ],
   "source": [
    "interest = ['삼성전자', 'LG전자', 'SK Hynix']\n",
    "\n",
    "list = tuple(interest)\n",
    "\n",
    "print(list, type(list))"
   ]
  },
  {
   "cell_type": "code",
   "execution_count": null,
   "id": "e752f14a-11fd-4307-8b0d-0743422c023f",
   "metadata": {},
   "outputs": [],
   "source": [
    "# 079 튜플 언팩킹\n",
    "다음 코드의 실행 결과를 예상하라.\n",
    "\n",
    "temp = ('apple', 'banana', 'cake')\n",
    "a, b, c = temp\n",
    "print(a, b, c)"
   ]
  },
  {
   "cell_type": "code",
   "execution_count": 2,
   "id": "37fc6a71-dc33-497a-bb48-c60c6acd2595",
   "metadata": {},
   "outputs": [
    {
     "name": "stdout",
     "output_type": "stream",
     "text": [
      "apple banana cake\n"
     ]
    }
   ],
   "source": [
    "temp = ('apple', 'banana', 'cake')\n",
    "a, b, c = temp\n",
    "print(a, b, c)"
   ]
  },
  {
   "cell_type": "code",
   "execution_count": null,
   "id": "30ecdb26-f0ba-4b90-a601-b6a6591f8f69",
   "metadata": {},
   "outputs": [],
   "source": [
    "# 080 range 함수\n",
    "1 부터 99까지의 정수 중 짝수만 저장된 튜플을 생성하라.\n",
    "\n",
    "(2, 4, 6, 8 ... 98)"
   ]
  },
  {
   "cell_type": "code",
   "execution_count": 3,
   "id": "bf5f7019-85b5-4468-be01-714a870b35b9",
   "metadata": {},
   "outputs": [
    {
     "name": "stdout",
     "output_type": "stream",
     "text": [
      "(2, 4, 6, 8, 10, 12, 14, 16, 18, 20, 22, 24, 26, 28, 30, 32, 34, 36, 38, 40, 42, 44, 46, 48, 50, 52, 54, 56, 58, 60, 62, 64, 66, 68, 70, 72, 74, 76, 78, 80, 82, 84, 86, 88, 90, 92, 94, 96, 98)\n"
     ]
    }
   ],
   "source": [
    "data = tuple(range(2, 100, 2))\n",
    "print( data )"
   ]
  },
  {
   "cell_type": "code",
   "execution_count": 4,
   "id": "6e13d3c9-3f6d-4658-875d-b84a74030cf8",
   "metadata": {},
   "outputs": [
    {
     "data": {
      "text/plain": [
       "\u001b[1;31mInit signature:\u001b[0m \u001b[0mrange\u001b[0m\u001b[1;33m(\u001b[0m\u001b[0mself\u001b[0m\u001b[1;33m,\u001b[0m \u001b[1;33m/\u001b[0m\u001b[1;33m,\u001b[0m \u001b[1;33m*\u001b[0m\u001b[0margs\u001b[0m\u001b[1;33m,\u001b[0m \u001b[1;33m**\u001b[0m\u001b[0mkwargs\u001b[0m\u001b[1;33m)\u001b[0m\u001b[1;33m\u001b[0m\u001b[1;33m\u001b[0m\u001b[0m\n",
       "\u001b[1;31mDocstring:\u001b[0m     \n",
       "range(stop) -> range object\n",
       "range(start, stop[, step]) -> range object\n",
       "\n",
       "Return an object that produces a sequence of integers from start (inclusive)\n",
       "to stop (exclusive) by step.  range(i, j) produces i, i+1, i+2, ..., j-1.\n",
       "start defaults to 0, and stop is omitted!  range(4) produces 0, 1, 2, 3.\n",
       "These are exactly the valid indices for a list of 4 elements.\n",
       "When step is given, it specifies the increment (or decrement).\n",
       "\u001b[1;31mType:\u001b[0m           type\n",
       "\u001b[1;31mSubclasses:\u001b[0m     "
      ]
     },
     "metadata": {},
     "output_type": "display_data"
    }
   ],
   "source": [
    "range?"
   ]
  },
  {
   "cell_type": "code",
   "execution_count": 20,
   "id": "3e0d2cc7-5338-46d9-b70d-53ef2e29de1f",
   "metadata": {},
   "outputs": [
    {
     "name": "stdout",
     "output_type": "stream",
     "text": [
      "[0, 1, 2, 3, 4, 5, 6, 7, 8, 9, 10, 11, 12, 13, 14, 15, 16, 17, 18, 19, 20, 21, 22, 23, 24, 25, 26, 27, 28, 29, 30, 31, 32, 33, 34, 35, 36, 37, 38, 39, 40, 41, 42, 43, 44, 45, 46, 47, 48, 49, 50, 51, 52, 53, 54, 55, 56, 57, 58, 59, 60, 61, 62, 63, 64, 65, 66, 67, 68, 69, 70, 71, 72, 73, 74, 75, 76, 77, 78, 79, 80, 81, 82, 83, 84, 85, 86, 87, 88, 89, 90, 91, 92, 93, 94, 95, 96, 97, 98, 99]\n",
      "(0, 1, 2, 3, 4, 5, 6, 7, 8, 9, 10, 11, 12, 13, 14, 15, 16, 17, 18, 19, 20, 21, 22, 23, 24, 25, 26, 27, 28, 29, 30, 31, 32, 33, 34, 35, 36, 37, 38, 39, 40, 41, 42, 43, 44, 45, 46, 47, 48, 49, 50, 51, 52, 53, 54, 55, 56, 57, 58, 59, 60, 61, 62, 63, 64, 65, 66, 67, 68, 69, 70, 71, 72, 73, 74, 75, 76, 77, 78, 79, 80, 81, 82, 83, 84, 85, 86, 87, 88, 89, 90, 91, 92, 93, 94, 95, 96, 97, 98, 99)\n"
     ]
    }
   ],
   "source": [
    "data = list(range(100))\n",
    "print( data )\n",
    "data = tuple(range(100))\n",
    "print( data )"
   ]
  },
  {
   "cell_type": "code",
   "execution_count": 21,
   "id": "93d7fe89-00ed-4093-8010-8724a3d59f9a",
   "metadata": {},
   "outputs": [
    {
     "name": "stdout",
     "output_type": "stream",
     "text": [
      "[1, 2, 3, 4, 5, 6, 7, 8, 9, 10, 11, 12, 13, 14, 15, 16, 17, 18, 19, 20, 21, 22, 23, 24, 25, 26, 27, 28, 29, 30, 31, 32, 33, 34, 35, 36, 37, 38, 39, 40, 41, 42, 43, 44, 45, 46, 47, 48, 49, 50, 51, 52, 53, 54, 55, 56, 57, 58, 59, 60, 61, 62, 63, 64, 65, 66, 67, 68, 69, 70, 71, 72, 73, 74, 75, 76, 77, 78, 79, 80, 81, 82, 83, 84, 85, 86, 87, 88, 89, 90, 91, 92, 93, 94, 95, 96, 97, 98, 99]\n",
      "(1, 2, 3, 4, 5, 6, 7, 8, 9, 10, 11, 12, 13, 14, 15, 16, 17, 18, 19, 20, 21, 22, 23, 24, 25, 26, 27, 28, 29, 30, 31, 32, 33, 34, 35, 36, 37, 38, 39, 40, 41, 42, 43, 44, 45, 46, 47, 48, 49, 50, 51, 52, 53, 54, 55, 56, 57, 58, 59, 60, 61, 62, 63, 64, 65, 66, 67, 68, 69, 70, 71, 72, 73, 74, 75, 76, 77, 78, 79, 80, 81, 82, 83, 84, 85, 86, 87, 88, 89, 90, 91, 92, 93, 94, 95, 96, 97, 98, 99)\n"
     ]
    }
   ],
   "source": [
    "data = list(range(1, 100))\n",
    "print( data )\n",
    "data = tuple(range(1, 100))\n",
    "print( data )"
   ]
  },
  {
   "cell_type": "code",
   "execution_count": 23,
   "id": "8e2abeb4-a501-4405-91b4-7838b03fa5af",
   "metadata": {},
   "outputs": [
    {
     "name": "stdout",
     "output_type": "stream",
     "text": [
      "[1, 3, 5, 7, 9, 11, 13, 15, 17, 19, 21, 23, 25, 27, 29, 31, 33, 35, 37, 39, 41, 43, 45, 47, 49, 51, 53, 55, 57, 59, 61, 63, 65, 67, 69, 71, 73, 75, 77, 79, 81, 83, 85, 87, 89, 91, 93, 95, 97, 99]\n",
      "(1, 3, 5, 7, 9, 11, 13, 15, 17, 19, 21, 23, 25, 27, 29, 31, 33, 35, 37, 39, 41, 43, 45, 47, 49, 51, 53, 55, 57, 59, 61, 63, 65, 67, 69, 71, 73, 75, 77, 79, 81, 83, 85, 87, 89, 91, 93, 95, 97, 99)\n"
     ]
    }
   ],
   "source": [
    "data = list(range(1,100,2))\n",
    "print( data )\n",
    "data = tuple(range(1,100,2))\n",
    "print( data )"
   ]
  },
  {
   "cell_type": "code",
   "execution_count": 26,
   "id": "5adee8c0-8467-472b-b50d-ce359e1b2e0a",
   "metadata": {},
   "outputs": [
    {
     "name": "stdout",
     "output_type": "stream",
     "text": [
      "[2, 4, 6, 8, 10, 12, 14, 16, 18, 20, 22, 24, 26, 28, 30, 32, 34, 36, 38, 40, 42, 44, 46, 48, 50, 52, 54, 56, 58, 60, 62, 64, 66, 68, 70, 72, 74, 76, 78, 80, 82, 84, 86, 88, 90, 92, 94, 96, 98]\n",
      "(2, 4, 6, 8, 10, 12, 14, 16, 18, 20, 22, 24, 26, 28, 30, 32, 34, 36, 38, 40, 42, 44, 46, 48, 50, 52, 54, 56, 58, 60, 62, 64, 66, 68, 70, 72, 74, 76, 78, 80, 82, 84, 86, 88, 90, 92, 94, 96, 98)\n"
     ]
    }
   ],
   "source": [
    "data = list(range(2,100,2))\n",
    "print( data )\n",
    "data = tuple(range(2,100,2))\n",
    "print( data )"
   ]
  },
  {
   "cell_type": "markdown",
   "id": "7113a735-88dc-4ecd-8d49-b46539bf3eb1",
   "metadata": {},
   "source": [
    "# 파이썬 딕셔너리"
   ]
  },
  {
   "cell_type": "markdown",
   "id": "e7093c95-2993-46fd-8bbb-5b8c55ed8ebb",
   "metadata": {},
   "source": [
    "## 081 ~ 090"
   ]
  },
  {
   "cell_type": "code",
   "execution_count": null,
   "id": "2e523912-e34e-4ed1-b35b-f4bf565ea164",
   "metadata": {},
   "outputs": [],
   "source": [
    "# 081 별 표현식\n",
    "기본적으로 데이터 언패킹은 좌변의 변수와 우변 데이터 개수가 같아야 합니다. 하지만 star expression을 사용하면 변수의 개수가 달라도 데이터 언패킹을 할 수 있습니다. \n",
    "튜플에 저장된 데이터 중에서 앞에 있는 두 개의 데이터만 필요할 경우 나머지 데이터의 언패킹 코드를 작성할 필요가 없습니다.\n",
    "\n",
    ">> a, b, *c = (0, 1, 2, 3, 4, 5)\n",
    ">> a\n",
    "0\n",
    ">> b\n",
    "1\n",
    ">> c\n",
    "[2, 3, 4, 5]\n",
    "다음과 같이 10개의 값이 저장된 scores 리스트가 있을 때, start expression을 사용하여 좌측 8개의 값을 valid_score 변수에 바인딩하여라.\n",
    "\n",
    "scores = [8.8, 8.9, 8.7, 9.2, 9.3, 9.7, 9.9, 9.5, 7.8, 9.4]"
   ]
  },
  {
   "cell_type": "code",
   "execution_count": 28,
   "id": "410fa300-e87f-4b4b-91d9-45f647a764c8",
   "metadata": {},
   "outputs": [
    {
     "name": "stdout",
     "output_type": "stream",
     "text": [
      "[8.8, 8.9, 8.7, 9.2, 9.3, 9.7, 9.9, 9.5]\n"
     ]
    }
   ],
   "source": [
    "scores = [8.8, 8.9, 8.7, 9.2, 9.3, 9.7, 9.9, 9.5, 7.8, 9.4]\n",
    "\n",
    "*valid_score, _, _= scores\n",
    "\n",
    "print(valid_score)"
   ]
  },
  {
   "cell_type": "code",
   "execution_count": 29,
   "id": "3bc7f551-0bf8-4426-b3df-aad4cdbe3266",
   "metadata": {},
   "outputs": [
    {
     "name": "stdout",
     "output_type": "stream",
     "text": [
      "[8.8, 8.9, 8.7, 9.2, 9.3, 9.7, 9.9, 9.5, 7.8]\n"
     ]
    }
   ],
   "source": [
    "scores = [8.8, 8.9, 8.7, 9.2, 9.3, 9.7, 9.9, 9.5, 7.8, 9.4]\n",
    "\n",
    "*valid_score, _= scores\n",
    "\n",
    "print(valid_score)"
   ]
  },
  {
   "cell_type": "code",
   "execution_count": 30,
   "id": "eb3419a4-2a39-404f-b992-76bf7a28ff52",
   "metadata": {},
   "outputs": [
    {
     "name": "stdout",
     "output_type": "stream",
     "text": [
      "[8.8, 8.9, 8.7, 9.2, 9.3, 9.7]\n"
     ]
    }
   ],
   "source": [
    "scores = [8.8, 8.9, 8.7, 9.2, 9.3, 9.7, 9.9, 9.5, 7.8, 9.4]\n",
    "\n",
    "*valid_score, _, _, _, _= scores\n",
    "\n",
    "print(valid_score)"
   ]
  },
  {
   "cell_type": "code",
   "execution_count": null,
   "id": "1f314256-6dc9-4bcd-a499-848263c6de70",
   "metadata": {},
   "outputs": [],
   "source": [
    "# 082\n",
    "다음과 같이 10개의 값이 저장된 scores 리스트가 있을 때, start expression을 사용하여 우측 8개의 값을 valid_score 변수에 바인딩하여라.\n",
    "\n",
    "scores = [8.8, 8.9, 8.7, 9.2, 9.3, 9.7, 9.9, 9.5, 7.8, 9.4]"
   ]
  },
  {
   "cell_type": "code",
   "execution_count": 31,
   "id": "6b665880-3c2b-47c6-b111-5a1718edce3a",
   "metadata": {},
   "outputs": [
    {
     "name": "stdout",
     "output_type": "stream",
     "text": [
      "[8.7, 9.2, 9.3, 9.7, 9.9, 9.5, 7.8, 9.4]\n"
     ]
    }
   ],
   "source": [
    "scores = [8.8, 8.9, 8.7, 9.2, 9.3, 9.7, 9.9, 9.5, 7.8, 9.4]\n",
    "\n",
    "_, _, *valid_score= scores\n",
    "\n",
    "print(valid_score)"
   ]
  },
  {
   "cell_type": "code",
   "execution_count": 32,
   "id": "a07ca0f9-9ba2-4119-ad83-370853da9436",
   "metadata": {},
   "outputs": [
    {
     "name": "stdout",
     "output_type": "stream",
     "text": [
      "[8.7, 9.2, 9.3, 9.7, 9.9, 9.5, 7.8, 9.4]\n"
     ]
    }
   ],
   "source": [
    "scores = [8.8, 8.9, 8.7, 9.2, 9.3, 9.7, 9.9, 9.5, 7.8, 9.4]\n",
    "a, b, *valid_score = scores\n",
    "print(valid_score)"
   ]
  },
  {
   "cell_type": "code",
   "execution_count": 33,
   "id": "b8290332-a879-4d5f-b554-4a05cedc0415",
   "metadata": {},
   "outputs": [
    {
     "name": "stdout",
     "output_type": "stream",
     "text": [
      "[8.8, 8.9, 8.7, 9.2, 9.3, 9.7]\n"
     ]
    }
   ],
   "source": [
    "scores = [8.8, 8.9, 8.7, 9.2, 9.3, 9.7, 9.9, 9.5, 7.8, 9.4]\n",
    "\n",
    "*valid_score, a, b, c, d= scores\n",
    "\n",
    "print(valid_score)"
   ]
  },
  {
   "cell_type": "code",
   "execution_count": null,
   "id": "0144f797-4ef1-474d-bc7e-90fa184338f7",
   "metadata": {},
   "outputs": [],
   "source": [
    "# 083\n",
    "다음과 같이 10개의 값이 저장된 scores 리스트가 있을 때, start expression을 사용하여 가운데 있는 8개의 값을 valid_score 변수에 바인딩하여라.\n",
    "\n",
    "scores = [8.8, 8.9, 8.7, 9.2, 9.3, 9.7, 9.9, 9.5, 7.8, 9.4]"
   ]
  },
  {
   "cell_type": "code",
   "execution_count": 34,
   "id": "85017f2d-78cb-4ed0-848e-9486a3df2a19",
   "metadata": {},
   "outputs": [
    {
     "name": "stdout",
     "output_type": "stream",
     "text": [
      "[8.9, 8.7, 9.2, 9.3, 9.7, 9.9, 9.5, 7.8]\n"
     ]
    }
   ],
   "source": [
    "scores = [8.8, 8.9, 8.7, 9.2, 9.3, 9.7, 9.9, 9.5, 7.8, 9.4]\n",
    "\n",
    "b, *valid_score, a= scores\n",
    "\n",
    "print(valid_score)"
   ]
  },
  {
   "cell_type": "code",
   "execution_count": null,
   "id": "cfb40ef1-5973-459c-b35c-fbc45994f1a4",
   "metadata": {},
   "outputs": [],
   "source": [
    "# 084 비어있는 딕셔너리\n",
    "temp 이름의 비어있는 딕셔너리를 만들라."
   ]
  },
  {
   "cell_type": "code",
   "execution_count": 36,
   "id": "3621d0fd-6317-43d6-9217-db6f444d46b5",
   "metadata": {},
   "outputs": [
    {
     "name": "stdout",
     "output_type": "stream",
     "text": [
      "{} <class 'dict'>\n"
     ]
    }
   ],
   "source": [
    "temp = { }\n",
    "print(temp, type(temp))"
   ]
  },
  {
   "cell_type": "code",
   "execution_count": null,
   "id": "54bd4547-822c-4ff2-9790-88fc7297e94c",
   "metadata": {},
   "outputs": [],
   "source": [
    "# 085\n",
    "다음 아이스크림 이름과 희망 가격을 딕셔너리로 구성하라.\n",
    "    \n",
    "이름\t희망 가격\n",
    "메로나\t1000\n",
    "폴라포\t1200\n",
    "빵빠레\t1800"
   ]
  },
  {
   "cell_type": "code",
   "execution_count": 37,
   "id": "651eb1b0-e022-4101-9f6c-c8be9d3471dc",
   "metadata": {},
   "outputs": [
    {
     "name": "stdout",
     "output_type": "stream",
     "text": [
      "{'메로나': 1000, '폴라포': 1200, '빵빠레': 1800}\n"
     ]
    }
   ],
   "source": [
    "ice = {\"메로나\": 1000, \"폴라포\": 1200, \"빵빠레\": 1800}\n",
    "print(ice)"
   ]
  },
  {
   "cell_type": "code",
   "execution_count": null,
   "id": "cafc2cbb-60a6-496f-a5f3-0946e1c4b242",
   "metadata": {},
   "outputs": [],
   "source": [
    "# 086\n",
    "085 번의 딕셔너리에 아래 아이스크림 가격정보를 추가하라.\n",
    "\n",
    "이름\t희망 가격\n",
    "죠스바\t1200\n",
    "월드콘\t1500"
   ]
  },
  {
   "cell_type": "code",
   "execution_count": 39,
   "id": "cb6c8319-b052-4480-881f-ec381041318a",
   "metadata": {},
   "outputs": [
    {
     "name": "stdout",
     "output_type": "stream",
     "text": [
      "{'메로나': 1000, '폴라포': 1200, '빵빠레': 1800, '죠스바': 1200, '월드콘': 1500}\n"
     ]
    }
   ],
   "source": [
    "ice = {\"메로나\": 1000, \"폴라포\": 1200, \"빵빠레\": 1800}\n",
    "ice[\"죠스바\"] = 1200\n",
    "ice[\"월드콘\"] = 1500\n",
    "print(ice)"
   ]
  },
  {
   "cell_type": "code",
   "execution_count": null,
   "id": "ef0e9f15-c891-4c9e-8fb9-4e40dbace4a4",
   "metadata": {},
   "outputs": [],
   "source": [
    "# 087\n",
    "다음 딕셔너리를 사용하여 메로나 가격을 출력하라.\n",
    "\n",
    "ice = {'메로나': 1000,\n",
    "       '폴로포': 1200,\n",
    "       '빵빠레': 1800,\n",
    "       '죠스바': 1200,\n",
    "       '월드콘': 1500}\n",
    "\n",
    "실행 예:\n",
    "메로나 가격: 1000"
   ]
  },
  {
   "cell_type": "code",
   "execution_count": 44,
   "id": "1592d1f3-23ea-4c34-bdab-08a45f4d541a",
   "metadata": {},
   "outputs": [
    {
     "name": "stdout",
     "output_type": "stream",
     "text": [
      "메로나 가격:  1000\n"
     ]
    }
   ],
   "source": [
    "ice = {'메로나': 1000,\n",
    "       '폴로포': 1200,\n",
    "       '빵빠레': 1800,\n",
    "       '죠스바': 1200,\n",
    "       '월드콘': 1500}\n",
    "\n",
    "print(\"메로나 가격: \", ice[\"메로나\"])"
   ]
  },
  {
   "cell_type": "code",
   "execution_count": null,
   "id": "f41e6453-65c6-4d72-9840-171b54d8eae7",
   "metadata": {},
   "outputs": [],
   "source": [
    "# 088\n",
    "다음 딕셔너리에서 메로나의 가격을 1300으로 수정하라.\n",
    "\n",
    "ice = {'메로나': 1000,\n",
    "       '폴로포': 1200,\n",
    "       '빵빠레': 1800,\n",
    "       '죠스바': 1200,\n",
    "       '월드콘': 1500}"
   ]
  },
  {
   "cell_type": "code",
   "execution_count": 46,
   "id": "666b4681-0a0c-4335-8f78-242ac6041469",
   "metadata": {},
   "outputs": [
    {
     "data": {
      "text/plain": [
       "{'메로나': 1300, '폴로포': 1200, '빵빠레': 1800, '죠스바': 1200, '월드콘': 1500}"
      ]
     },
     "execution_count": 46,
     "metadata": {},
     "output_type": "execute_result"
    }
   ],
   "source": [
    "ice = {'메로나': 1000,\n",
    "       '폴로포': 1200,\n",
    "       '빵빠레': 1800,\n",
    "       '죠스바': 1200,\n",
    "       '월드콘': 1500}\n",
    "\n",
    "ice['메로나'] = 1300\n",
    "ice"
   ]
  },
  {
   "cell_type": "code",
   "execution_count": 53,
   "id": "065f6c53-8785-4bfd-be1f-3bf147e65860",
   "metadata": {},
   "outputs": [],
   "source": [
    "# 089 \n",
    "다음 딕셔너리에서 메로나를 삭제하라.\n",
    "\n",
    "ice = {'메로나': 1000,\n",
    "       '폴로포': 1200,\n",
    "       '빵빠레': 1800,\n",
    "       '죠스바': 1200,\n",
    "       '월드콘': 1500}"
   ]
  },
  {
   "cell_type": "code",
   "execution_count": 55,
   "id": "3239f460-4359-40e6-be6c-a1c7465b8640",
   "metadata": {},
   "outputs": [
    {
     "name": "stdout",
     "output_type": "stream",
     "text": [
      "{'폴로포': 1200, '빵빠레': 1800, '죠스바': 1200, '월드콘': 1500}\n"
     ]
    }
   ],
   "source": [
    "ice = {'메로나': 1000,\n",
    "       '폴로포': 1200,\n",
    "       '빵빠레': 1800,\n",
    "       '죠스바': 1200,\n",
    "       '월드콘': 1500}\n",
    "\n",
    "del ice['메로나']\n",
    "print(ice)"
   ]
  },
  {
   "cell_type": "code",
   "execution_count": null,
   "id": "196530b4-87de-4b83-b576-03979f892c9d",
   "metadata": {},
   "outputs": [],
   "source": [
    "# 090\n",
    "다음 코드에서 에러가 발생한 원인을 설명하라.\n",
    "\n",
    ">> icecream = {'폴라포': 1200, '빵빠레': 1800, '월드콘': 1500, '메로나': 1000}\n",
    ">> icecream['누가바']\n",
    "\n",
    "Traceback (most recent call last):\n",
    "  File \"<pyshell#69>\", line 1, in <module>\n",
    "    icecream['누가바']\n",
    "KeyError: '누가바'"
   ]
  },
  {
   "cell_type": "markdown",
   "id": "05807b8f-3828-4e1e-87b4-86a779d408b5",
   "metadata": {},
   "source": [
    "딕셔너리에 없는 키를 사용해서 인덱싱하면 에러가 발생합니다."
   ]
  },
  {
   "cell_type": "markdown",
   "id": "71ef6a77-f0d0-4bba-bca7-49f84f7bc8d1",
   "metadata": {},
   "source": [
    "## 091 ~ 100"
   ]
  },
  {
   "cell_type": "code",
   "execution_count": null,
   "id": "2a53fa9c-3254-4916-bbbc-317a3917228f",
   "metadata": {},
   "outputs": [],
   "source": [
    "# 091 딕셔너리 생성\n",
    "아래의 표에서, 아이스크림 이름을 키값으로, (가격, 재고) 리스트를 딕셔너리의 값으로 저장하라. 딕셔너리의 이름은 inventory로 한다.\n",
    "\n",
    "이름\t가격\t재고\n",
    "메로나\t300  \t20\n",
    "비비빅\t400 \t3\n",
    "죠스바\t250\t    100"
   ]
  },
  {
   "cell_type": "code",
   "execution_count": 59,
   "id": "e0fd0be7-e474-4b6e-9eee-f8dbe9ee2e08",
   "metadata": {},
   "outputs": [
    {
     "name": "stdout",
     "output_type": "stream",
     "text": [
      "{'메로나': [300, 20], '비비빅': [400, 3], '죠스바': [250, 100]}\n"
     ]
    }
   ],
   "source": [
    "inventory = {'메로나' : [300, 20], '비비빅' : [400, 3], '죠스바' : [250, 100]}\n",
    "print(inventory)"
   ]
  },
  {
   "cell_type": "code",
   "execution_count": null,
   "id": "c329b998-f4cb-4fbf-b96f-be6c0ac34bd1",
   "metadata": {},
   "outputs": [],
   "source": [
    "# 092 딕셔너리 인덱싱\n",
    "inventory 딕셔너리에서 메로나의 가격을 화면에 출력하라.\n",
    "\n",
    "inventory = {\"메로나\": [300, 20],\n",
    "              \"비비빅\": [400, 3],\n",
    "              \"죠스바\": [250, 100]}\n",
    "실행 예시:\n",
    "300 원"
   ]
  },
  {
   "cell_type": "code",
   "execution_count": 64,
   "id": "8c3e9856-27f8-4744-a093-0e3d8ffee783",
   "metadata": {},
   "outputs": [
    {
     "name": "stdout",
     "output_type": "stream",
     "text": [
      "300 원\n"
     ]
    }
   ],
   "source": [
    "inventory = {\"메로나\": [300, 20],\n",
    "              \"비비빅\": [400, 3],\n",
    "              \"죠스바\": [250, 100]}\n",
    "\n",
    "print(inventory['메로나'][0],'원')"
   ]
  },
  {
   "cell_type": "code",
   "execution_count": null,
   "id": "838315c2-facd-4632-bce5-09ab9e636f73",
   "metadata": {},
   "outputs": [],
   "source": [
    "# 093 딕셔너리 인덱싱\n",
    "inventory 딕셔너리에서 메로나의 재고를 화면에 출력하라.\n",
    "\n",
    "inventory = {\"메로나\": [300, 20],\n",
    "              \"비비빅\": [400, 3],\n",
    "              \"죠스바\": [250, 100]}\n",
    "실행 예시:\n",
    "20 개"
   ]
  },
  {
   "cell_type": "code",
   "execution_count": 65,
   "id": "9003725b-68e5-46df-84d9-1fa50792a516",
   "metadata": {},
   "outputs": [
    {
     "name": "stdout",
     "output_type": "stream",
     "text": [
      "20 개\n"
     ]
    }
   ],
   "source": [
    "inventory = {\"메로나\": [300, 20],\n",
    "              \"비비빅\": [400, 3],\n",
    "              \"죠스바\": [250, 100]}\n",
    "\n",
    "print(inventory['메로나'][1],'개')"
   ]
  },
  {
   "cell_type": "code",
   "execution_count": null,
   "id": "ef8faf50-dd9d-46db-8bd5-519be6388220",
   "metadata": {},
   "outputs": [],
   "source": [
    "# 094 딕셔너리 추가\n",
    "inventory 딕셔너리에 아래 데이터를 추가하라.\n",
    "\n",
    "inventory = {\"메로나\": [300, 20],\n",
    "              \"비비빅\": [400, 3],\n",
    "              \"죠스바\": [250, 100]}\n",
    "\n",
    "이름\t가격\t재고\n",
    "월드콘\t500\t7\n",
    "\n",
    "실행 예시:\n",
    ">> print(inventory)\n",
    "{'메로나': [300, 20], '비비빅': [400, 3], '죠스바': [250, 100], '월드콘': [500, 7]}"
   ]
  },
  {
   "cell_type": "code",
   "execution_count": 66,
   "id": "822eecde-e811-42f2-9a14-08a560adffec",
   "metadata": {},
   "outputs": [
    {
     "name": "stdout",
     "output_type": "stream",
     "text": [
      "{'메로나': [300, 20], '비비빅': [400, 3], '죠스바': [250, 100], '월드콘': [500, 7]}\n"
     ]
    }
   ],
   "source": [
    "inventory = {\"메로나\": [300, 20],\n",
    "              \"비비빅\": [400, 3],\n",
    "              \"죠스바\": [250, 100]}\n",
    "\n",
    "inventory['월드콘'] = [500, 7]\n",
    "\n",
    "print(inventory)"
   ]
  },
  {
   "cell_type": "code",
   "execution_count": null,
   "id": "dd092a10-7f4f-4aff-8fa2-add455a1b5e4",
   "metadata": {},
   "outputs": [],
   "source": [
    "# 095 딕셔너리 keys() 메서드\n",
    "다음의 딕셔너리로부터 key 값으로만 구성된 리스트를 생성하라.\n",
    "\n",
    "icecream = {'탱크보이': 1200, '폴라포': 1200, '빵빠레': 1800, '월드콘': 1500, '메로나': 1000}"
   ]
  },
  {
   "cell_type": "code",
   "execution_count": 68,
   "id": "c66d0433-ed87-4ddc-be53-eb5ccb5b3da5",
   "metadata": {},
   "outputs": [
    {
     "name": "stdout",
     "output_type": "stream",
     "text": [
      "dict_keys(['탱크보이', '폴라포', '빵빠레', '월드콘', '메로나'])\n"
     ]
    }
   ],
   "source": [
    "icecream = {'탱크보이': 1200, '폴라포': 1200, '빵빠레': 1800, '월드콘': 1500, '메로나': 1000}\n",
    "print(icecream.keys())"
   ]
  },
  {
   "cell_type": "code",
   "execution_count": 69,
   "id": "5ee4f54b-77f4-42b2-842e-78f013e51206",
   "metadata": {},
   "outputs": [
    {
     "name": "stdout",
     "output_type": "stream",
     "text": [
      "['탱크보이', '폴라포', '빵빠레', '월드콘', '메로나']\n"
     ]
    }
   ],
   "source": [
    "icecream = {'탱크보이': 1200, '폴라포': 1200, '빵빠레': 1800, '월드콘': 1500, '메로나': 1000}\n",
    "ice = list(icecream.keys())\n",
    "print(ice)"
   ]
  },
  {
   "cell_type": "code",
   "execution_count": null,
   "id": "fed1eb32-6967-4bab-a9b2-6b5730035ca3",
   "metadata": {},
   "outputs": [],
   "source": [
    "# 096 딕셔너리 values() 메서드\n",
    "다음의 딕셔너리에서 values 값으로만 구성된 리스트를 생성하라.\n",
    "\n",
    "icecream = {'탱크보이': 1200, '폴라포': 1200, '빵빠레': 1800, '월드콘': 1500, '메로나': 1000}"
   ]
  },
  {
   "cell_type": "code",
   "execution_count": 71,
   "id": "159baf9f-6e5e-4ab9-a5bc-e8409be938cd",
   "metadata": {},
   "outputs": [
    {
     "name": "stdout",
     "output_type": "stream",
     "text": [
      "dict_values([1200, 1200, 1800, 1500, 1000])\n"
     ]
    }
   ],
   "source": [
    "icecream = {'탱크보이': 1200, '폴라포': 1200, '빵빠레': 1800, '월드콘': 1500, '메로나': 1000}\n",
    "print(icecream.values())"
   ]
  },
  {
   "cell_type": "code",
   "execution_count": 73,
   "id": "48b9a9c8-5130-442a-9c7e-32f0425d73a5",
   "metadata": {},
   "outputs": [
    {
     "name": "stdout",
     "output_type": "stream",
     "text": [
      "[1200, 1200, 1800, 1500, 1000]\n"
     ]
    }
   ],
   "source": [
    "icecream = {'탱크보이': 1200, '폴라포': 1200, '빵빠레': 1800, '월드콘': 1500, '메로나': 1000}\n",
    "ice = list(icecream.values())\n",
    "print(ice)"
   ]
  },
  {
   "cell_type": "code",
   "execution_count": null,
   "id": "7bca40f7-a1f0-4c85-a48a-ce045481145f",
   "metadata": {},
   "outputs": [],
   "source": [
    "# 097 딕셔너리 values() 메서드\n",
    "icecream 딕셔너리에서 아이스크림 판매 금액의 총합을 출력하라.\n",
    "\n",
    "icecream = {'탱크보이': 1200, '폴라포': 1200, '빵빠레': 1800, '월드콘': 1500, '메로나': 1000}\n",
    "출력 예시:\n",
    "6700"
   ]
  },
  {
   "cell_type": "code",
   "execution_count": 74,
   "id": "0077397d-61c1-4534-92e6-1d525750fa7d",
   "metadata": {},
   "outputs": [
    {
     "name": "stdout",
     "output_type": "stream",
     "text": [
      "6700\n"
     ]
    }
   ],
   "source": [
    "icecream = {'탱크보이': 1200, '폴라포': 1200, '빵빠레': 1800, '월드콘': 1500, '메로나': 1000}\n",
    "print(sum(icecream.values()))"
   ]
  },
  {
   "cell_type": "code",
   "execution_count": null,
   "id": "eaf8862a-71f9-418e-8042-ffb727e2dfca",
   "metadata": {},
   "outputs": [],
   "source": [
    "# 098 딕셔너리 update 메서드\n",
    "아래의 new_product 딕셔너리를 다음 icecream 딕셔너리에 추가하라.\n",
    "\n",
    "icecream = {'탱크보이': 1200, '폴라포': 1200, '빵빠레': 1800, '월드콘': 1500, '메로나': 1000}\n",
    "new_product = {'팥빙수':2700, '아맛나':1000}\n",
    "\n",
    "실행 예시:\n",
    ">> print(icecream)\n",
    "{'탱크보이': 1200,  '폴라포': 1200,  '빵빠레': 1800,  '월드콘': 1500,  '메로나': 1000,  '팥빙수':2700, '아맛나':1000}"
   ]
  },
  {
   "cell_type": "code",
   "execution_count": 76,
   "id": "cba75679-4222-43bf-a9bf-dff8439e8cc6",
   "metadata": {},
   "outputs": [
    {
     "name": "stdout",
     "output_type": "stream",
     "text": [
      "{'탱크보이': 1200, '폴라포': 1200, '빵빠레': 1800, '월드콘': 1500, '메로나': 1000, '팥빙수': 2700, '아맛나': 1000}\n"
     ]
    }
   ],
   "source": [
    "icecream = {'탱크보이': 1200, '폴라포': 1200, '빵빠레': 1800, '월드콘': 1500, '메로나': 1000}\n",
    "new_product = {'팥빙수':2700, '아맛나':1000}\n",
    "\n",
    "icecream.update(new_product)\n",
    "\n",
    "print(icecream)"
   ]
  },
  {
   "cell_type": "code",
   "execution_count": null,
   "id": "f58ac840-e671-4932-b9b7-8cbe83fc1756",
   "metadata": {},
   "outputs": [],
   "source": [
    "# 099 zip과 dict\n",
    "아래 두 개의 튜플을 하나의 딕셔너리로 변환하라. keys를 키로, vals를 값으로 result 이름의 딕셔너리로 저장한다.\n",
    "\n",
    "keys = (\"apple\", \"pear\", \"peach\")\n",
    "vals = (300, 250, 400)\n",
    "\n",
    "실행 예시:\n",
    ">> print(result)\n",
    "{'apple': 300, 'pear': 250, 'peach': 400}"
   ]
  },
  {
   "cell_type": "code",
   "execution_count": 77,
   "id": "5277d5c3-7e0e-4543-b1de-9d906f8e34f4",
   "metadata": {},
   "outputs": [
    {
     "name": "stdout",
     "output_type": "stream",
     "text": [
      "{'apple': 300, 'pear': 250, 'peach': 400}\n"
     ]
    }
   ],
   "source": [
    "keys = (\"apple\", \"pear\", \"peach\")\n",
    "vals = (300, 250, 400)\n",
    "\n",
    "result = dict(zip(keys, vals))\n",
    "\n",
    "print(result)"
   ]
  },
  {
   "cell_type": "code",
   "execution_count": null,
   "id": "de8b60e7-cb77-45aa-aacd-b46271d4c142",
   "metadata": {},
   "outputs": [],
   "source": [
    "# 100 zip과 dict\n",
    "date와 close_price 두 개의 리스트를 close_table 이름의 딕셔너리로 생성하라.\n",
    "\n",
    "date = ['09/05', '09/06', '09/07', '09/08', '09/09']\n",
    "close_price = [10500, 10300, 10100, 10800, 11000]\n",
    "\n",
    "실행 예시:\n",
    ">> print(close_table)\n",
    "{'09/05': 10500, '09/06': 10300, '09/07': 10100, '09/08': 10800, '09/09': 11000}"
   ]
  },
  {
   "cell_type": "code",
   "execution_count": 79,
   "id": "be3486c9-d5f8-4630-bb04-caab3ad5bbfe",
   "metadata": {},
   "outputs": [
    {
     "name": "stdout",
     "output_type": "stream",
     "text": [
      "{'09/05': 10500, '09/06': 10300, '09/07': 10100, '09/08': 10800, '09/09': 11000}\n"
     ]
    }
   ],
   "source": [
    "date = ['09/05', '09/06', '09/07', '09/08', '09/09']\n",
    "close_price = [10500, 10300, 10100, 10800, 11000]\n",
    "\n",
    "close_table = dict(zip(date,close_price))\n",
    "\n",
    "print(close_table)"
   ]
  },
  {
   "cell_type": "markdown",
   "id": "6d2933cb-2b24-46d3-ae3f-6256a6a136fd",
   "metadata": {},
   "source": [
    "# 파이썬 분기문"
   ]
  },
  {
   "cell_type": "markdown",
   "id": "f536c61f-9e20-4e62-8271-eabffdc73d2f",
   "metadata": {},
   "source": [
    "## 101 ~ 110"
   ]
  },
  {
   "cell_type": "code",
   "execution_count": null,
   "id": "b782dca3-1100-4aa6-91cf-eba1ecb84b90",
   "metadata": {},
   "outputs": [],
   "source": [
    "# 101\n",
    "파이썬에서 True 혹은 False를 갖는 데이터 타입은 무엇인가?\n"
   ]
  },
  {
   "cell_type": "markdown",
   "id": "3e525bbf-516f-45fe-bbd2-eb920d593f78",
   "metadata": {},
   "source": [
    "`bool` 타입입니다."
   ]
  },
  {
   "cell_type": "code",
   "execution_count": null,
   "id": "fd915603-82c1-4f76-84bd-e09cde56e1c9",
   "metadata": {},
   "outputs": [],
   "source": [
    "# 102\n",
    "아래 코드의 출력 결과를 예상하라\n",
    "\n",
    "print(3 == 5)"
   ]
  },
  {
   "cell_type": "code",
   "execution_count": 80,
   "id": "0fcacfac-5841-4a94-86f0-7268cac59167",
   "metadata": {},
   "outputs": [
    {
     "name": "stdout",
     "output_type": "stream",
     "text": [
      "False\n"
     ]
    }
   ],
   "source": [
    "print(3 == 5)"
   ]
  },
  {
   "cell_type": "code",
   "execution_count": null,
   "id": "a2933907-27a1-4612-8f67-6334ba3ac303",
   "metadata": {},
   "outputs": [],
   "source": [
    "# 103\n",
    "아래 코드의 출력 결과를 예상하라\n",
    "\n",
    "print(3 < 5)"
   ]
  },
  {
   "cell_type": "code",
   "execution_count": 81,
   "id": "0aec391a-a453-4e8c-9d75-cf191b27fd38",
   "metadata": {},
   "outputs": [
    {
     "name": "stdout",
     "output_type": "stream",
     "text": [
      "True\n"
     ]
    }
   ],
   "source": [
    "print(3 < 5)"
   ]
  },
  {
   "cell_type": "code",
   "execution_count": null,
   "id": "d334c60a-9d11-40fc-a039-163477cf4434",
   "metadata": {},
   "outputs": [],
   "source": [
    "# 104\n",
    "아래 코드의 결과를 예상하라.\n",
    "\n",
    "x = 4\n",
    "print(1 < x < 5)"
   ]
  },
  {
   "cell_type": "code",
   "execution_count": 82,
   "id": "45c16290-5b17-439f-85a9-87224f89a73d",
   "metadata": {},
   "outputs": [
    {
     "name": "stdout",
     "output_type": "stream",
     "text": [
      "True\n"
     ]
    }
   ],
   "source": [
    "x = 4\n",
    "print(1 < x < 5)"
   ]
  },
  {
   "cell_type": "code",
   "execution_count": null,
   "id": "52b0a334-b45a-427d-aa20-ad3f9e7cd5c3",
   "metadata": {},
   "outputs": [],
   "source": [
    "# 105\n",
    "아래 코드의 결과를 예상하라.\n",
    "\n",
    "print ((3 == 3) and (4 != 3))"
   ]
  },
  {
   "cell_type": "code",
   "execution_count": 83,
   "id": "f5605e5f-c525-4e9c-8c0b-783f8387f9c5",
   "metadata": {},
   "outputs": [
    {
     "name": "stdout",
     "output_type": "stream",
     "text": [
      "True\n"
     ]
    }
   ],
   "source": [
    "print ((3 == 3) and (4 != 3))"
   ]
  },
  {
   "cell_type": "code",
   "execution_count": null,
   "id": "6abe2213-6d8e-422a-a48d-a012569a3229",
   "metadata": {},
   "outputs": [],
   "source": [
    "# 106\n",
    "아래 코드에서 에러가 발생하는 원인에 대해 설명하라.\n",
    "\n",
    "print(3 => 4)"
   ]
  },
  {
   "cell_type": "code",
   "execution_count": 84,
   "id": "3df2aad2-ff9d-4f9f-a1b1-dacccce6cf56",
   "metadata": {},
   "outputs": [
    {
     "ename": "SyntaxError",
     "evalue": "expression cannot contain assignment, perhaps you meant \"==\"? (3612698823.py, line 1)",
     "output_type": "error",
     "traceback": [
      "\u001b[1;36m  Cell \u001b[1;32mIn[84], line 1\u001b[1;36m\u001b[0m\n\u001b[1;33m    print(3 => 4)\u001b[0m\n\u001b[1;37m          ^\u001b[0m\n\u001b[1;31mSyntaxError\u001b[0m\u001b[1;31m:\u001b[0m expression cannot contain assignment, perhaps you meant \"==\"?\n"
     ]
    }
   ],
   "source": [
    "print(3 => 4)"
   ]
  },
  {
   "cell_type": "markdown",
   "id": "62d3d456-b906-452e-9233-f9fdd224ef95",
   "metadata": {},
   "source": [
    "지원하지 않는 연산자입니다."
   ]
  },
  {
   "cell_type": "code",
   "execution_count": 90,
   "id": "3bbe451f-13d5-4029-b120-8a5f7e103a85",
   "metadata": {},
   "outputs": [],
   "source": [
    "# 107\n",
    "아래 코드의 출력 결과를 예상하라\n",
    "\n",
    "if 4 < 3:\n",
    "    print(\"Hello World.\")"
   ]
  },
  {
   "cell_type": "code",
   "execution_count": 88,
   "id": "8bee244f-707b-4e41-a8a5-d98acb1b573f",
   "metadata": {},
   "outputs": [],
   "source": [
    "if 4 < 3:\n",
    "    print(\"Hello World.\")"
   ]
  },
  {
   "cell_type": "code",
   "execution_count": null,
   "id": "83d72cc5-7732-4052-a547-08f9c2ff51de",
   "metadata": {},
   "outputs": [],
   "source": [
    "# 108\n",
    "아래 코드의 출력 결과를 예상하라\n",
    "\n",
    "if 4 < 3:\n",
    "    print(\"Hello World.\")\n",
    "else:\n",
    "    print(\"Hi, there.\")"
   ]
  },
  {
   "cell_type": "code",
   "execution_count": 87,
   "id": "48628296-0030-4f7e-a6de-8885488b052f",
   "metadata": {},
   "outputs": [
    {
     "name": "stdout",
     "output_type": "stream",
     "text": [
      "Hi, there.\n"
     ]
    }
   ],
   "source": [
    "if 4 < 3:\n",
    "    print(\"Hello World.\")\n",
    "else:\n",
    "    print(\"Hi, there.\")"
   ]
  },
  {
   "cell_type": "code",
   "execution_count": null,
   "id": "81ebd272-09b8-45ed-8ab7-ff194a6bc754",
   "metadata": {},
   "outputs": [],
   "source": [
    "# 109\n",
    "아래 코드의 출력 결과를 예상하라\n",
    "\n",
    "if True :\n",
    "    print (\"1\")\n",
    "    print (\"2\")\n",
    "else :\n",
    "    print(\"3\")\n",
    "print(\"4\")"
   ]
  },
  {
   "cell_type": "code",
   "execution_count": 91,
   "id": "490111cb-5c87-447b-8300-9e2b4e46f053",
   "metadata": {},
   "outputs": [
    {
     "name": "stdout",
     "output_type": "stream",
     "text": [
      "1\n",
      "2\n",
      "4\n"
     ]
    }
   ],
   "source": [
    "if True :\n",
    "    print (\"1\")\n",
    "    print (\"2\")\n",
    "else :\n",
    "    print(\"3\")\n",
    "print(\"4\")"
   ]
  },
  {
   "cell_type": "code",
   "execution_count": null,
   "id": "4eb3867f-ffcc-432a-9c67-f2dc9044f109",
   "metadata": {},
   "outputs": [],
   "source": [
    "# 110\n",
    "아래 코드의 출력 결과를 예상하라\n",
    "\n",
    "if True :\n",
    "    if False:\n",
    "        print(\"1\")\n",
    "        print(\"2\")\n",
    "    else:\n",
    "        print(\"3\")\n",
    "else :\n",
    "    print(\"4\")\n",
    "print(\"5\")"
   ]
  },
  {
   "cell_type": "code",
   "execution_count": 92,
   "id": "37ff196f-ea42-4982-b55a-eba78a85762d",
   "metadata": {},
   "outputs": [
    {
     "name": "stdout",
     "output_type": "stream",
     "text": [
      "3\n",
      "5\n"
     ]
    }
   ],
   "source": [
    "if True :\n",
    "    if False:\n",
    "        print(\"1\")\n",
    "        print(\"2\")\n",
    "    else:\n",
    "        print(\"3\")\n",
    "else :\n",
    "    print(\"4\")\n",
    "print(\"5\")"
   ]
  },
  {
   "cell_type": "markdown",
   "id": "22ed49cb-86f2-4de3-bc1e-97148365ba20",
   "metadata": {},
   "source": [
    "## 111 ~ 120"
   ]
  },
  {
   "cell_type": "code",
   "execution_count": null,
   "id": "66d86069-0d0a-4727-9dca-67642f7e5566",
   "metadata": {},
   "outputs": [],
   "source": [
    "# 111\n",
    "사용자로부터 입력받은 문자열을 두 번 출력하라. 아래는 사용자가 \"안녕하세요\"를 입력한 경우의 출력 결과이다.\n",
    "\n",
    ">> 안녕하세요\n",
    "안녕하세요안녕하세요"
   ]
  },
  {
   "cell_type": "code",
   "execution_count": 2,
   "id": "131ec749-7f95-4078-893e-5933061be485",
   "metadata": {},
   "outputs": [
    {
     "name": "stdin",
     "output_type": "stream",
     "text": [
      " 아아\n"
     ]
    },
    {
     "name": "stdout",
     "output_type": "stream",
     "text": [
      "아아아아\n"
     ]
    }
   ],
   "source": [
    "user = input()\n",
    "\n",
    "print(user * 2)"
   ]
  },
  {
   "cell_type": "code",
   "execution_count": 3,
   "id": "c3f1587a-5a0f-4850-9a5b-bc9ce884f9d8",
   "metadata": {},
   "outputs": [
    {
     "name": "stdin",
     "output_type": "stream",
     "text": [
      "입력: 아안\n"
     ]
    },
    {
     "name": "stdout",
     "output_type": "stream",
     "text": [
      "아안아안\n"
     ]
    }
   ],
   "source": [
    "user = input('입력:')\n",
    "\n",
    "print(user * 2)"
   ]
  },
  {
   "cell_type": "code",
   "execution_count": null,
   "id": "6092c556-8c94-4244-bec6-1c450818a8d2",
   "metadata": {},
   "outputs": [],
   "source": [
    "# 112\n",
    "사용자로부터 하나의 숫자를 입력받고, 입력 받은 숫자에 10을 더해 출력하라.\n",
    "\n",
    ">> 숫자를 입력하세요: 30\n",
    "40"
   ]
  },
  {
   "cell_type": "code",
   "execution_count": 7,
   "id": "66e4f872-93f6-4fed-9724-1b675bcb7eaf",
   "metadata": {},
   "outputs": [
    {
     "name": "stdin",
     "output_type": "stream",
     "text": [
      "숫자를 입력하세요: 30\n"
     ]
    },
    {
     "name": "stdout",
     "output_type": "stream",
     "text": [
      "40\n"
     ]
    }
   ],
   "source": [
    "user = int(input(\"숫자를 입력하세요:\"))\n",
    "\n",
    "print(user + 10)"
   ]
  },
  {
   "cell_type": "code",
   "execution_count": 8,
   "id": "669828ef-32e0-4fd7-a2f2-e4ee4e64c758",
   "metadata": {},
   "outputs": [
    {
     "name": "stdin",
     "output_type": "stream",
     "text": [
      "숫자를 입력하세요:  30\n"
     ]
    },
    {
     "name": "stdout",
     "output_type": "stream",
     "text": [
      "40\n"
     ]
    }
   ],
   "source": [
    "user = input(\"숫자를 입력하세요: \")\n",
    "\n",
    "print(10 + int(user))"
   ]
  },
  {
   "cell_type": "code",
   "execution_count": null,
   "id": "7aee27bc-a6ee-47a7-8863-49401bdb0f4b",
   "metadata": {},
   "outputs": [],
   "source": [
    "# 113\n",
    "사용자로부터 하나의 숫자를 입력 받고 짝수/홀수를 판별하라.\n",
    "\n",
    ">> 30\n",
    "짝수"
   ]
  },
  {
   "cell_type": "code",
   "execution_count": 15,
   "id": "e69017c1-52ff-4c54-af74-f0af79f0bfb6",
   "metadata": {},
   "outputs": [
    {
     "name": "stdin",
     "output_type": "stream",
     "text": [
      "숫자를 입력하세요:  200\n"
     ]
    },
    {
     "name": "stdout",
     "output_type": "stream",
     "text": [
      "짝수\n"
     ]
    }
   ],
   "source": [
    "user = int(input(\"숫자를 입력하세요: \"))\n",
    "\n",
    "if int(user) % 2 == 0:\n",
    "    print(\"짝수\")\n",
    "else:\n",
    "    print(\"홀수\")"
   ]
  },
  {
   "cell_type": "code",
   "execution_count": null,
   "id": "905c0e5d-22f9-4e88-91d7-325f3b201898",
   "metadata": {},
   "outputs": [],
   "source": [
    "# 114\n",
    "사용자로부터 값을 입력받은 후 해당 값에 20을 더한 값을 출력하라. 단 사용자가 입력한 값과 20을 더한 계산 값이 255를 초과하는 경우 255를 출력해야 한다.\n",
    "\n",
    ">> 입력값: 200\n",
    "출력값: 220\n",
    "\n",
    ">> 입력값: 240\n",
    "출력값: 255"
   ]
  },
  {
   "cell_type": "code",
   "execution_count": 25,
   "id": "07c71188-c532-4781-a269-41ce547f16fc",
   "metadata": {},
   "outputs": [
    {
     "name": "stdin",
     "output_type": "stream",
     "text": [
      "입력값: 800\n"
     ]
    },
    {
     "name": "stdout",
     "output_type": "stream",
     "text": [
      "출력값: 255\n"
     ]
    }
   ],
   "source": [
    "user = int(input('입력값:'))\n",
    "use = user + 20\n",
    "\n",
    "if use < 255 :\n",
    "    print('출력값:', use)\n",
    "else :\n",
    "    print('출력값:', 255)"
   ]
  },
  {
   "cell_type": "code",
   "execution_count": 23,
   "id": "cea43053-da36-427b-a62a-56da0854bcd5",
   "metadata": {},
   "outputs": [
    {
     "name": "stdin",
     "output_type": "stream",
     "text": [
      "입력값:  500\n"
     ]
    },
    {
     "name": "stdout",
     "output_type": "stream",
     "text": [
      "255\n"
     ]
    }
   ],
   "source": [
    "user = input(\"입력값: \")\n",
    "num = 20 + int(user)\n",
    "\n",
    "if num > 255:\n",
    "    print(255)\n",
    "else:\n",
    "    print(num)"
   ]
  },
  {
   "cell_type": "code",
   "execution_count": null,
   "id": "3caabd75-713d-4d79-8299-060ebb2af6e4",
   "metadata": {},
   "outputs": [],
   "source": [
    "# 115\n",
    "사용자로부터 하나의 값을 입력받은 후 해당 값에 20을 뺀 값을 출력하라. \n",
    "단, 출력 값의 범위는 0~255이다. 예를 들어 결괏값이 0보다 작은 값이되는 경우 0을 출력하고 255보다 큰 값이 되는 경우 255를 출력해야 한다.\n",
    "\n",
    ">> 입력값: 200\n",
    "출력값: 180\n",
    "\n",
    ">> 입력값: 15\n",
    "출력값: 0"
   ]
  },
  {
   "cell_type": "code",
   "execution_count": 32,
   "id": "b13ebe30-bb2c-4f75-83d8-359e204817a0",
   "metadata": {},
   "outputs": [
    {
     "name": "stdin",
     "output_type": "stream",
     "text": [
      "입력값: 21\n"
     ]
    },
    {
     "name": "stdout",
     "output_type": "stream",
     "text": [
      "출력값: 1\n"
     ]
    }
   ],
   "source": [
    "user = int(input('입력값:'))\n",
    "use = user - 20\n",
    "\n",
    "if 0 <= use <= 255 :\n",
    "    print('출력값:',use)\n",
    "elif use < 0 :\n",
    "    print('출력값:',0) \n",
    "else :\n",
    "    print('출력값:',255)"
   ]
  },
  {
   "cell_type": "code",
   "execution_count": 33,
   "id": "37d87c68-1561-4ece-9d13-c391da5b78a3",
   "metadata": {},
   "outputs": [
    {
     "name": "stdin",
     "output_type": "stream",
     "text": [
      "입력값:  500\n"
     ]
    },
    {
     "name": "stdout",
     "output_type": "stream",
     "text": [
      "255\n"
     ]
    }
   ],
   "source": [
    "user = input(\"입력값: \")\n",
    "num = int(user) - 20\n",
    "if num > 255:\n",
    "    print(255)\n",
    "elif num < 0:\n",
    "    print(0)\n",
    "else:\n",
    "    print(num)"
   ]
  },
  {
   "cell_type": "code",
   "execution_count": null,
   "id": "0ce1d0ba-d6b4-4bde-aded-970d681f94af",
   "metadata": {},
   "outputs": [],
   "source": [
    "# 116\n",
    "사용자로부터 입력 받은 시간이 정각인지 판별하라.\n",
    "\n",
    ">> 현재시간:02:00\n",
    "정각 입니다.\n",
    "\n",
    ">> 현재시간:03:10\n",
    "정각이 아닙니다"
   ]
  },
  {
   "cell_type": "code",
   "execution_count": 43,
   "id": "830791dd-5f81-4e95-8071-978e8e13a86d",
   "metadata": {},
   "outputs": [
    {
     "name": "stdin",
     "output_type": "stream",
     "text": [
      "현재시간: 02:10\n"
     ]
    },
    {
     "name": "stdout",
     "output_type": "stream",
     "text": [
      "정각이 아닙니다.\n"
     ]
    }
   ],
   "source": [
    "user = input('현재시간:')\n",
    "\n",
    "if user[-2:] == '00' : #문자열 슬라이싱을 이용해서 연산\n",
    "    print('정각 입니다.')\n",
    "else :\n",
    "    print('정각이 아닙니다.')"
   ]
  },
  {
   "cell_type": "code",
   "execution_count": 47,
   "id": "dc5282ca-0b06-4da7-b0ce-647f2397266a",
   "metadata": {},
   "outputs": [
    {
     "name": "stdin",
     "output_type": "stream",
     "text": [
      "현재시간: 02:55\n"
     ]
    },
    {
     "name": "stdout",
     "output_type": "stream",
     "text": [
      "02:55\n"
     ]
    }
   ],
   "source": [
    "user = input('현재시간:')\n",
    "print(user)"
   ]
  },
  {
   "cell_type": "code",
   "execution_count": 49,
   "id": "73964abc-2733-4233-af69-65da3f55d100",
   "metadata": {},
   "outputs": [
    {
     "data": {
      "text/plain": [
       "('02:55', str)"
      ]
     },
     "execution_count": 49,
     "metadata": {},
     "output_type": "execute_result"
    }
   ],
   "source": [
    "user,type(user)"
   ]
  },
  {
   "cell_type": "code",
   "execution_count": null,
   "id": "0fda0527-5328-4b1d-b297-7dcc218054ec",
   "metadata": {},
   "outputs": [],
   "source": [
    "# 117\n",
    "사용자로 입력받은 단어가 아래 fruit 리스트에 포함되어 있는지를 확인하라. 포함되었다면 \"정답입니다\"를 아닐 경우 \"오답입니다\" 출력하라.\n",
    "\n",
    "fruit = [\"사과\", \"포도\", \"홍시\"]\n",
    "\n",
    ">> 좋아하는 과일은? 사과\n",
    "정답입니다."
   ]
  },
  {
   "cell_type": "code",
   "execution_count": 51,
   "id": "e5e3cb85-c406-4329-b58e-c8f1ad480003",
   "metadata": {},
   "outputs": [
    {
     "name": "stdin",
     "output_type": "stream",
     "text": [
      "좋아하는 과일은? 수박\n"
     ]
    },
    {
     "name": "stdout",
     "output_type": "stream",
     "text": [
      "오답입니다.\n"
     ]
    }
   ],
   "source": [
    "user = input(\"좋아하는 과일은?\")\n",
    "fruit = [\"사과\", \"포도\", \"홍시\"]\n",
    "\n",
    "if user == fruit :\n",
    "    print('정답입니다.')\n",
    "else :\n",
    "    print('오답입니다.')"
   ]
  },
  {
   "cell_type": "code",
   "execution_count": null,
   "id": "d29cc843-d320-46ab-ad78-486d29229ff4",
   "metadata": {},
   "outputs": [],
   "source": [
    "fruit = [\"사과\", \"포도\", \"홍시\"]\n",
    "user = input(\"좋아하는 과일은?\")\n",
    "\n",
    "if user in fruit:\n",
    "    print(\"정답입니다.\")\n",
    "else:\n",
    "    print(\"오답입니다.\")"
   ]
  },
  {
   "cell_type": "code",
   "execution_count": null,
   "id": "21e46b71-d974-44ca-9175-688096903223",
   "metadata": {},
   "outputs": [],
   "source": [
    "# 118\n",
    "투자 경고 종목 리스트가 있을 때 사용자로부터 종목명을 입력 받은 후 해당 종목이 투자 경고 종목이라면\n",
    "'투자 경고 종목입니다'를 아니면 \"투자 경고 종목이 아닙니다.\"를 출력하는 프로그램을 작성하라.\n",
    "\n",
    "warn_investment_list = [\"Microsoft\", \"Google\", \"Naver\", \"Kakao\", \"SAMSUNG\", \"LG\"]"
   ]
  },
  {
   "cell_type": "code",
   "execution_count": 52,
   "id": "a8f16e46-18e9-427d-a018-8b54b207f2b0",
   "metadata": {},
   "outputs": [
    {
     "name": "stdin",
     "output_type": "stream",
     "text": [
      "종목명: 애플\n"
     ]
    },
    {
     "name": "stdout",
     "output_type": "stream",
     "text": [
      "투자 경고 종목이 아닙니다.\n"
     ]
    }
   ],
   "source": [
    "user = input(\"종목명:\")\n",
    "warn_investment_list = [\"Microsoft\", \"Google\", \"Naver\", \"Kakao\", \"SAMSUNG\", \"LG\"]\n",
    "\n",
    "if user == warn_investment_list :\n",
    "    print('투자 경고 종목입니다.')\n",
    "else :\n",
    "    print('투자 경고 종목이 아닙니다.')"
   ]
  },
  {
   "cell_type": "code",
   "execution_count": 53,
   "id": "7a29d676-c6fa-40f8-8f5a-f638f624ccd1",
   "metadata": {},
   "outputs": [
    {
     "name": "stdin",
     "output_type": "stream",
     "text": [
      "종목명:  사과\n"
     ]
    },
    {
     "name": "stdout",
     "output_type": "stream",
     "text": [
      "투자 경고 종목이 아닙니다.\n"
     ]
    }
   ],
   "source": [
    "warn_investment_list = [\"Microsoft\", \"Google\", \"Naver\", \"Kakao\", \"SAMSUNG\", \"LG\"]\n",
    "종목 = input(\"종목명: \")\n",
    "\n",
    "if 종목 in warn_investment_list:\n",
    "    print(\"투자 경고 종목입니다.\")\n",
    "else:\n",
    "    print(\"투자 경고 종목이 아닙니다.\")"
   ]
  },
  {
   "cell_type": "code",
   "execution_count": null,
   "id": "2d8b844f-4e6d-4e22-b581-c1d32bf5418a",
   "metadata": {},
   "outputs": [],
   "source": [
    "# 119\n",
    "아래와 같이 fruit 딕셔너리가 정의되어 있다. 사용자가 입력한 값이 딕셔너리 키 (key) 값에 포함되었다면 \"정답입니다\"를 아닐 경우 \"오답입니다\" 출력하라.\n",
    "\n",
    "fruit = {\"봄\" : \"딸기\", \"여름\" : \"토마토\", \"가을\" : \"사과\"}\n",
    ">> 제가좋아하는계절은: 봄\n",
    "정답입니다."
   ]
  },
  {
   "cell_type": "code",
   "execution_count": 56,
   "id": "d0679252-423c-44e4-8282-abd3c15dcffe",
   "metadata": {},
   "outputs": [
    {
     "name": "stdin",
     "output_type": "stream",
     "text": [
      "제가 좋아하는 계절은: 봄\n"
     ]
    },
    {
     "name": "stdout",
     "output_type": "stream",
     "text": [
      "정답입니다.\n"
     ]
    }
   ],
   "source": [
    "fruit = {\"봄\" : \"딸기\", \"여름\" : \"토마토\", \"가을\" : \"사과\"}\n",
    "user = input('제가 좋아하는 계절은:')\n",
    "\n",
    "if user in fruit :\n",
    "    print('정답입니다.')\n",
    "else :\n",
    "    print('오답입니다.')"
   ]
  },
  {
   "cell_type": "code",
   "execution_count": null,
   "id": "7a5a4268-22f3-4161-896c-1cde264f94e2",
   "metadata": {},
   "outputs": [],
   "source": [
    "# 120\n",
    "아래와 같이 fruit 딕셔너리가 정의되어 있다. 사용자가 입력한 값이 딕셔너리 값 (value)에 포함되었다면 \"정답입니다\"를 아닐 경우 \"오답입니다\" 출력하라.\n",
    "\n",
    "fruit = {\"봄\" : \"딸기\", \"여름\" : \"토마토\", \"가을\" : \"사과\"}\n",
    ">> 좋아하는과일은? 한라봉\n",
    "오답입니다."
   ]
  },
  {
   "cell_type": "code",
   "execution_count": 61,
   "id": "2862e59e-21a2-4196-b5e9-ae9c9a36bd8c",
   "metadata": {},
   "outputs": [
    {
     "name": "stdin",
     "output_type": "stream",
     "text": [
      "좋아하는 과일은? 딸기\n"
     ]
    },
    {
     "name": "stdout",
     "output_type": "stream",
     "text": [
      "정답입니다.\n"
     ]
    }
   ],
   "source": [
    "fruit = {\"봄\" : \"딸기\", \"여름\" : \"토마토\", \"가을\" : \"사과\"}\n",
    "user = input('좋아하는 과일은?')\n",
    "\n",
    "if user in fruit.values() :\n",
    "    print('정답입니다.')\n",
    "else :\n",
    "    print('오답입니다.')"
   ]
  },
  {
   "cell_type": "markdown",
   "id": "e775dcd5-93c2-4017-b904-bc431288d017",
   "metadata": {},
   "source": [
    "## 121 ~ 130"
   ]
  },
  {
   "cell_type": "code",
   "execution_count": null,
   "id": "32c08903-2d4b-4299-9ede-59ff274341c9",
   "metadata": {},
   "outputs": [],
   "source": [
    "# 121\n",
    "사용자로부터 문자 한 개를 입력 받고, 소문자일 경우 대문자로, 대문자 일 경우, 소문자로 변경해서 출력하라.\n",
    "\n",
    ">> a\n",
    "A\n",
    "힌트-1 : islower() 함수는 문자의 소문자 여부를 판별합니다. \n",
    "만약 소문자일 경우 True, 대문자일 경우 False를 반환합니다. \n",
    "힌트-2 : upper() 함수는 대문자로, lower() 함수는 소문자로 변경합니다."
   ]
  },
  {
   "cell_type": "code",
   "execution_count": 63,
   "id": "1e0dfa62-6797-427d-baac-6f3825398ce2",
   "metadata": {},
   "outputs": [
    {
     "name": "stdin",
     "output_type": "stream",
     "text": [
      " Samsung\n"
     ]
    },
    {
     "name": "stdout",
     "output_type": "stream",
     "text": [
      "samsung\n"
     ]
    }
   ],
   "source": [
    "user = input(\"\")\n",
    "if user.islower():\n",
    "    print(user.upper())\n",
    "else:\n",
    "    print(user.lower())"
   ]
  },
  {
   "cell_type": "code",
   "execution_count": null,
   "id": "1d46839b-11a1-4825-9229-08c69c345167",
   "metadata": {},
   "outputs": [],
   "source": [
    "# 122\n",
    "점수 구간에 해당하는 학점이 아래와 같이 정의되어 있다. 사용자로부터 score를 입력받아 학점을 출력하라.\n",
    "\n",
    "점수\t학점\n",
    "81~100\tA\n",
    "61~80\tB\n",
    "41~60\tC\n",
    "21~40\tD\n",
    "0~20\tE\n",
    "    \n",
    ">> score: 83\n",
    "grade is A"
   ]
  },
  {
   "cell_type": "code",
   "execution_count": 64,
   "id": "c21d9374-e4d7-4fbb-bb88-dc28de7921b7",
   "metadata": {},
   "outputs": [
    {
     "name": "stdin",
     "output_type": "stream",
     "text": [
      "score:  30\n"
     ]
    },
    {
     "name": "stdout",
     "output_type": "stream",
     "text": [
      "grade is D\n"
     ]
    }
   ],
   "source": [
    "score = input(\"score: \")\n",
    "score = int(score)\n",
    "\n",
    "if 81 <= score <= 100:\n",
    "    print(\"grade is A\")\n",
    "elif 61 <= score <= 80:\n",
    "    print(\"grade is B\")\n",
    "elif 41 <= score <= 60:\n",
    "    print(\"grade is C\")\n",
    "elif 21 <= score <= 40:\n",
    "    print(\"grade is D\")\n",
    "else:\n",
    "    print(\"grade is E\")"
   ]
  },
  {
   "cell_type": "code",
   "execution_count": null,
   "id": "04914c9e-5ab9-446b-a55d-f587168f1cb1",
   "metadata": {},
   "outputs": [],
   "source": [
    "# 123\n",
    "사용자로부터 달러, 엔, 유로, 또는 위안 금액을 입력받은 후 이를 원으로 변환하는 프로그램을 작성하라. 각 통화별 환율은 다음과 같다. \n",
    "사용자는 100 달러, 1000 엔, 13 유로, 100 위안과 같이 금액과 통화명 사이에 공백을 넣어 입력한다고 가정한다.\n",
    "\n",
    "통화명\t환율\n",
    "달러\t1167\n",
    "엔\t1.096\n",
    "유로\t1268\n",
    "위안\t171\n",
    "    \n",
    ">> 입력: 100 달러\n",
    "116700.00 원"
   ]
  },
  {
   "cell_type": "code",
   "execution_count": 66,
   "id": "8bcf26b1-d56d-4a4c-bc8d-23b488d53550",
   "metadata": {},
   "outputs": [
    {
     "name": "stdin",
     "output_type": "stream",
     "text": [
      "입력:  500 달러\n"
     ]
    },
    {
     "name": "stdout",
     "output_type": "stream",
     "text": [
      "583500.0 원\n"
     ]
    }
   ],
   "source": [
    "환율 = {\"달러\": 1167, \n",
    "        \"엔\": 1.096, \n",
    "        \"유로\": 1268, \n",
    "        \"위안\": 171}\n",
    "user = input(\"입력: \")\n",
    "num, currency = user.split()\n",
    "\n",
    "print(float(num) * 환율[currency], \"원\")"
   ]
  },
  {
   "cell_type": "code",
   "execution_count": 67,
   "id": "d8da20c0-cbfb-4bdd-86a3-ea7c21175580",
   "metadata": {},
   "outputs": [
    {
     "name": "stdin",
     "output_type": "stream",
     "text": [
      "입력:  500 달러\n"
     ]
    },
    {
     "name": "stdout",
     "output_type": "stream",
     "text": [
      "500.0 1167\n"
     ]
    }
   ],
   "source": [
    "환율 = {\"달러\": 1167, \n",
    "        \"엔\": 1.096, \n",
    "        \"유로\": 1268, \n",
    "        \"위안\": 171}\n",
    "user = input(\"입력: \")\n",
    "num, currency = user.split()\n",
    "print(float(num), 환율[currency])"
   ]
  },
  {
   "cell_type": "code",
   "execution_count": null,
   "id": "71600e09-3114-4c4b-914a-c064ae4eee33",
   "metadata": {},
   "outputs": [],
   "source": [
    "# 124\n",
    "사용자로부터 세 개의 숫자를 입력 받은 후 가장 큰 숫자를 출력하라.\n",
    "\n",
    ">> input number1: 10\n",
    ">> input number2: 9\n",
    ">> input number3: 20\n",
    "20"
   ]
  },
  {
   "cell_type": "code",
   "execution_count": 68,
   "id": "e86da947-a1fe-4a0a-af64-20eb4a41fafe",
   "metadata": {},
   "outputs": [
    {
     "name": "stdin",
     "output_type": "stream",
     "text": [
      "input number1:  50\n",
      "input number2:  30\n",
      "input number3:  90\n"
     ]
    },
    {
     "name": "stdout",
     "output_type": "stream",
     "text": [
      "90\n"
     ]
    }
   ],
   "source": [
    "num1 = input(\"input number1: \")\n",
    "num2 = input(\"input number2: \")\n",
    "num3 = input(\"input number3: \")\n",
    "num1 = int(num1)\n",
    "num2 = int(num2)\n",
    "num3 = int(num3)\n",
    "\n",
    "if num1 >= num2 and num1 >= num3:\n",
    "    print(num1)\n",
    "elif num2 >= num1 and num2 >= num3:\n",
    "    print(num2)\n",
    "else:\n",
    "    print(num3)"
   ]
  },
  {
   "cell_type": "code",
   "execution_count": null,
   "id": "dc461ea5-eab1-4199-98fa-c60203a4c309",
   "metadata": {},
   "outputs": [],
   "source": [
    "# 125\n",
    "휴대폰 번호 앞자리에 따라 통신사는 아래와 같이 구분된다. 사용자로부터 휴대전화 번호를 입력 받고, 통신사를 출력하는 프로그램을 작성하라.\n",
    "\n",
    "번호\t통신사\n",
    "011\tSKT\n",
    "016\tKT\n",
    "019\tLGU\n",
    "010\t알수없음\n",
    "\n",
    ">> 휴대전화 번호 입력: 011-345-1922\n",
    "당신은 SKT 사용자입니다."
   ]
  },
  {
   "cell_type": "code",
   "execution_count": 71,
   "id": "31b4511d-3e98-40cd-a052-99f22fa153e1",
   "metadata": {},
   "outputs": [
    {
     "name": "stdin",
     "output_type": "stream",
     "text": [
      "휴대전화 번호 입력:  011-6775-6906\n"
     ]
    },
    {
     "name": "stdout",
     "output_type": "stream",
     "text": [
      "당신은 SKT 사용자입니다.\n"
     ]
    }
   ],
   "source": [
    "number = input(\"휴대전화 번호 입력: \")\n",
    "num = number.split(\"-\")[0]\n",
    "\n",
    "if num == \"011\":\n",
    "    com = \"SKT\"\n",
    "elif num == \"016\":\n",
    "    com = \"KT\"\n",
    "elif num == \"019\":\n",
    "    com = \"LGU\"\n",
    "else:\n",
    "    com = \"알수없음\"\n",
    "    \n",
    "print(f\"당신은 {com} 사용자입니다.\")"
   ]
  },
  {
   "cell_type": "code",
   "execution_count": null,
   "id": "733ec378-2a88-4002-8870-ee61093b2f6a",
   "metadata": {},
   "outputs": [],
   "source": [
    "# 126\n",
    "우편번호는 5자리로 구성되는데, 앞의 세자리는 구를 나타낸다. 예를들어, 강북구의 경우 010, 011, 012 세 자리로 시작한다.\n",
    "\n",
    "-\t  0\t      1\t       2\t   3 \t  4\t      5  \t 6\t     7\t      8\t      9\n",
    "01\t강북구\t강북구\t강북구\t도봉구\t도봉구\t도봉구\t노원구\t노원구\t노원구\t노원구\n",
    "\n",
    "사용자로 부터 5자리 우편번호를 입력받고 구를 판별하라\n",
    "\n",
    ">> 우편번호: 01400\n",
    "도봉구"
   ]
  },
  {
   "cell_type": "code",
   "execution_count": 72,
   "id": "367f3f8f-2d17-4ce9-8682-bf5220eeea84",
   "metadata": {},
   "outputs": [
    {
     "name": "stdin",
     "output_type": "stream",
     "text": [
      "우편번호:  010\n"
     ]
    },
    {
     "name": "stdout",
     "output_type": "stream",
     "text": [
      "강북구\n"
     ]
    }
   ],
   "source": [
    "우편번호 = input(\"우편번호: \")\n",
    "우편번호 = 우편번호[:3]\n",
    "if 우편번호 in [\"010\", \"011\", \"012\"]:\n",
    "    print(\"강북구\")\n",
    "elif 우편번호 in [\"014\", \"015\", \"016\"]:\n",
    "    print(\"도봉구\")\n",
    "else:\n",
    "    print(\"노원구\")"
   ]
  },
  {
   "cell_type": "code",
   "execution_count": null,
   "id": "74496f97-5bfd-4a83-8b81-29f36372e0e2",
   "metadata": {},
   "outputs": [],
   "source": [
    "# 127\n",
    "주민등록번호 뒷 자리 7자리 중 첫째 자리는 성별을 나타내는데, 1, 3은 남자 2, 4는 여자를 의미한다. \n",
    "사용자로부터 13자리의 주민등록번호를 입력 받은 후 성별 (남자, 여자)를 출력하는 프로그램을 작성하라.\n",
    "\n",
    ">> 주민등록번호: 821010-1635210\n",
    "남자"
   ]
  },
  {
   "cell_type": "code",
   "execution_count": 73,
   "id": "8cad3ee6-f9e9-4bfa-b28d-8d128ce923b0",
   "metadata": {},
   "outputs": [
    {
     "name": "stdin",
     "output_type": "stream",
     "text": [
      "주민등록번호:  123456-1234567\n"
     ]
    },
    {
     "name": "stdout",
     "output_type": "stream",
     "text": [
      "남자\n"
     ]
    }
   ],
   "source": [
    "주민번호 = input(\"주민등록번호: \")\n",
    "주민번호 = 주민번호.split(\"-\")[1]\n",
    "\n",
    "if 주민번호[0] == \"1\" or 주민번호[0] == \"3\":\n",
    "    print(\"남자\")\n",
    "else:\n",
    "    print(\"여자\")"
   ]
  },
  {
   "cell_type": "code",
   "execution_count": null,
   "id": "c45ed875-452e-4b04-8f30-fcec3b92c051",
   "metadata": {},
   "outputs": [],
   "source": [
    "# 128\n",
    "주민등록번호의 뒷 자리 7자리 중 두번째와 세번째는 지역코드를 의미한다. 주민 등록 번호를 입력 받은 후 출생지가 서울인지 아닌지 판단하는 코드를 작성하라\n",
    "\n",
    "지역코드\t출생지\n",
    "00 ~ 08\t서울\n",
    "09 ~ 12\t부산\n",
    "\n",
    ">> 주민등록번호: 821010-1635210\n",
    "서울이 아닙니다.\n",
    "    \n",
    ">> 주민등록번호: 861010-1015210\n",
    "서울 입니다."
   ]
  },
  {
   "cell_type": "code",
   "execution_count": null,
   "id": "602f7c5a-ed1c-4173-b464-21005a443014",
   "metadata": {},
   "outputs": [],
   "source": [
    "주민번호 = input(\"주민등록번호: \")\n",
    "뒷자리 = 주민번호.split(\"-\")[1]\n",
    "\n",
    "if 0 <= int(뒷자리[1:3]) <= 8:\n",
    "    print(\"서울입니다.\")\n",
    "else:\n",
    "    print(\"서울이 아닙니다.\")"
   ]
  },
  {
   "cell_type": "code",
   "execution_count": null,
   "id": "ab1eeeec-a1e5-47f6-bf93-f680b88538fd",
   "metadata": {},
   "outputs": [],
   "source": [
    "# 129\n",
    "주민등록번호는 13자리로 구성되는데 마지막 자리수는 주민등록번호의 유효성을 체크하는데 사용된다. \n",
    "먼저 앞에서부터 12자리의 숫자에 2, 3, 4, 5, 6, 7, 8, 9, 2, 3, 4, 5를 차례로 곱한 뒤 그 값을 전부 더한다. \n",
    "연산 결과 값을 11로 나누면 나머지가 나오는데 11에서 나머지를 뺀 값이 주민등록번호의 마지막 번호가 된다.\n",
    "\n",
    "  8 2 1 0 1 0 - 1 6 3 5 2 1 0\n",
    "x 2 3 4 5 6 7   8 9 2 3 4 5 \n",
    "-----------------------------\n",
    "1차 계산: (8*2 + 2*3 + 1*4 + 0*5 + 1*6 + 0*7 + 1*8 + 6*9 + 3*2 + 5*3 + 2*4 + 1*5) = (128 % 11) = 7\n",
    "2차 계산: 11 -7 = 4\n",
    "위와 같이 821010-1635210에 대해서 계산을 해보면 마지막 자리는 4가 되어야 함을 알 수 있다. 즉, 821010-1635210은 유효하지 않은 주민등록번호임을 알 수 있다.\n",
    "\n",
    "다음과 같이 사용자로부터 주민등록번호를 입력받은 후 주민등록번호가 유효한지를 출력하는 프로그램을 작성하라.\n",
    "\n",
    ">> 주민등록번호: 821010-1635210\n",
    "유효하지 않은 주민등록번호입니다. "
   ]
  },
  {
   "cell_type": "code",
   "execution_count": null,
   "id": "e7fc6dfb-3916-496a-8cbd-4e7cb6571440",
   "metadata": {},
   "outputs": [],
   "source": [
    "num = input(\"주민등록번호: \")\n",
    "계산1 = int(num[0]) * 2 + int(num[1]) * 3 + int(num[2]) * 4 + int(num[3]) * 5 + int(num[4]) * 6 + \\\n",
    "        int(num[5]) * 7 + int(num[7]) * 8 + int(num[8]) * 9 + int(num[9]) * 2 + int(num[10])* 3 + \\\n",
    "        int(num[11])* 4 + int(num[12]) * 5\n",
    "계산2 = 11 - (계산1 % 11)\n",
    "계산3 = str(계산2)\n",
    "\n",
    "if num[-1] == 계산3[-1]:\n",
    "    print(\"유효한 주민등록번호입니다.\")\n",
    "else:\n",
    "    print(\"유효하지 않은 주민등록번호입니다.\")"
   ]
  },
  {
   "cell_type": "code",
   "execution_count": null,
   "id": "d510305f-2d9a-40ef-a574-635f6876742e",
   "metadata": {},
   "outputs": [],
   "source": [
    "# 130\n",
    "아래 코드는 비트코인의 가격 정보를 딕셔너리로 가져오는 코드이다.\n",
    "\n",
    "import requests\n",
    "btc = requests.get(\"https://api.bithumb.com/public/ticker/\").json()['data']\n",
    "btc 딕셔너리 안에는 시가, 종가, 최고가, 최저가 등이 저장되어 있다. \n",
    "최고가와 최저가의 차이를 변동폭으로 정의할 때 (시가 + 변동폭)이 최고가 보다 높을 경우 \"상승장\", 그렇지 않은 경우 \"하락장\" 문자열을 출력하라.\n",
    "\n",
    "Key Name\tDescription\n",
    "opening_price\t최근 24시간 내 시작 거래금액\n",
    "closing_price\t최근 24시간 내 마지막 거래금액\n",
    "min_price\t최근 24시간 내 최저 거래금액\n",
    "max_price\t최근 24시간 내 최고 거래금액"
   ]
  },
  {
   "cell_type": "code",
   "execution_count": null,
   "id": "116396e4-fda8-41fe-950f-0ab97b01b43c",
   "metadata": {},
   "outputs": [],
   "source": [
    "import requests\n",
    "btc = requests.get(\"https://api.bithumb.com/public/ticker/\").json()['data']\n",
    "\n",
    "변동폭 = float(btc['max_price']) - float(btc['min_price'])\n",
    "시가 = float(btc['opening_price'])\n",
    "최고가 = float(btc['max_price'])\n",
    "\n",
    "if (시가+변동폭) > 최고가:\n",
    "    print(\"상승장\")\n",
    "else:\n",
    "    print(\"하락장\")"
   ]
  },
  {
   "cell_type": "markdown",
   "id": "a0d94165-eac1-415c-8cc9-f187476a309b",
   "metadata": {},
   "source": [
    "# 파이썬 반복문\n",
    "- 파이썬 for 문은 횟수가 정해져 있거나 상대적으로 횟수가 적은 경우에 대한 반복에 주로 사용됩니다. 파이썬 while문은 횟수가 상대적으로 크거나 무한 루프 형태의 반복문에 사용됩니다."
   ]
  },
  {
   "cell_type": "markdown",
   "id": "a8b9c907-031a-4e27-b543-e2280a2a4c85",
   "metadata": {},
   "source": [
    "## 131 ~ 140"
   ]
  },
  {
   "cell_type": "code",
   "execution_count": null,
   "id": "66cfeb4e-eba6-4e08-ab1a-f130f75e0680",
   "metadata": {},
   "outputs": [],
   "source": [
    "# 131\n",
    "for문의 실행결과를 예측하라.\n",
    "\n",
    "과일 = [\"사과\", \"귤\", \"수박\"]\n",
    "\n",
    "for 변수 in 과일:\n",
    "    print(변수)"
   ]
  },
  {
   "cell_type": "code",
   "execution_count": null,
   "id": "c4893774-67e6-48d4-bdb8-58282c93372d",
   "metadata": {},
   "outputs": [],
   "source": [
    "# 내 예측\n",
    "사과\n",
    "귤\n",
    "수박"
   ]
  },
  {
   "cell_type": "code",
   "execution_count": 2,
   "id": "9638cc0c-4070-4100-befa-d3246688f99b",
   "metadata": {},
   "outputs": [
    {
     "name": "stdout",
     "output_type": "stream",
     "text": [
      "사과\n",
      "귤\n",
      "수박\n"
     ]
    }
   ],
   "source": [
    "# 실행 결과\n",
    "과일 = [\"사과\", \"귤\", \"수박\"]\n",
    "\n",
    "for 변수 in 과일:\n",
    "    print(변수)"
   ]
  },
  {
   "cell_type": "code",
   "execution_count": null,
   "id": "03f6ee59-93ab-466c-82aa-b831883bf70c",
   "metadata": {},
   "outputs": [],
   "source": [
    "# 132\n",
    "for문의 실행결과를 예측하라.\n",
    "\n",
    "과일 = [\"사과\", \"귤\", \"수박\"]\n",
    "\n",
    "for 변수 in 과일:\n",
    "  print(\"#####\")"
   ]
  },
  {
   "cell_type": "code",
   "execution_count": null,
   "id": "240c3141-f3cc-49c8-a294-33b4669152f1",
   "metadata": {},
   "outputs": [],
   "source": [
    "# 내 예측\n",
    "#####\n",
    "#####\n",
    "#####"
   ]
  },
  {
   "cell_type": "code",
   "execution_count": 4,
   "id": "cbd43be2-ca25-43e7-8e90-544b713bb94c",
   "metadata": {},
   "outputs": [
    {
     "name": "stdout",
     "output_type": "stream",
     "text": [
      "#####\n",
      "#####\n",
      "#####\n"
     ]
    }
   ],
   "source": [
    "# 실행 결과\n",
    "과일 = [\"사과\", \"귤\", \"수박\"]\n",
    "\n",
    "for 변수 in 과일:\n",
    "  print(\"#####\")"
   ]
  },
  {
   "cell_type": "markdown",
   "id": "232281d6-2ee9-494d-bd36-eb085bd38dc8",
   "metadata": {},
   "source": [
    "내 결론 : 변수는 과일에 있는 요소들 수 만큼(사과, 귤, 수박 -> 총 3개) for문을 실행하게 되고, 변수의 값은 과일에 있는 요소에 값(사과, 귤, 수박)을 가진다.   \n",
    "즉, '사과'를 변수에 넣어서 for문 실행 -> '귤'을 변수에 넣어서 for문 실행 -> '수박'을 변수에 넣어서 for문 실행"
   ]
  },
  {
   "cell_type": "code",
   "execution_count": null,
   "id": "53d50da8-d10b-4d90-9d54-21d021f5bdcf",
   "metadata": {},
   "outputs": [],
   "source": [
    "# 133\n",
    "다음 for 문과 동일한 기능을 수행하는 코드를 작성하세요.\n",
    "\n",
    "for 변수 in [\"A\", \"B\", \"C\"]:\n",
    "  print(변수)"
   ]
  },
  {
   "cell_type": "code",
   "execution_count": 7,
   "id": "872ac902-d2ab-4ecb-b042-22a364c17572",
   "metadata": {},
   "outputs": [
    {
     "name": "stdout",
     "output_type": "stream",
     "text": [
      "A\n",
      "B\n",
      "C\n"
     ]
    }
   ],
   "source": [
    "for 변수 in [\"A\", \"B\", \"C\"]:\n",
    "  print(변수)"
   ]
  },
  {
   "cell_type": "code",
   "execution_count": 5,
   "id": "eea0417b-4138-473b-bb99-c8901f1f1f03",
   "metadata": {},
   "outputs": [
    {
     "name": "stdout",
     "output_type": "stream",
     "text": [
      "A\n",
      "B\n",
      "C\n"
     ]
    }
   ],
   "source": [
    "변수 = \"A\"\n",
    "print(변수)\n",
    "변수 = \"B\"\n",
    "print(변수)\n",
    "변수 = \"C\"\n",
    "print(변수)"
   ]
  },
  {
   "cell_type": "code",
   "execution_count": 6,
   "id": "9cb9a2e3-71aa-4708-a1e8-e79af69a31df",
   "metadata": {},
   "outputs": [
    {
     "name": "stdout",
     "output_type": "stream",
     "text": [
      "A\n",
      "B\n",
      "C\n"
     ]
    }
   ],
   "source": [
    "print(\"A\")\n",
    "print(\"B\")\n",
    "print(\"C\")"
   ]
  },
  {
   "cell_type": "code",
   "execution_count": null,
   "id": "f665daa1-48dd-43b6-9c4b-2eb767f8e9b5",
   "metadata": {},
   "outputs": [],
   "source": [
    "# 134\n",
    "for문을 풀어서 동일한 동작을하는 코드를 작성하라.\n",
    "\n",
    "for 변수 in [\"A\", \"B\", \"C\"]:\n",
    "  print(\"출력:\", 변수)"
   ]
  },
  {
   "cell_type": "code",
   "execution_count": 8,
   "id": "e94d447f-76c1-4aed-b0c0-6214a334fdaf",
   "metadata": {},
   "outputs": [
    {
     "name": "stdout",
     "output_type": "stream",
     "text": [
      "출력: A\n",
      "출력: B\n",
      "출력: C\n"
     ]
    }
   ],
   "source": [
    "for 변수 in [\"A\", \"B\", \"C\"]:\n",
    "  print(\"출력:\", 변수)"
   ]
  },
  {
   "cell_type": "code",
   "execution_count": 9,
   "id": "e8e363c9-7121-4cbc-bc35-805619ce2e55",
   "metadata": {},
   "outputs": [
    {
     "name": "stdout",
     "output_type": "stream",
     "text": [
      "출력: A\n",
      "출력: B\n",
      "출력: C\n"
     ]
    }
   ],
   "source": [
    "변수 = \"A\"\n",
    "print(\"출력:\",변수)\n",
    "변수 = \"B\"\n",
    "print(\"출력:\",변수)\n",
    "변수 = \"C\"\n",
    "print(\"출력:\",변수)"
   ]
  },
  {
   "cell_type": "code",
   "execution_count": 10,
   "id": "b29598a4-17c5-49cb-b807-e4553b941ebe",
   "metadata": {},
   "outputs": [
    {
     "name": "stdout",
     "output_type": "stream",
     "text": [
      "출력: A\n",
      "출력: B\n",
      "출력: C\n"
     ]
    }
   ],
   "source": [
    "print(\"출력:\",\"A\")\n",
    "print(\"출력:\",\"B\")\n",
    "print(\"출력:\",\"C\")"
   ]
  },
  {
   "cell_type": "code",
   "execution_count": null,
   "id": "db56adf6-08c1-48ac-a27a-01704b493307",
   "metadata": {},
   "outputs": [],
   "source": [
    "# 135\n",
    "for문을 풀어서 동일한 동작을 하는 코드를 작성하라.\n",
    "\n",
    "for 변수 in [\"A\", \"B\", \"C\"]:\n",
    "  b = 변수.lower()\n",
    "  print(\"변환:\", b)"
   ]
  },
  {
   "cell_type": "code",
   "execution_count": 11,
   "id": "74ee42d0-2782-47c7-b29a-d1f88883bd83",
   "metadata": {},
   "outputs": [
    {
     "name": "stdout",
     "output_type": "stream",
     "text": [
      "변환: a\n",
      "변환: b\n",
      "변환: c\n"
     ]
    }
   ],
   "source": [
    "for 변수 in [\"A\", \"B\", \"C\"]:\n",
    "  b = 변수.lower()\n",
    "  print(\"변환:\", b)"
   ]
  },
  {
   "cell_type": "code",
   "execution_count": 12,
   "id": "5eae45d8-ce29-4894-8b5c-03bc161d9807",
   "metadata": {},
   "outputs": [
    {
     "name": "stdout",
     "output_type": "stream",
     "text": [
      "변환: a\n",
      "변환: b\n",
      "변환: c\n"
     ]
    }
   ],
   "source": [
    "변수 = \"A\"\n",
    "print(\"변환:\",변수.lower())\n",
    "변수 = \"B\"\n",
    "print(\"변환:\",변수.lower())\n",
    "변수 = \"C\"\n",
    "print(\"변환:\",변수.lower())"
   ]
  },
  {
   "cell_type": "code",
   "execution_count": 13,
   "id": "5fc2d229-96d4-4e71-a018-c283d8d0b832",
   "metadata": {},
   "outputs": [
    {
     "name": "stdout",
     "output_type": "stream",
     "text": [
      "변환: a\n",
      "변환: b\n",
      "변환: c\n"
     ]
    }
   ],
   "source": [
    "print(\"변환:\",\"A\".lower())\n",
    "print(\"변환:\",\"B\".lower())\n",
    "print(\"변환:\",\"C\".lower())"
   ]
  },
  {
   "cell_type": "code",
   "execution_count": null,
   "id": "7807ec0a-d241-4393-bfd7-1d7472e935b4",
   "metadata": {},
   "outputs": [],
   "source": [
    "# 136\n",
    "다음 코드를 for문으로 작성하라.\n",
    "    \n",
    "변수 = 10\n",
    "print(변수)\n",
    "변수 = 20\n",
    "print(변수)\n",
    "변수 = 30\n",
    "print(변수)"
   ]
  },
  {
   "cell_type": "code",
   "execution_count": 24,
   "id": "2a8bd08a-a7e5-409d-8330-9db14952db41",
   "metadata": {},
   "outputs": [
    {
     "name": "stdout",
     "output_type": "stream",
     "text": [
      "10\n",
      "20\n",
      "30\n"
     ]
    }
   ],
   "source": [
    "변수 = 10\n",
    "print(변수)\n",
    "변수 = 20\n",
    "print(변수)\n",
    "변수 = 30\n",
    "print(변수)"
   ]
  },
  {
   "cell_type": "code",
   "execution_count": 18,
   "id": "b3281f8c-b692-42f4-b648-4a5e0ecd281a",
   "metadata": {},
   "outputs": [
    {
     "name": "stdout",
     "output_type": "stream",
     "text": [
      "10\n",
      "20\n",
      "30\n"
     ]
    }
   ],
   "source": [
    "변수 = [10, 20, 30]\n",
    "\n",
    "for i in 변수 :\n",
    "    print(i)"
   ]
  },
  {
   "cell_type": "code",
   "execution_count": 19,
   "id": "5a1e7400-817d-403c-837f-7c4cfe29e289",
   "metadata": {},
   "outputs": [
    {
     "name": "stdout",
     "output_type": "stream",
     "text": [
      "10\n",
      "20\n",
      "30\n"
     ]
    }
   ],
   "source": [
    "for 변수 in [10, 20, 30] :\n",
    "    print(변수)"
   ]
  },
  {
   "cell_type": "code",
   "execution_count": null,
   "id": "51aabeac-add5-4bfe-806a-10bf147667c9",
   "metadata": {},
   "outputs": [],
   "source": [
    "# 137\n",
    "다음 코드를 for문으로 작성하라.\n",
    "\n",
    "print(10)\n",
    "print(20)\n",
    "print(30)"
   ]
  },
  {
   "cell_type": "code",
   "execution_count": 23,
   "id": "b2ddf58c-b262-4665-ac48-a0ee099b69c6",
   "metadata": {},
   "outputs": [
    {
     "name": "stdout",
     "output_type": "stream",
     "text": [
      "10\n",
      "20\n",
      "30\n"
     ]
    }
   ],
   "source": [
    "print(10)\n",
    "print(20)\n",
    "print(30)"
   ]
  },
  {
   "cell_type": "code",
   "execution_count": 20,
   "id": "20985ad0-4492-46a0-a2e1-7eed3b9cdc0a",
   "metadata": {},
   "outputs": [
    {
     "name": "stdout",
     "output_type": "stream",
     "text": [
      "10\n",
      "20\n",
      "30\n"
     ]
    }
   ],
   "source": [
    "변수 = 10\n",
    "print(변수)\n",
    "변수 = 20\n",
    "print(변수)\n",
    "변수 = 30\n",
    "print(변수)"
   ]
  },
  {
   "cell_type": "code",
   "execution_count": 21,
   "id": "59250a19-21a6-41ed-aec5-925a8b879ba1",
   "metadata": {},
   "outputs": [
    {
     "name": "stdout",
     "output_type": "stream",
     "text": [
      "10\n",
      "20\n",
      "30\n"
     ]
    }
   ],
   "source": [
    "변수 = [10, 20, 30]\n",
    "\n",
    "for i in 변수 :\n",
    "    print(i)"
   ]
  },
  {
   "cell_type": "code",
   "execution_count": 22,
   "id": "496b7747-234f-4d95-8ea0-4892438ec164",
   "metadata": {},
   "outputs": [
    {
     "name": "stdout",
     "output_type": "stream",
     "text": [
      "10\n",
      "20\n",
      "30\n"
     ]
    }
   ],
   "source": [
    "# 교재 답\n",
    "for 변수 in [10, 20, 30] :\n",
    "    print(변수)"
   ]
  },
  {
   "cell_type": "code",
   "execution_count": null,
   "id": "689c70e7-52b1-46b6-9af3-c58dfb892c28",
   "metadata": {},
   "outputs": [],
   "source": [
    "# 138\n",
    "다음 코드를 for문으로 작성하라.\n",
    "\n",
    "print(10)\n",
    "print(\"-------\")\n",
    "print(20)\n",
    "print(\"-------\")\n",
    "print(30)\n",
    "print(\"-------\")"
   ]
  },
  {
   "cell_type": "code",
   "execution_count": 25,
   "id": "ad3a6ad4-7ac6-4d26-9c90-d7e2d98082de",
   "metadata": {},
   "outputs": [
    {
     "name": "stdout",
     "output_type": "stream",
     "text": [
      "10\n",
      "-------\n",
      "20\n",
      "-------\n",
      "30\n",
      "-------\n"
     ]
    }
   ],
   "source": [
    "# 코드 실행 결과\n",
    "print(10)\n",
    "print(\"-------\")\n",
    "print(20)\n",
    "print(\"-------\")\n",
    "print(30)\n",
    "print(\"-------\")"
   ]
  },
  {
   "cell_type": "code",
   "execution_count": 26,
   "id": "6ec0a6e6-7039-4bab-8fb3-46c87d1cf10f",
   "metadata": {},
   "outputs": [
    {
     "name": "stdout",
     "output_type": "stream",
     "text": [
      "10\n",
      "-------\n",
      "20\n",
      "-------\n",
      "30\n",
      "-------\n"
     ]
    }
   ],
   "source": [
    "# 변수 분리\n",
    "변수 = 10\n",
    "print(변수)\n",
    "print(\"-------\")\n",
    "\n",
    "변수 = 20\n",
    "print(변수)\n",
    "print(\"-------\")\n",
    "\n",
    "변수 = 30\n",
    "print(변수)\n",
    "print(\"-------\")"
   ]
  },
  {
   "cell_type": "code",
   "execution_count": 27,
   "id": "fdc3cffd-0243-4baa-8363-b9ab96c3274c",
   "metadata": {},
   "outputs": [
    {
     "name": "stdout",
     "output_type": "stream",
     "text": [
      "10\n",
      "-------\n",
      "20\n",
      "-------\n",
      "30\n",
      "-------\n"
     ]
    }
   ],
   "source": [
    "# 변수 분리 2\n",
    "변수 = [10, 20, 30]\n",
    "줄 = \"-------\"\n",
    "print(변수)\n",
    "print(줄)\n",
    "\n",
    "print(변수)\n",
    "print(줄)\n",
    "\n",
    "print(변수)\n",
    "print(줄)"
   ]
  },
  {
   "cell_type": "code",
   "execution_count": 29,
   "id": "52f23af7-1f24-4004-8538-fce89849db49",
   "metadata": {},
   "outputs": [
    {
     "name": "stdout",
     "output_type": "stream",
     "text": [
      "10\n",
      "-------\n",
      "20\n",
      "-------\n",
      "30\n",
      "-------\n"
     ]
    }
   ],
   "source": [
    "# 변수 정리 후 실행\n",
    "변수 = [10, 20, 30]\n",
    "줄 = \"-------\"\n",
    "\n",
    "for i in 변수 :\n",
    "    print(i)\n",
    "    print(줄)"
   ]
  },
  {
   "cell_type": "code",
   "execution_count": 30,
   "id": "bbe201fb-bc6c-47d6-9559-2ab208cc8554",
   "metadata": {},
   "outputs": [
    {
     "name": "stdout",
     "output_type": "stream",
     "text": [
      "10\n",
      "-------\n",
      "20\n",
      "-------\n",
      "30\n",
      "-------\n"
     ]
    }
   ],
   "source": [
    "# 실행 - 코드 간소화\n",
    "변수 = [10, 20, 30]\n",
    "\n",
    "for i in 변수 :\n",
    "    print(i)\n",
    "    print(\"-------\")"
   ]
  },
  {
   "cell_type": "code",
   "execution_count": 31,
   "id": "d1961ea3-d3a0-48f7-bd55-58ee88855fc8",
   "metadata": {},
   "outputs": [
    {
     "name": "stdout",
     "output_type": "stream",
     "text": [
      "10\n",
      "-------\n",
      "20\n",
      "-------\n",
      "30\n",
      "-------\n"
     ]
    }
   ],
   "source": [
    "# 실행 - 코드 간소화 - 교재 답\n",
    "for 변수 in [10, 20, 30] :\n",
    "    print(변수)\n",
    "    print(\"-------\")"
   ]
  },
  {
   "cell_type": "code",
   "execution_count": null,
   "id": "2546a625-3294-4a3e-8e3b-ae8c249c98ac",
   "metadata": {},
   "outputs": [],
   "source": [
    "# 139\n",
    "다음 코드를 for문으로 작성하라.\n",
    "\n",
    "print(\"++++\")\n",
    "print(10)\n",
    "print(20)\n",
    "print(30)"
   ]
  },
  {
   "cell_type": "code",
   "execution_count": 32,
   "id": "8e37be98-5226-4124-9e23-0b6ab40d889c",
   "metadata": {},
   "outputs": [
    {
     "name": "stdout",
     "output_type": "stream",
     "text": [
      "++++\n",
      "10\n",
      "20\n",
      "30\n"
     ]
    }
   ],
   "source": [
    "# 코드 실행 결과\n",
    "print(\"++++\")\n",
    "print(10)\n",
    "print(20)\n",
    "print(30)"
   ]
  },
  {
   "cell_type": "code",
   "execution_count": 33,
   "id": "cc2a9ced-4cdb-4506-9814-1036f864e440",
   "metadata": {},
   "outputs": [
    {
     "name": "stdout",
     "output_type": "stream",
     "text": [
      "++++\n",
      "10\n",
      "20\n",
      "30\n"
     ]
    }
   ],
   "source": [
    "# 변수 분리\n",
    "변수 = \"++++\"\n",
    "print(변수)\n",
    "\n",
    "변수 = 10\n",
    "print(변수)\n",
    "\n",
    "변수 = 20\n",
    "print(변수)\n",
    "\n",
    "변수 = 30\n",
    "print(변수)"
   ]
  },
  {
   "cell_type": "code",
   "execution_count": 34,
   "id": "d0f51b09-1ce1-4f74-a026-226a59f4fccd",
   "metadata": {},
   "outputs": [
    {
     "name": "stdout",
     "output_type": "stream",
     "text": [
      "++++\n",
      "10\n",
      "20\n",
      "30\n"
     ]
    }
   ],
   "source": [
    "# 변수 정리 후 실행\n",
    "변수 = ['++++', 10, 20, 30]\n",
    "\n",
    "for i in 변수 :\n",
    "    print(i)"
   ]
  },
  {
   "cell_type": "code",
   "execution_count": 35,
   "id": "df573448-8729-4c1a-8eed-085eb73e1513",
   "metadata": {},
   "outputs": [
    {
     "name": "stdout",
     "output_type": "stream",
     "text": [
      "++++\n",
      "10\n",
      "20\n",
      "30\n"
     ]
    }
   ],
   "source": [
    "# 실행 - 코드 간소화\n",
    "for 변수 in ['++++', 10, 20, 30] :\n",
    "    print(변수)"
   ]
  },
  {
   "cell_type": "code",
   "execution_count": 36,
   "id": "67cbb14c-e313-4c9d-8960-a9c4152d5235",
   "metadata": {},
   "outputs": [
    {
     "name": "stdout",
     "output_type": "stream",
     "text": [
      "++++\n",
      "10\n",
      "20\n",
      "30\n"
     ]
    }
   ],
   "source": [
    "# 교재 답\n",
    "print(\"++++\")\n",
    "for 변수 in [10, 20, 30]:\n",
    "  print(변수)"
   ]
  },
  {
   "cell_type": "code",
   "execution_count": null,
   "id": "fffc257e-84af-4082-8859-0021b27d5a77",
   "metadata": {},
   "outputs": [],
   "source": [
    "# 140\n",
    "다음 코드를 for문으로 작성하라.\n",
    "\n",
    "print(\"-------\")\n",
    "print(\"-------\")\n",
    "print(\"-------\")\n",
    "print(\"-------\")"
   ]
  },
  {
   "cell_type": "code",
   "execution_count": 38,
   "id": "d735f93a-322e-46b6-b1fc-75b8d4be4d9a",
   "metadata": {},
   "outputs": [
    {
     "name": "stdout",
     "output_type": "stream",
     "text": [
      "-------\n",
      "-------\n",
      "-------\n",
      "-------\n"
     ]
    }
   ],
   "source": [
    "for i in [\"-------\"] :\n",
    "    print(i)\n",
    "    print(i)\n",
    "    print(i)\n",
    "    print(i)"
   ]
  },
  {
   "cell_type": "code",
   "execution_count": 39,
   "id": "94201c89-c675-4683-8bc5-f600c36c1018",
   "metadata": {},
   "outputs": [
    {
     "name": "stdout",
     "output_type": "stream",
     "text": [
      "-------\n",
      "-------\n",
      "-------\n",
      "-------\n"
     ]
    }
   ],
   "source": [
    "for i in [1, 2, 3, 4] :\n",
    "    print(\"-------\")"
   ]
  },
  {
   "cell_type": "markdown",
   "id": "a98463c0-950a-4425-b436-b74408113307",
   "metadata": {},
   "source": [
    "★★★★★★★★for문은 데이터 개수만큼 반복 실행한다★★★★★★★★★★★"
   ]
  },
  {
   "cell_type": "code",
   "execution_count": 49,
   "id": "5d5c6330-a2e9-461d-a8fa-8904347c6cb0",
   "metadata": {},
   "outputs": [
    {
     "data": {
      "text/plain": [
       "range(0, 11)"
      ]
     },
     "execution_count": 49,
     "metadata": {},
     "output_type": "execute_result"
    }
   ],
   "source": [
    "range(0,11,1) # 0부터 10(11-1)까지 1씩 증가"
   ]
  },
  {
   "cell_type": "code",
   "execution_count": 50,
   "id": "4ee24197-43b6-4dbe-bf04-0d721d96e45c",
   "metadata": {},
   "outputs": [
    {
     "data": {
      "text/plain": [
       "11"
      ]
     },
     "execution_count": 50,
     "metadata": {},
     "output_type": "execute_result"
    }
   ],
   "source": [
    "len(range(0,11,1)) # 데이터 수 11개"
   ]
  },
  {
   "cell_type": "code",
   "execution_count": 59,
   "id": "74d7483d-9f11-4832-ade0-4a873b648dba",
   "metadata": {},
   "outputs": [
    {
     "name": "stdout",
     "output_type": "stream",
     "text": [
      "-------\n",
      "-------\n",
      "-------\n",
      "-------\n",
      "-------\n",
      "-------\n",
      "-------\n",
      "-------\n",
      "-------\n",
      "-------\n",
      "-------\n"
     ]
    }
   ],
   "source": [
    "for i in range(0,11,1) :\n",
    "    print(\"-------\") # 데이터 수에 맞게 11개 출력"
   ]
  },
  {
   "cell_type": "code",
   "execution_count": 48,
   "id": "caae0d9c-9158-44f9-9259-c559007fffd0",
   "metadata": {},
   "outputs": [
    {
     "data": {
      "text/plain": [
       "range(0, 11, 2)"
      ]
     },
     "execution_count": 48,
     "metadata": {},
     "output_type": "execute_result"
    }
   ],
   "source": [
    "range(0,11,2) # 0부터 10(11-1)까지 2씩 증가"
   ]
  },
  {
   "cell_type": "code",
   "execution_count": 51,
   "id": "82bab81b-f562-463d-bc79-8c6c59d90003",
   "metadata": {},
   "outputs": [
    {
     "data": {
      "text/plain": [
       "6"
      ]
     },
     "execution_count": 51,
     "metadata": {},
     "output_type": "execute_result"
    }
   ],
   "source": [
    "len(range(0,11,2)) # 데이터 수 6개"
   ]
  },
  {
   "cell_type": "code",
   "execution_count": 60,
   "id": "f8dda5c5-4bfd-4b83-a096-8e5bcdedbf65",
   "metadata": {},
   "outputs": [
    {
     "name": "stdout",
     "output_type": "stream",
     "text": [
      "-------\n",
      "-------\n",
      "-------\n",
      "-------\n",
      "-------\n",
      "-------\n"
     ]
    }
   ],
   "source": [
    "for i in range(0,11,2):\n",
    "    print(\"-------\")"
   ]
  },
  {
   "cell_type": "markdown",
   "id": "03c78b3c-6508-4a7f-ab43-cbf4db9aaee8",
   "metadata": {},
   "source": [
    "## 141 ~ 150"
   ]
  },
  {
   "cell_type": "code",
   "execution_count": null,
   "id": "05552758-768d-43b5-bcad-b9fbdb2c25e4",
   "metadata": {},
   "outputs": [],
   "source": [
    "# 141\n",
    "다음과 같이 판매가가 저장된 리스트가 있을 때 부가세가 포함된 가격을 for 문을 사용해서 화면에 출력하라. \n",
    "단, 부가세는 10원으로 가정한다.\n",
    "\n",
    "리스트 = [100, 200, 300]\n",
    "110\n",
    "210\n",
    "310"
   ]
  },
  {
   "cell_type": "code",
   "execution_count": 62,
   "id": "7c2eb42a-3f3e-49fe-add5-1c4328f753cd",
   "metadata": {},
   "outputs": [
    {
     "name": "stdout",
     "output_type": "stream",
     "text": [
      "110\n",
      "210\n",
      "310\n"
     ]
    }
   ],
   "source": [
    "리스트 = [100, 200, 300]\n",
    "\n",
    "for i in 리스트 :\n",
    "    print(i+10)"
   ]
  },
  {
   "cell_type": "code",
   "execution_count": null,
   "id": "c7c1c2b3-ab83-4a7e-94e3-3ccc326f9484",
   "metadata": {},
   "outputs": [],
   "source": [
    "# 142\n",
    "for 문을 사용해서 리스트에 저장된 값을 다음과 같이 출력하라.\n",
    "\n",
    "리스트 = [\"김밥\", \"라면\", \"튀김\"]\n",
    "오늘의 메뉴: 김밥\n",
    "오늘의 메뉴: 라면\n",
    "오늘의 메뉴: 튀김"
   ]
  },
  {
   "cell_type": "code",
   "execution_count": 64,
   "id": "1d348e7d-a410-4a3b-b1d3-3879d366fa37",
   "metadata": {},
   "outputs": [
    {
     "name": "stdout",
     "output_type": "stream",
     "text": [
      "오늘의 메뉴: 김밥\n",
      "오늘의 메뉴: 라면\n",
      "오늘의 메뉴: 튀김\n"
     ]
    }
   ],
   "source": [
    "리스트 = [\"김밥\", \"라면\", \"튀김\"]\n",
    "\n",
    "for i in 리스트 :\n",
    "    print(\"오늘의 메뉴:\",i)"
   ]
  },
  {
   "cell_type": "code",
   "execution_count": null,
   "id": "ce8609cf-e031-4ad2-9bf7-3ee402bbe1d0",
   "metadata": {},
   "outputs": [],
   "source": [
    "# 143\n",
    "리스트에 주식 종목이름이 저장돼 있다.\n",
    "\n",
    "리스트 = [\"SK하이닉스\", \"삼성전자\", \"LG전자\"]\n",
    "저장된 문자열의 길이를 다음과 같이 출력하라.\n",
    "\n",
    "6\n",
    "4\n",
    "4"
   ]
  },
  {
   "cell_type": "code",
   "execution_count": 65,
   "id": "06b53088-bf43-4e3b-93c9-d7a99a1c1a5b",
   "metadata": {},
   "outputs": [
    {
     "name": "stdout",
     "output_type": "stream",
     "text": [
      "6\n",
      "4\n",
      "4\n"
     ]
    }
   ],
   "source": [
    "리스트 = [\"SK하이닉스\", \"삼성전자\", \"LG전자\"]\n",
    "\n",
    "for i in 리스트 :\n",
    "    print(len(i))"
   ]
  },
  {
   "cell_type": "code",
   "execution_count": null,
   "id": "6b7ba7a0-0b8b-4fb9-9d4f-96cf87390de3",
   "metadata": {},
   "outputs": [],
   "source": [
    "# 144\n",
    "리스트에는 동물이름이 문자열로 저장돼 있다.\n",
    "\n",
    "리스트 = ['dog', 'cat', 'parrot']\n",
    "동물 이름과 글자수를 다음과 같이 출력하라.\n",
    "\n",
    "dog 3\n",
    "cat 3\n",
    "parrot 6"
   ]
  },
  {
   "cell_type": "code",
   "execution_count": 66,
   "id": "32da334c-8d06-4db8-a403-1b16c6b800df",
   "metadata": {},
   "outputs": [
    {
     "name": "stdout",
     "output_type": "stream",
     "text": [
      "dog 3\n",
      "cat 3\n",
      "parrot 6\n"
     ]
    }
   ],
   "source": [
    "리스트 = ['dog', 'cat', 'parrot']\n",
    "\n",
    "for i in 리스트 :\n",
    "    print(i, len(i))"
   ]
  },
  {
   "cell_type": "code",
   "execution_count": null,
   "id": "39f403bf-3302-4421-972d-0b1302e20d0e",
   "metadata": {},
   "outputs": [],
   "source": [
    "# 145\n",
    "리스트에 동물 이름 저장돼 있다.\n",
    "\n",
    "리스트 = ['dog', 'cat', 'parrot']\n",
    "for문을 사용해서 동물 이름의 첫 글자만 출력하라.\n",
    "\n",
    "d\n",
    "c\n",
    "p"
   ]
  },
  {
   "cell_type": "code",
   "execution_count": 81,
   "id": "0fb66c75-66c2-450c-bedb-4046269df1c4",
   "metadata": {},
   "outputs": [
    {
     "name": "stdout",
     "output_type": "stream",
     "text": [
      "d\n",
      "c\n",
      "p\n"
     ]
    }
   ],
   "source": [
    "# 어렵게 느껴진다면 for문을 사용하지 않고 코드를 작성해봅시다.\n",
    "이름 = \"dog\"\n",
    "print(이름[0])\n",
    "\n",
    "이름 = \"cat\"\n",
    "print(이름[0])\n",
    "\n",
    "이름 = \"parrot\"\n",
    "print(이름[0])"
   ]
  },
  {
   "cell_type": "code",
   "execution_count": 77,
   "id": "ec87fe00-7e0f-48ef-a509-e1583641f97e",
   "metadata": {},
   "outputs": [
    {
     "name": "stdout",
     "output_type": "stream",
     "text": [
      "d\n",
      "c\n",
      "p\n"
     ]
    }
   ],
   "source": [
    "리스트 = ['dog', 'cat', 'parrot']\n",
    "\n",
    "for i in 리스트 :\n",
    "    print(i[0])"
   ]
  },
  {
   "cell_type": "code",
   "execution_count": null,
   "id": "f34e2e67-e909-402d-ace5-50310363498e",
   "metadata": {},
   "outputs": [],
   "source": [
    "# 146\n",
    "리스트에는 세 개의 숫자가 바인딩돼 있다.\n",
    "\n",
    "리스트 = [1, 2, 3]\n",
    "for문을 사용해서 다음과 같이 출력하라.\n",
    "\n",
    "3 x 1\n",
    "3 x 2\n",
    "3 x 3"
   ]
  },
  {
   "cell_type": "code",
   "execution_count": 82,
   "id": "77337182-827c-4a4f-8ef9-a8ab436f526c",
   "metadata": {},
   "outputs": [
    {
     "name": "stdout",
     "output_type": "stream",
     "text": [
      "3 x 1\n",
      "3 x 2\n",
      "3 x 3\n"
     ]
    }
   ],
   "source": [
    "리스트 = [1, 2, 3]\n",
    "\n",
    "for i in 리스트 :\n",
    "    print(3,'x',i)"
   ]
  },
  {
   "cell_type": "code",
   "execution_count": 83,
   "id": "9a1400df-5e31-4b40-b427-ccff6c61e013",
   "metadata": {},
   "outputs": [
    {
     "name": "stdout",
     "output_type": "stream",
     "text": [
      "3 x 1\n",
      "3 x 2\n",
      "3 x 3\n"
     ]
    }
   ],
   "source": [
    "# 교재 답\n",
    "리스트 = [1, 2, 3]\n",
    "\n",
    "for 변수 in 리스트:\n",
    "  print(\"3 x\", 변수)"
   ]
  },
  {
   "cell_type": "code",
   "execution_count": null,
   "id": "c04182b4-8c11-466d-8116-90894995de30",
   "metadata": {},
   "outputs": [],
   "source": [
    "# 147\n",
    "리스트에는 세 개의 숫자가 바인딩돼 있다.\n",
    "\n",
    "리스트 = [1, 2, 3]\n",
    "for문을 사용해서 다음과 같이 출력하라.\n",
    "\n",
    "3 x 1 = 3\n",
    "3 x 2 = 6\n",
    "3 x 3 = 9"
   ]
  },
  {
   "cell_type": "code",
   "execution_count": 84,
   "id": "e7ff4f82-4699-405d-9cf8-3788804bd1c2",
   "metadata": {},
   "outputs": [
    {
     "name": "stdout",
     "output_type": "stream",
     "text": [
      "3 x 1 = 3\n",
      "3 x 2 = 6\n",
      "3 x 3 = 9\n"
     ]
    }
   ],
   "source": [
    "리스트 = [1, 2, 3]\n",
    "\n",
    "for i in 리스트 :\n",
    "    print('3 x',i,'=',3*i)"
   ]
  },
  {
   "cell_type": "code",
   "execution_count": null,
   "id": "1b172da6-2305-4203-acb9-ddc799920474",
   "metadata": {},
   "outputs": [],
   "source": [
    "# 148\n",
    "리스트에는 네 개의 문자열이 바인딩돼 있다.\n",
    "\n",
    "리스트 = [\"가\", \"나\", \"다\", \"라\"]\n",
    "for문을 사용해서 다음과 같이 출력하라.\n",
    "\n",
    "나\n",
    "다\n",
    "라"
   ]
  },
  {
   "cell_type": "code",
   "execution_count": 85,
   "id": "a9811bc3-d1c6-4739-8b5f-13092dd317e7",
   "metadata": {},
   "outputs": [
    {
     "name": "stdout",
     "output_type": "stream",
     "text": [
      "나\n",
      "다\n",
      "라\n"
     ]
    }
   ],
   "source": [
    "리스트 = [\"가\", \"나\", \"다\", \"라\"]\n",
    "\n",
    "for i in 리스트[1:] :\n",
    "    print(i)"
   ]
  },
  {
   "cell_type": "code",
   "execution_count": null,
   "id": "9b19e602-8d78-47fc-9bdd-ec6964f99cf4",
   "metadata": {},
   "outputs": [],
   "source": [
    "# 149\n",
    "리스트에는 네 개의 문자열이 바인딩돼 있다.\n",
    "\n",
    "리스트 = [\"가\", \"나\", \"다\", \"라\"]\n",
    "for문을 사용해서 다음과 같이 출력하라.\n",
    "\n",
    "가\n",
    "다"
   ]
  },
  {
   "cell_type": "code",
   "execution_count": 86,
   "id": "35e614ea-8081-4ada-af9d-fbe6551ac5ae",
   "metadata": {},
   "outputs": [
    {
     "name": "stdout",
     "output_type": "stream",
     "text": [
      "가\n",
      "다\n"
     ]
    }
   ],
   "source": [
    "리스트 = [\"가\", \"나\", \"다\", \"라\"]\n",
    "\n",
    "for i in 리스트[::2] :\n",
    "    print(i)"
   ]
  },
  {
   "cell_type": "code",
   "execution_count": null,
   "id": "408dfec1-5b69-4549-b977-81ad0a99ee94",
   "metadata": {},
   "outputs": [],
   "source": [
    "# 150\n",
    "리스트에는 네 개의 문자열이 바인딩돼 있다.\n",
    "\n",
    "리스트 = [\"가\", \"나\", \"다\", \"라\"]\n",
    "for문을 사용해서 다음과 같이 출력하라.\n",
    "\n",
    "라\n",
    "다\n",
    "나\n",
    "가"
   ]
  },
  {
   "cell_type": "code",
   "execution_count": 91,
   "id": "c3805391-720c-4655-92f9-9d09df5d562c",
   "metadata": {},
   "outputs": [
    {
     "name": "stdout",
     "output_type": "stream",
     "text": [
      "라\n",
      "다\n",
      "나\n",
      "가\n"
     ]
    }
   ],
   "source": [
    "# 증감폭을 음수로 설정하면 끝에서 앞방향으로 값을 슬라이싱합니다.\n",
    "리스트 = [\"가\", \"나\", \"다\", \"라\"]\n",
    "\n",
    "for i in 리스트[::-1] :\n",
    "    print(i)"
   ]
  },
  {
   "cell_type": "markdown",
   "id": "bef3116e-c8d5-4627-b3fd-852fe0eeca61",
   "metadata": {},
   "source": [
    "## 151 ~ 160"
   ]
  },
  {
   "cell_type": "code",
   "execution_count": null,
   "id": "5b8b2b48-7559-49f8-9f0a-8459ed703d0c",
   "metadata": {},
   "outputs": [],
   "source": [
    "# 151\n",
    "리스트에는 네 개의 정수가 저장돼 있다.\n",
    "\n",
    "리스트 = [3, -20, -3, 44]\n",
    "for문을 사용해서 리스트의 음수를 출력하라.\n",
    "\n",
    "-20\n",
    "-3"
   ]
  },
  {
   "cell_type": "code",
   "execution_count": 98,
   "id": "47a45f65-c8ef-42fb-84e8-5e36b3a21699",
   "metadata": {},
   "outputs": [
    {
     "name": "stdout",
     "output_type": "stream",
     "text": [
      "-20\n",
      "-3\n"
     ]
    }
   ],
   "source": [
    "리스트 = [3, -20, -3, 44]\n",
    "\n",
    "for i in 리스트 :\n",
    "    if i < 0 :\n",
    "        print(i)"
   ]
  },
  {
   "cell_type": "code",
   "execution_count": null,
   "id": "0bc7ed3f-8c78-43ec-b0e8-f92044ce3589",
   "metadata": {},
   "outputs": [],
   "source": [
    "# 152\n",
    "for문을 사용해서 3의 배수만을 출력하라.\n",
    "\n",
    "리스트 = [3, 100, 23, 44]\n",
    "\n",
    "3"
   ]
  },
  {
   "cell_type": "code",
   "execution_count": 101,
   "id": "5cca8a72-b4ac-4a7b-bd18-4c48b14f42fe",
   "metadata": {},
   "outputs": [
    {
     "name": "stdout",
     "output_type": "stream",
     "text": [
      "3\n"
     ]
    }
   ],
   "source": [
    "리스트 = [3, 100, 23, 44]\n",
    "\n",
    "for i in 리스트 :\n",
    "    if i%3 == 0 :\n",
    "        print(i)"
   ]
  },
  {
   "cell_type": "code",
   "execution_count": null,
   "id": "4ad20eba-03bf-4675-880d-260fd237e2e6",
   "metadata": {},
   "outputs": [],
   "source": [
    "# 153\n",
    "리스트에서 20 보다 작은 3의 배수를 출력하라\n",
    "\n",
    "리스트 = [13, 21, 12, 14, 30, 18]\n",
    "\n",
    "12\n",
    "18"
   ]
  },
  {
   "cell_type": "code",
   "execution_count": 102,
   "id": "0aa8fd14-ecb5-4b75-970a-e5dc59d64471",
   "metadata": {},
   "outputs": [
    {
     "name": "stdout",
     "output_type": "stream",
     "text": [
      "12\n",
      "18\n"
     ]
    }
   ],
   "source": [
    "리스트 = [13, 21, 12, 14, 30, 18]\n",
    "\n",
    "for i in 리스트 :\n",
    "    if i%3 == 0 and i < 20 :\n",
    "        print(i)"
   ]
  },
  {
   "cell_type": "code",
   "execution_count": null,
   "id": "00ea52b6-3682-4308-a52c-735b2264a9af",
   "metadata": {},
   "outputs": [],
   "source": [
    "# 154\n",
    "리스트에서 세 글자 이상의 문자를 화면에 출력하라\n",
    "\n",
    "리스트 = [\"I\", \"study\", \"python\", \"language\", \"!\"]\n",
    "\n",
    "study\n",
    "python\n",
    "language"
   ]
  },
  {
   "cell_type": "code",
   "execution_count": 104,
   "id": "29d6020d-b73a-4a29-bcd3-e7ecf9816736",
   "metadata": {},
   "outputs": [
    {
     "name": "stdout",
     "output_type": "stream",
     "text": [
      "study\n",
      "python\n",
      "language\n"
     ]
    }
   ],
   "source": [
    "리스트 = [\"I\", \"study\", \"python\", \"language\", \"!\"]\n",
    "\n",
    "for i in 리스트 :\n",
    "    if len(i) >= 3 :\n",
    "        print(i)"
   ]
  },
  {
   "cell_type": "code",
   "execution_count": null,
   "id": "8c59111e-2771-4ada-a26a-8f6868431036",
   "metadata": {},
   "outputs": [],
   "source": [
    "# 155\n",
    "리스트에서 대문자만 화면에 출력하라.\n",
    "\n",
    "리스트 = [\"A\", \"b\", \"c\", \"D\"]\n",
    "\n",
    "A\n",
    "D\n",
    "(참고) isupper() 메서드는 대문자 여부를 판별합니다.\n",
    "\n",
    ">> 변수 = \"A\"\n",
    ">> 변수.isupper()\n",
    "True\n",
    ">> 변수 = \"a\"\n",
    ">> 변수.isupper()\n",
    "False"
   ]
  },
  {
   "cell_type": "code",
   "execution_count": 105,
   "id": "bab79b07-6e17-4d40-b31c-87a8410a8b3b",
   "metadata": {},
   "outputs": [
    {
     "name": "stdout",
     "output_type": "stream",
     "text": [
      "A\n",
      "D\n"
     ]
    }
   ],
   "source": [
    "리스트 = [\"A\", \"b\", \"c\", \"D\"]\n",
    "\n",
    "for i in 리스트 :\n",
    "    if i.isupper() :\n",
    "        print(i)"
   ]
  },
  {
   "cell_type": "code",
   "execution_count": null,
   "id": "ed4cb440-99cb-41de-83dc-10bfc46e92c8",
   "metadata": {},
   "outputs": [],
   "source": [
    "# 156\n",
    "리스트에서 소문자만 화면에 출력하라.\n",
    "\n",
    "리스트 = [\"A\", \"b\", \"c\", \"D\"]\n",
    "b\n",
    "c"
   ]
  },
  {
   "cell_type": "code",
   "execution_count": 109,
   "id": "0f1c2815-5c85-4df9-8e52-67a7804b1f27",
   "metadata": {},
   "outputs": [
    {
     "name": "stdout",
     "output_type": "stream",
     "text": [
      "b\n",
      "c\n"
     ]
    }
   ],
   "source": [
    "리스트 = [\"A\", \"b\", \"c\", \"D\"]\n",
    "\n",
    "for 변수 in 리스트:\n",
    "  if 변수.isupper() != True:\n",
    "    print(변수)"
   ]
  },
  {
   "cell_type": "code",
   "execution_count": 108,
   "id": "0710fd4a-7ced-434b-bf02-2a75d7b66160",
   "metadata": {},
   "outputs": [
    {
     "name": "stdout",
     "output_type": "stream",
     "text": [
      "b\n",
      "c\n"
     ]
    }
   ],
   "source": [
    "리스트 = [\"A\", \"b\", \"c\", \"D\"]\n",
    "\n",
    "for i in 리스트 :\n",
    "    if i.isupper() == False :\n",
    "        print(i)"
   ]
  },
  {
   "cell_type": "code",
   "execution_count": 110,
   "id": "008f1882-1d5f-462a-87ea-87ab32c03337",
   "metadata": {},
   "outputs": [
    {
     "name": "stdout",
     "output_type": "stream",
     "text": [
      "b\n",
      "c\n"
     ]
    }
   ],
   "source": [
    "# 논리 연산자 not을 사용할 수도 있습니다.\n",
    "리스트 = [\"A\", \"b\", \"c\", \"D\"]\n",
    "\n",
    "for 변수 in 리스트:\n",
    "  if not 변수.isupper():\n",
    "    print(변수)"
   ]
  },
  {
   "cell_type": "code",
   "execution_count": null,
   "id": "6efdf67c-832a-43df-bce3-70606d6c1ad8",
   "metadata": {},
   "outputs": [],
   "source": [
    "# 157\n",
    "이름의 첫 글자를 대문자로 변경해서 출력하라.\n",
    "\n",
    "리스트 = ['dog', 'cat', 'parrot']\n",
    "\n",
    "Dog\n",
    "Cat\n",
    "Parrot\n",
    "(참고) upper() 메서드는 문자열을 대문자로 변경합니다.\n",
    "\n",
    ">> 변수 = \"a\"\n",
    ">> a.upper()\n",
    "A\n",
    ">> 변수 = \"abc\"\n",
    ">> 변수.upper()\n",
    "ABC"
   ]
  },
  {
   "cell_type": "code",
   "execution_count": 111,
   "id": "705b24f5-c19b-4a0a-a4b8-11ef119e1452",
   "metadata": {},
   "outputs": [
    {
     "name": "stdout",
     "output_type": "stream",
     "text": [
      "Dog\n",
      "Cat\n",
      "Parrot\n"
     ]
    }
   ],
   "source": [
    "리스트 = ['dog', 'cat', 'parrot']\n",
    "\n",
    "for i in 리스트 :\n",
    "    print(i[0].upper()+i[1:])"
   ]
  },
  {
   "cell_type": "code",
   "execution_count": null,
   "id": "e5499d7e-3766-4ce9-815f-2f49ff91aac9",
   "metadata": {},
   "outputs": [],
   "source": [
    "# 158\n",
    "파일 이름이 저장된 리스트에서 확장자를 제거하고 파일 이름만 화면에 출력하라. \n",
    "(힌트: split() 메서드)\n",
    "split() 메서드는 문자열을 입력된 구분자로 분할해서 리스트로 반환합니다. \n",
    "\n",
    "리스트 = ['hello.py', 'ex01.py', 'intro.hwp']\n",
    "\n",
    "hello\n",
    "ex01\n",
    "intro"
   ]
  },
  {
   "cell_type": "code",
   "execution_count": 120,
   "id": "c3a17193-5475-4667-acce-df0fb2565cae",
   "metadata": {},
   "outputs": [
    {
     "data": {
      "text/plain": [
       "['hello', 'py']"
      ]
     },
     "execution_count": 120,
     "metadata": {},
     "output_type": "execute_result"
    }
   ],
   "source": [
    "리스트 = 'hello.py'\n",
    "\n",
    "리스트.split('.')"
   ]
  },
  {
   "cell_type": "code",
   "execution_count": 119,
   "id": "5a5e40d3-5449-400c-a05c-84bab067dfcf",
   "metadata": {},
   "outputs": [
    {
     "name": "stdout",
     "output_type": "stream",
     "text": [
      "['hello', 'py']\n",
      "['ex01', 'py']\n",
      "['intro', 'hwp']\n"
     ]
    }
   ],
   "source": [
    "리스트 = ['hello.py', 'ex01.py', 'intro.hwp']\n",
    "\n",
    "for i in 리스트 :\n",
    "    i = i.split('.')\n",
    "    print(i)"
   ]
  },
  {
   "cell_type": "code",
   "execution_count": 121,
   "id": "eedae8dc-7f4b-4d58-ad4c-d90d7d11c8b0",
   "metadata": {},
   "outputs": [
    {
     "name": "stdout",
     "output_type": "stream",
     "text": [
      "hello\n",
      "ex01\n",
      "intro\n"
     ]
    }
   ],
   "source": [
    "리스트 = ['hello.py', 'ex01.py', 'intro.hwp']\n",
    "\n",
    "for i in 리스트 :\n",
    "    i = i.split('.')\n",
    "    print(i[0])"
   ]
  },
  {
   "cell_type": "code",
   "execution_count": null,
   "id": "7d2ebbc1-a45f-4615-b3a4-f28e4a95126e",
   "metadata": {},
   "outputs": [],
   "source": [
    "# 159\n",
    "파일 이름이 저장된 리스트에서 확장자가 .h인 파일 이름을 출력하라.\n",
    "\n",
    "리스트 = ['intra.h', 'intra.c', 'define.h', 'run.py']\n",
    "\n",
    "intra.h\n",
    "define.h"
   ]
  },
  {
   "cell_type": "code",
   "execution_count": 122,
   "id": "4107e4ef-714a-48a2-919e-7f577e7e5606",
   "metadata": {},
   "outputs": [
    {
     "name": "stdout",
     "output_type": "stream",
     "text": [
      "intra.h\n",
      "define.h\n"
     ]
    }
   ],
   "source": [
    "리스트 = ['intra.h', 'intra.c', 'define.h', 'run.py']\n",
    "\n",
    "for i in 리스트 :\n",
    "    a = i.split('.')\n",
    "    if a[1] == 'h' :\n",
    "        print(i)"
   ]
  },
  {
   "cell_type": "code",
   "execution_count": null,
   "id": "c89b99d9-4d74-416b-b824-0a1f74357389",
   "metadata": {},
   "outputs": [],
   "source": [
    "# 160\n",
    "파일 이름이 저장된 리스트에서 확장자가 .h나 .c인 파일을 화면에 출력하라.\n",
    "\n",
    "리스트 = ['intra.h', 'intra.c', 'define.h', 'run.py']\n",
    "\n",
    "intra.h\n",
    "intra.c\n",
    "define.h"
   ]
  },
  {
   "cell_type": "code",
   "execution_count": 127,
   "id": "5e43b323-5741-4622-967a-1b23a1d1156f",
   "metadata": {},
   "outputs": [
    {
     "name": "stdout",
     "output_type": "stream",
     "text": [
      "intra.h\n",
      "intra.c\n",
      "define.h\n"
     ]
    }
   ],
   "source": [
    "리스트 = ['intra.h', 'intra.c', 'define.h', 'run.py']\n",
    "\n",
    "for i in 리스트 :\n",
    "    a = i.split('.')\n",
    "    if a[1] == 'h' or a[1] ==  'c' :\n",
    "        print(i)"
   ]
  },
  {
   "cell_type": "markdown",
   "id": "ce97fb32-9d3c-423d-9fa3-8209ef9b01d1",
   "metadata": {},
   "source": [
    "## 161 ~ 170"
   ]
  },
  {
   "cell_type": "code",
   "execution_count": null,
   "id": "140b895d-2e90-4c0a-be1b-708815225d83",
   "metadata": {},
   "outputs": [],
   "source": [
    "# 161\n",
    "for문과 range 구문을 사용해서 0~99까지 한 라인에 하나씩 순차적으로 출력하는 프로그램을 작성하라."
   ]
  },
  {
   "cell_type": "code",
   "execution_count": 129,
   "id": "beddcb7e-ee15-41df-aacd-f091d146b78f",
   "metadata": {},
   "outputs": [
    {
     "data": {
      "text/plain": [
       "[0, 1, 2]"
      ]
     },
     "execution_count": 129,
     "metadata": {},
     "output_type": "execute_result"
    }
   ],
   "source": [
    "list(range (3))"
   ]
  },
  {
   "cell_type": "code",
   "execution_count": 128,
   "id": "49624679-98a1-493a-bb08-faa6c5b88531",
   "metadata": {
    "scrolled": true
   },
   "outputs": [
    {
     "name": "stdout",
     "output_type": "stream",
     "text": [
      "0\n",
      "1\n",
      "2\n",
      "3\n",
      "4\n",
      "5\n",
      "6\n",
      "7\n",
      "8\n",
      "9\n",
      "10\n",
      "11\n",
      "12\n",
      "13\n",
      "14\n",
      "15\n",
      "16\n",
      "17\n",
      "18\n",
      "19\n",
      "20\n",
      "21\n",
      "22\n",
      "23\n",
      "24\n",
      "25\n",
      "26\n",
      "27\n",
      "28\n",
      "29\n",
      "30\n",
      "31\n",
      "32\n",
      "33\n",
      "34\n",
      "35\n",
      "36\n",
      "37\n",
      "38\n",
      "39\n",
      "40\n",
      "41\n",
      "42\n",
      "43\n",
      "44\n",
      "45\n",
      "46\n",
      "47\n",
      "48\n",
      "49\n",
      "50\n",
      "51\n",
      "52\n",
      "53\n",
      "54\n",
      "55\n",
      "56\n",
      "57\n",
      "58\n",
      "59\n",
      "60\n",
      "61\n",
      "62\n",
      "63\n",
      "64\n",
      "65\n",
      "66\n",
      "67\n",
      "68\n",
      "69\n",
      "70\n",
      "71\n",
      "72\n",
      "73\n",
      "74\n",
      "75\n",
      "76\n",
      "77\n",
      "78\n",
      "79\n",
      "80\n",
      "81\n",
      "82\n",
      "83\n",
      "84\n",
      "85\n",
      "86\n",
      "87\n",
      "88\n",
      "89\n",
      "90\n",
      "91\n",
      "92\n",
      "93\n",
      "94\n",
      "95\n",
      "96\n",
      "97\n",
      "98\n",
      "99\n"
     ]
    }
   ],
   "source": [
    "for i in range(0,100) :\n",
    "    print(i)"
   ]
  },
  {
   "cell_type": "code",
   "execution_count": null,
   "id": "b3e5957e-06e5-4667-b260-a3be6abf86fb",
   "metadata": {},
   "outputs": [],
   "source": [
    "# 162\n",
    "월드컵은 4년에 한 번 개최된다. range()를 사용하여 2002~2050년까지 중 월드컵이 개최되는 연도를 출력하라.\n",
    "\n",
    "2002\n",
    "2006\n",
    "2010\n",
    "...\n",
    "2042\n",
    "2046\n",
    "2050\n",
    "\n",
    "참고) range의 세번 째 파라미터는 증감폭을 결정합니다.\n",
    "\n",
    ">> print(list(range(0, 10, 2)))\n",
    "[0, 2, 4, 6, 8]"
   ]
  },
  {
   "cell_type": "code",
   "execution_count": 133,
   "id": "4d585335-031c-43ce-a143-d74f09402c85",
   "metadata": {},
   "outputs": [
    {
     "name": "stdout",
     "output_type": "stream",
     "text": [
      "2022\n",
      "2026\n",
      "2030\n",
      "2034\n",
      "2038\n",
      "2042\n",
      "2046\n",
      "2050\n"
     ]
    }
   ],
   "source": [
    "for i in range(2022,2051,4) :\n",
    "    print(i)"
   ]
  },
  {
   "cell_type": "code",
   "execution_count": null,
   "id": "bee7d2e2-4122-46e8-bc4f-b4b0bcd3f3a6",
   "metadata": {},
   "outputs": [],
   "source": [
    "# 163\n",
    "1부터 30까지의 숫자 중 3의 배수를 출력하라.\n",
    "\n",
    "3 \n",
    "6 \n",
    "9 \n",
    "12 \n",
    "15 \n",
    "18 \n",
    "21 \n",
    "24 \n",
    "27 \n",
    "30"
   ]
  },
  {
   "cell_type": "code",
   "execution_count": 135,
   "id": "ad76a133-1edc-4976-a82d-10b450e1ea97",
   "metadata": {},
   "outputs": [
    {
     "name": "stdout",
     "output_type": "stream",
     "text": [
      "3\n",
      "6\n",
      "9\n",
      "12\n",
      "15\n",
      "18\n",
      "21\n",
      "24\n",
      "27\n",
      "30\n"
     ]
    }
   ],
   "source": [
    "for i in range(3,31,3) :\n",
    "    print(i)"
   ]
  },
  {
   "cell_type": "code",
   "execution_count": null,
   "id": "5e3e3be9-e309-4d4f-b30e-7cd58066fb45",
   "metadata": {},
   "outputs": [],
   "source": [
    "# 164\n",
    "99부터 0까지 1씩 감소하는 숫자들을, 한 라인에 하나씩 출력하라."
   ]
  },
  {
   "cell_type": "code",
   "execution_count": 142,
   "id": "d8c8e1e0-6a5e-4b8f-ac8a-8287330c62f0",
   "metadata": {
    "scrolled": true
   },
   "outputs": [
    {
     "name": "stdout",
     "output_type": "stream",
     "text": [
      "99\n",
      "98\n",
      "97\n",
      "96\n",
      "95\n",
      "94\n",
      "93\n",
      "92\n",
      "91\n",
      "90\n",
      "89\n",
      "88\n",
      "87\n",
      "86\n",
      "85\n",
      "84\n",
      "83\n",
      "82\n",
      "81\n",
      "80\n",
      "79\n",
      "78\n",
      "77\n",
      "76\n",
      "75\n",
      "74\n",
      "73\n",
      "72\n",
      "71\n",
      "70\n",
      "69\n",
      "68\n",
      "67\n",
      "66\n",
      "65\n",
      "64\n",
      "63\n",
      "62\n",
      "61\n",
      "60\n",
      "59\n",
      "58\n",
      "57\n",
      "56\n",
      "55\n",
      "54\n",
      "53\n",
      "52\n",
      "51\n",
      "50\n",
      "49\n",
      "48\n",
      "47\n",
      "46\n",
      "45\n",
      "44\n",
      "43\n",
      "42\n",
      "41\n",
      "40\n",
      "39\n",
      "38\n",
      "37\n",
      "36\n",
      "35\n",
      "34\n",
      "33\n",
      "32\n",
      "31\n",
      "30\n",
      "29\n",
      "28\n",
      "27\n",
      "26\n",
      "25\n",
      "24\n",
      "23\n",
      "22\n",
      "21\n",
      "20\n",
      "19\n",
      "18\n",
      "17\n",
      "16\n",
      "15\n",
      "14\n",
      "13\n",
      "12\n",
      "11\n",
      "10\n",
      "9\n",
      "8\n",
      "7\n",
      "6\n",
      "5\n",
      "4\n",
      "3\n",
      "2\n",
      "1\n",
      "0\n"
     ]
    }
   ],
   "source": [
    "a = range(0,100)\n",
    "b = a[::-1]\n",
    "for i in b :\n",
    "    print(i)"
   ]
  },
  {
   "cell_type": "code",
   "execution_count": null,
   "id": "12578b7d-559f-4e3e-a75f-3a3663085e0c",
   "metadata": {},
   "outputs": [],
   "source": [
    "# 165\n",
    "for문을 사용해서 아래와 같이 출력하라.\n",
    "\n",
    "0.0\n",
    "0.1\n",
    "0.2\n",
    "0.3\n",
    "0.4\n",
    "0.5\n",
    "...\n",
    "0.9"
   ]
  },
  {
   "cell_type": "code",
   "execution_count": 155,
   "id": "0b74e075-4fb9-479b-9696-19291f4b7dc4",
   "metadata": {},
   "outputs": [
    {
     "name": "stdout",
     "output_type": "stream",
     "text": [
      "0 . 0\n",
      "0 . 1\n",
      "0 . 2\n",
      "0 . 3\n",
      "0 . 4\n",
      "0 . 5\n",
      "0 . 6\n",
      "0 . 7\n",
      "0 . 8\n",
      "0 . 9\n"
     ]
    }
   ],
   "source": [
    "for i in range(0,10) :\n",
    "    print(0,'.',i)"
   ]
  },
  {
   "cell_type": "code",
   "execution_count": 160,
   "id": "011bce76-fde1-4a63-8646-df3a66a81186",
   "metadata": {
    "scrolled": true
   },
   "outputs": [
    {
     "data": {
      "text/plain": [
       "0.1"
      ]
     },
     "execution_count": 160,
     "metadata": {},
     "output_type": "execute_result"
    }
   ],
   "source": [
    "1/10"
   ]
  },
  {
   "cell_type": "code",
   "execution_count": 161,
   "id": "f311d8d1-f3fb-4929-b976-1d67db10b4e2",
   "metadata": {},
   "outputs": [
    {
     "name": "stdout",
     "output_type": "stream",
     "text": [
      "0.0\n",
      "0.1\n",
      "0.2\n",
      "0.3\n",
      "0.4\n",
      "0.5\n",
      "0.6\n",
      "0.7\n",
      "0.8\n",
      "0.9\n"
     ]
    }
   ],
   "source": [
    "for i in range(0,10) :\n",
    "    print(i/10)"
   ]
  },
  {
   "cell_type": "code",
   "execution_count": null,
   "id": "99ce1cae-fc39-4712-96ae-0ac69bc4aa82",
   "metadata": {},
   "outputs": [],
   "source": [
    "# 166\n",
    "구구단 3단을 출력하라.\n",
    "\n",
    "3x1 = 3\n",
    "3x2 = 6\n",
    "3x3 = 9\n",
    "3x4 = 12\n",
    "3x5 = 15\n",
    "3x6 = 18\n",
    "3x7 = 21\n",
    "3x8 = 24\n",
    "3x9 = 27"
   ]
  },
  {
   "cell_type": "code",
   "execution_count": 167,
   "id": "0c094354-94d2-42e8-8d1c-9350d0152048",
   "metadata": {},
   "outputs": [
    {
     "name": "stdout",
     "output_type": "stream",
     "text": [
      "3x1 = 3\n",
      "3x2 = 6\n",
      "3x3 = 9\n",
      "3x4 = 12\n",
      "3x5 = 15\n",
      "3x6 = 18\n",
      "3x7 = 21\n",
      "3x8 = 24\n",
      "3x9 = 27\n"
     ]
    }
   ],
   "source": [
    "for i in range(1,10) :\n",
    "    print(3,'x',i,' = ',3*i, sep='')"
   ]
  },
  {
   "cell_type": "code",
   "execution_count": 166,
   "id": "7b9a8578-8211-490e-821e-bfeee502326a",
   "metadata": {},
   "outputs": [
    {
     "data": {
      "text/plain": [
       "\u001b[1;31mSignature:\u001b[0m \u001b[0mprint\u001b[0m\u001b[1;33m(\u001b[0m\u001b[1;33m*\u001b[0m\u001b[0margs\u001b[0m\u001b[1;33m,\u001b[0m \u001b[0msep\u001b[0m\u001b[1;33m=\u001b[0m\u001b[1;34m' '\u001b[0m\u001b[1;33m,\u001b[0m \u001b[0mend\u001b[0m\u001b[1;33m=\u001b[0m\u001b[1;34m'\\n'\u001b[0m\u001b[1;33m,\u001b[0m \u001b[0mfile\u001b[0m\u001b[1;33m=\u001b[0m\u001b[1;32mNone\u001b[0m\u001b[1;33m,\u001b[0m \u001b[0mflush\u001b[0m\u001b[1;33m=\u001b[0m\u001b[1;32mFalse\u001b[0m\u001b[1;33m)\u001b[0m\u001b[1;33m\u001b[0m\u001b[1;33m\u001b[0m\u001b[0m\n",
       "\u001b[1;31mDocstring:\u001b[0m\n",
       "Prints the values to a stream, or to sys.stdout by default.\n",
       "\n",
       "sep\n",
       "  string inserted between values, default a space.\n",
       "end\n",
       "  string appended after the last value, default a newline.\n",
       "file\n",
       "  a file-like object (stream); defaults to the current sys.stdout.\n",
       "flush\n",
       "  whether to forcibly flush the stream.\n",
       "\u001b[1;31mType:\u001b[0m      builtin_function_or_method"
      ]
     },
     "metadata": {},
     "output_type": "display_data"
    }
   ],
   "source": [
    "print?"
   ]
  },
  {
   "cell_type": "code",
   "execution_count": null,
   "id": "d01754cc-e84c-4ad0-a7db-702a02add2bb",
   "metadata": {},
   "outputs": [],
   "source": [
    "# 167\n",
    "구구단 3단을 출력하라. 단, 홀수 번째만 출력한다.\n",
    "\n",
    "3x1 = 3\n",
    "3x3 = 9\n",
    "3x5 = 15\n",
    "3x7 = 21\n",
    "3x9 = 27"
   ]
  },
  {
   "cell_type": "code",
   "execution_count": 170,
   "id": "a883229e-8c0c-4109-8dd6-70cac82ab549",
   "metadata": {},
   "outputs": [
    {
     "name": "stdout",
     "output_type": "stream",
     "text": [
      "3x1 = 3\n",
      "3x3 = 9\n",
      "3x5 = 15\n",
      "3x7 = 21\n",
      "3x9 = 27\n"
     ]
    }
   ],
   "source": [
    "for i in range(1,10,2) :\n",
    "    print(3, 'x', i, ' = ', i*3, sep='')"
   ]
  },
  {
   "cell_type": "code",
   "execution_count": null,
   "id": "e61c58e2-a598-4c6f-a74e-c90fedeb8c9a",
   "metadata": {},
   "outputs": [],
   "source": [
    "# 168\n",
    "1~10까지의 숫자에 대해 모두 더한 값을 출력하는 프로그램을 for 문을 사용하여 작성하라.\n",
    "\n",
    "합 : 55"
   ]
  },
  {
   "cell_type": "code",
   "execution_count": 4,
   "id": "bdeca315-63be-416d-b625-5d413509be9e",
   "metadata": {},
   "outputs": [
    {
     "name": "stdout",
     "output_type": "stream",
     "text": [
      "1\n",
      "3\n",
      "6\n",
      "10\n",
      "15\n",
      "21\n",
      "28\n",
      "36\n",
      "45\n",
      "55\n"
     ]
    }
   ],
   "source": [
    "sum=0\n",
    "for i in range(1,11) :\n",
    "    sum += i\n",
    "    print(sum)"
   ]
  },
  {
   "cell_type": "code",
   "execution_count": 189,
   "id": "bc909d47-ab22-42a9-bb91-b9356b2a7569",
   "metadata": {},
   "outputs": [
    {
     "name": "stdout",
     "output_type": "stream",
     "text": [
      "55\n"
     ]
    }
   ],
   "source": [
    "sum = 0\n",
    "for i in range(1,11) :\n",
    "    sum += i\n",
    "print(sum)"
   ]
  },
  {
   "cell_type": "code",
   "execution_count": null,
   "id": "fbf60b94-aac9-4240-9b5c-49daf44f38ea",
   "metadata": {},
   "outputs": [],
   "source": [
    "# 169\n",
    "1~10까지의 숫자 중 모든 홀수의 합을 출력하는 프로그램을 for 문을 사용하여 작성하라.\n",
    "\n",
    "합: 25"
   ]
  },
  {
   "cell_type": "code",
   "execution_count": 6,
   "id": "c4f95541-e6cf-46a5-b04a-422c7f3b53b6",
   "metadata": {},
   "outputs": [
    {
     "name": "stdout",
     "output_type": "stream",
     "text": [
      "1\n",
      "4\n",
      "9\n",
      "16\n",
      "25\n"
     ]
    }
   ],
   "source": [
    "sum=0\n",
    "for i in range(1,11,2) :\n",
    "    sum += i\n",
    "    print(sum)"
   ]
  },
  {
   "cell_type": "code",
   "execution_count": 7,
   "id": "51fb6dae-ccee-4354-b7b6-021312623850",
   "metadata": {},
   "outputs": [
    {
     "name": "stdout",
     "output_type": "stream",
     "text": [
      "25\n"
     ]
    }
   ],
   "source": [
    "sum=0\n",
    "for i in range(1,11,2) :\n",
    "    sum += i\n",
    "print(sum)"
   ]
  },
  {
   "cell_type": "code",
   "execution_count": null,
   "id": "4d4fc5e8-d621-4f15-b2c3-32e1765feb3a",
   "metadata": {},
   "outputs": [],
   "source": [
    "# 170\n",
    "1~10까지의 숫자를 모두 곱한 값을 출력하는 프로그램을 for 문을 사용하여 작성하라."
   ]
  },
  {
   "cell_type": "code",
   "execution_count": 9,
   "id": "632a3167-40c2-4d6b-866a-9c08848635f1",
   "metadata": {},
   "outputs": [
    {
     "name": "stdout",
     "output_type": "stream",
     "text": [
      "1\n",
      "2\n",
      "6\n",
      "24\n",
      "120\n",
      "720\n",
      "5040\n",
      "40320\n",
      "362880\n",
      "3628800\n"
     ]
    }
   ],
   "source": [
    "mul = 1\n",
    "for i in range(1,11) :\n",
    "    mul *= i #mul = mul * i\n",
    "    print(mul)"
   ]
  },
  {
   "cell_type": "code",
   "execution_count": 10,
   "id": "eff3be5e-48d3-4b0b-8c91-5c29f4e13c08",
   "metadata": {},
   "outputs": [
    {
     "name": "stdout",
     "output_type": "stream",
     "text": [
      "3628800\n"
     ]
    }
   ],
   "source": [
    "mul = 1\n",
    "for i in range(1,11) :\n",
    "    mul *= i\n",
    "print(mul)"
   ]
  },
  {
   "cell_type": "markdown",
   "id": "ba9633d6-2ea1-4072-8686-cabc7e9d98ec",
   "metadata": {},
   "source": [
    "## 171 ~ 180"
   ]
  },
  {
   "cell_type": "code",
   "execution_count": null,
   "id": "5d43640d-55e8-4741-ba7c-d80eac83c971",
   "metadata": {},
   "outputs": [],
   "source": [
    "# 171\n",
    "아래와 같이 리스트의 데이터를 출력하라. 단, for문과 range문을 사용하라.\n",
    "\n",
    "price_list = [32100, 32150, 32000, 32500]\n",
    "\n",
    "32100\n",
    "32150\n",
    "32000\n",
    "32500"
   ]
  },
  {
   "cell_type": "code",
   "execution_count": 12,
   "id": "9fa52dc8-52e2-4d60-b077-6edda9951f6b",
   "metadata": {},
   "outputs": [
    {
     "name": "stdout",
     "output_type": "stream",
     "text": [
      "32100\n",
      "32150\n",
      "32000\n",
      "32500\n"
     ]
    }
   ],
   "source": [
    "price_list = [32100, 32150, 32000, 32500]\n",
    "\n",
    "for i in range(len(price_list)) :\n",
    "    print(price_list[i])"
   ]
  },
  {
   "cell_type": "code",
   "execution_count": null,
   "id": "36204ef9-6df0-4ba0-b210-8bd6f3495eb4",
   "metadata": {},
   "outputs": [],
   "source": [
    "# 172\n",
    "아래와 같이 리스트의 데이터를 출력하라. 단, for문과 range문을 사용하라.\n",
    "\n",
    "price_list = [32100, 32150, 32000, 32500]\n",
    "\n",
    "0 32100\n",
    "1 32150\n",
    "2 32000\n",
    "3 32500"
   ]
  },
  {
   "cell_type": "code",
   "execution_count": 14,
   "id": "cb0d5c51-8d9a-43d4-aa4d-61eca709445e",
   "metadata": {},
   "outputs": [
    {
     "name": "stdout",
     "output_type": "stream",
     "text": [
      "0 32100\n",
      "1 32150\n",
      "2 32000\n",
      "3 32500\n"
     ]
    }
   ],
   "source": [
    "price_list = [32100, 32150, 32000, 32500]\n",
    "\n",
    "for i in range(len(price_list)) :\n",
    "    print(i,price_list[i])"
   ]
  },
  {
   "cell_type": "code",
   "execution_count": null,
   "id": "0806836e-53f5-4163-98dc-1dab5aa38568",
   "metadata": {},
   "outputs": [],
   "source": [
    "# 173\n",
    "아래와 같이 리스트의 데이터를 출력하라. 단, for문과 range문을 사용하라.\n",
    "\n",
    "price_list = [32100, 32150, 32000, 32500]\n",
    "\n",
    "3 32100\n",
    "2 32150\n",
    "1 32000\n",
    "0 32500"
   ]
  },
  {
   "cell_type": "code",
   "execution_count": 17,
   "id": "d6240b25-0fe1-489d-a722-609216701a37",
   "metadata": {},
   "outputs": [
    {
     "name": "stdout",
     "output_type": "stream",
     "text": [
      "3 32100\n",
      "2 32150\n",
      "1 32000\n",
      "0 32500\n"
     ]
    }
   ],
   "source": [
    "price_list = [32100, 32150, 32000, 32500]\n",
    "\n",
    "for i in range(len(price_list)) :\n",
    "    print(3-i,price_list[i])"
   ]
  },
  {
   "cell_type": "code",
   "execution_count": 18,
   "id": "1060afdd-aa04-4439-a406-9ef35ae5b8ec",
   "metadata": {},
   "outputs": [
    {
     "name": "stdout",
     "output_type": "stream",
     "text": [
      "3 32100\n",
      "2 32150\n",
      "1 32000\n",
      "0 32500\n"
     ]
    }
   ],
   "source": [
    "for i in range(len(price_list)):\n",
    "    print((len(price_list) - 1) - i, price_list[i])"
   ]
  },
  {
   "cell_type": "code",
   "execution_count": null,
   "id": "70a05f73-6f40-4140-8078-8ba21daf967f",
   "metadata": {},
   "outputs": [],
   "source": [
    "# 174\n",
    "아래와 같이 리스트의 데이터를 출력하라. 단, for문과 range문을 사용하라.\n",
    "\n",
    "price_list = [32100, 32150, 32000, 32500]\n",
    "\n",
    "100 32150\n",
    "110 32000\n",
    "120 32500"
   ]
  },
  {
   "cell_type": "code",
   "execution_count": 26,
   "id": "de6d36d3-8584-4c29-8a4a-dcb7ac350cc3",
   "metadata": {},
   "outputs": [
    {
     "name": "stdout",
     "output_type": "stream",
     "text": [
      "100 32100\n",
      "110 32150\n",
      "120 32000\n"
     ]
    }
   ],
   "source": [
    "price_list = [32100, 32150, 32000, 32500]\n",
    "\n",
    "for i in range(len(price_list)-1) :\n",
    "    print(100+i*10, price_list[i])"
   ]
  },
  {
   "cell_type": "code",
   "execution_count": null,
   "id": "fa2642de-c523-4f65-ad1e-2864f991f966",
   "metadata": {
    "scrolled": true
   },
   "outputs": [],
   "source": [
    "# 175\n",
    "my_list를 아래와 같이 출력하라.\n",
    "\n",
    "my_list = [\"가\", \"나\", \"다\", \"라\"]\n",
    "\n",
    "가 나\n",
    "나 다\n",
    "다 라"
   ]
  },
  {
   "cell_type": "code",
   "execution_count": 2,
   "id": "6c39c3b5-899a-4ef3-a594-f371703187ed",
   "metadata": {},
   "outputs": [
    {
     "name": "stdout",
     "output_type": "stream",
     "text": [
      "가 나\n",
      "나 다\n",
      "다 라\n"
     ]
    }
   ],
   "source": [
    "my_list = [\"가\", \"나\", \"다\", \"라\"]\n",
    "\n",
    "print(my_list[0],my_list[1])\n",
    "print(my_list[1],my_list[2])\n",
    "print(my_list[2],my_list[3])"
   ]
  },
  {
   "cell_type": "code",
   "execution_count": 5,
   "id": "95d5ce43-c4ad-4199-aaec-89bd965a11d8",
   "metadata": {},
   "outputs": [
    {
     "name": "stdout",
     "output_type": "stream",
     "text": [
      "가 나\n",
      "나 다\n",
      "다 라\n"
     ]
    }
   ],
   "source": [
    "my_list = [\"가\", \"나\", \"다\", \"라\"]\n",
    "\n",
    "for i in range(len(my_list)-1) :\n",
    "    print(my_list[i],my_list[i+1])"
   ]
  },
  {
   "cell_type": "code",
   "execution_count": null,
   "id": "2c8fc345-9b18-439d-9a22-7f296a370c74",
   "metadata": {},
   "outputs": [],
   "source": [
    "# 176\n",
    "리스트를 아래와 같이 출력하라.\n",
    "\n",
    "my_list = [\"가\", \"나\", \"다\", \"라\", \"마\"]\n",
    "\n",
    "가 나 다\n",
    "나 다 라\n",
    "다 라 마"
   ]
  },
  {
   "cell_type": "code",
   "execution_count": 6,
   "id": "3aaceb0c-2713-4b71-b4c2-1097f9f84484",
   "metadata": {},
   "outputs": [
    {
     "name": "stdout",
     "output_type": "stream",
     "text": [
      "가 나 다\n",
      "나 다 라\n",
      "다 라 마\n"
     ]
    }
   ],
   "source": [
    "my_list = [\"가\", \"나\", \"다\", \"라\", \"마\"]\n",
    "\n",
    "print(my_list[0],my_list[1], my_list[2])\n",
    "print(my_list[1],my_list[2], my_list[3])\n",
    "print(my_list[2],my_list[3], my_list[4])"
   ]
  },
  {
   "cell_type": "code",
   "execution_count": 2,
   "id": "5484eb37-1fd2-441b-88b4-6c1e1f604061",
   "metadata": {},
   "outputs": [
    {
     "name": "stdout",
     "output_type": "stream",
     "text": [
      "가 나 다\n",
      "나 다 라\n",
      "다 라 마\n"
     ]
    }
   ],
   "source": [
    "my_list = [\"가\", \"나\", \"다\", \"라\", \"마\"]\n",
    "\n",
    "for i in range(len(my_list)-2) :\n",
    "    print(my_list[i],my_list[i+1],my_list[i+2])"
   ]
  },
  {
   "cell_type": "code",
   "execution_count": null,
   "id": "3d26086b-de59-431e-8e51-e62a2b0ce49f",
   "metadata": {},
   "outputs": [],
   "source": [
    "# 177\n",
    "반복문과 range 함수를 사용해서 my_list를 아래와 같이 출력하라.\n",
    "\n",
    "my_list = [\"가\", \"나\", \"다\", \"라\"]\n",
    "\n",
    "라 다\n",
    "다 나\n",
    "나 가"
   ]
  },
  {
   "cell_type": "code",
   "execution_count": 3,
   "id": "7c85cab6-27fc-477b-ade2-6072aa686b3d",
   "metadata": {},
   "outputs": [
    {
     "name": "stdout",
     "output_type": "stream",
     "text": [
      "라 다\n",
      "다 나\n",
      "나 가\n"
     ]
    }
   ],
   "source": [
    "my_list = [\"가\", \"나\", \"다\", \"라\"]\n",
    "\n",
    "print(my_list[3],my_list[2])\n",
    "print(my_list[2],my_list[1])\n",
    "print(my_list[1],my_list[0])"
   ]
  },
  {
   "cell_type": "code",
   "execution_count": 11,
   "id": "b6f8a1e0-ebe7-492e-9a9c-30e859eb4a38",
   "metadata": {},
   "outputs": [
    {
     "name": "stdout",
     "output_type": "stream",
     "text": [
      "라 다\n",
      "다 나\n",
      "나 가\n"
     ]
    }
   ],
   "source": [
    "my_list = [\"가\", \"나\", \"다\", \"라\"]\n",
    "\n",
    "for i in range(len(my_list)-1) :\n",
    "    print(my_list[3-i],my_list[2-i])"
   ]
  },
  {
   "cell_type": "code",
   "execution_count": 21,
   "id": "0a9c93c2-9b02-4e94-baa6-b775c34c8e55",
   "metadata": {},
   "outputs": [
    {
     "name": "stdout",
     "output_type": "stream",
     "text": [
      "라 다\n",
      "다 나\n",
      "나 가\n"
     ]
    }
   ],
   "source": [
    "for i in range(len(my_list) - 1, 0, -1):\n",
    "    print(my_list[i], my_list[i-1])"
   ]
  },
  {
   "cell_type": "code",
   "execution_count": 20,
   "id": "f462a1ab-208f-4cbe-ae7f-12476c5d3afb",
   "metadata": {},
   "outputs": [
    {
     "name": "stdout",
     "output_type": "stream",
     "text": [
      "라 다\n",
      "다 나\n",
      "나 가\n"
     ]
    }
   ],
   "source": [
    "for i in range(len(my_list) - 1):\n",
    "    print(my_list[len(my_list) - 1 - i], my_list[len(my_list) - 2 - i])"
   ]
  },
  {
   "cell_type": "code",
   "execution_count": 19,
   "id": "42586519-a117-4b56-a44e-a95417130a81",
   "metadata": {},
   "outputs": [
    {
     "data": {
      "text/plain": [
       "[3, 2, 1]"
      ]
     },
     "execution_count": 19,
     "metadata": {},
     "output_type": "execute_result"
    }
   ],
   "source": [
    "my_list = [\"가\", \"나\", \"다\", \"라\"]\n",
    "range(len(my_list) - 1, 0, -1)\n",
    "list(range(len(my_list) - 1, 0, -1))"
   ]
  },
  {
   "cell_type": "code",
   "execution_count": null,
   "id": "1a0e5f31-8139-4111-bbf8-9f0e959bad42",
   "metadata": {},
   "outputs": [],
   "source": [
    "# 178\n",
    "리스트에는 네 개의 정수가 저장되어 있다. 각각의 데이터에 대해서 자신과 우측값과의 차분값을 화면에 출력하라.\n",
    "\n",
    "my_list = [100, 200, 400, 800]\n",
    "예를들어 100을 기준으로 우측에 위치한 200과의 차분 값를 화면에 출력하고, \n",
    "200을 기준으로 우측에 위치한 400과의 차분값을 화면에 출력한다. \n",
    "이어서 400을 기준으로 우측에 위치한 800과의 차분값을 화면에 출력한다.\n",
    "\n",
    "100\n",
    "200\n",
    "400"
   ]
  },
  {
   "cell_type": "code",
   "execution_count": null,
   "id": "7c267687-f035-4ca0-b4e0-9b18159510b6",
   "metadata": {},
   "outputs": [],
   "source": [
    "my_list = [100, 200, 400, 800]\n",
    "\n",
    "100 = 200 - 100\n",
    "200 = 400 - 200\n",
    "400 = 800 - 400"
   ]
  },
  {
   "cell_type": "code",
   "execution_count": 27,
   "id": "08cf3856-c35e-42a7-901b-cf2b234ce893",
   "metadata": {},
   "outputs": [
    {
     "name": "stdout",
     "output_type": "stream",
     "text": [
      "100\n",
      "200\n",
      "400\n"
     ]
    }
   ],
   "source": [
    "my_list = [100, 200, 400, 800]\n",
    "\n",
    "for i in range(len(my_list)-1) :\n",
    "    print(my_list[i+1] - my_list[i])"
   ]
  },
  {
   "cell_type": "code",
   "execution_count": 24,
   "id": "7fa52ca3-457b-4354-a21f-c6e212719fcd",
   "metadata": {},
   "outputs": [
    {
     "name": "stdout",
     "output_type": "stream",
     "text": [
      "100\n",
      "200\n",
      "400\n"
     ]
    }
   ],
   "source": [
    "for i in range(len(my_list) - 1):\n",
    "    print(abs(my_list[i+1] - my_list[i]))"
   ]
  },
  {
   "cell_type": "code",
   "execution_count": 23,
   "id": "4e658b50-c629-46f4-bf65-4e353f9b74b1",
   "metadata": {},
   "outputs": [
    {
     "data": {
      "text/plain": [
       "\u001b[1;31mSignature:\u001b[0m \u001b[0mabs\u001b[0m\u001b[1;33m(\u001b[0m\u001b[0mx\u001b[0m\u001b[1;33m,\u001b[0m \u001b[1;33m/\u001b[0m\u001b[1;33m)\u001b[0m\u001b[1;33m\u001b[0m\u001b[1;33m\u001b[0m\u001b[0m\n",
       "\u001b[1;31mDocstring:\u001b[0m Return the absolute value of the argument.\n",
       "\u001b[1;31mType:\u001b[0m      builtin_function_or_method"
      ]
     },
     "metadata": {},
     "output_type": "display_data"
    }
   ],
   "source": [
    "abs? # 절댓값 반환"
   ]
  },
  {
   "cell_type": "code",
   "execution_count": 25,
   "id": "6d5782a3-c4af-497a-aa80-065a0bb47783",
   "metadata": {},
   "outputs": [
    {
     "name": "stdout",
     "output_type": "stream",
     "text": [
      "100\n",
      "200\n",
      "400\n"
     ]
    }
   ],
   "source": [
    "for i in range(len(my_list) - 1):\n",
    "    print(abs(my_list[i] - my_list[i+1]))"
   ]
  },
  {
   "cell_type": "code",
   "execution_count": null,
   "id": "86b1de7c-4bdc-4ab1-bb6c-96be624e44c7",
   "metadata": {},
   "outputs": [],
   "source": [
    "# 179\n",
    "리스트에는 6일 간의 종가 데이터가 저장되어 있다. 종가 데이터의 3일 이동 평균을 계산하고 이를 화면에 출력하라.\n",
    "\n",
    "my_list = [100, 200, 400, 800, 1000, 1300]\n",
    "\n",
    "첫 번째 줄에는 100, 200, 400의 평균값이 출력된다. \n",
    "두 번째 줄에는 200, 400, 800의 평균값이 출력된다. \n",
    "같은 방식으로 나머지 데이터의 평균을 출력한다.\n",
    "\n",
    "233.33333333333334\n",
    "466.6666666666667\n",
    "733.3333333333334\n",
    "1033.3333333333333"
   ]
  },
  {
   "cell_type": "code",
   "execution_count": 28,
   "id": "8b77900d-1990-40d5-9638-d5d81a49bcc9",
   "metadata": {},
   "outputs": [
    {
     "name": "stdout",
     "output_type": "stream",
     "text": [
      "233.33333333333334\n",
      "466.6666666666667\n",
      "733.3333333333334\n",
      "1033.3333333333333\n"
     ]
    }
   ],
   "source": [
    "my_list = [100, 200, 400, 800, 1000, 1300]\n",
    "\n",
    "for i in range(len(my_list)-2) :\n",
    "    print((my_list[i]+my_list[i+1]+my_list[i+2])/3)"
   ]
  },
  {
   "cell_type": "code",
   "execution_count": null,
   "id": "04fff8e9-de46-4321-93e6-2a36093010ae",
   "metadata": {},
   "outputs": [],
   "source": [
    "# 180\n",
    "리스트에 5일간의 저가, 고가 정보가 저장돼 있다. \n",
    "고가와 저가의 차를 변동폭이라고 정의할 때, \n",
    "low, high 두 개의 리스트를 사용해서 5일간의 변동폭을 volatility 리스트에 저장하라.\n",
    "\n",
    "low_prices  = [100, 200, 400, 800, 1000]\n",
    "high_prices = [150, 300, 430, 880, 1000]"
   ]
  },
  {
   "cell_type": "code",
   "execution_count": 29,
   "id": "2f85a58f-62fa-4596-8fc0-79784fecd876",
   "metadata": {},
   "outputs": [
    {
     "name": "stdout",
     "output_type": "stream",
     "text": [
      "50\n",
      "100\n",
      "30\n",
      "80\n",
      "0\n"
     ]
    }
   ],
   "source": [
    "low_prices  = [100, 200, 400, 800, 1000]\n",
    "high_prices = [150, 300, 430, 880, 1000]\n",
    "\n",
    "# 변동폭 = high - low = h1 - l1\n",
    "\n",
    "for i in range(len(low_prices)) :\n",
    "    print(high_prices[i]-low_prices[i])\n",
    "    "
   ]
  },
  {
   "cell_type": "code",
   "execution_count": 36,
   "id": "ddbf52e1-45a6-49a4-a168-70e7fcb7bb8e",
   "metadata": {},
   "outputs": [
    {
     "name": "stdout",
     "output_type": "stream",
     "text": [
      "[50, 100, 30, 80, 0]\n"
     ]
    }
   ],
   "source": [
    "low_prices  = [100, 200, 400, 800, 1000]\n",
    "high_prices = [150, 300, 430, 880, 1000]\n",
    "volatility = []\n",
    "for i in range(len(low_prices)) :\n",
    "    volatility.append(high_prices[i] - low_prices[i])\n",
    "print(volatility)"
   ]
  },
  {
   "cell_type": "markdown",
   "id": "d05d2bb1-a54e-4eed-9c16-a85e571d2b76",
   "metadata": {},
   "source": [
    "## 181 ~ 190"
   ]
  },
  {
   "cell_type": "code",
   "execution_count": null,
   "id": "f6b49519-32b6-4f9d-9006-15fb37cdf694",
   "metadata": {},
   "outputs": [],
   "source": [
    "# 181\n",
    "아래 표에서 하나의 행을 하나의 리스트로, 총 3개의 리스트를 갖는 이차원 리스트 apart를 정의하라."
   ]
  },
  {
   "cell_type": "markdown",
   "id": "7742e162-62dd-4f1f-a95c-825dad8101e1",
   "metadata": {},
   "source": [
    "|101호\t|102호|\n",
    "|---|---|\n",
    "|201호\t|202호|\n",
    "|301호\t|302호|"
   ]
  },
  {
   "cell_type": "code",
   "execution_count": 8,
   "id": "6e380929-8ae6-42a0-8674-f9b24abe725c",
   "metadata": {},
   "outputs": [
    {
     "name": "stdout",
     "output_type": "stream",
     "text": [
      "[['101호', '102호'], ['201호', '202호'], ['301호', '302호']] <class 'list'>\n"
     ]
    }
   ],
   "source": [
    "apart = [ [\"101호\", \"102호\"], [\"201호\", \"202호\"], [\"301호\", \"302호\"]]\n",
    "print(apart,type(apart))"
   ]
  },
  {
   "cell_type": "code",
   "execution_count": null,
   "id": "b131c552-f646-4975-8f9e-0fd4937da6be",
   "metadata": {},
   "outputs": [],
   "source": [
    "# 182\n",
    "아래 표에서 하나의 열을 하나의 리스트로, 총 2개의 리스트를 갖는 이차원 리스트 stock을 정의하라."
   ]
  },
  {
   "cell_type": "markdown",
   "id": "7b3cb050-bb87-4809-a734-22c2068ae93a",
   "metadata": {},
   "source": [
    "|시가\t|종가|\n",
    "|---|---|\n",
    "|100|\t80|\n",
    "|200|\t210|\n",
    "|300|\t330|"
   ]
  },
  {
   "cell_type": "code",
   "execution_count": 12,
   "id": "109e8f76-ffff-4948-833f-0fe600eca5b8",
   "metadata": {},
   "outputs": [
    {
     "name": "stdout",
     "output_type": "stream",
     "text": [
      "[['시가', 100, 200, 300], ['종가', 80, 210, 330]] <class 'list'>\n"
     ]
    }
   ],
   "source": [
    "stock = [ ['시가',100, 200, 300], ['종가',80, 210, 330]]\n",
    "print(stock,type(stock))"
   ]
  },
  {
   "cell_type": "code",
   "execution_count": null,
   "id": "c36dd0d4-6a5e-4d28-a52d-920496682c0f",
   "metadata": {},
   "outputs": [],
   "source": [
    "# 183\n",
    "아래 표를 stock 이름의 딕셔너리로 표현하라.\n",
    "시가를 key로 저장하고, 나머지 같은 열의 데이터를 리스트로 저장해서 value로 저장한다. \n",
    "종가를 key로 저장하고, 나머지 같은 열의 데이터를 리스트로 저장해서 value로 저장한다."
   ]
  },
  {
   "cell_type": "markdown",
   "id": "6b30660a-a1cc-450f-b2a4-5d79ca90bf2d",
   "metadata": {},
   "source": [
    "|시가\t|종가|\n",
    "|---|---|\n",
    "|100|\t80|\n",
    "|200|\t210|\n",
    "|300|\t330|"
   ]
  },
  {
   "cell_type": "code",
   "execution_count": 15,
   "id": "be05b401-d271-4d66-a027-ac41b1589c79",
   "metadata": {},
   "outputs": [],
   "source": [
    "stock = {'시가': [100, 200, 300], '종가':[80, 210, 330]}"
   ]
  },
  {
   "cell_type": "code",
   "execution_count": null,
   "id": "cb9be21b-45f5-401b-b8e9-3b9727e6c7af",
   "metadata": {},
   "outputs": [],
   "source": [
    "# 184\n",
    "아래 표를 stock 이라는 이름의 딕셔너리로 표현하라. \n",
    "날짜를 key로 저장하고, 나머지 같은 행의 데이터를 리스트로 저장해서 value로 저장한다. \n",
    "첫 열이 날짜이다."
   ]
  },
  {
   "cell_type": "markdown",
   "id": "f0dfd7f9-2847-4141-9ee7-88019b46f9d0",
   "metadata": {},
   "source": [
    "|10/10\t|80\t|110|\t70|\t90|\n",
    "|---|---|---|---|---|\n",
    "|10/11\t|210\t|230\t|190\t|200|"
   ]
  },
  {
   "cell_type": "code",
   "execution_count": 18,
   "id": "e63b37b7-cd7a-4664-8470-6ec81deafb6e",
   "metadata": {},
   "outputs": [
    {
     "name": "stdout",
     "output_type": "stream",
     "text": [
      "{'10/10': [80, 110, 70, 90], '10/11': [210, 230, 190, 200]} <class 'dict'>\n"
     ]
    }
   ],
   "source": [
    "stock = {'10/10':[80, 110, 70, 90], '10/11':[210, 230, 190, 200]}\n",
    "print(stock,type(stock))"
   ]
  },
  {
   "cell_type": "code",
   "execution_count": null,
   "id": "c4a4b5f9-517a-4212-9f94-c22247fdbf64",
   "metadata": {},
   "outputs": [],
   "source": [
    "# 185\n",
    "리스트에 저장된 데이터를 아래와 같이 출력하라.\n",
    "\n",
    "apart = [ [101, 102], [201, 202], [301, 302] ]\n",
    "\n",
    "101 호\n",
    "102 호\n",
    "201 호\n",
    "202 호\n",
    "301 호\n",
    "302 호"
   ]
  },
  {
   "cell_type": "code",
   "execution_count": 25,
   "id": "4367f6c6-2876-46bd-9e0b-f1f7b2d62ab1",
   "metadata": {},
   "outputs": [
    {
     "name": "stdout",
     "output_type": "stream",
     "text": [
      "101 호\n",
      "102 호\n",
      "201 호\n",
      "202 호\n",
      "301 호\n",
      "302 호\n"
     ]
    }
   ],
   "source": [
    "apart = [ [101, 102], [201, 202], [301, 302] ]\n",
    "\n",
    "print(apart[0][0],'호')\n",
    "print(apart[0][1],'호')\n",
    "print(apart[1][0],'호')\n",
    "print(apart[1][1],'호')\n",
    "print(apart[2][0],'호')\n",
    "print(apart[2][1],'호')"
   ]
  },
  {
   "cell_type": "code",
   "execution_count": 27,
   "id": "b6736afa-6bd7-425a-8d3d-9195d22bcb56",
   "metadata": {},
   "outputs": [
    {
     "name": "stdout",
     "output_type": "stream",
     "text": [
      "101 호\n",
      "102 호\n",
      "201 호\n",
      "202 호\n",
      "301 호\n",
      "302 호\n"
     ]
    }
   ],
   "source": [
    "apart = [ [101, 102], [201, 202], [301, 302] ]\n",
    "\n",
    "for i in range(len(apart)) :\n",
    "    print(apart[i][0],'호')\n",
    "    print(apart[i][1],'호')"
   ]
  },
  {
   "cell_type": "code",
   "execution_count": 28,
   "id": "8c0e0f5f-d814-4e55-9b4e-bc655ab2c6d5",
   "metadata": {},
   "outputs": [
    {
     "name": "stdout",
     "output_type": "stream",
     "text": [
      "101 호\n",
      "102 호\n",
      "201 호\n",
      "202 호\n",
      "301 호\n",
      "302 호\n"
     ]
    }
   ],
   "source": [
    "# 교재 답\n",
    "apart = [ [101, 102], [201, 202], [301, 302] ]\n",
    "\n",
    "for row in apart:\n",
    "    for col in row:\n",
    "        print(col, \"호\")"
   ]
  },
  {
   "cell_type": "code",
   "execution_count": 30,
   "id": "ac7e3836-5b27-4d79-b8e1-46467bc87f21",
   "metadata": {},
   "outputs": [
    {
     "name": "stdout",
     "output_type": "stream",
     "text": [
      "[101, 102] 호\n",
      "[201, 202] 호\n",
      "[301, 302] 호\n"
     ]
    }
   ],
   "source": [
    "apart = [ [101, 102], [201, 202], [301, 302] ]\n",
    "\n",
    "for row in apart:\n",
    "        print(row, \"호\")"
   ]
  },
  {
   "cell_type": "code",
   "execution_count": 31,
   "id": "456ebe85-c975-49df-8761-71e589675723",
   "metadata": {},
   "outputs": [
    {
     "name": "stdout",
     "output_type": "stream",
     "text": [
      "[101, 102] 호\n",
      "[201, 202] 호\n",
      "[301, 302] 호\n"
     ]
    }
   ],
   "source": [
    "row = [101, 102]\n",
    "print(row, '호')\n",
    "\n",
    "row = [201, 202]\n",
    "print(row, '호')\n",
    "\n",
    "row = [301, 302]\n",
    "print(row, '호')"
   ]
  },
  {
   "cell_type": "code",
   "execution_count": 33,
   "id": "2637bde7-aeb8-44d5-ac6a-6f9841784b04",
   "metadata": {},
   "outputs": [
    {
     "name": "stdout",
     "output_type": "stream",
     "text": [
      "101 호\n",
      "102 호\n",
      "201 호\n",
      "202 호\n",
      "301 호\n",
      "302 호\n"
     ]
    }
   ],
   "source": [
    "row = [101, 102]\n",
    "for i in row :\n",
    "    print(i, '호')\n",
    "\n",
    "row = [201, 202]\n",
    "for i in row :\n",
    "    print(i, '호')\n",
    "\n",
    "row = [301, 302]\n",
    "for i in row :\n",
    "    print(i, '호')"
   ]
  },
  {
   "cell_type": "code",
   "execution_count": 34,
   "id": "9dc5bc24-7ef9-4e23-b7f1-91d000a25a6b",
   "metadata": {},
   "outputs": [
    {
     "name": "stdout",
     "output_type": "stream",
     "text": [
      "101 호\n",
      "102 호\n",
      "201 호\n",
      "202 호\n",
      "301 호\n",
      "302 호\n"
     ]
    }
   ],
   "source": [
    "apart = [ [101, 102], [201, 202], [301, 302] ]\n",
    "\n",
    "for row in apart:\n",
    "    for i in row :\n",
    "        print(i, '호')"
   ]
  },
  {
   "cell_type": "code",
   "execution_count": 20,
   "id": "e0e50901-653b-437d-a71f-249ad3cbb10b",
   "metadata": {},
   "outputs": [],
   "source": [
    "# 186\n",
    "리스트에 저장된 데이터를 아래와 같이 출력하라.\n",
    "\n",
    "apart = [ [101, 102], [201, 202], [301, 302] ]\n",
    "\n",
    "301 호\n",
    "302 호\n",
    "201 호\n",
    "202 호\n",
    "101 호\n",
    "102 호"
   ]
  },
  {
   "cell_type": "code",
   "execution_count": 37,
   "id": "e39fb3e2-67c8-4162-a074-1516884f6428",
   "metadata": {},
   "outputs": [
    {
     "name": "stdout",
     "output_type": "stream",
     "text": [
      "[301, 302] 호\n",
      "[201, 202] 호\n",
      "[101, 102] 호\n"
     ]
    }
   ],
   "source": [
    "apart = [ [101, 102], [201, 202], [301, 302] ]\n",
    "for i in apart[::-1] :\n",
    "    print(i, '호')"
   ]
  },
  {
   "cell_type": "code",
   "execution_count": 39,
   "id": "80720874-9094-4933-8e57-f99bbca28d90",
   "metadata": {},
   "outputs": [
    {
     "name": "stdout",
     "output_type": "stream",
     "text": [
      "301 호\n",
      "302 호\n",
      "201 호\n",
      "202 호\n",
      "101 호\n",
      "102 호\n"
     ]
    }
   ],
   "source": [
    "apart = [ [101, 102], [201, 202], [301, 302] ]\n",
    "for i in apart[::-1] :\n",
    "    for a in i :\n",
    "        print(a, '호')"
   ]
  },
  {
   "cell_type": "code",
   "execution_count": null,
   "id": "4fdd37d3-a972-4e3a-a6ce-b4036069d67b",
   "metadata": {},
   "outputs": [],
   "source": [
    "# 187\n",
    "리스트에 저장된 데이터를 아래와 같이 출력하라.\n",
    "\n",
    "apart = [ [101, 102], [201, 202], [301, 302] ]\n",
    "\n",
    "302 호\n",
    "301 호\n",
    "202 호\n",
    "201 호\n",
    "102 호\n",
    "101 호"
   ]
  },
  {
   "cell_type": "code",
   "execution_count": 40,
   "id": "0c88e793-ead0-47e5-8d0a-d1d0489ccde7",
   "metadata": {},
   "outputs": [
    {
     "name": "stdout",
     "output_type": "stream",
     "text": [
      "[301, 302] 호\n",
      "[201, 202] 호\n",
      "[101, 102] 호\n"
     ]
    }
   ],
   "source": [
    "apart = [ [101, 102], [201, 202], [301, 302] ]\n",
    "\n",
    "for i in apart[::-1] :\n",
    "    print(i,'호')"
   ]
  },
  {
   "cell_type": "code",
   "execution_count": 41,
   "id": "a97821b2-f6ce-4886-8046-d031e7788ecd",
   "metadata": {},
   "outputs": [
    {
     "name": "stdout",
     "output_type": "stream",
     "text": [
      "302 호\n",
      "301 호\n",
      "202 호\n",
      "201 호\n",
      "102 호\n",
      "101 호\n"
     ]
    }
   ],
   "source": [
    "apart = [ [101, 102], [201, 202], [301, 302] ]\n",
    "\n",
    "for i in apart[::-1] :\n",
    "    for a in i[::-1] :\n",
    "        print(a,'호')"
   ]
  },
  {
   "cell_type": "code",
   "execution_count": null,
   "id": "0c502e70-fef2-49fa-9da6-1dcca1e01519",
   "metadata": {},
   "outputs": [],
   "source": [
    "# 188\n",
    "리스트에 저장된 데이터를 아래와 같이 출력하라.\n",
    "\n",
    "apart = [ [101, 102], [201, 202], [301, 302] ]\n",
    "\n",
    "101 호\n",
    "-----\n",
    "102 호\n",
    "-----\n",
    "201 호\n",
    "-----\n",
    "202 호\n",
    "-----\n",
    "301 호\n",
    "-----\n",
    "302 호\n",
    "-----"
   ]
  },
  {
   "cell_type": "code",
   "execution_count": 44,
   "id": "34276602-f85f-4ef9-9c0f-841f50c754f7",
   "metadata": {},
   "outputs": [
    {
     "name": "stdout",
     "output_type": "stream",
     "text": [
      "101 호\n",
      "-----\n",
      "102 호\n",
      "-----\n",
      "201 호\n",
      "-----\n",
      "202 호\n",
      "-----\n",
      "301 호\n",
      "-----\n",
      "302 호\n",
      "-----\n"
     ]
    }
   ],
   "source": [
    "apart = [ [101, 102], [201, 202], [301, 302] ]\n",
    "\n",
    "print(apart[0][0], '호')\n",
    "print('-----')\n",
    "print(apart[0][1], '호')\n",
    "print('-----')\n",
    "\n",
    "print(apart[1][0], '호')\n",
    "print('-----')\n",
    "print(apart[1][1], '호')\n",
    "print('-----')\n",
    "\n",
    "print(apart[2][0], '호')\n",
    "print('-----')\n",
    "print(apart[2][1], '호')\n",
    "print('-----')"
   ]
  },
  {
   "cell_type": "code",
   "execution_count": 46,
   "id": "aff5b184-ae95-49a3-abf4-1852695c8fd9",
   "metadata": {},
   "outputs": [
    {
     "name": "stdout",
     "output_type": "stream",
     "text": [
      "[101, 102] 호\n",
      "-----\n",
      "[201, 202] 호\n",
      "-----\n",
      "[301, 302] 호\n",
      "-----\n"
     ]
    }
   ],
   "source": [
    "apart = [ [101, 102], [201, 202], [301, 302] ]\n",
    "\n",
    "for i in apart :\n",
    "    print(i,'호')\n",
    "    print('-----')"
   ]
  },
  {
   "cell_type": "code",
   "execution_count": 48,
   "id": "abe458b6-e18f-4977-9868-f2c0d0a9dd39",
   "metadata": {},
   "outputs": [
    {
     "name": "stdout",
     "output_type": "stream",
     "text": [
      "101 호\n",
      "-----\n",
      "102 호\n",
      "-----\n",
      "201 호\n",
      "-----\n",
      "202 호\n",
      "-----\n",
      "301 호\n",
      "-----\n",
      "302 호\n",
      "-----\n"
     ]
    }
   ],
   "source": [
    "apart = [ [101, 102], [201, 202], [301, 302] ]\n",
    "\n",
    "for i in apart :\n",
    "    for a in i :\n",
    "        print(a,'호')\n",
    "        print('-----')"
   ]
  },
  {
   "cell_type": "code",
   "execution_count": 55,
   "id": "88678f32-321b-4bc3-9548-45e9bb2437c3",
   "metadata": {},
   "outputs": [
    {
     "name": "stdout",
     "output_type": "stream",
     "text": [
      "101 호\n",
      "-----\n",
      "102 호\n",
      "-----\n",
      "201 호\n",
      "-----\n",
      "202 호\n",
      "-----\n",
      "301 호\n",
      "-----\n",
      "302 호\n",
      "-----\n"
     ]
    }
   ],
   "source": [
    "# 교재 답\n",
    "apart = [ [101, 102], [201, 202], [301, 302] ]\n",
    "\n",
    "for row in apart:\n",
    "    for col in row:\n",
    "        print(col, \"호\")\n",
    "        print(\"-\" * 5)"
   ]
  },
  {
   "cell_type": "code",
   "execution_count": null,
   "id": "8a0e5fc2-0200-440e-a068-2820a3075802",
   "metadata": {},
   "outputs": [],
   "source": [
    "# 189\n",
    "리스트에 저장된 데이터를 아래와 같이 출력하라.\n",
    "\n",
    "apart = [ [101, 102], [201, 202], [301, 302] ]\n",
    "\n",
    "101 호\n",
    "102 호\n",
    "-----\n",
    "201 호\n",
    "202 호\n",
    "-----\n",
    "301 호\n",
    "302 호\n",
    "-----"
   ]
  },
  {
   "cell_type": "code",
   "execution_count": 57,
   "id": "e8baa91c-c70c-4043-8460-646e9a4cb549",
   "metadata": {},
   "outputs": [
    {
     "name": "stdout",
     "output_type": "stream",
     "text": [
      "101 호\n",
      "102 호\n",
      "-----\n",
      "202 호\n",
      "202 호\n",
      "-----\n",
      "302 호\n",
      "302 호\n",
      "-----\n"
     ]
    }
   ],
   "source": [
    "apart = [ [101, 102], [201, 202], [301, 302] ]\n",
    "\n",
    "print(apart[0][0], '호')\n",
    "print(apart[0][1], '호')\n",
    "print(\"-\" * 5)\n",
    "\n",
    "print(apart[1][1], '호')\n",
    "print(apart[1][1], '호')\n",
    "print(\"-\" * 5)\n",
    "\n",
    "print(apart[2][1], '호')\n",
    "print(apart[2][1], '호')\n",
    "print(\"-\" * 5)"
   ]
  },
  {
   "cell_type": "code",
   "execution_count": 60,
   "id": "976004d8-af0b-4901-a4d7-63b00494767f",
   "metadata": {},
   "outputs": [
    {
     "name": "stdout",
     "output_type": "stream",
     "text": [
      "[101, 102] 호\n",
      "-----\n",
      "[201, 202] 호\n",
      "-----\n",
      "[301, 302] 호\n",
      "-----\n"
     ]
    }
   ],
   "source": [
    "apart = [ [101, 102], [201, 202], [301, 302] ]\n",
    "\n",
    "for i in apart :\n",
    "    print(i,'호')\n",
    "    print(\"-\" * 5)"
   ]
  },
  {
   "cell_type": "code",
   "execution_count": 61,
   "id": "56b4291b-6d55-4ff9-ba7c-6af345b246d9",
   "metadata": {},
   "outputs": [
    {
     "name": "stdout",
     "output_type": "stream",
     "text": [
      "101 호\n",
      "102 호\n",
      "-----\n",
      "201 호\n",
      "202 호\n",
      "-----\n",
      "301 호\n",
      "302 호\n",
      "-----\n"
     ]
    }
   ],
   "source": [
    "apart = [ [101, 102], [201, 202], [301, 302] ]\n",
    "\n",
    "for i in apart :\n",
    "    for a in i :\n",
    "        print(a,'호')\n",
    "    print(\"-\" * 5)"
   ]
  },
  {
   "cell_type": "code",
   "execution_count": 62,
   "id": "b72ca1f4-bac2-4045-8d45-2bcae472ef23",
   "metadata": {},
   "outputs": [
    {
     "name": "stdout",
     "output_type": "stream",
     "text": [
      "101 호\n",
      "102 호\n",
      "-----\n",
      "201 호\n",
      "202 호\n",
      "-----\n",
      "301 호\n",
      "302 호\n",
      "-----\n"
     ]
    }
   ],
   "source": [
    "# 교재 답\n",
    "apart = [ [101, 102], [201, 202], [301, 302] ]\n",
    "\n",
    "for row in apart:\n",
    "    for col in row:\n",
    "        print(col, \"호\")\n",
    "    print(\"-----\")"
   ]
  },
  {
   "cell_type": "code",
   "execution_count": null,
   "id": "e94216d7-eab6-4a62-94e2-bb795ee8b906",
   "metadata": {},
   "outputs": [],
   "source": [
    "# 190\n",
    "리스트에 저장된 데이터를 아래와 같이 출력하라.\n",
    "\n",
    "apart = [ [101, 102], [201, 202], [301, 302] ]\n",
    "\n",
    "101 호\n",
    "102 호\n",
    "201 호\n",
    "202 호\n",
    "301 호\n",
    "302 호\n",
    "-----"
   ]
  },
  {
   "cell_type": "code",
   "execution_count": 63,
   "id": "803cfedc-636b-4b8f-b386-2627a5d3ea8d",
   "metadata": {},
   "outputs": [
    {
     "name": "stdout",
     "output_type": "stream",
     "text": [
      "101 호\n",
      "102 호\n",
      "201 호\n",
      "202 호\n",
      "301 호\n",
      "302 호\n",
      "-----\n"
     ]
    }
   ],
   "source": [
    "apart = [ [101, 102], [201, 202], [301, 302] ]\n",
    "\n",
    "for i in apart :\n",
    "    for a in i :\n",
    "        print(a,'호')\n",
    "print('-'*5)"
   ]
  },
  {
   "cell_type": "markdown",
   "id": "75647a97-9dc5-4618-a2f5-7ccf815a0158",
   "metadata": {},
   "source": [
    "## 191 ~ 200"
   ]
  },
  {
   "cell_type": "code",
   "execution_count": null,
   "id": "ba645c85-930d-4380-8179-22417a2e7d23",
   "metadata": {},
   "outputs": [],
   "source": [
    "# 191\n",
    "data에는 매수한 종목들의 OHLC (open/high/low/close) 가격 정보가 바인딩 되어있다.\n",
    "\n",
    "data = [\n",
    "    [ 2000,  3050,  2050,  1980],\n",
    "    [ 7500,  2050,  2050,  1980],\n",
    "    [15450, 15050, 15550, 14900]\n",
    "]\n",
    "\n",
    "수수료를 0.014 %로 가정할 때, 각 가격에 수수료를 포함한 가격을 한라인에 하나씩 출력하라.\n",
    "\n",
    "2000.28\n",
    "3050.427\n",
    "2050.2870000000003\n",
    "..."
   ]
  },
  {
   "cell_type": "code",
   "execution_count": 70,
   "id": "304335e7-1234-48db-8205-065e788d85f2",
   "metadata": {},
   "outputs": [
    {
     "name": "stdout",
     "output_type": "stream",
     "text": [
      "2000.28\n",
      "3050.427\n",
      "2050.287\n",
      "1980.2772\n",
      "7501.05\n",
      "2050.287\n",
      "2050.287\n",
      "1980.2772\n",
      "15452.163\n",
      "15052.107\n",
      "15552.177\n",
      "14902.086\n"
     ]
    }
   ],
   "source": [
    "data = [\n",
    "    [ 2000,  3050,  2050,  1980],\n",
    "    [ 7500,  2050,  2050,  1980],\n",
    "    [15450, 15050, 15550, 14900]\n",
    "]\n",
    "\n",
    "for i in data :\n",
    "    for a in i :\n",
    "        print(a+(a*0.014*0.01))"
   ]
  },
  {
   "cell_type": "code",
   "execution_count": 74,
   "id": "91ce156a-52ca-4896-8c7f-4211f818f701",
   "metadata": {},
   "outputs": [
    {
     "name": "stdout",
     "output_type": "stream",
     "text": [
      "2000.28\n",
      "3050.427\n",
      "2050.2870000000003\n",
      "1980.2772\n",
      "7501.05\n",
      "2050.2870000000003\n",
      "2050.2870000000003\n",
      "1980.2772\n",
      "15452.163\n",
      "15052.107\n",
      "15552.177\n",
      "14902.086000000001\n"
     ]
    }
   ],
   "source": [
    "# 교재 답\n",
    "data = [\n",
    "    [ 2000,  3050,  2050,  1980],\n",
    "    [ 7500,  2050,  2050,  1980],\n",
    "    [15450, 15050, 15550, 14900]\n",
    "]\n",
    "\n",
    "for i in data :\n",
    "    for a in i :\n",
    "        print(a * 1.00014)"
   ]
  },
  {
   "cell_type": "code",
   "execution_count": null,
   "id": "4252f4ef-a568-4a82-b07b-b0a988b39efb",
   "metadata": {},
   "outputs": [],
   "source": [
    "# 192\n",
    "191번의 출력 결과에 행단위로 \"----\" 구분자를 추가하라.\n",
    "\n",
    "2000.28\n",
    "3050.427\n",
    "2050.2870000000003\n",
    "1980.2772\n",
    "----\n",
    "7501.05\n",
    "2050.2870000000003\n",
    "2050.2870000000003\n",
    "1980.2772\n",
    "----\n",
    "15452.163\n",
    "15052.107\n",
    "15552.177\n",
    "14902.086000000001\n",
    "----"
   ]
  },
  {
   "cell_type": "code",
   "execution_count": 72,
   "id": "8739bc2c-b64b-4d16-9c22-4485425df4c4",
   "metadata": {},
   "outputs": [
    {
     "name": "stdout",
     "output_type": "stream",
     "text": [
      "2000.28\n",
      "3050.427\n",
      "2050.287\n",
      "1980.2772\n",
      "----\n",
      "7501.05\n",
      "2050.287\n",
      "2050.287\n",
      "1980.2772\n",
      "----\n",
      "15452.163\n",
      "15052.107\n",
      "15552.177\n",
      "14902.086\n",
      "----\n"
     ]
    }
   ],
   "source": [
    "data = [\n",
    "    [ 2000,  3050,  2050,  1980],\n",
    "    [ 7500,  2050,  2050,  1980],\n",
    "    [15450, 15050, 15550, 14900]\n",
    "]\n",
    "\n",
    "for i in data :\n",
    "    for a in i :\n",
    "        print(a+(a*0.014*0.01))\n",
    "    print('-'*4)"
   ]
  },
  {
   "cell_type": "code",
   "execution_count": 73,
   "id": "4ec0426e-35f6-478e-9523-5c6a2b0a1a71",
   "metadata": {},
   "outputs": [
    {
     "name": "stdout",
     "output_type": "stream",
     "text": [
      "2000.28\n",
      "3050.427\n",
      "2050.2870000000003\n",
      "1980.2772\n",
      "----\n",
      "7501.05\n",
      "2050.2870000000003\n",
      "2050.2870000000003\n",
      "1980.2772\n",
      "----\n",
      "15452.163\n",
      "15052.107\n",
      "15552.177\n",
      "14902.086000000001\n",
      "----\n"
     ]
    }
   ],
   "source": [
    "# 교재 답\n",
    "data = [\n",
    "    [ 2000,  3050,  2050,  1980],\n",
    "    [ 7500,  2050,  2050,  1980],\n",
    "    [15450, 15050, 15550, 14900]\n",
    "]\n",
    "\n",
    "for line in data:\n",
    "    for column in line:\n",
    "        print(column * 1.00014)\n",
    "    print(\"----\")"
   ]
  },
  {
   "cell_type": "code",
   "execution_count": null,
   "id": "a5e3c629-0839-4892-a46f-eb13e0cefd5c",
   "metadata": {},
   "outputs": [],
   "source": [
    "# 193\n",
    "192 번 문제의 결괏값을 result 이름의 리스트에 1차원 배열로 저장하라.\n",
    "\n",
    ">> print(result)\n",
    "[2000.28, 3050.427, 2050.2870000000003, 1980.2772, 7501.05, 2050.2870000000003, 2050.2870000000003, ...]"
   ]
  },
  {
   "cell_type": "code",
   "execution_count": 105,
   "id": "9d999167-5777-4c7c-9d16-6e782ef5a12d",
   "metadata": {},
   "outputs": [
    {
     "name": "stdout",
     "output_type": "stream",
     "text": [
      "None\n",
      "[2000]\n",
      "None\n",
      "[2000, 3050]\n",
      "None\n",
      "[2000, 3050, 2050]\n",
      "None\n",
      "[2000, 3050, 2050, 1980]\n",
      "None\n",
      "[2000, 3050, 2050, 1980, 7500]\n",
      "None\n",
      "[2000, 3050, 2050, 1980, 7500, 2050]\n",
      "None\n",
      "[2000, 3050, 2050, 1980, 7500, 2050, 2050]\n",
      "None\n",
      "[2000, 3050, 2050, 1980, 7500, 2050, 2050, 1980]\n",
      "None\n",
      "[2000, 3050, 2050, 1980, 7500, 2050, 2050, 1980, 15450]\n",
      "None\n",
      "[2000, 3050, 2050, 1980, 7500, 2050, 2050, 1980, 15450, 15050]\n",
      "None\n",
      "[2000, 3050, 2050, 1980, 7500, 2050, 2050, 1980, 15450, 15050, 15550]\n",
      "None\n",
      "[2000, 3050, 2050, 1980, 7500, 2050, 2050, 1980, 15450, 15050, 15550, 14900]\n",
      "[2000, 3050, 2050, 1980, 7500, 2050, 2050, 1980, 15450, 15050, 15550, 14900]\n"
     ]
    }
   ],
   "source": [
    "data = [\n",
    "    [ 2000,  3050,  2050,  1980],\n",
    "    [ 7500,  2050,  2050,  1980],\n",
    "    [15450, 15050, 15550, 14900]\n",
    "]\n",
    "result = []\n",
    "\n",
    "for i in data :\n",
    "    for a in i :\n",
    "        print(result.append(a)) # 추가시키는 함수여서 출력값이 None\n",
    "        print(result)\n",
    "print(result)"
   ]
  },
  {
   "cell_type": "code",
   "execution_count": 106,
   "id": "835ad460-cb87-41d7-b114-4b8a70367d47",
   "metadata": {},
   "outputs": [
    {
     "name": "stdout",
     "output_type": "stream",
     "text": [
      "[2000]\n",
      "[2000, 3050]\n",
      "[2000, 3050, 2050]\n",
      "[2000, 3050, 2050, 1980]\n",
      "[2000, 3050, 2050, 1980, 7500]\n",
      "[2000, 3050, 2050, 1980, 7500, 2050]\n",
      "[2000, 3050, 2050, 1980, 7500, 2050, 2050]\n",
      "[2000, 3050, 2050, 1980, 7500, 2050, 2050, 1980]\n",
      "[2000, 3050, 2050, 1980, 7500, 2050, 2050, 1980, 15450]\n",
      "[2000, 3050, 2050, 1980, 7500, 2050, 2050, 1980, 15450, 15050]\n",
      "[2000, 3050, 2050, 1980, 7500, 2050, 2050, 1980, 15450, 15050, 15550]\n",
      "[2000, 3050, 2050, 1980, 7500, 2050, 2050, 1980, 15450, 15050, 15550, 14900]\n"
     ]
    }
   ],
   "source": [
    "data = [\n",
    "    [ 2000,  3050,  2050,  1980],\n",
    "    [ 7500,  2050,  2050,  1980],\n",
    "    [15450, 15050, 15550, 14900]\n",
    "]\n",
    "result = []\n",
    "\n",
    "for i in data :\n",
    "    for a in i :\n",
    "        result.append(a)\n",
    "        print(result)"
   ]
  },
  {
   "cell_type": "code",
   "execution_count": 107,
   "id": "7f906ec8-c82e-404b-bbb2-f0b3425f82a3",
   "metadata": {},
   "outputs": [
    {
     "name": "stdout",
     "output_type": "stream",
     "text": [
      "[2000.28]\n",
      "[2000.28, 3050.427]\n",
      "[2000.28, 3050.427, 2050.2870000000003]\n",
      "[2000.28, 3050.427, 2050.2870000000003, 1980.2772]\n",
      "[2000.28, 3050.427, 2050.2870000000003, 1980.2772, 7501.05]\n",
      "[2000.28, 3050.427, 2050.2870000000003, 1980.2772, 7501.05, 2050.2870000000003]\n",
      "[2000.28, 3050.427, 2050.2870000000003, 1980.2772, 7501.05, 2050.2870000000003, 2050.2870000000003]\n",
      "[2000.28, 3050.427, 2050.2870000000003, 1980.2772, 7501.05, 2050.2870000000003, 2050.2870000000003, 1980.2772]\n",
      "[2000.28, 3050.427, 2050.2870000000003, 1980.2772, 7501.05, 2050.2870000000003, 2050.2870000000003, 1980.2772, 15452.163]\n",
      "[2000.28, 3050.427, 2050.2870000000003, 1980.2772, 7501.05, 2050.2870000000003, 2050.2870000000003, 1980.2772, 15452.163, 15052.107]\n",
      "[2000.28, 3050.427, 2050.2870000000003, 1980.2772, 7501.05, 2050.2870000000003, 2050.2870000000003, 1980.2772, 15452.163, 15052.107, 15552.177]\n",
      "[2000.28, 3050.427, 2050.2870000000003, 1980.2772, 7501.05, 2050.2870000000003, 2050.2870000000003, 1980.2772, 15452.163, 15052.107, 15552.177, 14902.086000000001]\n"
     ]
    }
   ],
   "source": [
    "data = [\n",
    "    [ 2000,  3050,  2050,  1980],\n",
    "    [ 7500,  2050,  2050,  1980],\n",
    "    [15450, 15050, 15550, 14900]\n",
    "]\n",
    "result = []\n",
    "\n",
    "for i in data :\n",
    "    for a in i :\n",
    "        result.append(a * 1.00014)\n",
    "        print(result)"
   ]
  },
  {
   "cell_type": "code",
   "execution_count": 108,
   "id": "c4c7bf8e-cbfd-42b4-9f9e-11d5e319ce03",
   "metadata": {},
   "outputs": [
    {
     "name": "stdout",
     "output_type": "stream",
     "text": [
      "[2000.28, 3050.427, 2050.2870000000003, 1980.2772, 7501.05, 2050.2870000000003, 2050.2870000000003, 1980.2772, 15452.163, 15052.107, 15552.177, 14902.086000000001]\n"
     ]
    }
   ],
   "source": [
    "data = [\n",
    "    [ 2000,  3050,  2050,  1980],\n",
    "    [ 7500,  2050,  2050,  1980],\n",
    "    [15450, 15050, 15550, 14900]\n",
    "]\n",
    "result = []\n",
    "\n",
    "for i in data :\n",
    "    for a in i :\n",
    "        result.append(a * 1.00014)\n",
    "print(result)"
   ]
  },
  {
   "cell_type": "code",
   "execution_count": 102,
   "id": "19cd6dc8-69d0-41f2-94b1-3418eb1be141",
   "metadata": {},
   "outputs": [
    {
     "name": "stdout",
     "output_type": "stream",
     "text": [
      "[2000.28, 3050.427, 2050.2870000000003, 1980.2772, 7501.05, 2050.2870000000003, 2050.2870000000003, 1980.2772, 15452.163, 15052.107, 15552.177, 14902.086000000001]\n"
     ]
    }
   ],
   "source": [
    "data = [\n",
    "    [ 2000,  3050,  2050,  1980],\n",
    "    [ 7500,  2050,  2050,  1980],\n",
    "    [15450, 15050, 15550, 14900]\n",
    "]\n",
    "result = []\n",
    "\n",
    "for line in data:\n",
    "    for column in line:\n",
    "        result.append(column * 1.00014)\n",
    "print(result)"
   ]
  },
  {
   "cell_type": "code",
   "execution_count": 82,
   "id": "675b8f4e-606b-4bc8-8d8f-0d2f8774ba75",
   "metadata": {},
   "outputs": [],
   "source": [
    "# 194\n",
    "191번 문제의 결괏값을 result 이름의 리스트에 2차원 배열로 저장하라. 저장 포맷은 아래와 같다. 각 행에 대한 데이터끼리 리스트에 저장되어야 한다.\n",
    "\n",
    ">> print(result)\n",
    "[\n",
    " [2000.28, 3050.427, 2050.2870000000003, 1980.2772],\n",
    " [7501.05, 2050.2870000000003, 2050.2870000000003, 1980.2772],\n",
    " [15452.163, 15052.107, 15552.177, 14902.086000000001]\n",
    "]"
   ]
  },
  {
   "cell_type": "code",
   "execution_count": 109,
   "id": "270f7aea-44f8-4ced-9b4c-f54996006077",
   "metadata": {},
   "outputs": [
    {
     "name": "stdout",
     "output_type": "stream",
     "text": [
      "2000.28\n",
      "3050.427\n",
      "2050.2870000000003\n",
      "1980.2772\n",
      "7501.05\n",
      "2050.2870000000003\n",
      "2050.2870000000003\n",
      "1980.2772\n",
      "15452.163\n",
      "15052.107\n",
      "15552.177\n",
      "14902.086000000001\n"
     ]
    }
   ],
   "source": [
    "# 191번 문제\n",
    "data = [\n",
    "    [ 2000,  3050,  2050,  1980],\n",
    "    [ 7500,  2050,  2050,  1980],\n",
    "    [15450, 15050, 15550, 14900]\n",
    "]\n",
    "\n",
    "for i in data :\n",
    "    for a in i :\n",
    "        print(a * 1.00014)"
   ]
  },
  {
   "cell_type": "code",
   "execution_count": 140,
   "id": "5532f202-3ac3-4fa8-be4a-24efbbc8d331",
   "metadata": {},
   "outputs": [
    {
     "name": "stdout",
     "output_type": "stream",
     "text": [
      "[2000.28, 3050.427, 2050.2870000000003, 1980.2772, 7501.05, 2050.2870000000003, 2050.2870000000003, 1980.2772, 15452.163, 15052.107, 15552.177, 14902.086000000001]\n",
      "[[2000.28, 3050.427, 2050.2870000000003, 1980.2772]]\n",
      "[[2000.28, 3050.427, 2050.2870000000003, 1980.2772], [7501.05, 2050.2870000000003, 2050.2870000000003, 1980.2772]]\n",
      "[[2000.28, 3050.427, 2050.2870000000003, 1980.2772], [7501.05, 2050.2870000000003, 2050.2870000000003, 1980.2772], [15452.163, 15052.107, 15552.177, 14902.086000000001]]\n"
     ]
    }
   ],
   "source": [
    "data = [\n",
    "    [ 2000,  3050,  2050,  1980],\n",
    "    [ 7500,  2050,  2050,  1980],\n",
    "    [15450, 15050, 15550, 14900]\n",
    "]\n",
    "\n",
    "result = []\n",
    "\n",
    "for i in data :\n",
    "    for a in i :\n",
    "        result.append(a * 1.00014)\n",
    "print(result)\n",
    "\n",
    "a = []\n",
    "a.append([result[0],result[1],result[2],result[3] ])\n",
    "print(a)\n",
    "a.append([result[4],result[5],result[6],result[7]])\n",
    "print(a)\n",
    "a.append([result[8],result[9],result[10],result[11]])\n",
    "print(a)"
   ]
  },
  {
   "cell_type": "code",
   "execution_count": 155,
   "id": "b8bffe12-7bc8-478b-a670-22ce9c0eaee1",
   "metadata": {},
   "outputs": [
    {
     "ename": "TypeError",
     "evalue": "'int' object is not iterable",
     "output_type": "error",
     "traceback": [
      "\u001b[1;31m---------------------------------------------------------------------------\u001b[0m",
      "\u001b[1;31mTypeError\u001b[0m                                 Traceback (most recent call last)",
      "Cell \u001b[1;32mIn[155], line 10\u001b[0m\n\u001b[0;32m      7\u001b[0m result \u001b[38;5;241m=\u001b[39m []\n\u001b[0;32m      9\u001b[0m \u001b[38;5;28;01mfor\u001b[39;00m i \u001b[38;5;129;01min\u001b[39;00m \u001b[38;5;28mrange\u001b[39m(\u001b[38;5;28mlen\u001b[39m(data)) :\n\u001b[1;32m---> 10\u001b[0m     \u001b[38;5;28;01mfor\u001b[39;00m a \u001b[38;5;129;01min\u001b[39;00m i :\n\u001b[0;32m     11\u001b[0m         data2\u001b[38;5;241m.\u001b[39mappend(a \u001b[38;5;241m*\u001b[39m \u001b[38;5;241m1.00014\u001b[39m)\n\u001b[0;32m     12\u001b[0m \u001b[38;5;28mprint\u001b[39m(\u001b[38;5;124m'\u001b[39m\u001b[38;5;124mdata =\u001b[39m\u001b[38;5;124m'\u001b[39m,data2)\n",
      "\u001b[1;31mTypeError\u001b[0m: 'int' object is not iterable"
     ]
    }
   ],
   "source": [
    "data = [\n",
    "    [ 2000,  3050,  2050,  1980],\n",
    "    [ 7500,  2050,  2050,  1980],\n",
    "    [15450, 15050, 15550, 14900]\n",
    "]\n",
    "data2 = []\n",
    "result = []\n",
    "\n",
    "for i in range(len(data)) :\n",
    "    for a in i :\n",
    "        data2.append(a * 1.00014)\n",
    "print('data =',data2)\n",
    "\n",
    "result.append([data2[0],data2[1],data2[2],data2[3] ])\n",
    "result.append([data2[4],data2[5],data2[6],data2[7]])\n",
    "result.append([data2[8],data2[9],data2[10],data2[11]])\n",
    "print('result =',result)"
   ]
  },
  {
   "cell_type": "code",
   "execution_count": null,
   "id": "ca1a2ab5-314a-4e96-86ad-5eb056b998c7",
   "metadata": {},
   "outputs": [],
   "source": [
    "result.append([data2[0],data2[1],data2[2],data2[3] ])\n",
    "result.append([data2[4],data2[5],data2[6],data2[7]])\n",
    "result.append([data2[8],data2[9],data2[10],data2[11]])\n",
    "\n",
    "result.append([data2[i],data2[i+1],data2[i+2],data2[i+3]])"
   ]
  },
  {
   "cell_type": "code",
   "execution_count": 4,
   "id": "4135cd99-c5ce-45b4-be3e-044bc144737d",
   "metadata": {},
   "outputs": [
    {
     "name": "stdout",
     "output_type": "stream",
     "text": [
      "result = [[2000.28, 3050.427, 2050.2870000000003, 1980.2772], [7501.05, 2050.2870000000003, 2050.2870000000003, 1980.2772], [15452.163, 15052.107, 15552.177, 14902.086000000001]]\n"
     ]
    }
   ],
   "source": [
    "data = [\n",
    "    [ 2000,  3050,  2050,  1980],\n",
    "    [ 7500,  2050,  2050,  1980],\n",
    "    [15450, 15050, 15550, 14900]\n",
    "]\n",
    "\n",
    "result = []\n",
    "\n",
    "for i in data :\n",
    "    data2 = []\n",
    "    for a in i :\n",
    "        data2.append(a * 1.00014)\n",
    "    result.append(data2)\n",
    "print('result =',result)"
   ]
  },
  {
   "cell_type": "code",
   "execution_count": 5,
   "id": "d3b2886d-e0e4-471a-96dc-aa72d05f47ed",
   "metadata": {},
   "outputs": [
    {
     "name": "stdout",
     "output_type": "stream",
     "text": [
      "result = [[2000.28, 3050.427, 2050.2870000000003, 1980.2772, 7501.05, 2050.2870000000003, 2050.2870000000003, 1980.2772, 15452.163, 15052.107, 15552.177, 14902.086000000001], [2000.28, 3050.427, 2050.2870000000003, 1980.2772, 7501.05, 2050.2870000000003, 2050.2870000000003, 1980.2772, 15452.163, 15052.107, 15552.177, 14902.086000000001], [2000.28, 3050.427, 2050.2870000000003, 1980.2772, 7501.05, 2050.2870000000003, 2050.2870000000003, 1980.2772, 15452.163, 15052.107, 15552.177, 14902.086000000001]]\n"
     ]
    }
   ],
   "source": [
    "data = [\n",
    "    [ 2000,  3050,  2050,  1980],\n",
    "    [ 7500,  2050,  2050,  1980],\n",
    "    [15450, 15050, 15550, 14900]\n",
    "]\n",
    "\n",
    "result = []\n",
    "data2 = []\n",
    "for i in data :\n",
    "    \n",
    "    for a in i :\n",
    "        data2.append(a * 1.00014) # data2 = a x i 수의 개수만큼 데이터가 저장 -> data2 = [a00, a01, ****, a10, a11]\n",
    "    result.append(data2) #result = i 수의 개수만큼 저장 -> result[i0, i1, i2]\n",
    "print('result =',result)"
   ]
  },
  {
   "cell_type": "code",
   "execution_count": 3,
   "id": "e4499740-4e09-4e52-923b-aa5f31edcb10",
   "metadata": {},
   "outputs": [
    {
     "name": "stdout",
     "output_type": "stream",
     "text": [
      "[[2000.28, 3050.427, 2050.2870000000003, 1980.2772], [7501.05, 2050.2870000000003, 2050.2870000000003, 1980.2772], [15452.163, 15052.107, 15552.177, 14902.086000000001]]\n"
     ]
    }
   ],
   "source": [
    "# 교재 답\n",
    "data = [\n",
    "    [ 2000,  3050,  2050,  1980],\n",
    "    [ 7500,  2050,  2050,  1980],\n",
    "    [15450, 15050, 15550, 14900]\n",
    "]\n",
    "result = []\n",
    "\n",
    "for line in data: # data에 리스트 조희 -> 3번 반복\n",
    "    sub = [] # sub = [] 에 for coium in line 문을 실행\n",
    "    for column in line: # data에 리스트 안에 리스트를 조희 -> 4번 반복\n",
    "        sub.append(column * 1.00014) # 한 sub 값에 column * 1.00014 값을 입력을 4번 반복\n",
    "    result.append(sub) # 한 result 값에 4번 반복된 sub 값을 입력 -> sub[1번, 2번, 3번, 4번]를 한 result 값에 입력을 3번 반복\n",
    "print(result) # result[ [sub[1번, 2번, 3번, 4번]], sub[1번, 2번, 3번, 4번], sub[1번, 2번, 3번, 4번] ]를 출력"
   ]
  },
  {
   "cell_type": "code",
   "execution_count": null,
   "id": "f0568ba2-528e-4de2-ba04-5706993a8889",
   "metadata": {},
   "outputs": [],
   "source": [
    "# 195\n",
    "ohlc 리스트에는 시가(open), 고가 (high), 저가 (low) , 종가(close)가 날짜별로 저장돼 있다. 화면에 종가데이터를 출력하라.\n",
    "\n",
    "ohlc = [[\"open\", \"high\", \"low\", \"close\"],\n",
    "        [100, 110, 70, 100],\n",
    "        [200, 210, 180, 190],\n",
    "        [300, 310, 300, 310]]\n",
    "\n",
    "100\n",
    "190\n",
    "310"
   ]
  },
  {
   "cell_type": "code",
   "execution_count": null,
   "id": "1b2c642d-8a9e-402f-9688-955223f4b322",
   "metadata": {},
   "outputs": [],
   "source": [
    "# 결과값을 출력해보기\n",
    "ohlc = [[\"open\", \"high\", \"low\", \"close\"],\n",
    "        [100, 110, 70, 100],\n",
    "        [200, 210, 180, 190],\n",
    "        [300, 310, 300, 310]]\n",
    "\n",
    "print(ohlc[1][3])\n",
    "print(ohlc[2][3])\n",
    "print(ohlc[3][3])"
   ]
  },
  {
   "cell_type": "code",
   "execution_count": null,
   "id": "1b411405-26fa-4f37-a21f-02d7aaf2e76a",
   "metadata": {},
   "outputs": [],
   "source": [
    "# 정리하기\n",
    "print(ohlc[1][3])\n",
    "print(ohlc[2][3])\n",
    "print(ohlc[3][3])\n",
    "\n",
    "print(ohlc[i(1~3)][3])\n",
    "-> for문으로 i를 ohlc에 1부터 3까지를 돌리고, print에는 4번째 자리에 값을 출력"
   ]
  },
  {
   "cell_type": "code",
   "execution_count": null,
   "id": "394e7f64-fab5-4395-95d8-df95ad976537",
   "metadata": {},
   "outputs": [],
   "source": [
    "# 정리하기2\n",
    "ohlc = [[\"open\", \"high\", \"low\", \"close\"],\n",
    "        [100, 110, 70, 100],\n",
    "        [200, 210, 180, 190],\n",
    "        [300, 310, 300, 310]]\n",
    "\n",
    "for i in ohlc[1:] :\n",
    "    print(i[3])"
   ]
  },
  {
   "cell_type": "code",
   "execution_count": null,
   "id": "953c6a74-9258-4b81-96b8-449ea3089d8a",
   "metadata": {},
   "outputs": [],
   "source": [
    "# 교재 답\n",
    "ohlc = [[\"open\", \"high\", \"low\", \"close\"],\n",
    "        [100, 110, 70, 100],\n",
    "        [200, 210, 180, 190],\n",
    "        [300, 310, 300, 310]]\n",
    "\n",
    "for row in ohlc[1:]:\n",
    "    print(row[3])"
   ]
  },
  {
   "cell_type": "code",
   "execution_count": null,
   "id": "df8e5ec6-6cbb-4660-a885-eb323359068b",
   "metadata": {},
   "outputs": [],
   "source": [
    "# 196\n",
    "ohlc 리스트에는 시가(open), 고가 (high), 저가 (low) , 종가(close)가 날짜별로 저장돼 있다. \n",
    "종가가 150원보다 큰경우에만 종가를 출력하라.\n",
    "\n",
    "ohlc = [[\"open\", \"high\", \"low\", \"close\"],\n",
    "        [100, 110, 70, 100],\n",
    "        [200, 210, 180, 190],\n",
    "        [300, 310, 300, 310]]\n",
    "\n",
    "190\n",
    "310"
   ]
  },
  {
   "cell_type": "code",
   "execution_count": null,
   "id": "6d951828-d873-4d18-80f6-d0389ac4c99b",
   "metadata": {},
   "outputs": [],
   "source": [
    "# 결과값을 출력해보기\n",
    "a = [100, 110, 70, 100]\n",
    "if a[3] > 150 :\n",
    "    print(a[3])\n",
    "\n",
    "b = [200, 210, 180, 190]\n",
    "if b[3] > 150 :\n",
    "    print(b[3])\n",
    "\n",
    "c = [300, 310, 300, 310]\n",
    "if c[3] > 150 :\n",
    "    print(c[3])"
   ]
  },
  {
   "cell_type": "code",
   "execution_count": null,
   "id": "63063d94-a5f0-4e7b-8ecf-7ffbb6ad173d",
   "metadata": {},
   "outputs": [],
   "source": [
    "# 리스트 자료형 합하기\n",
    "a = [100, 110, 70, 100]\n",
    "b = [200, 210, 180, 190]\n",
    "c = [300, 310, 300, 310]\n",
    "\n",
    "d = a, b, c\n",
    "d"
   ]
  },
  {
   "cell_type": "code",
   "execution_count": null,
   "id": "69df3029-ff74-4c1d-a68f-974ea6ec39e7",
   "metadata": {},
   "outputs": [],
   "source": [
    "# 정리하기\n",
    "a = [100, 110, 70, 100]\n",
    "b = [200, 210, 180, 190]\n",
    "c = [300, 310, 300, 310]\n",
    "\n",
    "d = a, b, c\n",
    "\n",
    "if d[0][3] > 150 :\n",
    "    print(d[0][3])\n",
    "    \n",
    "if d[1][3] > 150 :\n",
    "    print(d[1][3])\n",
    "    \n",
    "if d[2][3] > 150 :\n",
    "    print(d[2][3])"
   ]
  },
  {
   "cell_type": "code",
   "execution_count": null,
   "id": "50b51f0b-56ac-46b1-b78d-5c8734c4dc9d",
   "metadata": {},
   "outputs": [],
   "source": [
    "# 정리하기2\n",
    "a = [100, 110, 70, 100]\n",
    "b = [200, 210, 180, 190]\n",
    "c = [300, 310, 300, 310]\n",
    "\n",
    "d = a, b, c\n",
    "\n",
    "#if d[0][3] > 150 :\n",
    "#    print(d[0][3])\n",
    "    \n",
    "#if d[1][3] > 150 :\n",
    "#    print(d[1][3])\n",
    "    \n",
    "#if d[2][3] > 150 :\n",
    "#    print(d[2][3])\n",
    "\n",
    "for i in d :\n",
    "    if i[3] > 150 :\n",
    "        print(i[3])"
   ]
  },
  {
   "cell_type": "code",
   "execution_count": null,
   "id": "4cd3863f-4103-4d8d-a015-cbde846f7ae5",
   "metadata": {},
   "outputs": [],
   "source": [
    "# 정리하기3\n",
    "ohlc = [[\"open\", \"high\", \"low\", \"close\"],\n",
    "        [100, 110, 70, 100],\n",
    "        [200, 210, 180, 190],\n",
    "        [300, 310, 300, 310]]\n",
    "\n",
    "for i in ohlc[1:] :\n",
    "    if i[3] > 150 :\n",
    "        print(i[3])"
   ]
  },
  {
   "cell_type": "code",
   "execution_count": null,
   "id": "5ecfb3cc-c619-4fa9-9e2c-90c965db1ed0",
   "metadata": {},
   "outputs": [],
   "source": [
    "# 교재 답\n",
    "ohlc = [[\"open\", \"high\", \"low\", \"close\"],\n",
    "        [100, 110, 70, 100],\n",
    "        [200, 210, 180, 190],\n",
    "        [300, 310, 300, 310]]\n",
    "\n",
    "for row in ohlc[1:]:\n",
    "    if (row[3] > 150):\n",
    "        print(row[3])"
   ]
  },
  {
   "cell_type": "code",
   "execution_count": null,
   "id": "126d645a-e352-44e0-8bb5-c2a5fac25ab9",
   "metadata": {},
   "outputs": [],
   "source": [
    "# 확인\n",
    "A = ['a', 'b', 'c']\n",
    "\n",
    "for i in A :\n",
    "    if i == 'a' :\n",
    "        print('정답')"
   ]
  },
  {
   "cell_type": "code",
   "execution_count": null,
   "id": "c0eb98a6-5ab2-4d39-ba10-7af55a8de9a8",
   "metadata": {},
   "outputs": [],
   "source": [
    "# 197\n",
    "ohlc 리스트에는 시가(open), 고가 (high), 저가 (low) , 종가(close)가 날짜별로 저장돼 있다. \n",
    "종가가 시가 보다 크거나 같은 경우에만 종가를 출력하라.\n",
    "\n",
    "ohlc = [[\"open\", \"high\", \"low\", \"close\"],\n",
    "        [100, 110, 70, 100],\n",
    "        [200, 210, 180, 190],\n",
    "        [300, 310, 300, 310]]\n",
    "\n",
    "100\n",
    "310"
   ]
  },
  {
   "cell_type": "code",
   "execution_count": null,
   "id": "826c3764-eca4-4947-8452-8bca241d43cd",
   "metadata": {},
   "outputs": [],
   "source": [
    "# 정리하기\n",
    "ohlc = [[\"open\", \"high\", \"low\", \"close\"],\n",
    "        [100, 110, 70, 100],\n",
    "        [200, 210, 180, 190],\n",
    "        [300, 310, 300, 310]]\n",
    "\n",
    "for i in ohlc[1:] :\n",
    "    if 종가 >= 시가 :\n",
    "        print(종가)"
   ]
  },
  {
   "cell_type": "code",
   "execution_count": null,
   "id": "a1d18edb-5156-4ca9-8df1-d1d982b577f8",
   "metadata": {},
   "outputs": [],
   "source": [
    "# 정리하기2\n",
    "ohlc = [[\"open\", \"high\", \"low\", \"close\"],\n",
    "        [100, 110, 70, 100],\n",
    "        [200, 210, 180, 190],\n",
    "        [300, 310, 300, 310]]\n",
    "\n",
    "for i in ohlc[1:] :\n",
    "    if i[3] >= i[0] :\n",
    "        print(i[3])"
   ]
  },
  {
   "cell_type": "code",
   "execution_count": null,
   "id": "2d7d11ff-133d-4834-82bc-6bd8d63bf833",
   "metadata": {},
   "outputs": [],
   "source": [
    "# 교재 답\n",
    "ohlc = [[\"open\", \"high\", \"low\", \"close\"],\n",
    "        [100, 110, 70, 100],\n",
    "        [200, 210, 180, 190],\n",
    "        [300, 310, 300, 310]]\n",
    "\n",
    "for row in ohlc[1:]:\n",
    "    if (row[3] >= row[0]):\n",
    "        print(row[3])"
   ]
  },
  {
   "cell_type": "code",
   "execution_count": null,
   "id": "4b15451e-c6be-4241-9ca7-ff581c672179",
   "metadata": {},
   "outputs": [],
   "source": [
    "# 198\n",
    "ohlc 리스트에는 시가(open), 고가 (high), 저가 (low) , 종가(close)가 날짜별로 저장돼 있다. \n",
    "고가와 저가의 차이를 변동폭으로 정의할 때, 변동폭을 volatility 이름의 리스트에 저장하라.\n",
    "\n",
    "ohlc = [[\"open\", \"high\", \"low\", \"close\"],\n",
    "        [100, 110, 70, 100],\n",
    "        [200, 210, 180, 190],\n",
    "        [300, 310, 300, 310]]\n",
    "\n",
    ">> print(volatility)\n",
    "[40, 30, 10]"
   ]
  },
  {
   "cell_type": "code",
   "execution_count": null,
   "id": "97a28117-d8a1-4894-a0f9-bb812485e109",
   "metadata": {},
   "outputs": [],
   "source": [
    "# 리스트 차이\n",
    "a = [1, 2, 3, 4, 5, 6, 7]\n",
    "print(a[1]) # 해당 자리에 데이터 값을 나타냄\n",
    "print(a[1:]) # 해당 자리 이후에 데이터 값을 나타냄"
   ]
  },
  {
   "cell_type": "code",
   "execution_count": null,
   "id": "74bd9ebc-60ba-4b8a-95dc-4e719af5d841",
   "metadata": {},
   "outputs": [],
   "source": [
    "# 정의하기\n",
    "ohlc = [[\"open\", \"high\", \"low\", \"close\"],\n",
    "        [100, 110, 70, 100],\n",
    "        [200, 210, 180, 190],\n",
    "        [300, 310, 300, 310]]\n",
    "\n",
    "volatility = []\n",
    "\n",
    "for i in ohlc[1:] :\n",
    "    volatility.append(변동폭 = 고가 - 저가i[1]-i[2])\n",
    " print(volatility = 변동폭)"
   ]
  },
  {
   "cell_type": "code",
   "execution_count": null,
   "id": "d17afe8e-937f-46ab-899a-a0a80b7fbd80",
   "metadata": {},
   "outputs": [],
   "source": [
    "# 정의하기2\n",
    "ohlc = [[\"open\", \"high\", \"low\", \"close\"],\n",
    "        [100, 110, 70, 100],\n",
    "        [200, 210, 180, 190],\n",
    "        [300, 310, 300, 310]]\n",
    "\n",
    "volatility = []\n",
    "\n",
    "for i in ohlc[1:] :\n",
    "    volatility.append(i[1]-i[2])\n",
    "print(volatility)"
   ]
  },
  {
   "cell_type": "code",
   "execution_count": null,
   "id": "a30f6d0a-78d9-44d4-9711-744bc6900591",
   "metadata": {},
   "outputs": [],
   "source": [
    "# 교재 답\n",
    "ohlc = [[\"open\", \"high\", \"low\", \"close\"],\n",
    "        [100, 110, 70, 100],\n",
    "        [200, 210, 180, 190],\n",
    "        [300, 310, 300, 310]]\n",
    "\n",
    "volatility = []\n",
    "\n",
    "for row in ohlc[1:]:\n",
    "    volatility.append(row[1]-row[2])\n",
    "print(volatility)    "
   ]
  },
  {
   "cell_type": "code",
   "execution_count": null,
   "id": "cc5c645b-7423-4f97-abda-388f31123f84",
   "metadata": {},
   "outputs": [],
   "source": [
    "# 교재 답 2 - range 사용\n",
    "ohlc = [[\"open\", \"high\", \"low\", \"close\"],\n",
    "        [100, 110, 70, 100],\n",
    "        [200, 210, 180, 190],\n",
    "        [300, 310, 300, 310]]\n",
    "\n",
    "volatility = []\n",
    "\n",
    "for i in range(1, len(ohlc)):\n",
    "    volatility.append(ohlc[i][1]-ohlc[i][2])\n",
    "print(volatility)"
   ]
  },
  {
   "cell_type": "code",
   "execution_count": null,
   "id": "4ec78639-5fc4-4bd8-8abf-80072f48703f",
   "metadata": {},
   "outputs": [],
   "source": [
    "ohlc = [[\"open\", \"high\", \"low\", \"close\"],\n",
    "        [100, 110, 70, 100],\n",
    "        [200, 210, 180, 190],\n",
    "        [300, 310, 300, 310]]\n",
    "\n",
    "volatility = []\n",
    "\n",
    "for i in ohlc[1:] :\n",
    "   print(i[1]-i[2])"
   ]
  },
  {
   "cell_type": "code",
   "execution_count": null,
   "id": "57e2a96f-4e9f-44c2-80d3-95d3b3a2db11",
   "metadata": {},
   "outputs": [],
   "source": [
    "# 199\n",
    "리스트에는 3일 간의 ohlc 데이터가 저장돼 있다. \n",
    "종가가 시가보다 높은 날의 변동성 (고가 - 저가)을 화면에 출력하라.\n",
    "\n",
    "ohlc = [[\"open\", \"high\", \"low\", \"close\"],\n",
    "        [100, 110, 70, 100],\n",
    "        [200, 210, 180, 190],\n",
    "        [300, 310, 300, 310]]\n",
    "\n",
    "종가가 시가보다 높은 거래일의 OHLC는 [300, 310, 300, 310] 이다. \n",
    "따라서 이 거래일의 변동성은 10 (310 - 300)이다.\n",
    "\n",
    "10"
   ]
  },
  {
   "cell_type": "code",
   "execution_count": null,
   "id": "4c315ca8-3061-4920-8704-c35ea690456a",
   "metadata": {},
   "outputs": [],
   "source": [
    "# 정의하기\n",
    "ohlc = [[\"open\", \"high\", \"low\", \"close\"],\n",
    "        [100, 110, 70, 100],\n",
    "        [200, 210, 180, 190],\n",
    "        [300, 310, 300, 310]]\n",
    "\n",
    "if 종가 > 시가 :\n",
    "    print(변동성(고가-저가))"
   ]
  },
  {
   "cell_type": "code",
   "execution_count": null,
   "id": "9ddc8485-6e2d-4efb-a6c6-edf5894429d4",
   "metadata": {},
   "outputs": [],
   "source": [
    "# 정의하기 2\n",
    "ohlc = [[\"open\", \"high\", \"low\", \"close\"],\n",
    "        [100, 110, 70, 100],\n",
    "        [200, 210, 180, 190],\n",
    "        [300, 310, 300, 310]]\n",
    "\n",
    "for i in ohlc[1:] :\n",
    "    if i[3] > i[0] :\n",
    "        print(i[1]-i[2])"
   ]
  },
  {
   "cell_type": "code",
   "execution_count": null,
   "id": "edaf7523-b912-4ffb-b597-b3bfab40495e",
   "metadata": {},
   "outputs": [],
   "source": [
    "# 교재 답\n",
    "ohlc = [[\"open\", \"high\", \"low\", \"close\"],\n",
    "        [100, 110, 70, 100],\n",
    "        [200, 210, 180, 190],\n",
    "        [300, 310, 300, 310]]\n",
    "\n",
    "for row in ohlc[1:]:\n",
    "    if row[3] > row[0]:\n",
    "        print(row[1]-row[2])"
   ]
  },
  {
   "cell_type": "code",
   "execution_count": null,
   "id": "a75c652a-5c20-439d-836f-a4e3c9f212a6",
   "metadata": {},
   "outputs": [],
   "source": [
    "# 200\n",
    "리스트에는 3일 간의 ohlc 데이터가 저장돼 있다. \n",
    "시가에 매수해서 종가에 매도 했을 경우 총 수익금을 계산하라.\n",
    "\n",
    "ohlc = [[\"open\", \"high\", \"low\", \"close\"],\n",
    "        [100, 110, 70, 100],\n",
    "        [200, 210, 180, 190],\n",
    "        [300, 310, 300, 310]]\n",
    "\n",
    "1일차 수익 0원 (100 - 100)\n",
    "2일차 수익 -10원 (190 - 200) \n",
    "3일차 수익 10원 (310 - 300)\n",
    "\n",
    "0"
   ]
  },
  {
   "cell_type": "code",
   "execution_count": null,
   "id": "2233aab3-394a-4687-95e3-bff0ee18b5ff",
   "metadata": {},
   "outputs": [],
   "source": [
    "# 정의하기\n",
    "ohlc = [[\"open\", \"high\", \"low\", \"close\"],\n",
    "        [100, 110, 70, 100],\n",
    "        [200, 210, 180, 190],\n",
    "        [300, 310, 300, 310]]\n",
    "\n",
    "매도 - 매수 = 종가 - 시가 = 수익 = close - open\n",
    "\n",
    "총 수익 = 1일차 + 2일차 + 3일차"
   ]
  },
  {
   "cell_type": "code",
   "execution_count": null,
   "id": "3da0755f-b117-4c28-b1cb-e05ae2a5dbff",
   "metadata": {},
   "outputs": [],
   "source": [
    "# 정의하기 2\n",
    "ohlc = [[\"open\", \"high\", \"low\", \"close\"],\n",
    "        [100, 110, 70, 100],\n",
    "        [200, 210, 180, 190],\n",
    "        [300, 310, 300, 310]]\n",
    "\n",
    "total = []\n",
    "\n",
    "for i in ohlc[1:] :\n",
    "    total.append(i[3]-i[0])\n",
    "\n",
    "print(sum(total))"
   ]
  },
  {
   "cell_type": "code",
   "execution_count": null,
   "id": "3e553126-df49-45fd-bfaa-838b1e8e094c",
   "metadata": {},
   "outputs": [],
   "source": [
    "# 교재 답\n",
    "ohlc = [[\"open\", \"high\", \"low\", \"close\"],\n",
    "        [100, 110, 70, 100],\n",
    "        [200, 210, 180, 190],\n",
    "        [300, 310, 300, 310]]\n",
    "\n",
    "profit = 0\n",
    "for row in ohlc[1:]:\n",
    "    profit += (row[3] - row[0]) # profit에 for문이 끝날때까지 데이터 값을 더한다.\n",
    "\n",
    "print(profit)"
   ]
  },
  {
   "cell_type": "markdown",
   "id": "2325e515-2aa2-4e84-bcc0-21ffabb3d039",
   "metadata": {},
   "source": [
    "# 파이썬 함수"
   ]
  },
  {
   "cell_type": "markdown",
   "id": "72d1dc1a-3226-4258-a0a4-25b6e8857e37",
   "metadata": {},
   "source": [
    "## 201 ~ 210"
   ]
  },
  {
   "cell_type": "code",
   "execution_count": null,
   "id": "24ec077e-8acf-4850-8f5e-dfc73aa826cd",
   "metadata": {},
   "outputs": [],
   "source": [
    "# 201\n",
    "\"비트코인\" 문자열을 화면에 출력하는 print_coin() 함수를 정의하라."
   ]
  },
  {
   "cell_type": "code",
   "execution_count": null,
   "id": "0b9fb75e-b723-4b27-af47-1ca89fd34fff",
   "metadata": {},
   "outputs": [],
   "source": [
    "def print_coin():\n",
    "    print(\"비트코인\")"
   ]
  },
  {
   "cell_type": "code",
   "execution_count": null,
   "id": "6d30e10d-3d19-446f-b3f6-df806d0f0658",
   "metadata": {},
   "outputs": [],
   "source": [
    "# 202\n",
    "201번에서 정의한 함수를 호출하라."
   ]
  },
  {
   "cell_type": "code",
   "execution_count": null,
   "id": "a867630f-0133-45bb-9afd-10c2352eff93",
   "metadata": {},
   "outputs": [],
   "source": [
    "a = print_coin()"
   ]
  },
  {
   "cell_type": "code",
   "execution_count": null,
   "id": "7992bf80-fbd6-4a54-8881-ba27f56d66c1",
   "metadata": {},
   "outputs": [],
   "source": [
    "# 교재 답\n",
    "print_coin()"
   ]
  },
  {
   "cell_type": "code",
   "execution_count": null,
   "id": "052b31ce-de94-4e42-845b-f176ca047973",
   "metadata": {},
   "outputs": [],
   "source": [
    "#203\n",
    "201번에서 정의한 print_coin 함수를 100번호출하라."
   ]
  },
  {
   "cell_type": "code",
   "execution_count": null,
   "id": "6a84a383-a591-4f39-97d3-e17796285cf6",
   "metadata": {},
   "outputs": [],
   "source": [
    "for i in range(0,100) :\n",
    "    print_coin()"
   ]
  },
  {
   "cell_type": "code",
   "execution_count": null,
   "id": "079424a8-b242-45a3-94ca-ce40d7651432",
   "metadata": {},
   "outputs": [],
   "source": [
    "# 교재 답\n",
    "for i in range(100):\n",
    "    print_coin()"
   ]
  },
  {
   "cell_type": "code",
   "execution_count": null,
   "id": "35b0b29c-0075-4291-9d7a-239e6b165822",
   "metadata": {},
   "outputs": [],
   "source": [
    "# 204\n",
    "\"비트코인\" 문자열을 100번 화면에 출력하는 print_coins() 함수를 정의하라."
   ]
  },
  {
   "cell_type": "code",
   "execution_count": null,
   "id": "5cf68ebc-d59e-4b25-afd4-74e348ce2ada",
   "metadata": {},
   "outputs": [],
   "source": [
    "def print_coins() :\n",
    "    for i in range(100) :\n",
    "        print(\"비트코인\")\n",
    "\n",
    "print_coins()"
   ]
  },
  {
   "cell_type": "code",
   "execution_count": null,
   "id": "5932f76a-9e91-4edf-9224-95a33f133346",
   "metadata": {},
   "outputs": [],
   "source": [
    "#205\n",
    "아래의 에러가 발생하는 이유에 대해 설명하라.\n",
    "\n",
    "hello()\n",
    "def hello():\n",
    "    print(\"Hi\")\n",
    "\n",
    "실행 예\n",
    "NameError: name 'hello' is not defined"
   ]
  },
  {
   "cell_type": "code",
   "execution_count": null,
   "id": "ce47e861-e5e4-4955-ad18-81473aacd585",
   "metadata": {},
   "outputs": [],
   "source": [
    "### hello()를 함수로 정의하기 전에 만들어버려서"
   ]
  },
  {
   "cell_type": "code",
   "execution_count": null,
   "id": "ac7e8e1f-b37f-47ad-9c72-02bb6ee06ad8",
   "metadata": {},
   "outputs": [],
   "source": [
    "### 교재 답 :함수가 정의되기 전에 호출되어서 에러가 발생합니다."
   ]
  },
  {
   "cell_type": "code",
   "execution_count": null,
   "id": "3a089458-bc5d-4342-8870-211211ca53b3",
   "metadata": {},
   "outputs": [],
   "source": [
    "# 206\n",
    "아래 코드의 실행 결과를 예측하라.\n",
    "\n",
    "def message() :\n",
    "    print(\"A\")\n",
    "    print(\"B\")\n",
    "\n",
    "message()\n",
    "print(\"C\")\n",
    "message()"
   ]
  },
  {
   "cell_type": "code",
   "execution_count": null,
   "id": "a9021c04-cd2a-412c-a84f-e14ff1201d2d",
   "metadata": {},
   "outputs": [],
   "source": [
    "### 예측\n",
    "A   \n",
    "B   \n",
    "C   \n",
    "A   \n",
    "B"
   ]
  },
  {
   "cell_type": "code",
   "execution_count": null,
   "id": "76a21d94-7c81-4787-a5bc-3324231075ad",
   "metadata": {},
   "outputs": [],
   "source": [
    "# 결과\n",
    "def message() :\n",
    "    print(\"A\")\n",
    "    print(\"B\")\n",
    "\n",
    "message()\n",
    "print(\"C\")\n",
    "message()"
   ]
  },
  {
   "cell_type": "code",
   "execution_count": null,
   "id": "6c15c67a-4f0b-4320-9f19-d133210dc20c",
   "metadata": {},
   "outputs": [],
   "source": [
    "# 207\n",
    "아래 코드의 실행 결과를 예측하라. (읽기 어려운 코드의 예입니다.)\n",
    "\n",
    "print(\"A\")\n",
    "\n",
    "def message() :\n",
    "    print(\"B\")\n",
    "\n",
    "print(\"C\")\n",
    "message()"
   ]
  },
  {
   "cell_type": "code",
   "execution_count": null,
   "id": "7f029ebf-bd5c-48a1-a10c-58209931d5ed",
   "metadata": {},
   "outputs": [],
   "source": [
    "### 예측\n",
    "A   \n",
    "C   \n",
    "B"
   ]
  },
  {
   "cell_type": "code",
   "execution_count": null,
   "id": "522ed5af-4e29-4320-a9b5-7884d9d3a69e",
   "metadata": {},
   "outputs": [],
   "source": [
    "# 결과\n",
    "print(\"A\")\n",
    "\n",
    "def message() :\n",
    "    print(\"B\")\n",
    "\n",
    "print(\"C\")\n",
    "message()"
   ]
  },
  {
   "cell_type": "code",
   "execution_count": null,
   "id": "65b58eb7-ac5a-461d-9002-d65c284d9522",
   "metadata": {},
   "outputs": [],
   "source": [
    "# 208\n",
    "아래 코드의 실행 결과를 예측하라. (읽기 어려운 코드의 예입니다.)\n",
    "\n",
    "print(\"A\")\n",
    "\n",
    "def message1() :\n",
    "    print(\"B\")\n",
    "\n",
    "print(\"C\")\n",
    "\n",
    "def message2() :\n",
    "    print(\"D\")\n",
    "    \n",
    "message1()\n",
    "print(\"E\")\n",
    "message2()"
   ]
  },
  {
   "cell_type": "code",
   "execution_count": null,
   "id": "5308ca23-81dc-471e-a8d8-2219fc8f7280",
   "metadata": {},
   "outputs": [],
   "source": [
    "### 예측\n",
    "A   \n",
    "C   \n",
    "B   \n",
    "E   \n",
    "D"
   ]
  },
  {
   "cell_type": "code",
   "execution_count": null,
   "id": "0cc8f59f-693e-4bda-ad48-df697c4e95e8",
   "metadata": {},
   "outputs": [],
   "source": [
    "# 결과\n",
    "print(\"A\")\n",
    "\n",
    "def message1() :\n",
    "    print(\"B\")\n",
    "\n",
    "print(\"C\")\n",
    "\n",
    "def message2() :\n",
    "    print(\"D\")\n",
    "    \n",
    "message1()\n",
    "print(\"E\")\n",
    "message2()"
   ]
  },
  {
   "cell_type": "code",
   "execution_count": null,
   "id": "4650d5b8-b260-48a1-9616-d7a16bd9ac24",
   "metadata": {},
   "outputs": [],
   "source": [
    "# 209\n",
    "아래 코드의 실행 결과를 예측하라.\n",
    "\n",
    "def message1():\n",
    "    print(\"A\")\n",
    "\n",
    "def message2():\n",
    "    print(\"B\")\n",
    "    message1()\n",
    "\n",
    "message2()"
   ]
  },
  {
   "cell_type": "code",
   "execution_count": null,
   "id": "ddbd8246-ac2d-462b-8d7b-fa66d906d706",
   "metadata": {},
   "outputs": [],
   "source": [
    "### 예측\n",
    "B   \n",
    "A"
   ]
  },
  {
   "cell_type": "code",
   "execution_count": null,
   "id": "a185dff9-85f7-48a0-8de7-16ed03ce89af",
   "metadata": {},
   "outputs": [],
   "source": [
    "# 결과\n",
    "def message1():\n",
    "    print(\"A\")\n",
    "\n",
    "def message2():\n",
    "    print(\"B\")\n",
    "    message1()\n",
    "\n",
    "message2()"
   ]
  },
  {
   "cell_type": "code",
   "execution_count": null,
   "id": "dc8dd57d-6a90-4739-9e70-571a67224426",
   "metadata": {},
   "outputs": [],
   "source": [
    "# 210\n",
    "아래 코드의 실행 결과를 예측하라.\n",
    "\n",
    "def message1():\n",
    "    print(\"A\")\n",
    "\n",
    "def message2():\n",
    "    print(\"B\")\n",
    "\n",
    "def message3():\n",
    "    for i in range (3) :\n",
    "        message2()\n",
    "        print(\"C\")\n",
    "    message1()\n",
    "\n",
    "message3()"
   ]
  },
  {
   "cell_type": "code",
   "execution_count": null,
   "id": "d944d628-7791-42c5-8014-09f34dc62760",
   "metadata": {},
   "outputs": [],
   "source": [
    "### 예측\n",
    "B   \n",
    "C   \n",
    "B   \n",
    "C   \n",
    "B   \n",
    "C   \n",
    "A"
   ]
  },
  {
   "cell_type": "code",
   "execution_count": null,
   "id": "66bc3d7a-c0db-4d5a-a484-0667a90bc73e",
   "metadata": {},
   "outputs": [],
   "source": [
    "# 결과\n",
    "def message1():\n",
    "    print(\"A\")\n",
    "\n",
    "def message2():\n",
    "    print(\"B\")\n",
    "\n",
    "def message3():\n",
    "    for i in range (3) :\n",
    "        message2()\n",
    "        print(\"C\")\n",
    "    message1()\n",
    "\n",
    "message3()"
   ]
  },
  {
   "cell_type": "markdown",
   "id": "abc60b5e-cfe4-443b-89ff-f9c4f90588e3",
   "metadata": {},
   "source": [
    "## 211 ~ 220"
   ]
  },
  {
   "cell_type": "code",
   "execution_count": null,
   "id": "89c5cb28-5ecb-4e76-871f-7b7a336a8081",
   "metadata": {},
   "outputs": [],
   "source": [
    "#211\n",
    "함수의 호출 결과를 예측하라.\n",
    "\n",
    "def 함수(문자열) :\n",
    "    print(문자열)\n",
    "\n",
    "함수(\"안녕\")\n",
    "함수(\"Hi\")"
   ]
  },
  {
   "cell_type": "code",
   "execution_count": null,
   "id": "d84406a6-192b-4994-8bc5-7276a9b05f7c",
   "metadata": {},
   "outputs": [],
   "source": [
    "### 예측\n",
    "안녕   \n",
    "Hi"
   ]
  },
  {
   "cell_type": "code",
   "execution_count": null,
   "id": "de8842f1-d305-4f8b-b5bd-17152cacb431",
   "metadata": {},
   "outputs": [],
   "source": [
    "### 결과\n",
    "def 함수(문자열) :\n",
    "    print(문자열)\n",
    "\n",
    "함수(\"안녕\")\n",
    "함수(\"Hi\")"
   ]
  },
  {
   "cell_type": "code",
   "execution_count": null,
   "id": "9ab2f3ab-42fa-4a1e-ae5e-4db80be004f5",
   "metadata": {},
   "outputs": [],
   "source": [
    "#212\n",
    "함수의 호출 결과를 예측하라.\n",
    "\n",
    "def 함수(a, b) :\n",
    "    print(a + b)\n",
    "\n",
    "함수(3, 4)\n",
    "함수(7, 8)"
   ]
  },
  {
   "cell_type": "code",
   "execution_count": null,
   "id": "6c8c8059-8727-4ab4-b75a-15121f031e28",
   "metadata": {},
   "outputs": [],
   "source": [
    "### 예측\n",
    "7\n",
    "15"
   ]
  },
  {
   "cell_type": "code",
   "execution_count": null,
   "id": "42053333-dde4-4161-852b-0da9ac85b763",
   "metadata": {},
   "outputs": [],
   "source": [
    "### 결과\n",
    "def 함수(a, b) :\n",
    "    print(a + b)\n",
    "\n",
    "함수(3, 4)\n",
    "함수(7, 8)"
   ]
  },
  {
   "cell_type": "code",
   "execution_count": null,
   "id": "ba79d344-ce66-4175-888d-9c673bea348a",
   "metadata": {},
   "outputs": [],
   "source": [
    "# 213\n",
    "아래와 같은 에러가 발생하는 원인을 설명하라.\n",
    "\n",
    "def 함수(문자열) :\n",
    "    print(문자열)\n",
    "함수()\n",
    "TypeError: 함수() missing 1 required positional argument: '문자열'"
   ]
  },
  {
   "cell_type": "code",
   "execution_count": null,
   "id": "19e6d149-cdf0-4cc9-adc7-85425270ace5",
   "metadata": {},
   "outputs": [],
   "source": [
    "### 예상\n",
    "함수()에 문자열이라고 입력값 1개를 받아서 print(문자열)을 출력하게 되는데, 함수()만 작성해서 입력값이 존재하지 않는다.   \n",
    "또한, print(문자열) 이것도 print('문자열')로 수정해야한다."
   ]
  },
  {
   "cell_type": "code",
   "execution_count": null,
   "id": "d6360658-9b1f-4f48-97e9-42e22576e32a",
   "metadata": {},
   "outputs": [],
   "source": [
    "### 교재 답\n",
    "함수에 정의와 다르게 함수를 호출하고 있다. 함수를 호출할 때 하나의 파라미터를 입력해야한다."
   ]
  },
  {
   "cell_type": "code",
   "execution_count": null,
   "id": "d9208db5-f7ed-4061-b2c3-dca85ad7f00c",
   "metadata": {},
   "outputs": [],
   "source": [
    "# 214\n",
    "아래와 같은 에러가 발생하는 원인을 설명하라.\n",
    "\n",
    "def 함수(a, b) :\n",
    "    print(a + b)\n",
    "\n",
    "함수(\"안녕\", 3)\n",
    "TypeError: must be str, not int"
   ]
  },
  {
   "cell_type": "code",
   "execution_count": null,
   "id": "1622098e-2434-4f23-b177-dd71446bcebf",
   "metadata": {},
   "outputs": [],
   "source": [
    "### 예상\n",
    "\"안녕\"은 str이고 3은 int여서 서로 다른 타입이여서 a+b의 연산이 불가능하다."
   ]
  },
  {
   "cell_type": "code",
   "execution_count": null,
   "id": "3e530d32-6980-4a72-821b-d59424a0cbfd",
   "metadata": {},
   "outputs": [],
   "source": [
    "### 교재 답\n",
    "정의된 함수는 같은 타입의 두 개의 값을 입력 받아 덧셈 연산을 적용하려는 의도로 설계됐습니다.   \n",
    "하지만 함수를 호출 할때 문자열과 숫자를 입력해서 문자열과 숫자는 더할 수 없다는 에러가 발생합니다."
   ]
  },
  {
   "cell_type": "code",
   "execution_count": null,
   "id": "86e47960-adf4-4c6f-9f1f-38276c8fb02a",
   "metadata": {},
   "outputs": [],
   "source": [
    "# 215\n",
    "하나의 문자를 입력받아 문자열 끝에 \":D\" 스마일 문자열을 이어 붙여 출력하는 print_with_smile 함수를 정의하라."
   ]
  },
  {
   "cell_type": "code",
   "execution_count": null,
   "id": "a78ce780-5fa4-400c-9f3c-0ec68de52921",
   "metadata": {},
   "outputs": [],
   "source": [
    "# 정의하기\n",
    "입력 : 하나의 문자\n",
    "출력 : 문자열 끝에 \":D\" 스마일 문자열을 이어 붙임\n",
    "함수이름 : print_with_smile"
   ]
  },
  {
   "cell_type": "code",
   "execution_count": null,
   "id": "2d47b377-7a2c-45b0-af94-fc43e99e9237",
   "metadata": {},
   "outputs": [],
   "source": [
    "# 함수 정의하기\n",
    "def print_with_smile(문자) :\n",
    "    print(문자+':D')"
   ]
  },
  {
   "cell_type": "code",
   "execution_count": null,
   "id": "9c1a19fe-ba11-40fd-896e-de28aa9f48e2",
   "metadata": {},
   "outputs": [],
   "source": [
    "# 함수 정의하기 2\n",
    "def print_with_smile(문자) :\n",
    "    print(문자+':D')\n",
    "\n",
    "print_with_smile('안녕')"
   ]
  },
  {
   "cell_type": "code",
   "execution_count": null,
   "id": "124cc61f-a028-4e29-ade1-a0f601191c65",
   "metadata": {},
   "outputs": [],
   "source": [
    "# 교재 답\n",
    "def print_with_smile (string) :\n",
    "    print (string + \":D\")\n",
    "\n",
    "print_with_smile('스마일')"
   ]
  },
  {
   "cell_type": "code",
   "execution_count": null,
   "id": "6d9a64f9-73bc-48d1-8647-bee2a1e838ed",
   "metadata": {},
   "outputs": [],
   "source": [
    "# 216\n",
    "215에서 정의한 함수를 호출하라. 파라미터는 \"안녕하세요\"로 입력하라."
   ]
  },
  {
   "cell_type": "code",
   "execution_count": null,
   "id": "df114a6d-d0ed-4a16-96e9-6f1ae7c81a21",
   "metadata": {},
   "outputs": [],
   "source": [
    "def print_with_smile(문자) :\n",
    "    print(문자+':D')\n",
    "\n",
    "print_with_smile('안녕하세요')"
   ]
  },
  {
   "cell_type": "code",
   "execution_count": null,
   "id": "e92df6a1-3775-4b7f-b60e-bd30685085cb",
   "metadata": {},
   "outputs": [],
   "source": [
    "# 217\n",
    "현재 가격을 입력 받아 상한가 (30%)를 출력하는 print_upper_price 함수를 정의하라."
   ]
  },
  {
   "cell_type": "code",
   "execution_count": null,
   "id": "6bdc68b0-c797-4832-8172-f798a6a90f82",
   "metadata": {},
   "outputs": [],
   "source": [
    "# 함수 정의하기\n",
    "입력 : 현재 가격\n",
    "출력 : 상한가(30%)\n",
    "함수 이름 : print_upper_price"
   ]
  },
  {
   "cell_type": "code",
   "execution_count": null,
   "id": "bc79ea04-753b-4d73-88c8-ddb973f6d0ce",
   "metadata": {},
   "outputs": [],
   "source": [
    "# 함수 정의하기 2\n",
    "def print_upper_price(price) :\n",
    "    print(price*1.3)"
   ]
  },
  {
   "cell_type": "code",
   "execution_count": null,
   "id": "725c5e9a-7b61-4770-a515-13171e6a565f",
   "metadata": {},
   "outputs": [],
   "source": [
    "# 함수 정의하기 3\n",
    "def print_upper_price(price) :\n",
    "    print(price*1.3)\n",
    "\n",
    "print_upper_price(1000)"
   ]
  },
  {
   "cell_type": "code",
   "execution_count": null,
   "id": "ef6e8383-d12f-4f8c-9337-de659540ee91",
   "metadata": {},
   "outputs": [],
   "source": [
    "#교재 답\n",
    "def print_upper_price(price) :\n",
    "    print(price * 1.3)"
   ]
  },
  {
   "cell_type": "code",
   "execution_count": null,
   "id": "0540df16-a833-46fd-a565-8949074fb513",
   "metadata": {},
   "outputs": [],
   "source": [
    "# 218\n",
    "두 개의 숫자를 입력받아 두 수의 합을 출력하는 print_sum 함수를 정의하라."
   ]
  },
  {
   "cell_type": "code",
   "execution_count": null,
   "id": "772c46e5-1e85-495f-b3a3-7a70647cf220",
   "metadata": {},
   "outputs": [],
   "source": [
    "# 함수 정의하기\n",
    "입력 : 두 개의 숫자\n",
    "출력 : 두 수의 합\n",
    "함수 이름 : print_sum"
   ]
  },
  {
   "cell_type": "code",
   "execution_count": null,
   "id": "8808b464-5da7-4138-be0b-918af4c81a91",
   "metadata": {},
   "outputs": [],
   "source": [
    "# 함수 정의하기 2\n",
    "def print_sum(a, b) :\n",
    "    print(a + b)\n",
    "\n",
    "print_sum(1, 2)"
   ]
  },
  {
   "cell_type": "code",
   "execution_count": null,
   "id": "1e0d55cb-0517-44d4-ac12-43db4f88f791",
   "metadata": {},
   "outputs": [],
   "source": [
    "# 219\n",
    "두 개의 숫자를 입력받아 합/차/곱/나눗셈을 출력하는 print_arithmetic_operation 함수를 작성하라.\n",
    "\n",
    "print_arithmetic_operation(3, 4)\n",
    "\n",
    "3 + 4 = 7\n",
    "3 - 4 = -1\n",
    "3 * 4 = 12\n",
    "3 / 4 = 0.75"
   ]
  },
  {
   "cell_type": "code",
   "execution_count": null,
   "id": "c6c527d7-91e0-4970-82cb-1bf1e98318c1",
   "metadata": {},
   "outputs": [],
   "source": [
    "# 함수 정의하기\n",
    "입력 : 두 개의 숫자\n",
    "출력 : 합/차/곱/나눗셈\n",
    "함수 이름 : print_arithmetic_operation"
   ]
  },
  {
   "cell_type": "code",
   "execution_count": null,
   "id": "673e16df-78d4-4687-ac66-e38d16ada0b8",
   "metadata": {},
   "outputs": [],
   "source": [
    "# 함수 정의하기 2\n",
    "def print_arithmetic_operation(a, b) :\n",
    "    print(a, '+', b, '=', a + b)\n",
    "    print(a, '-', b, '=', a - b)\n",
    "    print(a, '*', b, '=', a * b)\n",
    "    print(a, '/', b, '=', a / b)\n",
    "\n",
    "print_arithmetic_operation(1,2)"
   ]
  },
  {
   "cell_type": "code",
   "execution_count": null,
   "id": "177c3a52-91c9-4485-809a-28355942ac89",
   "metadata": {},
   "outputs": [],
   "source": [
    "# 220\n",
    "세 개의 숫자를 입력받아 가장 큰수를 출력하는 print_max 함수를 정의하라. \n",
    "단, if 문을 사용해서 수를 비교하라."
   ]
  },
  {
   "cell_type": "code",
   "execution_count": null,
   "id": "ab14cd69-298b-44e0-9c06-79f18bb4d2fd",
   "metadata": {},
   "outputs": [],
   "source": [
    "# 함수 정의하기 \n",
    "입력 : 세 개의 숫자\n",
    "출력 : 가장 큰 수\n",
    "함수 이름 : print_max"
   ]
  },
  {
   "cell_type": "code",
   "execution_count": null,
   "id": "07bf62bc-ca47-4702-9451-5587adc12057",
   "metadata": {},
   "outputs": [],
   "source": [
    "# 함수 정의하기\n",
    "def print_max(a, b, c) :\n",
    "    if a > b and b > c :\n",
    "        print(a)\n",
    "    elif b > a and a > c :\n",
    "        print(b)\n",
    "    else :\n",
    "        print(c)"
   ]
  },
  {
   "cell_type": "code",
   "execution_count": null,
   "id": "1e56c5b3-ebee-465d-93d1-a1cb4ea7ace3",
   "metadata": {},
   "outputs": [],
   "source": [
    "# 함수 정의하기 2\n",
    "def print_max(a, b, c) :\n",
    "    if a > b and a > c :\n",
    "        print(a)\n",
    "    elif b > a and b > c :\n",
    "        print(b)\n",
    "    else :\n",
    "        print(c)\n",
    "\n",
    "print_max(1, 2, 3)\n",
    "print_max(4, 2, 3)"
   ]
  },
  {
   "cell_type": "code",
   "execution_count": null,
   "id": "b4074ee2-8e99-4c57-80e0-804eb768b9c6",
   "metadata": {},
   "outputs": [],
   "source": [
    "# 교재 답\n",
    "def print_max(a, b, c) :\n",
    "    max_val = 0\n",
    "    if a > max_val :\n",
    "        max_val = a     # a > (max_val = 0)을 비교해서 max_val에 참이면 a를, 거짓이면 0을 유지\n",
    "    if b > max_val :    \n",
    "        max_val = b     # b > (max_val = a or 0)을 비교해서 max_val에 참이면 b를, 거짓이면 a를 유지\n",
    "    if c > max_val :    \n",
    "        max_val = c     # c > (max_val = b or a)을 비교해서 max_val에 참이면 c를, 거짓이면 b를 유지\n",
    "    print(max_val)\n",
    "\n",
    "print_max(5, 2, 3)\n",
    "\n",
    "# 지금까지써왔던 max 함수의 내부는 위와 비슷하게 구현되어 있을 겁니다.\n",
    "\n",
    "max(1, 2, 3)    # max() : 요소들 중에서 가장 큰 요소를 반환"
   ]
  },
  {
   "cell_type": "code",
   "execution_count": null,
   "id": "2e901c73-7592-4759-b4a6-cd4d34b1dd10",
   "metadata": {},
   "outputs": [],
   "source": [
    "max?"
   ]
  },
  {
   "cell_type": "markdown",
   "id": "0275e6c4-0986-4b8f-aab2-6797e3a3573b",
   "metadata": {},
   "source": [
    "## 221 ~ 230"
   ]
  },
  {
   "cell_type": "code",
   "execution_count": null,
   "id": "97eb1f3b-a4fe-4b9d-b6d2-c8ff4430dcf7",
   "metadata": {},
   "outputs": [],
   "source": [
    "# 221\n",
    "입력된 문자열을 역순으로 출력하는 print_reverse 함수를 정의하라.\n",
    "\n",
    "print_reverse(\"python\")\n",
    "nohtyp"
   ]
  },
  {
   "cell_type": "code",
   "execution_count": null,
   "id": "599a8f15-f816-4d23-a93d-6a5e02bb2674",
   "metadata": {},
   "outputs": [],
   "source": [
    "# 함수 정의하기\n",
    "입력 : 문자열\n",
    "출력 : 문자열 역순\n",
    "함수 이름 : print_reverse"
   ]
  },
  {
   "cell_type": "code",
   "execution_count": null,
   "id": "7c1f0c78-ed8e-46e5-beb7-8490ff3fedf8",
   "metadata": {},
   "outputs": [],
   "source": [
    "# 함수 정의하기 2\n",
    "def print_reverse(문자열) : \n",
    "    print(문자열[::-1])"
   ]
  },
  {
   "cell_type": "code",
   "execution_count": null,
   "id": "5a60fc58-6387-40a9-b7f3-2b503c6823fa",
   "metadata": {},
   "outputs": [],
   "source": [
    "# 함수 정의하기 3\n",
    "def print_reverse(문자열) : \n",
    "    print(문자열[::-1])\n",
    "\n",
    "print_reverse('안녕하세여')"
   ]
  },
  {
   "cell_type": "code",
   "execution_count": null,
   "id": "8a35eabc-73c5-4227-ae38-630f51698364",
   "metadata": {},
   "outputs": [],
   "source": [
    "# 222\n",
    "성적 리스트를 입력 받아 평균을 출력하는 print_score 함수를 정의하라.\n",
    "\n",
    "print_score ([1, 2, 3])\n",
    "2.0"
   ]
  },
  {
   "cell_type": "code",
   "execution_count": null,
   "id": "0c9502eb-1028-4aab-a8cd-9598b5430711",
   "metadata": {},
   "outputs": [],
   "source": [
    "# 함수 정의하기\n",
    "입력 : 성적 리스트\n",
    "출력 : 평균\n",
    "함수 이름 : print_score"
   ]
  },
  {
   "cell_type": "code",
   "execution_count": null,
   "id": "92eab7bc-b56f-4cbc-9846-af3f8b6a3516",
   "metadata": {},
   "outputs": [],
   "source": [
    "# 함수 정의하기 2\n",
    "def print_score(list) :\n",
    "    print(sum(list)/len(list))"
   ]
  },
  {
   "cell_type": "code",
   "execution_count": null,
   "id": "46d1f304-39c5-458a-89bc-c99b24c42810",
   "metadata": {},
   "outputs": [],
   "source": [
    "# 함수 정의하기 3\n",
    "def print_score(list) :\n",
    "    print(sum(list)/len(list))\n",
    "\n",
    "print_score([1, 2, 3])\n",
    "print_score([50, 60, 70, 80, 90])"
   ]
  },
  {
   "cell_type": "code",
   "execution_count": null,
   "id": "f5b91b0d-fd9d-45af-93d0-b0d61bc01f78",
   "metadata": {},
   "outputs": [],
   "source": [
    "# 223\n",
    "하나의 리스트를 입력받아 짝수만 화면에 출력하는 print_even 함수를 정의하라.\n",
    "\n",
    "print_even ([1, 3, 2, 10, 12, 11, 15])\n",
    "    \n",
    "2\n",
    "10\n",
    "12"
   ]
  },
  {
   "cell_type": "code",
   "execution_count": null,
   "id": "70970e2e-85c7-491c-8410-eb4ddb9a5afe",
   "metadata": {},
   "outputs": [],
   "source": [
    "# 함수 정의하기\n",
    "입력 : 하나의 리스트\n",
    "출력 : 짝수\n",
    "함수 이름 : print_even"
   ]
  },
  {
   "cell_type": "code",
   "execution_count": null,
   "id": "05c4975b-02d4-49e4-ba8c-ad052124bd87",
   "metadata": {},
   "outputs": [],
   "source": [
    "# 함수 정의하기 2\n",
    "def print_even(list) : \n",
    "    for i in list :\n",
    "        if i % 2 == 0 :\n",
    "            print(i)"
   ]
  },
  {
   "cell_type": "code",
   "execution_count": null,
   "id": "cb6f9416-a5b1-4309-b994-7d2df65de237",
   "metadata": {},
   "outputs": [],
   "source": [
    "# 함수 정의하기 3\n",
    "def print_even(list) :\n",
    "    for i in list :\n",
    "        if i % 2 == 0 :\n",
    "            print(i)\n",
    "\n",
    "print_even([1, 2, 30, 24, 26, 44])"
   ]
  },
  {
   "cell_type": "code",
   "execution_count": null,
   "id": "a7df8df6-5f35-4ce2-a30e-e1fbbf1300ac",
   "metadata": {},
   "outputs": [],
   "source": [
    "# 224\n",
    "하나의 딕셔너리를 입력받아 딕셔너리의 key 값을 화면에 출력하는 print_keys 함수를 정의하라.\n",
    "\n",
    "print_keys ({\"이름\":\"김말똥\", \"나이\":30, \"성별\":0})\n",
    "이름\n",
    "나이\n",
    "성별"
   ]
  },
  {
   "cell_type": "code",
   "execution_count": null,
   "id": "77537c82-f336-4221-8894-e8cb2322889e",
   "metadata": {},
   "outputs": [],
   "source": [
    "# 함수 정의하기\n",
    "입력 : 하나의 딕셔너리\n",
    "출력 : 딕셔너리의 key 값\n",
    "함수 이름 : print_keys"
   ]
  },
  {
   "cell_type": "code",
   "execution_count": null,
   "id": "fd726821-c8e3-409b-833e-ec5786a76a4e",
   "metadata": {},
   "outputs": [],
   "source": [
    "# 함수 정의하기 2\n",
    "def print_keys(dic) :\n",
    "    print(dic.keys())"
   ]
  },
  {
   "cell_type": "code",
   "execution_count": null,
   "id": "40199a10-483d-4776-898a-e692cb6252d0",
   "metadata": {},
   "outputs": [],
   "source": [
    "# 함수 정의하기 3\n",
    "def print_keys(dic) :\n",
    "    print(dic.keys())\n",
    "\n",
    "print_keys({\"이름\" : \"홍길동\", \"나이\" : 30, \"성별\" : 0})"
   ]
  },
  {
   "cell_type": "code",
   "execution_count": null,
   "id": "e018f4fe-d0ba-4561-9d9d-fc367cb42be7",
   "metadata": {},
   "outputs": [],
   "source": [
    "# 함수 정의하기 4\n",
    "def print_keys(dic) :\n",
    "    for i in dic.keys() :\n",
    "        print(i)\n",
    "\n",
    "print_keys({\"이름\" : \"홍길동\", \"나이\" : 30, \"성별\" : 0 })"
   ]
  },
  {
   "cell_type": "code",
   "execution_count": null,
   "id": "24e6acfa-5714-4533-a83c-49443f56cee7",
   "metadata": {},
   "outputs": [],
   "source": [
    "# 교재 답\n",
    "def print_keys(dic):\n",
    "    for keys in dic.keys() :\n",
    "        print(keys)\n",
    "\n",
    "print_keys ({\"이름\":\"김말똥\", \"나이\":30, \"성별\":0})"
   ]
  },
  {
   "cell_type": "code",
   "execution_count": null,
   "id": "51b00953-1435-45c3-b026-38e71f9abffd",
   "metadata": {},
   "outputs": [],
   "source": [
    "# 딕셔너리에서 key\n",
    "dict = ({\"이름\":\"김말똥\", \"나이\":30, \"성별\":0})\n",
    "print(dict.keys())"
   ]
  },
  {
   "cell_type": "code",
   "execution_count": null,
   "id": "37cdd34d-0050-462a-ad61-54932eff760d",
   "metadata": {},
   "outputs": [],
   "source": [
    "# 딕셔너리에서 value\n",
    "dict = ({\"이름\":\"김말똥\", \"나이\":30, \"성별\":0})\n",
    "print(dict.values())"
   ]
  },
  {
   "cell_type": "code",
   "execution_count": null,
   "id": "836cfb4a-c7d7-4cf5-9a30-3d8bc3698ce7",
   "metadata": {},
   "outputs": [],
   "source": [
    "# 225\n",
    "my_dict에는 날짜를 키값으로 OHLC가 리스트로 저장돼 있다.\n",
    "\n",
    "my_dict = {\"10/26\" : [100, 130, 100, 100],\n",
    "           \"10/27\" : [10, 12, 10, 11]}\n",
    "\n",
    "my_dict와 날짜 키값을 입력받아 OHLC 리스트를 출력하는 print_value_by_key 함수를 정의하라.\n",
    "\n",
    "print_value_by_key  (my_dict, \"10/26\")\n",
    "\n",
    "[100, 130, 100, 100]"
   ]
  },
  {
   "cell_type": "code",
   "execution_count": null,
   "id": "103b37b6-a4a7-44a4-924c-6cd92bd81626",
   "metadata": {},
   "outputs": [],
   "source": [
    "# 함수 정의하기\n",
    "입력 : my_dict와 날짜 키 값\n",
    "출력 : OHLC 리스트\n",
    "함수 이름 : print_value_by_key"
   ]
  },
  {
   "cell_type": "code",
   "execution_count": null,
   "id": "ef30f5a5-0f02-4b8f-a47d-c19316822b81",
   "metadata": {},
   "outputs": [],
   "source": [
    "# 함수 정의하기 2\n",
    "def print_value_by_key(my_dict, dkey) :\n",
    "    print(my_dict[dkey])"
   ]
  },
  {
   "cell_type": "code",
   "execution_count": null,
   "id": "60e72702-01e5-4707-891e-91cb3104fbde",
   "metadata": {},
   "outputs": [],
   "source": [
    "# 함수 정의하기 3\n",
    "my_dict = {\"10/26\" : [100, 130, 100, 100],\n",
    "           \"10/27\" : [10, 12, 10, 11]}\n",
    "\n",
    "def print_value_by_key(my_dict, dkey) :\n",
    "    print(my_dict[dkey])\n",
    "\n",
    "print_value_by_key(my_dict, \"10/26\")\n",
    "print_value_by_key(my_dict, \"10/27\")"
   ]
  },
  {
   "cell_type": "code",
   "execution_count": 12,
   "id": "acb08273-f01c-4987-8c2b-f1991dd1314a",
   "metadata": {},
   "outputs": [],
   "source": [
    "# 226\n",
    "입력 문자열을 한 줄에 다섯글자씩 출력하는 print_5xn(string) 함수를 작성하라.\n",
    "\n",
    "print_5xn(\"아이엠어보이유알어걸\")\n",
    "    \n",
    "아이엠어보\n",
    "이유알어걸"
   ]
  },
  {
   "cell_type": "code",
   "execution_count": null,
   "id": "54672611-f9d6-4bfa-aab4-7d36afc8c062",
   "metadata": {},
   "outputs": [],
   "source": [
    "# 함수 정의하기\n",
    "입력 : 문자열\n",
    "출력 : 한 줄에 다섯글자씩\n",
    "함수 이름 : print_5xn(string)"
   ]
  },
  {
   "cell_type": "code",
   "execution_count": 2,
   "id": "01085e01-a95c-4c60-ba05-c5b9fdb8ba92",
   "metadata": {},
   "outputs": [
    {
     "name": "stdout",
     "output_type": "stream",
     "text": [
      "아이엠어보\n",
      "이유알어걸\n"
     ]
    }
   ],
   "source": [
    "# 함수 출력 정의하기\n",
    "print_5xn = (\"아이엠어보이유알어걸\")\n",
    "\n",
    "print(print_5xn[0:5])\n",
    "print(print_5xn[5:10])"
   ]
  },
  {
   "cell_type": "code",
   "execution_count": 3,
   "id": "1be5e4ba-3f87-4566-bb51-21e0e9a21768",
   "metadata": {},
   "outputs": [
    {
     "name": "stdout",
     "output_type": "stream",
     "text": [
      "10 <class 'int'>\n",
      "5 <class 'int'>\n",
      "5.0 <class 'float'>\n"
     ]
    }
   ],
   "source": [
    "print_5xn = (\"아이엠어보이유알어걸\")\n",
    "print(len(print_5xn),type(len(print_5xn)))\n",
    "print(int(len(print_5xn)/2), type(int(len(print_5xn)/2)))\n",
    "print(len(print_5xn)/2, type(len(print_5xn)/2))"
   ]
  },
  {
   "cell_type": "code",
   "execution_count": 11,
   "id": "5c0f55ef-b687-4049-a1b6-72336be987da",
   "metadata": {},
   "outputs": [
    {
     "name": "stdout",
     "output_type": "stream",
     "text": [
      "아이엠어보\n",
      "이유알어걸\n",
      "\n"
     ]
    }
   ],
   "source": [
    "# 함수 정의하기 2\n",
    "def print_5xn(string) :\n",
    "    a = int(len(string)/5)\n",
    "    for i in range(a+1) :\n",
    "        print(string[i*5 : i*5+5])\n",
    "\n",
    "print_5xn(\"아이엠어보이유알어걸\")"
   ]
  },
  {
   "cell_type": "code",
   "execution_count": 9,
   "id": "a5abe263-9e9f-4e3c-ae13-1184b65e5233",
   "metadata": {},
   "outputs": [
    {
     "name": "stdout",
     "output_type": "stream",
     "text": [
      "아이엠어보\n",
      "이유알어걸\n",
      "\n"
     ]
    }
   ],
   "source": [
    "# 교재 답\n",
    "def print_5xn(line):\n",
    "    chunk_num = int(len(line) / 5)\n",
    "    for x in range(chunk_num + 1) :\n",
    "        print(line[x * 5: x * 5 + 5])\n",
    "\n",
    "print_5xn(\"아이엠어보이유알어걸\")"
   ]
  },
  {
   "cell_type": "code",
   "execution_count": null,
   "id": "c6345863-cef9-4dd0-b93e-6034c8d0c4fd",
   "metadata": {
    "jp-MarkdownHeadingCollapsed": true
   },
   "outputs": [],
   "source": [
    "# 227\n",
    "문자열과 한줄에 출력될 글자 수를 입력을 받아 한 줄에 입력된 글자 수만큼 출력하는 print_mxn(string) 함수를 작성하라.\n",
    "\n",
    "printmxn(\"아이엠어보이유알어걸\", 3)\n",
    "    \n",
    "아이엠\n",
    "어보이\n",
    "유알어\n",
    "걸"
   ]
  },
  {
   "cell_type": "code",
   "execution_count": 15,
   "id": "c6b7b9f5-13df-4a6b-b47c-b3e68f7de840",
   "metadata": {},
   "outputs": [
    {
     "name": "stdout",
     "output_type": "stream",
     "text": [
      "아이엠\n",
      "어보이\n",
      "유알어\n",
      "걸\n"
     ]
    }
   ],
   "source": [
    "# 함수 정의하기\n",
    "a = \"아이엠어보이유알어걸\"\n",
    "b = 3\n",
    "\n",
    "print(a[0:b])\n",
    "print(a[b:b+b])\n",
    "print(a[b+b:b+b+b])\n",
    "print(a[b+b+b:b+b+b+b])"
   ]
  },
  {
   "cell_type": "code",
   "execution_count": 17,
   "id": "25f68cd2-50c1-4d99-842a-0373729592d7",
   "metadata": {},
   "outputs": [
    {
     "data": {
      "text/plain": [
       "4"
      ]
     },
     "execution_count": 17,
     "metadata": {},
     "output_type": "execute_result"
    }
   ],
   "source": [
    "# 함수 정의하기 2\n",
    "\n",
    "int(len(a)/b)+1"
   ]
  },
  {
   "cell_type": "code",
   "execution_count": 28,
   "id": "b0bf6cbc-099d-4bc6-9b5a-89f4c0b1daf4",
   "metadata": {},
   "outputs": [
    {
     "name": "stdout",
     "output_type": "stream",
     "text": [
      "아이엠\n",
      "어보이\n",
      "유알어\n",
      "걸\n"
     ]
    }
   ],
   "source": [
    "# 함수 정의하기 3\n",
    "a = \"아이엠어보이유알어걸\"\n",
    "b = 3\n",
    "\n",
    "for i in range(int(len(a)/b)+1) :\n",
    "    print( a[   i * b : i * b + 3 ] )"
   ]
  },
  {
   "cell_type": "code",
   "execution_count": 26,
   "id": "17881976-fa4a-4e5f-9df0-4344a4fd5a26",
   "metadata": {},
   "outputs": [
    {
     "name": "stdout",
     "output_type": "stream",
     "text": [
      "아이엠\n",
      "어보이\n",
      "유알어\n",
      "걸\n"
     ]
    }
   ],
   "source": [
    "# 함수 정의하기 4\n",
    "\n",
    "def printmxn(a, b) :\n",
    "    for i in range(int(len(a)/b)+1) :\n",
    "        print( a[ i * b : i * b + 3 ] )\n",
    "\n",
    "printmxn(\"아이엠어보이유알어걸\", 3)"
   ]
  },
  {
   "cell_type": "code",
   "execution_count": 27,
   "id": "25e60f5e-c56a-479c-9bce-b0249666ced2",
   "metadata": {},
   "outputs": [
    {
     "name": "stdout",
     "output_type": "stream",
     "text": [
      "아이엠\n",
      "어보이\n",
      "유알어\n",
      "걸\n"
     ]
    }
   ],
   "source": [
    "# 교재 답\n",
    "def print_mxn(line, num):\n",
    "    chunk_num = int(len(line) / num)\n",
    "    for x in range(chunk_num + 1) :\n",
    "        print(line[x * num: x * num + num])\n",
    "\n",
    "printmxn(\"아이엠어보이유알어걸\", 3)"
   ]
  },
  {
   "cell_type": "code",
   "execution_count": null,
   "id": "67b21948-a252-4c39-a050-e6d27e5aec23",
   "metadata": {},
   "outputs": [],
   "source": [
    "# 228\n",
    "연봉을 입력받아 월급을 계산하는 calc_monthly_salary(annual_salary) 함수를 정의하라. 회사는 연봉을 12개월로 나누어 분할 지급하며, 이 때 1원 미만은 버림한다.\n",
    "\n",
    "calc_monthly_salary(12000000)\n",
    "1000000"
   ]
  },
  {
   "cell_type": "code",
   "execution_count": null,
   "id": "475a7a11-dfad-4e51-a4d8-86674e4a38ad",
   "metadata": {},
   "outputs": [],
   "source": [
    "# 함수 정의하기\n",
    "입력 : 연봉\n",
    "출력 : 월급 ( 1원 미만은 버림 )\n",
    "함수 이름 : calc_monthly_salary(annual_salary)"
   ]
  },
  {
   "cell_type": "code",
   "execution_count": 33,
   "id": "85c2623d-f529-4faf-8465-cabeb96372c6",
   "metadata": {},
   "outputs": [
    {
     "name": "stdout",
     "output_type": "stream",
     "text": [
      "10\n"
     ]
    }
   ],
   "source": [
    "# 함수 정의하기\n",
    "annual_salary = 120\n",
    "\n",
    "print(int(annual_salary/12))"
   ]
  },
  {
   "cell_type": "code",
   "execution_count": 36,
   "id": "2778b8c3-f078-4422-a74a-6208950b253e",
   "metadata": {},
   "outputs": [
    {
     "name": "stdout",
     "output_type": "stream",
     "text": [
      "1000000\n"
     ]
    }
   ],
   "source": [
    "# 함수 정의하기 2\n",
    "def calc_monthly_salary(annual_salary) :\n",
    "    print(int(annual_salary/12))\n",
    "\n",
    "calc_monthly_salary(12000000)"
   ]
  },
  {
   "cell_type": "code",
   "execution_count": 38,
   "id": "2732b2f8-fde9-4143-85f9-7a31bf9c1367",
   "metadata": {},
   "outputs": [
    {
     "data": {
      "text/plain": [
       "1000000"
      ]
     },
     "execution_count": 38,
     "metadata": {},
     "output_type": "execute_result"
    }
   ],
   "source": [
    "# 교재 답\n",
    "def calc_monthly_salary(annual_pay) :\n",
    "    monthly_pay = int(annual_pay / 12)\n",
    "    return monthly_pay\n",
    "\n",
    "calc_monthly_salary(12000000)"
   ]
  },
  {
   "cell_type": "code",
   "execution_count": null,
   "id": "91636574-5381-4b3d-a353-23f1a3fb1dee",
   "metadata": {},
   "outputs": [],
   "source": [
    "# 229\n",
    "아래 코드의 실행 결과를 예측하라.\n",
    "\n",
    "def my_print (a, b) :\n",
    "    print(\"왼쪽:\", a)\n",
    "    print(\"오른쪽:\", b)\n",
    "\n",
    "my_print(a=100, b=200)"
   ]
  },
  {
   "cell_type": "code",
   "execution_count": null,
   "id": "9ad89715-3e04-4365-802c-2ad97e8210a9",
   "metadata": {},
   "outputs": [],
   "source": [
    "### 예측\n",
    "왼쪽: 100\n",
    "오른쪽: 200"
   ]
  },
  {
   "cell_type": "code",
   "execution_count": 40,
   "id": "c172fa73-9298-4c00-9e80-a6a84b5bc48b",
   "metadata": {},
   "outputs": [
    {
     "name": "stdout",
     "output_type": "stream",
     "text": [
      "왼쪽: 100\n",
      "오른쪽: 200\n"
     ]
    }
   ],
   "source": [
    "# 결과\n",
    "def my_print (a, b) :\n",
    "    print(\"왼쪽:\", a)\n",
    "    print(\"오른쪽:\", b)\n",
    "\n",
    "my_print(a=100, b=200)"
   ]
  },
  {
   "cell_type": "code",
   "execution_count": null,
   "id": "b15a386a-ed5a-446c-a1c5-5e1a56105a1d",
   "metadata": {},
   "outputs": [],
   "source": [
    "# 230\n",
    "아래 코드의 실행 결과를 예측하라.\n",
    "\n",
    "def my_print (a, b) :\n",
    "    print(\"왼쪽:\", a)\n",
    "    print(\"오른쪽:\", b)\n",
    "\n",
    "my_print(b=100, a=200)"
   ]
  },
  {
   "cell_type": "code",
   "execution_count": null,
   "id": "8b4b7c1e-c408-49ca-8144-454093684612",
   "metadata": {},
   "outputs": [],
   "source": [
    "### 예측\n",
    "왼쪽: 200\n",
    "오른쪽: 100"
   ]
  },
  {
   "cell_type": "code",
   "execution_count": 41,
   "id": "37c6c7c0-83e5-4500-86cb-7ca1d7a2c746",
   "metadata": {},
   "outputs": [
    {
     "name": "stdout",
     "output_type": "stream",
     "text": [
      "왼쪽: 200\n",
      "오른쪽: 100\n"
     ]
    }
   ],
   "source": [
    "# 결과\n",
    "def my_print (a, b) :\n",
    "    print(\"왼쪽:\", a)\n",
    "    print(\"오른쪽:\", b)\n",
    "\n",
    "my_print(b=100, a=200)"
   ]
  },
  {
   "cell_type": "markdown",
   "id": "22e80734-338e-4465-b63a-63deda61b7e6",
   "metadata": {},
   "source": [
    "## 231 ~ 240"
   ]
  },
  {
   "cell_type": "code",
   "execution_count": null,
   "id": "478abe18-56e6-4287-96e3-9e09a68dcd00",
   "metadata": {},
   "outputs": [],
   "source": [
    "# 231\n",
    "아래 코드를 실행한 결과를 예상하라.\n",
    "\n",
    "def n_plus_1 (n) :\n",
    "    result = n + 1\n",
    "\n",
    "n_plus_1(3)\n",
    "print (result)"
   ]
  },
  {
   "cell_type": "code",
   "execution_count": null,
   "id": "671d53e2-7b1c-4dfe-b928-7710454907c2",
   "metadata": {},
   "outputs": [],
   "source": [
    "### 예측\n",
    "4"
   ]
  },
  {
   "cell_type": "code",
   "execution_count": 2,
   "id": "47070f36-6f35-423b-b2d2-052411bd5292",
   "metadata": {},
   "outputs": [
    {
     "ename": "NameError",
     "evalue": "name 'result' is not defined",
     "output_type": "error",
     "traceback": [
      "\u001b[1;31m---------------------------------------------------------------------------\u001b[0m",
      "\u001b[1;31mNameError\u001b[0m                                 Traceback (most recent call last)",
      "Cell \u001b[1;32mIn[2], line 5\u001b[0m\n\u001b[0;32m      2\u001b[0m     result \u001b[38;5;241m=\u001b[39m n \u001b[38;5;241m+\u001b[39m \u001b[38;5;241m1\u001b[39m\n\u001b[0;32m      4\u001b[0m n_plus_1(\u001b[38;5;241m3\u001b[39m)\n\u001b[1;32m----> 5\u001b[0m \u001b[38;5;28mprint\u001b[39m (result)\n",
      "\u001b[1;31mNameError\u001b[0m: name 'result' is not defined"
     ]
    }
   ],
   "source": [
    "# 결과\n",
    "def n_plus_1 (n) :\n",
    "    result = n + 1\n",
    "\n",
    "n_plus_1(3)\n",
    "print (result) \n",
    "\n",
    "#함수 내부에서 사용한 변수는 함수 밖에서는 접근이 불가능합니다. \n",
    "#(문법이 그래요) 함수 내부에서 계산한 값을 전달하기 위해서는 return을 사용해야 합니다."
   ]
  },
  {
   "cell_type": "code",
   "execution_count": null,
   "id": "899db569-e542-4176-9a87-8901187d2d38",
   "metadata": {},
   "outputs": [],
   "source": [
    "# 232\n",
    "문자열 하나를 입력받아 인터넷 주소를 반환하는 make_url 함수를 정의하라.\n",
    "\n",
    "make_url(\"naver\")\n",
    "www.naver.com"
   ]
  },
  {
   "cell_type": "code",
   "execution_count": null,
   "id": "60dab2a6-2c0d-4d3e-9933-e4bd437ea01a",
   "metadata": {},
   "outputs": [],
   "source": [
    "# 함수 정의하기\n",
    "입력 : 문자열 하나\n",
    "출력 : 인터넷 주소\n",
    "함수 이름 : make_url"
   ]
  },
  {
   "cell_type": "code",
   "execution_count": 7,
   "id": "7f2191a5-0ec1-422b-829f-43cf668d68cc",
   "metadata": {},
   "outputs": [
    {
     "data": {
      "text/plain": [
       "'www.naver.com'"
      ]
     },
     "execution_count": 7,
     "metadata": {},
     "output_type": "execute_result"
    }
   ],
   "source": [
    "# 함수 정의하기 2\n",
    "def make_url(문자열) :\n",
    "    return 'www.'+문자열+'.com'\n",
    "\n",
    "make_url(\"naver\")"
   ]
  },
  {
   "cell_type": "code",
   "execution_count": null,
   "id": "cd218509-31a0-4486-8bcd-3f6626daf738",
   "metadata": {},
   "outputs": [],
   "source": [
    "# 233\n",
    "문자열을 입력받아 각 문자들로 구성된 리스트로 반환하는 make_list 함수를 정의하라.\n",
    "\n",
    "make_list(\"abcd\")\n",
    "['a', 'b', 'c', 'd']"
   ]
  },
  {
   "cell_type": "code",
   "execution_count": null,
   "id": "bc4837ce-c8b6-47f1-b517-9acf0ac3c9a5",
   "metadata": {},
   "outputs": [],
   "source": [
    "# 함수 정의하기\n",
    "입력 : 문자열\n",
    "출력 : 각 문자들로 구성된 리스트\n",
    "함수 이름 : make_list"
   ]
  },
  {
   "cell_type": "code",
   "execution_count": null,
   "id": "f46a3f15-236c-4a23-b68b-5dca5e26301c",
   "metadata": {},
   "outputs": [],
   "source": [
    "# 함수 정의하기 2\n",
    "def make_list(문자열) :\n",
    "    return 각 문자들로 구성된 리스트"
   ]
  },
  {
   "cell_type": "code",
   "execution_count": 17,
   "id": "76c84f02-ef8e-46bc-8d26-5925ac10fc25",
   "metadata": {},
   "outputs": [
    {
     "name": "stdout",
     "output_type": "stream",
     "text": [
      "['a', 'b', 'c', 'd']\n"
     ]
    }
   ],
   "source": [
    "# 함수 정의하기 3\n",
    "\n",
    "make = 'abcd'\n",
    "\n",
    "# len(make) = 4\n",
    "list = []\n",
    "for i in range(len(make)) :\n",
    "    list.append(make[i])\n",
    "\n",
    "print(list)"
   ]
  },
  {
   "cell_type": "code",
   "execution_count": 20,
   "id": "d6bb0541-1f62-47b5-903f-a57a667030d1",
   "metadata": {},
   "outputs": [
    {
     "data": {
      "text/plain": [
       "['a', 'b', 'c', 'd']"
      ]
     },
     "execution_count": 20,
     "metadata": {},
     "output_type": "execute_result"
    }
   ],
   "source": [
    "# 함수 정의하기 4\n",
    "def make_list(문자열) :\n",
    "    list = []\n",
    "    for i in range(len(문자열)) :\n",
    "        list.append(문자열[i])\n",
    "    return list\n",
    "\n",
    "make_list(\"abcd\")"
   ]
  },
  {
   "cell_type": "code",
   "execution_count": 21,
   "id": "7e3e2d16-f379-4a53-8a02-1c759bf0d8b0",
   "metadata": {},
   "outputs": [
    {
     "data": {
      "text/plain": [
       "['a', 'b', 'c', 'd']"
      ]
     },
     "execution_count": 21,
     "metadata": {},
     "output_type": "execute_result"
    }
   ],
   "source": [
    "# 교재 답\n",
    "def make_list (string) :\n",
    "    my_list = []\n",
    "    for 변수 in string :\n",
    "        my_list.append(변수)\n",
    "    return my_list\n",
    "\n",
    "make_list(\"abcd\")"
   ]
  },
  {
   "cell_type": "code",
   "execution_count": null,
   "id": "53d808a5-08e0-41fa-a5c2-25828b7564a7",
   "metadata": {},
   "outputs": [],
   "source": [
    "# 234\n",
    "숫자로 구성된 하나의 리스트를 입력받아, 짝수들을 추출하여 리스트로 반환하는 pickup_even 함수를 구현하라.\n",
    "\n",
    "pickup_even([3, 4, 5, 6, 7, 8])\n",
    "[4, 6, 8]"
   ]
  },
  {
   "cell_type": "code",
   "execution_count": null,
   "id": "131b7c27-ea5e-452a-9eb2-ae9bcb9c3a59",
   "metadata": {},
   "outputs": [],
   "source": [
    "# 함수 정의하기\n",
    "입력 : 숫자로 구성된 하나의 리스트\n",
    "출력 : 짝수들을 추출하여 리스트로 반환\n",
    "함수 이름 : pickup_even"
   ]
  },
  {
   "cell_type": "code",
   "execution_count": 25,
   "id": "5f8678e4-8c91-4774-bbba-f9c1dd36dbec",
   "metadata": {},
   "outputs": [
    {
     "name": "stdout",
     "output_type": "stream",
     "text": [
      "[2, 4]\n"
     ]
    }
   ],
   "source": [
    "# 함수 정의하기 2\n",
    "list = [1, 2, 3, 4, 5]\n",
    "even = []\n",
    "for i in list :\n",
    "    if i%2 == 0 :\n",
    "        even.append(i)\n",
    "\n",
    "print(even)"
   ]
  },
  {
   "cell_type": "code",
   "execution_count": 27,
   "id": "82718494-025a-4ca9-a53a-bb72d6b97ba3",
   "metadata": {},
   "outputs": [
    {
     "data": {
      "text/plain": [
       "[4, 6, 8]"
      ]
     },
     "execution_count": 27,
     "metadata": {},
     "output_type": "execute_result"
    }
   ],
   "source": [
    "# 함수 정의하기 3\n",
    "def pickup_even(list) :\n",
    "    even = []\n",
    "    for i in list :\n",
    "        if i%2 == 0 :\n",
    "            even.append(i)\n",
    "    return even\n",
    "pickup_even([3, 4, 5, 6, 7, 8])"
   ]
  },
  {
   "cell_type": "code",
   "execution_count": null,
   "id": "b88a2055-a5b0-4ad9-8ba6-96b12cf6d317",
   "metadata": {},
   "outputs": [],
   "source": [
    "# 235\n",
    "콤마가 포함된 문자열 숫자를 입력받아 정수로 변환하는 convert_int 함수를 정의하라.\n",
    "\n",
    "convert_int(\"1,234,567\")\n",
    "1234567"
   ]
  },
  {
   "cell_type": "code",
   "execution_count": null,
   "id": "6f486614-52bf-4391-aaa3-d3f72d0321b8",
   "metadata": {},
   "outputs": [],
   "source": [
    "# 함수 정의하기\n",
    "입력 : 콤마가 포함된 문자열 숫자\n",
    "출력 : 정수\n",
    "함수 이름 : convert_int"
   ]
  },
  {
   "cell_type": "code",
   "execution_count": 35,
   "id": "2b403fe7-9993-48b7-a154-d2ade1750d72",
   "metadata": {},
   "outputs": [
    {
     "name": "stdout",
     "output_type": "stream",
     "text": [
      "1234567 <class 'str'>\n",
      "1234567 <class 'int'>\n"
     ]
    }
   ],
   "source": [
    "# 함수 정의하기 2\n",
    "숫자 = \"1,234,567\"\n",
    "a = 숫자.replace(',','')\n",
    "print(a , type(a))\n",
    "print(int(a),type(int(a)))"
   ]
  },
  {
   "cell_type": "code",
   "execution_count": 38,
   "id": "4678ebf8-2222-45e5-9d1b-eac93e92173b",
   "metadata": {},
   "outputs": [
    {
     "data": {
      "text/plain": [
       "1234567"
      ]
     },
     "execution_count": 38,
     "metadata": {},
     "output_type": "execute_result"
    }
   ],
   "source": [
    "# 함수 정의하기 3\n",
    "def convert_int(숫자) :\n",
    "    a = 숫자.replace(',','')\n",
    "    return int(a)\n",
    "\n",
    "convert_int(\"1,234,567\")"
   ]
  },
  {
   "cell_type": "code",
   "execution_count": 39,
   "id": "5ab3a065-7ab9-4775-bec9-c2ee96dbb24a",
   "metadata": {},
   "outputs": [
    {
     "data": {
      "text/plain": [
       "1234567"
      ]
     },
     "execution_count": 39,
     "metadata": {},
     "output_type": "execute_result"
    }
   ],
   "source": [
    "# 교재 답\n",
    "def convert_int (string) :\n",
    "    return int(string.replace(',', ''))\n",
    "\n",
    "convert_int(\"1,234,567\")"
   ]
  },
  {
   "cell_type": "code",
   "execution_count": null,
   "id": "83457040-6d74-4229-af4e-5e8e7e9f59ec",
   "metadata": {},
   "outputs": [],
   "source": [
    "# 236\n",
    "아래 코드의 실행 결과를 예측하라.\n",
    "\n",
    "def 함수(num) :\n",
    "    return num + 4\n",
    "\n",
    "a = 함수(10)\n",
    "b = 함수(a)\n",
    "c = 함수(b)\n",
    "print(c)"
   ]
  },
  {
   "cell_type": "code",
   "execution_count": null,
   "id": "efb4dd41-0f2a-4504-8702-68c4119fab35",
   "metadata": {},
   "outputs": [],
   "source": [
    "# 예측\n",
    "a = 14 -> b = 18 -> c = 22\n",
    "결과는 22"
   ]
  },
  {
   "cell_type": "code",
   "execution_count": 41,
   "id": "138d559b-47dc-4c57-908d-921383961572",
   "metadata": {},
   "outputs": [
    {
     "name": "stdout",
     "output_type": "stream",
     "text": [
      "22\n"
     ]
    }
   ],
   "source": [
    "# 결과\n",
    "def 함수(num) :\n",
    "    return num + 4\n",
    "\n",
    "a = 함수(10)\n",
    "b = 함수(a)\n",
    "c = 함수(b)\n",
    "print(c)"
   ]
  },
  {
   "cell_type": "code",
   "execution_count": null,
   "id": "cc2d81ad-67c6-4c31-a8c8-c2f8a86ac0ee",
   "metadata": {},
   "outputs": [],
   "source": [
    "# 237\n",
    "아래 코드의 실행 결과를 예측하라.\n",
    "\n",
    "def 함수(num) :\n",
    "    return num + 4\n",
    "\n",
    "c = 함수(함수(함수(10)))\n",
    "print(c)"
   ]
  },
  {
   "cell_type": "code",
   "execution_count": null,
   "id": "8bc6f644-1ccc-42d5-a0aa-814c6911ad73",
   "metadata": {},
   "outputs": [],
   "source": [
    "# 예측\n",
    "22"
   ]
  },
  {
   "cell_type": "code",
   "execution_count": 42,
   "id": "53087139-dda6-4aab-b061-789907a8df89",
   "metadata": {},
   "outputs": [
    {
     "name": "stdout",
     "output_type": "stream",
     "text": [
      "22\n"
     ]
    }
   ],
   "source": [
    "# 결과\n",
    "ef 함수(num) :\n",
    "    return num + 4\n",
    "\n",
    "c = 함수(함수(함수(10)))\n",
    "print(c)"
   ]
  },
  {
   "cell_type": "code",
   "execution_count": null,
   "id": "d46a35cd-3be1-42f0-9625-2fb2c71db144",
   "metadata": {},
   "outputs": [],
   "source": [
    "# 238\n",
    "아래 코드의 실행 결과를 예측하라.\n",
    "\n",
    "def 함수1(num) :\n",
    "    return num + 4\n",
    "\n",
    "def 함수2(num) :\n",
    "    return num * 10\n",
    "\n",
    "a = 함수1(10)\n",
    "c = 함수2(a)\n",
    "print(c)"
   ]
  },
  {
   "cell_type": "code",
   "execution_count": null,
   "id": "f57deb9e-ae8c-4f73-88c1-f8b31538c29d",
   "metadata": {},
   "outputs": [],
   "source": [
    "# 예측\n",
    "a = 14, c = 140\n",
    "결과는 140"
   ]
  },
  {
   "cell_type": "code",
   "execution_count": 43,
   "id": "d5c0ef67-78c8-481a-adcd-f4bf488d6902",
   "metadata": {},
   "outputs": [
    {
     "name": "stdout",
     "output_type": "stream",
     "text": [
      "140\n"
     ]
    }
   ],
   "source": [
    "# 결과\n",
    "def 함수1(num) :\n",
    "    return num + 4\n",
    "\n",
    "def 함수2(num) :\n",
    "    return num * 10\n",
    "\n",
    "a = 함수1(10)\n",
    "c = 함수2(a)\n",
    "print(c)"
   ]
  },
  {
   "cell_type": "code",
   "execution_count": null,
   "id": "5f17839a-23a8-474b-8c44-ebaca40cdaf1",
   "metadata": {},
   "outputs": [],
   "source": [
    "# 239\n",
    "아래 코드의 실행 결과를 예측하라.\n",
    "\n",
    "def 함수1(num) :\n",
    "    return num + 4\n",
    "\n",
    "def 함수2(num) :\n",
    "    num = num + 2\n",
    "    return 함수1(num)\n",
    "\n",
    "c = 함수2(10)\n",
    "print(c)"
   ]
  },
  {
   "cell_type": "code",
   "execution_count": null,
   "id": "8effb69e-a247-4f6b-a31b-9687a1ab45b5",
   "metadata": {},
   "outputs": [],
   "source": [
    "# 예측\n",
    "c = 12 -> 16\n",
    "결과 16"
   ]
  },
  {
   "cell_type": "code",
   "execution_count": 44,
   "id": "70012d46-e438-450d-ae11-10e7bcbf4c78",
   "metadata": {},
   "outputs": [
    {
     "name": "stdout",
     "output_type": "stream",
     "text": [
      "16\n"
     ]
    }
   ],
   "source": [
    "# 결과\n",
    "def 함수1(num) :\n",
    "    return num + 4\n",
    "\n",
    "def 함수2(num) :\n",
    "    num = num + 2\n",
    "    return 함수1(num)\n",
    "\n",
    "c = 함수2(10)\n",
    "print(c)"
   ]
  },
  {
   "cell_type": "code",
   "execution_count": null,
   "id": "83d8046f-54bf-49b3-95b8-e1b8d7b839f3",
   "metadata": {},
   "outputs": [],
   "source": [
    "# 240\n",
    "아래 코드의 실행 결과를 예측하라.\n",
    "\n",
    "def 함수0(num) :\n",
    "    return num * 2\n",
    "\n",
    "def 함수1(num) :\n",
    "    return 함수0(num + 2)\n",
    "\n",
    "def 함수2(num) :\n",
    "    num = num + 10\n",
    "    return 함수1(num)\n",
    "\n",
    "c = 함수2(2)\n",
    "print(c)"
   ]
  },
  {
   "cell_type": "code",
   "execution_count": null,
   "id": "ab561b63-f9c5-4c81-af2c-8bc78afe3117",
   "metadata": {},
   "outputs": [],
   "source": [
    "# 예측\n",
    "c = 12 -> 14 -> 28\n",
    "결과 28"
   ]
  },
  {
   "cell_type": "code",
   "execution_count": 45,
   "id": "e4f1f067-2ebe-43a9-8e01-bf412e76e94f",
   "metadata": {},
   "outputs": [
    {
     "name": "stdout",
     "output_type": "stream",
     "text": [
      "28\n"
     ]
    }
   ],
   "source": [
    "# 결과\n",
    "def 함수0(num) :\n",
    "    return num * 2\n",
    "\n",
    "def 함수1(num) :\n",
    "    return 함수0(num + 2)\n",
    "\n",
    "def 함수2(num) :\n",
    "    num = num + 10\n",
    "    return 함수1(num)\n",
    "\n",
    "c = 함수2(2)\n",
    "print(c)"
   ]
  },
  {
   "cell_type": "markdown",
   "id": "531f32b3-113a-4b85-bd9d-447e0784bf10",
   "metadata": {},
   "source": [
    "# 파이썬 모듈"
   ]
  },
  {
   "cell_type": "markdown",
   "id": "9d2e516b-53c0-4f24-99bd-d9b10f246ccc",
   "metadata": {},
   "source": [
    "## 241 ~ 250"
   ]
  },
  {
   "cell_type": "code",
   "execution_count": null,
   "id": "b15d9496-737f-48df-af66-16f4964f1648",
   "metadata": {},
   "outputs": [],
   "source": []
  },
  {
   "cell_type": "code",
   "execution_count": null,
   "id": "23930b23-866a-47de-9d94-fc9a03afc10e",
   "metadata": {},
   "outputs": [],
   "source": []
  },
  {
   "cell_type": "code",
   "execution_count": null,
   "id": "6e5dcbbb-bb20-48a6-8d11-6879dba37ba8",
   "metadata": {},
   "outputs": [],
   "source": []
  },
  {
   "cell_type": "code",
   "execution_count": null,
   "id": "ad01788e-0ebb-4eee-97d1-bb3361e2279c",
   "metadata": {},
   "outputs": [],
   "source": []
  },
  {
   "cell_type": "code",
   "execution_count": null,
   "id": "086930dc-57bc-4027-8a84-8eb5ae9703b1",
   "metadata": {},
   "outputs": [],
   "source": []
  },
  {
   "cell_type": "code",
   "execution_count": null,
   "id": "a0b2afd1-5bac-4d10-ac26-ec221e9e78ac",
   "metadata": {},
   "outputs": [],
   "source": []
  },
  {
   "cell_type": "code",
   "execution_count": null,
   "id": "8a4f157d-c44e-4354-b465-878a56d25db5",
   "metadata": {},
   "outputs": [],
   "source": []
  },
  {
   "cell_type": "markdown",
   "id": "f3c86deb-5c63-4fcc-b9d0-36e5cbc46506",
   "metadata": {},
   "source": [
    "# 파이썬 클래스"
   ]
  },
  {
   "cell_type": "markdown",
   "id": "cdd02c9e-6481-449e-a02f-cfd7a9f95e56",
   "metadata": {},
   "source": [
    "## 251 ~ 260"
   ]
  },
  {
   "cell_type": "code",
   "execution_count": null,
   "id": "1d86128d-645c-43bb-8fc9-87090ba6be77",
   "metadata": {},
   "outputs": [],
   "source": []
  },
  {
   "cell_type": "code",
   "execution_count": null,
   "id": "fbae91c4-9cef-4629-b86b-5304c45d9c52",
   "metadata": {},
   "outputs": [],
   "source": []
  },
  {
   "cell_type": "code",
   "execution_count": null,
   "id": "e9df3217-f0a6-470d-b91c-632c1fa7fe2e",
   "metadata": {},
   "outputs": [],
   "source": []
  },
  {
   "cell_type": "code",
   "execution_count": null,
   "id": "5286127f-5a49-4f2d-9a00-36d1e1a081b0",
   "metadata": {},
   "outputs": [],
   "source": []
  },
  {
   "cell_type": "code",
   "execution_count": null,
   "id": "b0e0fdd3-725a-4797-9e5b-b18116f4a610",
   "metadata": {},
   "outputs": [],
   "source": []
  },
  {
   "cell_type": "code",
   "execution_count": null,
   "id": "d4428eca-444d-45f1-bfd8-fe29c9ffb2a3",
   "metadata": {},
   "outputs": [],
   "source": []
  },
  {
   "cell_type": "markdown",
   "id": "aa905a36-4249-47af-85ae-5b7e1bf274fa",
   "metadata": {},
   "source": [
    "## 261 ~ 270"
   ]
  },
  {
   "cell_type": "code",
   "execution_count": null,
   "id": "91e4b501-c063-4b8d-8f7c-e9e30d199300",
   "metadata": {},
   "outputs": [],
   "source": []
  },
  {
   "cell_type": "code",
   "execution_count": null,
   "id": "35c3fd9b-66c6-4b3d-ba6f-93e5e6b64b6e",
   "metadata": {},
   "outputs": [],
   "source": []
  },
  {
   "cell_type": "code",
   "execution_count": null,
   "id": "3a2853b3-697e-4a1e-93d8-444c1e37102b",
   "metadata": {},
   "outputs": [],
   "source": []
  },
  {
   "cell_type": "code",
   "execution_count": null,
   "id": "5eabdf01-801f-458a-97fa-c9631d21830c",
   "metadata": {},
   "outputs": [],
   "source": []
  },
  {
   "cell_type": "code",
   "execution_count": null,
   "id": "5687c048-1f56-406a-bc0f-0bbd7538b83f",
   "metadata": {},
   "outputs": [],
   "source": []
  },
  {
   "cell_type": "code",
   "execution_count": null,
   "id": "e0877fff-78b2-4bf5-8f71-c23b74ec6030",
   "metadata": {},
   "outputs": [],
   "source": []
  },
  {
   "cell_type": "code",
   "execution_count": null,
   "id": "c27d70a9-a592-463c-878f-7db1a66682fa",
   "metadata": {},
   "outputs": [],
   "source": []
  },
  {
   "cell_type": "markdown",
   "id": "59f75c44-f87e-479e-ab5f-f1640468171c",
   "metadata": {},
   "source": [
    "## 271 ~ 280"
   ]
  },
  {
   "cell_type": "code",
   "execution_count": null,
   "id": "b7aee10b-3849-455d-9312-566f46188800",
   "metadata": {},
   "outputs": [],
   "source": []
  },
  {
   "cell_type": "code",
   "execution_count": null,
   "id": "e8e9e69c-8e6e-49ca-bce5-d95605b97024",
   "metadata": {},
   "outputs": [],
   "source": []
  },
  {
   "cell_type": "code",
   "execution_count": null,
   "id": "b6ccaa8e-7fd3-411a-bced-1c2d3e1fae16",
   "metadata": {},
   "outputs": [],
   "source": []
  },
  {
   "cell_type": "code",
   "execution_count": null,
   "id": "8d02959c-8e7a-489a-9552-6dc02c9d4275",
   "metadata": {},
   "outputs": [],
   "source": []
  },
  {
   "cell_type": "code",
   "execution_count": null,
   "id": "bed3940e-1448-4a98-9a8a-81f46583d2bd",
   "metadata": {},
   "outputs": [],
   "source": []
  },
  {
   "cell_type": "code",
   "execution_count": null,
   "id": "e2c5f100-68f2-454c-8b2a-ffa36919bafd",
   "metadata": {},
   "outputs": [],
   "source": []
  },
  {
   "cell_type": "markdown",
   "id": "c97092de-971e-418b-89cf-d10a271ba589",
   "metadata": {},
   "source": [
    "## 281 ~ 290"
   ]
  },
  {
   "cell_type": "code",
   "execution_count": null,
   "id": "43826a3a-e740-4b16-8bab-ccc6d26686f8",
   "metadata": {},
   "outputs": [],
   "source": []
  },
  {
   "cell_type": "code",
   "execution_count": null,
   "id": "0b979177-170f-44b7-bd56-24aafabb3eb0",
   "metadata": {},
   "outputs": [],
   "source": []
  },
  {
   "cell_type": "code",
   "execution_count": null,
   "id": "8ed4abc5-bee8-4eca-8e59-1ca28b094fd6",
   "metadata": {},
   "outputs": [],
   "source": []
  },
  {
   "cell_type": "code",
   "execution_count": null,
   "id": "1e19f29e-7cd0-48db-a6a8-02de096988f5",
   "metadata": {},
   "outputs": [],
   "source": []
  },
  {
   "cell_type": "code",
   "execution_count": null,
   "id": "328cff4b-f5a3-43b6-87d4-906f1dbcc6a1",
   "metadata": {},
   "outputs": [],
   "source": []
  },
  {
   "cell_type": "code",
   "execution_count": null,
   "id": "ab04a379-837b-4448-8c95-8ff995039266",
   "metadata": {},
   "outputs": [],
   "source": []
  },
  {
   "cell_type": "code",
   "execution_count": null,
   "id": "a310a638-ddf6-4bde-91f3-5248891d373f",
   "metadata": {},
   "outputs": [],
   "source": []
  },
  {
   "cell_type": "markdown",
   "id": "c03a0054-46ce-4f15-b1e6-6392f3d924ca",
   "metadata": {},
   "source": [
    "# 파일 입출력과 예외처리"
   ]
  },
  {
   "cell_type": "markdown",
   "id": "09b496e9-bde1-4d4f-b8a0-cc6c5e104c2a",
   "metadata": {},
   "source": [
    "## 291 ~ 300"
   ]
  },
  {
   "cell_type": "code",
   "execution_count": null,
   "id": "e4cf2153-7ea6-4431-89c5-b1832f129e95",
   "metadata": {},
   "outputs": [],
   "source": []
  },
  {
   "cell_type": "code",
   "execution_count": null,
   "id": "117ffc4e-aad7-4625-88d9-cf2dc83b8bd0",
   "metadata": {},
   "outputs": [],
   "source": []
  },
  {
   "cell_type": "code",
   "execution_count": null,
   "id": "104fb18c-76d2-4c91-8d99-d4e88348b9a3",
   "metadata": {},
   "outputs": [],
   "source": []
  },
  {
   "cell_type": "code",
   "execution_count": null,
   "id": "6a3640f9-d6fb-44fc-8375-dc533104442f",
   "metadata": {},
   "outputs": [],
   "source": []
  },
  {
   "cell_type": "code",
   "execution_count": null,
   "id": "adca7b83-bb5c-4580-b59a-9cb63f834e4e",
   "metadata": {},
   "outputs": [],
   "source": []
  },
  {
   "cell_type": "code",
   "execution_count": null,
   "id": "3216d55f-0ab6-4e70-9e35-d1a2c9c3032c",
   "metadata": {},
   "outputs": [],
   "source": []
  },
  {
   "cell_type": "code",
   "execution_count": null,
   "id": "4fe8036a-b8b1-4da9-8db3-cfd6a28eadd5",
   "metadata": {},
   "outputs": [],
   "source": []
  },
  {
   "cell_type": "code",
   "execution_count": null,
   "id": "89915ec1-b6c2-4ad9-8fd5-9d24b079772c",
   "metadata": {},
   "outputs": [],
   "source": []
  },
  {
   "cell_type": "code",
   "execution_count": null,
   "id": "907bd2ad-153f-4c68-8614-361205305a11",
   "metadata": {},
   "outputs": [],
   "source": []
  },
  {
   "cell_type": "code",
   "execution_count": null,
   "id": "bc119142-c78a-4592-8489-608f9c2520ee",
   "metadata": {},
   "outputs": [],
   "source": []
  }
 ],
 "metadata": {
  "kernelspec": {
   "display_name": "Python 3 (ipykernel)",
   "language": "python",
   "name": "python3"
  },
  "language_info": {
   "codemirror_mode": {
    "name": "ipython",
    "version": 3
   },
   "file_extension": ".py",
   "mimetype": "text/x-python",
   "name": "python",
   "nbconvert_exporter": "python",
   "pygments_lexer": "ipython3",
   "version": "3.11.7"
  }
 },
 "nbformat": 4,
 "nbformat_minor": 5
}
