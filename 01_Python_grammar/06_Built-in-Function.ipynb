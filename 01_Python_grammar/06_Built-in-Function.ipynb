{
 "cells": [
  {
   "cell_type": "markdown",
   "id": "0f8e6b76-f27e-41a0-872f-26712924df7a",
   "metadata": {},
   "source": [
    "# 내장 함수"
   ]
  },
  {
   "cell_type": "markdown",
   "id": "55ca6eb3-3ca9-47ce-9be4-f46997e8674e",
   "metadata": {},
   "source": [
    "## abs"
   ]
  },
  {
   "cell_type": "code",
   "execution_count": 3,
   "id": "8c620c36-ab5b-4911-aedf-1480d2b92c7e",
   "metadata": {},
   "outputs": [
    {
     "data": {
      "text/plain": [
       "3"
      ]
     },
     "execution_count": 3,
     "metadata": {},
     "output_type": "execute_result"
    }
   ],
   "source": [
    "abs(3)"
   ]
  },
  {
   "cell_type": "code",
   "execution_count": 4,
   "id": "fbffadf7-0447-4a87-8f50-b92fef5b0a5a",
   "metadata": {},
   "outputs": [
    {
     "data": {
      "text/plain": [
       "3"
      ]
     },
     "execution_count": 4,
     "metadata": {},
     "output_type": "execute_result"
    }
   ],
   "source": [
    "abs(-3)"
   ]
  },
  {
   "cell_type": "code",
   "execution_count": 5,
   "id": "21bdd8a0-2bcb-4dbb-bbde-f9c37305a81d",
   "metadata": {},
   "outputs": [
    {
     "data": {
      "text/plain": [
       "1.2"
      ]
     },
     "execution_count": 5,
     "metadata": {},
     "output_type": "execute_result"
    }
   ],
   "source": [
    "abs(-1.2)"
   ]
  },
  {
   "cell_type": "markdown",
   "id": "f0942534-5f40-4fd2-9ec0-e15cc411b71c",
   "metadata": {},
   "source": [
    "## all"
   ]
  },
  {
   "cell_type": "code",
   "execution_count": 6,
   "id": "874fb36c-0b8d-4b5d-a95d-ad4b0c14f124",
   "metadata": {},
   "outputs": [
    {
     "data": {
      "text/plain": [
       "True"
      ]
     },
     "execution_count": 6,
     "metadata": {},
     "output_type": "execute_result"
    }
   ],
   "source": [
    "all([1, 2, 3])"
   ]
  },
  {
   "cell_type": "code",
   "execution_count": 7,
   "id": "0e384f0c-3974-49ef-bd33-a94e92b372d5",
   "metadata": {},
   "outputs": [
    {
     "data": {
      "text/plain": [
       "False"
      ]
     },
     "execution_count": 7,
     "metadata": {},
     "output_type": "execute_result"
    }
   ],
   "source": [
    "all([1, 2, 3, 4, 0])"
   ]
  },
  {
   "cell_type": "code",
   "execution_count": 8,
   "id": "331bf3b8-f509-4bf8-af9a-d1a277b5aaf9",
   "metadata": {},
   "outputs": [
    {
     "data": {
      "text/plain": [
       "True"
      ]
     },
     "execution_count": 8,
     "metadata": {},
     "output_type": "execute_result"
    }
   ],
   "source": [
    "all([])"
   ]
  },
  {
   "cell_type": "markdown",
   "id": "41f9147b-57cd-4b12-8a99-299c8e1d8526",
   "metadata": {},
   "source": [
    "## any"
   ]
  },
  {
   "cell_type": "code",
   "execution_count": 9,
   "id": "86fa6878-51d8-421b-b7dc-0f4926be99a2",
   "metadata": {},
   "outputs": [
    {
     "data": {
      "text/plain": [
       "True"
      ]
     },
     "execution_count": 9,
     "metadata": {},
     "output_type": "execute_result"
    }
   ],
   "source": [
    "any([1, 2, 3, 0])"
   ]
  },
  {
   "cell_type": "code",
   "execution_count": 10,
   "id": "05779e25-6b9e-4532-ae92-dbb59a5119a1",
   "metadata": {},
   "outputs": [
    {
     "data": {
      "text/plain": [
       "False"
      ]
     },
     "execution_count": 10,
     "metadata": {},
     "output_type": "execute_result"
    }
   ],
   "source": [
    "any([0, \"\"])"
   ]
  },
  {
   "cell_type": "code",
   "execution_count": 11,
   "id": "e086b3a1-a22a-48c0-a0da-ead5341d3bad",
   "metadata": {},
   "outputs": [
    {
     "data": {
      "text/plain": [
       "False"
      ]
     },
     "execution_count": 11,
     "metadata": {},
     "output_type": "execute_result"
    }
   ],
   "source": [
    "any([])"
   ]
  },
  {
   "cell_type": "markdown",
   "id": "d7e934e5-45f2-40e7-97a2-7704244ec6c5",
   "metadata": {},
   "source": [
    "## chr"
   ]
  },
  {
   "cell_type": "code",
   "execution_count": 13,
   "id": "167f6d55-67ed-422e-8d52-5842c486538c",
   "metadata": {},
   "outputs": [
    {
     "data": {
      "text/plain": [
       "'a'"
      ]
     },
     "execution_count": 13,
     "metadata": {},
     "output_type": "execute_result"
    }
   ],
   "source": [
    "chr(97)"
   ]
  },
  {
   "cell_type": "code",
   "execution_count": 14,
   "id": "b23b7367-a145-438b-abb4-f3d2a1f55078",
   "metadata": {},
   "outputs": [
    {
     "data": {
      "text/plain": [
       "'가'"
      ]
     },
     "execution_count": 14,
     "metadata": {},
     "output_type": "execute_result"
    }
   ],
   "source": [
    "chr(44032)"
   ]
  },
  {
   "cell_type": "markdown",
   "id": "c14ba647-7f12-46f0-951e-e5157702238f",
   "metadata": {},
   "source": [
    "## dir"
   ]
  },
  {
   "cell_type": "code",
   "execution_count": 18,
   "id": "acea1164-bee8-4857-9450-5307c3376fd8",
   "metadata": {},
   "outputs": [
    {
     "data": {
      "text/plain": [
       "['__add__',\n",
       " '__class__',\n",
       " '__class_getitem__',\n",
       " '__contains__',\n",
       " '__delattr__',\n",
       " '__delitem__',\n",
       " '__dir__',\n",
       " '__doc__',\n",
       " '__eq__',\n",
       " '__format__',\n",
       " '__ge__',\n",
       " '__getattribute__',\n",
       " '__getitem__',\n",
       " '__getstate__',\n",
       " '__gt__',\n",
       " '__hash__',\n",
       " '__iadd__',\n",
       " '__imul__',\n",
       " '__init__',\n",
       " '__init_subclass__',\n",
       " '__iter__',\n",
       " '__le__',\n",
       " '__len__',\n",
       " '__lt__',\n",
       " '__mul__',\n",
       " '__ne__',\n",
       " '__new__',\n",
       " '__reduce__',\n",
       " '__reduce_ex__',\n",
       " '__repr__',\n",
       " '__reversed__',\n",
       " '__rmul__',\n",
       " '__setattr__',\n",
       " '__setitem__',\n",
       " '__sizeof__',\n",
       " '__str__',\n",
       " '__subclasshook__',\n",
       " 'append',\n",
       " 'clear',\n",
       " 'copy',\n",
       " 'count',\n",
       " 'extend',\n",
       " 'index',\n",
       " 'insert',\n",
       " 'pop',\n",
       " 'remove',\n",
       " 'reverse',\n",
       " 'sort']"
      ]
     },
     "execution_count": 18,
     "metadata": {},
     "output_type": "execute_result"
    }
   ],
   "source": [
    "dir([1, 2, 3])"
   ]
  },
  {
   "cell_type": "code",
   "execution_count": 20,
   "id": "813bd268-ba02-448b-944b-809b3956fe6f",
   "metadata": {},
   "outputs": [
    {
     "data": {
      "text/plain": [
       "['__class__',\n",
       " '__class_getitem__',\n",
       " '__contains__',\n",
       " '__delattr__',\n",
       " '__delitem__',\n",
       " '__dir__',\n",
       " '__doc__',\n",
       " '__eq__',\n",
       " '__format__',\n",
       " '__ge__',\n",
       " '__getattribute__',\n",
       " '__getitem__',\n",
       " '__getstate__',\n",
       " '__gt__',\n",
       " '__hash__',\n",
       " '__init__',\n",
       " '__init_subclass__',\n",
       " '__ior__',\n",
       " '__iter__',\n",
       " '__le__',\n",
       " '__len__',\n",
       " '__lt__',\n",
       " '__ne__',\n",
       " '__new__',\n",
       " '__or__',\n",
       " '__reduce__',\n",
       " '__reduce_ex__',\n",
       " '__repr__',\n",
       " '__reversed__',\n",
       " '__ror__',\n",
       " '__setattr__',\n",
       " '__setitem__',\n",
       " '__sizeof__',\n",
       " '__str__',\n",
       " '__subclasshook__',\n",
       " 'clear',\n",
       " 'copy',\n",
       " 'fromkeys',\n",
       " 'get',\n",
       " 'items',\n",
       " 'keys',\n",
       " 'pop',\n",
       " 'popitem',\n",
       " 'setdefault',\n",
       " 'update',\n",
       " 'values']"
      ]
     },
     "execution_count": 20,
     "metadata": {},
     "output_type": "execute_result"
    }
   ],
   "source": [
    "dir({'1':'a'})"
   ]
  },
  {
   "cell_type": "markdown",
   "id": "b6309e02-92a7-4909-b2b9-23231cc6cd44",
   "metadata": {},
   "source": [
    "## divmod"
   ]
  },
  {
   "cell_type": "code",
   "execution_count": 21,
   "id": "428ee07e-10cf-4e5d-be21-d0bd420825a9",
   "metadata": {},
   "outputs": [
    {
     "data": {
      "text/plain": [
       "(2, 1)"
      ]
     },
     "execution_count": 21,
     "metadata": {},
     "output_type": "execute_result"
    }
   ],
   "source": [
    "divmod(7, 3)"
   ]
  },
  {
   "cell_type": "code",
   "execution_count": 24,
   "id": "9fd49c75-9cbe-4c0e-ae81-daaa13f63968",
   "metadata": {},
   "outputs": [
    {
     "data": {
      "text/plain": [
       "(2, 1, 2.3333333333333335)"
      ]
     },
     "execution_count": 24,
     "metadata": {},
     "output_type": "execute_result"
    }
   ],
   "source": [
    "7//3, 7%3, 7/3"
   ]
  },
  {
   "cell_type": "markdown",
   "id": "8371fee8-71fe-4df9-b36f-cef5ca71daed",
   "metadata": {},
   "source": [
    "## enumerate"
   ]
  },
  {
   "cell_type": "code",
   "execution_count": 27,
   "id": "bb777d93-4cd5-460a-9919-b118953617f9",
   "metadata": {},
   "outputs": [
    {
     "name": "stdout",
     "output_type": "stream",
     "text": [
      "<enumerate object at 0x0000022BC4CFF6A0>\n",
      "0 body\n",
      "<enumerate object at 0x0000022BC4CFF6A0>\n",
      "1 foo\n",
      "<enumerate object at 0x0000022BC4CFF6A0>\n",
      "2 bar\n"
     ]
    }
   ],
   "source": [
    "for i, name in enumerate(['body', 'foo', 'bar']) :\n",
    "    print(enumerate(['body', 'foor', 'bar']))\n",
    "    print(i, name)"
   ]
  },
  {
   "cell_type": "markdown",
   "id": "29075874-3587-411f-8781-2ff382eef428",
   "metadata": {},
   "source": [
    "## eval"
   ]
  },
  {
   "cell_type": "code",
   "execution_count": 28,
   "id": "a5a7bee2-7a92-460b-9c15-19ba5e23a5eb",
   "metadata": {},
   "outputs": [
    {
     "data": {
      "text/plain": [
       "3"
      ]
     },
     "execution_count": 28,
     "metadata": {},
     "output_type": "execute_result"
    }
   ],
   "source": [
    "eval('1+2')"
   ]
  },
  {
   "cell_type": "code",
   "execution_count": 29,
   "id": "61e9ba93-c308-4b4f-a74f-d99633547f2d",
   "metadata": {},
   "outputs": [
    {
     "data": {
      "text/plain": [
       "'hia'"
      ]
     },
     "execution_count": 29,
     "metadata": {},
     "output_type": "execute_result"
    }
   ],
   "source": [
    "eval(\"'hi' + 'a'\")"
   ]
  },
  {
   "cell_type": "code",
   "execution_count": 30,
   "id": "7da1afc1-2fd9-4a82-a680-d66909eb25c1",
   "metadata": {},
   "outputs": [
    {
     "data": {
      "text/plain": [
       "(1, 1)"
      ]
     },
     "execution_count": 30,
     "metadata": {},
     "output_type": "execute_result"
    }
   ],
   "source": [
    "eval('divmod(4,3)')"
   ]
  },
  {
   "cell_type": "markdown",
   "id": "798ec6f5-c19e-4226-9c7a-b45778df6bbd",
   "metadata": {},
   "source": [
    "## filter"
   ]
  },
  {
   "cell_type": "code",
   "execution_count": 9,
   "id": "100ec6a4-c9d3-4b8c-8e6e-64bfeb68c842",
   "metadata": {},
   "outputs": [
    {
     "name": "stdout",
     "output_type": "stream",
     "text": [
      "[1, 2, 6]\n"
     ]
    }
   ],
   "source": [
    "def positive(l) :\n",
    "    result = []\n",
    "    for i in l :\n",
    "        if i > 0:\n",
    "            result.append(i)\n",
    "    return result\n",
    "\n",
    "print(positive([1, -3, 2, 0, -5, 6]))"
   ]
  },
  {
   "cell_type": "code",
   "execution_count": 2,
   "id": "dccbfce9-c1fa-403c-9eee-aa75bd14df50",
   "metadata": {},
   "outputs": [],
   "source": [
    "def positive(x) :\n",
    "    return x > 0"
   ]
  },
  {
   "cell_type": "code",
   "execution_count": 34,
   "id": "ae2e936d-0b58-4920-a09c-b8ca904b9fc5",
   "metadata": {},
   "outputs": [
    {
     "data": {
      "text/plain": [
       "<filter at 0x22bc4aaebc0>"
      ]
     },
     "execution_count": 34,
     "metadata": {},
     "output_type": "execute_result"
    }
   ],
   "source": [
    "filter(positive, [1, -3, 2, 0, -5, 6])"
   ]
  },
  {
   "cell_type": "code",
   "execution_count": 35,
   "id": "cfc3a492-c37e-4db5-8167-c2ee4b8f0cd8",
   "metadata": {},
   "outputs": [
    {
     "data": {
      "text/plain": [
       "[1, 2, 6]"
      ]
     },
     "execution_count": 35,
     "metadata": {},
     "output_type": "execute_result"
    }
   ],
   "source": [
    "list(filter(positive, [1, -3, 2, 0, -5, 6]))"
   ]
  },
  {
   "cell_type": "markdown",
   "id": "d46422a5-8513-4316-af51-4f5ae533fcfa",
   "metadata": {},
   "source": [
    "### 람다 표현식으로 더 간결하게 만들어보자"
   ]
  },
  {
   "cell_type": "code",
   "execution_count": 4,
   "id": "d927446e-6774-4209-b0bd-97c5ce60deaa",
   "metadata": {},
   "outputs": [
    {
     "data": {
      "text/plain": [
       "[1, 2, 6]"
      ]
     },
     "execution_count": 4,
     "metadata": {},
     "output_type": "execute_result"
    }
   ],
   "source": [
    "list(filter(lambda x : x > 0, [1, -3, 2, 0, -5, 6]))"
   ]
  },
  {
   "cell_type": "markdown",
   "id": "b5fc1bd1-637c-415a-9ade-45954b5d55a5",
   "metadata": {},
   "source": [
    "## int"
   ]
  },
  {
   "cell_type": "code",
   "execution_count": 5,
   "id": "45395f58-89d5-41ad-87eb-3e4ccb5fd7bc",
   "metadata": {},
   "outputs": [
    {
     "data": {
      "text/plain": [
       "3"
      ]
     },
     "execution_count": 5,
     "metadata": {},
     "output_type": "execute_result"
    }
   ],
   "source": [
    "int('3')"
   ]
  },
  {
   "cell_type": "code",
   "execution_count": 6,
   "id": "2742503d-84d9-42df-9d82-e3990530b941",
   "metadata": {},
   "outputs": [
    {
     "data": {
      "text/plain": [
       "3"
      ]
     },
     "execution_count": 6,
     "metadata": {},
     "output_type": "execute_result"
    }
   ],
   "source": [
    "int(3.4)"
   ]
  },
  {
   "cell_type": "code",
   "execution_count": 7,
   "id": "ee455231-0944-4597-b9b5-113f7c63bf07",
   "metadata": {},
   "outputs": [
    {
     "data": {
      "text/plain": [
       "\u001b[1;31mInit signature:\u001b[0m \u001b[0mint\u001b[0m\u001b[1;33m(\u001b[0m\u001b[0mself\u001b[0m\u001b[1;33m,\u001b[0m \u001b[1;33m/\u001b[0m\u001b[1;33m,\u001b[0m \u001b[1;33m*\u001b[0m\u001b[0margs\u001b[0m\u001b[1;33m,\u001b[0m \u001b[1;33m**\u001b[0m\u001b[0mkwargs\u001b[0m\u001b[1;33m)\u001b[0m\u001b[1;33m\u001b[0m\u001b[1;33m\u001b[0m\u001b[0m\n",
       "\u001b[1;31mDocstring:\u001b[0m     \n",
       "int([x]) -> integer\n",
       "int(x, base=10) -> integer\n",
       "\n",
       "Convert a number or string to an integer, or return 0 if no arguments\n",
       "are given.  If x is a number, return x.__int__().  For floating point\n",
       "numbers, this truncates towards zero.\n",
       "\n",
       "If x is not a number or if base is given, then x must be a string,\n",
       "bytes, or bytearray instance representing an integer literal in the\n",
       "given base.  The literal can be preceded by '+' or '-' and be surrounded\n",
       "by whitespace.  The base defaults to 10.  Valid bases are 0 and 2-36.\n",
       "Base 0 means to interpret the base from the string as an integer literal.\n",
       ">>> int('0b100', base=0)\n",
       "4\n",
       "\u001b[1;31mType:\u001b[0m           type\n",
       "\u001b[1;31mSubclasses:\u001b[0m     bool, IntEnum, IntFlag, _NamedIntConstant, Handle"
      ]
     },
     "metadata": {},
     "output_type": "display_data"
    }
   ],
   "source": [
    "int?"
   ]
  },
  {
   "cell_type": "code",
   "execution_count": 10,
   "id": "399fa450-b33a-437e-a178-a0b4aa9fe75f",
   "metadata": {},
   "outputs": [
    {
     "data": {
      "text/plain": [
       "3"
      ]
     },
     "execution_count": 10,
     "metadata": {},
     "output_type": "execute_result"
    }
   ],
   "source": [
    "int('11',2)"
   ]
  },
  {
   "cell_type": "code",
   "execution_count": 11,
   "id": "6dc79eb6-23ec-43c0-adc4-8f0a4f01914b",
   "metadata": {},
   "outputs": [
    {
     "data": {
      "text/plain": [
       "26"
      ]
     },
     "execution_count": 11,
     "metadata": {},
     "output_type": "execute_result"
    }
   ],
   "source": [
    "int('1A', 16)"
   ]
  },
  {
   "cell_type": "markdown",
   "id": "22f4068e-bc49-471b-8057-8820b4d2ab73",
   "metadata": {},
   "source": [
    "## isinstance"
   ]
  },
  {
   "cell_type": "code",
   "execution_count": 12,
   "id": "32210de4-3fb1-4dc1-8c78-ee83ebd122b0",
   "metadata": {},
   "outputs": [],
   "source": [
    "class Person : pass"
   ]
  },
  {
   "cell_type": "code",
   "execution_count": 13,
   "id": "1b022f95-9afa-4044-a1be-e5bd0b4499ba",
   "metadata": {},
   "outputs": [
    {
     "data": {
      "text/plain": [
       "<__main__.Person at 0x1d251ce1a10>"
      ]
     },
     "execution_count": 13,
     "metadata": {},
     "output_type": "execute_result"
    }
   ],
   "source": [
    "a = Person()\n",
    "a"
   ]
  },
  {
   "cell_type": "code",
   "execution_count": 15,
   "id": "4d3524d7-706a-4365-8d0a-1a57a0729ef6",
   "metadata": {},
   "outputs": [
    {
     "data": {
      "text/plain": [
       "True"
      ]
     },
     "execution_count": 15,
     "metadata": {},
     "output_type": "execute_result"
    }
   ],
   "source": [
    "isinstance(a, Person)"
   ]
  },
  {
   "cell_type": "code",
   "execution_count": 16,
   "id": "ae3cf6dc-30b4-4072-ad7e-2e33c7e162db",
   "metadata": {},
   "outputs": [],
   "source": [
    "b = 3"
   ]
  },
  {
   "cell_type": "code",
   "execution_count": 17,
   "id": "9ab69e2e-85ed-4fb9-b9ca-f4b11475246a",
   "metadata": {},
   "outputs": [
    {
     "data": {
      "text/plain": [
       "False"
      ]
     },
     "execution_count": 17,
     "metadata": {},
     "output_type": "execute_result"
    }
   ],
   "source": [
    "isinstance(b, Person)"
   ]
  },
  {
   "cell_type": "markdown",
   "id": "607a25be-3b09-40b6-a4eb-d926f7a247f0",
   "metadata": {},
   "source": [
    "## list"
   ]
  },
  {
   "cell_type": "code",
   "execution_count": 18,
   "id": "ec0d5db2-170b-4c4d-93cd-14b07ef319a6",
   "metadata": {},
   "outputs": [
    {
     "data": {
      "text/plain": [
       "['p', 'y', 't', 'h', 'o', 'n']"
      ]
     },
     "execution_count": 18,
     "metadata": {},
     "output_type": "execute_result"
    }
   ],
   "source": [
    "list('python')"
   ]
  },
  {
   "cell_type": "code",
   "execution_count": 19,
   "id": "391152b8-53e7-412e-a62c-2b344a887b15",
   "metadata": {},
   "outputs": [
    {
     "data": {
      "text/plain": [
       "[1, 2, 3]"
      ]
     },
     "execution_count": 19,
     "metadata": {},
     "output_type": "execute_result"
    }
   ],
   "source": [
    "list((1, 2, 3))"
   ]
  },
  {
   "cell_type": "markdown",
   "id": "97421cff-b574-4b0f-bd53-20825d394a76",
   "metadata": {},
   "source": [
    "## map"
   ]
  },
  {
   "cell_type": "code",
   "execution_count": 20,
   "id": "d8501677-1e28-4d37-af88-7fd829749af0",
   "metadata": {},
   "outputs": [
    {
     "name": "stdout",
     "output_type": "stream",
     "text": [
      "[2, 4, 6, 8]\n"
     ]
    }
   ],
   "source": [
    "def two_times(numberlist) :\n",
    "    result = []\n",
    "    for number in numberlist :\n",
    "        result.append(number*2)\n",
    "    return result\n",
    "\n",
    "result = two_times([1, 2, 3, 4])\n",
    "print(result)"
   ]
  },
  {
   "cell_type": "markdown",
   "id": "0bbc6ca4-e4be-4ba2-b5d2-f016e9174e87",
   "metadata": {},
   "source": [
    "### 람다식으로 간결하게 바꿔보자"
   ]
  },
  {
   "cell_type": "code",
   "execution_count": 22,
   "id": "ba15a519-dda7-4195-8dd2-ed28f2fecd27",
   "metadata": {},
   "outputs": [
    {
     "data": {
      "text/plain": [
       "[2, 4, 6, 8]"
      ]
     },
     "execution_count": 22,
     "metadata": {},
     "output_type": "execute_result"
    }
   ],
   "source": [
    "list(map(lambda a : a*2, [1, 2, 3, 4]))"
   ]
  },
  {
   "cell_type": "markdown",
   "id": "f9fa8d35-fd2a-40c6-96a8-00ec54423074",
   "metadata": {},
   "source": [
    "## max"
   ]
  },
  {
   "cell_type": "code",
   "execution_count": 23,
   "id": "ecc48b85-3055-440e-9df8-be4c7734f6b9",
   "metadata": {},
   "outputs": [
    {
     "data": {
      "text/plain": [
       "3"
      ]
     },
     "execution_count": 23,
     "metadata": {},
     "output_type": "execute_result"
    }
   ],
   "source": [
    "max([1, 2, 3])"
   ]
  },
  {
   "cell_type": "markdown",
   "id": "bc988f10-dfa9-4b39-8873-9b75b348761d",
   "metadata": {},
   "source": [
    "## min"
   ]
  },
  {
   "cell_type": "code",
   "execution_count": 24,
   "id": "a617e4be-bf90-47a9-90b8-8054ace4ea51",
   "metadata": {},
   "outputs": [
    {
     "data": {
      "text/plain": [
       "1"
      ]
     },
     "execution_count": 24,
     "metadata": {},
     "output_type": "execute_result"
    }
   ],
   "source": [
    "min([1, 2, 3])"
   ]
  },
  {
   "cell_type": "markdown",
   "id": "32cd0b0f-b599-402e-ac3a-17a17901f6fd",
   "metadata": {},
   "source": [
    "## ord"
   ]
  },
  {
   "cell_type": "code",
   "execution_count": 25,
   "id": "2c6e68cd-648d-4358-b700-66157e6b1a8c",
   "metadata": {},
   "outputs": [
    {
     "data": {
      "text/plain": [
       "97"
      ]
     },
     "execution_count": 25,
     "metadata": {},
     "output_type": "execute_result"
    }
   ],
   "source": [
    "ord('a')"
   ]
  },
  {
   "cell_type": "code",
   "execution_count": 26,
   "id": "2174fcb9-7e38-475b-94c2-264d870a7348",
   "metadata": {},
   "outputs": [
    {
     "data": {
      "text/plain": [
       "44032"
      ]
     },
     "execution_count": 26,
     "metadata": {},
     "output_type": "execute_result"
    }
   ],
   "source": [
    "ord('가')"
   ]
  },
  {
   "cell_type": "markdown",
   "id": "f7826d72-92a3-4a39-a28e-029edd1bebfa",
   "metadata": {},
   "source": [
    "## pow"
   ]
  },
  {
   "cell_type": "code",
   "execution_count": 28,
   "id": "98bbf918-5b26-4a48-bfc7-2d95e9fe8a90",
   "metadata": {},
   "outputs": [
    {
     "data": {
      "text/plain": [
       "16"
      ]
     },
     "execution_count": 28,
     "metadata": {},
     "output_type": "execute_result"
    }
   ],
   "source": [
    "pow(2, 4)"
   ]
  },
  {
   "cell_type": "code",
   "execution_count": 29,
   "id": "6825a6f9-0de3-4e68-9db7-ab338122cbef",
   "metadata": {},
   "outputs": [
    {
     "data": {
      "text/plain": [
       "27"
      ]
     },
     "execution_count": 29,
     "metadata": {},
     "output_type": "execute_result"
    }
   ],
   "source": [
    "pow(3, 3)"
   ]
  },
  {
   "cell_type": "markdown",
   "id": "29522319-01f3-4eb6-b92d-287fe49dcc7f",
   "metadata": {},
   "source": [
    "## range"
   ]
  },
  {
   "cell_type": "code",
   "execution_count": 30,
   "id": "a834f317-0c4e-46e8-b06b-da8e2ccb166c",
   "metadata": {},
   "outputs": [
    {
     "data": {
      "text/plain": [
       "range(0, 5)"
      ]
     },
     "execution_count": 30,
     "metadata": {},
     "output_type": "execute_result"
    }
   ],
   "source": [
    "range(5)"
   ]
  },
  {
   "cell_type": "code",
   "execution_count": 31,
   "id": "73c43bf3-b836-403c-9c06-4bb6e28e45b7",
   "metadata": {},
   "outputs": [
    {
     "data": {
      "text/plain": [
       "\u001b[1;31mInit signature:\u001b[0m \u001b[0mrange\u001b[0m\u001b[1;33m(\u001b[0m\u001b[0mself\u001b[0m\u001b[1;33m,\u001b[0m \u001b[1;33m/\u001b[0m\u001b[1;33m,\u001b[0m \u001b[1;33m*\u001b[0m\u001b[0margs\u001b[0m\u001b[1;33m,\u001b[0m \u001b[1;33m**\u001b[0m\u001b[0mkwargs\u001b[0m\u001b[1;33m)\u001b[0m\u001b[1;33m\u001b[0m\u001b[1;33m\u001b[0m\u001b[0m\n",
       "\u001b[1;31mDocstring:\u001b[0m     \n",
       "range(stop) -> range object\n",
       "range(start, stop[, step]) -> range object\n",
       "\n",
       "Return an object that produces a sequence of integers from start (inclusive)\n",
       "to stop (exclusive) by step.  range(i, j) produces i, i+1, i+2, ..., j-1.\n",
       "start defaults to 0, and stop is omitted!  range(4) produces 0, 1, 2, 3.\n",
       "These are exactly the valid indices for a list of 4 elements.\n",
       "When step is given, it specifies the increment (or decrement).\n",
       "\u001b[1;31mType:\u001b[0m           type\n",
       "\u001b[1;31mSubclasses:\u001b[0m     "
      ]
     },
     "metadata": {},
     "output_type": "display_data"
    }
   ],
   "source": [
    "range?"
   ]
  },
  {
   "cell_type": "code",
   "execution_count": 32,
   "id": "497da4f7-5c78-4a19-8073-4eea76e04c9a",
   "metadata": {},
   "outputs": [
    {
     "data": {
      "text/plain": [
       "[0, 1, 2, 3, 4]"
      ]
     },
     "execution_count": 32,
     "metadata": {},
     "output_type": "execute_result"
    }
   ],
   "source": [
    "list(range(5))"
   ]
  },
  {
   "cell_type": "code",
   "execution_count": 33,
   "id": "3c208cc6-841b-4881-b70f-55e30ae12e93",
   "metadata": {},
   "outputs": [
    {
     "data": {
      "text/plain": [
       "[5, 6, 7, 8, 9]"
      ]
     },
     "execution_count": 33,
     "metadata": {},
     "output_type": "execute_result"
    }
   ],
   "source": [
    "list(range(5, 10))"
   ]
  },
  {
   "cell_type": "code",
   "execution_count": 34,
   "id": "c8cc5571-ea23-4b22-b1a8-bf3184f527e7",
   "metadata": {},
   "outputs": [
    {
     "data": {
      "text/plain": [
       "[5, 7, 9]"
      ]
     },
     "execution_count": 34,
     "metadata": {},
     "output_type": "execute_result"
    }
   ],
   "source": [
    "list(range(5, 10, 2))"
   ]
  },
  {
   "cell_type": "markdown",
   "id": "39a824ee-8b94-4b04-b354-f9777b8a329e",
   "metadata": {},
   "source": [
    "## round"
   ]
  },
  {
   "cell_type": "code",
   "execution_count": 35,
   "id": "1e960ed4-99b4-46d9-849e-af93be3aaaf2",
   "metadata": {},
   "outputs": [
    {
     "data": {
      "text/plain": [
       "4"
      ]
     },
     "execution_count": 35,
     "metadata": {},
     "output_type": "execute_result"
    }
   ],
   "source": [
    "round(4, 6)"
   ]
  },
  {
   "cell_type": "code",
   "execution_count": 36,
   "id": "7e9915b2-c735-46ce-8688-3798e120143a",
   "metadata": {},
   "outputs": [
    {
     "data": {
      "text/plain": [
       "5.68"
      ]
     },
     "execution_count": 36,
     "metadata": {},
     "output_type": "execute_result"
    }
   ],
   "source": [
    "round(5.678, 2)"
   ]
  },
  {
   "cell_type": "markdown",
   "id": "4e5869ac-8ea0-468c-864d-10ee9892e0ac",
   "metadata": {},
   "source": [
    "## sorted"
   ]
  },
  {
   "cell_type": "code",
   "execution_count": 38,
   "id": "a1118d54-f88a-4f43-87b3-5e0ba4f6a0ec",
   "metadata": {},
   "outputs": [
    {
     "data": {
      "text/plain": [
       "[1, 2, 3]"
      ]
     },
     "execution_count": 38,
     "metadata": {},
     "output_type": "execute_result"
    }
   ],
   "source": [
    "sorted([3, 1, 2])"
   ]
  },
  {
   "cell_type": "code",
   "execution_count": 40,
   "id": "e2116ab8-62b5-4900-a99e-b69b5d362924",
   "metadata": {},
   "outputs": [
    {
     "data": {
      "text/plain": [
       "['a', 'b', 'c']"
      ]
     },
     "execution_count": 40,
     "metadata": {},
     "output_type": "execute_result"
    }
   ],
   "source": [
    "sorted(['b', 'c', 'a'])"
   ]
  },
  {
   "cell_type": "code",
   "execution_count": 41,
   "id": "25b56ec0-daeb-46e2-b4ea-81d81f1ecfaf",
   "metadata": {},
   "outputs": [
    {
     "data": {
      "text/plain": [
       "['e', 'o', 'r', 'z']"
      ]
     },
     "execution_count": 41,
     "metadata": {},
     "output_type": "execute_result"
    }
   ],
   "source": [
    "sorted('zero')"
   ]
  },
  {
   "cell_type": "markdown",
   "id": "558aa7fe-01cd-4a58-b50a-5fa33a6c2111",
   "metadata": {},
   "source": [
    "## zip"
   ]
  },
  {
   "cell_type": "code",
   "execution_count": 42,
   "id": "0e948042-1eb2-4d51-90eb-c542ae01991e",
   "metadata": {},
   "outputs": [
    {
     "data": {
      "text/plain": [
       "<zip at 0x1d251d98700>"
      ]
     },
     "execution_count": 42,
     "metadata": {},
     "output_type": "execute_result"
    }
   ],
   "source": [
    "zip([1, 2, 3], [4, 5, 6])"
   ]
  },
  {
   "cell_type": "code",
   "execution_count": 43,
   "id": "7c862b0d-d3bc-4a76-9bfa-38b8775ed6a7",
   "metadata": {},
   "outputs": [
    {
     "data": {
      "text/plain": [
       "[(1, 4), (2, 5), (3, 6)]"
      ]
     },
     "execution_count": 43,
     "metadata": {},
     "output_type": "execute_result"
    }
   ],
   "source": [
    "list(zip([1, 2, 3], [4, 5, 6]))"
   ]
  },
  {
   "cell_type": "code",
   "execution_count": 44,
   "id": "9e04ac66-1761-45dc-b0e2-8d622ce33cfb",
   "metadata": {},
   "outputs": [
    {
     "data": {
      "text/plain": [
       "[(1, 4, 7), (2, 5, 8), (3, 6, 9)]"
      ]
     },
     "execution_count": 44,
     "metadata": {},
     "output_type": "execute_result"
    }
   ],
   "source": [
    "list(zip([1, 2, 3], [4, 5, 6], [7, 8, 9]))"
   ]
  },
  {
   "cell_type": "code",
   "execution_count": 45,
   "id": "6fab6bcd-8c8c-4470-9d9b-9cae7b360c3a",
   "metadata": {},
   "outputs": [
    {
     "data": {
      "text/plain": [
       "[('a', 'd'), ('b', 'e'), ('c', 'f')]"
      ]
     },
     "execution_count": 45,
     "metadata": {},
     "output_type": "execute_result"
    }
   ],
   "source": [
    "list(zip('abc','def'))"
   ]
  },
  {
   "cell_type": "markdown",
   "id": "45c29844-1a0f-4392-aedd-ad51455ff800",
   "metadata": {},
   "source": [
    "# 표준 라이브러리"
   ]
  },
  {
   "cell_type": "markdown",
   "id": "bc291f85-a1bc-42d2-9e12-312255bdde55",
   "metadata": {},
   "source": [
    "## datatime.date"
   ]
  },
  {
   "cell_type": "code",
   "execution_count": 47,
   "id": "b0ef67d1-728c-44c2-af87-eeb3c5bcccc6",
   "metadata": {},
   "outputs": [],
   "source": [
    "import datetime\n",
    "day1 = datetime.date(2024, 5, 2)\n",
    "day2 = datetime.date(2024, 6, 18)"
   ]
  },
  {
   "cell_type": "code",
   "execution_count": 48,
   "id": "104b121a-aad1-4aa6-82fd-4403f82a5270",
   "metadata": {},
   "outputs": [
    {
     "data": {
      "text/plain": [
       "(datetime.date(2024, 5, 2), datetime.date(2024, 6, 18))"
      ]
     },
     "execution_count": 48,
     "metadata": {},
     "output_type": "execute_result"
    }
   ],
   "source": [
    "day1, day2"
   ]
  },
  {
   "cell_type": "code",
   "execution_count": 49,
   "id": "6ec1b286-3e63-4bcc-aff6-84487076fd82",
   "metadata": {},
   "outputs": [
    {
     "data": {
      "text/plain": [
       "47"
      ]
     },
     "execution_count": 49,
     "metadata": {},
     "output_type": "execute_result"
    }
   ],
   "source": [
    "diff = day2 - day1\n",
    "diff.days"
   ]
  },
  {
   "cell_type": "code",
   "execution_count": 51,
   "id": "b899281a-acb6-4f6f-b88f-e447a6a58b1e",
   "metadata": {},
   "outputs": [
    {
     "data": {
      "text/plain": [
       "1"
      ]
     },
     "execution_count": 51,
     "metadata": {},
     "output_type": "execute_result"
    }
   ],
   "source": [
    "day = datetime.date(2024, 6, 18)\n",
    "day.weekday()"
   ]
  },
  {
   "cell_type": "code",
   "execution_count": 52,
   "id": "77599892-5120-4836-a36c-acb453a32829",
   "metadata": {},
   "outputs": [
    {
     "data": {
      "text/plain": [
       "2"
      ]
     },
     "execution_count": 52,
     "metadata": {},
     "output_type": "execute_result"
    }
   ],
   "source": [
    "day.isoweekday()"
   ]
  },
  {
   "cell_type": "markdown",
   "id": "8daebe66-4bbd-4f04-a16c-c2187c2ace82",
   "metadata": {},
   "source": [
    "## time"
   ]
  },
  {
   "cell_type": "code",
   "execution_count": 3,
   "id": "e4919b4a-335d-4599-a8b9-e369cbb8a395",
   "metadata": {},
   "outputs": [
    {
     "data": {
      "text/plain": [
       "1718726007.4723186"
      ]
     },
     "execution_count": 3,
     "metadata": {},
     "output_type": "execute_result"
    }
   ],
   "source": [
    "import time\n",
    "time.time()"
   ]
  },
  {
   "cell_type": "code",
   "execution_count": 54,
   "id": "2d020f93-9bee-4450-a918-848bcca7d33d",
   "metadata": {},
   "outputs": [
    {
     "data": {
      "text/plain": [
       "time.struct_time(tm_year=2024, tm_mon=6, tm_mday=18, tm_hour=15, tm_min=11, tm_sec=40, tm_wday=1, tm_yday=170, tm_isdst=0)"
      ]
     },
     "execution_count": 54,
     "metadata": {},
     "output_type": "execute_result"
    }
   ],
   "source": [
    "time.localtime(time.time())"
   ]
  },
  {
   "cell_type": "code",
   "execution_count": 55,
   "id": "43baf28b-b7f7-435a-af55-c8f931d1fcef",
   "metadata": {},
   "outputs": [
    {
     "data": {
      "text/plain": [
       "'Tue Jun 18 15:12:16 2024'"
      ]
     },
     "execution_count": 55,
     "metadata": {},
     "output_type": "execute_result"
    }
   ],
   "source": [
    "time.asctime(time.localtime(time.time()))"
   ]
  },
  {
   "cell_type": "code",
   "execution_count": 56,
   "id": "af5b0247-cde9-4d96-b4eb-55899f8ddcde",
   "metadata": {},
   "outputs": [
    {
     "data": {
      "text/plain": [
       "'Tue Jun 18 15:12:25 2024'"
      ]
     },
     "execution_count": 56,
     "metadata": {},
     "output_type": "execute_result"
    }
   ],
   "source": [
    "time.ctime()"
   ]
  },
  {
   "cell_type": "code",
   "execution_count": 57,
   "id": "11b68f06-5a3a-456e-8cb7-3013fe86b6f3",
   "metadata": {},
   "outputs": [
    {
     "data": {
      "text/plain": [
       "'06/18/24'"
      ]
     },
     "execution_count": 57,
     "metadata": {},
     "output_type": "execute_result"
    }
   ],
   "source": [
    "time.strftime('%x', time.localtime(time.time()))"
   ]
  },
  {
   "cell_type": "code",
   "execution_count": 59,
   "id": "9cd7792a-2b47-4466-9ff1-ad6a815ebdd4",
   "metadata": {},
   "outputs": [
    {
     "data": {
      "text/plain": [
       "'Tue Jun 18 15:14:54 2024'"
      ]
     },
     "execution_count": 59,
     "metadata": {},
     "output_type": "execute_result"
    }
   ],
   "source": [
    "time.strftime('%c', time.localtime(time.time()))"
   ]
  },
  {
   "cell_type": "code",
   "execution_count": 4,
   "id": "39e8fcdc-2bc0-4fc6-bc78-86f9e2e61f45",
   "metadata": {},
   "outputs": [
    {
     "name": "stdout",
     "output_type": "stream",
     "text": [
      "0\n",
      "1\n",
      "2\n",
      "3\n",
      "4\n",
      "5\n",
      "6\n",
      "7\n",
      "8\n",
      "9\n"
     ]
    }
   ],
   "source": [
    "for i in range(10) :\n",
    "    print(i)\n",
    "    time.sleep(1)"
   ]
  },
  {
   "cell_type": "markdown",
   "id": "f97c891d-934b-4406-ab4f-b1f97c6c8ae4",
   "metadata": {},
   "source": [
    "## random"
   ]
  },
  {
   "cell_type": "code",
   "execution_count": 61,
   "id": "fe27ccc9-39fa-4ed5-9e76-efad6de64901",
   "metadata": {},
   "outputs": [
    {
     "data": {
      "text/plain": [
       "0.35964202046899074"
      ]
     },
     "execution_count": 61,
     "metadata": {},
     "output_type": "execute_result"
    }
   ],
   "source": [
    "import random\n",
    "random.random()"
   ]
  },
  {
   "cell_type": "code",
   "execution_count": 62,
   "id": "79d098ee-6e10-4429-a80e-17b16334c191",
   "metadata": {},
   "outputs": [
    {
     "data": {
      "text/plain": [
       "0.2399467352910658"
      ]
     },
     "execution_count": 62,
     "metadata": {},
     "output_type": "execute_result"
    }
   ],
   "source": [
    "random.random()"
   ]
  },
  {
   "cell_type": "code",
   "execution_count": 66,
   "id": "ccd01206-f412-4832-8d8f-61f08c8c77ff",
   "metadata": {},
   "outputs": [
    {
     "data": {
      "text/plain": [
       "10"
      ]
     },
     "execution_count": 66,
     "metadata": {},
     "output_type": "execute_result"
    }
   ],
   "source": [
    "random.randint(1,10)"
   ]
  },
  {
   "cell_type": "code",
   "execution_count": 67,
   "id": "28664064-ef19-425f-a5c2-1730cb89390b",
   "metadata": {},
   "outputs": [
    {
     "data": {
      "text/plain": [
       "\u001b[1;31mSignature:\u001b[0m \u001b[0mrandom\u001b[0m\u001b[1;33m.\u001b[0m\u001b[0mrandint\u001b[0m\u001b[1;33m(\u001b[0m\u001b[0ma\u001b[0m\u001b[1;33m,\u001b[0m \u001b[0mb\u001b[0m\u001b[1;33m)\u001b[0m\u001b[1;33m\u001b[0m\u001b[1;33m\u001b[0m\u001b[0m\n",
       "\u001b[1;31mDocstring:\u001b[0m\n",
       "Return random integer in range [a, b], including both end points.\n",
       "        \n",
       "\u001b[1;31mFile:\u001b[0m      c:\\users\\rhals\\anaconda3\\lib\\random.py\n",
       "\u001b[1;31mType:\u001b[0m      method"
      ]
     },
     "metadata": {},
     "output_type": "display_data"
    }
   ],
   "source": [
    "random.randint?"
   ]
  },
  {
   "cell_type": "code",
   "execution_count": 69,
   "id": "22165bf4-6164-43fb-8ee6-2210943354ef",
   "metadata": {},
   "outputs": [
    {
     "data": {
      "text/plain": [
       "36"
      ]
     },
     "execution_count": 69,
     "metadata": {},
     "output_type": "execute_result"
    }
   ],
   "source": [
    "random.randint(1, 45)"
   ]
  },
  {
   "cell_type": "markdown",
   "id": "3e9dd830-8fb0-41a0-be67-cb92a5eabf2c",
   "metadata": {},
   "source": [
    "### Quiz : 로또 번호 뽑기"
   ]
  },
  {
   "cell_type": "code",
   "execution_count": 78,
   "id": "f7d81ae0-13d3-4d06-845a-938f24bf3c5e",
   "metadata": {},
   "outputs": [
    {
     "name": "stdout",
     "output_type": "stream",
     "text": [
      "[41, 2, 24, 20, 19, 10]\n"
     ]
    }
   ],
   "source": [
    "lotto = []\n",
    "for i in range(6) :\n",
    "    lotto.append(random.randint(1, 45))\n",
    "\n",
    "print(lotto)"
   ]
  },
  {
   "cell_type": "code",
   "execution_count": 80,
   "id": "43f36c18-e8dd-4734-bdf8-1ee8f78623e2",
   "metadata": {},
   "outputs": [
    {
     "name": "stdout",
     "output_type": "stream",
     "text": [
      "[28, 3, 19, 31, 27, 38]\n"
     ]
    }
   ],
   "source": [
    "import random\n",
    "로또번호 = []\n",
    "while len(로또번호) < 6:\n",
    "    번호 = random.randint(1, 45)\n",
    "    if 번호 not in 로또번호:\n",
    "        로또번호.append(번호)\n",
    "\n",
    "print(로또번호)"
   ]
  },
  {
   "cell_type": "code",
   "execution_count": 85,
   "id": "ab88d341-a98e-41b5-a1ae-7e97fde58c07",
   "metadata": {},
   "outputs": [],
   "source": [
    "import random\n",
    "def random_pop(data) :\n",
    "    number = random.randint(0, len(data)-1)\n",
    "    return data.pop(number)"
   ]
  },
  {
   "cell_type": "code",
   "execution_count": 86,
   "id": "a496349c-9320-4bef-9255-6bfa7c432986",
   "metadata": {},
   "outputs": [
    {
     "name": "stdout",
     "output_type": "stream",
     "text": [
      "1\n",
      "4\n",
      "5\n",
      "2\n",
      "3\n"
     ]
    }
   ],
   "source": [
    "data = [1, 2, 3, 4, 5]\n",
    "while data :\n",
    "    print(random_pop(data))"
   ]
  },
  {
   "cell_type": "code",
   "execution_count": 83,
   "id": "a0c68854-9e98-451d-86ea-6c20770ddfa6",
   "metadata": {},
   "outputs": [],
   "source": [
    "def random_pop(data) :\n",
    "    number = random.choice(data)\n",
    "    data.remove(number)\n",
    "    return number"
   ]
  },
  {
   "cell_type": "code",
   "execution_count": 84,
   "id": "c8ccefcc-3295-4012-b2ed-3fd7d8d7f3ea",
   "metadata": {},
   "outputs": [
    {
     "data": {
      "text/plain": [
       "[5, 4, 2, 1, 3]"
      ]
     },
     "execution_count": 84,
     "metadata": {},
     "output_type": "execute_result"
    }
   ],
   "source": [
    "import random\n",
    "data = [1, 2, 3, 4, 5]\n",
    "random.sample(data, len(data))"
   ]
  },
  {
   "cell_type": "code",
   "execution_count": 87,
   "id": "082eb650-1ff2-4c8d-8a63-fdbd9858e206",
   "metadata": {},
   "outputs": [
    {
     "data": {
      "text/plain": [
       "\u001b[1;31mSignature:\u001b[0m \u001b[0mrandom\u001b[0m\u001b[1;33m.\u001b[0m\u001b[0msample\u001b[0m\u001b[1;33m(\u001b[0m\u001b[0mpopulation\u001b[0m\u001b[1;33m,\u001b[0m \u001b[0mk\u001b[0m\u001b[1;33m,\u001b[0m \u001b[1;33m*\u001b[0m\u001b[1;33m,\u001b[0m \u001b[0mcounts\u001b[0m\u001b[1;33m=\u001b[0m\u001b[1;32mNone\u001b[0m\u001b[1;33m)\u001b[0m\u001b[1;33m\u001b[0m\u001b[1;33m\u001b[0m\u001b[0m\n",
       "\u001b[1;31mDocstring:\u001b[0m\n",
       "Chooses k unique random elements from a population sequence.\n",
       "\n",
       "Returns a new list containing elements from the population while\n",
       "leaving the original population unchanged.  The resulting list is\n",
       "in selection order so that all sub-slices will also be valid random\n",
       "samples.  This allows raffle winners (the sample) to be partitioned\n",
       "into grand prize and second place winners (the subslices).\n",
       "\n",
       "Members of the population need not be hashable or unique.  If the\n",
       "population contains repeats, then each occurrence is a possible\n",
       "selection in the sample.\n",
       "\n",
       "Repeated elements can be specified one at a time or with the optional\n",
       "counts parameter.  For example:\n",
       "\n",
       "    sample(['red', 'blue'], counts=[4, 2], k=5)\n",
       "\n",
       "is equivalent to:\n",
       "\n",
       "    sample(['red', 'red', 'red', 'red', 'blue', 'blue'], k=5)\n",
       "\n",
       "To choose a sample from a range of integers, use range() for the\n",
       "population argument.  This is especially fast and space efficient\n",
       "for sampling from a large population:\n",
       "\n",
       "    sample(range(10000000), 60)\n",
       "\u001b[1;31mFile:\u001b[0m      c:\\users\\rhals\\anaconda3\\lib\\random.py\n",
       "\u001b[1;31mType:\u001b[0m      method"
      ]
     },
     "metadata": {},
     "output_type": "display_data"
    }
   ],
   "source": [
    "random.sample?"
   ]
  },
  {
   "cell_type": "code",
   "execution_count": 88,
   "id": "5c9e0a1f-334c-4211-9cce-04f2848c9d7b",
   "metadata": {},
   "outputs": [
    {
     "data": {
      "text/plain": [
       "[5, 4, 3, 2, 1]"
      ]
     },
     "execution_count": 88,
     "metadata": {},
     "output_type": "execute_result"
    }
   ],
   "source": [
    "import random\n",
    "data = [1, 2, 3, 4, 5]\n",
    "random.sample(data, 5)"
   ]
  },
  {
   "cell_type": "code",
   "execution_count": 92,
   "id": "86f11541-922d-488e-8361-61fea8e6cd2c",
   "metadata": {},
   "outputs": [
    {
     "ename": "NameError",
     "evalue": "name 'np' is not defined",
     "output_type": "error",
     "traceback": [
      "\u001b[1;31m---------------------------------------------------------------------------\u001b[0m",
      "\u001b[1;31mNameError\u001b[0m                                 Traceback (most recent call last)",
      "Cell \u001b[1;32mIn[92], line 1\u001b[0m\n\u001b[1;32m----> 1\u001b[0m np\u001b[38;5;241m.\u001b[39mrandom\u001b[38;5;241m.\u001b[39mchoice(data, \u001b[38;5;241m5\u001b[39m, replace \u001b[38;5;241m=\u001b[39m \u001b[38;5;28;01mFalse\u001b[39;00m)\n",
      "\u001b[1;31mNameError\u001b[0m: name 'np' is not defined"
     ]
    }
   ],
   "source": [
    "np.random.choice(data, 5, replace = False)"
   ]
  },
  {
   "cell_type": "markdown",
   "id": "9dcb387a-df5e-4f13-912c-59d988a982e9",
   "metadata": {},
   "source": [
    "## glob"
   ]
  },
  {
   "cell_type": "code",
   "execution_count": 93,
   "id": "c71fdcf8-9d57-40aa-b8dc-5b8975fd1616",
   "metadata": {},
   "outputs": [
    {
     "data": {
      "text/plain": [
       "'C:\\\\workspace\\\\wassup3\\\\01_Python_grammar'"
      ]
     },
     "execution_count": 93,
     "metadata": {},
     "output_type": "execute_result"
    }
   ],
   "source": [
    "pwd"
   ]
  },
  {
   "cell_type": "code",
   "execution_count": 98,
   "id": "94b055ec-975d-4205-bc47-29a1784be9bf",
   "metadata": {},
   "outputs": [
    {
     "data": {
      "text/plain": [
       "['C:\\\\workspace\\\\wassup3\\\\01_Python_grammar\\\\01_DatatypeVariable.ipynb',\n",
       " 'C:\\\\workspace\\\\wassup3\\\\01_Python_grammar\\\\01_DatatypeVariable_practice-완.ipynb',\n",
       " 'C:\\\\workspace\\\\wassup3\\\\01_Python_grammar\\\\01_Datatype_Variable_Practice_Answer.ipynb',\n",
       " 'C:\\\\workspace\\\\wassup3\\\\01_Python_grammar\\\\01_자료형과 변수.ipynb',\n",
       " 'C:\\\\workspace\\\\wassup3\\\\01_Python_grammar\\\\02_Control_Statement.ipynb',\n",
       " 'C:\\\\workspace\\\\wassup3\\\\01_Python_grammar\\\\02_Control_Statement_Practice.ipynb',\n",
       " 'C:\\\\workspace\\\\wassup3\\\\01_Python_grammar\\\\02_제어문.ipynb',\n",
       " 'C:\\\\workspace\\\\wassup3\\\\01_Python_grammar\\\\03_Coding_Practice_PhoneBookProgram.ipynb',\n",
       " 'C:\\\\workspace\\\\wassup3\\\\01_Python_grammar\\\\03_함수와 입출력.ipynb',\n",
       " 'C:\\\\workspace\\\\wassup3\\\\01_Python_grammar\\\\04_Function_IO.ipynb',\n",
       " 'C:\\\\workspace\\\\wassup3\\\\01_Python_grammar\\\\04_Function__IO_Practice완.ipynb',\n",
       " 'C:\\\\workspace\\\\wassup3\\\\01_Python_grammar\\\\05_Class_Module_Practice.ipynb',\n",
       " 'C:\\\\workspace\\\\wassup3\\\\01_Python_grammar\\\\05_Class_Module_Practice_Answer.ipynb',\n",
       " 'C:\\\\workspace\\\\wassup3\\\\01_Python_grammar\\\\05_클래스와 예외처리.ipynb',\n",
       " 'C:\\\\workspace\\\\wassup3\\\\01_Python_grammar\\\\06_Built-in-Function.ipynb',\n",
       " 'C:\\\\workspace\\\\wassup3\\\\01_Python_grammar\\\\ProgramPhoneBook0.2.ipynb',\n",
       " 'C:\\\\workspace\\\\wassup3\\\\01_Python_grammar\\\\연습문제1.ipynb',\n",
       " 'C:\\\\workspace\\\\wassup3\\\\01_Python_grammar\\\\연습장 300문제.ipynb']"
      ]
     },
     "execution_count": 98,
     "metadata": {},
     "output_type": "execute_result"
    }
   ],
   "source": [
    "import glob\n",
    "glob.glob('C:\\\\workspace\\\\wassup3\\\\01_Python_grammar/*.ipynb') # glob 모듈 안에 glob 함수를 사용하겠다."
   ]
  },
  {
   "cell_type": "markdown",
   "id": "3cb747ba-cd29-47aa-8348-fa4418682608",
   "metadata": {},
   "source": [
    "### Quiz : 해당 결로에서 노트북파일의 \"이름\"만 추출해보세요."
   ]
  },
  {
   "cell_type": "code",
   "execution_count": 13,
   "id": "c81705df-b831-4e0a-9356-c9eb6137712d",
   "metadata": {},
   "outputs": [
    {
     "name": "stdout",
     "output_type": "stream",
     "text": [
      "['C:\\\\workspace\\\\wassup3\\\\01_Python_grammar\\\\01_DatatypeVariable.ipynb', 'C:\\\\workspace\\\\wassup3\\\\01_Python_grammar\\\\01_DatatypeVariable_practice-완.ipynb', 'C:\\\\workspace\\\\wassup3\\\\01_Python_grammar\\\\01_Datatype_Variable_Practice_Answer.ipynb', 'C:\\\\workspace\\\\wassup3\\\\01_Python_grammar\\\\01_자료형과 변수.ipynb', 'C:\\\\workspace\\\\wassup3\\\\01_Python_grammar\\\\02_Control_Statement.ipynb', 'C:\\\\workspace\\\\wassup3\\\\01_Python_grammar\\\\02_Control_Statement_Practice.ipynb', 'C:\\\\workspace\\\\wassup3\\\\01_Python_grammar\\\\02_제어문.ipynb', 'C:\\\\workspace\\\\wassup3\\\\01_Python_grammar\\\\03_Coding_Practice_PhoneBookProgram.ipynb', 'C:\\\\workspace\\\\wassup3\\\\01_Python_grammar\\\\03_함수와 입출력.ipynb', 'C:\\\\workspace\\\\wassup3\\\\01_Python_grammar\\\\04_Function_IO.ipynb', 'C:\\\\workspace\\\\wassup3\\\\01_Python_grammar\\\\04_Function__IO_Practice완.ipynb', 'C:\\\\workspace\\\\wassup3\\\\01_Python_grammar\\\\05_Class_Module_Practice.ipynb', 'C:\\\\workspace\\\\wassup3\\\\01_Python_grammar\\\\05_Class_Module_Practice_Answer.ipynb', 'C:\\\\workspace\\\\wassup3\\\\01_Python_grammar\\\\05_클래스와 예외처리.ipynb', 'C:\\\\workspace\\\\wassup3\\\\01_Python_grammar\\\\06_Built-in-Function.ipynb', 'C:\\\\workspace\\\\wassup3\\\\01_Python_grammar\\\\ProgramPhoneBook0.2.ipynb', 'C:\\\\workspace\\\\wassup3\\\\01_Python_grammar\\\\연습문제1.ipynb', 'C:\\\\workspace\\\\wassup3\\\\01_Python_grammar\\\\연습장 300문제.ipynb']\n"
     ]
    }
   ],
   "source": [
    "import glob\n",
    "glob.glob('C:\\\\workspace\\\\wassup3\\\\01_Python_grammar/*.ipynb') == b\n",
    "print(b)"
   ]
  },
  {
   "cell_type": "code",
   "execution_count": 44,
   "id": "52ec484e-f5fc-463d-b9f1-0a6e569f205a",
   "metadata": {},
   "outputs": [
    {
     "name": "stdout",
     "output_type": "stream",
     "text": [
      "01_DatatypeVariable\n",
      "01_DatatypeVariable_practice-완\n",
      "01_Datatype_Variable_Practice_Answer\n",
      "01_자료형과 변수\n",
      "02_Control_Statement\n",
      "02_Control_Statement_Practice\n",
      "02_제어문\n",
      "03_Coding_Practice_PhoneBookProgram\n",
      "03_함수와 입출력\n",
      "04_Function_IO\n",
      "04_Function__IO_Practice완\n",
      "05_Class_Module_Practice\n",
      "05_Class_Module_Practice_Answer\n",
      "05_클래스와 예외처리\n",
      "06_Built-in-Function\n",
      "ProgramPhoneBook0\n",
      "연습문제1\n",
      "연습장 300문제\n"
     ]
    }
   ],
   "source": [
    "import glob\n",
    "\n",
    "b == glob.glob('C:\\\\workspace\\\\wassup3\\\\01_Python_grammar/*.ipynb')\n",
    "\n",
    "for i in b : # b는 전체고 i는 b에 요소값\n",
    "    print(i.split('\\\\')[4].split('.')[0])\n"
   ]
  },
  {
   "cell_type": "code",
   "execution_count": 29,
   "id": "c08d9323-da79-435d-afe9-5fb2bbd642f7",
   "metadata": {},
   "outputs": [
    {
     "name": "stdout",
     "output_type": "stream",
     "text": [
      "01_DatatypeVariable\n",
      "01_DatatypeVariable_practice-완\n",
      "01_Datatype_Variable_Practice_Answer\n",
      "01_자료형과 변수\n",
      "02_Control_Statement\n",
      "02_Control_Statement_Practice\n",
      "02_제어문\n",
      "03_Coding_Practice_PhoneBookProgram\n",
      "03_함수와 입출력\n",
      "04_Function_IO\n",
      "04_Function__IO_Practice완\n",
      "05_Class_Module_Practice\n",
      "05_Class_Module_Practice_Answer\n",
      "05_클래스와 예외처리\n",
      "06_Built-in-Function\n",
      "ProgramPhoneBook0\n",
      "연습문제1\n",
      "연습장 300문제\n"
     ]
    }
   ],
   "source": [
    "import os\n",
    "filepath = glob.glob(os.getcwd()+'/*.ipynb')\n",
    "\n",
    "for file in filepath :\n",
    "    print(file.split('\\\\')[-1].split('.')[0])\n",
    "                     "
   ]
  },
  {
   "cell_type": "code",
   "execution_count": 30,
   "id": "27ec053a-7fbf-4470-987c-dff3909e0f35",
   "metadata": {},
   "outputs": [
    {
     "data": {
      "text/plain": [
       "'C:\\\\workspace\\\\wassup3\\\\01_Python_grammar'"
      ]
     },
     "execution_count": 30,
     "metadata": {},
     "output_type": "execute_result"
    }
   ],
   "source": [
    "os.getcwd()"
   ]
  },
  {
   "cell_type": "code",
   "execution_count": 31,
   "id": "f9b0b5d1-06e3-4c54-80fc-177d0148ceb3",
   "metadata": {},
   "outputs": [],
   "source": [
    "os.chdir('c:\\windows')"
   ]
  },
  {
   "cell_type": "code",
   "execution_count": 36,
   "id": "768af470-9bef-4d99-ba47-3b48092d0336",
   "metadata": {},
   "outputs": [
    {
     "data": {
      "text/plain": [
       "'c:\\\\windows'"
      ]
     },
     "execution_count": 36,
     "metadata": {},
     "output_type": "execute_result"
    }
   ],
   "source": [
    "os.getcwd()"
   ]
  },
  {
   "cell_type": "code",
   "execution_count": 37,
   "id": "11caae44-b3af-4d2e-b0f6-bea1f9aaf229",
   "metadata": {},
   "outputs": [
    {
     "data": {
      "text/plain": [
       "0"
      ]
     },
     "execution_count": 37,
     "metadata": {},
     "output_type": "execute_result"
    }
   ],
   "source": [
    "os.system(\"dir\")"
   ]
  },
  {
   "cell_type": "code",
   "execution_count": 45,
   "id": "7357c40a-3e0d-4c99-afdf-d519616a045a",
   "metadata": {},
   "outputs": [],
   "source": [
    "os.chdir('C:\\\\workspace\\\\wassup3\\\\01_Python_grammar')"
   ]
  },
  {
   "cell_type": "markdown",
   "id": "b6142194-c3f3-4f4b-b57b-7b0fdda3bdfd",
   "metadata": {},
   "source": [
    "## json"
   ]
  },
  {
   "cell_type": "code",
   "execution_count": null,
   "id": "0da4791a-7c6d-4e67-8a3d-388ce22afc60",
   "metadata": {},
   "outputs": [],
   "source": [
    "myinfo = {\n",
    "    \"name\" : \"홍길동\",\n",
    "    \"birth\" : \"0525\",\n",
    "    \"age\" : 30\n",
    "}"
   ]
  },
  {
   "cell_type": "code",
   "execution_count": 46,
   "id": "68062798-4e0b-4806-ae7c-db772bf9f9fb",
   "metadata": {},
   "outputs": [],
   "source": [
    "import json\n",
    "data = {\"name\" : \"홍길동\",\n",
    "    \"birth\" : \"0525\",\n",
    "    \"age\" : 30\n",
    "       }\n",
    "\n",
    "with open('output/myinfo.json', 'w') as f :\n",
    "    json.dump(data, f)"
   ]
  },
  {
   "cell_type": "code",
   "execution_count": null,
   "id": "9f496c68-6af1-44b4-aef4-435a0859af8b",
   "metadata": {},
   "outputs": [],
   "source": [
    "import json\n",
    "with open('output/myinfo.json') as f :\n",
    "    data = json.load(f)\n",
    "\n",
    "type"
   ]
  },
  {
   "cell_type": "code",
   "execution_count": 49,
   "id": "217b6af0-ecba-4655-9640-c619680f51cb",
   "metadata": {},
   "outputs": [
    {
     "data": {
      "text/plain": [
       "\u001b[1;31mSignature:\u001b[0m\n",
       "\u001b[0mjson\u001b[0m\u001b[1;33m.\u001b[0m\u001b[0mload\u001b[0m\u001b[1;33m(\u001b[0m\u001b[1;33m\n",
       "\u001b[0m    \u001b[0mfp\u001b[0m\u001b[1;33m,\u001b[0m\u001b[1;33m\n",
       "\u001b[0m    \u001b[1;33m*\u001b[0m\u001b[1;33m,\u001b[0m\u001b[1;33m\n",
       "\u001b[0m    \u001b[0mcls\u001b[0m\u001b[1;33m=\u001b[0m\u001b[1;32mNone\u001b[0m\u001b[1;33m,\u001b[0m\u001b[1;33m\n",
       "\u001b[0m    \u001b[0mobject_hook\u001b[0m\u001b[1;33m=\u001b[0m\u001b[1;32mNone\u001b[0m\u001b[1;33m,\u001b[0m\u001b[1;33m\n",
       "\u001b[0m    \u001b[0mparse_float\u001b[0m\u001b[1;33m=\u001b[0m\u001b[1;32mNone\u001b[0m\u001b[1;33m,\u001b[0m\u001b[1;33m\n",
       "\u001b[0m    \u001b[0mparse_int\u001b[0m\u001b[1;33m=\u001b[0m\u001b[1;32mNone\u001b[0m\u001b[1;33m,\u001b[0m\u001b[1;33m\n",
       "\u001b[0m    \u001b[0mparse_constant\u001b[0m\u001b[1;33m=\u001b[0m\u001b[1;32mNone\u001b[0m\u001b[1;33m,\u001b[0m\u001b[1;33m\n",
       "\u001b[0m    \u001b[0mobject_pairs_hook\u001b[0m\u001b[1;33m=\u001b[0m\u001b[1;32mNone\u001b[0m\u001b[1;33m,\u001b[0m\u001b[1;33m\n",
       "\u001b[0m    \u001b[1;33m**\u001b[0m\u001b[0mkw\u001b[0m\u001b[1;33m,\u001b[0m\u001b[1;33m\n",
       "\u001b[0m\u001b[1;33m)\u001b[0m\u001b[1;33m\u001b[0m\u001b[1;33m\u001b[0m\u001b[0m\n",
       "\u001b[1;31mDocstring:\u001b[0m\n",
       "Deserialize ``fp`` (a ``.read()``-supporting file-like object containing\n",
       "a JSON document) to a Python object.\n",
       "\n",
       "``object_hook`` is an optional function that will be called with the\n",
       "result of any object literal decode (a ``dict``). The return value of\n",
       "``object_hook`` will be used instead of the ``dict``. This feature\n",
       "can be used to implement custom decoders (e.g. JSON-RPC class hinting).\n",
       "\n",
       "``object_pairs_hook`` is an optional function that will be called with the\n",
       "result of any object literal decoded with an ordered list of pairs.  The\n",
       "return value of ``object_pairs_hook`` will be used instead of the ``dict``.\n",
       "This feature can be used to implement custom decoders.  If ``object_hook``\n",
       "is also defined, the ``object_pairs_hook`` takes priority.\n",
       "\n",
       "To use a custom ``JSONDecoder`` subclass, specify it with the ``cls``\n",
       "kwarg; otherwise ``JSONDecoder`` is used.\n",
       "\u001b[1;31mFile:\u001b[0m      c:\\users\\rhals\\anaconda3\\lib\\json\\__init__.py\n",
       "\u001b[1;31mType:\u001b[0m      function"
      ]
     },
     "metadata": {},
     "output_type": "display_data"
    }
   ],
   "source": [
    "json.load?"
   ]
  },
  {
   "cell_type": "code",
   "execution_count": 47,
   "id": "3ac33409-0a89-433b-8d47-4e83e1f9dc9a",
   "metadata": {},
   "outputs": [
    {
     "name": "stdout",
     "output_type": "stream",
     "text": [
      "{\"name\": \"홍길동\", \"birth\": \"0525\", \"age\": 30}\n"
     ]
    }
   ],
   "source": [
    "d = {\"name\" : \"홍길동\",\n",
    "    \"birth\" : \"0525\",\n",
    "    \"age\" : 30}\n",
    "print(json.dumps(d, ensure_ascii=False))"
   ]
  },
  {
   "cell_type": "code",
   "execution_count": 48,
   "id": "52893d55-70bf-4de6-9f98-e9360eb1998e",
   "metadata": {},
   "outputs": [
    {
     "name": "stdout",
     "output_type": "stream",
     "text": [
      "{\n",
      "  \"name\": \"홍길동\",\n",
      "  \"birth\": \"0525\",\n",
      "  \"age\": 30\n",
      "}\n"
     ]
    }
   ],
   "source": [
    "print(json.dumps(d, indent=2, ensure_ascii=False))"
   ]
  },
  {
   "cell_type": "markdown",
   "id": "dbc52643-614c-4450-b282-1359b72f80fd",
   "metadata": {},
   "source": [
    "## urllib"
   ]
  },
  {
   "cell_type": "code",
   "execution_count": 57,
   "id": "a20845f5-22e0-458c-a2cd-79f213534af5",
   "metadata": {},
   "outputs": [],
   "source": [
    "import urllib"
   ]
  },
  {
   "cell_type": "code",
   "execution_count": 63,
   "id": "976267ed-95cb-488a-b810-5e63f456fb33",
   "metadata": {},
   "outputs": [],
   "source": [
    "def get_wikidocs(page):\n",
    "    resource = 'https://wikidocs.net/{}'.format(page)\n",
    "    with urllib.request.urlopen(resource) as s:\n",
    "        with open('wikidocs_%s.html' % page, 'wb') as f:\n",
    "            f.write(s.read())"
   ]
  },
  {
   "cell_type": "code",
   "execution_count": 80,
   "id": "a4fa68a2-de2c-4776-ae3c-94abcf7568ef",
   "metadata": {},
   "outputs": [],
   "source": [
    "get_wikidocs(33)"
   ]
  },
  {
   "cell_type": "markdown",
   "id": "af8b59d7-1ffd-4f75-ac5b-f02636f0c781",
   "metadata": {},
   "source": [
    "## Webbrower"
   ]
  },
  {
   "cell_type": "code",
   "execution_count": 53,
   "id": "64c4b8df-f37a-4ce4-a1e0-9094eaeff029",
   "metadata": {},
   "outputs": [
    {
     "data": {
      "text/plain": [
       "True"
      ]
     },
     "execution_count": 53,
     "metadata": {},
     "output_type": "execute_result"
    }
   ],
   "source": [
    "import webbrowser\n",
    "webbrowser.open_new('http://python.org')"
   ]
  },
  {
   "cell_type": "markdown",
   "id": "ced41652-1b24-4188-bf84-192dce35b9fa",
   "metadata": {},
   "source": [
    "# 외부 라이브러리"
   ]
  },
  {
   "cell_type": "code",
   "execution_count": 82,
   "id": "d11c0710-820a-4290-944d-4a9561031ed2",
   "metadata": {},
   "outputs": [
    {
     "name": "stdout",
     "output_type": "stream",
     "text": [
      "Package                           Version\n",
      "--------------------------------- ------------\n",
      "aiobotocore                       2.7.0\n",
      "aiohttp                           3.9.3\n",
      "aioitertools                      0.7.1\n",
      "aiosignal                         1.2.0\n",
      "alabaster                         0.7.12\n",
      "altair                            5.0.1\n",
      "anaconda-anon-usage               0.4.3\n",
      "anaconda-catalogs                 0.2.0\n",
      "anaconda-client                   1.12.3\n",
      "anaconda-cloud-auth               0.1.4\n",
      "anaconda-navigator                2.5.2\n",
      "anaconda-project                  0.11.1\n",
      "anyio                             4.2.0\n",
      "appdirs                           1.4.4\n",
      "archspec                          0.2.1\n",
      "argon2-cffi                       21.3.0\n",
      "argon2-cffi-bindings              21.2.0\n",
      "arrow                             1.2.3\n",
      "astroid                           2.14.2\n",
      "astropy                           5.3.4\n",
      "asttokens                         2.0.5\n",
      "async-lru                         2.0.4\n",
      "atomicwrites                      1.4.0\n",
      "attrs                             23.1.0\n",
      "Automat                           20.2.0\n",
      "autopep8                          1.6.0\n",
      "Babel                             2.11.0\n",
      "backports.functools-lru-cache     1.6.4\n",
      "backports.tempfile                1.0\n",
      "backports.weakref                 1.0.post1\n",
      "bcrypt                            3.2.0\n",
      "beautifulsoup4                    4.12.2\n",
      "binaryornot                       0.4.4\n",
      "black                             23.11.0\n",
      "bleach                            4.1.0\n",
      "blinker                           1.6.2\n",
      "bokeh                             3.3.4\n",
      "boltons                           23.0.0\n",
      "botocore                          1.31.64\n",
      "Bottleneck                        1.3.7\n",
      "Brotli                            1.0.9\n",
      "cachetools                        4.2.2\n",
      "certifi                           2024.2.2\n",
      "cffi                              1.16.0\n",
      "chardet                           4.0.0\n",
      "charset-normalizer                2.0.4\n",
      "click                             8.1.7\n",
      "cloudpickle                       2.2.1\n",
      "clyent                            1.2.2\n",
      "colorama                          0.4.6\n",
      "colorcet                          3.0.1\n",
      "comm                              0.1.2\n",
      "conda                             24.1.2\n",
      "conda-build                       24.1.2\n",
      "conda-content-trust               0.2.0\n",
      "conda_index                       0.4.0\n",
      "conda-libmamba-solver             24.1.0\n",
      "conda-pack                        0.6.0\n",
      "conda-package-handling            2.2.0\n",
      "conda_package_streaming           0.9.0\n",
      "conda-repo-cli                    1.0.75\n",
      "conda-token                       0.4.0\n",
      "conda-verify                      3.4.2\n",
      "constantly                        23.10.4\n",
      "contourpy                         1.2.0\n",
      "cookiecutter                      2.5.0\n",
      "cryptography                      42.0.2\n",
      "cssselect                         1.2.0\n",
      "cycler                            0.11.0\n",
      "cytoolz                           0.12.2\n",
      "dask                              2023.11.0\n",
      "datashader                        0.16.0\n",
      "debugpy                           1.6.7\n",
      "decorator                         5.1.1\n",
      "defusedxml                        0.7.1\n",
      "diff-match-patch                  20200713\n",
      "dill                              0.3.7\n",
      "distributed                       2023.11.0\n",
      "distro                            1.8.0\n",
      "docstring-to-markdown             0.11\n",
      "docutils                          0.18.1\n",
      "entrypoints                       0.4\n",
      "et-xmlfile                        1.1.0\n",
      "executing                         0.8.3\n",
      "fastjsonschema                    2.16.2\n",
      "filelock                          3.13.1\n",
      "flake8                            6.0.0\n",
      "Flask                             2.2.5\n",
      "fonttools                         4.25.0\n",
      "frozenlist                        1.4.0\n",
      "fsspec                            2023.10.0\n",
      "future                            0.18.3\n",
      "gensim                            4.3.0\n",
      "gitdb                             4.0.7\n",
      "GitPython                         3.1.37\n",
      "gmpy2                             2.1.2\n",
      "greenlet                          3.0.1\n",
      "h5py                              3.9.0\n",
      "HeapDict                          1.0.1\n",
      "holoviews                         1.18.3\n",
      "hvplot                            0.9.2\n",
      "hyperlink                         21.0.0\n",
      "idna                              3.4\n",
      "imagecodecs                       2023.1.23\n",
      "imageio                           2.33.1\n",
      "imagesize                         1.4.1\n",
      "imbalanced-learn                  0.11.0\n",
      "importlib-metadata                7.0.1\n",
      "incremental                       22.10.0\n",
      "inflection                        0.5.1\n",
      "iniconfig                         1.1.1\n",
      "intake                            0.6.8\n",
      "intervaltree                      3.1.0\n",
      "ipykernel                         6.28.0\n",
      "ipython                           8.20.0\n",
      "ipython-genutils                  0.2.0\n",
      "ipywidgets                        7.6.5\n",
      "isort                             5.9.3\n",
      "itemadapter                       0.3.0\n",
      "itemloaders                       1.1.0\n",
      "itsdangerous                      2.0.1\n",
      "jaraco.classes                    3.2.1\n",
      "jedi                              0.18.1\n",
      "jellyfish                         1.0.1\n",
      "Jinja2                            3.1.3\n",
      "jmespath                          1.0.1\n",
      "joblib                            1.2.0\n",
      "json5                             0.9.6\n",
      "jsonpatch                         1.32\n",
      "jsonpointer                       2.1\n",
      "jsonschema                        4.19.2\n",
      "jsonschema-specifications         2023.7.1\n",
      "jupyter                           1.0.0\n",
      "jupyter_client                    8.6.0\n",
      "jupyter-console                   6.6.3\n",
      "jupyter_core                      5.5.0\n",
      "jupyter-events                    0.8.0\n",
      "jupyter-lsp                       2.2.0\n",
      "jupyter_server                    2.10.0\n",
      "jupyter_server_terminals          0.4.4\n",
      "jupyterlab                        4.0.11\n",
      "jupyterlab-pygments               0.1.2\n",
      "jupyterlab_server                 2.25.1\n",
      "jupyterlab-widgets                3.0.9\n",
      "keyring                           23.13.1\n",
      "kiwisolver                        1.4.4\n",
      "lazy_loader                       0.3\n",
      "lazy-object-proxy                 1.6.0\n",
      "lckr_jupyterlab_variableinspector 3.1.0\n",
      "libarchive-c                      2.9\n",
      "libmambapy                        1.5.6\n",
      "linkify-it-py                     2.0.0\n",
      "llvmlite                          0.42.0\n",
      "lmdb                              1.4.1\n",
      "locket                            1.0.0\n",
      "lxml                              4.9.3\n",
      "lz4                               4.3.2\n",
      "Markdown                          3.4.1\n",
      "markdown-it-py                    2.2.0\n",
      "MarkupSafe                        2.1.3\n",
      "matplotlib                        3.8.0\n",
      "matplotlib-inline                 0.1.6\n",
      "mccabe                            0.7.0\n",
      "mdit-py-plugins                   0.3.0\n",
      "mdurl                             0.1.0\n",
      "menuinst                          2.0.2\n",
      "mistune                           2.0.4\n",
      "mkl-fft                           1.3.8\n",
      "mkl-random                        1.2.4\n",
      "mkl-service                       2.4.0\n",
      "more-itertools                    10.1.0\n",
      "mpmath                            1.3.0\n",
      "msgpack                           1.0.3\n",
      "multidict                         6.0.4\n",
      "multipledispatch                  0.6.0\n",
      "munkres                           1.1.4\n",
      "mypy                              1.8.0\n",
      "mypy-extensions                   1.0.0\n",
      "navigator-updater                 0.4.0\n",
      "nbclient                          0.8.0\n",
      "nbconvert                         7.10.0\n",
      "nbformat                          5.9.2\n",
      "nest-asyncio                      1.6.0\n",
      "networkx                          3.1\n",
      "nltk                              3.8.1\n",
      "notebook                          7.0.8\n",
      "notebook_shim                     0.2.3\n",
      "numba                             0.59.0\n",
      "numexpr                           2.8.7\n",
      "numpy                             1.26.4\n",
      "numpydoc                          1.5.0\n",
      "openpyxl                          3.0.10\n",
      "overrides                         7.4.0\n",
      "packaging                         23.1\n",
      "pandas                            2.1.4\n",
      "pandocfilters                     1.5.0\n",
      "panel                             1.3.8\n",
      "param                             2.0.2\n",
      "paramiko                          2.8.1\n",
      "parsel                            1.8.1\n",
      "parso                             0.8.3\n",
      "partd                             1.4.1\n",
      "pathlib                           1.0.1\n",
      "pathspec                          0.10.3\n",
      "patsy                             0.5.3\n",
      "pexpect                           4.8.0\n",
      "pickleshare                       0.7.5\n",
      "pillow                            10.2.0\n",
      "pip                               23.3.1\n",
      "pkce                              1.0.3\n",
      "pkginfo                           1.9.6\n",
      "platformdirs                      3.10.0\n",
      "plotly                            5.9.0\n",
      "pluggy                            1.0.0\n",
      "ply                               3.11\n",
      "prometheus-client                 0.14.1\n",
      "prompt-toolkit                    3.0.43\n",
      "Protego                           0.1.16\n",
      "protobuf                          3.20.3\n",
      "psutil                            5.9.0\n",
      "ptyprocess                        0.7.0\n",
      "pure-eval                         0.2.2\n",
      "py-cpuinfo                        9.0.0\n",
      "pyarrow                           14.0.2\n",
      "pyasn1                            0.4.8\n",
      "pyasn1-modules                    0.2.8\n",
      "pycodestyle                       2.10.0\n",
      "pycosat                           0.6.6\n",
      "pycparser                         2.21\n",
      "pyct                              0.5.0\n",
      "pycurl                            7.45.2\n",
      "pydantic                          1.10.12\n",
      "pydeck                            0.8.0\n",
      "PyDispatcher                      2.0.5\n",
      "pydocstyle                        6.3.0\n",
      "pyerfa                            2.0.0\n",
      "pyflakes                          3.0.1\n",
      "Pygments                          2.15.1\n",
      "PyJWT                             2.4.0\n",
      "pylint                            2.16.2\n",
      "pylint-venv                       2.3.0\n",
      "pyls-spyder                       0.4.0\n",
      "PyNaCl                            1.5.0\n",
      "pyodbc                            5.0.1\n",
      "pyOpenSSL                         24.0.0\n",
      "pyparsing                         3.0.9\n",
      "PyQt5                             5.15.10\n",
      "PyQt5-sip                         12.13.0\n",
      "PyQtWebEngine                     5.15.6\n",
      "PySocks                           1.7.1\n",
      "pytest                            7.4.0\n",
      "python-dateutil                   2.8.2\n",
      "python-dotenv                     0.21.0\n",
      "python-json-logger                2.0.7\n",
      "python-lsp-black                  1.2.1\n",
      "python-lsp-jsonrpc                1.0.0\n",
      "python-lsp-server                 1.7.2\n",
      "python-slugify                    5.0.2\n",
      "python-snappy                     0.6.1\n",
      "pytoolconfig                      1.2.6\n",
      "pytz                              2023.3.post1\n",
      "pyviz_comms                       3.0.0\n",
      "pywavelets                        1.5.0\n",
      "pywin32                           305.1\n",
      "pywin32-ctypes                    0.2.0\n",
      "pywinpty                          2.0.10\n",
      "PyYAML                            6.0.1\n",
      "pyzmq                             25.1.2\n",
      "QDarkStyle                        3.0.2\n",
      "qstylizer                         0.2.2\n",
      "QtAwesome                         1.2.2\n",
      "qtconsole                         5.4.2\n",
      "QtPy                              2.4.1\n",
      "queuelib                          1.6.2\n",
      "referencing                       0.30.2\n",
      "regex                             2023.10.3\n",
      "requests                          2.31.0\n",
      "requests-file                     1.5.1\n",
      "requests-toolbelt                 1.0.0\n",
      "rfc3339-validator                 0.1.4\n",
      "rfc3986-validator                 0.1.1\n",
      "rich                              13.3.5\n",
      "rope                              1.7.0\n",
      "rpds-py                           0.10.6\n",
      "Rtree                             1.0.1\n",
      "ruamel.yaml                       0.17.21\n",
      "ruamel-yaml-conda                 0.17.21\n",
      "s3fs                              2023.10.0\n",
      "scikit-image                      0.22.0\n",
      "scikit-learn                      1.2.2\n",
      "scipy                             1.11.4\n",
      "Scrapy                            2.8.0\n",
      "seaborn                           0.12.2\n",
      "semver                            2.13.0\n",
      "Send2Trash                        1.8.2\n",
      "service-identity                  18.1.0\n",
      "setuptools                        68.2.2\n",
      "sip                               6.7.12\n",
      "six                               1.16.0\n",
      "smart-open                        5.2.1\n",
      "smmap                             4.0.0\n",
      "sniffio                           1.3.0\n",
      "snowballstemmer                   2.2.0\n",
      "sortedcontainers                  2.4.0\n",
      "soupsieve                         2.5\n",
      "Sphinx                            5.0.2\n",
      "sphinxcontrib-applehelp           1.0.2\n",
      "sphinxcontrib-devhelp             1.0.2\n",
      "sphinxcontrib-htmlhelp            2.0.0\n",
      "sphinxcontrib-jsmath              1.0.1\n",
      "sphinxcontrib-qthelp              1.0.3\n",
      "sphinxcontrib-serializinghtml     1.1.5\n",
      "spyder                            5.4.3\n",
      "spyder-kernels                    2.4.4\n",
      "SQLAlchemy                        2.0.25\n",
      "stack-data                        0.2.0\n",
      "statsmodels                       0.14.0\n",
      "streamlit                         1.30.0\n",
      "sympy                             1.12\n",
      "tables                            3.9.2\n",
      "tabulate                          0.9.0\n",
      "tblib                             1.7.0\n",
      "tenacity                          8.2.2\n",
      "terminado                         0.17.1\n",
      "text-unidecode                    1.3\n",
      "textdistance                      4.2.1\n",
      "threadpoolctl                     2.2.0\n",
      "three-merge                       0.1.1\n",
      "tifffile                          2023.4.12\n",
      "tinycss2                          1.2.1\n",
      "tldextract                        3.2.0\n",
      "toml                              0.10.2\n",
      "tomlkit                           0.11.1\n",
      "toolz                             0.12.0\n",
      "tornado                           6.3.3\n",
      "tqdm                              4.65.0\n",
      "traitlets                         5.7.1\n",
      "truststore                        0.8.0\n",
      "Twisted                           23.10.0\n",
      "twisted-iocpsupport               1.0.2\n",
      "typing_extensions                 4.9.0\n",
      "tzdata                            2023.3\n",
      "tzlocal                           2.1\n",
      "uc-micro-py                       1.0.1\n",
      "ujson                             5.4.0\n",
      "Unidecode                         1.2.0\n",
      "urllib3                           2.0.7\n",
      "validators                        0.18.2\n",
      "w3lib                             2.1.2\n",
      "watchdog                          2.1.6\n",
      "wcwidth                           0.2.5\n",
      "webencodings                      0.5.1\n",
      "websocket-client                  0.58.0\n",
      "Werkzeug                          2.2.3\n",
      "whatthepatch                      1.0.2\n",
      "wheel                             0.41.2\n",
      "widgetsnbextension                3.5.2\n",
      "win-inet-pton                     1.1.0\n",
      "wrapt                             1.14.1\n",
      "xarray                            2023.6.0\n",
      "xlwings                           0.29.1\n",
      "xyzservices                       2022.9.0\n",
      "yapf                              0.31.0\n",
      "yarl                              1.9.3\n",
      "zict                              3.0.0\n",
      "zipp                              3.17.0\n",
      "zope.interface                    5.4.0\n",
      "zstandard                         0.19.0\n",
      "Note: you may need to restart the kernel to use updated packages.\n"
     ]
    }
   ],
   "source": [
    "pip list"
   ]
  },
  {
   "cell_type": "markdown",
   "id": "e8a684e2-e4f9-46cc-a68c-ff85866098d5",
   "metadata": {},
   "source": [
    "## Faker"
   ]
  },
  {
   "cell_type": "code",
   "execution_count": 83,
   "id": "e2b2544c-8733-4633-9f6f-80421bc91e6e",
   "metadata": {},
   "outputs": [
    {
     "name": "stdout",
     "output_type": "stream",
     "text": [
      "Collecting Faker\n",
      "  Downloading Faker-25.8.0-py3-none-any.whl.metadata (15 kB)\n",
      "Requirement already satisfied: python-dateutil>=2.4 in c:\\users\\rhals\\anaconda3\\lib\\site-packages (from Faker) (2.8.2)\n",
      "Requirement already satisfied: six>=1.5 in c:\\users\\rhals\\anaconda3\\lib\\site-packages (from python-dateutil>=2.4->Faker) (1.16.0)\n",
      "Downloading Faker-25.8.0-py3-none-any.whl (1.8 MB)\n",
      "   ---------------------------------------- 0.0/1.8 MB ? eta -:--:--\n",
      "   ---------------------------------------- 0.0/1.8 MB ? eta -:--:--\n",
      "   ---------------------------------------- 0.0/1.8 MB ? eta -:--:--\n",
      "    --------------------------------------- 0.0/1.8 MB 660.6 kB/s eta 0:00:03\n",
      "   -- ------------------------------------- 0.1/1.8 MB 871.5 kB/s eta 0:00:02\n",
      "   ---------------- ----------------------- 0.7/1.8 MB 5.2 MB/s eta 0:00:01\n",
      "   ---------------------------------------  1.8/1.8 MB 10.4 MB/s eta 0:00:01\n",
      "   ---------------------------------------  1.8/1.8 MB 10.4 MB/s eta 0:00:01\n",
      "   ---------------------------------------- 1.8/1.8 MB 6.7 MB/s eta 0:00:00\n",
      "Installing collected packages: Faker\n",
      "Successfully installed Faker-25.8.0\n",
      "Note: you may need to restart the kernel to use updated packages.\n"
     ]
    }
   ],
   "source": [
    "pip install Faker"
   ]
  },
  {
   "cell_type": "code",
   "execution_count": 85,
   "id": "96687734-65b1-44e8-a112-81bfdfb01f6d",
   "metadata": {},
   "outputs": [
    {
     "data": {
      "text/plain": [
       "(faker.proxy.Faker, <faker.proxy.Faker at 0x14a25406c50>)"
      ]
     },
     "execution_count": 85,
     "metadata": {},
     "output_type": "execute_result"
    }
   ],
   "source": [
    "from faker import Faker\n",
    "fake = Faker()\n",
    "type(fake), fake"
   ]
  },
  {
   "cell_type": "code",
   "execution_count": 106,
   "id": "99b42689-4081-463b-b67b-5ba18b314aac",
   "metadata": {},
   "outputs": [
    {
     "data": {
      "text/plain": [
       "'Darryl Barnes'"
      ]
     },
     "execution_count": 106,
     "metadata": {},
     "output_type": "execute_result"
    }
   ],
   "source": [
    "fake.name()"
   ]
  },
  {
   "cell_type": "code",
   "execution_count": 108,
   "id": "e17e2d1c-0a24-4905-aeba-82c3b898f846",
   "metadata": {},
   "outputs": [
    {
     "data": {
      "text/plain": [
       "'한예지'"
      ]
     },
     "execution_count": 108,
     "metadata": {},
     "output_type": "execute_result"
    }
   ],
   "source": [
    "fake = Faker('ko-KR')\n",
    "fake.name()"
   ]
  },
  {
   "cell_type": "code",
   "execution_count": 109,
   "id": "1e991d28-9ac5-408d-b475-39a9dccff030",
   "metadata": {},
   "outputs": [
    {
     "data": {
      "text/plain": [
       "'경기도 오산시 선릉583가 (은지곽김동)'"
      ]
     },
     "execution_count": 109,
     "metadata": {},
     "output_type": "execute_result"
    }
   ],
   "source": [
    "fake.address()"
   ]
  },
  {
   "cell_type": "code",
   "execution_count": 116,
   "id": "8de3b4f6-72bb-4260-a416-a7787f1ea3d0",
   "metadata": {},
   "outputs": [
    {
     "data": {
      "text/plain": [
       "[('김미경', '충청남도 성남시 수정구 역삼로'),\n",
       " ('박영식', '충청남도 화천군 압구정297가 (경수이이동)'),\n",
       " ('강지민', '제주특별자치도 청주시 상당구 개포가'),\n",
       " ('양상현', '경상남도 고양시 강남대7로'),\n",
       " ('강종수', '충청남도 청양군 테헤란가'),\n",
       " ('김준호', '세종특별자치시 강서구 가락길'),\n",
       " ('최영순', '세종특별자치시 종로구 서초중앙로'),\n",
       " ('류서영', '경기도 보령시 압구정로'),\n",
       " ('이유진', '인천광역시 북구 강남대31길 (시우안박읍)'),\n",
       " ('이지영', '제주특별자치도 고양시 오금7길 (은주김리)'),\n",
       " ('홍종수', '경상북도 부천시 소사구 역삼401로'),\n",
       " ('김병철', '서울특별시 강북구 오금718거리 (예은이장마을)'),\n",
       " ('이하은', '강원도 청주시 상당구 봉은사113로'),\n",
       " ('이영일', '세종특별자치시 중랑구 삼성가 (영길최이마을)'),\n",
       " ('강지은', '서울특별시 중랑구 삼성로'),\n",
       " ('김영철', '부산광역시 강북구 잠실길 (지혜김박리)'),\n",
       " ('민중수', '세종특별자치시 강북구 논현60가'),\n",
       " ('문춘자', '부산광역시 서구 서초대13길'),\n",
       " ('장병철', '경상북도 양주시 강남대90거리'),\n",
       " ('안윤서', '대전광역시 은평구 선릉길'),\n",
       " ('장미정', '충청북도 수원시 장안구 양재천거리'),\n",
       " ('김정숙', '광주광역시 송파구 반포대거리 (서영홍리)'),\n",
       " ('최준영', '강원도 여주시 테헤란거리 (수빈이강면)'),\n",
       " ('이동현', '세종특별자치시 성동구 봉은사686거리'),\n",
       " ('최서영', '울산광역시 도봉구 서초중앙0로'),\n",
       " ('이지현', '울산광역시 금천구 봉은사로'),\n",
       " ('박영수', '전라북도 단양군 삼성63가 (수진김마을)'),\n",
       " ('홍동현', '충청북도 수원시 팔달구 반포대로 (준영허동)'),\n",
       " ('김수빈', '부산광역시 강남구 삼성거리 (성현이읍)'),\n",
       " ('심은경', '충청북도 과천시 서초대955로 (영철강김면)')]"
      ]
     },
     "execution_count": 116,
     "metadata": {},
     "output_type": "execute_result"
    }
   ],
   "source": [
    "test_data = [(fake.name(), fake.address()) for i in range(30)]\n",
    "test_data"
   ]
  },
  {
   "cell_type": "code",
   "execution_count": 111,
   "id": "df86baf9-51b9-41d5-a0f1-5cc96d3855b3",
   "metadata": {},
   "outputs": [
    {
     "data": {
      "text/plain": [
       "'Impedit incidunt voluptatem nostrum expedita ratione. Ratione ipsam quibusdam laborum accusamus rem necessitatibus.\\nDolores dolores quaerat totam. Fugiat magnam aperiam.'"
      ]
     },
     "execution_count": 111,
     "metadata": {},
     "output_type": "execute_result"
    }
   ],
   "source": [
    "fake.text()"
   ]
  },
  {
   "cell_type": "code",
   "execution_count": 112,
   "id": "c31c9b31-3440-4424-b866-05104ae92c9e",
   "metadata": {},
   "outputs": [
    {
     "data": {
      "text/plain": [
       "'업그레이드 가능한 무관용 함수'"
      ]
     },
     "execution_count": 112,
     "metadata": {},
     "output_type": "execute_result"
    }
   ],
   "source": [
    "fake.catch_phrase()"
   ]
  }
 ],
 "metadata": {
  "kernelspec": {
   "display_name": "Python 3 (ipykernel)",
   "language": "python",
   "name": "python3"
  },
  "language_info": {
   "codemirror_mode": {
    "name": "ipython",
    "version": 3
   },
   "file_extension": ".py",
   "mimetype": "text/x-python",
   "name": "python",
   "nbconvert_exporter": "python",
   "pygments_lexer": "ipython3",
   "version": "3.11.7"
  }
 },
 "nbformat": 4,
 "nbformat_minor": 5
}
