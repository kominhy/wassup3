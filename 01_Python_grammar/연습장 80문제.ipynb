{
 "cells": [
  {
   "cell_type": "markdown",
   "id": "764ef6d9-0cd9-48f2-bf51-c9bee376bc75",
   "metadata": {},
   "source": [
    "# 파이썬 시작하기"
   ]
  },
  {
   "cell_type": "markdown",
   "id": "0cc48630-fa54-469c-b2b3-09ff63d5d0b8",
   "metadata": {},
   "source": [
    "## 001 ~ 010"
   ]
  },
  {
   "cell_type": "code",
   "execution_count": 1,
   "id": "aa78bad9-5520-4bb5-a90e-9bb6e4763098",
   "metadata": {},
   "outputs": [
    {
     "name": "stdout",
     "output_type": "stream",
     "text": [
      "Hello World\n"
     ]
    }
   ],
   "source": [
    "# 001 화면에 (Hello World) 문자열을 출력하세요.\n",
    "print('Hello World')"
   ]
  },
  {
   "cell_type": "code",
   "execution_count": 2,
   "id": "d7d09bfa-8295-4102-8e9e-c5c2e4a5f8ba",
   "metadata": {},
   "outputs": [
    {
     "name": "stdout",
     "output_type": "stream",
     "text": [
      "Mary's cometics\n"
     ]
    }
   ],
   "source": [
    "# 002 화면에 (Mary's cosmetics)을 출력하세요.\n",
    "print(\"Mary's cometics\")"
   ]
  },
  {
   "cell_type": "code",
   "execution_count": 3,
   "id": "52d0ded1-6d30-45b5-923b-1c32183936d2",
   "metadata": {},
   "outputs": [
    {
     "name": "stdout",
     "output_type": "stream",
     "text": [
      "신씨가 소리질렀다. \"도둑이야\".\n"
     ]
    }
   ],
   "source": [
    "# 003 (신씨가 소리질렀다. \"도둑이야\".)을 출력하세요.\n",
    "print('신씨가 소리질렀다. \"도둑이야\".')"
   ]
  },
  {
   "cell_type": "code",
   "execution_count": 5,
   "id": "80065133-ed91-49f6-85f4-56aef486fa87",
   "metadata": {},
   "outputs": [
    {
     "name": "stdout",
     "output_type": "stream",
     "text": [
      "C:\\Windows\n"
     ]
    }
   ],
   "source": [
    "# 004 화면에 (C:\\Windows)를 출력하세요.\n",
    "print('C:\\Windows')"
   ]
  },
  {
   "cell_type": "code",
   "execution_count": 6,
   "id": "c39072e4-2eb6-4810-8bc6-f3884096b636",
   "metadata": {},
   "outputs": [
    {
     "name": "stdout",
     "output_type": "stream",
     "text": [
      "안녕하세요.\n",
      "만나서\t\t반갑습니다.\n"
     ]
    }
   ],
   "source": [
    "# 005 다음 코드(print(\"안녕하세요.\\n만나서\\t\\t반갑습니다.\"))를 실행해보고 \\t와 \\n의 역할을 설명해보세요.\n",
    "print(\"안녕하세요.\\n만나서\\t\\t반갑습니다.\")"
   ]
  },
  {
   "cell_type": "code",
   "execution_count": 7,
   "id": "83844e16-0047-4577-b2f4-f01b495bd466",
   "metadata": {},
   "outputs": [
    {
     "name": "stdout",
     "output_type": "stream",
     "text": [
      "안녕하세요.\n",
      "만나서\t반갑습니다.\n"
     ]
    }
   ],
   "source": [
    "# /n은 줄 바꿈, /t는 tab에 역할\n",
    "print(\"안녕하세요.\\n만나서\\t반갑습니다.\")"
   ]
  },
  {
   "cell_type": "code",
   "execution_count": 8,
   "id": "1f08ccfb-60cd-4573-bbb6-e948276741a0",
   "metadata": {},
   "outputs": [
    {
     "name": "stdout",
     "output_type": "stream",
     "text": [
      "오늘은 일요일\n"
     ]
    }
   ],
   "source": [
    "# 006 print 함수에 두 개의 단어를 입력한 예제입니다. 아래 코드의 출력 결과를 예상해봅시다.\n",
    "print (\"오늘은\", \"일요일\")"
   ]
  },
  {
   "cell_type": "code",
   "execution_count": 9,
   "id": "42ca4190-69b1-4814-990e-4480ebe64a46",
   "metadata": {},
   "outputs": [
    {
     "name": "stdout",
     "output_type": "stream",
     "text": [
      "naver;kakao;sk;samsung\n"
     ]
    }
   ],
   "source": [
    "# 007 print() 함수를 사용하여 (naver;kakao;sk;samsung)출력하세요.\n",
    "print('naver;kakao;sk;samsung')"
   ]
  },
  {
   "cell_type": "code",
   "execution_count": 10,
   "id": "f7058d35-063b-4028-bfb4-390d8d589b56",
   "metadata": {},
   "outputs": [
    {
     "name": "stdout",
     "output_type": "stream",
     "text": [
      "naver;kakao;sk;samsung\n"
     ]
    }
   ],
   "source": [
    "print('naver', 'kakao', 'sk', 'samsung', sep=';')"
   ]
  },
  {
   "cell_type": "code",
   "execution_count": 11,
   "id": "70c76b2e-5320-4091-a6bf-3c947da6581f",
   "metadata": {},
   "outputs": [
    {
     "data": {
      "text/plain": [
       "\u001b[1;31mSignature:\u001b[0m \u001b[0mprint\u001b[0m\u001b[1;33m(\u001b[0m\u001b[1;33m*\u001b[0m\u001b[0margs\u001b[0m\u001b[1;33m,\u001b[0m \u001b[0msep\u001b[0m\u001b[1;33m=\u001b[0m\u001b[1;34m' '\u001b[0m\u001b[1;33m,\u001b[0m \u001b[0mend\u001b[0m\u001b[1;33m=\u001b[0m\u001b[1;34m'\\n'\u001b[0m\u001b[1;33m,\u001b[0m \u001b[0mfile\u001b[0m\u001b[1;33m=\u001b[0m\u001b[1;32mNone\u001b[0m\u001b[1;33m,\u001b[0m \u001b[0mflush\u001b[0m\u001b[1;33m=\u001b[0m\u001b[1;32mFalse\u001b[0m\u001b[1;33m)\u001b[0m\u001b[1;33m\u001b[0m\u001b[1;33m\u001b[0m\u001b[0m\n",
       "\u001b[1;31mDocstring:\u001b[0m\n",
       "Prints the values to a stream, or to sys.stdout by default.\n",
       "\n",
       "sep\n",
       "  string inserted between values, default a space.\n",
       "end\n",
       "  string appended after the last value, default a newline.\n",
       "file\n",
       "  a file-like object (stream); defaults to the current sys.stdout.\n",
       "flush\n",
       "  whether to forcibly flush the stream.\n",
       "\u001b[1;31mType:\u001b[0m      builtin_function_or_method"
      ]
     },
     "metadata": {},
     "output_type": "display_data"
    }
   ],
   "source": [
    "print?"
   ]
  },
  {
   "cell_type": "code",
   "execution_count": 12,
   "id": "47f9bb0b-f647-47df-82c4-98392e59045a",
   "metadata": {},
   "outputs": [
    {
     "name": "stdout",
     "output_type": "stream",
     "text": [
      "naver/kakao/sk/samsung\n"
     ]
    }
   ],
   "source": [
    "# 008 print() 함수를 사용하여 (naver/kakao/sk/samsung) 출력하세요.\n",
    "print('naver', 'kakao', 'sk', 'samsung', sep='/')"
   ]
  },
  {
   "cell_type": "code",
   "execution_count": 17,
   "id": "2766aceb-0adc-4d6c-b67d-b4ea7d39793f",
   "metadata": {},
   "outputs": [
    {
     "name": "stdout",
     "output_type": "stream",
     "text": [
      "firstsecond\n"
     ]
    }
   ],
   "source": [
    "# 009 다음 코드를 수정하여 줄바꿈이 없이 출력하세요. (힌트: end='') print 함수는 두 번 사용합니다. 세미콜론 (;)은 한줄에 여러 개의 명령을 작성하기 위해 사용합니다.\n",
    "# print(\"first\");print(\"second\")\n",
    "print(\"first\",end=\"\");print(\"second\")"
   ]
  },
  {
   "cell_type": "code",
   "execution_count": 20,
   "id": "aceae88c-bc32-4832-b455-ed8a5cd5838c",
   "metadata": {},
   "outputs": [
    {
     "name": "stdout",
     "output_type": "stream",
     "text": [
      "1.6666666666666667\n"
     ]
    }
   ],
   "source": [
    "# 010 5/3의 결과를 화면에 출력하세요.\n",
    "print(5/3)"
   ]
  },
  {
   "cell_type": "markdown",
   "id": "8930aec0-cc3f-4d1c-bb58-754a1c144190",
   "metadata": {},
   "source": [
    "# 파이썬 변수"
   ]
  },
  {
   "cell_type": "markdown",
   "id": "205be78f-d05e-4cd0-a045-0ea36e922d8a",
   "metadata": {},
   "source": [
    "## 011 ~ 020"
   ]
  },
  {
   "cell_type": "code",
   "execution_count": 23,
   "id": "cc420c7e-6866-4417-869d-8c25b676d0ba",
   "metadata": {},
   "outputs": [
    {
     "name": "stdout",
     "output_type": "stream",
     "text": [
      "250000\n"
     ]
    }
   ],
   "source": [
    "# 011 삼성전자라는 변수로 50,000원을 바인딩해보세요. 삼성전자 주식 10주를 보유하고 있을 때 총 평가금액을 출력하세요.\n",
    "삼성전자 = 50000\n",
    "총평가금액 = 삼성전자 * 5\n",
    "print(총평가금액)"
   ]
  },
  {
   "cell_type": "code",
   "execution_count": 32,
   "id": "f82ae64f-f07c-4b9e-bec7-4ca86afedc8a",
   "metadata": {},
   "outputs": [
    {
     "name": "stdout",
     "output_type": "stream",
     "text": [
      "총 평가금액 250000\n"
     ]
    }
   ],
   "source": [
    "삼성전자 = 50000\n",
    "a = '총 평가금액'\n",
    "b = 삼성전자 * 5\n",
    "print(a, b)"
   ]
  },
  {
   "cell_type": "code",
   "execution_count": 36,
   "id": "611305b2-5856-4dc9-8f09-4982e0f5617e",
   "metadata": {},
   "outputs": [
    {
     "name": "stdout",
     "output_type": "stream",
     "text": [
      "총 평가금액 = 250000\n"
     ]
    }
   ],
   "source": [
    "삼성전자 = 50000\n",
    "총평가금액 = 삼성전자 * 5\n",
    "print('총 평가금액 =',총평가금액)"
   ]
  },
  {
   "cell_type": "code",
   "execution_count": null,
   "id": "f2e41550-7fd8-4d7a-a1b1-615b4b80f691",
   "metadata": {},
   "outputs": [],
   "source": [
    "# 012 다음 표는 삼성전자의 일부 투자정보입니다. 변수를 사용해서 시가총액, 현재가, PER 등을 바인딩해보세요."
   ]
  },
  {
   "cell_type": "markdown",
   "id": "3b42161d-9545-470e-869c-172c9619bcaf",
   "metadata": {},
   "source": [
    "|항목|\t값|\n",
    "|--|--|\n",
    "|시가총액|\t298조|\n",
    "|현재가\t|50,000원|\n",
    "|PER\t|15.79|"
   ]
  },
  {
   "cell_type": "code",
   "execution_count": 37,
   "id": "bbe46a0a-565d-4ca3-b9c8-c37705e3c897",
   "metadata": {},
   "outputs": [
    {
     "name": "stdout",
     "output_type": "stream",
     "text": [
      "298조 50,000원 15.79\n"
     ]
    }
   ],
   "source": [
    "시가총액 = '298조'\n",
    "현재가 = '50,000원'\n",
    "PER = 15.79\n",
    "print(시가총액, 현재가, PER)"
   ]
  },
  {
   "cell_type": "code",
   "execution_count": 38,
   "id": "47cf88f8-b281-4040-8e00-5fe7e11a7d26",
   "metadata": {},
   "outputs": [
    {
     "name": "stdout",
     "output_type": "stream",
     "text": [
      "298조 <class 'str'>\n",
      "50,000원 <class 'str'>\n",
      "15.79 <class 'float'>\n"
     ]
    }
   ],
   "source": [
    "print(시가총액, type(시가총액))\n",
    "print(현재가, type(현재가))\n",
    "print(PER, type(PER))"
   ]
  },
  {
   "cell_type": "code",
   "execution_count": null,
   "id": "c64836ea-0f00-4efa-8930-c218a947ac7b",
   "metadata": {},
   "outputs": [],
   "source": [
    "# 013 변수 s와 t에는 각각 문자열이 바인딩 되어있습니다.\n",
    "\n",
    ">> s = \"hello\"\n",
    ">> t = \"python\"\n",
    "두 변수를 이용하여 아래와 같이 출력해보세요.\n",
    "\n",
    "실행 예:\n",
    "hello! python"
   ]
  },
  {
   "cell_type": "code",
   "execution_count": 48,
   "id": "d2af3ec8-1bcd-4e9e-a7f8-f91ff130a14b",
   "metadata": {},
   "outputs": [
    {
     "name": "stdout",
     "output_type": "stream",
     "text": [
      "hello! python\n"
     ]
    }
   ],
   "source": [
    "s = \"hello\"\n",
    "t = \"python\"\n",
    "print(s+'!',t)"
   ]
  },
  {
   "cell_type": "code",
   "execution_count": null,
   "id": "98bc87b8-0c5e-4599-8c9e-0d0b1da1863c",
   "metadata": {},
   "outputs": [],
   "source": [
    "# 014 아래 코드의 실행 결과를 예상해보세요.\n",
    "\n",
    ">> 2 + 2 * 3 "
   ]
  },
  {
   "cell_type": "code",
   "execution_count": 49,
   "id": "30acb6c3-c6a2-49ff-9cbb-ba8ef0b1bafc",
   "metadata": {},
   "outputs": [
    {
     "data": {
      "text/plain": [
       "8"
      ]
     },
     "execution_count": 49,
     "metadata": {},
     "output_type": "execute_result"
    }
   ],
   "source": [
    "2 + 2 * 3"
   ]
  },
  {
   "cell_type": "code",
   "execution_count": null,
   "id": "3c8f2b9d-074b-43d5-8f24-3537d2565ba6",
   "metadata": {},
   "outputs": [],
   "source": [
    "# 015 type() 함수는 데이터 타입을 판별합니다. 변수 a에는 128 숫자가 바인딩돼 있어 type 함수가 int (정수)형임을 알려줍니다.\n",
    "\n",
    ">> a = 128\n",
    ">> print (type(a))\n",
    "<class 'int'>\n",
    "아래 변수에 바인딩된 값의 타입을 판별해보세요.\n",
    "\n",
    ">> a = \"132\""
   ]
  },
  {
   "cell_type": "code",
   "execution_count": 50,
   "id": "19b498d9-5887-4184-97c5-7c32265bf2e3",
   "metadata": {},
   "outputs": [
    {
     "name": "stdout",
     "output_type": "stream",
     "text": [
      "<class 'str'>\n"
     ]
    }
   ],
   "source": [
    "a = \"132\"\n",
    "print(type(a))"
   ]
  },
  {
   "cell_type": "code",
   "execution_count": null,
   "id": "498b0c8d-22c0-48cf-b5a6-59769868c777",
   "metadata": {},
   "outputs": [],
   "source": [
    "# 016 문자열 '720'를 정수형으로 변환해보세요.\n",
    "\n",
    ">> num_str = \"720\""
   ]
  },
  {
   "cell_type": "code",
   "execution_count": 52,
   "id": "9f347ed4-ad4a-4670-9911-e7037fadd2b7",
   "metadata": {},
   "outputs": [
    {
     "name": "stdout",
     "output_type": "stream",
     "text": [
      "720 <class 'int'>\n"
     ]
    }
   ],
   "source": [
    "num_str = \"720\"\n",
    "num_int = int(num_str)\n",
    "print(num_int, type(num_int))"
   ]
  },
  {
   "cell_type": "code",
   "execution_count": 51,
   "id": "b118d8e4-1081-4a97-9081-c55a75be8579",
   "metadata": {},
   "outputs": [
    {
     "name": "stdout",
     "output_type": "stream",
     "text": [
      "721 <class 'int'>\n"
     ]
    }
   ],
   "source": [
    "num_str = \"720\"\n",
    "num_int = int(num_str)\n",
    "print(num_int+1, type(num_int))"
   ]
  },
  {
   "cell_type": "code",
   "execution_count": null,
   "id": "3dea9307-2bd6-4596-98f2-ae67e7202e9c",
   "metadata": {},
   "outputs": [],
   "source": [
    "# 017 정수 100을 문자열 '100'으로 변환해보세요.\n",
    "\n",
    "num = 100"
   ]
  },
  {
   "cell_type": "code",
   "execution_count": 53,
   "id": "78e00f07-f250-452f-9253-9a2d28f0c50f",
   "metadata": {},
   "outputs": [
    {
     "name": "stdout",
     "output_type": "stream",
     "text": [
      "100 <class 'str'>\n"
     ]
    }
   ],
   "source": [
    "num = 100\n",
    "num_str = str(num)\n",
    "print(num_str, type(num_str))"
   ]
  },
  {
   "cell_type": "code",
   "execution_count": null,
   "id": "168b378b-3274-4e06-ad7d-6f5bddeeda8c",
   "metadata": {},
   "outputs": [],
   "source": [
    "# 018 문자열 \"15.79\"를 실수(float) 타입으로 변환해보세요."
   ]
  },
  {
   "cell_type": "code",
   "execution_count": 55,
   "id": "ed0abf0f-6145-4fc7-b4d5-2cbcfea0cf95",
   "metadata": {},
   "outputs": [
    {
     "name": "stdout",
     "output_type": "stream",
     "text": [
      "15.79 <class 'float'>\n"
     ]
    }
   ],
   "source": [
    "num = \"15.79\"\n",
    "num_float = float(num)\n",
    "print(num_float, type(num_float))"
   ]
  },
  {
   "cell_type": "code",
   "execution_count": null,
   "id": "42d9513e-1393-478c-8587-e3a6f5e0230d",
   "metadata": {},
   "outputs": [],
   "source": [
    "# 019 year라는 변수가 문자열 타입의 연도를 바인딩하고 있습니다. 이를 정수로 변환한 후 최근 3년의 연도를 화면에 출력해보세요.\n",
    "\n",
    "year = \"2020\""
   ]
  },
  {
   "cell_type": "code",
   "execution_count": 56,
   "id": "9678c842-2b66-4bf6-a48d-d6c1694fde99",
   "metadata": {},
   "outputs": [
    {
     "name": "stdout",
     "output_type": "stream",
     "text": [
      "2021\n",
      "2022\n",
      "2023\n"
     ]
    }
   ],
   "source": [
    "year = \"2020\"\n",
    "year_int = int(year)\n",
    "print(year_int+1)\n",
    "print(year_int+2)\n",
    "print(year_int+3)"
   ]
  },
  {
   "cell_type": "code",
   "execution_count": null,
   "id": "6702bfaf-ef2c-45d0-bc4f-9b89f039f2e2",
   "metadata": {},
   "outputs": [],
   "source": [
    "# 020 에이컨이 월 48,584원에 무이자 36개월의 조건으로 홈쇼핑에서 판매되고 있습니다. 총 금액은 계산한 후 이를 화면에 출력해보세요. (변수사용하기)"
   ]
  },
  {
   "cell_type": "code",
   "execution_count": 57,
   "id": "fa14ce24-049c-4735-ae9e-b5258b27f95e",
   "metadata": {},
   "outputs": [
    {
     "name": "stdout",
     "output_type": "stream",
     "text": [
      "1749024\n"
     ]
    }
   ],
   "source": [
    "air = 48584\n",
    "mon = 36\n",
    "print(air * mon)"
   ]
  },
  {
   "cell_type": "code",
   "execution_count": 58,
   "id": "6a8894e7-7f51-4bc7-8fe4-b962b45075a4",
   "metadata": {},
   "outputs": [
    {
     "name": "stdout",
     "output_type": "stream",
     "text": [
      "1749024\n"
     ]
    }
   ],
   "source": [
    "air = 48584\n",
    "총금액 = air * 36\n",
    "print(총금액)"
   ]
  },
  {
   "cell_type": "markdown",
   "id": "d52bd375-0ad5-492b-b8a2-d473169ab77b",
   "metadata": {},
   "source": [
    "# 파이썬 문자열"
   ]
  },
  {
   "cell_type": "markdown",
   "id": "d5c4f3ce-107d-442d-8801-526595cfdfd3",
   "metadata": {},
   "source": [
    "## 021 ~ 030"
   ]
  },
  {
   "cell_type": "code",
   "execution_count": null,
   "id": "dda974f1-828e-493b-b243-c116b4064f22",
   "metadata": {},
   "outputs": [],
   "source": [
    "# 021 문자열 인덱싱\n",
    "letters가 바인딩하는 문자열에서 첫번째와 세번째 문자를 출력하세요.\n",
    "\n",
    ">> letters = 'python'\n",
    "실행 예\n",
    "p t"
   ]
  },
  {
   "cell_type": "code",
   "execution_count": 60,
   "id": "cf839396-9b5f-4857-a268-10a6cac9c17e",
   "metadata": {},
   "outputs": [
    {
     "name": "stdout",
     "output_type": "stream",
     "text": [
      "p t\n"
     ]
    }
   ],
   "source": [
    "letters = 'python'\n",
    "print(letters[0], letters[2])"
   ]
  },
  {
   "cell_type": "code",
   "execution_count": null,
   "id": "64839691-51ff-423d-af22-5ac4637cda08",
   "metadata": {},
   "outputs": [],
   "source": [
    "# 022 문자열 슬라이싱\n",
    "자동차 번호가 다음과 같을 때 뒤에 4자리만 출력하세요.\n",
    "\n",
    ">> license_plate = \"24가 2210\"\n",
    "실행 예: 2210"
   ]
  },
  {
   "cell_type": "code",
   "execution_count": 61,
   "id": "c9429466-d1dd-4dea-87ed-910eb9989daf",
   "metadata": {},
   "outputs": [
    {
     "name": "stdout",
     "output_type": "stream",
     "text": [
      "2210\n"
     ]
    }
   ],
   "source": [
    "license_plate = \"24가 2210\"\n",
    "print(license_plate[4:])"
   ]
  },
  {
   "cell_type": "code",
   "execution_count": 62,
   "id": "b0d40ac1-240f-49e2-83f8-2078eb99765c",
   "metadata": {},
   "outputs": [
    {
     "name": "stdout",
     "output_type": "stream",
     "text": [
      "0\n"
     ]
    }
   ],
   "source": [
    "license_plate = \"24가 2210\"\n",
    "print(license_plate[-1:])"
   ]
  },
  {
   "cell_type": "code",
   "execution_count": 63,
   "id": "26baa562-80f5-4d05-bafa-172a9a1728e5",
   "metadata": {},
   "outputs": [
    {
     "name": "stdout",
     "output_type": "stream",
     "text": [
      "2210\n"
     ]
    }
   ],
   "source": [
    "license_plate = \"24가 2210\"\n",
    "print(license_plate[-4:])"
   ]
  },
  {
   "cell_type": "code",
   "execution_count": null,
   "id": "8fbab8a1-e262-4a7d-89af-74f241585e89",
   "metadata": {},
   "outputs": [],
   "source": [
    "# 023 문자열 인덱싱\n",
    "아래의 문자열에서 '홀' 만 출력하세요.\n",
    "\n",
    ">> string = \"홀짝홀짝홀짝\"\n",
    "실행 예:\n",
    "홀홀홀"
   ]
  },
  {
   "cell_type": "code",
   "execution_count": 66,
   "id": "6c1b7b21-a556-4a39-9d59-3ea75317de49",
   "metadata": {},
   "outputs": [
    {
     "name": "stdout",
     "output_type": "stream",
     "text": [
      "홀홀홀\n"
     ]
    }
   ],
   "source": [
    "string = \"홀짝홀짝홀짝\"\n",
    "print(string[0::2])"
   ]
  },
  {
   "cell_type": "code",
   "execution_count": 67,
   "id": "d5ac20b0-f764-4163-b4f9-34832700d5a3",
   "metadata": {},
   "outputs": [
    {
     "name": "stdout",
     "output_type": "stream",
     "text": [
      "홀홀홀\n"
     ]
    }
   ],
   "source": [
    "string = \"홀짝홀짝홀짝\"\n",
    "print(string[::2])"
   ]
  },
  {
   "cell_type": "code",
   "execution_count": null,
   "id": "16e64b8f-239b-426b-a1ba-800ed613c495",
   "metadata": {},
   "outputs": [],
   "source": [
    "# 024 문자열 슬라이싱\n",
    "문자열을 거꾸로 뒤집어 출력하세요.\n",
    "\n",
    ">> string = \"PYTHON\"\n",
    "실행 예:\n",
    "NOHTYP"
   ]
  },
  {
   "cell_type": "code",
   "execution_count": 68,
   "id": "f99d7a23-a3fd-4db8-b3af-a6de63bbc659",
   "metadata": {},
   "outputs": [
    {
     "name": "stdout",
     "output_type": "stream",
     "text": [
      "NOHTYP\n"
     ]
    }
   ],
   "source": [
    "string = \"PYTHON\"\n",
    "print(string[::-1])"
   ]
  },
  {
   "cell_type": "code",
   "execution_count": null,
   "id": "59101a53-6ff9-4dd5-9c84-f5615093759b",
   "metadata": {},
   "outputs": [],
   "source": [
    "# 025 문자열 치환\n",
    "아래의 전화번호에서 하이푼 ('-')을 제거하고 출력하세요.\n",
    "\n",
    ">> phone_number = \"010-1111-2222\"\n",
    "실행 예\n",
    "010 1111 2222"
   ]
  },
  {
   "cell_type": "code",
   "execution_count": 72,
   "id": "378aa97c-4cf8-463d-a815-4bc31b86e84b",
   "metadata": {},
   "outputs": [
    {
     "name": "stdout",
     "output_type": "stream",
     "text": [
      "010 1111 2222\n"
     ]
    }
   ],
   "source": [
    "phone_number = \"010-1111-2222\"\n",
    "print(phone_number.replace(\"-\",\" \"))"
   ]
  },
  {
   "cell_type": "code",
   "execution_count": null,
   "id": "15db6b55-5cc5-4571-9aee-78c9f101ecd7",
   "metadata": {},
   "outputs": [],
   "source": [
    "# 026 문자열 다루기\n",
    "25번 문제의 전화번호를 아래와 같이 모두 붙여 출력하세요.\n",
    "\n",
    "실행 예\n",
    "01011112222"
   ]
  },
  {
   "cell_type": "code",
   "execution_count": 73,
   "id": "3d43c406-77f9-44c4-a15f-061a747ad62f",
   "metadata": {},
   "outputs": [
    {
     "name": "stdout",
     "output_type": "stream",
     "text": [
      "01011112222\n"
     ]
    }
   ],
   "source": [
    "phone_number = \"010-1111-2222\"\n",
    "print(phone_number.replace(\"-\",\"\"))"
   ]
  },
  {
   "cell_type": "code",
   "execution_count": null,
   "id": "8182f613-4a57-4097-87eb-b5d6c47f7f5a",
   "metadata": {},
   "outputs": [],
   "source": [
    "# 027 문자열 다루기\n",
    "url 에 저장된 웹 페이지 주소에서 도메인을 출력하세요.\n",
    "\n",
    ">> url = \"http://sharebook.kr\"\n",
    "실행 예:\n",
    "kr"
   ]
  },
  {
   "cell_type": "code",
   "execution_count": 76,
   "id": "4989babc-cbde-463c-a67e-e2823815481c",
   "metadata": {},
   "outputs": [
    {
     "name": "stdout",
     "output_type": "stream",
     "text": [
      "['http://sharebook', 'kr']\n"
     ]
    }
   ],
   "source": [
    "url = \"http://sharebook.kr\"\n",
    "print(url.split('.'))"
   ]
  },
  {
   "cell_type": "code",
   "execution_count": 77,
   "id": "1c539b4c-5483-4a85-b920-28ef55a4f888",
   "metadata": {},
   "outputs": [
    {
     "name": "stdout",
     "output_type": "stream",
     "text": [
      "kr\n"
     ]
    }
   ],
   "source": [
    "url = \"http://sharebook.kr\"\n",
    "url_split = url.split('.')\n",
    "print(url_split[-1])"
   ]
  },
  {
   "cell_type": "code",
   "execution_count": null,
   "id": "56aa4d55-efb0-4f2e-82da-dafad90a517d",
   "metadata": {},
   "outputs": [],
   "source": [
    "# 028 문자열은 immutable\n",
    "아래 코드의 실행 결과를 예상해보세요.\n",
    "\n",
    ">> lang = 'python'\n",
    ">> lang[0] = 'P'\n",
    ">> print(lang)"
   ]
  },
  {
   "cell_type": "code",
   "execution_count": 78,
   "id": "ba308277-cae2-410d-b2b3-a8177f4a29e4",
   "metadata": {},
   "outputs": [
    {
     "ename": "TypeError",
     "evalue": "'str' object does not support item assignment",
     "output_type": "error",
     "traceback": [
      "\u001b[1;31m---------------------------------------------------------------------------\u001b[0m",
      "\u001b[1;31mTypeError\u001b[0m                                 Traceback (most recent call last)",
      "Cell \u001b[1;32mIn[78], line 2\u001b[0m\n\u001b[0;32m      1\u001b[0m lang \u001b[38;5;241m=\u001b[39m \u001b[38;5;124m'\u001b[39m\u001b[38;5;124mpython\u001b[39m\u001b[38;5;124m'\u001b[39m\n\u001b[1;32m----> 2\u001b[0m lang[\u001b[38;5;241m0\u001b[39m] \u001b[38;5;241m=\u001b[39m \u001b[38;5;124m'\u001b[39m\u001b[38;5;124mP\u001b[39m\u001b[38;5;124m'\u001b[39m\n\u001b[0;32m      3\u001b[0m \u001b[38;5;28mprint\u001b[39m(lang)\n",
      "\u001b[1;31mTypeError\u001b[0m: 'str' object does not support item assignment"
     ]
    }
   ],
   "source": [
    "lang = 'python'\n",
    "lang[0] = 'P'\n",
    "print(lang)"
   ]
  },
  {
   "cell_type": "code",
   "execution_count": 79,
   "id": "b72e287b-3866-417e-a0e0-16690804adf6",
   "metadata": {},
   "outputs": [
    {
     "name": "stdout",
     "output_type": "stream",
     "text": [
      "p\n"
     ]
    }
   ],
   "source": [
    "lang = 'python'\n",
    "print(lang[0])"
   ]
  },
  {
   "cell_type": "code",
   "execution_count": null,
   "id": "e120d342-4560-4b31-a8c8-e79bd609869e",
   "metadata": {},
   "outputs": [],
   "source": [
    "# 029 replace 메서드\n",
    "아래 문자열에서 소문자 'a'를 대문자 'A'로 변경하세요.\n",
    "\n",
    ">> string = 'abcdfe2a354a32a'\n",
    "실행 예:\n",
    "Abcdfe2A354A32A"
   ]
  },
  {
   "cell_type": "code",
   "execution_count": 81,
   "id": "2760946f-c046-43cf-a6bc-1c08649a9d29",
   "metadata": {},
   "outputs": [
    {
     "name": "stdout",
     "output_type": "stream",
     "text": [
      "Abcdfe2A354A32A\n"
     ]
    }
   ],
   "source": [
    "string = 'abcdfe2a354a32a'\n",
    "print(string.replace('a', 'A'))"
   ]
  },
  {
   "cell_type": "code",
   "execution_count": 80,
   "id": "27fd954a-1409-4eec-9a2d-8060840d8623",
   "metadata": {},
   "outputs": [
    {
     "name": "stdout",
     "output_type": "stream",
     "text": [
      "Abcdfe2A354A32A\n"
     ]
    }
   ],
   "source": [
    "string = 'abcdfe2a354a32a'\n",
    "string = string.replace('a', 'A')\n",
    "print(string)"
   ]
  },
  {
   "cell_type": "code",
   "execution_count": null,
   "id": "3bb66834-fdca-49bf-95c2-7daf6a81fe3d",
   "metadata": {},
   "outputs": [],
   "source": [
    "# 030 replace 메서드\n",
    "아래 코드의 실행 결과를 예상해보세요.\n",
    "\n",
    ">> string = 'abcd'\n",
    ">> string.replace('b', 'B')\n",
    ">> print(string)"
   ]
  },
  {
   "cell_type": "code",
   "execution_count": 83,
   "id": "b6012f22-5673-45fc-9c66-0312354c7fe5",
   "metadata": {},
   "outputs": [
    {
     "name": "stdout",
     "output_type": "stream",
     "text": [
      "abcd\n"
     ]
    }
   ],
   "source": [
    "string = 'abcd'\n",
    "string.replace('b', 'B')\n",
    "print(string)"
   ]
  },
  {
   "cell_type": "code",
   "execution_count": 84,
   "id": "9b195623-ec4b-4c1c-acb0-8d584c046492",
   "metadata": {},
   "outputs": [
    {
     "name": "stdout",
     "output_type": "stream",
     "text": [
      "aBcd\n"
     ]
    }
   ],
   "source": [
    "string = 'abcd'\n",
    "print(string.replace('b', 'B'))"
   ]
  },
  {
   "cell_type": "markdown",
   "id": "f30e3853-3211-4821-95c1-a60a18917ae8",
   "metadata": {},
   "source": [
    "## 031 ~ 040"
   ]
  },
  {
   "cell_type": "code",
   "execution_count": null,
   "id": "6910d2f9-32d1-43f9-8c29-42201b21e9ff",
   "metadata": {},
   "outputs": [],
   "source": [
    "# 031"
   ]
  },
  {
   "cell_type": "code",
   "execution_count": null,
   "id": "dfad76c1-b443-4a7a-96c7-9b4483e8d747",
   "metadata": {},
   "outputs": [],
   "source": []
  },
  {
   "cell_type": "code",
   "execution_count": null,
   "id": "a79c2fff-bb44-46a3-823c-9fc432191347",
   "metadata": {},
   "outputs": [],
   "source": [
    "# 032"
   ]
  },
  {
   "cell_type": "code",
   "execution_count": null,
   "id": "dfb5c617-fb14-401d-aa17-935c8a6b3d27",
   "metadata": {},
   "outputs": [],
   "source": []
  },
  {
   "cell_type": "code",
   "execution_count": null,
   "id": "576a8624-efdd-4a6a-a5fe-08b3d575b23d",
   "metadata": {},
   "outputs": [],
   "source": [
    "# 033"
   ]
  },
  {
   "cell_type": "code",
   "execution_count": null,
   "id": "fad9e939-1600-4748-94cf-fda84aaa7397",
   "metadata": {},
   "outputs": [],
   "source": []
  },
  {
   "cell_type": "code",
   "execution_count": null,
   "id": "25aa2c37-09e6-4588-a2a7-c1b48d81a098",
   "metadata": {},
   "outputs": [],
   "source": [
    "# 034"
   ]
  },
  {
   "cell_type": "code",
   "execution_count": null,
   "id": "6dba2cf1-183c-4eaa-80e5-12678d54e997",
   "metadata": {},
   "outputs": [],
   "source": []
  },
  {
   "cell_type": "code",
   "execution_count": null,
   "id": "6ef85ff0-731c-463f-bf14-ff7b239ca647",
   "metadata": {},
   "outputs": [],
   "source": [
    "# 035"
   ]
  },
  {
   "cell_type": "code",
   "execution_count": null,
   "id": "83abe188-b146-453d-b126-9ad49c957aa7",
   "metadata": {},
   "outputs": [],
   "source": []
  },
  {
   "cell_type": "code",
   "execution_count": null,
   "id": "2dfbe596-0576-452f-b212-abcb1d8ed530",
   "metadata": {},
   "outputs": [],
   "source": [
    "# 036"
   ]
  },
  {
   "cell_type": "code",
   "execution_count": null,
   "id": "8aafce03-af74-428a-9a5b-d07307cd3e43",
   "metadata": {},
   "outputs": [],
   "source": []
  },
  {
   "cell_type": "code",
   "execution_count": null,
   "id": "7105c70c-50e9-4a94-87ea-3e415e3dcdcb",
   "metadata": {},
   "outputs": [],
   "source": [
    "# 037"
   ]
  },
  {
   "cell_type": "code",
   "execution_count": null,
   "id": "528517df-497a-420b-9159-9101590777a7",
   "metadata": {},
   "outputs": [],
   "source": []
  },
  {
   "cell_type": "code",
   "execution_count": null,
   "id": "3e0373b5-c0ab-45a7-a534-24ab733a81af",
   "metadata": {},
   "outputs": [],
   "source": [
    "# 038"
   ]
  },
  {
   "cell_type": "code",
   "execution_count": null,
   "id": "13e5e58b-bb56-41fa-9e41-4ae173329ab9",
   "metadata": {},
   "outputs": [],
   "source": []
  },
  {
   "cell_type": "code",
   "execution_count": null,
   "id": "4cc97ff9-1225-422e-aeb9-53a93e25880f",
   "metadata": {},
   "outputs": [],
   "source": [
    "# 039"
   ]
  },
  {
   "cell_type": "code",
   "execution_count": null,
   "id": "a2262dd4-0bbf-441f-baf6-36e36eb7945c",
   "metadata": {},
   "outputs": [],
   "source": []
  },
  {
   "cell_type": "code",
   "execution_count": null,
   "id": "a4091059-98ea-4c1c-849b-aa217538279d",
   "metadata": {},
   "outputs": [],
   "source": [
    "# 040"
   ]
  },
  {
   "cell_type": "code",
   "execution_count": null,
   "id": "c2910580-b00d-4bef-9cfc-6dc65669ae6e",
   "metadata": {},
   "outputs": [],
   "source": []
  },
  {
   "cell_type": "markdown",
   "id": "dbcf7f7a-f759-4112-a228-1d7712f182e5",
   "metadata": {},
   "source": [
    "## 041 ~ 050"
   ]
  },
  {
   "cell_type": "code",
   "execution_count": null,
   "id": "231b6126-e618-4807-8157-27b1f47d5949",
   "metadata": {},
   "outputs": [],
   "source": [
    "# 041"
   ]
  },
  {
   "cell_type": "code",
   "execution_count": null,
   "id": "79e41f76-1b37-4021-94d3-cac2f8022553",
   "metadata": {},
   "outputs": [],
   "source": []
  },
  {
   "cell_type": "code",
   "execution_count": null,
   "id": "7e108c1e-474e-4113-b87a-e5bb53a33edc",
   "metadata": {},
   "outputs": [],
   "source": [
    "# 042"
   ]
  },
  {
   "cell_type": "code",
   "execution_count": null,
   "id": "c3047a42-91a4-4dc9-a6b2-9c7f41a84096",
   "metadata": {},
   "outputs": [],
   "source": []
  },
  {
   "cell_type": "code",
   "execution_count": null,
   "id": "63e831c5-376c-43ab-80b5-cd0acdb0213d",
   "metadata": {},
   "outputs": [],
   "source": [
    "# 043"
   ]
  },
  {
   "cell_type": "code",
   "execution_count": null,
   "id": "98d1d65a-85a0-4111-87dc-32bb31dc88eb",
   "metadata": {},
   "outputs": [],
   "source": []
  },
  {
   "cell_type": "code",
   "execution_count": null,
   "id": "3dbffeab-848f-45fa-a57b-3ae0d071429e",
   "metadata": {},
   "outputs": [],
   "source": [
    "# 044"
   ]
  },
  {
   "cell_type": "code",
   "execution_count": null,
   "id": "84c75c1a-ed44-4758-95c0-6d60e7c1e2bc",
   "metadata": {},
   "outputs": [],
   "source": []
  },
  {
   "cell_type": "code",
   "execution_count": null,
   "id": "941a1041-0777-426e-876b-4c5b9db1aa39",
   "metadata": {},
   "outputs": [],
   "source": [
    "# 045"
   ]
  },
  {
   "cell_type": "code",
   "execution_count": null,
   "id": "b8d67ea7-f2b4-4ee7-835f-59e2e1e985c0",
   "metadata": {},
   "outputs": [],
   "source": []
  },
  {
   "cell_type": "code",
   "execution_count": null,
   "id": "495d39ba-3360-4c4a-9734-c38f902c61f8",
   "metadata": {},
   "outputs": [],
   "source": [
    "# 046"
   ]
  },
  {
   "cell_type": "code",
   "execution_count": null,
   "id": "fd4ae9dd-439a-4eca-b792-77bcfc1467ca",
   "metadata": {},
   "outputs": [],
   "source": []
  },
  {
   "cell_type": "code",
   "execution_count": null,
   "id": "f814c253-3761-4aba-80e0-eea7ff2cfdb6",
   "metadata": {},
   "outputs": [],
   "source": [
    "# 047"
   ]
  },
  {
   "cell_type": "code",
   "execution_count": null,
   "id": "a88d38b6-3822-4e9b-b2e6-238689b45d0a",
   "metadata": {},
   "outputs": [],
   "source": []
  },
  {
   "cell_type": "code",
   "execution_count": null,
   "id": "0aa5b29b-64f4-4044-a67a-08ead1aa6b46",
   "metadata": {},
   "outputs": [],
   "source": [
    "# 048"
   ]
  },
  {
   "cell_type": "code",
   "execution_count": null,
   "id": "d353f100-4ee4-4ac7-9eca-9cbe8cb6cd96",
   "metadata": {},
   "outputs": [],
   "source": []
  },
  {
   "cell_type": "code",
   "execution_count": null,
   "id": "d7930ab8-0911-454e-b6f3-d301e183354c",
   "metadata": {},
   "outputs": [],
   "source": [
    "# 049"
   ]
  },
  {
   "cell_type": "code",
   "execution_count": null,
   "id": "f4564385-57cd-4211-bae5-23af5565b4a9",
   "metadata": {},
   "outputs": [],
   "source": []
  },
  {
   "cell_type": "code",
   "execution_count": null,
   "id": "84efb66e-6a3d-4870-aee7-85f57e2007c3",
   "metadata": {},
   "outputs": [],
   "source": [
    "# 050"
   ]
  },
  {
   "cell_type": "code",
   "execution_count": null,
   "id": "c6c7a615-47a4-4ace-9fef-fab990316cb1",
   "metadata": {},
   "outputs": [],
   "source": []
  },
  {
   "cell_type": "markdown",
   "id": "1846b055-9de8-498c-b2fa-5938047c4c7c",
   "metadata": {},
   "source": [
    "# 파이썬 리스트"
   ]
  },
  {
   "cell_type": "markdown",
   "id": "f5a9c33b-4d92-4d4b-9c06-c09e4d40e2b4",
   "metadata": {},
   "source": [
    "## 051 ~ 060"
   ]
  },
  {
   "cell_type": "code",
   "execution_count": null,
   "id": "836b497a-e7b0-4ae2-9b92-b2502b679b6f",
   "metadata": {},
   "outputs": [],
   "source": [
    "# 051"
   ]
  },
  {
   "cell_type": "code",
   "execution_count": null,
   "id": "6e10017b-0389-4805-8680-2f1a2ffc9450",
   "metadata": {},
   "outputs": [],
   "source": []
  },
  {
   "cell_type": "code",
   "execution_count": null,
   "id": "39552890-aa29-48b5-92d4-ad99107e1b0f",
   "metadata": {},
   "outputs": [],
   "source": [
    "# 052"
   ]
  },
  {
   "cell_type": "code",
   "execution_count": null,
   "id": "ba31d410-7820-47b8-b070-eb413eb00e0a",
   "metadata": {},
   "outputs": [],
   "source": []
  },
  {
   "cell_type": "code",
   "execution_count": null,
   "id": "26b3c89b-4613-4594-b458-a9219b78cdd1",
   "metadata": {},
   "outputs": [],
   "source": [
    "# 053"
   ]
  },
  {
   "cell_type": "code",
   "execution_count": null,
   "id": "4ff40d84-fba6-4fea-a241-a346c433d6ce",
   "metadata": {},
   "outputs": [],
   "source": []
  },
  {
   "cell_type": "code",
   "execution_count": null,
   "id": "d0b5f335-08e3-4a13-9783-49ee100e90b4",
   "metadata": {},
   "outputs": [],
   "source": [
    "# 054"
   ]
  },
  {
   "cell_type": "code",
   "execution_count": null,
   "id": "d80f4acb-2bfb-4a0e-be1a-53e282529130",
   "metadata": {},
   "outputs": [],
   "source": []
  },
  {
   "cell_type": "code",
   "execution_count": null,
   "id": "2b030db4-25b1-4726-a562-a06b8a2f72de",
   "metadata": {},
   "outputs": [],
   "source": [
    "# 055"
   ]
  },
  {
   "cell_type": "code",
   "execution_count": null,
   "id": "97dd82a1-6fc4-4195-85d9-893e17792003",
   "metadata": {},
   "outputs": [],
   "source": []
  },
  {
   "cell_type": "code",
   "execution_count": null,
   "id": "f5eaefc1-a606-4a4a-8bdb-04cb1957c3f3",
   "metadata": {},
   "outputs": [],
   "source": [
    "# 056"
   ]
  },
  {
   "cell_type": "code",
   "execution_count": null,
   "id": "0092b960-1de0-46ee-8bc4-b446e9fffb51",
   "metadata": {},
   "outputs": [],
   "source": []
  },
  {
   "cell_type": "code",
   "execution_count": null,
   "id": "7f942240-5327-434a-9a57-76145d405b1c",
   "metadata": {},
   "outputs": [],
   "source": [
    "# 057"
   ]
  },
  {
   "cell_type": "code",
   "execution_count": null,
   "id": "8f311a2f-eaf0-4f19-a848-e08d3ce58152",
   "metadata": {},
   "outputs": [],
   "source": []
  },
  {
   "cell_type": "code",
   "execution_count": null,
   "id": "0d9b6d5a-e5e0-4ac2-b8c0-fd12e1563acd",
   "metadata": {},
   "outputs": [],
   "source": [
    "# 058"
   ]
  },
  {
   "cell_type": "code",
   "execution_count": null,
   "id": "f16f9846-d1ed-43aa-b0b9-d58c40579e16",
   "metadata": {},
   "outputs": [],
   "source": []
  },
  {
   "cell_type": "code",
   "execution_count": null,
   "id": "8e574f12-c28e-41aa-a65c-65dfd58134a8",
   "metadata": {},
   "outputs": [],
   "source": [
    "# 059"
   ]
  },
  {
   "cell_type": "code",
   "execution_count": null,
   "id": "eaea2a99-e5d2-488e-b3f8-df7e36b138dc",
   "metadata": {},
   "outputs": [],
   "source": []
  },
  {
   "cell_type": "code",
   "execution_count": null,
   "id": "186572d2-3f84-437f-b714-ece32021b1e4",
   "metadata": {},
   "outputs": [],
   "source": [
    "# 060"
   ]
  },
  {
   "cell_type": "code",
   "execution_count": null,
   "id": "b40df8c1-3cdf-4f90-a9d1-83e3ab4b8628",
   "metadata": {},
   "outputs": [],
   "source": []
  },
  {
   "cell_type": "markdown",
   "id": "799fd010-cd4a-4356-8c13-e040595bc712",
   "metadata": {},
   "source": [
    "## 061 ~ 070"
   ]
  },
  {
   "cell_type": "code",
   "execution_count": null,
   "id": "a3168fb2-537f-46d3-a351-ae879f22ea3b",
   "metadata": {},
   "outputs": [],
   "source": [
    "# 061"
   ]
  },
  {
   "cell_type": "code",
   "execution_count": null,
   "id": "9f8b358c-e0b8-4240-8545-67f1b597a181",
   "metadata": {},
   "outputs": [],
   "source": []
  },
  {
   "cell_type": "code",
   "execution_count": null,
   "id": "2f3ac5c7-d748-4580-a373-a6d54f6b7b9e",
   "metadata": {},
   "outputs": [],
   "source": [
    "# 062"
   ]
  },
  {
   "cell_type": "code",
   "execution_count": null,
   "id": "68f27d0a-adcc-4345-9c01-97131cf931af",
   "metadata": {},
   "outputs": [],
   "source": []
  },
  {
   "cell_type": "code",
   "execution_count": null,
   "id": "678a8f21-123c-438c-8aa9-a0824e431ada",
   "metadata": {},
   "outputs": [],
   "source": [
    "# 063"
   ]
  },
  {
   "cell_type": "code",
   "execution_count": null,
   "id": "390c53c7-dc3a-45f2-9544-dd4076543de3",
   "metadata": {},
   "outputs": [],
   "source": []
  },
  {
   "cell_type": "code",
   "execution_count": null,
   "id": "48b924c8-534f-44dc-8ded-99501a10594e",
   "metadata": {},
   "outputs": [],
   "source": [
    "# 064"
   ]
  },
  {
   "cell_type": "code",
   "execution_count": null,
   "id": "77fe09a9-f0fe-4c14-a877-90dda1533d3e",
   "metadata": {},
   "outputs": [],
   "source": []
  },
  {
   "cell_type": "code",
   "execution_count": null,
   "id": "2c73b327-c903-44e7-997f-9524382d3fce",
   "metadata": {},
   "outputs": [],
   "source": [
    "# 065"
   ]
  },
  {
   "cell_type": "code",
   "execution_count": null,
   "id": "f4916f8e-9d72-4dad-a893-f80b6c4e8d5e",
   "metadata": {},
   "outputs": [],
   "source": []
  },
  {
   "cell_type": "code",
   "execution_count": null,
   "id": "824f0c75-6f81-4a38-8e9d-4669bc2918b4",
   "metadata": {},
   "outputs": [],
   "source": [
    "# 066"
   ]
  },
  {
   "cell_type": "code",
   "execution_count": null,
   "id": "1cc9a895-a039-400a-a11f-16464a7ad909",
   "metadata": {},
   "outputs": [],
   "source": []
  },
  {
   "cell_type": "code",
   "execution_count": null,
   "id": "8daa5c03-8a47-41d5-85a4-6e8b794b7351",
   "metadata": {},
   "outputs": [],
   "source": [
    "# 067"
   ]
  },
  {
   "cell_type": "code",
   "execution_count": null,
   "id": "fb55160a-b745-4902-8a3d-61299be7692d",
   "metadata": {},
   "outputs": [],
   "source": []
  },
  {
   "cell_type": "code",
   "execution_count": null,
   "id": "49a59baa-eaa0-4f3a-bae0-c3152ead8862",
   "metadata": {},
   "outputs": [],
   "source": [
    "# 068"
   ]
  },
  {
   "cell_type": "code",
   "execution_count": null,
   "id": "c168858c-8635-4417-8954-37558310c47c",
   "metadata": {},
   "outputs": [],
   "source": []
  },
  {
   "cell_type": "code",
   "execution_count": null,
   "id": "21d5492a-7f61-4f70-ac50-3ed0d3960b28",
   "metadata": {},
   "outputs": [],
   "source": [
    "# 069"
   ]
  },
  {
   "cell_type": "code",
   "execution_count": null,
   "id": "b50c7813-372c-4c6a-bff6-20c1e460d814",
   "metadata": {},
   "outputs": [],
   "source": []
  },
  {
   "cell_type": "code",
   "execution_count": null,
   "id": "e1a0d0c8-5126-43bb-a7d2-a2045652e83e",
   "metadata": {},
   "outputs": [],
   "source": [
    "# 070"
   ]
  },
  {
   "cell_type": "code",
   "execution_count": null,
   "id": "54c80dd9-95db-4896-ab29-c8dcc4cfc97b",
   "metadata": {},
   "outputs": [],
   "source": []
  },
  {
   "cell_type": "markdown",
   "id": "4251996f-b536-4dd0-be38-1ebdd9a847a9",
   "metadata": {},
   "source": [
    "# 파이썬 튜플"
   ]
  },
  {
   "cell_type": "markdown",
   "id": "7ed92d1e-6196-4959-8dff-4274d27a43ba",
   "metadata": {},
   "source": [
    "## 071 ~ 080"
   ]
  },
  {
   "cell_type": "code",
   "execution_count": null,
   "id": "bbecf694-d742-4323-9aba-34961167e0e2",
   "metadata": {},
   "outputs": [],
   "source": [
    "# 071"
   ]
  },
  {
   "cell_type": "code",
   "execution_count": null,
   "id": "33fec079-c74b-4151-a81a-34aa898a152e",
   "metadata": {},
   "outputs": [],
   "source": []
  },
  {
   "cell_type": "code",
   "execution_count": null,
   "id": "7b8ef487-8f27-455f-88bb-ba52472d526e",
   "metadata": {},
   "outputs": [],
   "source": [
    "# 072"
   ]
  },
  {
   "cell_type": "code",
   "execution_count": null,
   "id": "be0a2d3d-557a-4f67-9c0e-767f015259dd",
   "metadata": {},
   "outputs": [],
   "source": []
  },
  {
   "cell_type": "code",
   "execution_count": null,
   "id": "b7c1f296-a8ae-44ce-ab92-de66235134b6",
   "metadata": {},
   "outputs": [],
   "source": [
    "# 073"
   ]
  },
  {
   "cell_type": "code",
   "execution_count": null,
   "id": "a6a28006-74ad-41a0-b45b-8b68b172c0d7",
   "metadata": {},
   "outputs": [],
   "source": []
  },
  {
   "cell_type": "code",
   "execution_count": null,
   "id": "c30654c6-0d09-4e28-88b6-767aa4bcd23a",
   "metadata": {},
   "outputs": [],
   "source": [
    "# 074"
   ]
  },
  {
   "cell_type": "code",
   "execution_count": null,
   "id": "40acfe43-2324-495f-9916-822c507ff48a",
   "metadata": {},
   "outputs": [],
   "source": []
  },
  {
   "cell_type": "code",
   "execution_count": null,
   "id": "7b4ba2ed-4ef1-463a-a12f-82be70478c1f",
   "metadata": {},
   "outputs": [],
   "source": [
    "# 075"
   ]
  },
  {
   "cell_type": "code",
   "execution_count": null,
   "id": "2f9b5634-58c8-41d3-8478-c371ff5c2877",
   "metadata": {},
   "outputs": [],
   "source": []
  },
  {
   "cell_type": "code",
   "execution_count": null,
   "id": "7a209048-af2b-4be6-9987-5ba7420b148d",
   "metadata": {},
   "outputs": [],
   "source": [
    "# 076"
   ]
  },
  {
   "cell_type": "code",
   "execution_count": null,
   "id": "72e54fd4-0f63-4cce-bf56-2d1d52416945",
   "metadata": {},
   "outputs": [],
   "source": []
  },
  {
   "cell_type": "code",
   "execution_count": null,
   "id": "6aaf8494-dc31-4f89-ab38-38e7d3f0e3f5",
   "metadata": {},
   "outputs": [],
   "source": [
    "# 077"
   ]
  },
  {
   "cell_type": "code",
   "execution_count": null,
   "id": "311725ce-e2cd-483b-a10d-05eb81d39d18",
   "metadata": {},
   "outputs": [],
   "source": []
  },
  {
   "cell_type": "code",
   "execution_count": null,
   "id": "10c6205d-0afc-4582-9204-c9da23da71ed",
   "metadata": {},
   "outputs": [],
   "source": [
    "# 078"
   ]
  },
  {
   "cell_type": "code",
   "execution_count": null,
   "id": "fe1df429-4990-4ad6-9eb6-9a39a3f5369c",
   "metadata": {},
   "outputs": [],
   "source": []
  },
  {
   "cell_type": "code",
   "execution_count": null,
   "id": "e752f14a-11fd-4307-8b0d-0743422c023f",
   "metadata": {},
   "outputs": [],
   "source": [
    "# 079"
   ]
  },
  {
   "cell_type": "code",
   "execution_count": null,
   "id": "37fc6a71-dc33-497a-bb48-c60c6acd2595",
   "metadata": {},
   "outputs": [],
   "source": []
  },
  {
   "cell_type": "code",
   "execution_count": null,
   "id": "30ecdb26-f0ba-4b90-a601-b6a6591f8f69",
   "metadata": {},
   "outputs": [],
   "source": [
    "# 080"
   ]
  },
  {
   "cell_type": "code",
   "execution_count": null,
   "id": "bf5f7019-85b5-4468-be01-714a870b35b9",
   "metadata": {},
   "outputs": [],
   "source": []
  }
 ],
 "metadata": {
  "kernelspec": {
   "display_name": "Python 3 (ipykernel)",
   "language": "python",
   "name": "python3"
  },
  "language_info": {
   "codemirror_mode": {
    "name": "ipython",
    "version": 3
   },
   "file_extension": ".py",
   "mimetype": "text/x-python",
   "name": "python",
   "nbconvert_exporter": "python",
   "pygments_lexer": "ipython3",
   "version": "3.11.7"
  }
 },
 "nbformat": 4,
 "nbformat_minor": 5
}
