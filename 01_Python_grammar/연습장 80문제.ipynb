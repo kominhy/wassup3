{
 "cells": [
  {
   "cell_type": "markdown",
   "id": "764ef6d9-0cd9-48f2-bf51-c9bee376bc75",
   "metadata": {},
   "source": [
    "# 파이썬 시작하기"
   ]
  },
  {
   "cell_type": "code",
   "execution_count": 1,
   "id": "aa78bad9-5520-4bb5-a90e-9bb6e4763098",
   "metadata": {},
   "outputs": [
    {
     "name": "stdout",
     "output_type": "stream",
     "text": [
      "Hello World\n"
     ]
    }
   ],
   "source": [
    "# 001 화면에 (Hello World) 문자열을 출력하세요.\n",
    "print('Hello World')"
   ]
  },
  {
   "cell_type": "code",
   "execution_count": 2,
   "id": "d7d09bfa-8295-4102-8e9e-c5c2e4a5f8ba",
   "metadata": {},
   "outputs": [
    {
     "name": "stdout",
     "output_type": "stream",
     "text": [
      "Mary's cometics\n"
     ]
    }
   ],
   "source": [
    "# 002 화면에 (Mary's cosmetics)을 출력하세요.\n",
    "print(\"Mary's cometics\")"
   ]
  },
  {
   "cell_type": "code",
   "execution_count": 3,
   "id": "52d0ded1-6d30-45b5-923b-1c32183936d2",
   "metadata": {},
   "outputs": [
    {
     "name": "stdout",
     "output_type": "stream",
     "text": [
      "신씨가 소리질렀다. \"도둑이야\".\n"
     ]
    }
   ],
   "source": [
    "# 003 (신씨가 소리질렀다. \"도둑이야\".)을 출력하세요.\n",
    "print('신씨가 소리질렀다. \"도둑이야\".')"
   ]
  },
  {
   "cell_type": "code",
   "execution_count": 5,
   "id": "80065133-ed91-49f6-85f4-56aef486fa87",
   "metadata": {},
   "outputs": [
    {
     "name": "stdout",
     "output_type": "stream",
     "text": [
      "C:\\Windows\n"
     ]
    }
   ],
   "source": [
    "# 004 화면에 (C:\\Windows)를 출력하세요.\n",
    "print('C:\\Windows')"
   ]
  },
  {
   "cell_type": "code",
   "execution_count": 6,
   "id": "c39072e4-2eb6-4810-8bc6-f3884096b636",
   "metadata": {},
   "outputs": [
    {
     "name": "stdout",
     "output_type": "stream",
     "text": [
      "안녕하세요.\n",
      "만나서\t\t반갑습니다.\n"
     ]
    }
   ],
   "source": [
    "# 005 다음 코드(print(\"안녕하세요.\\n만나서\\t\\t반갑습니다.\"))를 실행해보고 \\t와 \\n의 역할을 설명해보세요.\n",
    "print(\"안녕하세요.\\n만나서\\t\\t반갑습니다.\")"
   ]
  },
  {
   "cell_type": "code",
   "execution_count": 7,
   "id": "83844e16-0047-4577-b2f4-f01b495bd466",
   "metadata": {},
   "outputs": [
    {
     "name": "stdout",
     "output_type": "stream",
     "text": [
      "안녕하세요.\n",
      "만나서\t반갑습니다.\n"
     ]
    }
   ],
   "source": [
    "# /n은 줄 바꿈, /t는 tab에 역할\n",
    "print(\"안녕하세요.\\n만나서\\t반갑습니다.\")"
   ]
  },
  {
   "cell_type": "code",
   "execution_count": null,
   "id": "1f08ccfb-60cd-4573-bbb6-e948276741a0",
   "metadata": {},
   "outputs": [],
   "source": []
  }
 ],
 "metadata": {
  "kernelspec": {
   "display_name": "Python 3 (ipykernel)",
   "language": "python",
   "name": "python3"
  },
  "language_info": {
   "codemirror_mode": {
    "name": "ipython",
    "version": 3
   },
   "file_extension": ".py",
   "mimetype": "text/x-python",
   "name": "python",
   "nbconvert_exporter": "python",
   "pygments_lexer": "ipython3",
   "version": "3.11.7"
  }
 },
 "nbformat": 4,
 "nbformat_minor": 5
}
