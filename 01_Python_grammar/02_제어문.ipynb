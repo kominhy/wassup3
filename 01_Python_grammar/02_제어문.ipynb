{
 "cells": [
  {
   "cell_type": "markdown",
   "id": "18d98bd4-04d3-434a-84df-82793d1466da",
   "metadata": {},
   "source": [
    "# if 분기문"
   ]
  },
  {
   "cell_type": "markdown",
   "id": "40b1afd4-d6da-4b21-85b3-73cf3a7fd2e4",
   "metadata": {},
   "source": [
    " 돈이 있으면 택시를 타고 가고, 돈이 없으면 걸어간다."
   ]
  },
  {
   "cell_type": "code",
   "execution_count": 5,
   "id": "288cd6a1-7779-40de-85fe-17ad31201a28",
   "metadata": {},
   "outputs": [
    {
     "name": "stdout",
     "output_type": "stream",
     "text": [
      "택시를 타고 가라\n"
     ]
    }
   ],
   "source": [
    "money = True\n",
    "if money :\n",
    "    print(\"택시를 타고 가라\")\n",
    "else :\n",
    "    print(\"걸어 가라\")"
   ]
  },
  {
   "cell_type": "code",
   "execution_count": 6,
   "id": "88a819d2-070a-46bc-809a-4fb0b7215302",
   "metadata": {},
   "outputs": [
    {
     "ename": "IndentationError",
     "evalue": "unexpected indent (3727431691.py, line 5)",
     "output_type": "error",
     "traceback": [
      "\u001b[1;36m  Cell \u001b[1;32mIn[6], line 5\u001b[1;36m\u001b[0m\n\u001b[1;33m    print(\"가라\")\u001b[0m\n\u001b[1;37m    ^\u001b[0m\n\u001b[1;31mIndentationError\u001b[0m\u001b[1;31m:\u001b[0m unexpected indent\n"
     ]
    }
   ],
   "source": [
    "money = True\n",
    "if money :\n",
    "    print(\"택시를\")\n",
    "print(\"타고\")\n",
    "    print(\"가라\")"
   ]
  },
  {
   "cell_type": "code",
   "execution_count": 7,
   "id": "987a6bfe-9b7a-4052-a105-10027bdbdce7",
   "metadata": {},
   "outputs": [
    {
     "ename": "IndentationError",
     "evalue": "unexpected indent (4056175731.py, line 5)",
     "output_type": "error",
     "traceback": [
      "\u001b[1;36m  Cell \u001b[1;32mIn[7], line 5\u001b[1;36m\u001b[0m\n\u001b[1;33m    print(\"가라\")\u001b[0m\n\u001b[1;37m    ^\u001b[0m\n\u001b[1;31mIndentationError\u001b[0m\u001b[1;31m:\u001b[0m unexpected indent\n"
     ]
    }
   ],
   "source": [
    "money = True\n",
    "if money :\n",
    "    print(\"택시를\")\n",
    "    print(\"타고\")\n",
    "        print(\"가라\")"
   ]
  },
  {
   "cell_type": "markdown",
   "id": "5f431909-065e-4c2e-99f4-613c905eeaef",
   "metadata": {},
   "source": [
    "## 조건문이란 무엇인가?"
   ]
  },
  {
   "cell_type": "markdown",
   "id": "953db1e5-41aa-4001-b20a-a4a15721b242",
   "metadata": {},
   "source": [
    "참과 거짓을 판단하는 문장"
   ]
  },
  {
   "cell_type": "code",
   "execution_count": 10,
   "id": "908cd7f1-5d09-4dfe-ac19-2e83d9321efc",
   "metadata": {},
   "outputs": [
    {
     "data": {
      "text/plain": [
       "True"
      ]
     },
     "execution_count": 10,
     "metadata": {},
     "output_type": "execute_result"
    }
   ],
   "source": [
    "# 비교 연산자\n",
    "x = 3\n",
    "y = 2\n",
    "x > y"
   ]
  },
  {
   "cell_type": "code",
   "execution_count": 11,
   "id": "c90eeb42-2fed-4180-a088-6b6dbaa4fc7d",
   "metadata": {},
   "outputs": [
    {
     "data": {
      "text/plain": [
       "False"
      ]
     },
     "execution_count": 11,
     "metadata": {},
     "output_type": "execute_result"
    }
   ],
   "source": [
    "x < y"
   ]
  },
  {
   "cell_type": "code",
   "execution_count": 12,
   "id": "d38f9f0d-40f3-403d-af78-ec9cfe726fd6",
   "metadata": {},
   "outputs": [
    {
     "data": {
      "text/plain": [
       "True"
      ]
     },
     "execution_count": 12,
     "metadata": {},
     "output_type": "execute_result"
    }
   ],
   "source": [
    "x != y"
   ]
  },
  {
   "cell_type": "markdown",
   "id": "21c85804-d8ee-4bc1-84fd-302c20f6b7e1",
   "metadata": {},
   "source": [
    "### Quiz "
   ]
  },
  {
   "cell_type": "markdown",
   "id": "64e24cb1-b1b3-412d-a534-35ce09f7ea92",
   "metadata": {},
   "source": [
    "만약 3000원 이상의 돈을 가지고 있으면 택시를 타고 가고, 그렇지 않으면 걸어가라.   \n",
    "money = True   \n",
    "if money :   \n",
    "    print(\"택시를 타고 가라\")   \n",
    "else :   \n",
    "    print(\"걸어 가라\")   "
   ]
  },
  {
   "cell_type": "code",
   "execution_count": 4,
   "id": "6680237a-604b-4d56-8d94-8da28015e27c",
   "metadata": {},
   "outputs": [
    {
     "name": "stdout",
     "output_type": "stream",
     "text": [
      "택시를 타고 가라\n"
     ]
    }
   ],
   "source": [
    "money = 4000\n",
    "if money >= 3000 :\n",
    "    print(\"택시를 타고 가라\")\n",
    "else :\n",
    "    print(\"걸어 가라\")"
   ]
  },
  {
   "cell_type": "code",
   "execution_count": 15,
   "id": "7908e626-b7e3-4aaf-a17b-7f8950126e1a",
   "metadata": {},
   "outputs": [
    {
     "name": "stdout",
     "output_type": "stream",
     "text": [
      "걸어 가라\n"
     ]
    }
   ],
   "source": [
    "money = 2000\n",
    "if money >= 3000 :\n",
    "    print(\"택시를 타고 가라\")\n",
    "else :\n",
    "    print(\"걸어 가라\")"
   ]
  },
  {
   "cell_type": "markdown",
   "id": "c10fbe2d-4fa4-4829-b617-6787b4effc2f",
   "metadata": {},
   "source": [
    "## and, or, not"
   ]
  },
  {
   "cell_type": "markdown",
   "id": "29077371-efb6-4468-870b-d77ed0e4baa9",
   "metadata": {},
   "source": [
    "### Quiz"
   ]
  },
  {
   "cell_type": "markdown",
   "id": "02dd58a7-2f4d-4880-a9d1-9418e9f7e710",
   "metadata": {},
   "source": [
    "돈이 3000원 이상 있거나 카드가 있다면 택시를 타고 가고, 그렇지 않으면 걸어가라."
   ]
  },
  {
   "cell_type": "code",
   "execution_count": 18,
   "id": "bc04d65c-1d8e-44a9-9f3b-50c09b63f50d",
   "metadata": {},
   "outputs": [
    {
     "name": "stdout",
     "output_type": "stream",
     "text": [
      "택시를 타고 가라\n"
     ]
    }
   ],
   "source": [
    "money = 2000\n",
    "card = True\n",
    "\n",
    "if money >= 3000 or card:\n",
    "    print(\"택시를 타고 가라\")\n",
    "else :\n",
    "    print(\"걸어 가라\")"
   ]
  },
  {
   "cell_type": "markdown",
   "id": "5c6a0394-abed-4fb4-82f8-2e62984a1334",
   "metadata": {},
   "source": [
    "## in, not in"
   ]
  },
  {
   "cell_type": "code",
   "execution_count": 20,
   "id": "c4079d59-2e09-4a82-816f-bcaee385b4e2",
   "metadata": {},
   "outputs": [
    {
     "data": {
      "text/plain": [
       "True"
      ]
     },
     "execution_count": 20,
     "metadata": {},
     "output_type": "execute_result"
    }
   ],
   "source": [
    "1 in[1, 2, 3]"
   ]
  },
  {
   "cell_type": "code",
   "execution_count": 22,
   "id": "3a3dc6a0-5618-4810-b4f3-322c022459a2",
   "metadata": {},
   "outputs": [
    {
     "data": {
      "text/plain": [
       "False"
      ]
     },
     "execution_count": 22,
     "metadata": {},
     "output_type": "execute_result"
    }
   ],
   "source": [
    "1 not in [1, 2, 3]"
   ]
  },
  {
   "cell_type": "code",
   "execution_count": 23,
   "id": "343d8231-5f75-404d-bf4c-a7c539f26788",
   "metadata": {},
   "outputs": [
    {
     "data": {
      "text/plain": [
       "True"
      ]
     },
     "execution_count": 23,
     "metadata": {},
     "output_type": "execute_result"
    }
   ],
   "source": [
    "'a' in ('a', 'b', 'c')"
   ]
  },
  {
   "cell_type": "markdown",
   "id": "fac550f9-d43d-4a31-b611-53652a2d471a",
   "metadata": {},
   "source": [
    "#### Quiz"
   ]
  },
  {
   "cell_type": "markdown",
   "id": "9bddb49a-c8c2-43dd-80b6-a7138605ffeb",
   "metadata": {},
   "source": [
    "만약 주머니에 돈이 있으면 택시를 타고 가고, 없으면 걸어가라."
   ]
  },
  {
   "cell_type": "code",
   "execution_count": 24,
   "id": "4e998aa0-9674-4b9f-8cda-3574bece3184",
   "metadata": {},
   "outputs": [
    {
     "name": "stdout",
     "output_type": "stream",
     "text": [
      "택시를 타고가라\n"
     ]
    }
   ],
   "source": [
    "pocket = ['key', 'notebook', 'money']\n",
    "\n",
    "if 'money' in pocket :\n",
    "    print('택시를 타고가라')\n",
    "else :\n",
    "    print('걸어가라')"
   ]
  },
  {
   "cell_type": "markdown",
   "id": "b5021401-b439-49e5-970d-ff6bf6e1448f",
   "metadata": {},
   "source": [
    "## 조건문에서 아무 일도 하지 않게 설정하려면\n",
    "주머니에 돈이 있으면 가만히 있고, 주머니에 돈이 없으면 카드를 꺼내라."
   ]
  },
  {
   "cell_type": "code",
   "execution_count": 34,
   "id": "f2c2df3c-d36a-445b-9439-78726863279c",
   "metadata": {},
   "outputs": [],
   "source": [
    "pocket = ['key', 'notebook', 'money']\n",
    "\n",
    "if 'money' in pocket :\n",
    "    pass\n",
    "else :\n",
    "    print('걸어가라')"
   ]
  },
  {
   "cell_type": "markdown",
   "id": "8b3e5f9c-0f65-4a3d-be27-9e508409cad3",
   "metadata": {},
   "source": [
    "## 다양한 조건을 판단하는 elif"
   ]
  },
  {
   "cell_type": "code",
   "execution_count": 6,
   "id": "90aa898b-ee87-44f8-b101-0161d5d265f2",
   "metadata": {},
   "outputs": [
    {
     "ename": "SyntaxError",
     "evalue": "invalid syntax (113927932.py, line 1)",
     "output_type": "error",
     "traceback": [
      "\u001b[1;36m  Cell \u001b[1;32mIn[6], line 1\u001b[1;36m\u001b[0m\n\u001b[1;33m    주머니에 돈이 있으면 택시를 타고 가고,\u001b[0m\n\u001b[1;37m         ^\u001b[0m\n\u001b[1;31mSyntaxError\u001b[0m\u001b[1;31m:\u001b[0m invalid syntax\n"
     ]
    }
   ],
   "source": [
    "주머니에 돈이 있으면 택시를 타고 가고,\n",
    "주머니에 돈은 없지만 카드가 있으면 택시를 타고 가고,\n",
    "돈도 없고 카드도 없으면 걸어가라"
   ]
  },
  {
   "cell_type": "code",
   "execution_count": 29,
   "id": "5631d880-ca48-4b9e-a117-94e88bf44aa9",
   "metadata": {},
   "outputs": [
    {
     "name": "stdout",
     "output_type": "stream",
     "text": [
      "택시를 타고 간다\n"
     ]
    }
   ],
   "source": [
    "p = ['money', 'key', 'candy']\n",
    "c = True\n",
    "if 'money' in p :\n",
    "    print('택시를 타고 간다')\n",
    "else :\n",
    "    if c : \n",
    "        print('택시를 타고 간다')\n",
    "    else :\n",
    "        print('걸어간다')"
   ]
  },
  {
   "cell_type": "code",
   "execution_count": 32,
   "id": "47eabdcd-466f-4cbb-b9eb-d1c4c7f8fb1e",
   "metadata": {},
   "outputs": [
    {
     "name": "stdout",
     "output_type": "stream",
     "text": [
      "걸어간다\n"
     ]
    }
   ],
   "source": [
    "p = ['chips', 'key', 'candy']\n",
    "c = False\n",
    "if 'money' in p :\n",
    "    print('택시를 타고 간다')\n",
    "elif c :\n",
    "    print('택시를 타고 간다')\n",
    "else :\n",
    "    print('걸어간다')"
   ]
  },
  {
   "cell_type": "code",
   "execution_count": 39,
   "id": "8839e08f-2eae-4b4c-b771-bfbc43a13a2b",
   "metadata": {},
   "outputs": [
    {
     "name": "stdout",
     "output_type": "stream",
     "text": [
      "택시를 타고 간다\n"
     ]
    }
   ],
   "source": [
    "p = ['chips', 'key', 'candy', 'card']\n",
    "if 'money' in p :\n",
    "    print('택시를 타고 간다')\n",
    "elif 'card' in p :\n",
    "    print('택시를 타고 간다')\n",
    "else :\n",
    "    print('걸어간다')"
   ]
  },
  {
   "cell_type": "code",
   "execution_count": 33,
   "id": "2a422ff9-adf6-49e4-a8d2-0e5d542b76f1",
   "metadata": {},
   "outputs": [],
   "source": [
    "# if 문 한줄로 작성하기\n",
    "if 'money' in pocket :\n",
    "    pass\n",
    "else :\n",
    "    print('걸어가라')\n",
    "------------------------------------\n",
    "if 'money' in pocket:pass\n",
    "else:print('걸어가라')"
   ]
  },
  {
   "cell_type": "markdown",
   "id": "535e1f1d-7050-4eb4-9daa-73c0d421f624",
   "metadata": {},
   "source": [
    "## 조건부 표현식"
   ]
  },
  {
   "cell_type": "code",
   "execution_count": 35,
   "id": "ad3229c0-c66f-460f-9908-4d9c18bf4e38",
   "metadata": {},
   "outputs": [
    {
     "name": "stdout",
     "output_type": "stream",
     "text": [
      "success\n"
     ]
    }
   ],
   "source": [
    "score = 88\n",
    "if score >= 60 : \n",
    "    message = \"success\"\n",
    "    #print(message)\n",
    "else :\n",
    "    message = \"failure\"\n",
    "    #print(message)\n",
    "print(message)"
   ]
  },
  {
   "cell_type": "code",
   "execution_count": 36,
   "id": "5bc96a21-02e2-4b11-a5c8-5a4d22a65627",
   "metadata": {},
   "outputs": [
    {
     "name": "stdout",
     "output_type": "stream",
     "text": [
      "success\n"
     ]
    }
   ],
   "source": [
    "message = \"success\" if score >= 60 else \"failure\"\n",
    "print(message)"
   ]
  },
  {
   "cell_type": "markdown",
   "id": "82d0d6f9-4507-4942-acc7-5d0bcefd0d06",
   "metadata": {},
   "source": [
    "## While 조건 반복문"
   ]
  },
  {
   "cell_type": "markdown",
   "id": "9a97cf4f-0a7d-44f2-b4c3-e3a58a6c6a12",
   "metadata": {},
   "source": [
    "'열 번 찍어 안 넘어가는 나무 없다' 속담을 구현해보자"
   ]
  },
  {
   "cell_type": "code",
   "execution_count": 41,
   "id": "10e8ecb8-ccec-4e2a-8f04-92902385416a",
   "metadata": {},
   "outputs": [
    {
     "name": "stdout",
     "output_type": "stream",
     "text": [
      "나무를 1번 찍었습니다.\n",
      "나무를 2번 찍었습니다.\n",
      "나무를 3번 찍었습니다.\n",
      "나무를 4번 찍었습니다.\n",
      "나무를 5번 찍었습니다.\n",
      "나무를 6번 찍었습니다.\n",
      "나무를 7번 찍었습니다.\n",
      "나무를 8번 찍었습니다.\n",
      "나무를 9번 찍었습니다.\n",
      "나무를 10번 찍었습니다.\n",
      "나무 넘어갑니다.\n"
     ]
    }
   ],
   "source": [
    "treeHit = 0\n",
    "while treeHit < 10 :\n",
    "    treeHit = treeHit + 1\n",
    "    print(\"나무를 %d번 찍었습니다.\"%treeHit)\n",
    "    if treeHit == 10 :\n",
    "        print(\"나무 넘어갑니다.\")"
   ]
  },
  {
   "cell_type": "markdown",
   "id": "e2f7b1b8-a7cf-4654-b622-069ec45338e1",
   "metadata": {},
   "source": [
    "## while 문 만들기"
   ]
  },
  {
   "cell_type": "code",
   "execution_count": 45,
   "id": "d107cdd5-6100-43e0-9144-5e2a4c20a211",
   "metadata": {},
   "outputs": [],
   "source": [
    "prompt = \"\"\"\n",
    "1. Add\n",
    "2. Del\n",
    "3. List\n",
    "4. Quit\n",
    "\n",
    "Enter Number : \"\"\""
   ]
  },
  {
   "cell_type": "code",
   "execution_count": 46,
   "id": "bd6b2981-4543-446d-a232-551cb446fb42",
   "metadata": {},
   "outputs": [
    {
     "name": "stdout",
     "output_type": "stream",
     "text": [
      "\n",
      "1. Add\n",
      "2. Del\n",
      "3. List\n",
      "4. Quit\n",
      "\n",
      "Enter Number : \n"
     ]
    }
   ],
   "source": [
    "print(prompt)"
   ]
  },
  {
   "cell_type": "code",
   "execution_count": 48,
   "id": "6308a834-c6bc-4fe3-bb78-91abe61985f1",
   "metadata": {},
   "outputs": [
    {
     "name": "stdout",
     "output_type": "stream",
     "text": [
      "\n",
      "1. Add\n",
      "2. Del\n",
      "3. List\n",
      "4. Quit\n",
      "\n",
      "Enter Number : \n"
     ]
    },
    {
     "name": "stdin",
     "output_type": "stream",
     "text": [
      " 1\n"
     ]
    },
    {
     "name": "stdout",
     "output_type": "stream",
     "text": [
      "\n",
      "1. Add\n",
      "2. Del\n",
      "3. List\n",
      "4. Quit\n",
      "\n",
      "Enter Number : \n"
     ]
    },
    {
     "name": "stdin",
     "output_type": "stream",
     "text": [
      " 2\n"
     ]
    },
    {
     "name": "stdout",
     "output_type": "stream",
     "text": [
      "\n",
      "1. Add\n",
      "2. Del\n",
      "3. List\n",
      "4. Quit\n",
      "\n",
      "Enter Number : \n"
     ]
    },
    {
     "name": "stdin",
     "output_type": "stream",
     "text": [
      " 4\n"
     ]
    }
   ],
   "source": [
    "number = 0\n",
    "while number != 4:\n",
    "    print(prompt)\n",
    "    number = int(input())"
   ]
  },
  {
   "cell_type": "markdown",
   "id": "63b388c1-2bcb-4f2f-bb5f-1f2b1611518e",
   "metadata": {},
   "source": [
    "## while문 강제로 빠져나가기"
   ]
  },
  {
   "cell_type": "code",
   "execution_count": 49,
   "id": "cb8d05e3-2971-4ae8-ae2b-8a13f59c67ff",
   "metadata": {},
   "outputs": [
    {
     "name": "stdout",
     "output_type": "stream",
     "text": [
      "돈을 받았으니 커피를 줍니다.\n",
      "남은 커피의 양은 9\n",
      "돈을 받았으니 커피를 줍니다.\n",
      "남은 커피의 양은 8\n",
      "돈을 받았으니 커피를 줍니다.\n",
      "남은 커피의 양은 7\n",
      "돈을 받았으니 커피를 줍니다.\n",
      "남은 커피의 양은 6\n",
      "돈을 받았으니 커피를 줍니다.\n",
      "남은 커피의 양은 5\n",
      "돈을 받았으니 커피를 줍니다.\n",
      "남은 커피의 양은 4\n",
      "돈을 받았으니 커피를 줍니다.\n",
      "남은 커피의 양은 3\n",
      "돈을 받았으니 커피를 줍니다.\n",
      "남은 커피의 양은 2\n",
      "돈을 받았으니 커피를 줍니다.\n",
      "남은 커피의 양은 1\n",
      "돈을 받았으니 커피를 줍니다.\n",
      "남은 커피의 양은 0\n",
      "커피가 다 떨어져서 판매를 중지합니다.\n"
     ]
    }
   ],
   "source": [
    "money = 300\n",
    "coffee = 10\n",
    "\n",
    "while money :\n",
    "    print('돈을 받았으니 커피를 줍니다.')\n",
    "    coffee = coffee - 1\n",
    "    print('남은 커피의 양은 %d'%coffee)\n",
    "    if coffee == 0 :\n",
    "        print('커피가 다 떨어져서 판매를 중지합니다.')\n",
    "        break"
   ]
  },
  {
   "cell_type": "markdown",
   "id": "c5cc8e79-ab83-4451-a3a6-341f37f5f5a2",
   "metadata": {},
   "source": [
    "### quiz\n",
    "*money를 사용자 입력을 받습니다.   \n",
    "*커피 가격은 300원입니다.   \n",
    "*커피 가격이 일치 않으면 잔돈을 거슬러줍니다.   \n",
    "*커피 재고가 떨어지면 종료합니다."
   ]
  },
  {
   "cell_type": "code",
   "execution_count": 64,
   "id": "698fa0cb-9f0a-4bcb-b99c-4b1125ec8f54",
   "metadata": {},
   "outputs": [
    {
     "name": "stdin",
     "output_type": "stream",
     "text": [
      " 300\n"
     ]
    },
    {
     "name": "stdout",
     "output_type": "stream",
     "text": [
      "돈을 받았으니 커피를 줍니다.\n",
      "남은 커피의 양은 9\n"
     ]
    },
    {
     "name": "stdin",
     "output_type": "stream",
     "text": [
      " 200\n"
     ]
    },
    {
     "name": "stdout",
     "output_type": "stream",
     "text": [
      "돈이 부족합니다. 돈을 반환합니다.\n"
     ]
    },
    {
     "name": "stdin",
     "output_type": "stream",
     "text": [
      " 300\n"
     ]
    },
    {
     "name": "stdout",
     "output_type": "stream",
     "text": [
      "돈을 받았으니 커피를 줍니다.\n",
      "남은 커피의 양은 8\n"
     ]
    },
    {
     "name": "stdin",
     "output_type": "stream",
     "text": [
      " 300\n"
     ]
    },
    {
     "name": "stdout",
     "output_type": "stream",
     "text": [
      "돈을 받았으니 커피를 줍니다.\n",
      "남은 커피의 양은 7\n"
     ]
    },
    {
     "name": "stdin",
     "output_type": "stream",
     "text": [
      " 300\n"
     ]
    },
    {
     "name": "stdout",
     "output_type": "stream",
     "text": [
      "돈을 받았으니 커피를 줍니다.\n",
      "남은 커피의 양은 6\n"
     ]
    },
    {
     "name": "stdin",
     "output_type": "stream",
     "text": [
      " 300\n"
     ]
    },
    {
     "name": "stdout",
     "output_type": "stream",
     "text": [
      "돈을 받았으니 커피를 줍니다.\n",
      "남은 커피의 양은 5\n"
     ]
    },
    {
     "name": "stdin",
     "output_type": "stream",
     "text": [
      " 300\n"
     ]
    },
    {
     "name": "stdout",
     "output_type": "stream",
     "text": [
      "돈을 받았으니 커피를 줍니다.\n",
      "남은 커피의 양은 4\n"
     ]
    },
    {
     "name": "stdin",
     "output_type": "stream",
     "text": [
      " 300\n"
     ]
    },
    {
     "name": "stdout",
     "output_type": "stream",
     "text": [
      "돈을 받았으니 커피를 줍니다.\n",
      "남은 커피의 양은 3\n"
     ]
    },
    {
     "name": "stdin",
     "output_type": "stream",
     "text": [
      " 300\n"
     ]
    },
    {
     "name": "stdout",
     "output_type": "stream",
     "text": [
      "돈을 받았으니 커피를 줍니다.\n",
      "남은 커피의 양은 2\n"
     ]
    },
    {
     "name": "stdin",
     "output_type": "stream",
     "text": [
      " 300\n"
     ]
    },
    {
     "name": "stdout",
     "output_type": "stream",
     "text": [
      "돈을 받았으니 커피를 줍니다.\n",
      "남은 커피의 양은 1\n"
     ]
    },
    {
     "name": "stdin",
     "output_type": "stream",
     "text": [
      " 300\n"
     ]
    },
    {
     "name": "stdout",
     "output_type": "stream",
     "text": [
      "돈을 받았으니 커피를 줍니다.\n",
      "남은 커피의 양은 0\n"
     ]
    }
   ],
   "source": [
    "money = 0\n",
    "coffee = 10\n",
    "\n",
    "while coffee != 0 :\n",
    "    money = int(input())\n",
    "    if money == 300 :\n",
    "        print('돈을 받았으니 커피를 줍니다.')\n",
    "        coffee = coffee - 1\n",
    "        print('남은 커피의 양은 %d'%coffee)\n",
    "    elif money >= 301 :\n",
    "        print('돈을 받았으니 커피와 잔돈를 줍니다.')\n",
    "        coffee = coffee - 1\n",
    "        print('남은 커피의 양은 %d'%coffee)\n",
    "    else : \n",
    "        print('돈이 부족합니다. 돈을 반환합니다.')\n",
    "        if coffee == 0 :\n",
    "            print('커피가 다 떨어져서 판매를 중지합니다.')\n",
    "            break"
   ]
  },
  {
   "cell_type": "code",
   "execution_count": 2,
   "id": "1de7c670-8952-44d6-b9b0-0c57e59ffd3a",
   "metadata": {},
   "outputs": [
    {
     "name": "stdin",
     "output_type": "stream",
     "text": [
      " 300\n"
     ]
    },
    {
     "name": "stdout",
     "output_type": "stream",
     "text": [
      "돈을 받았으니 커피를 줍니다.\n",
      "남은 커피의 양은 9\n"
     ]
    },
    {
     "name": "stdin",
     "output_type": "stream",
     "text": [
      " 300\n"
     ]
    },
    {
     "name": "stdout",
     "output_type": "stream",
     "text": [
      "돈을 받았으니 커피를 줍니다.\n",
      "남은 커피의 양은 8\n"
     ]
    },
    {
     "name": "stdin",
     "output_type": "stream",
     "text": [
      " 300\n"
     ]
    },
    {
     "name": "stdout",
     "output_type": "stream",
     "text": [
      "돈을 받았으니 커피를 줍니다.\n",
      "남은 커피의 양은 7\n"
     ]
    },
    {
     "name": "stdin",
     "output_type": "stream",
     "text": [
      " 300\n"
     ]
    },
    {
     "name": "stdout",
     "output_type": "stream",
     "text": [
      "돈을 받았으니 커피를 줍니다.\n",
      "남은 커피의 양은 6\n"
     ]
    },
    {
     "name": "stdin",
     "output_type": "stream",
     "text": [
      " 300\n"
     ]
    },
    {
     "name": "stdout",
     "output_type": "stream",
     "text": [
      "돈을 받았으니 커피를 줍니다.\n",
      "남은 커피의 양은 5\n"
     ]
    },
    {
     "name": "stdin",
     "output_type": "stream",
     "text": [
      " 300\n"
     ]
    },
    {
     "name": "stdout",
     "output_type": "stream",
     "text": [
      "돈을 받았으니 커피를 줍니다.\n",
      "남은 커피의 양은 4\n"
     ]
    },
    {
     "name": "stdin",
     "output_type": "stream",
     "text": [
      " 300\n"
     ]
    },
    {
     "name": "stdout",
     "output_type": "stream",
     "text": [
      "돈을 받았으니 커피를 줍니다.\n",
      "남은 커피의 양은 3\n"
     ]
    },
    {
     "name": "stdin",
     "output_type": "stream",
     "text": [
      " 300\n"
     ]
    },
    {
     "name": "stdout",
     "output_type": "stream",
     "text": [
      "돈을 받았으니 커피를 줍니다.\n",
      "남은 커피의 양은 2\n"
     ]
    },
    {
     "name": "stdin",
     "output_type": "stream",
     "text": [
      " 300\n"
     ]
    },
    {
     "name": "stdout",
     "output_type": "stream",
     "text": [
      "돈을 받았으니 커피를 줍니다.\n",
      "남은 커피의 양은 1\n"
     ]
    },
    {
     "name": "stdin",
     "output_type": "stream",
     "text": [
      " 300\n"
     ]
    },
    {
     "name": "stdout",
     "output_type": "stream",
     "text": [
      "돈을 받았으니 커피를 줍니다.\n",
      "남은 커피의 양은 0\n"
     ]
    }
   ],
   "source": [
    "money = 0\n",
    "coffee = 10\n",
    "\n",
    "while coffee != 0 :\n",
    "    money = int(input())\n",
    "    if money == 300 :\n",
    "        print('돈을 받았으니 커피를 줍니다.')\n",
    "        coffee = coffee - 1\n",
    "        print('남은 커피의 양은 %d'%coffee)\n",
    "    elif money > 300 :\n",
    "        money = money - 300\n",
    "        print('돈을 받았으니 커피와 잔돈%d를 줍니다.'%money)\n",
    "        coffee = coffee - 1\n",
    "        print('남은 커피의 양은 %d'%coffee)\n",
    "    else : \n",
    "        print('돈이 부족합니다. 돈을 반환합니다.')\n",
    "        if coffee == 0 :\n",
    "            print('커피가 다 떨어져서 판매를 중지합니다.')\n",
    "            break"
   ]
  },
  {
   "cell_type": "code",
   "execution_count": 3,
   "id": "92a2f50e-88f9-4933-b1b5-a8b1b2a1b49c",
   "metadata": {},
   "outputs": [
    {
     "name": "stdin",
     "output_type": "stream",
     "text": [
      "돈을 넣어주세요. 300\n"
     ]
    },
    {
     "name": "stdout",
     "output_type": "stream",
     "text": [
      "300원을 받았습니다. 커피를 줍니다.\n",
      "남은 커피의 양은 9\n"
     ]
    },
    {
     "name": "stdin",
     "output_type": "stream",
     "text": [
      "돈을 넣어주세요. 300\n"
     ]
    },
    {
     "name": "stdout",
     "output_type": "stream",
     "text": [
      "300원을 받았습니다. 커피를 줍니다.\n",
      "남은 커피의 양은 8\n"
     ]
    },
    {
     "name": "stdin",
     "output_type": "stream",
     "text": [
      "돈을 넣어주세요. 300\n"
     ]
    },
    {
     "name": "stdout",
     "output_type": "stream",
     "text": [
      "300원을 받았습니다. 커피를 줍니다.\n",
      "남은 커피의 양은 7\n"
     ]
    },
    {
     "name": "stdin",
     "output_type": "stream",
     "text": [
      "돈을 넣어주세요. 300\n"
     ]
    },
    {
     "name": "stdout",
     "output_type": "stream",
     "text": [
      "300원을 받았습니다. 커피를 줍니다.\n",
      "남은 커피의 양은 6\n"
     ]
    },
    {
     "name": "stdin",
     "output_type": "stream",
     "text": [
      "돈을 넣어주세요. 300\n"
     ]
    },
    {
     "name": "stdout",
     "output_type": "stream",
     "text": [
      "300원을 받았습니다. 커피를 줍니다.\n",
      "남은 커피의 양은 5\n"
     ]
    },
    {
     "name": "stdin",
     "output_type": "stream",
     "text": [
      "돈을 넣어주세요. 300\n"
     ]
    },
    {
     "name": "stdout",
     "output_type": "stream",
     "text": [
      "300원을 받았습니다. 커피를 줍니다.\n",
      "남은 커피의 양은 4\n"
     ]
    },
    {
     "name": "stdin",
     "output_type": "stream",
     "text": [
      "돈을 넣어주세요. 300\n"
     ]
    },
    {
     "name": "stdout",
     "output_type": "stream",
     "text": [
      "300원을 받았습니다. 커피를 줍니다.\n",
      "남은 커피의 양은 3\n"
     ]
    },
    {
     "name": "stdin",
     "output_type": "stream",
     "text": [
      "돈을 넣어주세요. 300\n"
     ]
    },
    {
     "name": "stdout",
     "output_type": "stream",
     "text": [
      "300원을 받았습니다. 커피를 줍니다.\n",
      "남은 커피의 양은 2\n"
     ]
    },
    {
     "name": "stdin",
     "output_type": "stream",
     "text": [
      "돈을 넣어주세요. 300\n"
     ]
    },
    {
     "name": "stdout",
     "output_type": "stream",
     "text": [
      "300원을 받았습니다. 커피를 줍니다.\n",
      "남은 커피의 양은 1\n"
     ]
    },
    {
     "name": "stdin",
     "output_type": "stream",
     "text": [
      "돈을 넣어주세요. 300\n"
     ]
    },
    {
     "name": "stdout",
     "output_type": "stream",
     "text": [
      "300원을 받았습니다. 커피를 줍니다.\n",
      "남은 커피의 양은 0\n",
      "커피가 다 떨어졌습니다. 판매를 중지합니다.\n"
     ]
    }
   ],
   "source": [
    "coffee = 10\n",
    "\n",
    "while True :\n",
    "    money = int(input('돈을 넣어주세요.'))\n",
    "\n",
    "    if money == 300 :\n",
    "        print('300원을 받았습니다. 커피를 줍니다.')\n",
    "        coffee = coffee - 1\n",
    "        print('남은 커피의 양은 %d'%coffee)\n",
    "\n",
    "    elif money > 300 :\n",
    "        print('거스름돈을 주고 커피를 줍니다.')\n",
    "        coffee = coffee - 1\n",
    "        print('남은 커피의 양은 %d'%coffee)\n",
    "\n",
    "    else :\n",
    "        print('돈이 부족합니다. 커피를 주지 않습니다.')\n",
    "        print('남은 커피의 양은 %d'%coffee)\n",
    "\n",
    "    if coffee == 0 :\n",
    "        print('커피가 다 떨어졌습니다. 판매를 중지합니다.')\n",
    "        break"
   ]
  },
  {
   "cell_type": "markdown",
   "id": "827301ef-8fc3-4730-ab57-31fef8c03dd2",
   "metadata": {},
   "source": [
    "# for loop 반복문"
   ]
  },
  {
   "cell_type": "code",
   "execution_count": 1,
   "id": "011e8e13-e329-47aa-b0f1-695f8af5ba66",
   "metadata": {},
   "outputs": [
    {
     "name": "stdout",
     "output_type": "stream",
     "text": [
      "one\n",
      "two\n",
      "three\n"
     ]
    }
   ],
   "source": [
    "# 전형적인 for 문\n",
    "test_list = ['one', 'two', 'three']\n",
    "for i in test_list :\n",
    "    print(i)"
   ]
  },
  {
   "cell_type": "code",
   "execution_count": 2,
   "id": "2cf50314-39af-4b08-9ca1-4bc04168640a",
   "metadata": {},
   "outputs": [
    {
     "name": "stdout",
     "output_type": "stream",
     "text": [
      "3\n",
      "7\n",
      "11\n"
     ]
    }
   ],
   "source": [
    "a = [(1, 2),(3, 4),(5, 6)]\n",
    "for (first, last) in a :\n",
    "    print(first + last)"
   ]
  },
  {
   "cell_type": "code",
   "execution_count": null,
   "id": "0e50b402-5d5c-4ab1-8dd6-99a7511539cb",
   "metadata": {},
   "outputs": [],
   "source": [
    "# for 문의 응용\n",
    "for 문의 쓰임새를 알기 위해 다음과 같은 문제를 생각해 보자.\n",
    "\n",
    "총 5명의 학생이 시험을 보았는데 시험 점수가 60점 이상이면 합격이고 그렇지 않으면 불합격이다. 합격인지, 불합격인지 결과를 보여 주시오.\n",
    "먼저 학생 5명의 시험 점수를 리스트로 표현해 보자.\n",
    "\n",
    "marks = [90, 25, 67, 45, 80]\n",
    "1번 학생은 90점이고 5번 학생은 80점이다.\n",
    "\n",
    "이런 점수를 차례로 검사해서 합격했는지, 불합격했는지 통보해 주는 프로그램을 만들어 보자. IDLE 에디터로 작성하자."
   ]
  },
  {
   "cell_type": "code",
   "execution_count": 7,
   "id": "dfbbc598-31d1-415b-9c11-14db52bd6fcb",
   "metadata": {},
   "outputs": [
    {
     "name": "stdout",
     "output_type": "stream",
     "text": [
      "합격\n",
      "불합격\n",
      "합격\n",
      "불합격\n",
      "합격\n"
     ]
    }
   ],
   "source": [
    "marks = [90, 25, 67, 45, 80]\n",
    "\n",
    "for i in marks :\n",
    "    if i >=60 :\n",
    "        print('합격')\n",
    "    else :\n",
    "        print('불합격')"
   ]
  },
  {
   "cell_type": "code",
   "execution_count": 8,
   "id": "62e92a04-09ba-49c3-aef8-b4e41bdd0bc7",
   "metadata": {},
   "outputs": [
    {
     "name": "stdout",
     "output_type": "stream",
     "text": [
      "1번 학생은 합격입니다.\n",
      "2번 학생은 불합격입니다.\n",
      "3번 학생은 합격입니다.\n",
      "4번 학생은 불합격입니다.\n",
      "5번 학생은 합격입니다.\n"
     ]
    }
   ],
   "source": [
    "# marks1.py\n",
    "marks = [90, 25, 67, 45, 80]   # 학생들의 시험 점수 리스트\n",
    "\n",
    "number = 0   # 학생에게 붙여 줄 번호\n",
    "for mark in marks:   # 90, 25, 67, 45, 80을 순서대로 mark에 대입\n",
    "    number = number +1 \n",
    "    if mark >= 60: \n",
    "        print(\"%d번 학생은 합격입니다.\" % number)\n",
    "    else: \n",
    "        print(\"%d번 학생은 불합격입니다.\" % number)"
   ]
  },
  {
   "cell_type": "markdown",
   "id": "da0d8bc1-9761-417e-ae0d-3074355b8885",
   "metadata": {},
   "source": [
    "## for문과 continue문"
   ]
  },
  {
   "cell_type": "code",
   "execution_count": null,
   "id": "321418de-64fa-448d-8882-ccca9fb84d83",
   "metadata": {},
   "outputs": [],
   "source": [
    "while 문에서 살펴본 continue 문을 for 문에서도 사용할 수 있다. \n",
    "즉, for 문 안의 문장을 수행하는 도중 continue 문을 만나면 for 문의 처음으로 돌아가게 된다.\n",
    "\n",
    "앞에서 for 문 응용 예제를 그대로 사용해서 60점 이상인 사람에게는 축하 메시지를 보내고 나머지 사람에게는 \n",
    "아무런 메시지도 전하지 않는 프로그램을 IDLE 에디터로 작성해 보자.\n",
    "\n",
    "# marks2.py\n",
    "marks = [90, 25, 67, 45, 80]"
   ]
  },
  {
   "cell_type": "code",
   "execution_count": 12,
   "id": "ee1fd22d-d82f-45d6-841f-547fdeeb0f10",
   "metadata": {},
   "outputs": [
    {
     "name": "stdout",
     "output_type": "stream",
     "text": [
      "1번 학생은 합격입니다.\n",
      "3번 학생은 합격입니다.\n",
      "5번 학생은 합격입니다.\n"
     ]
    }
   ],
   "source": [
    "marks = [90, 25, 67, 45, 80]\n",
    "num=0\n",
    "\n",
    "for i in marks :\n",
    "    num = num+1\n",
    "    if 60 > i :\n",
    "        continue\n",
    "    print('%d번 학생은 합격입니다.'%num)\n",
    "        "
   ]
  },
  {
   "cell_type": "markdown",
   "id": "0d9237dd-43c2-4743-b268-0653bb54e090",
   "metadata": {},
   "source": [
    "## for문과 함께 자주 사용하는 range함수"
   ]
  },
  {
   "cell_type": "code",
   "execution_count": 13,
   "id": "311dd656-cf22-47ba-9728-08462d6af5b2",
   "metadata": {},
   "outputs": [
    {
     "data": {
      "text/plain": [
       "\u001b[1;31mInit signature:\u001b[0m \u001b[0mrange\u001b[0m\u001b[1;33m(\u001b[0m\u001b[0mself\u001b[0m\u001b[1;33m,\u001b[0m \u001b[1;33m/\u001b[0m\u001b[1;33m,\u001b[0m \u001b[1;33m*\u001b[0m\u001b[0margs\u001b[0m\u001b[1;33m,\u001b[0m \u001b[1;33m**\u001b[0m\u001b[0mkwargs\u001b[0m\u001b[1;33m)\u001b[0m\u001b[1;33m\u001b[0m\u001b[1;33m\u001b[0m\u001b[0m\n",
       "\u001b[1;31mDocstring:\u001b[0m     \n",
       "range(stop) -> range object\n",
       "range(start, stop[, step]) -> range object\n",
       "\n",
       "Return an object that produces a sequence of integers from start (inclusive)\n",
       "to stop (exclusive) by step.  range(i, j) produces i, i+1, i+2, ..., j-1.\n",
       "start defaults to 0, and stop is omitted!  range(4) produces 0, 1, 2, 3.\n",
       "These are exactly the valid indices for a list of 4 elements.\n",
       "When step is given, it specifies the increment (or decrement).\n",
       "\u001b[1;31mType:\u001b[0m           type\n",
       "\u001b[1;31mSubclasses:\u001b[0m     "
      ]
     },
     "metadata": {},
     "output_type": "display_data"
    }
   ],
   "source": [
    "range?"
   ]
  },
  {
   "cell_type": "code",
   "execution_count": 14,
   "id": "84051f01-4940-4d24-9cc7-88b0c1621b2d",
   "metadata": {},
   "outputs": [
    {
     "data": {
      "text/plain": [
       "range(0, 10)"
      ]
     },
     "execution_count": 14,
     "metadata": {},
     "output_type": "execute_result"
    }
   ],
   "source": [
    "range(10)"
   ]
  },
  {
   "cell_type": "code",
   "execution_count": 15,
   "id": "b2f019d9-3799-4aed-923e-1eaeee0ff135",
   "metadata": {},
   "outputs": [
    {
     "data": {
      "text/plain": [
       "range"
      ]
     },
     "execution_count": 15,
     "metadata": {},
     "output_type": "execute_result"
    }
   ],
   "source": [
    "type(range(10))"
   ]
  },
  {
   "cell_type": "code",
   "execution_count": 20,
   "id": "c347b1b5-2098-425d-8e42-cf3483a87856",
   "metadata": {},
   "outputs": [
    {
     "name": "stdout",
     "output_type": "stream",
     "text": [
      "0\n",
      "1\n",
      "2\n",
      "3\n",
      "4\n",
      "5\n",
      "6\n",
      "7\n",
      "8\n",
      "9\n"
     ]
    }
   ],
   "source": [
    "for i in range(10) :\n",
    "    print(i)"
   ]
  },
  {
   "cell_type": "code",
   "execution_count": 22,
   "id": "6f7c6434-70b6-4703-9a83-ba1f4751766e",
   "metadata": {},
   "outputs": [
    {
     "name": "stdout",
     "output_type": "stream",
     "text": [
      "1\n",
      "2\n",
      "3\n",
      "4\n",
      "5\n",
      "6\n",
      "7\n",
      "8\n",
      "9\n",
      "10\n"
     ]
    }
   ],
   "source": [
    "for i in range(1, 11) :\n",
    "    print(i)"
   ]
  },
  {
   "cell_type": "code",
   "execution_count": 26,
   "id": "9d66101c-631b-4110-98c7-d964edb7697c",
   "metadata": {},
   "outputs": [
    {
     "name": "stdout",
     "output_type": "stream",
     "text": [
      "2\n",
      "4\n",
      "6\n",
      "8\n",
      "10\n",
      "12\n",
      "14\n",
      "16\n",
      "18\n",
      "20\n"
     ]
    }
   ],
   "source": [
    "for i in range(1, 11) :\n",
    "    i = i+i\n",
    "    print(i)"
   ]
  },
  {
   "cell_type": "code",
   "execution_count": 28,
   "id": "1bb18f7e-6065-4127-8a0d-1e24e1936847",
   "metadata": {},
   "outputs": [
    {
     "name": "stdout",
     "output_type": "stream",
     "text": [
      "1\n",
      "3\n",
      "6\n",
      "10\n",
      "15\n",
      "21\n",
      "28\n",
      "36\n",
      "45\n",
      "55\n"
     ]
    }
   ],
   "source": [
    "sum = 0\n",
    "for i in range(1, 11):\n",
    "    sum += i\n",
    "    print(sum)"
   ]
  },
  {
   "cell_type": "code",
   "execution_count": 29,
   "id": "99fea730-69d2-44b6-9977-ba0233d9526a",
   "metadata": {},
   "outputs": [
    {
     "name": "stdout",
     "output_type": "stream",
     "text": [
      "55\n"
     ]
    }
   ],
   "source": [
    "sum = 0\n",
    "for i in range(1, 11):\n",
    "    sum += i #증감연산자 +=\n",
    "print(sum)"
   ]
  },
  {
   "cell_type": "code",
   "execution_count": 30,
   "id": "3d3c2994-4b21-4f2e-9c8d-b01ae6090ae5",
   "metadata": {},
   "outputs": [
    {
     "name": "stdout",
     "output_type": "stream",
     "text": [
      "1\n",
      "3\n",
      "6\n",
      "10\n",
      "15\n",
      "21\n",
      "28\n",
      "36\n",
      "45\n",
      "55\n"
     ]
    }
   ],
   "source": [
    "sum = 0\n",
    "for i in range(1, 11):\n",
    "    i = i + sum\n",
    "    sum = i\n",
    "    print(sum)"
   ]
  },
  {
   "cell_type": "code",
   "execution_count": 31,
   "id": "6af6bac6-ad32-421f-bc6b-f202b964b952",
   "metadata": {},
   "outputs": [
    {
     "name": "stdout",
     "output_type": "stream",
     "text": [
      "1번 학생 축하합니다. 합격입니다.\n",
      "3번 학생 축하합니다. 합격입니다.\n",
      "5번 학생 축하합니다. 합격입니다.\n"
     ]
    }
   ],
   "source": [
    "# marks3.py\n",
    "marks = [90, 25, 67, 45, 80]\n",
    "for number in range(len(marks)):\n",
    "    if marks[number] < 60: \n",
    "        continue\n",
    "    print(\"%d번 학생 축하합니다. 합격입니다.\" % (number+1))"
   ]
  },
  {
   "cell_type": "code",
   "execution_count": 32,
   "id": "042b7f84-2bdb-41d0-a84c-0d9fefc186e8",
   "metadata": {},
   "outputs": [
    {
     "data": {
      "text/plain": [
       "5"
      ]
     },
     "execution_count": 32,
     "metadata": {},
     "output_type": "execute_result"
    }
   ],
   "source": [
    "marks = [90, 25, 67, 45, 80]\n",
    "len(marks)"
   ]
  },
  {
   "cell_type": "code",
   "execution_count": 33,
   "id": "231ac42b-1c50-486a-bb38-911bbaf16b88",
   "metadata": {},
   "outputs": [
    {
     "data": {
      "text/plain": [
       "range(0, 5)"
      ]
     },
     "execution_count": 33,
     "metadata": {},
     "output_type": "execute_result"
    }
   ],
   "source": [
    "marks = [90, 25, 67, 45, 80]\n",
    "range(len(marks))"
   ]
  },
  {
   "cell_type": "code",
   "execution_count": null,
   "id": "703c17b6-5341-40ae-9ad4-ccf9da0abe31",
   "metadata": {},
   "outputs": [],
   "source": [
    "# 1번\n",
    "marks = [90, 25, 67, 45, 80]\n",
    "num=0\n",
    "\n",
    "for i in marks :\n",
    "    num = num+1\n",
    "    if 60 > i :\n",
    "        continue\n",
    "    print('%d번 학생은 합격입니다.'%num)\n",
    "\n",
    "# 2번\n",
    "marks = [90, 25, 67, 45, 80]\n",
    "\n",
    "for number in range(len(marks)):\n",
    "    if marks[number] < 60: \n",
    "        continue\n",
    "    print(\"%d번 학생 축하합니다. 합격입니다.\" % (number+1))\n",
    "\n",
    "# 변수를 줄일 수 있음. marks에 자리에 순서를 지정해서 num을 지정하지 않고, 각 자리에 번호를 대입가능함"
   ]
  },
  {
   "cell_type": "code",
   "execution_count": 36,
   "id": "92433221-8694-471a-8e41-d13fc852d110",
   "metadata": {},
   "outputs": [
    {
     "name": "stdout",
     "output_type": "stream",
     "text": [
      "1번 학생은 합격입니다.\n",
      "2번 학생은 불합격입니다.\n",
      "2번 학생은 합격입니다.\n",
      "3번 학생은 합격입니다.\n",
      "4번 학생은 불합격입니다.\n",
      "4번 학생은 합격입니다.\n",
      "5번 학생은 합격입니다.\n"
     ]
    }
   ],
   "source": [
    "marks = [90, 25, 67, 45, 80]\n",
    "num=0\n",
    "\n",
    "for i in marks :\n",
    "    num = num+1\n",
    "    if 60 > i :\n",
    "        print('%d번 학생은 불합격입니다.'%num)\n",
    "        pass\n",
    "    print('%d번 학생은 합격입니다.'%num)"
   ]
  },
  {
   "cell_type": "markdown",
   "id": "00c40d43-1827-4061-84a5-e25ed98e960e",
   "metadata": {},
   "source": [
    "### Quiz 구구단 프로그램"
   ]
  },
  {
   "cell_type": "code",
   "execution_count": 42,
   "id": "1b10294f-b7c6-4e14-b76f-8180bc36cb54",
   "metadata": {},
   "outputs": [
    {
     "name": "stdin",
     "output_type": "stream",
     "text": [
      "숫자 : 8\n",
      "숫자 : 5\n"
     ]
    },
    {
     "name": "stdout",
     "output_type": "stream",
     "text": [
      "40\n"
     ]
    }
   ],
   "source": [
    "xnum = int(input('숫자 :'))\n",
    "ynum = int(input('숫자 :'))\n",
    "print(xnum * ynum)"
   ]
  },
  {
   "cell_type": "code",
   "execution_count": 40,
   "id": "d3445f54-7302-4834-b0ce-ccbb831f9044",
   "metadata": {},
   "outputs": [
    {
     "name": "stdout",
     "output_type": "stream",
     "text": [
      "2 4 6 8 10 12 14 16 18 \n",
      "3 6 9 12 15 18 21 24 27 \n",
      "4 8 12 16 20 24 28 32 36 \n",
      "5 10 15 20 25 30 35 40 45 \n",
      "6 12 18 24 30 36 42 48 54 \n",
      "7 14 21 28 35 42 49 56 63 \n",
      "8 16 24 32 40 48 56 64 72 \n",
      "9 18 27 36 45 54 63 72 81 \n"
     ]
    }
   ],
   "source": [
    "for i in range(2,10):        # 1번 for문\n",
    "     for j in range(1, 10):   # 2번 for문\n",
    "         print(i*j, end=\" \") \n",
    "     print('') "
   ]
  },
  {
   "cell_type": "code",
   "execution_count": 46,
   "id": "1d5d8571-d4b3-4e8c-b3b5-083646ebc507",
   "metadata": {},
   "outputs": [
    {
     "name": "stdout",
     "output_type": "stream",
     "text": [
      "====================\n",
      "X= 2\n",
      "--------------------\n",
      "====================\n",
      "X= 3\n",
      "--------------------\n",
      "====================\n",
      "X= 4\n",
      "--------------------\n",
      "====================\n",
      "X= 5\n",
      "--------------------\n",
      "====================\n",
      "X= 6\n",
      "--------------------\n",
      "====================\n",
      "X= 7\n",
      "--------------------\n",
      "====================\n",
      "X= 8\n",
      "--------------------\n",
      "====================\n",
      "X= 9\n",
      "--------------------\n",
      "9*1=9\n",
      "9*2=18\n",
      "9*3=27\n",
      "9*4=36\n",
      "9*5=45\n",
      "9*6=54\n",
      "9*7=63\n",
      "9*8=72\n",
      "9*9=81\n"
     ]
    }
   ],
   "source": [
    "for i in range(2, 10) :\n",
    "    print('='*20)\n",
    "    print('X=', i)\n",
    "    print('-'*20)\n",
    "for j in range(1,10) :\n",
    "    print(f'{i}*{j}={i*j}')"
   ]
  },
  {
   "cell_type": "markdown",
   "id": "ab2ff9b1-68fb-41ae-ad3f-8a60afb0603f",
   "metadata": {},
   "source": [
    "## 리스트 컴프리헨션\n",
    "리스트 안에 for 문을 포함하는 리스트 컴프리헨션(list comprehension)을 사용하면 좀 더 편리하고 직관적인 프로그램을 만들 수 있다."
   ]
  },
  {
   "cell_type": "code",
   "execution_count": 47,
   "id": "a3e55506-8b86-4f82-91ab-b31329c7f447",
   "metadata": {},
   "outputs": [
    {
     "name": "stdout",
     "output_type": "stream",
     "text": [
      "[3, 6, 9, 12]\n"
     ]
    }
   ],
   "source": [
    "a = [1, 2, 3, 4]\n",
    "result = []\n",
    "for num in a :\n",
    "    result.append(num*3)\n",
    "\n",
    "print(result)"
   ]
  },
  {
   "cell_type": "code",
   "execution_count": 3,
   "id": "2757c620-f93c-43c0-91e9-3a9c90198a22",
   "metadata": {},
   "outputs": [
    {
     "name": "stdout",
     "output_type": "stream",
     "text": [
      "[3, 6, 9, 12]\n"
     ]
    }
   ],
   "source": [
    "#위 예제에서는 a 리스트의 각 항목에 3을 곱한 결과를 result 리스트에 담았다.\n",
    "\n",
    "#리스트 컴프리헨션을 사용하면 다음과 같이 좀 더 간단하게 작성할 수 있다.\n",
    "\n",
    "a = [1,2,3,4]\n",
    "result = [num * 3 for num in a]\n",
    "print(result)"
   ]
  },
  {
   "cell_type": "code",
   "execution_count": 4,
   "id": "c4653ebc-a116-46ed-8b7b-c6c2a7157277",
   "metadata": {},
   "outputs": [
    {
     "name": "stdout",
     "output_type": "stream",
     "text": [
      "[6, 12]\n"
     ]
    }
   ],
   "source": [
    "#만약 [1, 2, 3, 4] 중에서 짝수에만 3을 곱하여 담고 싶다면 리스트 컴프리헨션 안에 ‘if 조건문’을 사용하면 된다.\n",
    "\n",
    "a = [1,2,3,4]\n",
    "result = [num * 3 for num in a if num % 2 == 0]\n",
    "print(result)"
   ]
  },
  {
   "cell_type": "code",
   "execution_count": null,
   "id": "f20d66a3-d33e-4282-b184-6612fe2d43cb",
   "metadata": {},
   "outputs": [],
   "source": [
    "만약 [1, 2, 3, 4] 중에서 짝수에만 3을 곱하여 담고 싶다면 리스트 컴프리헨션 안에 ‘if 조건문’을 사용하면 된다.\n",
    "\n",
    ">>> a = [1,2,3,4]\n",
    ">>> result = [num * 3 for num in a if num % 2 == 0]\n",
    ">>> print(result)\n",
    "[6, 12]"
   ]
  },
  {
   "cell_type": "code",
   "execution_count": 48,
   "id": "5c38120f-368c-4313-9329-bd7aea5526e8",
   "metadata": {},
   "outputs": [
    {
     "name": "stdout",
     "output_type": "stream",
     "text": [
      "List Comprehension Time: 0.06431317329406738\n",
      "For loop Time: 0.13482236862182617\n"
     ]
    }
   ],
   "source": [
    "#시간 측정을 위한 코드, 2배넘게 차이남\n",
    "import time\n",
    "\n",
    "start = time.time() \n",
    "numbers = [i for i in range(1000000)] \n",
    "end = time.time() \n",
    "print('List Comprehension Time:', end-start)\n",
    "\n",
    "start = time.time() \n",
    "numbers = []\n",
    "for i in range(1000000):\n",
    "    numbers.append(i)\n",
    "end = time.time() \n",
    "print('For loop Time:', end-start)"
   ]
  },
  {
   "cell_type": "code",
   "execution_count": null,
   "id": "a3d6a859-e0f3-4d4c-87a9-6baa2d6a266c",
   "metadata": {},
   "outputs": [],
   "source": []
  },
  {
   "cell_type": "code",
   "execution_count": null,
   "id": "14b5c75d-0b7a-42f8-9a47-666872aaa2ec",
   "metadata": {},
   "outputs": [],
   "source": []
  },
  {
   "cell_type": "code",
   "execution_count": null,
   "id": "e3c90097-1f0b-41ca-bb1d-07b3d178d054",
   "metadata": {},
   "outputs": [],
   "source": []
  },
  {
   "cell_type": "code",
   "execution_count": null,
   "id": "ff3250b6-71ad-4c78-a798-023a39463f5a",
   "metadata": {},
   "outputs": [],
   "source": []
  },
  {
   "cell_type": "code",
   "execution_count": null,
   "id": "df52068f-812e-41c5-92ff-faa946977e74",
   "metadata": {},
   "outputs": [],
   "source": []
  },
  {
   "cell_type": "code",
   "execution_count": null,
   "id": "2987e39b-2c88-4fa2-9453-9bc69b0d3cf3",
   "metadata": {},
   "outputs": [],
   "source": []
  },
  {
   "cell_type": "code",
   "execution_count": null,
   "id": "a218d78f-da3d-4025-8a11-8b075a4ef1c6",
   "metadata": {},
   "outputs": [],
   "source": []
  }
 ],
 "metadata": {
  "kernelspec": {
   "display_name": "Python 3 (ipykernel)",
   "language": "python",
   "name": "python3"
  },
  "language_info": {
   "codemirror_mode": {
    "name": "ipython",
    "version": 3
   },
   "file_extension": ".py",
   "mimetype": "text/x-python",
   "name": "python",
   "nbconvert_exporter": "python",
   "pygments_lexer": "ipython3",
   "version": "3.11.7"
  }
 },
 "nbformat": 4,
 "nbformat_minor": 5
}
