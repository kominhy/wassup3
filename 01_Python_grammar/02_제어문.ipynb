{
 "cells": [
  {
   "cell_type": "markdown",
   "id": "18d98bd4-04d3-434a-84df-82793d1466da",
   "metadata": {},
   "source": [
    "# if 분기문"
   ]
  },
  {
   "cell_type": "markdown",
   "id": "40b1afd4-d6da-4b21-85b3-73cf3a7fd2e4",
   "metadata": {},
   "source": [
    " 돈이 있으면 택시를 타고 가고, 돈이 없으면 걸어간다."
   ]
  },
  {
   "cell_type": "code",
   "execution_count": 5,
   "id": "288cd6a1-7779-40de-85fe-17ad31201a28",
   "metadata": {},
   "outputs": [
    {
     "name": "stdout",
     "output_type": "stream",
     "text": [
      "택시를 타고 가라\n"
     ]
    }
   ],
   "source": [
    "money = True\n",
    "if money :\n",
    "    print(\"택시를 타고 가라\")\n",
    "else :\n",
    "    print(\"걸어 가라\")"
   ]
  },
  {
   "cell_type": "code",
   "execution_count": 6,
   "id": "88a819d2-070a-46bc-809a-4fb0b7215302",
   "metadata": {},
   "outputs": [
    {
     "ename": "IndentationError",
     "evalue": "unexpected indent (3727431691.py, line 5)",
     "output_type": "error",
     "traceback": [
      "\u001b[1;36m  Cell \u001b[1;32mIn[6], line 5\u001b[1;36m\u001b[0m\n\u001b[1;33m    print(\"가라\")\u001b[0m\n\u001b[1;37m    ^\u001b[0m\n\u001b[1;31mIndentationError\u001b[0m\u001b[1;31m:\u001b[0m unexpected indent\n"
     ]
    }
   ],
   "source": [
    "money = True\n",
    "if money :\n",
    "    print(\"택시를\")\n",
    "print(\"타고\")\n",
    "    print(\"가라\")"
   ]
  },
  {
   "cell_type": "code",
   "execution_count": 7,
   "id": "987a6bfe-9b7a-4052-a105-10027bdbdce7",
   "metadata": {},
   "outputs": [
    {
     "ename": "IndentationError",
     "evalue": "unexpected indent (4056175731.py, line 5)",
     "output_type": "error",
     "traceback": [
      "\u001b[1;36m  Cell \u001b[1;32mIn[7], line 5\u001b[1;36m\u001b[0m\n\u001b[1;33m    print(\"가라\")\u001b[0m\n\u001b[1;37m    ^\u001b[0m\n\u001b[1;31mIndentationError\u001b[0m\u001b[1;31m:\u001b[0m unexpected indent\n"
     ]
    }
   ],
   "source": [
    "money = True\n",
    "if money :\n",
    "    print(\"택시를\")\n",
    "    print(\"타고\")\n",
    "        print(\"가라\")"
   ]
  },
  {
   "cell_type": "markdown",
   "id": "5f431909-065e-4c2e-99f4-613c905eeaef",
   "metadata": {},
   "source": [
    "## 조건문이란 무엇인가?"
   ]
  },
  {
   "cell_type": "markdown",
   "id": "953db1e5-41aa-4001-b20a-a4a15721b242",
   "metadata": {},
   "source": [
    "참과 거짓을 판단하는 문장"
   ]
  },
  {
   "cell_type": "code",
   "execution_count": 10,
   "id": "908cd7f1-5d09-4dfe-ac19-2e83d9321efc",
   "metadata": {},
   "outputs": [
    {
     "data": {
      "text/plain": [
       "True"
      ]
     },
     "execution_count": 10,
     "metadata": {},
     "output_type": "execute_result"
    }
   ],
   "source": [
    "# 비교 연산자\n",
    "x = 3\n",
    "y = 2\n",
    "x > y"
   ]
  },
  {
   "cell_type": "code",
   "execution_count": 11,
   "id": "c90eeb42-2fed-4180-a088-6b6dbaa4fc7d",
   "metadata": {},
   "outputs": [
    {
     "data": {
      "text/plain": [
       "False"
      ]
     },
     "execution_count": 11,
     "metadata": {},
     "output_type": "execute_result"
    }
   ],
   "source": [
    "x < y"
   ]
  },
  {
   "cell_type": "code",
   "execution_count": 12,
   "id": "d38f9f0d-40f3-403d-af78-ec9cfe726fd6",
   "metadata": {},
   "outputs": [
    {
     "data": {
      "text/plain": [
       "True"
      ]
     },
     "execution_count": 12,
     "metadata": {},
     "output_type": "execute_result"
    }
   ],
   "source": [
    "x != y"
   ]
  },
  {
   "cell_type": "markdown",
   "id": "21c85804-d8ee-4bc1-84fd-302c20f6b7e1",
   "metadata": {},
   "source": [
    "### Quiz "
   ]
  },
  {
   "cell_type": "markdown",
   "id": "64e24cb1-b1b3-412d-a534-35ce09f7ea92",
   "metadata": {},
   "source": [
    "만약 3000원 이상의 돈을 가지고 있으면 택시를 타고 가고, 그렇지 않으면 걸어가라.   \n",
    "money = True   \n",
    "if money :   \n",
    "    print(\"택시를 타고 가라\")   \n",
    "else :   \n",
    "    print(\"걸어 가라\")   "
   ]
  },
  {
   "cell_type": "code",
   "execution_count": 4,
   "id": "6680237a-604b-4d56-8d94-8da28015e27c",
   "metadata": {},
   "outputs": [
    {
     "name": "stdout",
     "output_type": "stream",
     "text": [
      "택시를 타고 가라\n"
     ]
    }
   ],
   "source": [
    "money = 4000\n",
    "if money >= 3000 :\n",
    "    print(\"택시를 타고 가라\")\n",
    "else :\n",
    "    print(\"걸어 가라\")"
   ]
  },
  {
   "cell_type": "code",
   "execution_count": 15,
   "id": "7908e626-b7e3-4aaf-a17b-7f8950126e1a",
   "metadata": {},
   "outputs": [
    {
     "name": "stdout",
     "output_type": "stream",
     "text": [
      "걸어 가라\n"
     ]
    }
   ],
   "source": [
    "money = 2000\n",
    "if money >= 3000 :\n",
    "    print(\"택시를 타고 가라\")\n",
    "else :\n",
    "    print(\"걸어 가라\")"
   ]
  },
  {
   "cell_type": "markdown",
   "id": "c10fbe2d-4fa4-4829-b617-6787b4effc2f",
   "metadata": {},
   "source": [
    "## and, or, not"
   ]
  },
  {
   "cell_type": "markdown",
   "id": "29077371-efb6-4468-870b-d77ed0e4baa9",
   "metadata": {},
   "source": [
    "### Quiz"
   ]
  },
  {
   "cell_type": "markdown",
   "id": "02dd58a7-2f4d-4880-a9d1-9418e9f7e710",
   "metadata": {},
   "source": [
    "돈이 3000원 이상 있거나 카드가 있다면 택시를 타고 가고, 그렇지 않으면 걸어가라."
   ]
  },
  {
   "cell_type": "code",
   "execution_count": 18,
   "id": "bc04d65c-1d8e-44a9-9f3b-50c09b63f50d",
   "metadata": {},
   "outputs": [
    {
     "name": "stdout",
     "output_type": "stream",
     "text": [
      "택시를 타고 가라\n"
     ]
    }
   ],
   "source": [
    "money = 2000\n",
    "card = True\n",
    "\n",
    "if money >= 3000 or card:\n",
    "    print(\"택시를 타고 가라\")\n",
    "else :\n",
    "    print(\"걸어 가라\")"
   ]
  },
  {
   "cell_type": "markdown",
   "id": "5c6a0394-abed-4fb4-82f8-2e62984a1334",
   "metadata": {},
   "source": [
    "## in, not in"
   ]
  },
  {
   "cell_type": "code",
   "execution_count": 20,
   "id": "c4079d59-2e09-4a82-816f-bcaee385b4e2",
   "metadata": {},
   "outputs": [
    {
     "data": {
      "text/plain": [
       "True"
      ]
     },
     "execution_count": 20,
     "metadata": {},
     "output_type": "execute_result"
    }
   ],
   "source": [
    "1 in[1, 2, 3]"
   ]
  },
  {
   "cell_type": "code",
   "execution_count": 22,
   "id": "3a3dc6a0-5618-4810-b4f3-322c022459a2",
   "metadata": {},
   "outputs": [
    {
     "data": {
      "text/plain": [
       "False"
      ]
     },
     "execution_count": 22,
     "metadata": {},
     "output_type": "execute_result"
    }
   ],
   "source": [
    "1 not in [1, 2, 3]"
   ]
  },
  {
   "cell_type": "code",
   "execution_count": 23,
   "id": "343d8231-5f75-404d-bf4c-a7c539f26788",
   "metadata": {},
   "outputs": [
    {
     "data": {
      "text/plain": [
       "True"
      ]
     },
     "execution_count": 23,
     "metadata": {},
     "output_type": "execute_result"
    }
   ],
   "source": [
    "'a' in ('a', 'b', 'c')"
   ]
  },
  {
   "cell_type": "markdown",
   "id": "fac550f9-d43d-4a31-b611-53652a2d471a",
   "metadata": {},
   "source": [
    "#### Quiz"
   ]
  },
  {
   "cell_type": "markdown",
   "id": "9bddb49a-c8c2-43dd-80b6-a7138605ffeb",
   "metadata": {},
   "source": [
    "만약 주머니에 돈이 있으면 택시를 타고 가고, 없으면 걸어가라."
   ]
  },
  {
   "cell_type": "code",
   "execution_count": 24,
   "id": "4e998aa0-9674-4b9f-8cda-3574bece3184",
   "metadata": {},
   "outputs": [
    {
     "name": "stdout",
     "output_type": "stream",
     "text": [
      "택시를 타고가라\n"
     ]
    }
   ],
   "source": [
    "pocket = ['key', 'notebook', 'money']\n",
    "\n",
    "if 'money' in pocket :\n",
    "    print('택시를 타고가라')\n",
    "else :\n",
    "    print('걸어가라')"
   ]
  },
  {
   "cell_type": "markdown",
   "id": "b5021401-b439-49e5-970d-ff6bf6e1448f",
   "metadata": {},
   "source": [
    "## 조건문에서 아무 일도 하지 않게 설정하려면\n",
    "주머니에 돈이 있으면 가만히 있고, 주머니에 돈이 없으면 카드를 꺼내라."
   ]
  },
  {
   "cell_type": "code",
   "execution_count": 26,
   "id": "f2c2df3c-d36a-445b-9439-78726863279c",
   "metadata": {},
   "outputs": [],
   "source": [
    "pocket = ['key', 'notebook', 'money']\n",
    "\n",
    "if 'money' in pocket :\n",
    "    pass\n",
    "else :\n",
    "    print('걸어가라')"
   ]
  },
  {
   "cell_type": "markdown",
   "id": "8b3e5f9c-0f65-4a3d-be27-9e508409cad3",
   "metadata": {},
   "source": [
    "## 다양한 조건을 판단하는 elif"
   ]
  },
  {
   "cell_type": "code",
   "execution_count": 6,
   "id": "90aa898b-ee87-44f8-b101-0161d5d265f2",
   "metadata": {},
   "outputs": [
    {
     "ename": "SyntaxError",
     "evalue": "invalid syntax (113927932.py, line 1)",
     "output_type": "error",
     "traceback": [
      "\u001b[1;36m  Cell \u001b[1;32mIn[6], line 1\u001b[1;36m\u001b[0m\n\u001b[1;33m    주머니에 돈이 있으면 택시를 타고 가고,\u001b[0m\n\u001b[1;37m         ^\u001b[0m\n\u001b[1;31mSyntaxError\u001b[0m\u001b[1;31m:\u001b[0m invalid syntax\n"
     ]
    }
   ],
   "source": [
    "주머니에 돈이 있으면 택시를 타고 가고,\n",
    "주머니에 돈은 없지만 카드가 있으면 택시를 타고 가고,\n",
    "돈도 없고 카드도 없으면 걸어가라"
   ]
  },
  {
   "cell_type": "code",
   "execution_count": 29,
   "id": "5631d880-ca48-4b9e-a117-94e88bf44aa9",
   "metadata": {},
   "outputs": [
    {
     "name": "stdout",
     "output_type": "stream",
     "text": [
      "택시를 타고 간다\n"
     ]
    }
   ],
   "source": [
    "p = ['money', 'key', 'candy']\n",
    "c = True\n",
    "if 'money' in p :\n",
    "    print('택시를 타고 간다')\n",
    "else :\n",
    "    if c : \n",
    "        print('택시를 타고 간다')\n",
    "    else :\n",
    "        print('걸어간다')"
   ]
  },
  {
   "cell_type": "code",
   "execution_count": 32,
   "id": "47eabdcd-466f-4cbb-b9eb-d1c4c7f8fb1e",
   "metadata": {},
   "outputs": [
    {
     "name": "stdout",
     "output_type": "stream",
     "text": [
      "걸어간다\n"
     ]
    }
   ],
   "source": [
    "p = ['chips', 'key', 'candy']\n",
    "c = False\n",
    "if 'money' in p :\n",
    "    print('택시를 타고 간다')\n",
    "elif c :\n",
    "    print('택시를 타고 간다')\n",
    "else :\n",
    "    print('걸어간다')"
   ]
  },
  {
   "cell_type": "code",
   "execution_count": 39,
   "id": "8839e08f-2eae-4b4c-b771-bfbc43a13a2b",
   "metadata": {},
   "outputs": [
    {
     "name": "stdout",
     "output_type": "stream",
     "text": [
      "택시를 타고 간다\n"
     ]
    }
   ],
   "source": [
    "p = ['chips', 'key', 'candy', 'card']\n",
    "if 'money' in p :\n",
    "    print('택시를 타고 간다')\n",
    "elif 'card' in p :\n",
    "    print('택시를 타고 간다')\n",
    "else :\n",
    "    print('걸어간다')"
   ]
  },
  {
   "cell_type": "code",
   "execution_count": 33,
   "id": "2a422ff9-adf6-49e4-a8d2-0e5d542b76f1",
   "metadata": {},
   "outputs": [],
   "source": [
    "# if 문 한줄로 작성하기\n",
    "if 'money' in pocket :\n",
    "    pass\n",
    "else :\n",
    "    print('걸어가라')\n",
    "------------------------------------\n",
    "if 'money' in pocket:pass\n",
    "else:print('걸어가라')"
   ]
  },
  {
   "cell_type": "markdown",
   "id": "535e1f1d-7050-4eb4-9daa-73c0d421f624",
   "metadata": {},
   "source": [
    "## 조건부 표현식"
   ]
  },
  {
   "cell_type": "code",
   "execution_count": 35,
   "id": "ad3229c0-c66f-460f-9908-4d9c18bf4e38",
   "metadata": {},
   "outputs": [
    {
     "name": "stdout",
     "output_type": "stream",
     "text": [
      "success\n"
     ]
    }
   ],
   "source": [
    "score = 88\n",
    "if score >= 60 : \n",
    "    message = \"success\"\n",
    "    #print(message)\n",
    "else :\n",
    "    message = \"failure\"\n",
    "    #print(message)\n",
    "print(message)"
   ]
  },
  {
   "cell_type": "code",
   "execution_count": 36,
   "id": "5bc96a21-02e2-4b11-a5c8-5a4d22a65627",
   "metadata": {},
   "outputs": [
    {
     "name": "stdout",
     "output_type": "stream",
     "text": [
      "success\n"
     ]
    }
   ],
   "source": [
    "message = \"success\" if score >= 60 else \"failure\"\n",
    "print(message)"
   ]
  },
  {
   "cell_type": "markdown",
   "id": "82d0d6f9-4507-4942-acc7-5d0bcefd0d06",
   "metadata": {},
   "source": [
    "## While 조건 반복문"
   ]
  },
  {
   "cell_type": "markdown",
   "id": "9a97cf4f-0a7d-44f2-b4c3-e3a58a6c6a12",
   "metadata": {},
   "source": [
    "'열 번 찍어 안 넘어가는 나무 없다' 속담을 구현해보자"
   ]
  },
  {
   "cell_type": "code",
   "execution_count": 41,
   "id": "10e8ecb8-ccec-4e2a-8f04-92902385416a",
   "metadata": {},
   "outputs": [
    {
     "name": "stdout",
     "output_type": "stream",
     "text": [
      "나무를 1번 찍었습니다.\n",
      "나무를 2번 찍었습니다.\n",
      "나무를 3번 찍었습니다.\n",
      "나무를 4번 찍었습니다.\n",
      "나무를 5번 찍었습니다.\n",
      "나무를 6번 찍었습니다.\n",
      "나무를 7번 찍었습니다.\n",
      "나무를 8번 찍었습니다.\n",
      "나무를 9번 찍었습니다.\n",
      "나무를 10번 찍었습니다.\n",
      "나무 넘어갑니다.\n"
     ]
    }
   ],
   "source": [
    "treeHit = 0\n",
    "while treeHit < 10 :\n",
    "    treeHit = treeHit + 1\n",
    "    print(\"나무를 %d번 찍었습니다.\"%treeHit)\n",
    "    if treeHit == 10 :\n",
    "        print(\"나무 넘어갑니다.\")"
   ]
  },
  {
   "cell_type": "markdown",
   "id": "e2f7b1b8-a7cf-4654-b622-069ec45338e1",
   "metadata": {},
   "source": [
    "## while 문 만들기"
   ]
  },
  {
   "cell_type": "code",
   "execution_count": 45,
   "id": "d107cdd5-6100-43e0-9144-5e2a4c20a211",
   "metadata": {},
   "outputs": [],
   "source": [
    "prompt = \"\"\"\n",
    "1. Add\n",
    "2. Del\n",
    "3. List\n",
    "4. Quit\n",
    "\n",
    "Enter Number : \"\"\""
   ]
  },
  {
   "cell_type": "code",
   "execution_count": 46,
   "id": "bd6b2981-4543-446d-a232-551cb446fb42",
   "metadata": {},
   "outputs": [
    {
     "name": "stdout",
     "output_type": "stream",
     "text": [
      "\n",
      "1. Add\n",
      "2. Del\n",
      "3. List\n",
      "4. Quit\n",
      "\n",
      "Enter Number : \n"
     ]
    }
   ],
   "source": [
    "print(prompt)"
   ]
  },
  {
   "cell_type": "code",
   "execution_count": 48,
   "id": "6308a834-c6bc-4fe3-bb78-91abe61985f1",
   "metadata": {},
   "outputs": [
    {
     "name": "stdout",
     "output_type": "stream",
     "text": [
      "\n",
      "1. Add\n",
      "2. Del\n",
      "3. List\n",
      "4. Quit\n",
      "\n",
      "Enter Number : \n"
     ]
    },
    {
     "name": "stdin",
     "output_type": "stream",
     "text": [
      " 1\n"
     ]
    },
    {
     "name": "stdout",
     "output_type": "stream",
     "text": [
      "\n",
      "1. Add\n",
      "2. Del\n",
      "3. List\n",
      "4. Quit\n",
      "\n",
      "Enter Number : \n"
     ]
    },
    {
     "name": "stdin",
     "output_type": "stream",
     "text": [
      " 2\n"
     ]
    },
    {
     "name": "stdout",
     "output_type": "stream",
     "text": [
      "\n",
      "1. Add\n",
      "2. Del\n",
      "3. List\n",
      "4. Quit\n",
      "\n",
      "Enter Number : \n"
     ]
    },
    {
     "name": "stdin",
     "output_type": "stream",
     "text": [
      " 4\n"
     ]
    }
   ],
   "source": [
    "number = 0\n",
    "while number != 4:\n",
    "    print(prompt)\n",
    "    number = int(input())"
   ]
  },
  {
   "cell_type": "markdown",
   "id": "63b388c1-2bcb-4f2f-bb5f-1f2b1611518e",
   "metadata": {},
   "source": [
    "## while문 강제로 빠져나가기"
   ]
  },
  {
   "cell_type": "code",
   "execution_count": 49,
   "id": "cb8d05e3-2971-4ae8-ae2b-8a13f59c67ff",
   "metadata": {},
   "outputs": [
    {
     "name": "stdout",
     "output_type": "stream",
     "text": [
      "돈을 받았으니 커피를 줍니다.\n",
      "남은 커피의 양은 9\n",
      "돈을 받았으니 커피를 줍니다.\n",
      "남은 커피의 양은 8\n",
      "돈을 받았으니 커피를 줍니다.\n",
      "남은 커피의 양은 7\n",
      "돈을 받았으니 커피를 줍니다.\n",
      "남은 커피의 양은 6\n",
      "돈을 받았으니 커피를 줍니다.\n",
      "남은 커피의 양은 5\n",
      "돈을 받았으니 커피를 줍니다.\n",
      "남은 커피의 양은 4\n",
      "돈을 받았으니 커피를 줍니다.\n",
      "남은 커피의 양은 3\n",
      "돈을 받았으니 커피를 줍니다.\n",
      "남은 커피의 양은 2\n",
      "돈을 받았으니 커피를 줍니다.\n",
      "남은 커피의 양은 1\n",
      "돈을 받았으니 커피를 줍니다.\n",
      "남은 커피의 양은 0\n",
      "커피가 다 떨어져서 판매를 중지합니다.\n"
     ]
    }
   ],
   "source": [
    "money = 300\n",
    "coffee = 10\n",
    "\n",
    "while money :\n",
    "    print('돈을 받았으니 커피를 줍니다.')\n",
    "    coffee = coffee - 1\n",
    "    print('남은 커피의 양은 %d'%coffee)\n",
    "    if coffee == 0 :\n",
    "        print('커피가 다 떨어져서 판매를 중지합니다.')\n",
    "        break"
   ]
  },
  {
   "cell_type": "markdown",
   "id": "c5cc8e79-ab83-4451-a3a6-341f37f5f5a2",
   "metadata": {},
   "source": [
    "### quiz\n",
    "*money를 사용자 입력을 받습니다.   \n",
    "*커피 가격은 300원입니다.   \n",
    "*커피 가격이 일치 않으면 잔돈을 거슬러줍니다.   \n",
    "*커피 재고가 떨어지면 종료합니다."
   ]
  },
  {
   "cell_type": "code",
   "execution_count": 64,
   "id": "698fa0cb-9f0a-4bcb-b99c-4b1125ec8f54",
   "metadata": {},
   "outputs": [
    {
     "name": "stdin",
     "output_type": "stream",
     "text": [
      " 300\n"
     ]
    },
    {
     "name": "stdout",
     "output_type": "stream",
     "text": [
      "돈을 받았으니 커피를 줍니다.\n",
      "남은 커피의 양은 9\n"
     ]
    },
    {
     "name": "stdin",
     "output_type": "stream",
     "text": [
      " 200\n"
     ]
    },
    {
     "name": "stdout",
     "output_type": "stream",
     "text": [
      "돈이 부족합니다. 돈을 반환합니다.\n"
     ]
    },
    {
     "name": "stdin",
     "output_type": "stream",
     "text": [
      " 300\n"
     ]
    },
    {
     "name": "stdout",
     "output_type": "stream",
     "text": [
      "돈을 받았으니 커피를 줍니다.\n",
      "남은 커피의 양은 8\n"
     ]
    },
    {
     "name": "stdin",
     "output_type": "stream",
     "text": [
      " 300\n"
     ]
    },
    {
     "name": "stdout",
     "output_type": "stream",
     "text": [
      "돈을 받았으니 커피를 줍니다.\n",
      "남은 커피의 양은 7\n"
     ]
    },
    {
     "name": "stdin",
     "output_type": "stream",
     "text": [
      " 300\n"
     ]
    },
    {
     "name": "stdout",
     "output_type": "stream",
     "text": [
      "돈을 받았으니 커피를 줍니다.\n",
      "남은 커피의 양은 6\n"
     ]
    },
    {
     "name": "stdin",
     "output_type": "stream",
     "text": [
      " 300\n"
     ]
    },
    {
     "name": "stdout",
     "output_type": "stream",
     "text": [
      "돈을 받았으니 커피를 줍니다.\n",
      "남은 커피의 양은 5\n"
     ]
    },
    {
     "name": "stdin",
     "output_type": "stream",
     "text": [
      " 300\n"
     ]
    },
    {
     "name": "stdout",
     "output_type": "stream",
     "text": [
      "돈을 받았으니 커피를 줍니다.\n",
      "남은 커피의 양은 4\n"
     ]
    },
    {
     "name": "stdin",
     "output_type": "stream",
     "text": [
      " 300\n"
     ]
    },
    {
     "name": "stdout",
     "output_type": "stream",
     "text": [
      "돈을 받았으니 커피를 줍니다.\n",
      "남은 커피의 양은 3\n"
     ]
    },
    {
     "name": "stdin",
     "output_type": "stream",
     "text": [
      " 300\n"
     ]
    },
    {
     "name": "stdout",
     "output_type": "stream",
     "text": [
      "돈을 받았으니 커피를 줍니다.\n",
      "남은 커피의 양은 2\n"
     ]
    },
    {
     "name": "stdin",
     "output_type": "stream",
     "text": [
      " 300\n"
     ]
    },
    {
     "name": "stdout",
     "output_type": "stream",
     "text": [
      "돈을 받았으니 커피를 줍니다.\n",
      "남은 커피의 양은 1\n"
     ]
    },
    {
     "name": "stdin",
     "output_type": "stream",
     "text": [
      " 300\n"
     ]
    },
    {
     "name": "stdout",
     "output_type": "stream",
     "text": [
      "돈을 받았으니 커피를 줍니다.\n",
      "남은 커피의 양은 0\n"
     ]
    }
   ],
   "source": [
    "money = 0\n",
    "coffee = 10\n",
    "\n",
    "while coffee != 0 :\n",
    "    money = int(input())\n",
    "    if money == 300 :\n",
    "        print('돈을 받았으니 커피를 줍니다.')\n",
    "        coffee = coffee - 1\n",
    "        print('남은 커피의 양은 %d'%coffee)\n",
    "    elif money >= 301 :\n",
    "        print('돈을 받았으니 커피와 잔돈를 줍니다.')\n",
    "        coffee = coffee - 1\n",
    "        print('남은 커피의 양은 %d'%coffee)\n",
    "    else : \n",
    "        print('돈이 부족합니다. 돈을 반환합니다.')\n",
    "        if coffee == 0 :\n",
    "            print('커피가 다 떨어져서 판매를 중지합니다.')\n",
    "            break"
   ]
  },
  {
   "cell_type": "code",
   "execution_count": 2,
   "id": "1de7c670-8952-44d6-b9b0-0c57e59ffd3a",
   "metadata": {},
   "outputs": [
    {
     "name": "stdin",
     "output_type": "stream",
     "text": [
      " 300\n"
     ]
    },
    {
     "name": "stdout",
     "output_type": "stream",
     "text": [
      "돈을 받았으니 커피를 줍니다.\n",
      "남은 커피의 양은 9\n"
     ]
    },
    {
     "name": "stdin",
     "output_type": "stream",
     "text": [
      " 300\n"
     ]
    },
    {
     "name": "stdout",
     "output_type": "stream",
     "text": [
      "돈을 받았으니 커피를 줍니다.\n",
      "남은 커피의 양은 8\n"
     ]
    },
    {
     "name": "stdin",
     "output_type": "stream",
     "text": [
      " 300\n"
     ]
    },
    {
     "name": "stdout",
     "output_type": "stream",
     "text": [
      "돈을 받았으니 커피를 줍니다.\n",
      "남은 커피의 양은 7\n"
     ]
    },
    {
     "name": "stdin",
     "output_type": "stream",
     "text": [
      " 300\n"
     ]
    },
    {
     "name": "stdout",
     "output_type": "stream",
     "text": [
      "돈을 받았으니 커피를 줍니다.\n",
      "남은 커피의 양은 6\n"
     ]
    },
    {
     "name": "stdin",
     "output_type": "stream",
     "text": [
      " 300\n"
     ]
    },
    {
     "name": "stdout",
     "output_type": "stream",
     "text": [
      "돈을 받았으니 커피를 줍니다.\n",
      "남은 커피의 양은 5\n"
     ]
    },
    {
     "name": "stdin",
     "output_type": "stream",
     "text": [
      " 300\n"
     ]
    },
    {
     "name": "stdout",
     "output_type": "stream",
     "text": [
      "돈을 받았으니 커피를 줍니다.\n",
      "남은 커피의 양은 4\n"
     ]
    },
    {
     "name": "stdin",
     "output_type": "stream",
     "text": [
      " 300\n"
     ]
    },
    {
     "name": "stdout",
     "output_type": "stream",
     "text": [
      "돈을 받았으니 커피를 줍니다.\n",
      "남은 커피의 양은 3\n"
     ]
    },
    {
     "name": "stdin",
     "output_type": "stream",
     "text": [
      " 300\n"
     ]
    },
    {
     "name": "stdout",
     "output_type": "stream",
     "text": [
      "돈을 받았으니 커피를 줍니다.\n",
      "남은 커피의 양은 2\n"
     ]
    },
    {
     "name": "stdin",
     "output_type": "stream",
     "text": [
      " 300\n"
     ]
    },
    {
     "name": "stdout",
     "output_type": "stream",
     "text": [
      "돈을 받았으니 커피를 줍니다.\n",
      "남은 커피의 양은 1\n"
     ]
    },
    {
     "name": "stdin",
     "output_type": "stream",
     "text": [
      " 300\n"
     ]
    },
    {
     "name": "stdout",
     "output_type": "stream",
     "text": [
      "돈을 받았으니 커피를 줍니다.\n",
      "남은 커피의 양은 0\n"
     ]
    }
   ],
   "source": [
    "money = 0\n",
    "coffee = 10\n",
    "\n",
    "while coffee != 0 :\n",
    "    money = int(input())\n",
    "    if money == 300 :\n",
    "        print('돈을 받았으니 커피를 줍니다.')\n",
    "        coffee = coffee - 1\n",
    "        print('남은 커피의 양은 %d'%coffee)\n",
    "    elif money > 300 :\n",
    "        money = money - 300\n",
    "        print('돈을 받았으니 커피와 잔돈%d를 줍니다.'%money)\n",
    "        coffee = coffee - 1\n",
    "        print('남은 커피의 양은 %d'%coffee)\n",
    "    else : \n",
    "        print('돈이 부족합니다. 돈을 반환합니다.')\n",
    "        if coffee == 0 :\n",
    "            print('커피가 다 떨어져서 판매를 중지합니다.')\n",
    "            break"
   ]
  },
  {
   "cell_type": "code",
   "execution_count": 3,
   "id": "92a2f50e-88f9-4933-b1b5-a8b1b2a1b49c",
   "metadata": {},
   "outputs": [
    {
     "name": "stdin",
     "output_type": "stream",
     "text": [
      "돈을 넣어주세요. 300\n"
     ]
    },
    {
     "name": "stdout",
     "output_type": "stream",
     "text": [
      "300원을 받았습니다. 커피를 줍니다.\n",
      "남은 커피의 양은 9\n"
     ]
    },
    {
     "name": "stdin",
     "output_type": "stream",
     "text": [
      "돈을 넣어주세요. 300\n"
     ]
    },
    {
     "name": "stdout",
     "output_type": "stream",
     "text": [
      "300원을 받았습니다. 커피를 줍니다.\n",
      "남은 커피의 양은 8\n"
     ]
    },
    {
     "name": "stdin",
     "output_type": "stream",
     "text": [
      "돈을 넣어주세요. 300\n"
     ]
    },
    {
     "name": "stdout",
     "output_type": "stream",
     "text": [
      "300원을 받았습니다. 커피를 줍니다.\n",
      "남은 커피의 양은 7\n"
     ]
    },
    {
     "name": "stdin",
     "output_type": "stream",
     "text": [
      "돈을 넣어주세요. 300\n"
     ]
    },
    {
     "name": "stdout",
     "output_type": "stream",
     "text": [
      "300원을 받았습니다. 커피를 줍니다.\n",
      "남은 커피의 양은 6\n"
     ]
    },
    {
     "name": "stdin",
     "output_type": "stream",
     "text": [
      "돈을 넣어주세요. 300\n"
     ]
    },
    {
     "name": "stdout",
     "output_type": "stream",
     "text": [
      "300원을 받았습니다. 커피를 줍니다.\n",
      "남은 커피의 양은 5\n"
     ]
    },
    {
     "name": "stdin",
     "output_type": "stream",
     "text": [
      "돈을 넣어주세요. 300\n"
     ]
    },
    {
     "name": "stdout",
     "output_type": "stream",
     "text": [
      "300원을 받았습니다. 커피를 줍니다.\n",
      "남은 커피의 양은 4\n"
     ]
    },
    {
     "name": "stdin",
     "output_type": "stream",
     "text": [
      "돈을 넣어주세요. 300\n"
     ]
    },
    {
     "name": "stdout",
     "output_type": "stream",
     "text": [
      "300원을 받았습니다. 커피를 줍니다.\n",
      "남은 커피의 양은 3\n"
     ]
    },
    {
     "name": "stdin",
     "output_type": "stream",
     "text": [
      "돈을 넣어주세요. 300\n"
     ]
    },
    {
     "name": "stdout",
     "output_type": "stream",
     "text": [
      "300원을 받았습니다. 커피를 줍니다.\n",
      "남은 커피의 양은 2\n"
     ]
    },
    {
     "name": "stdin",
     "output_type": "stream",
     "text": [
      "돈을 넣어주세요. 300\n"
     ]
    },
    {
     "name": "stdout",
     "output_type": "stream",
     "text": [
      "300원을 받았습니다. 커피를 줍니다.\n",
      "남은 커피의 양은 1\n"
     ]
    },
    {
     "name": "stdin",
     "output_type": "stream",
     "text": [
      "돈을 넣어주세요. 300\n"
     ]
    },
    {
     "name": "stdout",
     "output_type": "stream",
     "text": [
      "300원을 받았습니다. 커피를 줍니다.\n",
      "남은 커피의 양은 0\n",
      "커피가 다 떨어졌습니다. 판매를 중지합니다.\n"
     ]
    }
   ],
   "source": [
    "coffee = 10\n",
    "\n",
    "while True :\n",
    "    money = int(input('돈을 넣어주세요.'))\n",
    "\n",
    "    if money == 300 :\n",
    "        print('300원을 받았습니다. 커피를 줍니다.')\n",
    "        coffee = coffee - 1\n",
    "        print('남은 커피의 양은 %d'%coffee)\n",
    "\n",
    "    elif money > 300 :\n",
    "        print('거스름돈을 주고 커피를 줍니다.')\n",
    "        coffee = coffee - 1\n",
    "        print('남은 커피의 양은 %d'%coffee)\n",
    "\n",
    "    else :\n",
    "        print('돈이 부족합니다. 커피를 주지 않습니다.')\n",
    "        print('남은 커피의 양은 %d'%coffee)\n",
    "\n",
    "    if coffee == 0 :\n",
    "        print('커피가 다 떨어졌습니다. 판매를 중지합니다.')\n",
    "        break"
   ]
  },
  {
   "cell_type": "code",
   "execution_count": null,
   "id": "3943c816-6de5-48b7-9728-88c5b6a6f15e",
   "metadata": {},
   "outputs": [],
   "source": []
  },
  {
   "cell_type": "code",
   "execution_count": null,
   "id": "011e8e13-e329-47aa-b0f1-695f8af5ba66",
   "metadata": {},
   "outputs": [],
   "source": []
  },
  {
   "cell_type": "code",
   "execution_count": null,
   "id": "2cf50314-39af-4b08-9ca1-4bc04168640a",
   "metadata": {},
   "outputs": [],
   "source": []
  }
 ],
 "metadata": {
  "kernelspec": {
   "display_name": "Python 3 (ipykernel)",
   "language": "python",
   "name": "python3"
  },
  "language_info": {
   "codemirror_mode": {
    "name": "ipython",
    "version": 3
   },
   "file_extension": ".py",
   "mimetype": "text/x-python",
   "name": "python",
   "nbconvert_exporter": "python",
   "pygments_lexer": "ipython3",
   "version": "3.11.7"
  }
 },
 "nbformat": 4,
 "nbformat_minor": 5
}
