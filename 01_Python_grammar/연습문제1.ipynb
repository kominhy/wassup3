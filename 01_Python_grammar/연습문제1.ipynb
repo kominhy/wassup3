{
 "cells": [
  {
   "cell_type": "markdown",
   "id": "bea409d8-e13c-4952-b63b-b07429a22209",
   "metadata": {},
   "source": [
    "# 195"
   ]
  },
  {
   "cell_type": "code",
   "execution_count": null,
   "id": "e140b658-49d9-46b5-aa6e-0ceeec6767c2",
   "metadata": {},
   "outputs": [],
   "source": [
    "# 195\n",
    "ohlc 리스트에는 시가(open), 고가 (high), 저가 (low) , 종가(close)가 날짜별로 저장돼 있다. 화면에 종가데이터를 출력하라.\n",
    "\n",
    "ohlc = [[\"open\", \"high\", \"low\", \"close\"],\n",
    "        [100, 110, 70, 100],\n",
    "        [200, 210, 180, 190],\n",
    "        [300, 310, 300, 310]]\n",
    "\n",
    "100\n",
    "190\n",
    "310"
   ]
  },
  {
   "cell_type": "code",
   "execution_count": 3,
   "id": "110e7c53-a25a-4b8d-a309-405db2af1a80",
   "metadata": {},
   "outputs": [
    {
     "name": "stdout",
     "output_type": "stream",
     "text": [
      "100\n",
      "190\n",
      "310\n"
     ]
    }
   ],
   "source": [
    "# 결과값을 출력해보기\n",
    "ohlc = [[\"open\", \"high\", \"low\", \"close\"],\n",
    "        [100, 110, 70, 100],\n",
    "        [200, 210, 180, 190],\n",
    "        [300, 310, 300, 310]]\n",
    "\n",
    "print(ohlc[1][3])\n",
    "print(ohlc[2][3])\n",
    "print(ohlc[3][3])"
   ]
  },
  {
   "cell_type": "code",
   "execution_count": null,
   "id": "3f94e24b-cb2f-4891-8215-f2539d92ad4b",
   "metadata": {},
   "outputs": [],
   "source": [
    "# 정리하기\n",
    "print(ohlc[1][3])\n",
    "print(ohlc[2][3])\n",
    "print(ohlc[3][3])\n",
    "\n",
    "print(ohlc[i(1~3)][3])\n",
    "-> for문으로 i를 ohlc에 1부터 3까지를 돌리고, print에는 4번째 자리에 값을 출력"
   ]
  },
  {
   "cell_type": "code",
   "execution_count": 11,
   "id": "0c7dd4ac-3e0f-4d68-80cf-2bf6a34f57f0",
   "metadata": {},
   "outputs": [
    {
     "name": "stdout",
     "output_type": "stream",
     "text": [
      "100\n",
      "190\n",
      "310\n"
     ]
    }
   ],
   "source": [
    "# 정리하기2\n",
    "ohlc = [[\"open\", \"high\", \"low\", \"close\"],\n",
    "        [100, 110, 70, 100],\n",
    "        [200, 210, 180, 190],\n",
    "        [300, 310, 300, 310]]\n",
    "\n",
    "for i in ohlc[1:] :\n",
    "    print(i[3])"
   ]
  },
  {
   "cell_type": "code",
   "execution_count": 12,
   "id": "d0f98633-b447-4f7c-84ad-7086156e9587",
   "metadata": {},
   "outputs": [
    {
     "name": "stdout",
     "output_type": "stream",
     "text": [
      "100\n",
      "190\n",
      "310\n"
     ]
    }
   ],
   "source": [
    "# 교재 답\n",
    "ohlc = [[\"open\", \"high\", \"low\", \"close\"],\n",
    "        [100, 110, 70, 100],\n",
    "        [200, 210, 180, 190],\n",
    "        [300, 310, 300, 310]]\n",
    "\n",
    "for row in ohlc[1:]:\n",
    "    print(row[3])"
   ]
  },
  {
   "cell_type": "code",
   "execution_count": null,
   "id": "cd20df39-01fd-496b-8fcc-301f92f1b293",
   "metadata": {},
   "outputs": [],
   "source": [
    "# 196\n",
    "ohlc 리스트에는 시가(open), 고가 (high), 저가 (low) , 종가(close)가 날짜별로 저장돼 있다. \n",
    "종가가 150원보다 큰경우에만 종가를 출력하라.\n",
    "\n",
    "ohlc = [[\"open\", \"high\", \"low\", \"close\"],\n",
    "        [100, 110, 70, 100],\n",
    "        [200, 210, 180, 190],\n",
    "        [300, 310, 300, 310]]\n",
    "\n",
    "190\n",
    "310"
   ]
  },
  {
   "cell_type": "code",
   "execution_count": 24,
   "id": "c106d51a-ace8-40b4-8426-06bcee0ae90c",
   "metadata": {},
   "outputs": [
    {
     "name": "stdout",
     "output_type": "stream",
     "text": [
      "190\n",
      "310\n"
     ]
    }
   ],
   "source": [
    "# 결과값을 출력해보기\n",
    "a = [100, 110, 70, 100]\n",
    "if a[3] > 150 :\n",
    "    print(a[3])\n",
    "\n",
    "b = [200, 210, 180, 190]\n",
    "if b[3] > 150 :\n",
    "    print(b[3])\n",
    "\n",
    "c = [300, 310, 300, 310]\n",
    "if c[3] > 150 :\n",
    "    print(c[3])"
   ]
  },
  {
   "cell_type": "code",
   "execution_count": 28,
   "id": "b81a6b1c-32f8-4434-852a-eafe5bd8906a",
   "metadata": {},
   "outputs": [
    {
     "data": {
      "text/plain": [
       "([100, 110, 70, 100], [200, 210, 180, 190], [300, 310, 300, 310])"
      ]
     },
     "execution_count": 28,
     "metadata": {},
     "output_type": "execute_result"
    }
   ],
   "source": [
    "# 리스트 자료형 합하기\n",
    "a = [100, 110, 70, 100]\n",
    "b = [200, 210, 180, 190]\n",
    "c = [300, 310, 300, 310]\n",
    "\n",
    "d = a, b, c\n",
    "d"
   ]
  },
  {
   "cell_type": "code",
   "execution_count": 32,
   "id": "58452d1a-8f9b-48b0-9708-2120d895cff3",
   "metadata": {},
   "outputs": [
    {
     "name": "stdout",
     "output_type": "stream",
     "text": [
      "190\n",
      "310\n"
     ]
    }
   ],
   "source": [
    "# 정리하기\n",
    "a = [100, 110, 70, 100]\n",
    "b = [200, 210, 180, 190]\n",
    "c = [300, 310, 300, 310]\n",
    "\n",
    "d = a, b, c\n",
    "\n",
    "if d[0][3] > 150 :\n",
    "    print(d[0][3])\n",
    "    \n",
    "if d[1][3] > 150 :\n",
    "    print(d[1][3])\n",
    "    \n",
    "if d[2][3] > 150 :\n",
    "    print(d[2][3])"
   ]
  },
  {
   "cell_type": "code",
   "execution_count": 41,
   "id": "60f0b14c-4f8a-4535-8531-f3a4efcc2083",
   "metadata": {},
   "outputs": [
    {
     "name": "stdout",
     "output_type": "stream",
     "text": [
      "190\n",
      "310\n"
     ]
    }
   ],
   "source": [
    "# 정리하기2\n",
    "a = [100, 110, 70, 100]\n",
    "b = [200, 210, 180, 190]\n",
    "c = [300, 310, 300, 310]\n",
    "\n",
    "d = a, b, c\n",
    "\n",
    "#if d[0][3] > 150 :\n",
    "#    print(d[0][3])\n",
    "    \n",
    "#if d[1][3] > 150 :\n",
    "#    print(d[1][3])\n",
    "    \n",
    "#if d[2][3] > 150 :\n",
    "#    print(d[2][3])\n",
    "\n",
    "for i in d :\n",
    "    if i[3] > 150 :\n",
    "        print(i[3])"
   ]
  },
  {
   "cell_type": "code",
   "execution_count": 43,
   "id": "fbfb21b6-53af-400d-b958-6c8322f08c94",
   "metadata": {},
   "outputs": [
    {
     "name": "stdout",
     "output_type": "stream",
     "text": [
      "190\n",
      "310\n"
     ]
    }
   ],
   "source": [
    "# 정리하기3\n",
    "ohlc = [[\"open\", \"high\", \"low\", \"close\"],\n",
    "        [100, 110, 70, 100],\n",
    "        [200, 210, 180, 190],\n",
    "        [300, 310, 300, 310]]\n",
    "\n",
    "for i in ohlc[1:] :\n",
    "    if i[3] > 150 :\n",
    "        print(i[3])"
   ]
  },
  {
   "cell_type": "code",
   "execution_count": 44,
   "id": "485f53e4-0c0d-4c0a-ae60-b51e82cfa66b",
   "metadata": {},
   "outputs": [
    {
     "name": "stdout",
     "output_type": "stream",
     "text": [
      "190\n",
      "310\n"
     ]
    }
   ],
   "source": [
    "# 교재 답\n",
    "ohlc = [[\"open\", \"high\", \"low\", \"close\"],\n",
    "        [100, 110, 70, 100],\n",
    "        [200, 210, 180, 190],\n",
    "        [300, 310, 300, 310]]\n",
    "\n",
    "for row in ohlc[1:]:\n",
    "    if (row[3] > 150):\n",
    "        print(row[3])"
   ]
  },
  {
   "cell_type": "code",
   "execution_count": 48,
   "id": "9c6b4ca2-6ef8-4839-9b4a-4fe46ad7d7ef",
   "metadata": {},
   "outputs": [
    {
     "name": "stdout",
     "output_type": "stream",
     "text": [
      "정답\n"
     ]
    }
   ],
   "source": [
    "# 확인\n",
    "A = ['a', 'b', 'c']\n",
    "\n",
    "for i in A :\n",
    "    if i == 'a' :\n",
    "        print('정답')"
   ]
  },
  {
   "cell_type": "code",
   "execution_count": null,
   "id": "1f131dce-2b7e-490e-a4a0-e12caae78c3f",
   "metadata": {},
   "outputs": [],
   "source": [
    "# 197\n",
    "ohlc 리스트에는 시가(open), 고가 (high), 저가 (low) , 종가(close)가 날짜별로 저장돼 있다. \n",
    "종가가 시가 보다 크거나 같은 경우에만 종가를 출력하라.\n",
    "\n",
    "ohlc = [[\"open\", \"high\", \"low\", \"close\"],\n",
    "        [100, 110, 70, 100],\n",
    "        [200, 210, 180, 190],\n",
    "        [300, 310, 300, 310]]\n",
    "\n",
    "100\n",
    "310"
   ]
  },
  {
   "cell_type": "code",
   "execution_count": null,
   "id": "edafaaa8-f56a-424d-bc48-762bed34e80b",
   "metadata": {},
   "outputs": [],
   "source": [
    "# 정리하기\n",
    "ohlc = [[\"open\", \"high\", \"low\", \"close\"],\n",
    "        [100, 110, 70, 100],\n",
    "        [200, 210, 180, 190],\n",
    "        [300, 310, 300, 310]]\n",
    "\n",
    "for i in ohlc[1:] :\n",
    "    if 종가 >= 시가 :\n",
    "        print(종가)"
   ]
  },
  {
   "cell_type": "code",
   "execution_count": 49,
   "id": "9c42aaa1-6e48-47ae-8e87-4e197bade52f",
   "metadata": {},
   "outputs": [
    {
     "name": "stdout",
     "output_type": "stream",
     "text": [
      "100\n",
      "310\n"
     ]
    }
   ],
   "source": [
    "# 정리하기2\n",
    "ohlc = [[\"open\", \"high\", \"low\", \"close\"],\n",
    "        [100, 110, 70, 100],\n",
    "        [200, 210, 180, 190],\n",
    "        [300, 310, 300, 310]]\n",
    "\n",
    "for i in ohlc[1:] :\n",
    "    if i[3] >= i[0] :\n",
    "        print(i[3])"
   ]
  },
  {
   "cell_type": "code",
   "execution_count": 50,
   "id": "544ab2ec-05ba-47ac-94fc-bb90d75c8af0",
   "metadata": {},
   "outputs": [
    {
     "name": "stdout",
     "output_type": "stream",
     "text": [
      "100\n",
      "310\n"
     ]
    }
   ],
   "source": [
    "# 교재 답\n",
    "ohlc = [[\"open\", \"high\", \"low\", \"close\"],\n",
    "        [100, 110, 70, 100],\n",
    "        [200, 210, 180, 190],\n",
    "        [300, 310, 300, 310]]\n",
    "\n",
    "for row in ohlc[1:]:\n",
    "    if (row[3] >= row[0]):\n",
    "        print(row[3])"
   ]
  },
  {
   "cell_type": "code",
   "execution_count": null,
   "id": "67dc8f34-93c8-42e5-bcfd-3de1ecea07be",
   "metadata": {},
   "outputs": [],
   "source": [
    "# 198\n",
    "ohlc 리스트에는 시가(open), 고가 (high), 저가 (low) , 종가(close)가 날짜별로 저장돼 있다. \n",
    "고가와 저가의 차이를 변동폭으로 정의할 때, 변동폭을 volatility 이름의 리스트에 저장하라.\n",
    "\n",
    "ohlc = [[\"open\", \"high\", \"low\", \"close\"],\n",
    "        [100, 110, 70, 100],\n",
    "        [200, 210, 180, 190],\n",
    "        [300, 310, 300, 310]]\n",
    "\n",
    ">> print(volatility)\n",
    "[40, 30, 10]"
   ]
  },
  {
   "cell_type": "code",
   "execution_count": 53,
   "id": "2821b508-ba3a-4fcb-af5b-3a3289aaa5f7",
   "metadata": {},
   "outputs": [
    {
     "name": "stdout",
     "output_type": "stream",
     "text": [
      "2\n",
      "[2, 3, 4, 5, 6, 7]\n"
     ]
    }
   ],
   "source": [
    "# 리스트 차이\n",
    "a = [1, 2, 3, 4, 5, 6, 7]\n",
    "print(a[1]) # 해당 자리에 데이터 값을 나타냄\n",
    "print(a[1:]) # 해당 자리 이후에 데이터 값을 나타냄"
   ]
  },
  {
   "cell_type": "code",
   "execution_count": null,
   "id": "b1d65242-e4d2-4f97-99f7-54e52604d1fc",
   "metadata": {},
   "outputs": [],
   "source": [
    "# 정의하기\n",
    "ohlc = [[\"open\", \"high\", \"low\", \"close\"],\n",
    "        [100, 110, 70, 100],\n",
    "        [200, 210, 180, 190],\n",
    "        [300, 310, 300, 310]]\n",
    "\n",
    "volatility = []\n",
    "\n",
    "for i in ohlc[1:] :\n",
    "    volatility.append(변동폭 = 고가 - 저가i[1]-i[2])\n",
    " print(volatility = 변동폭)"
   ]
  },
  {
   "cell_type": "code",
   "execution_count": 56,
   "id": "a4c5a1e9-b2c0-4de2-bc35-5933dd58e27c",
   "metadata": {},
   "outputs": [
    {
     "name": "stdout",
     "output_type": "stream",
     "text": [
      "[40, 30, 10]\n"
     ]
    }
   ],
   "source": [
    "# 정의하기2\n",
    "ohlc = [[\"open\", \"high\", \"low\", \"close\"],\n",
    "        [100, 110, 70, 100],\n",
    "        [200, 210, 180, 190],\n",
    "        [300, 310, 300, 310]]\n",
    "\n",
    "volatility = []\n",
    "\n",
    "for i in ohlc[1:] :\n",
    "    volatility.append(i[1]-i[2])\n",
    "print(volatility)"
   ]
  },
  {
   "cell_type": "code",
   "execution_count": 58,
   "id": "1d63d172-9dfc-4ca7-bc7b-dc9d268c3eb3",
   "metadata": {},
   "outputs": [
    {
     "name": "stdout",
     "output_type": "stream",
     "text": [
      "[40, 30, 10]\n"
     ]
    }
   ],
   "source": [
    "# 교재 답\n",
    "ohlc = [[\"open\", \"high\", \"low\", \"close\"],\n",
    "        [100, 110, 70, 100],\n",
    "        [200, 210, 180, 190],\n",
    "        [300, 310, 300, 310]]\n",
    "\n",
    "volatility = []\n",
    "\n",
    "for row in ohlc[1:]:\n",
    "    volatility.append(row[1]-row[2])\n",
    "print(volatility)    "
   ]
  },
  {
   "cell_type": "code",
   "execution_count": 59,
   "id": "b25370c2-cc01-48e1-8015-1b8abc7ceb1d",
   "metadata": {},
   "outputs": [
    {
     "name": "stdout",
     "output_type": "stream",
     "text": [
      "[40, 30, 10]\n"
     ]
    }
   ],
   "source": [
    "# 교재 답 2 - range 사용\n",
    "ohlc = [[\"open\", \"high\", \"low\", \"close\"],\n",
    "        [100, 110, 70, 100],\n",
    "        [200, 210, 180, 190],\n",
    "        [300, 310, 300, 310]]\n",
    "\n",
    "volatility = []\n",
    "\n",
    "for i in range(1, len(ohlc)):\n",
    "    volatility.append(ohlc[i][1]-ohlc[i][2])\n",
    "print(volatility)"
   ]
  },
  {
   "cell_type": "code",
   "execution_count": 60,
   "id": "ec138d99-0d2b-4337-b90d-cc8ea47c02e2",
   "metadata": {},
   "outputs": [
    {
     "name": "stdout",
     "output_type": "stream",
     "text": [
      "40\n",
      "30\n",
      "10\n"
     ]
    }
   ],
   "source": [
    "ohlc = [[\"open\", \"high\", \"low\", \"close\"],\n",
    "        [100, 110, 70, 100],\n",
    "        [200, 210, 180, 190],\n",
    "        [300, 310, 300, 310]]\n",
    "\n",
    "volatility = []\n",
    "\n",
    "for i in ohlc[1:] :\n",
    "   print(i[1]-i[2])"
   ]
  },
  {
   "cell_type": "code",
   "execution_count": null,
   "id": "b14f9959-25f1-4353-975e-5aadfac62e89",
   "metadata": {},
   "outputs": [],
   "source": [
    "# 199\n",
    "리스트에는 3일 간의 ohlc 데이터가 저장돼 있다. \n",
    "종가가 시가보다 높은 날의 변동성 (고가 - 저가)을 화면에 출력하라.\n",
    "\n",
    "ohlc = [[\"open\", \"high\", \"low\", \"close\"],\n",
    "        [100, 110, 70, 100],\n",
    "        [200, 210, 180, 190],\n",
    "        [300, 310, 300, 310]]\n",
    "\n",
    "종가가 시가보다 높은 거래일의 OHLC는 [300, 310, 300, 310] 이다. \n",
    "따라서 이 거래일의 변동성은 10 (310 - 300)이다.\n",
    "\n",
    "10"
   ]
  },
  {
   "cell_type": "code",
   "execution_count": null,
   "id": "9732b984-d6f0-4e5b-995c-af7fa5245605",
   "metadata": {},
   "outputs": [],
   "source": [
    "# 정의하기\n",
    "ohlc = [[\"open\", \"high\", \"low\", \"close\"],\n",
    "        [100, 110, 70, 100],\n",
    "        [200, 210, 180, 190],\n",
    "        [300, 310, 300, 310]]\n",
    "\n",
    "if 종가 > 시가 :\n",
    "    print(변동성(고가-저가))"
   ]
  },
  {
   "cell_type": "code",
   "execution_count": 62,
   "id": "bc9c48b4-165c-4f97-b88b-20c252bc0ccd",
   "metadata": {},
   "outputs": [
    {
     "name": "stdout",
     "output_type": "stream",
     "text": [
      "10\n"
     ]
    }
   ],
   "source": [
    "# 정의하기\n",
    "ohlc = [[\"open\", \"high\", \"low\", \"close\"],\n",
    "        [100, 110, 70, 100],\n",
    "        [200, 210, 180, 190],\n",
    "        [300, 310, 300, 310]]\n",
    "\n",
    "for i in ohlc[1:] :\n",
    "    if i[3] > i[0] :\n",
    "        print(i[1]-i[2])"
   ]
  },
  {
   "cell_type": "code",
   "execution_count": 63,
   "id": "d1eca186-b396-49be-a85f-06118d824beb",
   "metadata": {},
   "outputs": [
    {
     "name": "stdout",
     "output_type": "stream",
     "text": [
      "10\n"
     ]
    }
   ],
   "source": [
    "# 교재 답\n",
    "ohlc = [[\"open\", \"high\", \"low\", \"close\"],\n",
    "        [100, 110, 70, 100],\n",
    "        [200, 210, 180, 190],\n",
    "        [300, 310, 300, 310]]\n",
    "\n",
    "for row in ohlc[1:]:\n",
    "    if row[3] > row[0]:\n",
    "        print(row[1]-row[2])"
   ]
  },
  {
   "cell_type": "code",
   "execution_count": null,
   "id": "bcf57d4b-2667-48b1-9a5f-98a5b6549309",
   "metadata": {},
   "outputs": [],
   "source": [
    "# 200\n",
    "리스트에는 3일 간의 ohlc 데이터가 저장돼 있다. \n",
    "시가에 매수해서 종가에 매도 했을 경우 총 수익금을 계산하라.\n",
    "\n",
    "ohlc = [[\"open\", \"high\", \"low\", \"close\"],\n",
    "        [100, 110, 70, 100],\n",
    "        [200, 210, 180, 190],\n",
    "        [300, 310, 300, 310]]\n",
    "\n",
    "1일차 수익 0원 (100 - 100)\n",
    "2일차 수익 -10원 (190 - 200) \n",
    "3일차 수익 10원 (310 - 300)\n",
    "\n",
    "0"
   ]
  },
  {
   "cell_type": "code",
   "execution_count": null,
   "id": "a252d7a6-c253-46f4-a811-d2bf9126edf0",
   "metadata": {},
   "outputs": [],
   "source": [
    "# 정의하기\n",
    "ohlc = [[\"open\", \"high\", \"low\", \"close\"],\n",
    "        [100, 110, 70, 100],\n",
    "        [200, 210, 180, 190],\n",
    "        [300, 310, 300, 310]]\n",
    "\n",
    "매도 - 매수 = 종가 - 시가 = 수익 = close - open\n",
    "\n",
    "총 수익 = 1일차 + 2일차 + 3일차"
   ]
  },
  {
   "cell_type": "code",
   "execution_count": 66,
   "id": "34d24afb-430a-49f7-817e-fc1aa3f47329",
   "metadata": {},
   "outputs": [
    {
     "name": "stdout",
     "output_type": "stream",
     "text": [
      "0\n"
     ]
    }
   ],
   "source": [
    "# 정의하기 2\n",
    "ohlc = [[\"open\", \"high\", \"low\", \"close\"],\n",
    "        [100, 110, 70, 100],\n",
    "        [200, 210, 180, 190],\n",
    "        [300, 310, 300, 310]]\n",
    "\n",
    "total = []\n",
    "\n",
    "for i in ohlc[1:] :\n",
    "    total.append(i[3]-i[0])\n",
    "\n",
    "print(sum(total))"
   ]
  },
  {
   "cell_type": "code",
   "execution_count": 68,
   "id": "bb8c4e25-d108-4456-9b34-09e3cdbf2b81",
   "metadata": {},
   "outputs": [
    {
     "name": "stdout",
     "output_type": "stream",
     "text": [
      "0\n"
     ]
    }
   ],
   "source": [
    "# 교재 답\n",
    "ohlc = [[\"open\", \"high\", \"low\", \"close\"],\n",
    "        [100, 110, 70, 100],\n",
    "        [200, 210, 180, 190],\n",
    "        [300, 310, 300, 310]]\n",
    "\n",
    "profit = 0\n",
    "for row in ohlc[1:]:\n",
    "    profit += (row[3] - row[0]) # profit에 for문이 끝날때까지 데이터 값을 더한다.\n",
    "\n",
    "print(profit)"
   ]
  },
  {
   "cell_type": "markdown",
   "id": "da797940-0914-4518-ae90-f0c9f998cdb5",
   "metadata": {},
   "source": [
    "# 201 "
   ]
  },
  {
   "cell_type": "code",
   "execution_count": null,
   "id": "e9d2f98c-ca0a-4d9a-94c0-b5d2a4eb3f63",
   "metadata": {},
   "outputs": [],
   "source": [
    "# 201\n",
    "\"비트코인\" 문자열을 화면에 출력하는 print_coin() 함수를 정의하라."
   ]
  },
  {
   "cell_type": "code",
   "execution_count": 70,
   "id": "72064535-1ae3-4934-9103-5c7cf69586c2",
   "metadata": {},
   "outputs": [],
   "source": [
    "def print_coin():\n",
    "    print(\"비트코인\")"
   ]
  },
  {
   "cell_type": "code",
   "execution_count": null,
   "id": "513b40ac-2de1-4744-b4a1-f6af66e82157",
   "metadata": {},
   "outputs": [],
   "source": [
    "# 202\n",
    "201번에서 정의한 함수를 호출하라."
   ]
  },
  {
   "cell_type": "code",
   "execution_count": 72,
   "id": "8b7270f5-40c1-4b54-8575-d7d827fb7566",
   "metadata": {},
   "outputs": [
    {
     "name": "stdout",
     "output_type": "stream",
     "text": [
      "비트코인\n"
     ]
    }
   ],
   "source": [
    "a = print_coin()"
   ]
  },
  {
   "cell_type": "code",
   "execution_count": null,
   "id": "c7bf7de8-1776-4571-8398-2db7c1b49fe1",
   "metadata": {},
   "outputs": [],
   "source": [
    "# 교재 답\n",
    "print_coin()"
   ]
  },
  {
   "cell_type": "code",
   "execution_count": null,
   "id": "14559e45-185a-4bd8-92a4-9b0c3b023ebc",
   "metadata": {},
   "outputs": [],
   "source": [
    "#203\n",
    "201번에서 정의한 print_coin 함수를 100번호출하라."
   ]
  },
  {
   "cell_type": "code",
   "execution_count": 74,
   "id": "f6f2c5cc-5fcd-4f1c-9681-4beb010b5d0c",
   "metadata": {
    "scrolled": true
   },
   "outputs": [
    {
     "name": "stdout",
     "output_type": "stream",
     "text": [
      "비트코인\n",
      "비트코인\n",
      "비트코인\n",
      "비트코인\n",
      "비트코인\n",
      "비트코인\n",
      "비트코인\n",
      "비트코인\n",
      "비트코인\n",
      "비트코인\n",
      "비트코인\n",
      "비트코인\n",
      "비트코인\n",
      "비트코인\n",
      "비트코인\n",
      "비트코인\n",
      "비트코인\n",
      "비트코인\n",
      "비트코인\n",
      "비트코인\n",
      "비트코인\n",
      "비트코인\n",
      "비트코인\n",
      "비트코인\n",
      "비트코인\n",
      "비트코인\n",
      "비트코인\n",
      "비트코인\n",
      "비트코인\n",
      "비트코인\n",
      "비트코인\n",
      "비트코인\n",
      "비트코인\n",
      "비트코인\n",
      "비트코인\n",
      "비트코인\n",
      "비트코인\n",
      "비트코인\n",
      "비트코인\n",
      "비트코인\n",
      "비트코인\n",
      "비트코인\n",
      "비트코인\n",
      "비트코인\n",
      "비트코인\n",
      "비트코인\n",
      "비트코인\n",
      "비트코인\n",
      "비트코인\n",
      "비트코인\n",
      "비트코인\n",
      "비트코인\n",
      "비트코인\n",
      "비트코인\n",
      "비트코인\n",
      "비트코인\n",
      "비트코인\n",
      "비트코인\n",
      "비트코인\n",
      "비트코인\n",
      "비트코인\n",
      "비트코인\n",
      "비트코인\n",
      "비트코인\n",
      "비트코인\n",
      "비트코인\n",
      "비트코인\n",
      "비트코인\n",
      "비트코인\n",
      "비트코인\n",
      "비트코인\n",
      "비트코인\n",
      "비트코인\n",
      "비트코인\n",
      "비트코인\n",
      "비트코인\n",
      "비트코인\n",
      "비트코인\n",
      "비트코인\n",
      "비트코인\n",
      "비트코인\n",
      "비트코인\n",
      "비트코인\n",
      "비트코인\n",
      "비트코인\n",
      "비트코인\n",
      "비트코인\n",
      "비트코인\n",
      "비트코인\n",
      "비트코인\n",
      "비트코인\n",
      "비트코인\n",
      "비트코인\n",
      "비트코인\n",
      "비트코인\n",
      "비트코인\n",
      "비트코인\n",
      "비트코인\n",
      "비트코인\n",
      "비트코인\n"
     ]
    }
   ],
   "source": [
    "for i in range(0,100) :\n",
    "    print_coin()"
   ]
  },
  {
   "cell_type": "code",
   "execution_count": null,
   "id": "8cb8ee67-c05e-4ebf-9290-3868ff229681",
   "metadata": {},
   "outputs": [],
   "source": [
    "# 교재 답\n",
    "for i in range(100):\n",
    "    print_coin()"
   ]
  },
  {
   "cell_type": "code",
   "execution_count": null,
   "id": "05071059-d5dc-4166-b5cb-999c768b7e1e",
   "metadata": {},
   "outputs": [],
   "source": [
    "# 204\n",
    "\"비트코인\" 문자열을 100번 화면에 출력하는 print_coins() 함수를 정의하라."
   ]
  },
  {
   "cell_type": "code",
   "execution_count": 76,
   "id": "a3de1538-388e-4362-ba69-13e0529c6955",
   "metadata": {
    "scrolled": true
   },
   "outputs": [
    {
     "name": "stdout",
     "output_type": "stream",
     "text": [
      "비트코인\n",
      "비트코인\n",
      "비트코인\n",
      "비트코인\n",
      "비트코인\n",
      "비트코인\n",
      "비트코인\n",
      "비트코인\n",
      "비트코인\n",
      "비트코인\n",
      "비트코인\n",
      "비트코인\n",
      "비트코인\n",
      "비트코인\n",
      "비트코인\n",
      "비트코인\n",
      "비트코인\n",
      "비트코인\n",
      "비트코인\n",
      "비트코인\n",
      "비트코인\n",
      "비트코인\n",
      "비트코인\n",
      "비트코인\n",
      "비트코인\n",
      "비트코인\n",
      "비트코인\n",
      "비트코인\n",
      "비트코인\n",
      "비트코인\n",
      "비트코인\n",
      "비트코인\n",
      "비트코인\n",
      "비트코인\n",
      "비트코인\n",
      "비트코인\n",
      "비트코인\n",
      "비트코인\n",
      "비트코인\n",
      "비트코인\n",
      "비트코인\n",
      "비트코인\n",
      "비트코인\n",
      "비트코인\n",
      "비트코인\n",
      "비트코인\n",
      "비트코인\n",
      "비트코인\n",
      "비트코인\n",
      "비트코인\n",
      "비트코인\n",
      "비트코인\n",
      "비트코인\n",
      "비트코인\n",
      "비트코인\n",
      "비트코인\n",
      "비트코인\n",
      "비트코인\n",
      "비트코인\n",
      "비트코인\n",
      "비트코인\n",
      "비트코인\n",
      "비트코인\n",
      "비트코인\n",
      "비트코인\n",
      "비트코인\n",
      "비트코인\n",
      "비트코인\n",
      "비트코인\n",
      "비트코인\n",
      "비트코인\n",
      "비트코인\n",
      "비트코인\n",
      "비트코인\n",
      "비트코인\n",
      "비트코인\n",
      "비트코인\n",
      "비트코인\n",
      "비트코인\n",
      "비트코인\n",
      "비트코인\n",
      "비트코인\n",
      "비트코인\n",
      "비트코인\n",
      "비트코인\n",
      "비트코인\n",
      "비트코인\n",
      "비트코인\n",
      "비트코인\n",
      "비트코인\n",
      "비트코인\n",
      "비트코인\n",
      "비트코인\n",
      "비트코인\n",
      "비트코인\n",
      "비트코인\n",
      "비트코인\n",
      "비트코인\n",
      "비트코인\n",
      "비트코인\n"
     ]
    }
   ],
   "source": [
    "def print_coins() :\n",
    "    for i in range(100) :\n",
    "        print(\"비트코인\")\n",
    "\n",
    "print_coins()"
   ]
  },
  {
   "cell_type": "code",
   "execution_count": null,
   "id": "73be8cd0-38d5-4821-a7f4-513b5399954c",
   "metadata": {},
   "outputs": [],
   "source": [
    "#205\n",
    "아래의 에러가 발생하는 이유에 대해 설명하라.\n",
    "\n",
    "hello()\n",
    "def hello():\n",
    "    print(\"Hi\")\n",
    "\n",
    "실행 예\n",
    "NameError: name 'hello' is not defined"
   ]
  },
  {
   "cell_type": "markdown",
   "id": "5949fd57-797f-448c-b342-d3a5b6e0217c",
   "metadata": {},
   "source": [
    "### hello()를 함수로 정의하기 전에 만들어버려서"
   ]
  },
  {
   "cell_type": "markdown",
   "id": "78efb9fd-3b24-4a78-8d76-7e2cbc4c833e",
   "metadata": {},
   "source": [
    "### 교재 답 :함수가 정의되기 전에 호출되어서 에러가 발생합니다."
   ]
  },
  {
   "cell_type": "code",
   "execution_count": null,
   "id": "3e34a6d1-9ee8-4fd3-8361-8b4a8572ad33",
   "metadata": {},
   "outputs": [],
   "source": [
    "# 206\n",
    "아래 코드의 실행 결과를 예측하라.\n",
    "\n",
    "def message() :\n",
    "    print(\"A\")\n",
    "    print(\"B\")\n",
    "\n",
    "message()\n",
    "print(\"C\")\n",
    "message()"
   ]
  },
  {
   "cell_type": "markdown",
   "id": "2643b616-1acc-433f-8662-9bf77acc9763",
   "metadata": {},
   "source": [
    "### 예측\n",
    "A   \n",
    "B   \n",
    "C   \n",
    "A   \n",
    "B"
   ]
  },
  {
   "cell_type": "code",
   "execution_count": 80,
   "id": "aaa13cdb-bcc4-44d5-87bd-17ddddc80bb5",
   "metadata": {},
   "outputs": [
    {
     "name": "stdout",
     "output_type": "stream",
     "text": [
      "A\n",
      "B\n",
      "C\n",
      "A\n",
      "B\n"
     ]
    }
   ],
   "source": [
    "# 결과\n",
    "def message() :\n",
    "    print(\"A\")\n",
    "    print(\"B\")\n",
    "\n",
    "message()\n",
    "print(\"C\")\n",
    "message()"
   ]
  },
  {
   "cell_type": "code",
   "execution_count": null,
   "id": "3e2ac859-4772-4e69-95bd-9a06d70543df",
   "metadata": {},
   "outputs": [],
   "source": [
    "# 207\n",
    "아래 코드의 실행 결과를 예측하라. (읽기 어려운 코드의 예입니다.)\n",
    "\n",
    "print(\"A\")\n",
    "\n",
    "def message() :\n",
    "    print(\"B\")\n",
    "\n",
    "print(\"C\")\n",
    "message()"
   ]
  },
  {
   "cell_type": "markdown",
   "id": "b52c6a83-bff6-4557-bfe3-25f68be99519",
   "metadata": {},
   "source": [
    "### 예측\n",
    "A   \n",
    "C   \n",
    "B"
   ]
  },
  {
   "cell_type": "code",
   "execution_count": 81,
   "id": "a1a80c8c-eaa8-4aae-8560-1247504a410c",
   "metadata": {},
   "outputs": [
    {
     "name": "stdout",
     "output_type": "stream",
     "text": [
      "A\n",
      "C\n",
      "B\n"
     ]
    }
   ],
   "source": [
    "# 결과\n",
    "print(\"A\")\n",
    "\n",
    "def message() :\n",
    "    print(\"B\")\n",
    "\n",
    "print(\"C\")\n",
    "message()"
   ]
  },
  {
   "cell_type": "code",
   "execution_count": null,
   "id": "f282c716-d254-49ec-b25d-a0d3a06a84b9",
   "metadata": {},
   "outputs": [],
   "source": [
    "# 208\n",
    "아래 코드의 실행 결과를 예측하라. (읽기 어려운 코드의 예입니다.)\n",
    "\n",
    "print(\"A\")\n",
    "\n",
    "def message1() :\n",
    "    print(\"B\")\n",
    "\n",
    "print(\"C\")\n",
    "\n",
    "def message2() :\n",
    "    print(\"D\")\n",
    "    \n",
    "message1()\n",
    "print(\"E\")\n",
    "message2()"
   ]
  },
  {
   "cell_type": "markdown",
   "id": "66289f4b-3c2a-4d2c-8eed-048ec91b091b",
   "metadata": {},
   "source": [
    "### 예측\n",
    "A   \n",
    "C   \n",
    "B   \n",
    "E   \n",
    "D"
   ]
  },
  {
   "cell_type": "code",
   "execution_count": 83,
   "id": "e9a675ea-5027-4b3a-a879-7a2993439e95",
   "metadata": {},
   "outputs": [
    {
     "name": "stdout",
     "output_type": "stream",
     "text": [
      "A\n",
      "C\n",
      "B\n",
      "E\n",
      "D\n"
     ]
    }
   ],
   "source": [
    "# 결과\n",
    "print(\"A\")\n",
    "\n",
    "def message1() :\n",
    "    print(\"B\")\n",
    "\n",
    "print(\"C\")\n",
    "\n",
    "def message2() :\n",
    "    print(\"D\")\n",
    "    \n",
    "message1()\n",
    "print(\"E\")\n",
    "message2()"
   ]
  },
  {
   "cell_type": "code",
   "execution_count": null,
   "id": "9796fdfc-ca88-4bb2-ad98-66a300afec33",
   "metadata": {},
   "outputs": [],
   "source": [
    "# 209\n",
    "아래 코드의 실행 결과를 예측하라.\n",
    "\n",
    "def message1():\n",
    "    print(\"A\")\n",
    "\n",
    "def message2():\n",
    "    print(\"B\")\n",
    "    message1()\n",
    "\n",
    "message2()"
   ]
  },
  {
   "cell_type": "markdown",
   "id": "cf271910-a368-481d-ae9a-0ee2ac49ea55",
   "metadata": {},
   "source": [
    "### 예측\n",
    "B   \n",
    "A"
   ]
  },
  {
   "cell_type": "code",
   "execution_count": 84,
   "id": "41c02420-3276-4e2d-8641-e0e553e43502",
   "metadata": {},
   "outputs": [
    {
     "name": "stdout",
     "output_type": "stream",
     "text": [
      "B\n",
      "A\n"
     ]
    }
   ],
   "source": [
    "# 결과\n",
    "def message1():\n",
    "    print(\"A\")\n",
    "\n",
    "def message2():\n",
    "    print(\"B\")\n",
    "    message1()\n",
    "\n",
    "message2()"
   ]
  },
  {
   "cell_type": "code",
   "execution_count": null,
   "id": "c827e7f0-6c5d-46a1-b8ca-a3d1508c8c0d",
   "metadata": {},
   "outputs": [],
   "source": [
    "# 210\n",
    "아래 코드의 실행 결과를 예측하라.\n",
    "\n",
    "def message1():\n",
    "    print(\"A\")\n",
    "\n",
    "def message2():\n",
    "    print(\"B\")\n",
    "\n",
    "def message3():\n",
    "    for i in range (3) :\n",
    "        message2()\n",
    "        print(\"C\")\n",
    "    message1()\n",
    "\n",
    "message3()"
   ]
  },
  {
   "cell_type": "markdown",
   "id": "b22c23da-6204-421e-acb4-3106bea5539c",
   "metadata": {},
   "source": [
    "### 예측\n",
    "B   \n",
    "C   \n",
    "B   \n",
    "C   \n",
    "B   \n",
    "C   \n",
    "A"
   ]
  },
  {
   "cell_type": "code",
   "execution_count": 86,
   "id": "20ce0676-1f26-4ece-90a6-bedbeb38345e",
   "metadata": {},
   "outputs": [
    {
     "name": "stdout",
     "output_type": "stream",
     "text": [
      "B\n",
      "C\n",
      "B\n",
      "C\n",
      "B\n",
      "C\n",
      "A\n"
     ]
    }
   ],
   "source": [
    "# 결과\n",
    "def message1():\n",
    "    print(\"A\")\n",
    "\n",
    "def message2():\n",
    "    print(\"B\")\n",
    "\n",
    "def message3():\n",
    "    for i in range (3) :\n",
    "        message2()\n",
    "        print(\"C\")\n",
    "    message1()\n",
    "\n",
    "message3()"
   ]
  },
  {
   "cell_type": "markdown",
   "id": "c989782a-babd-4fab-a3b1-b5c03b6f0402",
   "metadata": {},
   "source": [
    "# 211"
   ]
  },
  {
   "cell_type": "code",
   "execution_count": null,
   "id": "1adffef1-729b-425e-86e7-21b3a1f84086",
   "metadata": {},
   "outputs": [],
   "source": [
    "#211\n",
    "함수의 호출 결과를 예측하라.\n",
    "\n",
    "def 함수(문자열) :\n",
    "    print(문자열)\n",
    "\n",
    "함수(\"안녕\")\n",
    "함수(\"Hi\")"
   ]
  },
  {
   "cell_type": "markdown",
   "id": "dc1d2785-68f6-4beb-8fad-31ee29bd515c",
   "metadata": {},
   "source": [
    "### 예측\n",
    "안녕   \n",
    "Hi"
   ]
  },
  {
   "cell_type": "code",
   "execution_count": 87,
   "id": "3dc78b90-26c7-4920-853a-a0fd9c6ca58a",
   "metadata": {},
   "outputs": [
    {
     "name": "stdout",
     "output_type": "stream",
     "text": [
      "안녕\n",
      "Hi\n"
     ]
    }
   ],
   "source": [
    "### 결과\n",
    "def 함수(문자열) :\n",
    "    print(문자열)\n",
    "\n",
    "함수(\"안녕\")\n",
    "함수(\"Hi\")"
   ]
  },
  {
   "cell_type": "code",
   "execution_count": null,
   "id": "bbb0ae33-20ad-4aa6-8c61-963f0b671056",
   "metadata": {},
   "outputs": [],
   "source": [
    "#212\n",
    "함수의 호출 결과를 예측하라.\n",
    "\n",
    "def 함수(a, b) :\n",
    "    print(a + b)\n",
    "\n",
    "함수(3, 4)\n",
    "함수(7, 8)"
   ]
  },
  {
   "cell_type": "markdown",
   "id": "259fd4f4-4d58-4c62-aab2-8ef0db23cb85",
   "metadata": {},
   "source": [
    "### 예측\n",
    "7\n",
    "15"
   ]
  },
  {
   "cell_type": "code",
   "execution_count": 88,
   "id": "4c1a16b9-e343-4e84-b7d7-ab8b9b4461e0",
   "metadata": {},
   "outputs": [
    {
     "name": "stdout",
     "output_type": "stream",
     "text": [
      "7\n",
      "15\n"
     ]
    }
   ],
   "source": [
    "### 결과\n",
    "def 함수(a, b) :\n",
    "    print(a + b)\n",
    "\n",
    "함수(3, 4)\n",
    "함수(7, 8)"
   ]
  },
  {
   "cell_type": "code",
   "execution_count": null,
   "id": "79cf4a03-9628-479f-922d-81c03576b482",
   "metadata": {},
   "outputs": [],
   "source": [
    "# 213\n",
    "아래와 같은 에러가 발생하는 원인을 설명하라.\n",
    "\n",
    "def 함수(문자열) :\n",
    "    print(문자열)\n",
    "함수()\n",
    "TypeError: 함수() missing 1 required positional argument: '문자열'"
   ]
  },
  {
   "cell_type": "markdown",
   "id": "628bede2-f4a9-4965-a02f-24385cd9c337",
   "metadata": {},
   "source": [
    "### 예상\n",
    "함수()에 문자열이라고 입력값 1개를 받아서 print(문자열)을 출력하게 되는데, 함수()만 작성해서 입력값이 존재하지 않는다.   \n",
    "또한, print(문자열) 이것도 print('문자열')로 수정해야한다."
   ]
  },
  {
   "cell_type": "markdown",
   "id": "00636d65-addc-4413-9415-7cdc25873da0",
   "metadata": {},
   "source": [
    "### 교재 답\n",
    "함수에 정의와 다르게 함수를 호출하고 있다. 함수를 호출할 때 하나의 파라미터를 입력해야한다."
   ]
  },
  {
   "cell_type": "code",
   "execution_count": null,
   "id": "76672a01-7ff3-49c3-aa77-eb91fd487fc6",
   "metadata": {},
   "outputs": [],
   "source": [
    "# 214\n",
    "아래와 같은 에러가 발생하는 원인을 설명하라.\n",
    "\n",
    "def 함수(a, b) :\n",
    "    print(a + b)\n",
    "\n",
    "함수(\"안녕\", 3)\n",
    "TypeError: must be str, not int"
   ]
  },
  {
   "cell_type": "markdown",
   "id": "397b4ca0-f14a-4ee2-8cbe-eeee022d6fd6",
   "metadata": {},
   "source": [
    "### 예상\n",
    "\"안녕\"은 str이고 3은 int여서 서로 다른 타입이여서 a+b의 연산이 불가능하다."
   ]
  },
  {
   "cell_type": "markdown",
   "id": "384e7606-f7b8-4d02-96f5-18a1375f88e2",
   "metadata": {},
   "source": [
    "### 교재 답\n",
    "정의된 함수는 같은 타입의 두 개의 값을 입력 받아 덧셈 연산을 적용하려는 의도로 설계됐습니다.   \n",
    "하지만 함수를 호출 할때 문자열과 숫자를 입력해서 문자열과 숫자는 더할 수 없다는 에러가 발생합니다."
   ]
  },
  {
   "cell_type": "code",
   "execution_count": null,
   "id": "70644e7e-70a8-4cfb-8305-fb5b7c641042",
   "metadata": {},
   "outputs": [],
   "source": [
    "# 215\n",
    "하나의 문자를 입력받아 문자열 끝에 \":D\" 스마일 문자열을 이어 붙여 출력하는 print_with_smile 함수를 정의하라."
   ]
  },
  {
   "cell_type": "code",
   "execution_count": null,
   "id": "4015b5ec-1ab5-45d1-9c8e-0f91c3ed56e0",
   "metadata": {},
   "outputs": [],
   "source": [
    "# 정의하기\n",
    "입력 : 하나의 문자\n",
    "출력 : 문자열 끝에 \":D\" 스마일 문자열을 이어 붙임\n",
    "함수이름 : print_with_smile"
   ]
  },
  {
   "cell_type": "code",
   "execution_count": null,
   "id": "f5421fc3-426a-4de8-8143-1c2cec1872a1",
   "metadata": {},
   "outputs": [],
   "source": [
    "# 함수 정의하기\n",
    "def print_with_smile(문자) :\n",
    "    print(문자+':D')"
   ]
  },
  {
   "cell_type": "code",
   "execution_count": 97,
   "id": "a1816325-49da-4c43-aeea-f14060dc6f3b",
   "metadata": {},
   "outputs": [
    {
     "name": "stdout",
     "output_type": "stream",
     "text": [
      "안녕:D\n"
     ]
    }
   ],
   "source": [
    "# 함수 정의하기 2\n",
    "def print_with_smile(문자) :\n",
    "    print(문자+':D')\n",
    "\n",
    "print_with_smile('안녕')"
   ]
  },
  {
   "cell_type": "code",
   "execution_count": 101,
   "id": "f0cd38ce-548e-4b26-8c94-7fa891c86fa2",
   "metadata": {},
   "outputs": [
    {
     "name": "stdout",
     "output_type": "stream",
     "text": [
      "스마일:D\n"
     ]
    }
   ],
   "source": [
    "# 교재 답\n",
    "def print_with_smile (string) :\n",
    "    print (string + \":D\")\n",
    "\n",
    "print_with_smile('스마일')"
   ]
  },
  {
   "cell_type": "code",
   "execution_count": null,
   "id": "dbffb982-8680-4bd1-94b6-0fcb15857806",
   "metadata": {},
   "outputs": [],
   "source": [
    "# 216\n",
    "215에서 정의한 함수를 호출하라. 파라미터는 \"안녕하세요\"로 입력하라."
   ]
  },
  {
   "cell_type": "code",
   "execution_count": 102,
   "id": "7c4040a5-2dae-4627-8ca8-46a628182ead",
   "metadata": {},
   "outputs": [
    {
     "name": "stdout",
     "output_type": "stream",
     "text": [
      "안녕하세요:D\n"
     ]
    }
   ],
   "source": [
    "def print_with_smile(문자) :\n",
    "    print(문자+':D')\n",
    "\n",
    "print_with_smile('안녕하세요')"
   ]
  },
  {
   "cell_type": "code",
   "execution_count": null,
   "id": "306fe835-68f8-43a7-87bb-c1ae6a4923be",
   "metadata": {},
   "outputs": [],
   "source": [
    "# 217\n",
    "현재 가격을 입력 받아 상한가 (30%)를 출력하는 print_upper_price 함수를 정의하라."
   ]
  },
  {
   "cell_type": "code",
   "execution_count": null,
   "id": "e6466eaf-e420-4b7a-b09f-ba9bf3fd6bdc",
   "metadata": {},
   "outputs": [],
   "source": [
    "# 함수 정의하기\n",
    "입력 : 현재 가격\n",
    "출력 : 상한가(30%)\n",
    "함수 이름 : print_upper_price"
   ]
  },
  {
   "cell_type": "code",
   "execution_count": null,
   "id": "244213ac-aeb7-4de2-8f77-af1aa11f9dac",
   "metadata": {},
   "outputs": [],
   "source": [
    "# 함수 정의하기 2\n",
    "def print_upper_price(price) :\n",
    "    print(price*1.3)"
   ]
  },
  {
   "cell_type": "code",
   "execution_count": 103,
   "id": "2ab45f2c-ae64-4e62-8513-0bac8075af41",
   "metadata": {},
   "outputs": [
    {
     "name": "stdout",
     "output_type": "stream",
     "text": [
      "1300.0\n"
     ]
    }
   ],
   "source": [
    "# 함수 정의하기 3\n",
    "def print_upper_price(price) :\n",
    "    print(price*1.3)\n",
    "\n",
    "print_upper_price(1000)"
   ]
  },
  {
   "cell_type": "code",
   "execution_count": null,
   "id": "26726ba3-43e7-432d-bcaa-0028f29e8b2b",
   "metadata": {},
   "outputs": [],
   "source": [
    "#교재 답\n",
    "def print_upper_price(price) :\n",
    "    print(price * 1.3)"
   ]
  },
  {
   "cell_type": "code",
   "execution_count": null,
   "id": "dd7a9dcb-4c24-4f20-868b-909c92a35528",
   "metadata": {},
   "outputs": [],
   "source": [
    "# 218\n",
    "두 개의 숫자를 입력받아 두 수의 합을 출력하는 print_sum 함수를 정의하라."
   ]
  },
  {
   "cell_type": "code",
   "execution_count": null,
   "id": "2bf7a65e-0d40-4bc7-991b-630aafa09885",
   "metadata": {},
   "outputs": [],
   "source": [
    "# 함수 정의하기\n",
    "입력 : 두 개의 숫자\n",
    "출력 : 두 수의 합\n",
    "함수 이름 : print_sum"
   ]
  },
  {
   "cell_type": "code",
   "execution_count": 104,
   "id": "e9bc1988-8629-4fcf-9ccd-923ef5995208",
   "metadata": {},
   "outputs": [
    {
     "name": "stdout",
     "output_type": "stream",
     "text": [
      "3\n"
     ]
    }
   ],
   "source": [
    "# 함수 정의하기 2\n",
    "def print_sum(a, b) :\n",
    "    print(a + b)\n",
    "\n",
    "print_sum(1, 2)"
   ]
  },
  {
   "cell_type": "code",
   "execution_count": null,
   "id": "bfbbfef5-f4bf-4bb7-862e-f45ee8fa19dc",
   "metadata": {},
   "outputs": [],
   "source": [
    "# 219\n",
    "두 개의 숫자를 입력받아 합/차/곱/나눗셈을 출력하는 print_arithmetic_operation 함수를 작성하라.\n",
    "\n",
    "print_arithmetic_operation(3, 4)\n",
    "\n",
    "3 + 4 = 7\n",
    "3 - 4 = -1\n",
    "3 * 4 = 12\n",
    "3 / 4 = 0.75"
   ]
  },
  {
   "cell_type": "code",
   "execution_count": null,
   "id": "113a7e86-ad76-4747-8c28-5e4479263e87",
   "metadata": {},
   "outputs": [],
   "source": [
    "# 함수 정의하기\n",
    "입력 : 두 개의 숫자\n",
    "출력 : 합/차/곱/나눗셈\n",
    "함수 이름 : print_arithmetic_operation"
   ]
  },
  {
   "cell_type": "code",
   "execution_count": 105,
   "id": "a78a6305-10d9-4857-aab1-0dd027559e25",
   "metadata": {},
   "outputs": [
    {
     "name": "stdout",
     "output_type": "stream",
     "text": [
      "1 + 2 = 3\n",
      "1 - 2 = -1\n",
      "1 * 2 = 2\n",
      "1 / 2 = 0.5\n"
     ]
    }
   ],
   "source": [
    "# 함수 정의하기 2\n",
    "def print_arithmetic_operation(a, b) :\n",
    "    print(a, '+', b, '=', a + b)\n",
    "    print(a, '-', b, '=', a - b)\n",
    "    print(a, '*', b, '=', a * b)\n",
    "    print(a, '/', b, '=', a / b)\n",
    "\n",
    "print_arithmetic_operation(1,2)"
   ]
  },
  {
   "cell_type": "code",
   "execution_count": null,
   "id": "1c08f795-9a42-4fbb-988f-8db98137e13f",
   "metadata": {},
   "outputs": [],
   "source": [
    "# 220\n",
    "세 개의 숫자를 입력받아 가장 큰수를 출력하는 print_max 함수를 정의하라. \n",
    "단, if 문을 사용해서 수를 비교하라."
   ]
  },
  {
   "cell_type": "code",
   "execution_count": null,
   "id": "90974e19-ce5d-4dac-be8f-15d0ceae8e41",
   "metadata": {},
   "outputs": [],
   "source": [
    "# 함수 정의하기 \n",
    "입력 : 세 개의 숫자\n",
    "출력 : 가장 큰 수\n",
    "함수 이름 : print_max"
   ]
  },
  {
   "cell_type": "code",
   "execution_count": null,
   "id": "b5ba370e-f85a-4d6b-8180-cb4913eedf7b",
   "metadata": {},
   "outputs": [],
   "source": [
    "# 함수 정의하기\n",
    "def print_max(a, b, c) :\n",
    "    if a > b and b > c :\n",
    "        print(a)\n",
    "    elif b > a and a > c :\n",
    "        print(b)\n",
    "    else :\n",
    "        print(c)"
   ]
  },
  {
   "cell_type": "code",
   "execution_count": 115,
   "id": "f3b78ec9-86da-4654-9258-4659d33a8307",
   "metadata": {},
   "outputs": [
    {
     "name": "stdout",
     "output_type": "stream",
     "text": [
      "3\n",
      "4\n"
     ]
    }
   ],
   "source": [
    "# 함수 정의하기 2\n",
    "def print_max(a, b, c) :\n",
    "    if a > b and a > c :\n",
    "        print(a)\n",
    "    elif b > a and b > c :\n",
    "        print(b)\n",
    "    else :\n",
    "        print(c)\n",
    "\n",
    "print_max(1, 2, 3)\n",
    "print_max(4, 2, 3)"
   ]
  },
  {
   "cell_type": "code",
   "execution_count": 121,
   "id": "c09ef3b9-d7b1-4828-a882-82319cfa3b05",
   "metadata": {},
   "outputs": [
    {
     "name": "stdout",
     "output_type": "stream",
     "text": [
      "5\n"
     ]
    },
    {
     "data": {
      "text/plain": [
       "3"
      ]
     },
     "execution_count": 121,
     "metadata": {},
     "output_type": "execute_result"
    }
   ],
   "source": [
    "# 교재 답\n",
    "def print_max(a, b, c) :\n",
    "    max_val = 0\n",
    "    if a > max_val :\n",
    "        max_val = a     # a > (max_val = 0)을 비교해서 max_val에 참이면 a를, 거짓이면 0을 유지\n",
    "    if b > max_val :    \n",
    "        max_val = b     # b > (max_val = a or 0)을 비교해서 max_val에 참이면 b를, 거짓이면 a를 유지\n",
    "    if c > max_val :    \n",
    "        max_val = c     # c > (max_val = b or a)을 비교해서 max_val에 참이면 c를, 거짓이면 b를 유지\n",
    "    print(max_val)\n",
    "\n",
    "print_max(5, 2, 3)\n",
    "\n",
    "# 지금까지써왔던 max 함수의 내부는 위와 비슷하게 구현되어 있을 겁니다.\n",
    "\n",
    "max(1, 2, 3)    # max() : 요소들 중에서 가장 큰 요소를 반환"
   ]
  },
  {
   "cell_type": "code",
   "execution_count": 119,
   "id": "446aa326-3b71-453b-890e-3cad43a2be5b",
   "metadata": {},
   "outputs": [
    {
     "data": {
      "text/plain": [
       "\u001b[1;31mDocstring:\u001b[0m\n",
       "max(iterable, *[, default=obj, key=func]) -> value\n",
       "max(arg1, arg2, *args, *[, key=func]) -> value\n",
       "\n",
       "With a single iterable argument, return its biggest item. The\n",
       "default keyword-only argument specifies an object to return if\n",
       "the provided iterable is empty.\n",
       "With two or more arguments, return the largest argument.\n",
       "\u001b[1;31mType:\u001b[0m      builtin_function_or_method"
      ]
     },
     "metadata": {},
     "output_type": "display_data"
    }
   ],
   "source": [
    "max?"
   ]
  },
  {
   "cell_type": "markdown",
   "id": "dc6201f0-0032-4fbf-9003-5007c72ad675",
   "metadata": {},
   "source": [
    "# 221"
   ]
  },
  {
   "cell_type": "code",
   "execution_count": null,
   "id": "e5db4100-9687-4fcc-88b7-089be9ea148a",
   "metadata": {},
   "outputs": [],
   "source": [
    "# 221\n",
    "입력된 문자열을 역순으로 출력하는 print_reverse 함수를 정의하라.\n",
    "\n",
    "print_reverse(\"python\")\n",
    "nohtyp"
   ]
  },
  {
   "cell_type": "code",
   "execution_count": null,
   "id": "e95953e5-6656-4b38-bd09-1b856e7e9a39",
   "metadata": {},
   "outputs": [],
   "source": [
    "# 함수 정의하기\n",
    "입력 : 문자열\n",
    "출력 : 문자열 역순\n",
    "함수 이름 : print_reverse"
   ]
  },
  {
   "cell_type": "code",
   "execution_count": null,
   "id": "dc69c181-8a55-431c-aa69-739b1995c2f7",
   "metadata": {},
   "outputs": [],
   "source": [
    "# 함수 정의하기 2\n",
    "def print_reverse(문자열) : \n",
    "    print(문자열[::-1])"
   ]
  },
  {
   "cell_type": "code",
   "execution_count": 133,
   "id": "e08d8d21-f04a-47ce-a73f-625442af06f5",
   "metadata": {},
   "outputs": [
    {
     "name": "stdout",
     "output_type": "stream",
     "text": [
      "여세하녕안\n"
     ]
    }
   ],
   "source": [
    "# 함수 정의하기 3\n",
    "def print_reverse(문자열) : \n",
    "    print(문자열[::-1])\n",
    "\n",
    "print_reverse('안녕하세여')"
   ]
  },
  {
   "cell_type": "code",
   "execution_count": null,
   "id": "f5868206-54c3-419b-a373-389400c244e3",
   "metadata": {},
   "outputs": [],
   "source": [
    "# 222\n",
    "성적 리스트를 입력 받아 평균을 출력하는 print_score 함수를 정의하라.\n",
    "\n",
    "print_score ([1, 2, 3])\n",
    "2.0"
   ]
  },
  {
   "cell_type": "code",
   "execution_count": null,
   "id": "5adc71c4-59a9-42d2-acb4-efeeadbdcfa8",
   "metadata": {},
   "outputs": [],
   "source": [
    "# 함수 정의하기\n",
    "입력 : 성적 리스트\n",
    "출력 : 평균\n",
    "함수 이름 : print_score"
   ]
  },
  {
   "cell_type": "code",
   "execution_count": null,
   "id": "803ca0aa-534d-489c-bd52-8eee632ebf3f",
   "metadata": {},
   "outputs": [],
   "source": [
    "# 함수 정의하기 2\n",
    "def print_score(list) :\n",
    "    print(sum(list)/len(list))"
   ]
  },
  {
   "cell_type": "code",
   "execution_count": 135,
   "id": "1b0f9e55-76ea-4500-9ae3-1358c92f6deb",
   "metadata": {},
   "outputs": [
    {
     "name": "stdout",
     "output_type": "stream",
     "text": [
      "2.0\n",
      "70.0\n"
     ]
    }
   ],
   "source": [
    "# 함수 정의하기 3\n",
    "def print_score(list) :\n",
    "    print(sum(list)/len(list))\n",
    "\n",
    "print_score([1, 2, 3])\n",
    "print_score([50, 60, 70, 80, 90])"
   ]
  },
  {
   "cell_type": "code",
   "execution_count": null,
   "id": "c02ab889-7fd2-4495-85bd-1143f6e01507",
   "metadata": {},
   "outputs": [],
   "source": [
    "# 223\n",
    "하나의 리스트를 입력받아 짝수만 화면에 출력하는 print_even 함수를 정의하라.\n",
    "\n",
    "print_even ([1, 3, 2, 10, 12, 11, 15])\n",
    "    \n",
    "2\n",
    "10\n",
    "12"
   ]
  },
  {
   "cell_type": "code",
   "execution_count": null,
   "id": "4e8a0ca7-0060-40c4-aba4-457bd736e7d1",
   "metadata": {},
   "outputs": [],
   "source": [
    "# 함수 정의하기\n",
    "입력 : 하나의 리스트\n",
    "출력 : 짝수\n",
    "함수 이름 : print_even"
   ]
  },
  {
   "cell_type": "code",
   "execution_count": null,
   "id": "c9372adc-8c8c-42c1-b705-a9a5a4635747",
   "metadata": {},
   "outputs": [],
   "source": [
    "# 함수 정의하기 2\n",
    "def print_even(list) : \n",
    "    for i in list :\n",
    "        if i % 2 == 0 :\n",
    "            print(i)"
   ]
  },
  {
   "cell_type": "code",
   "execution_count": 136,
   "id": "cf6438e5-3f5b-450a-8f50-79392a8edb18",
   "metadata": {},
   "outputs": [
    {
     "name": "stdout",
     "output_type": "stream",
     "text": [
      "2\n",
      "30\n",
      "24\n",
      "26\n",
      "44\n"
     ]
    }
   ],
   "source": [
    "# 함수 정의하기 3\n",
    "def print_even(list) :\n",
    "    for i in list :\n",
    "        if i % 2 == 0 :\n",
    "            print(i)\n",
    "\n",
    "print_even([1, 2, 30, 24, 26, 44])"
   ]
  },
  {
   "cell_type": "code",
   "execution_count": null,
   "id": "56bc44bc-5560-4046-84b6-84a2e11e47cf",
   "metadata": {},
   "outputs": [],
   "source": [
    "# 224\n",
    "하나의 딕셔너리를 입력받아 딕셔너리의 key 값을 화면에 출력하는 print_keys 함수를 정의하라.\n",
    "\n",
    "print_keys ({\"이름\":\"김말똥\", \"나이\":30, \"성별\":0})\n",
    "이름\n",
    "나이\n",
    "성별"
   ]
  },
  {
   "cell_type": "code",
   "execution_count": null,
   "id": "158e59bd-a189-445a-abe8-02e7c14373a4",
   "metadata": {},
   "outputs": [],
   "source": [
    "# 함수 정의하기\n",
    "입력 : 하나의 딕셔너리\n",
    "출력 : 딕셔너리의 key 값\n",
    "함수 이름 : print_keys"
   ]
  },
  {
   "cell_type": "code",
   "execution_count": null,
   "id": "fffc2ccb-5d58-41b9-9941-1614cc9d4957",
   "metadata": {},
   "outputs": [],
   "source": [
    "# 함수 정의하기 2\n",
    "def print_keys(dic) :\n",
    "    print(dic.keys())"
   ]
  },
  {
   "cell_type": "code",
   "execution_count": 7,
   "id": "8c6aa515-9249-4147-9c98-c7c0f7fc0a60",
   "metadata": {},
   "outputs": [
    {
     "name": "stdout",
     "output_type": "stream",
     "text": [
      "dict_keys(['이름', '나이', '성별'])\n"
     ]
    }
   ],
   "source": [
    "# 함수 정의하기 3\n",
    "def print_keys(dic) :\n",
    "    print(dic.keys())\n",
    "\n",
    "print_keys({\"이름\" : \"홍길동\", \"나이\" : 30, \"성별\" : 0})"
   ]
  },
  {
   "cell_type": "code",
   "execution_count": 6,
   "id": "ce5cc4f3-dc02-4a68-a155-ddc60e3fd9d3",
   "metadata": {},
   "outputs": [
    {
     "name": "stdout",
     "output_type": "stream",
     "text": [
      "이름\n",
      "나이\n",
      "성별\n"
     ]
    }
   ],
   "source": [
    "# 함수 정의하기 4\n",
    "def print_keys(dic) :\n",
    "    for i in dic.keys() :\n",
    "        print(i)\n",
    "\n",
    "print_keys({\"이름\" : \"홍길동\", \"나이\" : 30, \"성별\" : 0 })"
   ]
  },
  {
   "cell_type": "code",
   "execution_count": 5,
   "id": "216c4efb-ef86-4400-ab8b-de7730bc3199",
   "metadata": {},
   "outputs": [
    {
     "name": "stdout",
     "output_type": "stream",
     "text": [
      "이름\n",
      "나이\n",
      "성별\n"
     ]
    }
   ],
   "source": [
    "# 교재 답\n",
    "def print_keys(dic):\n",
    "    for keys in dic.keys() :\n",
    "        print(keys)\n",
    "\n",
    "print_keys ({\"이름\":\"김말똥\", \"나이\":30, \"성별\":0})"
   ]
  },
  {
   "cell_type": "code",
   "execution_count": 9,
   "id": "3067805e-6c28-41d4-9300-2a627eaddafc",
   "metadata": {},
   "outputs": [
    {
     "name": "stdout",
     "output_type": "stream",
     "text": [
      "dict_keys(['이름', '나이', '성별'])\n"
     ]
    }
   ],
   "source": [
    "# 딕셔너리에서 key\n",
    "dict = ({\"이름\":\"김말똥\", \"나이\":30, \"성별\":0})\n",
    "print(dict.keys())"
   ]
  },
  {
   "cell_type": "code",
   "execution_count": 10,
   "id": "c4582002-16a0-485a-8594-5e4deea49354",
   "metadata": {},
   "outputs": [
    {
     "name": "stdout",
     "output_type": "stream",
     "text": [
      "dict_values(['김말똥', 30, 0])\n"
     ]
    }
   ],
   "source": [
    "# 딕셔너리에서 value\n",
    "dict = ({\"이름\":\"김말똥\", \"나이\":30, \"성별\":0})\n",
    "print(dict.values())"
   ]
  },
  {
   "cell_type": "code",
   "execution_count": null,
   "id": "78db385d-4d09-4dfa-ba32-59fab9f64f1c",
   "metadata": {},
   "outputs": [],
   "source": [
    "# 225\n",
    "my_dict에는 날짜를 키값으로 OHLC가 리스트로 저장돼 있다.\n",
    "\n",
    "my_dict = {\"10/26\" : [100, 130, 100, 100],\n",
    "           \"10/27\" : [10, 12, 10, 11]}\n",
    "\n",
    "my_dict와 날짜 키값을 입력받아 OHLC 리스트를 출력하는 print_value_by_key 함수를 정의하라.\n",
    "\n",
    "print_value_by_key  (my_dict, \"10/26\")\n",
    "\n",
    "[100, 130, 100, 100]"
   ]
  },
  {
   "cell_type": "code",
   "execution_count": null,
   "id": "f6c6c33d-f888-427c-b6a9-11ef6b141d4f",
   "metadata": {},
   "outputs": [],
   "source": [
    "# 함수 정의하기\n",
    "입력 : my_dict와 날짜 키 값\n",
    "출력 : OHLC 리스트\n",
    "함수 이름 : print_value_by_key"
   ]
  },
  {
   "cell_type": "code",
   "execution_count": null,
   "id": "d92cb260-fa3f-4de3-adba-a63a9f4868ce",
   "metadata": {},
   "outputs": [],
   "source": [
    "# 함수 정의하기 2\n",
    "def print_value_by_key(my_dict, dkey) :\n",
    "    print(my_dict[dkey])"
   ]
  },
  {
   "cell_type": "code",
   "execution_count": 12,
   "id": "d3916f28-9266-48c1-8142-028cfb3f82da",
   "metadata": {},
   "outputs": [
    {
     "name": "stdout",
     "output_type": "stream",
     "text": [
      "[100, 130, 100, 100]\n",
      "[10, 12, 10, 11]\n"
     ]
    }
   ],
   "source": [
    "# 함수 정의하기 3\n",
    "my_dict = {\"10/26\" : [100, 130, 100, 100],\n",
    "           \"10/27\" : [10, 12, 10, 11]}\n",
    "\n",
    "def print_value_by_key(my_dict, dkey) :\n",
    "    print(my_dict[dkey])\n",
    "\n",
    "print_value_by_key(my_dict, \"10/26\")\n",
    "print_value_by_key(my_dict, \"10/27\")"
   ]
  },
  {
   "cell_type": "code",
   "execution_count": null,
   "id": "0d44ed53-f4d6-4a09-927c-492c6978d07d",
   "metadata": {},
   "outputs": [],
   "source": [
    "# 226\n",
    "입력 문자열을 한 줄에 다섯글자씩 출력하는 print_5xn(string) 함수를 작성하라.\n",
    "\n",
    "print_5xn(\"아이엠어보이유알어걸\")\n",
    "    \n",
    "아이엠어보\n",
    "이유알어걸"
   ]
  },
  {
   "cell_type": "code",
   "execution_count": null,
   "id": "4cc82e34-8df3-4d01-8405-c04c14b25241",
   "metadata": {},
   "outputs": [],
   "source": [
    "# 함수 정의하기\n",
    "입력 : 문자열\n",
    "출력 : 한 줄에 다섯글자씩\n",
    "함수 이름 : print_5xn(string)"
   ]
  },
  {
   "cell_type": "code",
   "execution_count": 36,
   "id": "be86199b-5a5a-4788-9e9f-de2a89d9b59c",
   "metadata": {},
   "outputs": [
    {
     "name": "stdout",
     "output_type": "stream",
     "text": [
      "아이엠어보\n",
      "이유알어걸\n"
     ]
    }
   ],
   "source": [
    "# 함수 출력 정의하기\n",
    "print_5xn = (\"아이엠어보이유알어걸\")\n",
    "\n",
    "print(print_5xn[0:5])\n",
    "print(print_5xn[5:10])"
   ]
  },
  {
   "cell_type": "code",
   "execution_count": 51,
   "id": "af50be87-8a1b-4e12-b462-4ef317905ede",
   "metadata": {},
   "outputs": [
    {
     "name": "stdout",
     "output_type": "stream",
     "text": [
      "10 <class 'int'>\n",
      "5 <class 'int'>\n",
      "5.0 <class 'float'>\n"
     ]
    }
   ],
   "source": [
    "print_5xn = (\"아이엠어보이유알어걸\")\n",
    "print(len(print_5xn),type(len(print_5xn)))\n",
    "print(int(len(print_5xn)/2), type(int(len(print_5xn)/2)))\n",
    "print(len(print_5xn)/2, type(len(print_5xn)/2))"
   ]
  },
  {
   "cell_type": "code",
   "execution_count": 42,
   "id": "d3f8f2a0-069f-4d20-9978-b9d876b98f8a",
   "metadata": {},
   "outputs": [
    {
     "ename": "TypeError",
     "evalue": "'function' object is not iterable",
     "output_type": "error",
     "traceback": [
      "\u001b[1;31m---------------------------------------------------------------------------\u001b[0m",
      "\u001b[1;31mTypeError\u001b[0m                                 Traceback (most recent call last)",
      "Cell \u001b[1;32mIn[42], line 7\u001b[0m\n\u001b[0;32m      4\u001b[0m     \u001b[38;5;28;01mfor\u001b[39;00m i \u001b[38;5;129;01min\u001b[39;00m print_5xn :\n\u001b[0;32m      5\u001b[0m         \u001b[38;5;28mprint\u001b[39m(i[a:a\u001b[38;5;241m*\u001b[39m\u001b[38;5;241m5\u001b[39m\u001b[38;5;241m+\u001b[39m\u001b[38;5;241m5\u001b[39m])\n\u001b[1;32m----> 7\u001b[0m print_5xn(\u001b[38;5;124m\"\u001b[39m\u001b[38;5;124m아이엠어보이유알어걸\u001b[39m\u001b[38;5;124m\"\u001b[39m)\n",
      "Cell \u001b[1;32mIn[42], line 4\u001b[0m, in \u001b[0;36mprint_5xn\u001b[1;34m(string)\u001b[0m\n\u001b[0;32m      2\u001b[0m \u001b[38;5;28;01mdef\u001b[39;00m \u001b[38;5;21mprint_5xn\u001b[39m(string) :\n\u001b[0;32m      3\u001b[0m     a \u001b[38;5;241m=\u001b[39m \u001b[38;5;28mint\u001b[39m(\u001b[38;5;28mlen\u001b[39m(string)\u001b[38;5;241m/\u001b[39m\u001b[38;5;241m5\u001b[39m)\n\u001b[1;32m----> 4\u001b[0m     \u001b[38;5;28;01mfor\u001b[39;00m i \u001b[38;5;129;01min\u001b[39;00m print_5xn :\n\u001b[0;32m      5\u001b[0m         \u001b[38;5;28mprint\u001b[39m(i[a:a\u001b[38;5;241m*\u001b[39m\u001b[38;5;241m5\u001b[39m\u001b[38;5;241m+\u001b[39m\u001b[38;5;241m5\u001b[39m])\n",
      "\u001b[1;31mTypeError\u001b[0m: 'function' object is not iterable"
     ]
    }
   ],
   "source": [
    "# 함수 정의하기 2\n",
    "def print_5xn(string) :\n",
    "    a = int(len(string)/5)\n",
    "    for i in range(a+1) :\n",
    "        print(i[a*5 : a*5+5])\n",
    "\n",
    "print_5xn(\"아이엠어보이유알어걸\")"
   ]
  },
  {
   "cell_type": "code",
   "execution_count": 37,
   "id": "c5d1a087-a84a-4a6c-9f93-10fbf054968d",
   "metadata": {},
   "outputs": [
    {
     "name": "stdout",
     "output_type": "stream",
     "text": [
      "아이엠어보\n",
      "이유알어걸\n",
      "\n"
     ]
    }
   ],
   "source": [
    "# 교재 답\n",
    "def print_5xn(line):\n",
    "    chunk_num = int(len(line) / 5)\n",
    "    for x in range(chunk_num + 1) :\n",
    "        print(line[x * 5: x * 5 + 5])\n",
    "\n",
    "print_5xn(\"아이엠어보이유알어걸\")"
   ]
  },
  {
   "cell_type": "code",
   "execution_count": null,
   "id": "10e3f70b-ef3b-4aa0-a72e-fbfd76cc6407",
   "metadata": {},
   "outputs": [],
   "source": [
    "# 227\n",
    "문자열과 한줄에 출력될 글자 수를 입력을 받아 한 줄에 입력된 글자 수만큼 출력하는 print_mxn(string) 함수를 작성하라.\n",
    "\n",
    "printmxn(\"아이엠어보이유알어걸\", 3)\n",
    "아이엠\n",
    "어보이\n",
    "유알어\n",
    "걸"
   ]
  },
  {
   "cell_type": "code",
   "execution_count": null,
   "id": "369b359a-7e99-46ea-a2f6-1fbab26717dc",
   "metadata": {},
   "outputs": [],
   "source": []
  },
  {
   "cell_type": "code",
   "execution_count": null,
   "id": "98c880e9-26ba-44d8-a6ce-0d8bf64a4757",
   "metadata": {},
   "outputs": [],
   "source": [
    "# 228\n",
    "연봉을 입력받아 월급을 계산하는 calc_monthly_salary(annual_salary) 함수를 정의하라. 회사는 연봉을 12개월로 나누어 분할 지급하며, 이 때 1원 미만은 버림한다.\n",
    "\n",
    "calc_monthly_salary(12000000)\n",
    "1000000"
   ]
  },
  {
   "cell_type": "code",
   "execution_count": null,
   "id": "c9b46dd9-3c73-439e-94b1-15871b5e8a34",
   "metadata": {},
   "outputs": [],
   "source": []
  },
  {
   "cell_type": "code",
   "execution_count": null,
   "id": "0bbce419-1aa4-4cdb-ad17-608cfbbd279d",
   "metadata": {},
   "outputs": [],
   "source": [
    "# 229\n",
    "아래 코드의 실행 결과를 예측하라.\n",
    "\n",
    "def my_print (a, b) :\n",
    "    print(\"왼쪽:\", a)\n",
    "    print(\"오른쪽:\", b)\n",
    "\n",
    "my_print(a=100, b=200)"
   ]
  },
  {
   "cell_type": "code",
   "execution_count": null,
   "id": "fe59a8c2-0b25-48ed-8ecc-18d95f342ca0",
   "metadata": {},
   "outputs": [],
   "source": []
  },
  {
   "cell_type": "code",
   "execution_count": null,
   "id": "780ba177-5793-4be3-98b4-8a08bfb5439a",
   "metadata": {},
   "outputs": [],
   "source": [
    "# 230\n",
    "아래 코드의 실행 결과를 예측하라.\n",
    "\n",
    "def my_print (a, b) :\n",
    "    print(\"왼쪽:\", a)\n",
    "    print(\"오른쪽:\", b)\n",
    "\n",
    "my_print(b=100, a=200)"
   ]
  },
  {
   "cell_type": "code",
   "execution_count": null,
   "id": "35bd5f2c-524a-49a9-b2ca-f4fda86c65a6",
   "metadata": {},
   "outputs": [],
   "source": []
  },
  {
   "cell_type": "markdown",
   "id": "0649bf3a-096d-4eda-9e22-5d8bff362628",
   "metadata": {},
   "source": [
    "# 230"
   ]
  },
  {
   "cell_type": "code",
   "execution_count": null,
   "id": "714e609a-344c-4dd2-9abf-843d59ba77f1",
   "metadata": {},
   "outputs": [],
   "source": [
    "# 231\n",
    "아래 코드를 실행한 결과를 예상하라.\n",
    "\n",
    "def n_plus_1 (n) :\n",
    "    result = n + 1\n",
    "\n",
    "n_plus_1(3)\n",
    "print (result)"
   ]
  },
  {
   "cell_type": "code",
   "execution_count": null,
   "id": "c8fcc5a4-3f3b-43a9-abec-324591942408",
   "metadata": {},
   "outputs": [],
   "source": []
  },
  {
   "cell_type": "code",
   "execution_count": null,
   "id": "e3f1898c-8b6f-4926-9d74-fee7d603e985",
   "metadata": {},
   "outputs": [],
   "source": [
    "# 232\n",
    "문자열 하나를 입력받아 인터넷 주소를 반환하는 make_url 함수를 정의하라.\n",
    "\n",
    "make_url(\"naver\")\n",
    "www.naver.com"
   ]
  },
  {
   "cell_type": "code",
   "execution_count": null,
   "id": "4023263b-6c68-4406-abfc-b9ab4f54204d",
   "metadata": {},
   "outputs": [],
   "source": []
  },
  {
   "cell_type": "code",
   "execution_count": null,
   "id": "8b25eb52-68b1-4610-9ba5-acf49c90c249",
   "metadata": {},
   "outputs": [],
   "source": [
    "# 233\n",
    "문자열을 입력받아 각 문자들로 구성된 리스트로 반환하는 make_list 함수를 정의하라.\n",
    "\n",
    "make_list(\"abcd\")\n",
    "['a', 'b', 'c', 'd']"
   ]
  },
  {
   "cell_type": "code",
   "execution_count": null,
   "id": "e0760c7d-7cbe-4a8a-b436-f1913abaec4b",
   "metadata": {},
   "outputs": [],
   "source": []
  },
  {
   "cell_type": "code",
   "execution_count": null,
   "id": "4046b997-3bbe-4c92-9483-b1407ed5eb6e",
   "metadata": {},
   "outputs": [],
   "source": [
    "# 234\n",
    "숫자로 구성된 하나의 리스트를 입력받아, 짝수들을 추출하여 리스트로 반환하는 pickup_even 함수를 구현하라.\n",
    "\n",
    "pickup_even([3, 4, 5, 6, 7, 8])\n",
    "[4, 6, 8]"
   ]
  },
  {
   "cell_type": "code",
   "execution_count": null,
   "id": "add9ddbc-37df-47ed-bdc2-b7d83b0c8188",
   "metadata": {},
   "outputs": [],
   "source": []
  },
  {
   "cell_type": "code",
   "execution_count": null,
   "id": "135dea26-a46d-42ab-aab4-1fe064143420",
   "metadata": {},
   "outputs": [],
   "source": [
    "# 235\n",
    "콤마가 포함된 문자열 숫자를 입력받아 정수로 변환하는 convert_int 함수를 정의하라.\n",
    "\n",
    "convert_int(\"1,234,567\")\n",
    "1234567"
   ]
  },
  {
   "cell_type": "code",
   "execution_count": null,
   "id": "4db48cbe-755b-45a5-bb98-b85a296f7e9f",
   "metadata": {},
   "outputs": [],
   "source": []
  },
  {
   "cell_type": "code",
   "execution_count": null,
   "id": "6b0f189b-b2bd-4471-b1b2-165260b3f41b",
   "metadata": {},
   "outputs": [],
   "source": [
    "# 236\n",
    "아래 코드의 실행 결과를 예측하라.\n",
    "\n",
    "def 함수(num) :\n",
    "    return num + 4\n",
    "\n",
    "a = 함수(10)\n",
    "b = 함수(a)\n",
    "c = 함수(b)\n",
    "print(c)"
   ]
  },
  {
   "cell_type": "code",
   "execution_count": null,
   "id": "16cbd01c-98d7-4f5f-a582-d3c27bba0397",
   "metadata": {},
   "outputs": [],
   "source": []
  },
  {
   "cell_type": "code",
   "execution_count": null,
   "id": "7363e366-ad26-4050-91a0-d0f1e0c52a4b",
   "metadata": {},
   "outputs": [],
   "source": [
    "# 237\n",
    "아래 코드의 실행 결과를 예측하라.\n",
    "\n",
    "def 함수(num) :\n",
    "    return num + 4\n",
    "\n",
    "c = 함수(함수(함수(10)))\n",
    "print(c)"
   ]
  },
  {
   "cell_type": "code",
   "execution_count": null,
   "id": "9be62bc5-cdbd-44c4-923d-e58faf65eca5",
   "metadata": {},
   "outputs": [],
   "source": []
  },
  {
   "cell_type": "code",
   "execution_count": null,
   "id": "c05b10dc-6010-4987-ae4d-b0030ae5b772",
   "metadata": {},
   "outputs": [],
   "source": [
    "# 238\n",
    "아래 코드의 실행 결과를 예측하라.\n",
    "\n",
    "def 함수1(num) :\n",
    "    return num + 4\n",
    "\n",
    "def 함수2(num) :\n",
    "    return num * 10\n",
    "\n",
    "a = 함수1(10)\n",
    "c = 함수2(a)\n",
    "print(c)"
   ]
  },
  {
   "cell_type": "code",
   "execution_count": null,
   "id": "5bec732a-121d-49c0-a9bb-bc1d5816a307",
   "metadata": {},
   "outputs": [],
   "source": []
  },
  {
   "cell_type": "code",
   "execution_count": null,
   "id": "10112717-d4e9-4ef2-8b64-7ad57b9560df",
   "metadata": {},
   "outputs": [],
   "source": [
    "# 239\n",
    "아래 코드의 실행 결과를 예측하라.\n",
    "\n",
    "def 함수1(num) :\n",
    "    return num + 4\n",
    "\n",
    "def 함수2(num) :\n",
    "    num = num + 2\n",
    "    return 함수1(num)\n",
    "\n",
    "c = 함수2(10)\n",
    "print(c)"
   ]
  },
  {
   "cell_type": "code",
   "execution_count": null,
   "id": "93c62690-1c5e-400d-a222-67213c3c6573",
   "metadata": {},
   "outputs": [],
   "source": []
  },
  {
   "cell_type": "code",
   "execution_count": null,
   "id": "865f91d2-d2e5-4f41-b2e6-686ef748c23c",
   "metadata": {},
   "outputs": [],
   "source": [
    "# 240\n",
    "아래 코드의 실행 결과를 예측하라.\n",
    "\n",
    "def 함수0(num) :\n",
    "    return num * 2\n",
    "\n",
    "def 함수1(num) :\n",
    "    return 함수0(num + 2)\n",
    "\n",
    "def 함수2(num) :\n",
    "    num = num + 10\n",
    "    return 함수1(num)\n",
    "\n",
    "c = 함수2(2)\n",
    "print(c)"
   ]
  },
  {
   "cell_type": "code",
   "execution_count": null,
   "id": "09fbea2f-be1f-431b-89ba-65ca12981199",
   "metadata": {},
   "outputs": [],
   "source": []
  },
  {
   "cell_type": "code",
   "execution_count": null,
   "id": "a2fb3ab4-1163-461e-b62c-6baa9d2b2b9f",
   "metadata": {},
   "outputs": [],
   "source": []
  },
  {
   "cell_type": "code",
   "execution_count": null,
   "id": "238ce208-5f70-4b7e-a9de-cfae16b36f96",
   "metadata": {},
   "outputs": [],
   "source": []
  },
  {
   "cell_type": "code",
   "execution_count": null,
   "id": "3302ac7c-ec9d-447c-8d83-cc6f73ddb573",
   "metadata": {},
   "outputs": [],
   "source": []
  },
  {
   "cell_type": "code",
   "execution_count": null,
   "id": "88830606-816c-4d35-8d38-b0d87c512a55",
   "metadata": {},
   "outputs": [],
   "source": []
  },
  {
   "cell_type": "code",
   "execution_count": null,
   "id": "a85b76e4-9412-4e4c-a08a-467e4107abcd",
   "metadata": {},
   "outputs": [],
   "source": []
  },
  {
   "cell_type": "code",
   "execution_count": null,
   "id": "04e7e265-9827-4b71-b343-4228773f1933",
   "metadata": {},
   "outputs": [],
   "source": []
  },
  {
   "cell_type": "code",
   "execution_count": null,
   "id": "939ce44d-e6fa-4e41-b970-8389b16547a1",
   "metadata": {},
   "outputs": [],
   "source": []
  },
  {
   "cell_type": "code",
   "execution_count": null,
   "id": "221524b9-01b4-4162-bb78-bc48d3cff8af",
   "metadata": {},
   "outputs": [],
   "source": []
  },
  {
   "cell_type": "code",
   "execution_count": null,
   "id": "11181394-cb26-4aa2-b336-6bbb7f55bb31",
   "metadata": {},
   "outputs": [],
   "source": []
  },
  {
   "cell_type": "code",
   "execution_count": null,
   "id": "abc387fd-a5a8-4128-ac38-fd844905eab3",
   "metadata": {},
   "outputs": [],
   "source": []
  }
 ],
 "metadata": {
  "kernelspec": {
   "display_name": "Python 3 (ipykernel)",
   "language": "python",
   "name": "python3"
  },
  "language_info": {
   "codemirror_mode": {
    "name": "ipython",
    "version": 3
   },
   "file_extension": ".py",
   "mimetype": "text/x-python",
   "name": "python",
   "nbconvert_exporter": "python",
   "pygments_lexer": "ipython3",
   "version": "3.11.7"
  }
 },
 "nbformat": 4,
 "nbformat_minor": 5
}
