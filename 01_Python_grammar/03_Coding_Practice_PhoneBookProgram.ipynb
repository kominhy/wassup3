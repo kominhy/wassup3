{
 "cells": [
  {
   "cell_type": "markdown",
   "metadata": {},
   "source": [
    "# 전화번호 프로그램 만들기\n",
    "\n",
    "* 홍길동 010-123-4567\n",
    "* 기능1 : 연락처 추가\n",
    "* 기능2 : 연락처 전체 보기\n",
    "* 기능3 : 검색, 이름을 입력받아서 전화번호 조회\n",
    "* 기능4 : 수정, 이름을 입력받아서 전화번호 입력수정\n",
    "* 기능5 : 삭제, 이름 입력받아서 삭제\n",
    "* 기능6 : 프로그램 종료"
   ]
  },
  {
   "cell_type": "code",
   "execution_count": null,
   "metadata": {},
   "outputs": [
    {
     "name": "stdout",
     "output_type": "stream",
     "text": [
      "\n",
      "홍길동 010-123-4567\n",
      "\n",
      "1. 연락처 추가\n",
      "2. 연락처 전체 보기\n",
      "3. 검색, 이름을 입력받아서 전화번호 조회\n",
      "4. 수정, 이름을 입력받아서 전화번호 입력수정\n",
      "5. 삭제, 이름 입력받아서 삭제\n",
      "6. 프로그램 종료\n",
      "\n",
      "Enter Number : \n"
     ]
    }
   ],
   "source": [
    "prompt = \"\"\"\n",
    "홍길동 010-123-4567\n",
    "\n",
    "1. 연락처 추가\n",
    "2. 연락처 전체 보기\n",
    "3. 검색, 이름을 입력받아서 전화번호 조회\n",
    "4. 수정, 이름을 입력받아서 전화번호 입력수정\n",
    "5. 삭제, 이름 입력받아서 삭제\n",
    "6. 프로그램 종료\n",
    "\n",
    "Enter Number : \"\"\"\n",
    "\n",
    "a = {'홍길동': '010-1234-6789'}\n",
    "num = 0\n",
    "\n",
    "while num != 6: # 전체 창\n",
    "    print(prompt)\n",
    "    num = int(input())\n",
    "    \n",
    "    while num == 1 : # 1.연락처 추가\n",
    "        name = input('이름을 입력해주세요.')\n",
    "        num2 = input('번호를 입력해주세요.') \n",
    "        a[name] = num2\n",
    "        print(name,num2,'추가되었습니다.')\n",
    "        num = int(input('나가려면 0, 계속은 1을 입력하세요.'))\n",
    "        if num == 0 :\n",
    "            break\n",
    "    \n",
    "\n",
    "    while num == 2 : # 2. 연락처 전체 보기\n",
    "        print('연락처 전체 보기',a)\n",
    "        num = int(input('나가려면 0, 계속은 2를 입력하세요'))\n",
    "        if num == 0 :\n",
    "            break\n",
    "\n",
    "    while num == 3 :\n",
    "        print('검색, 이름을 입력받아서 전화번호 조회')\n",
    "        sear = input('이름 입력 :')\n",
    "        print(a.get(sear))\n",
    "        num = int(input('나가려면 0을 계속은 3을 입력하세요'))\n",
    "        if num == 0 :\n",
    "            break\n",
    "\n",
    "    while num == 4 :\n",
    "        print('수정, 이름을 입력받아서 전화번호 입력수정')\n",
    "        sear = input('이름 입력 :')\n",
    "        \n",
    "        if sear in a:\n",
    "            print('수정할 번호: ',a.get(sear))\n",
    "            a[sear] = input('새 번호 :')\n",
    "            \n",
    "        else :\n",
    "            print('없는 번호입니다.')\n",
    "        \n",
    "        num = int(input('나가려면 0을 계속은 4을 입력하세요'))\n",
    "        if num == 0 :\n",
    "            break\n",
    "\n",
    "    while num == 5 :\n",
    "        print('삭제, 이름 입력받아서 삭제')\n",
    "        name2 = input('이름 입력 :')\n",
    "    \n",
    "        if name2 in a :\n",
    "            print(a.get(sear),'를 정말 삭제하시겠습니까?')\n",
    "            yes=0\n",
    "            yes = int(input('yes:1 / NO:0 입력하세요.'))\n",
    "            if yes == 1 :\n",
    "                del a[sear]\n",
    "                print('삭제되었습니다.')\n",
    "            else :\n",
    "                print('취소되었습니다.')\n",
    "        else :\n",
    "            print('없는 이름입니다.')\n",
    "    \n",
    "        num = int(input('나가려면 0을 계속은 5을 입력하세요'))\n",
    "        if num == 0 :\n",
    "            break"
   ]
  },
  {
   "cell_type": "code",
   "execution_count": 22,
   "metadata": {},
   "outputs": [
    {
     "name": "stdin",
     "output_type": "stream",
     "text": [
      "입력 : 1\n",
      "이름을 입력해주세요. 고민효\n",
      "번호를 입력해주세요. 010-5685-4455\n"
     ]
    },
    {
     "name": "stdout",
     "output_type": "stream",
     "text": [
      "고민효 010-5685-4455 추가되었습니다.\n"
     ]
    },
    {
     "name": "stdin",
     "output_type": "stream",
     "text": [
      "0을 입력하세요. 0\n"
     ]
    }
   ],
   "source": [
    "num = 0\n",
    "num = int(input('입력 :'))\n",
    "while num == 1 :\n",
    "    name = input('이름을 입력해주세요.')\n",
    "    num2 = input('번호를 입력해주세요.') \n",
    "    a[name] = num2\n",
    "    print(name,num2,'추가되었습니다.')\n",
    "    num = input('나가려면 0을 입력하세요.')\n",
    "    if num == 0 :\n",
    "        break\n",
    "\n"
   ]
  },
  {
   "cell_type": "code",
   "execution_count": 71,
   "metadata": {},
   "outputs": [
    {
     "name": "stdin",
     "output_type": "stream",
     "text": [
      "입력3 : 5\n"
     ]
    },
    {
     "name": "stdout",
     "output_type": "stream",
     "text": [
      "삭제, 이름 입력받아서 삭제\n"
     ]
    },
    {
     "name": "stdin",
     "output_type": "stream",
     "text": [
      "이름 입력 : 감나무\n"
     ]
    },
    {
     "name": "stdout",
     "output_type": "stream",
     "text": [
      "없는 이름입니다.\n"
     ]
    },
    {
     "name": "stdin",
     "output_type": "stream",
     "text": [
      "나가려면 0을 계속은 3을 입력하세요 5\n"
     ]
    },
    {
     "name": "stdout",
     "output_type": "stream",
     "text": [
      "삭제, 이름 입력받아서 삭제\n"
     ]
    },
    {
     "name": "stdin",
     "output_type": "stream",
     "text": [
      "이름 입력 : 홍길동\n"
     ]
    },
    {
     "name": "stdout",
     "output_type": "stream",
     "text": [
      "010-1234-6789 를 정말 삭제하시겠습니까?\n"
     ]
    },
    {
     "name": "stdin",
     "output_type": "stream",
     "text": [
      "yes:1 / NO:0 입력하세요. 1\n"
     ]
    },
    {
     "name": "stdout",
     "output_type": "stream",
     "text": [
      "삭제되었습니다.\n"
     ]
    },
    {
     "name": "stdin",
     "output_type": "stream",
     "text": [
      "나가려면 0을 계속은 3을 입력하세요 5\n"
     ]
    },
    {
     "name": "stdout",
     "output_type": "stream",
     "text": [
      "삭제, 이름 입력받아서 삭제\n"
     ]
    },
    {
     "name": "stdin",
     "output_type": "stream",
     "text": [
      "이름 입력 : 홍길동\n"
     ]
    },
    {
     "name": "stdout",
     "output_type": "stream",
     "text": [
      "없는 이름입니다.\n"
     ]
    },
    {
     "ename": "KeyboardInterrupt",
     "evalue": "Interrupted by user",
     "output_type": "error",
     "traceback": [
      "\u001b[1;31m---------------------------------------------------------------------------\u001b[0m",
      "\u001b[1;31mKeyboardInterrupt\u001b[0m                         Traceback (most recent call last)",
      "Cell \u001b[1;32mIn[71], line 20\u001b[0m\n\u001b[0;32m     17\u001b[0m \u001b[38;5;28;01melse\u001b[39;00m :\n\u001b[0;32m     18\u001b[0m     \u001b[38;5;28mprint\u001b[39m(\u001b[38;5;124m'\u001b[39m\u001b[38;5;124m없는 이름입니다.\u001b[39m\u001b[38;5;124m'\u001b[39m)\n\u001b[1;32m---> 20\u001b[0m num \u001b[38;5;241m=\u001b[39m \u001b[38;5;28mint\u001b[39m(\u001b[38;5;28minput\u001b[39m(\u001b[38;5;124m'\u001b[39m\u001b[38;5;124m나가려면 0을 계속은 3을 입력하세요\u001b[39m\u001b[38;5;124m'\u001b[39m))\n\u001b[0;32m     21\u001b[0m \u001b[38;5;28;01mif\u001b[39;00m num \u001b[38;5;241m==\u001b[39m \u001b[38;5;241m0\u001b[39m :\n\u001b[0;32m     22\u001b[0m         \u001b[38;5;28;01mbreak\u001b[39;00m\n",
      "File \u001b[1;32m~\\anaconda3\\Lib\\site-packages\\ipykernel\\kernelbase.py:1262\u001b[0m, in \u001b[0;36mKernel.raw_input\u001b[1;34m(self, prompt)\u001b[0m\n\u001b[0;32m   1260\u001b[0m     msg \u001b[38;5;241m=\u001b[39m \u001b[38;5;124m\"\u001b[39m\u001b[38;5;124mraw_input was called, but this frontend does not support input requests.\u001b[39m\u001b[38;5;124m\"\u001b[39m\n\u001b[0;32m   1261\u001b[0m     \u001b[38;5;28;01mraise\u001b[39;00m StdinNotImplementedError(msg)\n\u001b[1;32m-> 1262\u001b[0m \u001b[38;5;28;01mreturn\u001b[39;00m \u001b[38;5;28mself\u001b[39m\u001b[38;5;241m.\u001b[39m_input_request(\n\u001b[0;32m   1263\u001b[0m     \u001b[38;5;28mstr\u001b[39m(prompt),\n\u001b[0;32m   1264\u001b[0m     \u001b[38;5;28mself\u001b[39m\u001b[38;5;241m.\u001b[39m_parent_ident[\u001b[38;5;124m\"\u001b[39m\u001b[38;5;124mshell\u001b[39m\u001b[38;5;124m\"\u001b[39m],\n\u001b[0;32m   1265\u001b[0m     \u001b[38;5;28mself\u001b[39m\u001b[38;5;241m.\u001b[39mget_parent(\u001b[38;5;124m\"\u001b[39m\u001b[38;5;124mshell\u001b[39m\u001b[38;5;124m\"\u001b[39m),\n\u001b[0;32m   1266\u001b[0m     password\u001b[38;5;241m=\u001b[39m\u001b[38;5;28;01mFalse\u001b[39;00m,\n\u001b[0;32m   1267\u001b[0m )\n",
      "File \u001b[1;32m~\\anaconda3\\Lib\\site-packages\\ipykernel\\kernelbase.py:1305\u001b[0m, in \u001b[0;36mKernel._input_request\u001b[1;34m(self, prompt, ident, parent, password)\u001b[0m\n\u001b[0;32m   1302\u001b[0m \u001b[38;5;28;01mexcept\u001b[39;00m \u001b[38;5;167;01mKeyboardInterrupt\u001b[39;00m:\n\u001b[0;32m   1303\u001b[0m     \u001b[38;5;66;03m# re-raise KeyboardInterrupt, to truncate traceback\u001b[39;00m\n\u001b[0;32m   1304\u001b[0m     msg \u001b[38;5;241m=\u001b[39m \u001b[38;5;124m\"\u001b[39m\u001b[38;5;124mInterrupted by user\u001b[39m\u001b[38;5;124m\"\u001b[39m\n\u001b[1;32m-> 1305\u001b[0m     \u001b[38;5;28;01mraise\u001b[39;00m \u001b[38;5;167;01mKeyboardInterrupt\u001b[39;00m(msg) \u001b[38;5;28;01mfrom\u001b[39;00m \u001b[38;5;28;01mNone\u001b[39;00m\n\u001b[0;32m   1306\u001b[0m \u001b[38;5;28;01mexcept\u001b[39;00m \u001b[38;5;167;01mException\u001b[39;00m:\n\u001b[0;32m   1307\u001b[0m     \u001b[38;5;28mself\u001b[39m\u001b[38;5;241m.\u001b[39mlog\u001b[38;5;241m.\u001b[39mwarning(\u001b[38;5;124m\"\u001b[39m\u001b[38;5;124mInvalid Message:\u001b[39m\u001b[38;5;124m\"\u001b[39m, exc_info\u001b[38;5;241m=\u001b[39m\u001b[38;5;28;01mTrue\u001b[39;00m)\n",
      "\u001b[1;31mKeyboardInterrupt\u001b[0m: Interrupted by user"
     ]
    }
   ],
   "source": [
    "a={'홍길동': '010-1234-6789', '밤나무': '010-7894-9999', '나나나': '010-7894-7777'}\n",
    "num = 0\n",
    "num = int(input('입력3 :'))\n",
    "while num == 5 :\n",
    "    print('삭제, 이름 입력받아서 삭제')\n",
    "    name2 = input('이름 입력 :')\n",
    "    \n",
    "    if name2 in a :\n",
    "        print(a.get(sear),'를 정말 삭제하시겠습니까?')\n",
    "        yes=0\n",
    "        yes = int(input('yes:1 / NO:0 입력하세요.'))\n",
    "        if yes == 1 :\n",
    "                del a[sear]\n",
    "                print('삭제되었습니다.')\n",
    "        else :\n",
    "                print('취소되었습니다.')\n",
    "    else :\n",
    "        print('없는 이름입니다.')\n",
    "    \n",
    "    num = int(input('나가려면 0을 계속은 5을 입력하세요'))\n",
    "    if num == 0 :\n",
    "            break"
   ]
  },
  {
   "cell_type": "code",
   "execution_count": null,
   "metadata": {},
   "outputs": [],
   "source": []
  }
 ],
 "metadata": {
  "kernelspec": {
   "display_name": "Python 3 (ipykernel)",
   "language": "python",
   "name": "python3"
  },
  "language_info": {
   "codemirror_mode": {
    "name": "ipython",
    "version": 3
   },
   "file_extension": ".py",
   "mimetype": "text/x-python",
   "name": "python",
   "nbconvert_exporter": "python",
   "pygments_lexer": "ipython3",
   "version": "3.11.7"
  },
  "toc": {
   "base_numbering": 1,
   "nav_menu": {},
   "number_sections": true,
   "sideBar": true,
   "skip_h1_title": false,
   "title_cell": "Table of Contents",
   "title_sidebar": "Contents",
   "toc_cell": false,
   "toc_position": {},
   "toc_section_display": true,
   "toc_window_display": false
  },
  "varInspector": {
   "cols": {
    "lenName": 16,
    "lenType": 16,
    "lenVar": 40
   },
   "kernels_config": {
    "python": {
     "delete_cmd_postfix": "",
     "delete_cmd_prefix": "del ",
     "library": "var_list.py",
     "varRefreshCmd": "print(var_dic_list())"
    },
    "r": {
     "delete_cmd_postfix": ") ",
     "delete_cmd_prefix": "rm(",
     "library": "var_list.r",
     "varRefreshCmd": "cat(var_dic_list()) "
    }
   },
   "types_to_exclude": [
    "module",
    "function",
    "builtin_function_or_method",
    "instance",
    "_Feature"
   ],
   "window_display": false
  }
 },
 "nbformat": 4,
 "nbformat_minor": 4
}
