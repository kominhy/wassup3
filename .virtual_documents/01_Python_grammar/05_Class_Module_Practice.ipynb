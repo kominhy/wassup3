


class Calculator:
    def __init__(self):
        self.value = 0
    def add(self, val):
        self.value += val


class  UpgradeCalculator(Calculator) :
    def minus(self, val):
        self.value -= val


cal = UpgradeCalculator()
cal.add(10)
cal.minus(7)
print(cal.value)





class Calculator:
    def __init__(self):
        self.value = 0
    def add(self, val):
        self.value += val


class MaxLimitCalculator(Calculator) :
    def add(self, val) :
        self.value += val
        if self.value > 100 :
            self.value = 100
            print('value 값이 100을 초과할 수 없습니다.')


cal = MaxLimitCalculator()
cal.add(50) # 50 더하기
cal.add(60) # 60 더하기

print(cal.value) # 100 출력





































































