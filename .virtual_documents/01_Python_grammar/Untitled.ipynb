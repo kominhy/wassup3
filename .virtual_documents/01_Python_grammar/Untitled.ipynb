


result = 0

def add(num):
    global result
    result += num  # 결괏값(result)에 입력값(num) 더하기
    return result  # 결괏값 리턴

print(add(3))
print(add(4))


result1 = 0
result2 = 0

def add1(num):  # 계산기1
    global result1
    result1 += num
    return result1

def add2(num):  # 계산기2
    global result2
    result2 += num
    return result2

print(add1(3))
print(add1(4))
print(add2(3))
print(add2(7))


class Calculator:
    def __init__(self):
        self.result = 0

    def add(self, num):
        self.result += num
        return self.result

cal1 = Calculator()
cal2 = Calculator()

print(cal1.add(3))
print(cal1.add(4))
print(cal2.add(3))
print(cal2.add(7))





class Cookie:
    pass


type(Cookie)


type(Cookie())


a = Cookie()
print(a, type(a))





class FourCal :
    pass


a = FourCal()
type(a)


# 객체에 연산할 숫자를 지정하기
class FourCal :
    def setdata(self, first, second) : # method(=function) 매개변수
        self.first = first # 메서드의 수행문
        self.second = second  #메서드의 수행


# function
def setdata(self, first, second) :
    self.first = first
    self.second = second


a = FourCal()
a.setdata(4, 2)


# 매서드를 호출하는 또다른 방법
a = FourCal()
FourCal.setdata(a, 4, 2)





a.first # 객체 변수 : 데이터값이여서 조회만 가능


a.second # 객체 변수 : 데이터값이여서 조회만 가능


a.setdata # 함수 : 반드시 괄호가 있어야 작동, 연산이 필요


a = FourCal()
b = FourCal()


a.setdata(4, 2)
a.first


b.setdata(3, 7)
b.first





class FourCal :
    def setdata(self, first, second) :
        self.first = first
        self.second = second

    def add(self) :
        result = self.first + self.second
        return result


a = FourCal()
a.setdata(4, 2)
a.add()


class FourCal :
    def setdata(self, first, second) :
        self.first = first
        self.second = second

    def add(self) :
        result = self.first + self.second
        return result

    def sub(self) :
        result = self.first - self.second
        return result
        
    def multi(self) :
        result = self.first * self.second
        return result

    def div(self) :
        result = self.first / self.second
        return result


a = FourCal()
a.setdata(4, 2)
print(a.sub())
print(a.multi())
print(a.div())


a = FourCal()


a.add()


class FourCal1 :
    def __init__(self, first, second) :
        self.first = first
        self.second = second

# 범위 주석 : 드래그 + ctrl + /    
   # def setdata(self, first, second) :
   #     self.first = first
   #     self.second = second

    def add(self) :
        result = self.first + self.second
        return result

    def sub(self) :
        result = self.first - self.second
        return result
        
    def multi(self) :
        result = self.first * self.second
        return result

    def div(self) :
        result = self.first / self.second
        return result


a = FourCal1


a = FourCal(4, 2)




































