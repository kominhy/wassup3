


class Calculator:
    def __init__(self):
        self.value = 0
    def add(self, val):
        self.value += val


class UpgradeCalculator(Calculator):
    def minus(self, val):
        self.value -= val   


cal = UpgradeCalculator()
cal.add(10)
cal.minus(7)
print(cal.value)





class MaxLimitCalculator(Calculator):
    def add(self, val):
        self.value += val
        if self.value > 100:
            self.value = 100


cal = MaxLimitCalculator()
cal.add(50) # 50 더하기
cal.add(60) # 60 더하기

print(cal.value) # 100 출력





# 1. False
print(all({1, 2, abs(-3)-3}))
# 2. True
print(chr(ord('a')) == 'a')





list(filter(lambda x : x > 0, [1, -2, 3, -5, 8, -3]))





int('0xea', 16)





list(map(lambda x : x * 3, [1, 2, 3, 4]))





a = [-8, 2, 7, 5, -3, 5, 0, 1]
max(a) + min(a)





round(17/3, 4)





import sys
args = sys.argv[1:]
number = 0
for i in args:
    number += int(i)
print(number)





import os


os.getcwd()


os.system('dir')


f = os.popen("dir")
print(f.read())





import glob


glob?


glob.glob(os.getcwd()+'/*.ipynb')





import time
time.strftime('%Y/%m/%d %H:%M:%S', time.localtime(time.time()))





import random
result = []
while len(result) < 6:
    num = random.randint(1, 45)
    if num not in result:
        result.append(num)
print(result)



