


# 195
ohlc 리스트에는 시가(open), 고가 (high), 저가 (low) , 종가(close)가 날짜별로 저장돼 있다. 화면에 종가데이터를 출력하라.

ohlc = [["open", "high", "low", "close"],
        [100, 110, 70, 100],
        [200, 210, 180, 190],
        [300, 310, 300, 310]]

100
190
310


# 결과값을 출력해보기
ohlc = [["open", "high", "low", "close"],
        [100, 110, 70, 100],
        [200, 210, 180, 190],
        [300, 310, 300, 310]]

print(ohlc[1][3])
print(ohlc[2][3])
print(ohlc[3][3])


# 정리하기
print(ohlc[1][3])
print(ohlc[2][3])
print(ohlc[3][3])

print(ohlc[i(1~3)][3])
-> for문으로 i를 ohlc에 1부터 3까지를 돌리고, print에는 4번째 자리에 값을 출력


# 정리하기2
ohlc = [["open", "high", "low", "close"],
        [100, 110, 70, 100],
        [200, 210, 180, 190],
        [300, 310, 300, 310]]

for i in ohlc[1:] :
    print(i[3])


# 교재 답
ohlc = [["open", "high", "low", "close"],
        [100, 110, 70, 100],
        [200, 210, 180, 190],
        [300, 310, 300, 310]]

for row in ohlc[1:]:
    print(row[3])


# 196
ohlc 리스트에는 시가(open), 고가 (high), 저가 (low) , 종가(close)가 날짜별로 저장돼 있다. 
종가가 150원보다 큰경우에만 종가를 출력하라.

ohlc = [["open", "high", "low", "close"],
        [100, 110, 70, 100],
        [200, 210, 180, 190],
        [300, 310, 300, 310]]

190
310


# 결과값을 출력해보기
a = [100, 110, 70, 100]
if a[3] > 150 :
    print(a[3])

b = [200, 210, 180, 190]
if b[3] > 150 :
    print(b[3])

c = [300, 310, 300, 310]
if c[3] > 150 :
    print(c[3])


# 리스트 자료형 합하기
a = [100, 110, 70, 100]
b = [200, 210, 180, 190]
c = [300, 310, 300, 310]

d = a, b, c
d


# 정리하기
a = [100, 110, 70, 100]
b = [200, 210, 180, 190]
c = [300, 310, 300, 310]

d = a, b, c

if d[0][3] > 150 :
    print(d[0][3])
    
if d[1][3] > 150 :
    print(d[1][3])
    
if d[2][3] > 150 :
    print(d[2][3])


# 정리하기2
a = [100, 110, 70, 100]
b = [200, 210, 180, 190]
c = [300, 310, 300, 310]

d = a, b, c

#if d[0][3] > 150 :
#    print(d[0][3])
    
#if d[1][3] > 150 :
#    print(d[1][3])
    
#if d[2][3] > 150 :
#    print(d[2][3])

for i in d :
    if i[3] > 150 :
        print(i[3])


# 정리하기3
ohlc = [["open", "high", "low", "close"],
        [100, 110, 70, 100],
        [200, 210, 180, 190],
        [300, 310, 300, 310]]

for i in ohlc[1:] :
    if i[3] > 150 :
        print(i[3])


# 교재 답
ohlc = [["open", "high", "low", "close"],
        [100, 110, 70, 100],
        [200, 210, 180, 190],
        [300, 310, 300, 310]]

for row in ohlc[1:]:
    if (row[3] > 150):
        print(row[3])


# 확인
A = ['a', 'b', 'c']

for i in A :
    if i == 'a' :
        print('정답')


# 197
ohlc 리스트에는 시가(open), 고가 (high), 저가 (low) , 종가(close)가 날짜별로 저장돼 있다. 
종가가 시가 보다 크거나 같은 경우에만 종가를 출력하라.

ohlc = [["open", "high", "low", "close"],
        [100, 110, 70, 100],
        [200, 210, 180, 190],
        [300, 310, 300, 310]]

100
310


# 정리하기
ohlc = [["open", "high", "low", "close"],
        [100, 110, 70, 100],
        [200, 210, 180, 190],
        [300, 310, 300, 310]]

for i in ohlc[1:] :
    if 종가 >= 시가 :
        print(종가)


# 정리하기2
ohlc = [["open", "high", "low", "close"],
        [100, 110, 70, 100],
        [200, 210, 180, 190],
        [300, 310, 300, 310]]

for i in ohlc[1:] :
    if i[3] >= i[0] :
        print(i[3])


# 교재 답
ohlc = [["open", "high", "low", "close"],
        [100, 110, 70, 100],
        [200, 210, 180, 190],
        [300, 310, 300, 310]]

for row in ohlc[1:]:
    if (row[3] >= row[0]):
        print(row[3])


# 198
ohlc 리스트에는 시가(open), 고가 (high), 저가 (low) , 종가(close)가 날짜별로 저장돼 있다. 
고가와 저가의 차이를 변동폭으로 정의할 때, 변동폭을 volatility 이름의 리스트에 저장하라.

ohlc = [["open", "high", "low", "close"],
        [100, 110, 70, 100],
        [200, 210, 180, 190],
        [300, 310, 300, 310]]

>> print(volatility)
[40, 30, 10]


# 리스트 차이
a = [1, 2, 3, 4, 5, 6, 7]
print(a[1]) # 해당 자리에 데이터 값을 나타냄
print(a[1:]) # 해당 자리 이후에 데이터 값을 나타냄


# 정의하기
ohlc = [["open", "high", "low", "close"],
        [100, 110, 70, 100],
        [200, 210, 180, 190],
        [300, 310, 300, 310]]

volatility = []

for i in ohlc[1:] :
    volatility.append(변동폭 = 고가 - 저가i[1]-i[2])
 print(volatility = 변동폭)


# 정의하기2
ohlc = [["open", "high", "low", "close"],
        [100, 110, 70, 100],
        [200, 210, 180, 190],
        [300, 310, 300, 310]]

volatility = []

for i in ohlc[1:] :
    volatility.append(i[1]-i[2])
print(volatility)


# 교재 답
ohlc = [["open", "high", "low", "close"],
        [100, 110, 70, 100],
        [200, 210, 180, 190],
        [300, 310, 300, 310]]

volatility = []

for row in ohlc[1:]:
    volatility.append(row[1]-row[2])
print(volatility)    


# 교재 답 2 - range 사용
ohlc = [["open", "high", "low", "close"],
        [100, 110, 70, 100],
        [200, 210, 180, 190],
        [300, 310, 300, 310]]

volatility = []

for i in range(1, len(ohlc)):
    volatility.append(ohlc[i][1]-ohlc[i][2])
print(volatility)


ohlc = [["open", "high", "low", "close"],
        [100, 110, 70, 100],
        [200, 210, 180, 190],
        [300, 310, 300, 310]]

volatility = []

for i in ohlc[1:] :
   print(i[1]-i[2])


# 199
리스트에는 3일 간의 ohlc 데이터가 저장돼 있다. 
종가가 시가보다 높은 날의 변동성 (고가 - 저가)을 화면에 출력하라.

ohlc = [["open", "high", "low", "close"],
        [100, 110, 70, 100],
        [200, 210, 180, 190],
        [300, 310, 300, 310]]

종가가 시가보다 높은 거래일의 OHLC는 [300, 310, 300, 310] 이다. 
따라서 이 거래일의 변동성은 10 (310 - 300)이다.

10


# 정의하기
ohlc = [["open", "high", "low", "close"],
        [100, 110, 70, 100],
        [200, 210, 180, 190],
        [300, 310, 300, 310]]

if 종가 > 시가 :
    print(변동성(고가-저가))


# 정의하기
ohlc = [["open", "high", "low", "close"],
        [100, 110, 70, 100],
        [200, 210, 180, 190],
        [300, 310, 300, 310]]

for i in ohlc[1:] :
    if i[3] > i[0] :
        print(i[1]-i[2])


# 교재 답
ohlc = [["open", "high", "low", "close"],
        [100, 110, 70, 100],
        [200, 210, 180, 190],
        [300, 310, 300, 310]]

for row in ohlc[1:]:
    if row[3] > row[0]:
        print(row[1]-row[2])


# 200
리스트에는 3일 간의 ohlc 데이터가 저장돼 있다. 
시가에 매수해서 종가에 매도 했을 경우 총 수익금을 계산하라.

ohlc = [["open", "high", "low", "close"],
        [100, 110, 70, 100],
        [200, 210, 180, 190],
        [300, 310, 300, 310]]

1일차 수익 0원 (100 - 100)
2일차 수익 -10원 (190 - 200) 
3일차 수익 10원 (310 - 300)

0


# 정의하기
ohlc = [["open", "high", "low", "close"],
        [100, 110, 70, 100],
        [200, 210, 180, 190],
        [300, 310, 300, 310]]

매도 - 매수 = 종가 - 시가 = 수익 = close - open

총 수익 = 1일차 + 2일차 + 3일차


# 정의하기 2
ohlc = [["open", "high", "low", "close"],
        [100, 110, 70, 100],
        [200, 210, 180, 190],
        [300, 310, 300, 310]]

total = []

for i in ohlc[1:] :
    total.append(i[3]-i[0])

print(sum(total))


# 교재 답
ohlc = [["open", "high", "low", "close"],
        [100, 110, 70, 100],
        [200, 210, 180, 190],
        [300, 310, 300, 310]]

profit = 0
for row in ohlc[1:]:
    profit += (row[3] - row[0]) # profit에 for문이 끝날때까지 데이터 값을 더한다.

print(profit)





# 201
"비트코인" 문자열을 화면에 출력하는 print_coin() 함수를 정의하라.


def print_coin():
    print("비트코인")


# 202
201번에서 정의한 함수를 호출하라.


a = print_coin()


# 교재 답
print_coin()


#203
201번에서 정의한 print_coin 함수를 100번호출하라.


for i in range(0,100) :
    print_coin()


# 교재 답
for i in range(100):
    print_coin()


# 204
"비트코인" 문자열을 100번 화면에 출력하는 print_coins() 함수를 정의하라.


def print_coins() :
    for i in range(100) :
        print("비트코인")

print_coins()


#205
아래의 에러가 발생하는 이유에 대해 설명하라.

hello()
def hello():
    print("Hi")

실행 예
NameError: name 'hello' is not defined








# 206
아래 코드의 실행 결과를 예측하라.

def message() :
    print("A")
    print("B")

message()
print("C")
message()





# 결과
def message() :
    print("A")
    print("B")

message()
print("C")
message()


# 207
아래 코드의 실행 결과를 예측하라. (읽기 어려운 코드의 예입니다.)

print("A")

def message() :
    print("B")

print("C")
message()





# 결과
print("A")

def message() :
    print("B")

print("C")
message()


# 208
아래 코드의 실행 결과를 예측하라. (읽기 어려운 코드의 예입니다.)

print("A")

def message1() :
    print("B")

print("C")

def message2() :
    print("D")
    
message1()
print("E")
message2()





# 결과
print("A")

def message1() :
    print("B")

print("C")

def message2() :
    print("D")
    
message1()
print("E")
message2()


# 209
아래 코드의 실행 결과를 예측하라.

def message1():
    print("A")

def message2():
    print("B")
    message1()

message2()





# 결과
def message1():
    print("A")

def message2():
    print("B")
    message1()

message2()


# 210
아래 코드의 실행 결과를 예측하라.

def message1():
    print("A")

def message2():
    print("B")

def message3():
    for i in range (3) :
        message2()
        print("C")
    message1()

message3()





# 결과
def message1():
    print("A")

def message2():
    print("B")

def message3():
    for i in range (3) :
        message2()
        print("C")
    message1()

message3()





#211
함수의 호출 결과를 예측하라.

def 함수(문자열) :
    print(문자열)

함수("안녕")
함수("Hi")





### 결과
def 함수(문자열) :
    print(문자열)

함수("안녕")
함수("Hi")


#212
함수의 호출 결과를 예측하라.

def 함수(a, b) :
    print(a + b)

함수(3, 4)
함수(7, 8)





### 결과
def 함수(a, b) :
    print(a + b)

함수(3, 4)
함수(7, 8)


# 213
아래와 같은 에러가 발생하는 원인을 설명하라.

def 함수(문자열) :
    print(문자열)
함수()
TypeError: 함수() missing 1 required positional argument: '문자열'








# 214
아래와 같은 에러가 발생하는 원인을 설명하라.

def 함수(a, b) :
    print(a + b)

함수("안녕", 3)
TypeError: must be str, not int








# 215
하나의 문자를 입력받아 문자열 끝에 ":D" 스마일 문자열을 이어 붙여 출력하는 print_with_smile 함수를 정의하라.


# 정의하기
입력 : 하나의 문자
출력 : 문자열 끝에 ":D" 스마일 문자열을 이어 붙임
함수이름 : print_with_smile


# 함수 정의하기
def print_with_smile(문자) :
    print(문자+':D')


# 함수 정의하기 2
def print_with_smile(문자) :
    print(문자+':D')

print_with_smile('안녕')


# 교재 답
def print_with_smile (string) :
    print (string + ":D")

print_with_smile('스마일')


# 216
215에서 정의한 함수를 호출하라. 파라미터는 "안녕하세요"로 입력하라.


def print_with_smile(문자) :
    print(문자+':D')

print_with_smile('안녕하세요')


# 217
현재 가격을 입력 받아 상한가 (30%)를 출력하는 print_upper_price 함수를 정의하라.


# 함수 정의하기
입력 : 현재 가격
출력 : 상한가(30%)
함수 이름 : print_upper_price


# 함수 정의하기 2
def print_upper_price(price) :
    print(price*1.3)


# 함수 정의하기 3
def print_upper_price(price) :
    print(price*1.3)

print_upper_price(1000)


#교재 답
def print_upper_price(price) :
    print(price * 1.3)


# 218
두 개의 숫자를 입력받아 두 수의 합을 출력하는 print_sum 함수를 정의하라.


# 함수 정의하기
입력 : 두 개의 숫자
출력 : 두 수의 합
함수 이름 : print_sum


# 함수 정의하기 2
def print_sum(a, b) :
    print(a + b)

print_sum(1, 2)


# 219
두 개의 숫자를 입력받아 합/차/곱/나눗셈을 출력하는 print_arithmetic_operation 함수를 작성하라.

print_arithmetic_operation(3, 4)

3 + 4 = 7
3 - 4 = -1
3 * 4 = 12
3 / 4 = 0.75


# 함수 정의하기
입력 : 두 개의 숫자
출력 : 합/차/곱/나눗셈
함수 이름 : print_arithmetic_operation


# 함수 정의하기 2
def print_arithmetic_operation(a, b) :
    print(a, '+', b, '=', a + b)
    print(a, '-', b, '=', a - b)
    print(a, '*', b, '=', a * b)
    print(a, '/', b, '=', a / b)

print_arithmetic_operation(1,2)


# 220
세 개의 숫자를 입력받아 가장 큰수를 출력하는 print_max 함수를 정의하라. 
단, if 문을 사용해서 수를 비교하라.


# 함수 정의하기 
입력 : 세 개의 숫자
출력 : 가장 큰 수
함수 이름 : print_max


# 함수 정의하기
def print_max(a, b, c) :
    if a > b and b > c :
        print(a)
    elif b > a and a > c :
        print(b)
    else :
        print(c)


# 함수 정의하기 2
def print_max(a, b, c) :
    if a > b and a > c :
        print(a)
    elif b > a and b > c :
        print(b)
    else :
        print(c)

print_max(1, 2, 3)
print_max(4, 2, 3)


# 교재 답
def print_max(a, b, c) :
    max_val = 0
    if a > max_val :
        max_val = a     # a > (max_val = 0)을 비교해서 max_val에 참이면 a를, 거짓이면 0을 유지
    if b > max_val :    
        max_val = b     # b > (max_val = a or 0)을 비교해서 max_val에 참이면 b를, 거짓이면 a를 유지
    if c > max_val :    
        max_val = c     # c > (max_val = b or a)을 비교해서 max_val에 참이면 c를, 거짓이면 b를 유지
    print(max_val)

print_max(5, 2, 3)

# 지금까지써왔던 max 함수의 내부는 위와 비슷하게 구현되어 있을 겁니다.

max(1, 2, 3)    # max() : 요소들 중에서 가장 큰 요소를 반환


max?





# 221
입력된 문자열을 역순으로 출력하는 print_reverse 함수를 정의하라.

print_reverse("python")
nohtyp


# 함수 정의하기
입력 : 문자열
출력 : 문자열 역순
함수 이름 : print_reverse


# 함수 정의하기 2
def print_reverse(문자열) : 
    print(문자열[::-1])


# 함수 정의하기 3
def print_reverse(문자열) : 
    print(문자열[::-1])

print_reverse('안녕하세여')


# 222
성적 리스트를 입력 받아 평균을 출력하는 print_score 함수를 정의하라.

print_score ([1, 2, 3])
2.0


# 함수 정의하기
입력 : 성적 리스트
출력 : 평균
함수 이름 : print_score


# 함수 정의하기 2
def print_score(list) :
    print(sum(list)/len(list))


# 함수 정의하기 3
def print_score(list) :
    print(sum(list)/len(list))

print_score([1, 2, 3])
print_score([50, 60, 70, 80, 90])


# 223
하나의 리스트를 입력받아 짝수만 화면에 출력하는 print_even 함수를 정의하라.

print_even ([1, 3, 2, 10, 12, 11, 15])
    
2
10
12


# 함수 정의하기
입력 : 하나의 리스트
출력 : 짝수
함수 이름 : print_even


# 함수 정의하기 2
def print_even(list) : 
    for i in list :
        if i % 2 == 0 :
            print(i)


# 함수 정의하기 3
def print_even(list) :
    for i in list :
        if i % 2 == 0 :
            print(i)

print_even([1, 2, 30, 24, 26, 44])


# 224
하나의 딕셔너리를 입력받아 딕셔너리의 key 값을 화면에 출력하는 print_keys 함수를 정의하라.

print_keys ({"이름":"김말똥", "나이":30, "성별":0})
이름
나이
성별


# 함수 정의하기
입력 : 하나의 딕셔너리
출력 : 딕셔너리의 key 값
함수 이름 : print_keys


# 함수 정의하기 2
def print_keys(dic) :
    print(dic.keys())


# 함수 정의하기 3
def print_keys(dic) :
    print(dic.keys())

print_keys({"이름" : "홍길동", "나이" : 30, "성별" : 0})


# 함수 정의하기 4
def print_keys(dic) :
    for i in dic.keys() :
        print(i)

print_keys({"이름" : "홍길동", "나이" : 30, "성별" : 0 })


# 교재 답
def print_keys(dic):
    for keys in dic.keys() :
        print(keys)

print_keys ({"이름":"김말똥", "나이":30, "성별":0})


# 딕셔너리에서 key
dict = ({"이름":"김말똥", "나이":30, "성별":0})
print(dict.keys())


# 딕셔너리에서 value
dict = ({"이름":"김말똥", "나이":30, "성별":0})
print(dict.values())


# 225
my_dict에는 날짜를 키값으로 OHLC가 리스트로 저장돼 있다.

my_dict = {"10/26" : [100, 130, 100, 100],
           "10/27" : [10, 12, 10, 11]}

my_dict와 날짜 키값을 입력받아 OHLC 리스트를 출력하는 print_value_by_key 함수를 정의하라.

print_value_by_key  (my_dict, "10/26")

[100, 130, 100, 100]


# 함수 정의하기
입력 : my_dict와 날짜 키 값
출력 : OHLC 리스트
함수 이름 : print_value_by_key


# 함수 정의하기 2
def print_value_by_key(my_dict, dkey) :
    print(my_dict[dkey])


# 함수 정의하기 3
my_dict = {"10/26" : [100, 130, 100, 100],
           "10/27" : [10, 12, 10, 11]}

def print_value_by_key(my_dict, dkey) :
    print(my_dict[dkey])

print_value_by_key(my_dict, "10/26")
print_value_by_key(my_dict, "10/27")


# 226
입력 문자열을 한 줄에 다섯글자씩 출력하는 print_5xn(string) 함수를 작성하라.

print_5xn("아이엠어보이유알어걸")
    
아이엠어보
이유알어걸


# 함수 정의하기
입력 : 문자열
출력 : 한 줄에 다섯글자씩
함수 이름 : print_5xn(string)


# 함수 출력 정의하기
print_5xn = ("아이엠어보이유알어걸")

print(print_5xn[0:5])
print(print_5xn[5:10])


print_5xn = ("아이엠어보이유알어걸")
print(len(print_5xn),type(len(print_5xn)))
print(int(len(print_5xn)/2), type(int(len(print_5xn)/2)))
print(len(print_5xn)/2, type(len(print_5xn)/2))


# 함수 정의하기 2
def print_5xn(string) :
    a = int(len(string)/5)
    for i in range(a+1) :
        print(i[a*5 : a*5+5])

print_5xn("아이엠어보이유알어걸")


# 교재 답
def print_5xn(line):
    chunk_num = int(len(line) / 5)
    for x in range(chunk_num + 1) :
        print(line[x * 5: x * 5 + 5])

print_5xn("아이엠어보이유알어걸")


# 227
문자열과 한줄에 출력될 글자 수를 입력을 받아 한 줄에 입력된 글자 수만큼 출력하는 print_mxn(string) 함수를 작성하라.

printmxn("아이엠어보이유알어걸", 3)
아이엠
어보이
유알어
걸





# 228
연봉을 입력받아 월급을 계산하는 calc_monthly_salary(annual_salary) 함수를 정의하라. 회사는 연봉을 12개월로 나누어 분할 지급하며, 이 때 1원 미만은 버림한다.

calc_monthly_salary(12000000)
1000000





# 229
아래 코드의 실행 결과를 예측하라.

def my_print (a, b) :
    print("왼쪽:", a)
    print("오른쪽:", b)

my_print(a=100, b=200)





# 230
아래 코드의 실행 결과를 예측하라.

def my_print (a, b) :
    print("왼쪽:", a)
    print("오른쪽:", b)

my_print(b=100, a=200)








# 231
아래 코드를 실행한 결과를 예상하라.

def n_plus_1 (n) :
    result = n + 1

n_plus_1(3)
print (result)





# 232
문자열 하나를 입력받아 인터넷 주소를 반환하는 make_url 함수를 정의하라.

make_url("naver")
www.naver.com





# 233
문자열을 입력받아 각 문자들로 구성된 리스트로 반환하는 make_list 함수를 정의하라.

make_list("abcd")
['a', 'b', 'c', 'd']





# 234
숫자로 구성된 하나의 리스트를 입력받아, 짝수들을 추출하여 리스트로 반환하는 pickup_even 함수를 구현하라.

pickup_even([3, 4, 5, 6, 7, 8])
[4, 6, 8]





# 235
콤마가 포함된 문자열 숫자를 입력받아 정수로 변환하는 convert_int 함수를 정의하라.

convert_int("1,234,567")
1234567





# 236
아래 코드의 실행 결과를 예측하라.

def 함수(num) :
    return num + 4

a = 함수(10)
b = 함수(a)
c = 함수(b)
print(c)





# 237
아래 코드의 실행 결과를 예측하라.

def 함수(num) :
    return num + 4

c = 함수(함수(함수(10)))
print(c)





# 238
아래 코드의 실행 결과를 예측하라.

def 함수1(num) :
    return num + 4

def 함수2(num) :
    return num * 10

a = 함수1(10)
c = 함수2(a)
print(c)





# 239
아래 코드의 실행 결과를 예측하라.

def 함수1(num) :
    return num + 4

def 함수2(num) :
    num = num + 2
    return 함수1(num)

c = 함수2(10)
print(c)





# 240
아래 코드의 실행 결과를 예측하라.

def 함수0(num) :
    return num * 2

def 함수1(num) :
    return 함수0(num + 2)

def 함수2(num) :
    num = num + 10
    return 함수1(num)

c = 함수2(2)
print(c)

































