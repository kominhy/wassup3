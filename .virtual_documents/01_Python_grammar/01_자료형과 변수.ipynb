a = 123
a


a = -178
a


a = 1.2
a


a = -3.48
a


a = 4.24E10
a


a = 4.24E-10
a


a = 0o177
a


a = 0x8ff
b = 0xabc
a, b





a = 3
b = 4
a + b


a-b


a*b


a/b





a**b





7%3


3%7


나눗셈 몫 연산


7//4


7/4





"Hello World"


'Hello World'


Hello World


"""Hello World"""


'''
Hello World
'''





Python's favorite food is perl


'Python's favorite food is perl'


"Python's favorite food is perl"


"Python is very easy." he says.


'"Python is very easy." he says.'


'Python\'s favorite food is perl'


"Life is too short \n You need Python"


multiline = "Life is too short \n You need Python"
multiline


print(multiline)


multiline = '''
Life is too short
you need python
'''
multiline


print(multiline)





head = "Python"
tail = " is fun!"
head + tail


a = 'python'
a * 5


print('='*50)


a = "Life is too short"
len(a)





a = "Life is too short, You need Python"


len(a)


a[3]


a[13]


a[-1]


a[-7]


a[-0]





a = "Life is too short, You need Python"
a[0]+a[1]+a[2]+a[3]


a[0:4]


a[0:0]


a[19:34]


a[-15:]


a[19:-7]





a = "20240610Sunny"
date = a[:8]
weather = a[8:]
date, weather


year = a[:4]
day = a[4:8]
year, day, weather





a = "pithon"
a[1] = 'y'
a


a[0]+'y'+a[2:]


























































































