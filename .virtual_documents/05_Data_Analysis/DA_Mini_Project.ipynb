





import pandas as pd


access_data = pd.read_table('data/mini.csv',sep=',')


access_data.head()


access_data.tail()


access_data.info()


access_data.describe()


access_data.describe(include='all')


### 정의하기

학습 서비스를 이용하는 독자들 중 누가 서비스 구독을 연장할지 예측하기 위한 사전 파악에 초점

접속시간, 자주 접속하는지, 얼마나 오래 공부하는지, 난이도는 어떤지
선호하는 난이도에 따른 학습성취도, 완료/중단 학습, 구독유형, 

자주 이용하는 유저면 서비스 구독을 연장할 것이다.
-> 자주 이용하는 유저에 특징
-> 월간 활동적인 학습 일수, 각 학습 세션에 소요된 평균 시간, 완료한 총 코스 수, 최근 학습 성취도, 결제 패턴

=> 오래 사용하는 사람 -> 서비스가 맘에 들어서 오래 사용하는거니 구독을 연장하지 않을까?
=> 완료한 총 코스 수가 많다 -> 완료한 코스가 많다는 건 맘에 든 코스가 있다는거고 다른 코스를 완료하기 위해서 구독을 연장하지 않을까?
=> 학습 성취도가 높다 -> 성취도가 높다는건 그 학습이 맘에 들었다는거고 결국, 다른 학습을 위해서 구독을 연장하지 않을까?
=> 결제 패턴이 성립할까?



user_id: 사용자의 고유 식별자

subscription_duration: 사용자가 서비스에 가입한 기간 (월)

recent_login_time: 사용자가 마지막으로 로그인한 시간 (일)

average_login_time: 사용자의 일반적인 로그인 시간

average_time_per_learning_session: 각 학습 세션에 소요된 평균 시간 (분)

monthly_active_learning_days: 월간 활동적인 학습 일수

total_completed_courses: 완료한 총 코스 수

recent_learning_achievement: 최근 학습 성취도

abandoned_learning_sessions: 중단된 학습 세션 수

preferred_difficulty_level: 선호하는 난이도

payment_pattern : 사용자의 지난 3개월 간의 결제 패턴을 10진수로 표현한 값.
7: 3개월 모두 결제함
6: 첫 2개월은 결제했으나 마지막 달에는 결제하지 않음
5: 첫 달과 마지막 달에 결제함
4: 첫 달에만 결제함
3: 마지막 2개월에 결제함
2: 가운데 달에만 결제함
1: 마지막 달에만 결제함
0: 3개월 동안 결제하지 않음

target: 사용자가 다음 달에도 구독을 계속할지 (1) 또는 취소할지 (0)를 나타냄


access_data.head()


# 데이터 시각화
import matplotlib.pyplot as plt
import numpy as np
import koreanize_matplotlib


access_data['average_login_time']


# 시간대 소수점 이하 버림
num = access_data['average_login_time']
access_data['average_login_time'] = round(num)
print(average_login_time)


access_data.head()


# 평균 로그인 시간대별 유저 수
number_people_by_avg = access_data.groupby('average_login_time')['user_id'].count()
number_people_by_avg


time = number_people_by_avg


# 데이터 시각화
plt.bar(time.index, time, width=8)


# 완료한 수강 수와 유저 수
access_data['total_completed_courses']


number_people_by_com = access_data.groupby('total_completed_courses')['user_id'].count()
number_people_by_com


# 데이터 시각화
plt.bar(number_people_by_com.index, number_people_by_com, width=8)


# 유저가 가입한기간
access_data['subscription_duration']


# 가입기간 별 유저 수
number_people_by_date = access_data.groupby('subscription_duration')['user_id'].count()
number_people_by_date


# 결제 달 별 유저수
number_people_by_pay = access_data.groupby('payment_pattern')['user_id'].count()
number_people_by_pay

# 7: 3개월 모두 결제함
# 6: 첫 2개월은 결제했으나 마지막 달에는 결제하지 않음
# 5: 첫 달과 마지막 달에 결제함
# 4: 첫 달에만 결제함
# 3: 마지막 2개월에 결제함
# 2: 가운데 달에만 결제함
# 1: 마지막 달에만 결제함
# 0: 3개월 동안 결제하지 않음


number_people_by_rec = access_data.groupby('recent_learning_achievement')['user_id'].count()
number_people_by_rec


access_data.


user_id: 사용자의 고유 식별자
subscription_duration: 사용자가 서비스에 가입한 기간 (월)
recent_login_time: 사용자가 마지막으로 로그인한 시간 (일)
average_login_time: 사용자의 일반적인 로그인 시간
average_time_per_learning_session: 각 학습 세션에 소요된 평균 시간 (분)
monthly_active_learning_days: 월간 활동적인 학습 일수
total_completed_courses: 완료한 총 코스 수
recent_learning_achievement: 최근 학습 성취도
abandoned_learning_sessions: 중단된 학습 세션 수
community_engagement_level: 커뮤니티 참여도
preferred_difficulty_level: 선호하는 난이도
subscription_type: 구독 유형
customer_inquiry_history: 고객 문의 이력
payment_pattern : 사용자의 지난 3개월 간의 결제 패턴을 10진수로 표현한 값.
7: 3개월 모두 결제함
6: 첫 2개월은 결제했으나 마지막 달에는 결제하지 않음
5: 첫 달과 마지막 달에 결제함
4: 첫 달에만 결제함
3: 마지막 2개월에 결제함
2: 가운데 달에만 결제함
1: 마지막 달에만 결제함
0: 3개월 동안 결제하지 않음
target: 사용자가 다음 달에도 구독을 계속할지 (1) 또는 취소할지 (0)를 나타냄


data1 = access_data['subscription_duration']

data2 = access_data['average_login_time']

data3 = access_data['monthly_active_learning_days']

data4 = access_data['total_completed_courses']

data5 = access_data['recent_learning_achievement']

data6 = access_data['payment_pattern']

data7 = access_data['target']

data8 = access_data['average_time_per_learning_session']


fig, axs = plt.subplots(3, 3, figsize=(15, 10))

axs[0,0].hist(data1.values, bins=50)
axs[0,0].set_title('사용자가 서비스에 가입한 기간')

axs[0,1].hist(data2.values, bins=40)
axs[0,1].set_title('사용자의 일반적인 로그인 시간')

axs[0,2].hist(data3.values, bins=50)
axs[0,2].set_title('한달 학습 날')

axs[1,0].hist(data4.values, bins=25)
axs[1,0].set_title('완료한 수강 수')

axs[1,1].hist(data5.values, bins=25)
axs[1,1].set_title('최근 학습 성취도')

axs[1,2].hist(data8.values, bins=25)
axs[1,2].set_title('학습 소요 시간')

axs[2,0].hist(data6.values, bins=16)
axs[2,0].set_title('결제 패턴')

axs[2,1].hist(data7.values, bins=5)
axs[2,1].set_title('다음달구독')


fig.subplots_adjust(hspace=0.5)
plt.show()





=> 오래 사용하는 사람 -> 서비스가 맘에 들어서 오래 사용하는거니 구독을 연장하지 않을까?
    -> 오래 사용한 사람이면 완료한 코스 수와 중단한 학습이 있을 것이고, 커뮤니티 참여도, 난이도 등 학습 습관을 파악하기에 좋을 것이라 판단
    -> 6개월 이상에 유저들을 기준(전체 3/4) 학습 습관 파악하기


=> 완료한 총 코스 수가 많다 -> 완료한 코스가 많다는 건 맘에 든 코스가 있다는거고 다른 코스를 완료하기 위해서 구독을 연장하지 않을까?


    

=> 학습 성취도가 높다 -> 성취도가 높다는건 그 학습이 맘에 들었다는거고 결국, 다른 학습을 위해서 구독을 연장하지 않을까?


# 6개월 이상에 사용기간, 완료 코스, 중단 세션, 커뮤니티, 난이도
six = access_data.loc[access_data.subscription_duration>=6,['user_id', 'subscription_duration','total_completed_courses','abandoned_learning_sessions', 'community_engagement_level','preferred_difficulty_level']]
six


six.info()


six.describe(include='all')





# 6개월 미만 데이터 조회
six_low = access_data.loc[access_data.subscription_duration<6,['user_id', 'subscription_duration','total_completed_courses','abandoned_learning_sessions', 'community_engagement_level','preferred_difficulty_level']]
six_low


six_low.describe(include='all')





# 오랜 기간 유저 상위 6개월
six_high = access_data.loc[access_data.subscription_duration>=18,['user_id', 'subscription_duration','total_completed_courses','abandoned_learning_sessions', 'community_engagement_level','preferred_difficulty_level']]
six_high


six_high.describe(include='all')





기간별로 나눠서 비교를 했지만, 전체 적인 값들에 분포도와 평균이 비슷함을 확인

가설
=> 오래 사용하는 사람 -> 서비스가 맘에 들어서 오래 사용하는거니 구독을 연장하지 않을까?
-> 오래 사용한 사람이면 완료한 코스 수와 중단한 학습이 있을 것이고, 커뮤니티 참여도, 난이도 등 학습 습관을 파악하기에 좋을 것이라 판단
-> 6개월 이상에 유저들을 기준(전체 3/4) 학습 습관 파악하기
    
추론    
=> 오래 기간을 신청한다고 해서 완료한 코스나 포기한 강좌들이 많다는 가설은 맞지 않음. 
=> 전체적으로 난이도는 LOW를 선호
=> 다른 비교 기준이 필요

새로운 가설
->> 난이도를 기준으로 기간, 완료 코스, 중단 학습, 한달 학습 날, 섹션에 소요된 시간




가설
=> 완료한 총 코스 수가 많다 -> 완료한 코스가 많다는 건 맘에 든 코스가 있다는거고 다른 코스를 완료하기 위해서 구독을 연장하지 않을까?

추론
-> 적은 기간에서도 완료한 코스 수가 많다 -> 유저에 학습능력에 따라서 기간 안에 완료할 수 있는 코스 수가 다르기에 비교방법을 바꿔야 함

새로운 가설
->> 완료한 총 코스와 포기한 학습을 비교해서 포기한 학습이 상대적으로 많으면 유저가 이탈하지 않을까?


=> 학습 성취도가 높다 -> 성취도가 높다는건 그 학습이 맘에 들었다는거고 결국, 다른 학습을 위해서 구독을 연장하지 않을까?


rec_high = access_data.loc[access_data.subscription_duration>=18,['user_id','recent_learning_achievement']]
rec_high.describe()


rec_low = access_data.loc[access_data.subscription_duration<6,['user_id','recent_learning_achievement']]
rec_low.describe()


rec = access_data.loc[access_data.subscription_duration>=6,['user_id','recent_learning_achievement']]
rec.describe()


user_id: 사용자의 고유 식별자
subscription_duration: 사용자가 서비스에 가입한 기간 (월)
recent_login_time: 사용자가 마지막으로 로그인한 시간 (일)
average_login_time: 사용자의 일반적인 로그인 시간
average_time_per_learning_session: 각 학습 세션에 소요된 평균 시간 (분)
monthly_active_learning_days: 월간 활동적인 학습 일수
total_completed_courses: 완료한 총 코스 수
recent_learning_achievement: 최근 학습 성취도
abandoned_learning_sessions: 중단된 학습 세션 수
community_engagement_level: 커뮤니티 참여도
preferred_difficulty_level: 선호하는 난이도



# 완료 강좌, 중단 학습, 월 접속, 평균 로그인 시간, 세션 소요 평균 시간
level = access_data.loc[access_data.preferred_difficulty_level =='Low',['user_id', 'subscription_duration','total_completed_courses', 'abandoned_learning_sessions','monthly_active_learning_days', 'average_time_per_learning_session']]
level.describe(include='all')


level_m = access_data.loc[access_data.preferred_difficulty_level =='Medium',['user_id', 'subscription_duration','total_completed_courses', 'abandoned_learning_sessions','monthly_active_learning_days', 'average_time_per_learning_session']]
level_m.describe(include='all')


level_h = access_data.loc[access_data.preferred_difficulty_level =='High',['user_id','subscription_duration', 'total_completed_courses', 'abandoned_learning_sessions','monthly_active_learning_days', 'average_time_per_learning_session']]
level_h.describe(include='all')


user_id: 사용자의 고유 식별자
subscription_duration: 사용자가 서비스에 가입한 기간 (월)

average_time_per_learning_session: 각 학습 세션에 소요된 평균 시간 (분)

monthly_active_learning_days: 월간 활동적인 학습 일수

total_completed_courses: 완료한 총 코스 수

abandoned_learning_sessions: 중단된 학습 세션 수



access_data


# 완료, 중단 학습 합
access_data["com+aban"] = access_data.apply(lambda x: (x.total_completed_courses+x.abandoned_learning_sessions), axis=1)
access_data[['user_id','subscription_duration','com+aban']]


a = 13/19
a, type(a)


# 완료와 중단한 학습 수를 합한 경우
abc = access_data[['user_id','average_time_per_learning_session','subscription_duration','com+aban']]
abc


abc.info()


abc.describe()


import seaborn as sns
import matplotlib.pylab as plt


# 한글 및 특정 문자 깨짐 문제 해결
import koreanize_matplotlib # 시본의 한글 깨짐은 해결못하지만, - 깨짐 해결

from matplotlib import font_manager, rc # 폰트 세팅을 위한 모듈 추가
font_path = "C:/Windows/Fonts/malgun.ttf" # 사용할 폰트명 경로 삽입
font = font_manager.FontProperties(fname = font_path).get_name()
rc('font', family = font)
# plt.rcParams['font.size'] = 11.0
plt.rcParams['font.family'] = 'Malgun Gothic' # 'batang'

# 그래프에서 마이너스 폰트 깨지는 문제에 대한 대처
# matplotlib.rcParams['axes.unicode_minus'] = False


# 주의 메시지 숨기기
import warnings
warnings.filterwarnings("ignore")


sns.scatterplot(data=abc, x="subscription_duration", y="com+aban")
sns.rugplot(data=abc, x="subscription_duration", y="com+aban")


sns.scatterplot(data=access_data, x="total_completed_courses", y="abandoned_learning_sessions")
sns.rugplot(data=access_data, x="total_completed_courses", y="abandoned_learning_sessions")


sns.stripplot(x="total_completed_courses", y="abandoned_learning_sessions", data=access_data, jitter=True) # True가 기본값, False로 바꿔보자
plt.title("완료 수강, 중단한 학습")
plt.show()


sns.scatterplot(data=access_data, x="subscription_duration", y="recent_learning_achievement")
sns.rugplot(data=access_data, x="subscription_duration", y="recent_learning_achievement")


sns.scatterplot(data=access_data, x="target", y="community_engagement_level")
sns.rugplot(data=access_data, x="target", y="community_engagement_level")


sns.scatterplot(data=access_data, x="target", y="payment_pattern")
sns.rugplot(data=access_data, x="target", y="payment_pattern")


sns.set_theme()
sns.kdeplot(data=access_data, x="recent_learning_achievement")
sns.rugplot(data=access_data, x="recent_learning_achievement")
plt.show()


sns.scatterplot(data=access_data, x="target", y="recent_learning_achievement")
sns.rugplot(data=access_data, x="target", y="recent_learning_achievement")


새로운 가설
->> 난이도를 기준으로 완료 코스, 중단 학습, 한달 학습 날, 섹션에 소요된 시간


새로운 가설
->> 완료한 총 코스와 포기한 학습을 비교해서 포기한 학습이 상대적으로 많으면 유저가 이탈하지 않을까?


user_id: 사용자의 고유 식별자
subscription_duration: 사용자가 서비스에 가입한 기간 (월)
recent_login_time: 사용자가 마지막으로 로그인한 시간 (일)
average_login_time: 사용자의 일반적인 로그인 시간
average_time_per_learning_session: 각 학습 세션에 소요된 평균 시간 (분)
monthly_active_learning_days: 월간 활동적인 학습 일수
total_completed_courses: 완료한 총 코스 수
recent_learning_achievement: 최근 학습 성취도
abandoned_learning_sessions: 중단된 학습 세션 수
community_engagement_level: 커뮤니티 참여도
preferred_difficulty_level: 선호하는 난이도


sns.scatterplot(data=access_data, x="target", y="abandoned_learning_sessions")
sns.rugplot(data=access_data, x="target", y="abandoned_learning_sessions")



sns.scatterplot(data=access_data, x="target", y="total_completed_courses")
sns.rugplot(data=access_data, x="target", y="total_completed_courses")


sns.scatterplot(data=access_data, x="target", y="preferred_difficulty_level")
sns.rugplot(data=access_data, x="target", y="preferred_difficulty_level")


sns.stripplot(x="target", y="preferred_difficulty_level", data=access_data, jitter=True) # True가 기본값, False로 바꿔보자
plt.title("난이도와 타겟")
plt.show()


sns.scatterplot(data=access_data, x="preferred_difficulty_level", y="total_completed_courses")
sns.rugplot(data=access_data, x="preferred_difficulty_level", y="total_completed_courses")


sns.scatterplot(data=access_data, x="preferred_difficulty_level", y="abandoned_learning_sessions")
sns.rugplot(data=access_data, x="preferred_difficulty_level", y="abandoned_learning_sessions")


sns.scatterplot(data=access_data, x="preferred_difficulty_level", y="monthly_active_learning_days")
sns.rugplot(data=access_data, x="preferred_difficulty_level", y="monthly_active_learning_days")


sns.scatterplot(data=access_data, x="preferred_difficulty_level", y="average_time_per_learning_session")
sns.rugplot(data=access_data, x="preferred_difficulty_level", y="average_time_per_learning_session")


sns.stripplot(x="preferred_difficulty_level", y="average_time_per_learning_session", data=access_data, jitter=True) # True가 기본값, False로 바꿔보자
plt.title("난이도 별 평균 공부 시간")
plt.show()


sns.stripplot(y="preferred_difficulty_level", x="average_time_per_learning_session", data=access_data, jitter=True) # True가 기본값, False로 바꿔보자
plt.title("난이도 별 평균 공부 시간")
plt.show()


난이도가 낮은데 소요시간이 길다. ????????????????????????



sns.scatterplot(data=access_data, x="preferred_difficulty_level", y="average_time_per_learning_session")
sns.rugplot(data=access_data, x="preferred_difficulty_level", y="average_time_per_learning_session")


# 타겟 중에 난이도가 low인 사람 중에 평균 공부시간
level = access_data.loc[access_data.preferred_difficulty_level =='Low',['user_id', 'subscription_duration','total_completed_courses', 'abandoned_learning_sessions','monthly_active_learning_days', 'average_time_per_learning_session']]
level.describe(include='all')


# mon_time = 한달 공부 시간
access_data["mon_time"] = access_data.apply(lambda x: (x.monthly_active_learning_days+x.average_login_time), axis=1)
access_data[['user_id','subscription_duration','mon_time']].info()


monthly_time = access_data[['user_id','subscription_duration','preferred_difficulty_level','mon_time']]
monthly_time


sns.scatterplot(data=monthly_time, x="subscription_duration", y="mon_time")
sns.rugplot(data=monthly_time, x="subscription_duration", y="mon_time")


sns.stripplot(x="subscription_duration", y="mon_time", data=monthly_time, jitter=True) # True가 기본값, False로 바꿔보자
plt.title("공부기간 별 한달 공부 시간")
plt.show()


sns.scatterplot(data=monthly_time, x="preferred_difficulty_level", y="mon_time")
sns.rugplot(data=monthly_time, x="preferred_difficulty_level", y="mon_time")


sns.stripplot(x="preferred_difficulty_level", y="mon_time", data=monthly_time, jitter=True) # True가 기본값, False로 바꿔보자
plt.title("난이도 별 한달 공부 시간")
plt.show()


target = monthly_time.groupby('preferred_difficulty_level')['user_id'].count()
target


소요시간이 길면 재결재를 할까?



sns.scatterplot(data=access_data, x="target", y="average_time_per_learning_session")
sns.rugplot(data=access_data, x="target", y="average_time_per_learning_session")


sns.stripplot(x="target", y="average_time_per_learning_session", data=access_data, jitter=True) # True가 기본값, False로 바꿔보자
plt.title("타겟 별 평균 공부시간")
plt.show()


구독 연장 한 사람 중 average_time_per_learning_session이 긴 사람들이 많다.

가설 다시 수립
-> 한 코스를 끝내기 위해서 소요되는 학습 세션이 길어지면 그 코스를 끝내기 위해서 재구독을 진행한다.
-> 그렇다면 세션소요가 짧았을 경우 재구독을 하지 않았을까?


user_id: 사용자의 고유 식별자

subscription_duration: 사용자가 서비스에 가입한 기간 (월)

recent_login_time: 사용자가 마지막으로 로그인한 시간 (일)

average_login_time: 사용자의 일반적인 로그인 시간

average_time_per_learning_session: 각 학습 세션에 소요된 평균 시간 (분)

monthly_active_learning_days: 월간 활동적인 학습 일수

total_completed_courses: 완료한 총 코스 수

recent_learning_achievement: 최근 학습 성취도

abandoned_learning_sessions: 중단된 학습 세션 수

preferred_difficulty_level: 선호하는 난이도

payment_pattern : 사용자의 지난 3개월 간의 결제 패턴을 10진수로 표현한 값.
7: 3개월 모두 결제함
6: 첫 2개월은 결제했으나 마지막 달에는 결제하지 않음
5: 첫 달과 마지막 달에 결제함
4: 첫 달에만 결제함
3: 마지막 2개월에 결제함
2: 가운데 달에만 결제함
1: 마지막 달에만 결제함
0: 3개월 동안 결제하지 않음

target: 사용자가 다음 달에도 구독을 계속할지 (1) 또는 취소할지 (0)를 나타냄


target = 0 인 유저

3개월 모두 결제한 사람들의 세션
첫 2개월 결제 후 X
첫 달에 결제 후 X
가운데 달 결제 후 X
마지막 달에만 결제


new_tar = access_data.loc[access_data.target==0,['user_id','average_time_per_learning_session','payment_pattern']]
new_tar


sns.stripplot(x="payment_pattern", y="average_time_per_learning_session", data=new_tar, jitter=True) # True가 기본값, False로 바꿔보자
plt.title("결제패턴 별 평균 공부 시간(분)")
plt.show()


7: 3개월 모두 결제함
6: 첫 2개월은 결제했으나 마지막 달에는 결제하지 않음
5: 첫 달과 마지막 달에 결제함
4: 첫 달에만 결제함
3: 마지막 2개월에 결제함
2: 가운데 달에만 결제함
1: 마지막 달에만 결제함
0: 3개월 동안 결제하지 않음




new_tar2 = access_data.loc[access_data.target==1,['user_id','average_time_per_learning_session','payment_pattern']]
new_tar2


sns.stripplot(x="payment_pattern", y="average_time_per_learning_session", data=new_tar2, jitter=True) # True가 기본값, False로 바꿔보자
plt.title("결제패턴 별 평균 공부 시간(분)")
plt.show()


pay_pa0 = new_tar.loc[new_tar.payment_pattern==0,['user_id','average_time_per_learning_session']]
pay_pa1 = new_tar.loc[new_tar.payment_pattern==1,['user_id','average_time_per_learning_session']]
pay_pa2 = new_tar.loc[new_tar.payment_pattern==2,['user_id','average_time_per_learning_session']]
pay_pa3 = new_tar.loc[new_tar.payment_pattern==3,['user_id','average_time_per_learning_session']]
pay_pa4 = new_tar.loc[new_tar.payment_pattern==4,['user_id','average_time_per_learning_session']]
pay_pa5 = new_tar.loc[new_tar.payment_pattern==5,['user_id','average_time_per_learning_session']]
pay_pa6 = new_tar.loc[new_tar.payment_pattern==6,['user_id','average_time_per_learning_session']]
pay_pa7 = new_tar.loc[new_tar.payment_pattern==7,['user_id','average_time_per_learning_session']]


data1 = pay_pa0['average_time_per_learning_session']

data2 = pay_pa1['average_time_per_learning_session']

data3 = pay_pa2['average_time_per_learning_session']

data4 = pay_pa3['average_time_per_learning_session']

data5 = pay_pa4['average_time_per_learning_session']

data6 = pay_pa5['average_time_per_learning_session']

data7 = pay_pa6['average_time_per_learning_session']

data8 = pay_pa7['average_time_per_learning_session']


fig, axs = plt.subplots(3, 3, figsize=(15, 10))

axs[0,0].hist(data1.values, bins=10)
axs[0,0].set_title('3개월 동안 결제하지 않음')

axs[0,1].hist(data2.values, bins=10)
axs[0,1].set_title('마지막 달에만 결제함')

axs[0,2].hist(data3.values, bins=10)
axs[0,2].set_title('가운데 달에만 결제함')

axs[1,0].hist(data4.values, bins=10)
axs[1,0].set_title('마지막 2개월에 결제함')

axs[1,1].hist(data5.values, bins=10)
axs[1,1].set_title('첫 달에만 결제함')

axs[1,2].hist(data6.values, bins=10)
axs[1,2].set_title('첫 달과 마지막 달에 결제함')

axs[2,0].hist(data7.values, bins=10)
axs[2,0].set_title('첫 2개월은 결제했으나 마지막 달에는 결제하지 않음')

axs[2,1].hist(data8.values, bins=10)
axs[2,1].set_title('3개월 모두 결제함')


fig.subplots_adjust(hspace=0.5)
plt.show()


pay_pa0 = new_tar2.loc[new_tar2.payment_pattern==0,['user_id','average_time_per_learning_session']]
pay_pa1 = new_tar2.loc[new_tar2.payment_pattern==1,['user_id','average_time_per_learning_session']]
pay_pa2 = new_tar2.loc[new_tar2.payment_pattern==2,['user_id','average_time_per_learning_session']]
pay_pa3 = new_tar2.loc[new_tar2.payment_pattern==3,['user_id','average_time_per_learning_session']]
pay_pa4 = new_tar2.loc[new_tar2.payment_pattern==4,['user_id','average_time_per_learning_session']]
pay_pa5 = new_tar2.loc[new_tar2.payment_pattern==5,['user_id','average_time_per_learning_session']]
pay_pa6 = new_tar2.loc[new_tar2.payment_pattern==6,['user_id','average_time_per_learning_session']]
pay_pa7 = new_tar2.loc[new_tar2.payment_pattern==7,['user_id','average_time_per_learning_session']]


data1 = pay_pa0['average_time_per_learning_session']

data2 = pay_pa1['average_time_per_learning_session']

data3 = pay_pa2['average_time_per_learning_session']

data4 = pay_pa3['average_time_per_learning_session']

data5 = pay_pa4['average_time_per_learning_session']

data6 = pay_pa5['average_time_per_learning_session']

data7 = pay_pa6['average_time_per_learning_session']

data8 = pay_pa7['average_time_per_learning_session']


fig, axs = plt.subplots(3, 3, figsize=(15, 10))

axs[0,0].hist(data1.values, bins=20)
axs[0,0].set_title('3개월 동안 결제하지 않음')

axs[0,1].hist(data2.values, bins=20)
axs[0,1].set_title('마지막 달에만 결제함')

axs[0,2].hist(data3.values, bins=20)
axs[0,2].set_title('가운데 달에만 결제함')

axs[1,0].hist(data4.values, bins=20)
axs[1,0].set_title('마지막 2개월에 결제함')

axs[1,1].hist(data5.values, bins=20)
axs[1,1].set_title('첫 달에만 결제함')

axs[1,2].hist(data6.values, bins=20)
axs[1,2].set_title('첫 달과 마지막 달에 결제함')

axs[2,0].hist(data7.values, bins=20)
axs[2,0].set_title('첫 2개월은 결제했으나 마지막 달에는 결제하지 않음')

axs[2,1].hist(data8.values, bins=20)
axs[2,1].set_title('3개월 모두 결제함')


fig.subplots_adjust(hspace=0.5)
plt.show()


pay_pa0 = new_tar[['user_id','average_time_per_learning_session']]
pay_pa1 = new_tar2[['user_id','average_time_per_learning_session']]

data1 = pay_pa0['average_time_per_learning_session']

data2 = pay_pa1['average_time_per_learning_session']



fig, axs = plt.subplots(2, 2, figsize=(15, 10))

axs[0,0].hist(data1.values, bins=50)
axs[0,0].set_title('target0')

axs[0,1].hist(data2.values, bins=50)
axs[0,1].set_title('target1')



access_data.describe(include='all')


avg_time = access_data['average_time_per_learning_session']
access_data['average_time_per_learning_session'] = round(avg_time)
print(avg_time)


access_data.describe()


# average_time_per_learning_session	에 중간값인 38.0을 기준으로 target 값을 비교하기
last = access_data.loc[access_data.average_time_per_learning_session>=38,['user_id','average_time_per_learning_session','target']]
last


target = last.groupby('target')['user_id'].count()
target


sns.stripplot(x="target", y="average_time_per_learning_session", data=last, jitter=True) # True가 기본값, False로 바꿔보자
plt.title("결제패턴 평균 38분 이상")
plt.show()


# average_time_per_learning_session	에 중간값인 38.0을 기준으로 target 값을 비교하기
last2 = access_data.loc[access_data.average_time_per_learning_session<38,['user_id','average_time_per_learning_session','target']]
last2


target = last2.groupby('target')['user_id'].count()
target


sns.stripplot(x="target", y="average_time_per_learning_session", data=last2, jitter=True) # True가 기본값, False로 바꿔보자
plt.title("결제패턴 평균 38분 미만")
plt.show()


abc = access_data[['user_id','average_time_per_learning_session','subscription_duration','com+aban']]
abc


sns.stripplot(x="com+aban", y="average_time_per_learning_session", data=abc, jitter=True) # True가 기본값, False로 바꿔보자
plt.title("강좌신청에 평균 학습 시간 ")
plt.axhline(y=38, color='r', linestyle='--')
plt.show()


import seaborn as sns
import matplotlib.pyplot as plt

# 데이터 생성
tips = sns.load_dataset("tips")

# stripplot 그리기
sns.stripplot(x="day", y="total_bill", data=tips)

# 수평선 그리기
plt.axhline(y=20, color='r', linestyle='--')

plt.show()


기간별로 나눠서 비교를 했지만, 전체 적인 값들에 분포도와 평균이 비슷함을 확인

가설
=> 오래 사용하는 사람 -> 서비스가 맘에 들어서 오래 사용하는거니 구독을 연장하지 않을까?
-> 오래 사용한 사람이면 완료한 코스 수와 중단한 학습이 있을 것이고, 커뮤니티 참여도, 난이도 등 학습 습관을 파악하기에 좋을 것이라 판단
-> 6개월 이상에 유저들을 기준(전체 3/4) 학습 습관 파악하기
    
추론    
=> 오래 기간을 신청한다고 해서 완료한 코스나 포기한 강좌들이 많다는 가설은 맞지 않음. 
=> 전체적으로 난이도는 LOW를 선호
=> 다른 비교 기준이 필요

새로운 가설
->> 난이도를 기준으로 기간, 완료 코스, 중단 학습, 한달 학습 날, 섹션에 소요된 시간

-----> 난이도를 기준으로 섹션에 소요되는 시간을 확인해본 결과 차이가 눈에 보임, 다른 결과는 큰 차이가 없음


가설
=> 완료한 총 코스 수가 많다 -> 완료한 코스가 많다는 건 맘에 든 코스가 있다는거고 다른 코스를 완료하기 위해서 구독을 연장하지 않을까?

추론
-> 적은 기간에서도 완료한 코스 수가 많다 -> 유저에 학습능력에 따라서 기간 안에 완료할 수 있는 코스 수가 다르기에 비교방법을 바꿔야 함

새로운 가설
->> 완료한 총 코스와 포기한 학습을 비교해서 포기한 학습이 상대적으로 많으면 유저가 이탈하지 않을까?

----> 데이터에서 큰 인과성이 없다고 판단


--------------------------------------------------------------

난이도를 기준으로 섹션에 소요되는 시간을 확인해본 결과 차이가 눈에 보임
 -> average_time_per_learning_session값을 기준으로 target을 확인해본 결과 차이가 눈에 보임
 -> 구독 연장 한 사람 중 average_time_per_learning_session이 긴 사람들이 많다.

가설 다시 수립
-> 한 코스를 끝내기 위해서 소요되는 학습 세션이 길다 -> 그 코스를 끝내기 위해서 시간을 할당한다. -> 코스를 끝내지 못할 경우 재구독으로 이어진다.
-> 코스를 끝낼 건데, average_time_per_learning_session가 길어, 난이도는 Low
=> 쉬우면서 긴 코스의 강의를 선호하는 것 같다.

추론
=> average_time_per_learning_session에 시간이 길면서 신청한 강좌가 많은 유저들이 재구독을 진행한다.
=> 재구독자들을 늘리기 위해서는 average_time_per_learning_session에 시간이 길어질수 있도록, 한 코스에 난이도는 낮추면서, 
    강좌의 수를 많이 넣어야 재구독률이 올라갈 것으로 판단.


-> average_time_per_learning_session 값이 높을 수록 재구독하는 인원이 많음을 확인

=> 유저들의 학습패턴을 봤을 때 전체적으로 커뮤니티 활성도가 높으며, 
    난이도는 Low를 선호하고, 
    완료한 수강과 중단한 학습에 비율로 따졌을 때 크게 차이가 없으며,
    학습 소요 시간이 긴 유저가 재구독을 하는 비율이 크다.

결론, 

유저의 학습 습관
    - 한번에 다양한 코스(학습)를 진행하는 경향 (total_completed_courses, abandoned_learning_sessions를 합해서 진행한 강좌 수를 비교)
    - 강좌 난이도는 Low를 선호(과반수가 Low를 선호[ High : 2000 / Medium : 3008 / Low : 4992 ])
    - 커뮤니티를 자주 이용(Level을 어떤 방식으로 구별했는지는 모르지만, 레벨이 학습기간 별로 나눴을 때 평균 3레벨 이상)

재구독 유저 예측
    - average_time_per_learning_session을 기준으로 38분 이상 학습하는 유저가 38분 미만 학습하는 유저에 비해서 
        재구독 비율(3214명 : 2985명)로 더 높으며, 추가로 시간을 늘릴 수 록 재구독자/이탈자의 비율이 증가함을 확인
    => average_time_per_learning_session에 값이 클수록 재구독 확률이 높다.     


last3 = access_data.loc[access_data.average_time_per_learning_session>=100,['user_id','average_time_per_learning_session','target']]
last3


target = last3.groupby('target')['user_id'].count()
target


target = last2.groupby('target')['user_id'].count()
target


last4 = access_data.loc[access_data.average_time_per_learning_session<30,['user_id','average_time_per_learning_session','target']]
last4


target = last4.groupby('target')['user_id'].count()
target


target = access_data.groupby('target')['user_id'].count()
target



