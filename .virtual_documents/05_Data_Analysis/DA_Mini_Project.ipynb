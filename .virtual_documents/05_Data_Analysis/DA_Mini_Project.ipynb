





import pandas as pd


access_data = pd.read_table('data/mini.csv',sep=',')


access_data.head()


access_data.tail()


access_data.info()


access_data.describe()


access_data.describe(include='all')


### 정의하기

학습 서비스를 이용하는 독자들 중 누가 서비스 구독을 연장할지 예측하기 위한 사전 파악에 초점

접속시간, 자주 접속하는지, 얼마나 오래 공부하는지, 난이도는 어떤지
선호하는 난이도에 따른 학습성취도, 완료/중단 학습, 구독유형, 

자주 이용하는 유저면 서비스 구독을 연장할 것이다.
-> 자주 이용하는 유저에 특징
-> 월간 활동적인 학습 일수, 각 학습 세션에 소요된 평균 시간, 완료한 총 코스 수, 최근 학습 성취도, 결제 패턴

=> 오래 사용하는 사람 -> 서비스가 맘에 들어서 오래 사용하는거니 구독을 연장하지 않을까?
=> 완료한 총 코스 수가 많다 -> 완료한 코스가 많다는 건 맘에 든 코스가 있다는거고 다른 코스를 완료하기 위해서 구독을 연장하지 않을까?
=> 학습 성취도가 높다 -> 성취도가 높다는건 그 학습이 맘에 들었다는거고 결국, 다른 학습을 위해서 구독을 연장하지 않을까?
=> 결제 패턴이 성립할까?



user_id: 사용자의 고유 식별자

subscription_duration: 사용자가 서비스에 가입한 기간 (월)

recent_login_time: 사용자가 마지막으로 로그인한 시간 (일)

average_login_time: 사용자의 일반적인 로그인 시간

average_time_per_learning_session: 각 학습 세션에 소요된 평균 시간 (분)

monthly_active_learning_days: 월간 활동적인 학습 일수

total_completed_courses: 완료한 총 코스 수

recent_learning_achievement: 최근 학습 성취도

abandoned_learning_sessions: 중단된 학습 세션 수

preferred_difficulty_level: 선호하는 난이도

payment_pattern : 사용자의 지난 3개월 간의 결제 패턴을 10진수로 표현한 값.
7: 3개월 모두 결제함
6: 첫 2개월은 결제했으나 마지막 달에는 결제하지 않음
5: 첫 달과 마지막 달에 결제함
4: 첫 달에만 결제함
3: 마지막 2개월에 결제함
2: 가운데 달에만 결제함
1: 마지막 달에만 결제함
0: 3개월 동안 결제하지 않음

target: 사용자가 다음 달에도 구독을 계속할지 (1) 또는 취소할지 (0)를 나타냄


access_data.head()


# 데이터 시각화
import matplotlib.pyplot as plt
import numpy as np
import koreanize_matplotlib


access_data['average_login_time']


# 시간대 소수점 이하 버림
num = access_data['average_login_time']
access_data['average_login_time'] = round(num)
print(average_login_time)


access_data.head()


# 평균 로그인 시간대별 유저 수
number_people_by_avg = access_data.groupby('average_login_time')['user_id'].count()
number_people_by_avg


time = number_people_by_avg


# 데이터 시각화
plt.bar(time.index, time, width=8)


# 완료한 수강 수와 유저 수
access_data['total_completed_courses']


number_people_by_com = access_data.groupby('total_completed_courses')['user_id'].count()
number_people_by_com


# 데이터 시각화
plt.bar(number_people_by_com.index, number_people_by_com, width=8)



