


# 셀레니움 라이브러리 설치
!pip install selenium


from selenium import webdriver
from selenium.webdriver.common.by import By
from selenium.webdriver.chrome.options import Options
import time

options = Options()
# options.add_argument("--start-maximized")
# options.add_argument("--headless=new") 
options.add_experimental_option("detach", True) #특정함수안에서  드라이버 생성시 함수종료될 때 브라우저 같이 종료되는 문제 대응





url = 'http://naver.com'
driver = webdriver.Chrome(options=options) # 객체 생성

driver.get(url) # 실행 

time.sleep(2) 





driver.back()


driver.forward()


driver.refresh()





title = driver.title
url = driver.current_url
handle = driver.current_window_handle
print(title, url, handle)





driver.find_element?


driver.find_element(By.ID, "query")


# 키입력
driver.find_element(By.ID, "query").send_keys('뉴진스')


driver.find_element(By.CLASS_NAME, "search_input").send_keys('블랙핑크')


driver.find_element(By.NAME, "query").send_keys('르세라핌')


driver.find_element(By.CSS_SELECTOR, ".search_input").send_keys('세븐틴')


driver.find_element(By.CSS_SELECTOR, "#query").send_keys('에스파')


driver.find_element(By.CSS_SELECTOR, "[title='검색어를 입력해 주세요.']").send_keys('트와이스')


driver.find_element(By.CSS_SELECTOR, "[placeholder='검색어를 입력해 주세요.']").send_keys('트와이스')


driver.find_element(By.XPATH,"//*[@id='query']").send_keys('BTS')





driver.find_element(By.LINK_TEXT, '쇼핑')


driver.find_element(By.LINK_TEXT, '쇼핑').click()


# 일부 매칭
driver.find_element(By.PARTIAL_LINK_TEXT, '쇼').click()


# 태그는 너무 요소가 많으므로, 정확하게 대상을 찾을 때에는 안씀
driver.find_element(By.TAG_NAME, 'div')


# 여러개의 요소를찾을 때
links = driver.find_elements(By.CSS_SELECTOR, '.link_service')


for link in links:
    print(link)


# https://www.browserstack.com/guide/get-html-source-of-web-element-in-selenium-webdriver
# 해당 클래스가 속한 요소의 자식 html을 출력
for link in links:
    print(link.get_attribute("href")) 
    print()





# 테스트용 html
# url = 'file:///C:/workspace/python/WASSUP/02_Data_Collection/sample/signin.html'
url = 'file:///C:/workspace/wassup3/02_Python_Collection/sample/signin.html'
driver = webdriver.Chrome(options=options)
driver.get(url)
time.sleep(2) 


username = driver.find_element(By.NAME, "username")
username.send_keys('korea')


username = driver.find_element(By.NAME, "password")
username.send_keys('1004')


login =  driver.find_element(By.XPATH, '//*[@id="loginForm"]/input[3]')
login.click()


driver.back()


login =  driver.find_element(By.CSS_SELECTOR, "#loginForm > input[type=submit]:nth-child(5)")
login.click()


driver.back()


login =  driver.find_element(By.CSS_SELECTOR, "#loginForm > input[type=submit]:nth-child(5)")
login.click()


driver.back()


login =  driver.find_element(By.CSS_SELECTOR, "[value='Login']")
login.click()


driver.back()


# 입력창 clear 하기
# 세션끊기면 다시 접근해야함
username = driver.find_element(By.NAME, "username")
username.clear()


username.submit()


driver.back()


driver.find_element(By.TAG_NAME, 'p').text


# html 소스 가져오기
driver.page_source


driver.close()





from selenium import webdriver
from selenium.webdriver.common.by import By
from selenium.webdriver.chrome.options import Options
import time

options = Options()
options.add_argument("--headless=new") 
# options.add_argument('--window-size= x, y') #실행되는 브라우저 크기를 지정할 수 있습니다.
# options.add_argument('--start-maximized') #브라우저가 최대화된 상태로 실행됩니다.
# options.add_argument('--start-fullscreen') #브라우저가 풀스크린 모드(F11)로 실행됩니다.
# options.add_argument('--blink-settings=imagesEnabled=false') #브라우저에서 이미지 로딩을 하지 않습니다.
# options.add_argument('--mute-audio') #브라우저에 음소거 옵션을 적용합니다.
# options.add_argument('incognito') #시크릿 모드의 브라우저가 실행됩니다.
options.add_experimental_option("detach", True) #특정함수안에서  드라이버 생성시 함수종료될 때 브라우저 같이 종료되는 문제 대응


url = 'http://naver.com'
driver = webdriver.Chrome(options=options)
driver.get(url)
time.sleep(2)


print(driver.title)


driver.quit() # 탭 닫기





from selenium import webdriver
from selenium.webdriver.common.by import By
from selenium.webdriver.chrome.options import Options
import time

options = Options()
# options.add_argument("--start-maximized")
# options.add_argument("--headless=new") 
options.add_experimental_option("detach", True) #

url = 'http://naver.com'
driver = webdriver.Chrome(options=options)
driver.get(url)
time.sleep(2)


# 창의 너비/높이 구하기
size = driver.get_window_size()
width = size.get("width")
height = size.get("height")

print(str(width)+"px"+" "+str(height)+"px")


# 창 크기 조절
driver.set_window_size(800, 600)


# 스크린 상에서의 창 좌표
position = driver.get_window_position()
x = position.get('x')
y = position.get('y')

print("x : "+str(x)+" "+"y : "+str(y))


driver.set_window_position(200,200)


# 창 크기 최대화
driver.maximize_window()


# 창 크기 최소화
driver.minimize_window()


# 전체 화면
driver.fullscreen_window()


# 스크린 샷
driver.save_screenshot('./image.png')


driver.close()






from selenium import webdriver
from selenium.webdriver.common.by import By
from selenium.webdriver.chrome.options import Options
import time, random, pandas as pd

options = Options()
options.add_argument('--window-size=974,1047')
options.add_argument('--window-position=-7,0')
options.add_experimental_option("detach", True)


# 웹드라이버 로드
driver = webdriver.Chrome( options = options)


# 조건 설정
where = 'blog'
query = '인공지능'
dateform = '20240101to20240625'
url = f'https://search.naver.com/search.naver?ssc=tab.{where}.all&query={query}&sm=tab_opt&nso=so%3Ar%2Cp%3Afrom{dateform}'
# url = f'https://search.naver.com/search.naver?where={where}&query={query}&sm=tab_op&nso=so:r,p:from{dateform}'
fname = f'{where}_{query}_{dateform}'


# url 접속
driver.get(url)
time.sleep(random.randint(2,3))





#네이버 뷰는 최대 1050까지만 노출
# 스크롤 10번
for i in range(10):
    driver.execute_script('window.scrollTo(0, document.body.scrollHeight);')
    time.sleep(random.randint(2, 3))


# get_view()
views = driver.find_elements(By.CSS_SELECTOR, '.lst_view .bx')
result = []

for view in views:
    con_dict = {}
    con_dict['title'] = view.find_element(By.CSS_SELECTOR, '.title_link').text
    con_dict['text'] = view.find_element(By.CSS_SELECTOR, '.dsc_link').text
    con_dict['date'] = view.find_element(By.CSS_SELECTOR, '.sub').text
    result.append(con_dict)
    print(con_dict)
    
print('완료')


views = driver.find_elements(By.CSS_SELECTOR, '.lst_view .view_wrap')
result = []

for view in views:
    con_dict = {}
    con_dict['title'] = view.find_element(By.CSS_SELECTOR, '.title_link').text.strip()
    con_dict['text'] = view.find_element(By.CSS_SELECTOR, '.dsc_link').text.strip()
    con_dict['date'] = view.find_element(By.CSS_SELECTOR, '.sub').text.strip()
    result.append(con_dict)
    print(con_dict)

print('완료')


# get_view()
views = driver.find_elements(By.CSS_SELECTOR, '.lst_view .view_wrap')
result = []

for view in views:
    con_dict = {}
    con_dict['title'] = view.find_element(By.CSS_SELECTOR, '.title_link').text
    con_dict['text'] = view.find_element(By.CSS_SELECTOR, '.dsc_link').text
    con_dict['date'] = view.find_element(By.CSS_SELECTOR, '.sub').text
    result.append(con_dict)
    print(con_dict)
    
print('완료')


#저장된 게시물 리스트를 데이터프레임으로 변환후 csv로 저장
df = pd.DataFrame(result)
df


#데이터 프레임 저장
# csv는 sep 쉼표가 반드시 있어야 한글이 안깨짐
df.to_csv(f'./naver_{fname}.csv', sep=',', encoding='utf-8-sig')





from selenium import webdriver
from selenium.webdriver.common.by import By
from selenium.webdriver.chrome.options import Options
import time, random, pandas as pd

options = Options()
options.add_argument('--window-size=974,1047')
options.add_argument('--window-position=-7,0')
options.add_experimental_option("detach", True)

driver = webdriver.Chrome( options = options)
url = 'https://play.google.com/store/apps/details?id=com.estsoft.picnic'
driver.get(url)
time.sleep(random.randint(2,3))


# 리뷰 더보기 클릭
xpath = '//*[@id="ow76"]/section/div/div[2]/div[5]/div/div/button/span'
driver.find_element(By.XPATH, xpath).click()
time.sleep(random.randint(2, 3))


# 스크롤
for i in range(10):
    review_box = driver.find_element(By.CSS_SELECTOR, 'div.fysCi')
    driver.execute_script('arguments[0].scrollTop = arguments[0].scrollHeight', review_box )
    time.sleep(random.randint(2, 3))





reviews = driver.find_elements(By.CSS_SELECTOR, 'div.RHo1pe')
reviews


len(reviews)


# 요소별 추출
def get_content(review):
    condic = {}
    condic['text'] = review.find_element(By.CSS_SELECTOR, 'div.h3YV2d').text
    condic['rat'] = len(review.find_elements(By.CSS_SELECTOR, 'span.Z1Dz7b'))
    condic['date'] = review.find_element(By.CSS_SELECTOR, 'span.bp9Aid').text
    return condic


result = [get_content(review) for review in reviews]


df = pd.DataFrame(result)
df


review_data = driver.find_elements(By.CSS_SELECTOR, 'div.RHo1pe')
result = []


for i in review_data:
    review = {}
    review['text'] = i.find_element(By.CSS_SELECTOR, '.h3YV2d').text
    review['star'] = len(i.find_elements(By.CSS_SELECTOR, '.Z1Dz7b'))
    review['date'] = i.find_element(By.CSS_SELECTOR, '.bp9Aid').text
    result.append(review)
    print(review)


df = pd.DataFrame(result)
df





from selenium import webdriver
from selenium.webdriver.common.by import By
from selenium.webdriver.chrome.options import Options
import math, time

options = Options()
options.add_argument('--window-size=974,1047')
options.add_argument('--window-position=-7,0')
options.add_experimental_option("detach", True)


search = input('검색어를 입력하세요.')


URL = 'https://korean.visitkorea.or.kr/search/search_list.do?keyword='+search

driver = webdriver.Chrome(options=options)
driver.get(URL)
time.sleep(3)



