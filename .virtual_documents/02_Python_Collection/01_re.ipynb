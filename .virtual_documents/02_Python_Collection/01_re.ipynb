


from bs4 import BeautifulSoup
import lxml


pwd #현재 위치


# sample
html = '''
<div id=prices >
    <table >
        <tr class=bb>
            <th class="bb lm lft">Date
            <th class="rgt bb">Open
            <th class="rgt bb">High
            <th class="rgt bb">Low
            <th class="rgt bb">Close
            <th class="rgt bb rm">Volume
        <tr>
            <td class="lm">Feb 28, 2014
            <td class="rgt">100.71
            <td class="rgt">100.71
            <td class="rgt">100.71
            <td class="rgt">100.71
            <td class="rgt rm">0
     </table>

'''


BeautifulSoup(html, 'lxml')


html_file = open('sample/market.html', encoding='utf-8')
html_src = html_file.read()
html_file.close()


html_src


print(html_src)


# DOM구조로 변환(구문 분석)
soup = BeautifulSoup(html_src, 'lxml')


soup


type(soup)





soup.find?



