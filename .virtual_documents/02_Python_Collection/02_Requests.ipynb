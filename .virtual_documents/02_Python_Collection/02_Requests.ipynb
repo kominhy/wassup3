


pip install requests








import requests
from bs4 import BeautifulSoup


PATH = 'https://finance.naver.com/'
resp = requests.get(PATH)


resp


resp?


requests.get?


resp.text


print(resp.text)


src = resp.text


soup = BeautifulSoup(src,'lxml')





soup.select('.section_strategy')
for a in soup.select('.section_strategy'):
    print(a.text)


srclist = soup.select('.section_strategy a')
srclist


len(srclist)


srclist = soup.select('.section_strategy ul a')
srclist


len(srclist)


srclist = soup.select('.section_strategy li a')
srclist


len(srclist)


soup.select('.section_strategy ul a')
for a in soup.select('.section_strategy ul a'):
    print(a.text)


# 첫번째 뉴스 제목 추출
srclist[0].text


srclist[0]['href']





url = srclist[0]['href']
PATH + url


from urllib.parse import urljoin


urljoin(PATH, url)





soup.select('.section_strategy ul a')
t = []
u = []

for a in soup.select('.section_strategy ul a'):
    t = a.text
    u = a['href']
    
    print(t, a)    


n_title = []
n_url = []

for item in srclist :
    title = item.text
    url = urljoin(PATH, item['href'])
    print(title,url)
    n_title.append(title)
    n_url.append(url)


n_title


n_url





import pandas as pd


df = pd.DataFrame({'제목':n_title, '주소':n_url})
df


print(df)





df.to_excel('output/naver.xlsx', index = False)


pwd





# 파일명에 저장시각을 추가해보자.
import time


today = time.localtime()
today


time.ctime()


df.to_excel(f'output/{today.tm_year}_{today.tm_mon}_{today.tm_mday}_naver.xlsx', index = False)


# 스트링 포매팅으로 날짜 포맷을 바꿔보자.
# 2024-06-20
'%d-%02d-%02d'%(today.tm_year, today.tm_mon, today.tm_mday)


file_name = '%d-%02d-%02d' % (today.tm_year, today.tm_mon, today.tm_mday)
excel_name = file_name + '.xlsx'
csv_name = file_name + '.csv'
print(excel_name, csv_name)


df.to_excel(excel_name, index=False)





import requests
from bs4 import BeautifulSoup
import pandas as pd


PATH = 'https://www.melon.com/chart/index.htm'
resp = requests.get(PATH)
resp


resp.text


info = {'User-Agent':'Mozilla/5.0 (Windows NT 10.0; Win64; x64) AppleWebKit/537.36 (KHTML, like Gecko) Chrome/126.0.0.0 Safari/537.36'}
info


requests.get?


resp = requests.get(PATH, headers = info)
resp


html_src = resp.text
html_src


soup = BeautifulSoup(html_src,'lxml')
soup


# 곡이름 찾기
soup.select('.ellipsis.rank01 a')


len(soup.select('.ellipsis.rank01 a'))


song = [item.text for item in soup.select('.ellipsis.rank01 a')]
len(song)


#가수 이름 찾기
soup.select('.ellipsis.rank02 a')


len(soup.select('.ellipsis.rank02 a'))


soup.select('.ellipsis.rank02>a')


len(soup.select('.ellipsis.rank02>a'))


artist = []
for item in soup.select('.ellipsis.rank02>a'):
    artist.append(item.text)

print(len(artist))
print(artist)


len(soup.select('.checkEllipsis'))


name = [item.text for item in soup.select('.checkEllipsis')]
len(name)


# 순위 인덱스 만들기
rank = list((range(1,101)))
rank


# 판다스로 데이터프레임 만들기 colum : data
songDF = pd.DataFrame({ '순위' : rank,
             '노래제목' : song,
             '가수명': name
})
songDF


songDF.to_excel('output/melon100.xlsx', index = False )





import requests


param = {'name' : 'any', 'age' : 20, 'adress' :'Seoul'}


# GET 방식
resp1 = requests.get('http://httpbin.org/get', params = param)
print(resp1)
print(resp1.text)


requests.get?


# POST 방식
resp2 = requests.post('http://httpbin.org/post', data = param)
print(resp2)
print(resp2.text)


requests.post?





from bs4 import BeautifulSoup


PATH = 'https://search.naver.com/search.naver'


keyword = input('검색어를 입력하세요 :')


resp = requests.get(PATH, params={'query':keyword})
resp


html_src = resp.text
html_src


# 뉴스 타이틀 추출하기


soup.select('.news_tit')


from bs4 import BeautifulSoup
PATH = 'https://korean.visitkorea.or.kr/main/main.do'


result = soup.select('.news_tit')
print(len(result))
print(result)


for a in result:
    print(a.text, a['href'])





import requests
from bs4 import BeautifulSoup


response = requests.get('https://korean.visitkorea.or.kr/')
html_src = response.text


html_src


soup = BeautifulSoup(html_src, 'html.parser')
soup


soup.select('#inp_search') # 동적페이지에서 불가, 반드시 액션(click등)이 있어야함






