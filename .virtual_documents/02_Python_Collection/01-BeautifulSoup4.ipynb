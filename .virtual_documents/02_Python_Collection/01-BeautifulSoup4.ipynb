


pip list


pip install bs4


pip install lxml





from bs4 import BeautifulSoup
import lxml


BeautifulSoup?


# sample
html = '''
<div id=prices >
    <table >
        <tr class=bb>
            <th class="bb lm lft">Date
            <th class="rgt bb">Open
            <th class="rgt bb">High
            <th class="rgt bb">Low
            <th class="rgt bb">Close
            <th class="rgt bb rm">Volume
        <tr>
            <td class="lm">Feb 28, 2014
            <td class="rgt">100.71
            <td class="rgt">100.71
            <td class="rgt">100.71
            <td class="rgt">100.71
            <td class="rgt rm">0
     </table>

'''


# lxml의 HTNL 파서
BeautifulSoup(html, 'lxml')


# 파이썬 표준 html 파서
BeautifulSoup(html, 'html.parser')






