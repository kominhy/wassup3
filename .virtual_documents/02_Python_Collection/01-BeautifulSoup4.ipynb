


pip list


pip install bs4


pip install lxml





from bs4 import BeautifulSoup
import lxml


BeautifulSoup?


# sample
html = '''
<div id=prices >
    <table >
        <tr class=bb>
            <th class="bb lm lft">Date
            <th class="rgt bb">Open
            <th class="rgt bb">High
            <th class="rgt bb">Low
            <th class="rgt bb">Close
            <th class="rgt bb rm">Volume
        <tr>
            <td class="lm">Feb 28, 2014
            <td class="rgt">100.71
            <td class="rgt">100.71
            <td class="rgt">100.71
            <td class="rgt">100.71
            <td class="rgt rm">0
     </table>

'''


# lxml의 HTNL 파서
BeautifulSoup(html, 'lxml')


# 파이썬 표준 html 파서
BeautifulSoup(html, 'html.parser')





pwd


html_file = open('sample/market.html', encoding='utf-8')
html_file


html_src = html_file.read()
html_file.close()


html_src


html_file = open('sample/market.html', encoding='utf-8')
html_src = html_file.read()
html_file.close()


print(html_src)


# DOM구조로 변환(구문 분석)
soup = BeautifulSoup(html_src, 'lxml')


type(soup)


soup


soup.find?


soup.find('p')


type(soup.find('p'))


soup.find_all('p')


type(soup.find_all('p'))


soup.find('p', id = 'orange')


soup.find_all(class_='fruit') 





soup.select?


soup.select('p')


soup.select_one('p')


## css 셀렉터 문법 써보기
soup.select('#orange') # id속성


soup.select_one('#orange')


soup.select('.price') # class 속성, 리스트여서 리터러블함


# AND 관계
soup.select('p#orange')


# OR 관계 = a 태그 또는 스토어클래스에 해당하는 모든 요소를 찾아줌
soup.select('a,.store') # (, = or) 관계


soup.select('.fruit.best')


soup.select('.fruit.best>a') # (> = 자식관계다)


soup.select('.fruit.best > a') # 공백 되긴 됨. 그런데 권장은 안함


soup.select('.fruit.best a') # 공백은 자손을 의미한다.


soup.select('.fruit.best>span>a')


soup.select('.fruit.best a')


type(soup.select('.fruit.best a'))


type(soup.select('.fruit.best a')[0])


soup.select('.fruit.best a')[0].text


mylist = soup.select('.fruit.best a')[0]


for tagItem in soup.select('.fruit.best a') :
    print(tagItem.text)


tagItem


tagItem['href']


for tagItem in soup.select('.fruit.best a') :
    print(tagItem['href'])





for item in soup.select('.fruit') :
    name = item['title']
    price = item.find('span', 'price').text
    count = item.find('span', 'count').text
    store = item.find('span', 'store').text
    url = item.find('a')['href']
    print(name, price, count, store, url)





e = soup.find('p', id = 'orange')


type(e)


e.name


e.attrs


e.attrs['title']


e.string


print(e.string)


e.text


e.strings


e.strings?


for item in e.strings:
    print(item)





e.parent


e.parents


for i in e.parents :
    print(i)


for i in e.parents :
    print(i.name)


e.contents


e.children


for i in e.children :
    print(i)


for i in e.children :
    print(i.name)


















