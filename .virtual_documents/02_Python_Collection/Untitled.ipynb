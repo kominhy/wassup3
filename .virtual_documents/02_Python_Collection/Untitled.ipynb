





import requests, json, pandas as pd


URL ='http://www.krei.re.kr:18181/chart/main_chart/index/kind/W/sdate/2019-01-01/edate/2019-12-31'
resp = requests.get(URL)


resp


data = resp.text
print(type(data),len(data))
print(data)


data


data2 = resp.json()
print(type(data2), len(data2))
print(data2)


data2


id_, date, symbol, open_, close= [], [], [], [], []

for item in data2 :
    id_.append(item['id'])
    print('id :',item['id'])
    date.append(item['date'])
    print('date :',item['date'])
    symbol.append(item['symbol'])
    print('symbol :',item['symbol'])
    open_.append(item['open'])
    print('open :',item['open'])
    close.append(item['close'])
    print('close :',item['close'])


df = pd.DataFrame({
    'id' : id_,
    'date' : date,
    'symbol' :symbol,
    'open' : open_,
    'close' : close,
})
df





import requests
from bs4 import BeautifulSoup


#http://openapi.molit.go.kr:8081/OpenAPI_ToolInstallPackage/service/rest/RTMSOBJSvc/getRTMSDataSvcAptTrade?LAWD_CD=11110&DEAL_YMD=201512&serviceKey=서비스키date = '201512'
date = '201512'
region_code = '11110'
key = '1XXRJEP%2FwNpGnbkLl7BzKIsKJMEJRfnzarzmWkW1RfL4T5YGAc1y%2FCZtf4d0j7KRDrWWMnyLW5UFNpI3H4G7Gg%3D%3D'
url = f'http://openapi.molit.go.kr:8081/OpenAPI_ToolInstallPackage/service/rest/RTMSOBJSvc/getRTMSDataSvcAptTrade?LAWD_CD={region_code}&DEAL_Y{date}=201512&serviceKey={key}'

reso = requests.get(url)
textsrc=resp.text
textsrc



