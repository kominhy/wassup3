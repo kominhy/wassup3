


!conda install python-graphviz -y


import warnings
warnings.filterwarnings('ignore')





import seaborn as sns

DF = sns.load_dataset('iris')





DF.info()


DF.head(3)








DF.species.value_counts()





import matplotlib.pyplot as plt
import seaborn as sns

sns.pairplot(data = DF,
             hue = 'species')
plt.show()








X = DF[['sepal_length', 'sepal_width', 'petal_length', 'petal_width']]
y = DF['species']








from sklearn.model_selection import train_test_split

X_train, X_test, y_train, y_test = train_test_split(X, y,
                                                    test_size = 0.3,
                                                    random_state = 2045)

print('Train Data : ', X_train.shape, y_train.shape)
print('Test Data : ', X_test.shape, y_test.shape)








from sklearn.tree import DecisionTreeClassifier

Model_dt = DecisionTreeClassifier(random_state = 2045)
Model_dt.fit(X_train, y_train)





from sklearn.tree import plot_tree

fig = plt.figure(figsize=(15, 10))

plot_tree(Model_dt,          
          feature_names=X.columns, ## 박스에 변수 이름 표시  
          class_names=Model_dt.classes_, ## 클래스 이름(범주 이름)         
         )
plt.show()


from sklearn.tree import export_graphviz
import graphviz

graphviz.Source(export_graphviz(Model_dt,
                                class_names = (['setosa', 'versicolor', 'virginica']),
                                feature_names = (['sepal_length', 'sepal_width', 'petal_length', 'petal_width']),
                                filled = True))





y_hat = Model_dt.predict(X_test)

y_hat








from sklearn.metrics import confusion_matrix

confusion_matrix(y_test, y_hat)





from sklearn.metrics import classification_report

print(classification_report(y_test, y_hat, 
                            target_names = ['setosa', 'versicolor', 'virginica'],
                            digits = 5))











from sklearn.tree import DecisionTreeClassifier

Model_pr = DecisionTreeClassifier(max_depth = 3,
                                  random_state = 2045)
Model_pr.fit(X_train, y_train)





from sklearn.tree import export_graphviz
import graphviz

graphviz.Source(export_graphviz(Model_pr,
                                class_names = (['setosa', 'versicolor', 'virginica']),
                                feature_names = (['sepal_length', 'sepal_width', 'petal_length', 'petal_width']),
                                filled = True))








from sklearn.metrics import confusion_matrix, accuracy_score, precision_score, recall_score

y_hat = Model_pr.predict(X_test)

print(confusion_matrix(y_test, y_hat))





from sklearn.metrics import classification_report

print(classification_report(y_test, y_hat, 
                            target_names = ['setosa', 'versicolor', 'virginica'],
                            digits = 5))








Model_pr.feature_importances_





plt.figure(figsize = (9, 6))
sns.barplot(x = Model_pr.feature_importances_,
            y =['sepal_length', 'sepal_width', 'petal_length', 'petal_width'])
plt.show()



