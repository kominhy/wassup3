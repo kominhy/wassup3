





import seaborn as sns
import matplotlib.pylab as plt


# 한글 및 특정 문자 깨짐 문제 해결
import koreanize_matplotlib # 시본의 한글 깨짐은 해결못하지만, - 깨짐 해결

from matplotlib import font_manager, rc # 폰트 세팅을 위한 모듈 추가
font_path = "C:/Windows/Fonts/malgun.ttf" # 사용할 폰트명 경로 삽입
font = font_manager.FontProperties(fname = font_path).get_name()
rc('font', family = font)
# plt.rcParams['font.size'] = 11.0
plt.rcParams['font.family'] = 'Malgun Gothic' # 'batang'

# 그래프에서 마이너스 폰트 깨지는 문제에 대한 대처
# matplotlib.rcParams['axes.unicode_minus'] = False


# 주의 메시지 숨기기
import warnings
warnings.filterwarnings("ignore")











iris = sns.load_dataset("iris")    # 붓꽃 데이터
titanic = sns.load_dataset("titanic")    # 타이타닉호 데이터
tips = sns.load_dataset("tips")    # 팁 데이터
flights = sns.load_dataset("flights")    # 여객운송 데이터


tips = sns.load_dataset("tips") 


tips








sns.set_theme()
sns.kdeplot(data=tips, x="total_bill")
sns.rugplot(data=tips, x="total_bill")
plt.show()


sns.scatterplot(data=tips, x="total_bill", y="tip")
sns.rugplot(data=tips, x="total_bill", y="tip")


sns.rugplot(data=tips, x="total_bill", y="tip")


tips.head()


# hue = 범주 구분
sns.scatterplot(data=tips, x="total_bill", y="tip", hue="time")
sns.rugplot(data=tips, x="total_bill", y="tip", hue="time")





x = iris
x


sns.kdeplot(x)
plt.title("아이리스 Kernel Density Plot")
plt.show()





x = iris['sepal_length']
x


sns.distplot(x, kde=True, rug=True)
plt.title("Iris 데이터 중, 꽃잎의 길이에 대한 Dist Plot")
plt.show()








titanic.head()


sns.countplot(x="class", data=titanic) 
plt.title("타이타닉호의 각 클래스별, 승객 수")
plt.show()





titanic['class'].unique()


titanic['class'].value_counts()


# 깜짝 퀴즈, barplot으로 그려보자!
# barplot은 x에는 범주형, y에는 수치를 넣어줘야 한다.
sns.barplot(x=titanic['class'].unique(), y= titanic['class'].value_counts()) 
plt.title("타이타닉호의 각 클래스별, 승객 수")
plt.show()


sns.barplot(x = titanic['class'].value_counts().index, y=titanic['class'].value_counts().values) 
plt.title("타이타닉호의 각 클래스별, 승객 수")
plt.show()


sns.countplot(x="day", data=tips)
plt.title("요일별 팁을 준 횟수") # 거래주문 수에 비례한건 아닐까?
plt.show()














sns.jointplot(x="sepal_length", y="sepal_width", data=iris)
plt.suptitle("꽃받침의 길이와 넓이의 Joint Plot", y=1.02)
plt.show()





sns.jointplot(x="sepal_length", y="sepal_width", data=iris, kind="kde")
plt.suptitle("꽃받침의 길이와 넓이의 Joint Plot 과 Kernel Density Plot", y=1.02)
plt.show()








iris.head()


sns.pairplot(iris)
plt.title("Iris Data의 Pair Plot")
plt.show()





sns.pairplot(iris, hue="species", markers=["o", "s", "D"])
plt.title("Iris Pair Plot, Hue로 꽃의 종을 시각화")
plt.show()


help(sns.PairGrid)


# pair grid
g = sns.PairGrid(iris, hue='species')

g.map_diag(sns.histplot) # 대각선
g.map_offdiag(sns.scatterplot) # 비대각선

g.add_legend()
plt.show()


# pair grid
g = sns.PairGrid(iris, hue='species')

g.map_diag(sns.boxplot) # 대각선
g.map_offdiag(sns.lineplot) # 비대각선

g.add_legend()
plt.show()








titanic_size = titanic.pivot_table(index="class", columns="sex", aggfunc="size")
titanic_size


sns.heatmap(titanic_size)
plt.title("Heatmap")
plt.show()


sns.heatmap(titanic_size, cmap=sns.light_palette("gray", as_cmap=True), annot=True, fmt="d")

plt.title("Heatmap")
plt.show()











sns.barplot(x="day", y="total_bill", data=tips)
plt.title("요일 별, 전체 팁")
plt.show()





sns.boxplot(x="day", y="total_bill", data=tips)
plt.title("요일 별 전체 팁의 Box Plot")
plt.show()





sns.violinplot(x="day", y="total_bill", data=tips)
plt.title("요일 별 전체 팁의 Violin Plot")
plt.show()





import numpy as np


np.random.seed(0)
sns.stripplot(x="day", y="total_bill", data=tips, jitter=True) # True가 기본값, False로 바꿔보자
plt.title("요일 별 전체 팁의 Strip Plot")
plt.show()





sns.swarmplot(x="day", y="total_bill", data=tips)
plt.title("요일 별 전체 팁의 Swarm Plot")
plt.show()








sns.barplot(x="day", y="total_bill", hue="sex", data=tips)
plt.title("요일 별, 성별 전체 팁의 Histogram")
plt.show()


sns.boxplot(x="day", y="total_bill", data=tips)
plt.title("요일 별, 성별 전체 팁의 Box Plot")
plt.show()


sns.boxplot(x="day", y="total_bill", hue="sex", data=tips)
plt.title("요일 별, 성별 전체 팁의 Box Plot")
plt.show()


sns.violinplot(x="day", y="total_bill", hue="sex", data=tips)
plt.title("요일 별, 성별 전체 팁의 Violin Plot")
plt.show()


sns.stripplot(x="day", y="total_bill", hue="sex", data=tips, jitter=True)
plt.title("요일 별, 성별 전체 팁의 Strip Plot")
plt.legend(loc=1)
plt.show()


sns.swarmplot(x="day", y="total_bill", hue="sex", data=tips)
plt.title("요일 별, 성별 전체 팁의 Swarm Plot")
plt.legend(loc=1)
plt.show()





sns.violinplot(x="day", y="total_bill", hue="sex", data=tips)
plt.title("요일 별, 성별 전체 팁의 Violin Plot, Split=True")
plt.show()


sns.violinplot(x="day", y="total_bill", hue="sex", data=tips, split=True)
plt.title("요일 별, 성별 전체 팁의 Violin Plot, Split=True")
plt.show()


sns.stripplot(x="day", y="total_bill", hue="sex",
              data=tips, jitter=True, dodge=False)
plt.title("요일 별, 성별 전체 팁의 Strip Plot, Split=True")
plt.show()


sns.stripplot(x="day", y="total_bill", hue="sex",
              data=tips, jitter=True, dodge=True)
plt.title("요일 별, 성별 전체 팁의 Strip Plot, Split=True")
plt.show()


sns.swarmplot(x="day", y="total_bill", hue="sex", data=tips, dodge=False)
plt.title("요일 별, 성별 전체 팁의 Swarm Plot, Split=True")
plt.show()


sns.swarmplot(x="day", y="total_bill", hue="sex", data=tips, dodge=True)
plt.title("요일 별, 성별 전체 팁의 Swarm Plot, Split=True")
plt.show()





flights


flights_passengers = flights.pivot(index="month", columns="year", values="passengers")
flights_passengers


plt.title("연도, 월 별 승객수에 대한 Heatmap")
sns.heatmap(flights_passengers, annot=True, fmt="d", linewidths=1)
plt.show()








titanic.survived


data = titanic[titanic.survived.notnull()]
sns.catplot(x="age", y="sex", hue="survived", row="class", data=data,
            kind="violin", split=True, height=2, aspect=4)
plt.title("각 클래스의 성별 생존자 수의 Catplot")
plt.show()








plt.title("Boxplot과 Strip Plot로 표현한, 요일 별 팁")

sns.boxplot(x="tip", y="day", data=tips, whis=np.inf)
sns.stripplot(x="tip", y="day", data=tips, jitter=True, color="0.4")

plt.show()


plt.title("Violin plot과 Swarm Plot로 표현한, 요일 별 팁")

sns.violinplot(x="day", y="total_bill", data=tips, inner=None)
sns.swarmplot(x="day", y="total_bill", data=tips, color="0.9")

plt.show()








def sinplot(flip=1):
    x = np.linspace(0, 14, 100)
    for i in range(1, 7):
        plt.plot(x, np.sin(x + i * .5) * (7 - i) * flip)


sns.set_style?


sinplot()


sns.set_style("ticks")
sinplot()


sns.set_style("darkgrid")
sinplot()


sns.set_style("whitegrid")
sinplot()
