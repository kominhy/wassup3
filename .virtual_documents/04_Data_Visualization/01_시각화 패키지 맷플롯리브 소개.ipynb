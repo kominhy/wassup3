





























import matplotlib as mpl
import matplotlib.pyplot as plt
# plt.style.use("ggplot")


mpl.__version__


# %matplotlib inline ## 현재는 생략가능











plt.plot?


plt.title("Line Plot")
plt.plot([1, 4, 9, 16])
plt.show()

















plt.title("x ticks")
plt.plot([10, 20, 30, 40], [1, 4, 9, 16])
plt.show()


plt.title("x ticks")
plt.plot([10, 20, 30, 40], [1, 4, 9, 16])








# !pip install koreanize-matplotlib


pip install koreanize-matplotlib


import koreanize_matplotlib


plt.title('한글 제목')
plt.plot([10, 20, 30, 40], [1, 4, 9, 16])
plt.xlabel("엑스축 라벨")
plt.ylabel("와이축 라벨")
plt.show()








plt.plot?


plt.title("'rs--' 스타일의 plot ")
plt.plot([10, 20, 30, 40], [1, 4, 9, 16], 'rs--')
plt.show()





























plt.plot([10, 20, 30, 40], [1, 4, 9, 16], c="b",lw=5, ls="--", marker="o", ms=15, mec="g", mew=5, mfc="r")
plt.title("스타일 적용 예")
plt.show()














plt.title("x축, y축의 범위 설정")
plt.plot([10, 20, 30, 40], [-5, 4, 9, 16],
         c="b", lw=5, ls="--", marker="o", ms=15, mec="g", mew=5, mfc="r")
plt.xlim(0, 50)
plt.ylim(-10, 30)
plt.show()














import numpy as np
X = np.linspace(-np.pi, np.pi, 256) # 구간 내 숫자 채우기

Y = np.cos(X) # x값에 대한 cos값

plt.title("x축과 y축의 tick label 설정")
plt.plot(X, Y)

# plt.xticks([-np.pi, -np.pi/2, 0, np.pi/2, np.pi])
# plt.yticks([-1, 0, +1])

plt.show()


import numpy as np
X = np.linspace(-np.pi, np.pi, 256) # 구간 내 숫자 채우기

Y = np.cos(X) # x값에 대한 cos값

plt.title("x축과 y축의 tick label 설정")
plt.plot(X, Y)

plt.xticks([-np.pi, -np.pi/2, 0, np.pi/2, np.pi])
plt.yticks([-1, 0, +1])

plt.show()





plt.xticks?


X = np.linspace(-np.pi, np.pi, 256)
Y = np.cos(X)

plt.title("LaTeX, 문자열로 tick label 정의")
plt.plot(X, Y)

plt.xticks([-np.pi, -np.pi / 2, 0, np.pi / 2, np.pi],
           [r'$-\pi$', r'$-\pi/2$', r'$0$', r'$+\pi/2$', r'$+\pi$'])

plt.yticks([-1, 0, 1], ["Low", "Zero", "High"])

plt.show()


plt.tick_params?


X = np.linspace(-np.pi, np.pi, 256)
Y = np.cos(X)

plt.title("Tick 스타일 정의")
plt.plot(X, Y)
plt.xticks([-np.pi, -np.pi / 2, 0, np.pi / 2, np.pi],
           [r'$-\pi$', r'$-\pi/2$', r'$0$', r'$+\pi/2$', r'$+\pi$'])
plt.yticks([-1, 0, 1], ["Low", "Zero", "High"])


plt.tick_params(axis='x', direction='inout', length=20, pad=10,
width=5, color='red', labelsize=20, labelcolor='Orange', labelrotation=180)


plt.show()











plt.grid?


X = np.linspace(-np.pi, np.pi, 256)
Y = np.cos(X)

plt.title("Grid 추가")
plt.plot(X, Y)
plt.xticks([-np.pi, -np.pi / 2, 0, np.pi / 2, np.pi],
           [r'$-\pi$', r'$-\pi/2$', r'$0$', r'$+\pi/2$', r'$+\pi$'])
plt.yticks([-1, 0, 1], ["Low", "Zero", "High"])

plt.grid(True)
# plt.grid(True, color='r', linestyle='-', linewidth=2)

plt.show()


X = np.linspace(-np.pi, np.pi, 256)
Y = np.cos(X)

plt.title("Grid 추가")
plt.plot(X, Y)
plt.xticks([-np.pi, -np.pi / 2, 0, np.pi / 2, np.pi],
           [r'$-\pi$', r'$-\pi/2$', r'$0$', r'$+\pi/2$', r'$+\pi$'])
plt.yticks([-1, 0, 1], ["Low", "Zero", "High"])

# plt.grid(True)
plt.grid(True, color='r', linestyle='-', linewidth=2)

plt.show()








t = np.arange(0., 5., 0.2)

plt.title("라인 플롯에서 여러개의 선 그리기")
plt.plot(t,t,'r--',    
         t,0.5*(t**2),'bs:',    
         t,0.2*(t**3),'g^-')
plt.show()








plt.title("복수의 plot 명령을 한 그림에서 표현")
plt.plot([1, 4, 9, 16],
         c="b", lw=5, ls="--", marker="o", ms=15, mec="g", mew=5, mfc="r")

plt.plot([9, 16, 4, 1],
         c="k", lw=3, ls=":", marker="s", ms=10, mec="m", mew=5, mfc="c")

plt.show()











X = np.linspace(-np.pi, np.pi, 256)

C, S = np.cos(X), np.sin(X)

plt.title("legend를 표시한 플롯")

plt.plot(X, C, ls="--", label="cosine")
plt.plot(X, S, ls=":", label="sine")

plt.legend()

plt.show()


X = np.linspace(-np.pi, np.pi, 256)

C, S = np.cos(X), np.sin(X)

plt.title("legend를 표시한 플롯")

plt.plot(X, C, ls="--", label="cosine")
plt.plot(X, S, ls=":", label="sine")

# plt.legend(loc=10)
plt.legend('best')
plt.show()


plt.legend?


# 범례 스타일
X = np.linspace(-np.pi, np.pi, 256)
C, S = np.cos(X), np.sin(X)
plt.title("Legend Style")
plt.plot(X, C, ls="--", label="cosine")
plt.plot(X, S, ls=":", label="sine")

plt.legend(loc='best', ncols=2, fontsize=20, frameon=True, shadow=True, facecolor='#EEEEEE',labelcolor='Green')

plt.show()














X = np.linspace(-np.pi, np.pi, 256)
C, S = np.cos(X), np.sin(X)
plt.plot(X, C, label="cosine")

plt.xlabel("time")
plt.ylabel("amplitude")

plt.title("Cosine Plot")
plt.show()


# label sytle
X = np.linspace(-np.pi, np.pi, 256)
C, S = np.cos(X), np.sin(X)
plt.plot(X, C, label="cosine")

plt.xlabel('time', loc='right', labelpad=15, fontsize=10, color='blue')
plt.ylabel('amplitude', loc='top', labelpad=15, fontsize=10, color='blue')

plt.title("Cosine Plot label style")
plt.show()


# 회전도 가능

X = np.linspace(-np.pi, np.pi, 256)
C, S = np.cos(X), np.sin(X)
plt.plot(X, C, label="cosine")

plt.xlabel('time', loc='right', labelpad=15, fontsize=10, color='blue')
# plt.ylabel('amplitude', loc='top', labelpad=15, fontsize=10, color='blue', rotation=0) # -할수있음
plt.ylabel('amplitude', loc='top', labelpad=-50, fontsize=10, color='blue', rotation=0)

plt.title("Cosine Plot")
plt.show()





X = np.linspace(-np.pi, np.pi, 256)
C, S, T = np.cos(X), np.sin(X), np.tan(X)
plt.title("연습 문제")

plt.plot(X, C, ls="--", label="cosine")
plt.plot(X, S, ls=":", label="sine")
plt.plot(X, X, ls="-", label="Line")
# plt.plot(X, T, ls="-", label="tangent")

plt.legend(loc=4)
plt.show()




















np.random.seed(0)
# f1 = plt.figure(figsize=(10, 2))
# plt.figure(figsize=(10, 2))
plt.title("figure size : (10, 2)")
plt.plot(np.random.randn(100))
plt.show()


np.random.seed(0)
# f1 = plt.figure(figsize=(10, 2))
plt.figure(figsize=(10, 2))
plt.title("figure size : (10, 2)")
plt.plot(np.random.randn(100))
plt.show()








plt.gcf?


f1 = plt.figure()
plt.title("현재의 Figure 객체")
plt.plot([1, 2, 3, 4], 'ro:')

f2 = plt.gcf() # f2 = f1
print(f1, id(f1))
print(f2, id(f2))
plt.show()




















x1 = np.linspace(0.0, 5.0)
x2 = np.linspace(0.0, 2.0)

y1 = np.cos(2 * np.pi * x1) * np.exp(-x1)
y2 = np.cos(2 * np.pi * x2)

ax1 = plt.subplot(2, 1, 1) # 2행 1열, 순서
plt.plot(x1, y1, 'yo-')
plt.title('A tale of 2 subplots')
plt.ylabel('Damped oscillation')

ax2 = plt.subplot(2, 1, 2) # 2행 1열, 순서
plt.plot(x2, y2, 'r.-')
plt.xlabel('time (s)')
plt.ylabel('Undamped')

plt.tight_layout()
plt.show()





np.random.seed(0)

plt.subplot(221)
plt.plot(np.random.rand(5))
plt.title("axes 1")

plt.subplot(222)
plt.plot(np.random.rand(5))
plt.title("axes 2")

plt.subplot(223)
plt.plot(np.random.rand(5))
plt.title("axes 3")

plt.subplot(224)
plt.plot(np.random.rand(5))
plt.title("axes 4")

plt.tight_layout()
plt.show()


# 4행 3열
np.random.seed(0)

x = 4
y = 3
k = x*y


for i in range(1,k+1) :
    plt.subplot(x,y,i)
    plt.plot(np.random.rand(5))
    axes = 'axes' + str(i)
    plt.title(axes)
    

plt.tight_layout()
plt.show()


# 4행 3열
np.random.seed(0)

plt.subplot(431)
plt.plot(np.random.rand(5))
plt.title("axes 1")

plt.subplot(432)
plt.plot(np.random.rand(5))
plt.title("axes 2")

plt.subplot(433)
plt.plot(np.random.rand(5))
plt.title("axes 3")

plt.subplot(234)
plt.plot(np.random.rand(5))
plt.title("axes 4")

plt.subplot(435)
plt.plot(np.random.rand(5))
plt.title("axes 5")

plt.subplot(436)
plt.plot(np.random.rand(5))
plt.title("axes 6")


plt.tight_layout()
plt.show()


# 연습문제 3 행2열
np.random.seed(0)

plt.subplot(321)
plt.plot(np.random.rand(5))
plt.title("axes 1")

plt.subplot(322)
plt.plot(np.random.rand(5))
plt.title("axes 2")

plt.subplot(323)
plt.plot(np.random.rand(5))
plt.title("axes 3")

plt.subplot(324)
plt.plot(np.random.rand(5))
plt.title("axes 4")

plt.subplot(325)
plt.plot(np.random.rand(5))
plt.title("axes 4")

plt.subplot(326)
plt.plot(np.random.rand(5))
plt.title("axes 4")
plt.tight_layout()
plt.show()








plt.subplots?


fig, axes = plt.subplots(2, 2)

np.random.seed(0)
axes[0, 0].plot(np.random.rand(5))
axes[0, 0].set_title("axes 1")

axes[0, 1].plot(np.random.rand(5))
axes[0, 1].set_title("axes 2")

axes[1, 0].plot(np.random.rand(5))
axes[1, 0].set_title("axes 3")

axes[1, 1].plot(np.random.rand(5))
axes[1, 1].set_title("axes 4")

plt.tight_layout()
plt.show()


# 4행 3열
fig, axes = plt.subplots(4, 3)
np.random.seed(0)

x = 4
y = 3
k = x*y


for i in range(x) :
    for a in range(y) :
        axes[i, a].plot(np.random.rand(5))
        axes[i, a].set_title("axes")

plt.tight_layout()
plt.show()








pip install tensorflow


# pip install tensorflow
import pandas as pd
import numpy as np
import matplotlib.pyplot as plt
from tensorflow.keras.datasets import mnist


(X_train, y_train), (X_test, y_test) = mnist.load_data()


X_train.shape


y_train[0]


X_train[0]


# import sys
np.set_printoptions(linewidth = 150, precision = 2)


X_train[0]





# plt.figure(figsize=(3,3))

plt.subplot(2, 1, 1)
plt.imshow(X_train[0], cmap='gray')
plt.axis('off')

plt.subplot(2, 1, 2)
plt.imshow(X_train[1], cmap='gray')
# plt.axis('off')
plt.show()





plt.figure(figsize=(3,3))

plt.subplot(1, 2, 1)
plt.imshow(X_train[0], cmap='gray')
plt.axis('off')

plt.subplot(1, 2, 2)
plt.imshow(X_train[1], cmap='gray')
plt.axis('off')
plt.show()





fig, axes = plt.subplots(2, 2, figsize=(3,3))

axes[0,0].imshow(X_train[0], cmap='gray')
axes[0,1].imshow(X_train[1], cmap='gray')
axes[1,0].imshow(X_train[2], cmap='gray')
axes[1,1].imshow(X_train[3], cmap='gray')

plt.show()





rows = 2
cols = 2

fig, axes = plt.subplots(rows, cols, figsize=(3,3))

index = 0 # 데이터 인덱스
for row in range(rows):
    for col in range(cols):
        print(row, col, index)
        axes[row, col].imshow(X_train[index], cmap='gray')
        axes[row, col].axis('off')
        index = index + 1

plt.show()





axes.ravel?


# 더 간단하게
rows = 2
cols = 2

fig, axes = plt.subplots(rows, cols, figsize=(3,3))
axes = axes.ravel() # 객체의 차원을 1차원으로 낮춘거죠.

for i in range(rows * cols):
    axes[i].imshow(X_train[i], cmap='gray')
    axes[i].axis('off')

plt.show()





X_train.shape
X_train[0].shape


def plot_mnist_images(images, labels, rows, cols):
    fig, axes = plt.subplots(rows, cols, figsize=(5, 5))
    axes = axes.ravel()
    
    for i in range(rows * cols):
        axes[i].imshow(images[i], cmap='gray')
        axes[i].set_title(labels[i])
        axes[i].axis('off')
        
    plt.tight_layout()
    plt.show()


plot_mnist_images(X_train, y_train, 3, 5)





from tensorflow.keras.datasets import cifar10


(X_train, y_train), (X_test, y_test) = cifar10.load_data()


X_train.shape


X_test.shape


X_train[0].shape


y_train[0]


labels = ['airplane', 'automobile', 'bird', 'cat', 'deer', 'dog', 'flog', 'horse', 'ship', 'truck']


labels[y_train[0][0]]


len(labels)


import matplotlib.pyplot as plt
L_grid = 3
W_grid = 10

fig, axes = plt.subplots(L_grid, W_grid, figsize=(20, 6))

axes = axes.ravel()

for i in range(W_grid * L_grid):
    axes[i].imshow(X_train[i])
    label_index = int(y_train[i])
    axes[i].set_title(labels[label_index], fontsize = 20)
    axes[i].axis('off')
    
plt.show()














fig, axes1 = plt.subplots()

axes1.set_title("2개의 y축 한 figure에서 사용하기")
axes1.set_xlabel("공유되는 x축")

axes1.plot([10, 5, 2, 9, 7], 'r-') # 기준 주차트
axes1.set_ylabel("y0")
plt.show()


fig, axes1 = plt.subplots()

axes1.set_title("2개의 y축 한 figure에서 사용하기")
axes1.set_xlabel("공유되는 x축")

axes1.plot([10, 5, 2, 9, 7], 'r-') # 기준 주차트
axes1.set_ylabel("y0")

axes2 = axes1.twinx()
axes2.plot([100, 200, 220, 180, 120], 'g:') # 보조차트
axes2.set_ylabel("y1")

plt.show()





import pandas as pd


df = pd.read_csv('data/trade_apt_api_2023_address.txt', sep='\t')
df.head()


df.info()


df['거래금액'][:5]


# 공백, 콤마로 인해 오류
# 거래수를 뽑아보자
# df['거래금액'] = df['거래금액'].astype(int)
df_cnt = df.groupby('기준년월').count()['거래금액']
df_cnt


len(df_cnt)


x1 = df_cnt.values
x1


plt.plot(x1)
plt.title('거래수')
plt.xticks(np.arange(len(df_cnt.index)), labels=df_cnt.index )
plt.tick_params(axis='x', labelrotation=45)

plt.show()


# 거래금액 도 뽑아보자
df['거래금액'] = df['거래금액'].str.replace(',','').replace(' ','').astype(int)
df['거래금액']


df_mean = df.groupby('기준년월')['거래금액'].mean()
df_mean


x2 = df_mean.values
x2[:3]


# 이중축
fig, ax1 = plt.subplots()

plt.plot(x1, color='b', label='count')
plt.legend()

plt.xticks(np.arange(len(df_cnt.index)), labels=df_cnt.index )
plt.tick_params(axis='x', labelrotation=45)

ax2 = ax1.twinx()

plt.plot(x2, color='r', label='avg price')
plt.legend()


plt.show()


# 스타일 적용
fig, ax1 = plt.subplots(figsize=(12, 5))

plt.xlabel('year month', loc='center', labelpad=5, fontsize=10, color='blue')
plt.xticks(np.arange(len(df_cnt.index)), labels=df_cnt.index )
plt.tick_params(axis='x', labelrotation=60)

plt.ylabel('count', labelpad=0, fontsize=10, color='blue')
plt.plot(x1, 'b^-', label='count')
plt.legend()

ax2 = ax1.twinx()

plt.ylabel('avg.price', labelpad=0, fontsize=10, color='blue')
plt.plot(x2, 'sr--', label='avg price')
plt.legend()

plt.title('APT price', loc='center', pad=10, fontsize = 20, color='black')

plt.show()
