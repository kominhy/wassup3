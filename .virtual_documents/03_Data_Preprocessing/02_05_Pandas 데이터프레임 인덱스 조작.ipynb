








import numpy as np
import pandas as pd


np.round(np.random.rand(3, 5), 2)


np.vstack([list('ABCDE'), np.round(np.random.rand(3, 5), 2)])


np.random.seed(0)
df1 = pd.DataFrame(np.vstack([list('ABCDE'), np.round(np.random.rand(3, 5), 2)]).T, # transpose
                   columns=["C1", "C2", "C3", "C4"])
df1








df2 = df1.set_index("C1")
df2





df2.set_index("C2") # 원본 반영 안됨


df2








df2.reset_index()


df2





df2.reset_index(drop=True)





df_score1 = pd.DataFrame(np.random.randint(0, 101, size=(5,3)), columns=["국어", "영어", "수학"])
df_score1 


# 데이터 프레임 생성
df_score1 = pd.DataFrame(np.random.randint(0, 101, size=(5, 3)), columns=['국어', '영어', '수학'])
df_score1


# 인덱스에 학생 이름 지정
df_score1.index = ['학생1', '학생2', '학생3', '학생4', '학생5']
df_score1


# 인덱스 열을 일반 데이터열로 바꾸어 데이터프레임 생성
df_score2 = df_score1.reset_index()
df_score2


# 학생 이름을 다시 인덱스로 변경
df_score2 = df_score2.set_index('index')
df_score2











np.random.seed(0)
df3 = pd.DataFrame(np.round(np.random.randn(5, 4), 2),
                   columns=[["A", "A", "B", "B"],
                            ["C1", "C2", "C1", "C2"]])
df3








df3.columns.names = ["Cidx1", "Cidx2"]
df3








np.random.seed(0)
df4 = pd.DataFrame(np.round(np.random.randn(6, 4), 2),
                   columns=[["A", "A", "B", "B"],
                            ["C", "D", "C", "D"]],
                   index=[["M", "M", "M", "F", "F", "F"],
                          ["id_" + str(i + 1) for i in range(3)] * 2])
df4.columns.names = ["Cidx1", "Cidx2"]
df4.index.names = ["Ridx1", "Ridx2"]
df4














df4


df4.stack("Cidx1") # 열인덱스->행인덱스


df4.stack?


df4.stack(1) # cidx2 == 1


df4.stack(0) # cidx2 == 1


df4.unstack("Ridx2")


df4


 df4.unstack(0) # ridx1 == 0








df3


df3[ ("B", "C1") ]





df3.loc[0, ("B", "C1")]


df3.loc[0, ("B", "C1")] = 100
df3





df3.iloc[0, 2]





df3['A']


# 당연히 하위 인덱스는 단일 라벨값만 넣으면 인식이 안된다.
df3['C1']





df4


df4.loc[("M", "id_1"), ("A", "C")]


df4.loc[:, ("A", "C")]


df4.loc[("M", "id_1"), :]


df4.loc[("All", "All"), :] = df4.sum()
df4





df4.loc["M"]








df4.loc[("M": ), :]


df4.loc[("M", slice(None)), :] # ("M" : ) -> 불가 


df4.loc[(slice(None), "id_1"), :]








df4


df5 = df4.swaplevel("Ridx1", "Ridx2") # 디폴트 0
df5


df6 = df4.swaplevel("Cidx1", "Cidx2", 1) # axis=1
df6


# 당연히 cidx1과 2는 행인덱스가 아니기 때문에 에러
df6 = df4.swaplevel("Cidx1", "Cidx2", 0)
df6








df5


df5.sort_index?


# 디폴트 axis=0 행인덱스, level = 인덱스 수준값 또는 라벨
df5.sort_index(level=0) # ridx2 기준


df5.sort_index(level=1) # ridx1 기준





df_score3 = pd.DataFrame(np.random.randint(0, 101, size=(5,5)), columns=['반','번호','국어','영어','수학'])

df_score3














class1 = np.array(list('AAAAABBBBB')).reshape(10, 1)
class1


np.random.seed(0)    
class1 = np.array(list('AAAAABBBBB')).reshape(10, 1)
class1


score = np.random.randint(0,101,(10,3))
score


number = np.random.choice(range(1,6), 5, replace=False)
number


number = np.hstack([number, number]).reshape(10, 1)
number


df_score3 = pd.DataFrame(np.hstack([class1,number, score]), columns=["반","번호","국어","영어","수학"])
df_score3


# 1번
np.random.seed(0)                            
class1 = np.array(list('AAAAABBBBB')).reshape(10, 1)
score = np.random.randint(0,101,(10,3))
number = np.random.choice(range(1,6), 5, replace=False)
number = np.hstack([number, number]).reshape(10,1)
df_score3 = pd.DataFrame(np.hstack([class1,number, score]), columns=["반","번호","국어","영어","수학"])
df_score3                                  


# 1번 for문으로 풀어보기

df_score3 = pd.DataFrame(columns=['반', '번호', '국어', '영어', '수학'])
df_score3

for i in range(5):
    df_score3.loc[i] = ['A', i+1] + list(np.random.randint(0, 101, size=3))
    df_score3.loc[i+5] = ['B', i+1] + list(np.random.randint(0, 101, size=3))
df_score3


# 2번 인덱스 설정
df_score4 = df_score3.set_index(['반', '번호'])
df_score4


# 3번 각 학생의 평균 계산
df_score4['평균'] = round(df_score4.mean(axis=1),1)
df_score4


# 4. `df_score3`을 변형하여 행 인덱스로 "번호"를, 1차 열 인덱스로 "국어", "영어", "수학"을, 
# 2차 열 인덱스로 "반"을 가지는 데이터프레임 `df_score5`을 만든다
# 행과 열 인덱스 변경  df_score3.set_index('번호').pivot(columns='반')
df_score3


df_score3.set_index(['번호','반'])


df_score5 = df_score3.set_index(['번호','반']).unstack()
df_score5


# 각 반별 과목 평균 계산
df_score5.loc['평균'] = df_score5.mean(axis=0)
df_score5
