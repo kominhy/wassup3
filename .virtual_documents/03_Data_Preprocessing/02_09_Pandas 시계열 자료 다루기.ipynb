





from datetime import datetime


dt = datetime(2023, 12, 22, 15, 30, 45)
dt


print(dt.year, dt.month, dt.day, dt.hour, dt.minute, dt.second)


cur = datetime.now()
cur

















import pandas as pd


# format 생략해도 자동으로 잡히긴하지만 포맷을 지정하는게 좋음
date_str = ["2023, 1, 1", "2023, 1, 4", "2023, 1, 5", "2023, 1, 6"]
print(type(date_str[0]))
idx = pd.to_datetime(date_str) 
idx





import numpy as np


np.random.seed(0)
s = pd.Series(np.random.randn(4), index=idx)
s


s.info()


data ={'2023년11월19일':[10,20,30],
       '2023년11월20일':[40,50,60],
       '2023년11월21일':[70,80,90],
       '2023년11월22일':[100,120,130]}


df = pd.DataFrame(data)
df 


df = df.T
df


# object형은 시계열 데이터 아님
df.index, type(df.index[0])


# 인덱스만 date타입으로 변경 
df.index  = pd.to_datetime(df.index, format='%Y년%m월%d일')  
# df.index  = pd.to_datetime(df.index, format='mixed') # 가능하긴 한데 권장안함
df.index








pd.date_range("2023-11-1", "2023-11-30")


pd.date_range(start="2023-11-1", periods=40)





pd.date_range("2023-12-1", "2023-12-30", freq="B")


pd.date_range("2023-12-1", "2023-12-30", freq="W")


pd.date_range("2023-12-1", "2023-12-30", freq="W-MON")


pd.date_range("2023-11-1", "2023-11-30", freq="MS")


pd.date_range("2023-11-1", "2023-11-30", freq="M")


pd.date_range("2023-11-1", "2023-11-30", freq="BMS")


pd.date_range("2023-11-1", "2023-11-30", freq="BM")


pd.date_range("2023-11-1", "2023-11-30", freq="WOM-2THU")


pd.date_range("2023-01-1", "2023-11-30", freq="Q-JAN")


pd.date_range("2023-01-1", "2023-11-30", freq="Q-DEC")








np.random.seed(0)
ts = pd.Series(np.random.randn(4), index=pd.date_range(
    "2018-1-1", periods=4, freq="M"))
ts


ts.shift(1)


ts.shift(-1)


ts.shift(1, freq="M")


ts.shift(1, freq="W")








ts = pd.Series(np.random.randn(100), index=pd.date_range("2018-1-1", periods=100, freq="D"))
ts.tail(20)





ts.resample('W')


ts.resample('W').mean()


ts.resample('M').first()





ts = pd.Series(np.random.randn(60), index=pd.date_range(
    "2018-1-1", periods=60, freq="T"))
ts.head(20)


ts.resample('10T').sum()





ts.resample('W')('10T', closed="right").sum()





ts.resample('5T').ohlc()


ts.resample('5T', closed='right').ohlc()





ts.resample('30s').ffill().head(20)


ts.resample('30s').bfill().head(20)








s = pd.Series(pd.date_range("2020-12-25", periods=100, freq="D"))
s





s.dt.year


s.dt.weekday





s.dt.strftime("%Y년 %m월 %d일")





import pandas as pd
import numpy as np


np.random.seed(0)
df = pd.DataFrame({
    "date": pd.date_range("2020-12-25", periods=100, freq="D"), 
    "value": np.random.randint(100, size=(100,))
})
df


df['month']=df['date'].dt.month
df


df.groupby('month')['value'].sum()


# datetime index로도 풀어보자
np.random.seed(0)
df = pd.DataFrame({
    "date": pd.date_range("2020-12-25", periods=100, freq="D"), 
    "value": np.random.randint(100, size=(100,))})
df = df.set_index('date')
df.resample('M').sum()





import matplotlib.pyplot as plt
plt.style.use("ggplot")

# 한글 및 특정 문자 깨짐 문제 해결
# import koreanize_matplotlib # 시본의 한글 깨짐은 해결못하지만 - 깨짐 해결
from matplotlib import font_manager, rc # 폰트 세팅을 위한 모듈 추가
font_path = "C:/Windows/Fonts/malgun.ttf" # 사용할 폰트명 경로 삽입
font = font_manager.FontProperties(fname = font_path).get_name()
rc('font', family = font)


from pandas_datareader import data 
import yfinance as yfin
yfin.pdr_override()


data.get_data_yahoo?


# 삼성전자 주가 읽어오기(종목코드, start, end)
sdf = data.get_data_yahoo('005930.KS') # 삼성전자 KOSPI 지수, 끝을 생략하는 오늘까지 가져옴
sdf


sdf.index


sdf['Close'].plot()


plt.plot(sdf['Close'])
plt.show()





data1 = [[1,2],[3,4],[5,8],[7,6],[9,12],[11,10],[13,16],[15,20]]
df = pd.DataFrame( data1, columns=['A', 'B'] )

df.index=['2023-01-01','2023-02-01','2023-03-01','2023-04-01',
          '2023-05-01','2023-06-01','2023-07-01','2023-08-01']
df


#rolling 객체의 멤버함수 mean, sum, max, min
df.rolling(window=2).mean() 
# 1행값 nan, 2행값 = 2행 - 1행 ...


df.rolling(window=3).mean()


plt.xticks(rotation=45)
plt.plot(df.index, df['B'])
plt.plot(df.index, df['B'].rolling(window=2).mean())
plt.show()


sdf['Close'].rolling(window=120).mean()


plt.xticks(rotation=45)
plt.plot(sdf.index, sdf['Close'])
plt.plot(sdf.index, sdf['Close'].rolling(window=120).mean(), 'b--')





sdf.index


# 2023년 조회하기 # sdf['2023'] 에러남, 칼럼 조회와 헷갈리니 가능하면 loc을 쓰자
sdf.loc['2023']


sdf.loc['2023-11']


sdf.loc['2022':'2023']


sdf.loc['2020-12-01':'2022-12-31']


sdf['year'] = sdf.index.year
sdf





# 년도별 평균(수치데이터 칼럼 전체 적용 ), 년도 칼럼 활용
round(sdf.groupby('year').mean()) # groupby객체 멤버함수 sum mean max min agg


# 인덱스의 연도만 추출해서 그루핑
round(sdf.groupby(sdf.index.year).mean())


# 연도 및 월별
sdf.groupby([sdf.index.year, sdf.index.month]).mean()





sdf.resample?


# DatetimeIndexResample : sum, mean, max, min
sdf.resample(rule='Y').mean()


sdf.resample(rule='Q').mean()


sdf.resample(rule='M').mean()


# 주별, default 월-일, 요일구간을 정할 수 있다
sdf.resample(rule='W').mean()


sdf.resample(rule='D').mean()


sdf.loc['2023-12'].resample(rule='H').mean()


sdf.loc['2023-12'].resample(rule='T').mean()


sdf.loc['2023-12'].resample(rule='S').mean()





# 1. 3개 데이터 병합
data_2014 = pd.read_csv('data/2014년 졸음운전 교통사고.csv', encoding='ANSI', index_col='구분')
data_2015 = pd.read_csv('data/2015년 졸음운전 교통사고.csv', encoding='ANSI', index_col='구분')
data_2016 = pd.read_csv('data/2016년 졸음운전 교통사고.csv', encoding='ANSI', index_col='구분')
data_2014.head()


data_2014.info(), data_2015.info(), data_2016.info()


data_total = pd.concat([data_2014, data_2015, data_2016], axis=0)
data_total


# 2. 인덱스를 datetime 으로 만드시요
data_total.index


data_total.index  = pd.to_datetime(data_total.index, format= '%Y년%m월')
data_total.index


# 3. 년도 및 월별, 분기별 평균 사망자를 보여주시요
data_total[['사망(명)']].groupby([data_total.index.quarter, data_total.index.year, data_total.index.month]).mean()


data_total[['사망(명)']].resample(rule='Q').mean()


# 4.  2016년 사고대비 사망율을 구하시요
data_total.loc['2016']['사망(명)']/ data_total.loc['2016']['사고(건)']


round ( data_total.loc['2016']['사망(명)'].sum()/ data_total.loc['2016']['사고(건)'].sum(), 2 )


import matplotlib
import matplotlib.pyplot as plt
import seaborn as sns
plt.style.use("ggplot")
# 관련 라이브러리 임포트 
import matplotlib.font_manager as fm
#  한글글꼴로 변경
# plt.rcParams['font.family'] = '한글글꼴명'
plt.rcParams['font.size'] = 11.0
# plt.rcParams['font.family'] = 'batang'
plt.rcParams['font.family'] = 'Malgun Gothic'

# 그래프에서 마이너스 폰트 깨지는 문제에 대한 대처
matplotlib.rcParams['axes.unicode_minus'] = False


# 5. 2014년도 월별 사망, 부상 데이터를 그래프로 보여주시요
data_total.loc['2014'][['사망(명)','부상(명)']].plot(kind='bar') # 보기 힘들다 이중축으로 만들어 보면어떨까?  바+꺾은선
# plt.xticks(rotation=45)
# plt.plot(temp_2014.index, temp_2014)


data_total.loc['2016']


# 6. 2015년 대비  사망이 가장 많이 증가한 2016년 도 월을 구하시요
(data_total.loc['2016', '사망(명)'].values
 - data_total.loc['2015', '사망(명)'].values).argmax() # 가장 높은 값의 인덱스를 반환
# 과연 맞을까?


result = (data_total.loc['2016', '사망(명)'].values 
                     - data_total.loc['2015', '사망(명)'].values)
result


sr = pd.Series( result, index= range(1,13))
sr


sr.nlargest( 1, keep='all') # 상위 n개의 값을  반환,  keep (first 동등하면 첫번째것, all은 전체, )
# 5월과 6월이 해당함


sr.nlargest?
