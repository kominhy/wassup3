














import pandas as pd


df1 = pd.DataFrame({
    '계좌번호': [1001, 1002, 1003, 1004, 1005, 1006, 1007],
    '이름': ['둘리', '도우너', '또치', '길동', '희동', '마이콜', '영희']
}, columns=['계좌번호', '이름'])
df1


df2 = pd.DataFrame({
    '계좌번호': [1001, 1001, 1005, 1006, 1008, 1001],
    '금액': [10000, 20000, 15000, 5000, 100000, 30000]
}, columns=['계좌번호', '금액'])
df2





pd.merge?


pd.merge(df1, df2) # default = inner join 교집합





pd.merge(df1, df2, how='outer') # 합집합





pd.merge(df1, df2, how='left')


pd.merge(df1, df2, how='right')





df1 = pd.DataFrame({
    '품종': ['setosa', 'setosa', 'virginica', 'virginica'],
    '꽃잎길이': [1.4, 1.3, 1.5, 1.3]},
    columns=['품종', '꽃잎길이'])
df1


df2 = pd.DataFrame({
    '품종': ['setosa', 'virginica', 'virginica', 'versicolor'],
    '꽃잎너비': [0.4, 0.3, 0.5, 0.3]},
    columns=['품종', '꽃잎너비'])
df2





pd.merge(df1, df2)





df1 = pd.DataFrame({
    '고객명': ['춘향', '춘향', '몽룡'],
    '날짜': ['2018-01-01', '2018-01-02', '2018-01-01'],
    '데이터': ['20000', '30000', '100000']})
df1


df2 = pd.DataFrame({
    '고객명': ['춘향', '몽룡'],
    '데이터': ['여자', '남자']})
df2


pd.merge(df1, df2) # 고객명과 데이터칼럼의 &조건으로 교집합


pd.merge(df1, df2, on='고객명')








df1 = pd.DataFrame({
    '이름': ['영희', '철수', '철수'],
    '성적': [1, 2, 3]})
df1


df2 = pd.DataFrame({
    '성명': ['영희', '영희', '철수'],
    '성적2': [4, 5, 6]})
df2


pd.merge(df1, df2, left_on='이름', right_on="성명")





df1 = pd.DataFrame({
    '도시': ['서울', '서울', '서울', '부산', '부산'],
    '연도': [2000, 2005, 2010, 2000, 2005],
    '인구': [9853972, 9762546, 9631482, 3655437, 3512547]})
df1


import numpy as np


df2 = pd.DataFrame(np.arange(12).reshape((6, 2)),
    index=[['부산', '부산', '서울', '서울', '서울', '서울'],
           [2000, 2005, 2000, 2005, 2010, 2015]],
    columns=['데이터1', '데이터2'])
df2


pd.merge(df1, df2, left_on=['도시', '연도'], right_index=True)


df1 = pd.DataFrame(
    [[1., 2.], [3., 4.], [5., 6.]],
    index=['a', 'c', 'e'],
    columns=['서울', '부산'])
df1


df2 = pd.DataFrame(
    [[7., 8.], [9., 10.], [11., 12.], [13, 14]],
    index=['b', 'c', 'd', 'e'],
    columns=['대구', '광주'])
df2


pd.merge(df1, df2, how='outer', left_index=True, right_index=True)








df1.join(df2, how='outer')





a = pd.DataFrame(np.random.randint(1,100, size = (5,5)))
a


b = pd.DataFrame(np.random.randint(1,100, size = (5,5)), colum)
b


c = pd.merge(a, b)
c








# 공통열 만들기
idx = np.array(list(range(1, 6))).reshape(5,1)
idx


# 벨류 만들기
value = np.random.randint(0, 101, size=(5, 4))
value


# 첫 번째 데이터프레임 생성
df1 = pd.DataFrame( np.hstack([idx, value]),
                   columns=['A', 'B', 'C', 'D', 'E'])
df1


# 두 번째 데이터프레임 생성
df2 = pd.DataFrame(np.hstack([idx, value]),
                              columns=['A1', 'B1', 'C1', 'D1', 'E1'])
df2


# 두 데이터프레임을 merge 명령으로 합침
df_merged = pd.merge(df1, df2, left_on='A', right_on='A1')
df_merged











s1 = pd.Series([0, 1], index=['A', 'B'])
s1


s2 = pd.Series([2, 3, 4], index=['A', 'B', 'C'])
s2


pd.concat([s1, s2])


pd.concat?





df1 = pd.DataFrame(
    np.arange(6).reshape(3, 2),
    index=['a', 'b', 'c'],
    columns=['데이터1', '데이터2'])
df1


df2 = pd.DataFrame(
    5 + np.arange(4).reshape(2, 2),
    index=['a', 'c'],
    columns=['데이터3', '데이터4'])
df2


pd.concat([df1, df2], axis=1)





a = pd.DataFrame(np.random.randint(1, 100, size=(6,3)), columns=['매출','바용','이익'])
a














# 전반기 실적 데이터프레임 생성
df1 = pd.DataFrame(np.random.randint(0, 101, size=(6, 2)), columns=['매출', '비용'])
df1.index = ['1월', '2월', '3월', '4월', '5월', '6월']
df1


# 후반기 실적 데이터프레임 생성
df2 = pd.DataFrame(np.random.randint(0, 101, size=(6, 2)), columns=['매출', '비용'])
df2.index = ['7월', '8월', '9월', '10월', '11월', '12월']
df2


# 전반기와 후반기 실적을 합친 데이터프레임 생성
df = pd.concat([df1, df2], axis=0)
df


# 이익 계산하여 마지막 열에 추가
df['이익'] = df['매출'] - df['비용']
df


# 총 실적 계산하여 마지막 행에 추가
df.loc['총 실적'] = df.sum(axis=0)
df
