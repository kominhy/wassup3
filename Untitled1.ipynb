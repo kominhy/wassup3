{
 "cells": [
  {
   "cell_type": "markdown",
   "id": "886b5509-ca0e-4700-afe4-2cdb3de34cdc",
   "metadata": {},
   "source": [
    "# Selenium 사용하기\n",
    " - 크롬 115이상 버전부터 부터 드라이버 설치 불필요\n",
    " - 셀레니움4 부터 문법 변경\n",
    " - https://www.selenium.dev/documentation/\n",
    " - 셀레니움으로는 스크래핑하면 너무 느리므로, 동적 웹페이지 접속 및 이벤트 발생 역할 만 하고, 파싱은 BS4를 쓰는게 좋다."
   ]
  },
  {
   "cell_type": "code",
   "execution_count": 1,
   "id": "9a752147-07a7-40e2-a529-1dddd519b207",
   "metadata": {
    "scrolled": true
   },
   "outputs": [
    {
     "name": "stdout",
     "output_type": "stream",
     "text": [
      "Collecting selenium\n",
      "  Downloading selenium-4.22.0-py3-none-any.whl.metadata (7.0 kB)\n",
      "Requirement already satisfied: urllib3<3,>=1.26 in c:\\users\\rhals\\anaconda3\\lib\\site-packages (from urllib3[socks]<3,>=1.26->selenium) (2.0.7)\n",
      "Collecting trio~=0.17 (from selenium)\n",
      "  Downloading trio-0.25.1-py3-none-any.whl.metadata (8.7 kB)\n",
      "Collecting trio-websocket~=0.9 (from selenium)\n",
      "  Downloading trio_websocket-0.11.1-py3-none-any.whl.metadata (4.7 kB)\n",
      "Requirement already satisfied: certifi>=2021.10.8 in c:\\users\\rhals\\anaconda3\\lib\\site-packages (from selenium) (2024.2.2)\n",
      "Requirement already satisfied: typing_extensions>=4.9.0 in c:\\users\\rhals\\anaconda3\\lib\\site-packages (from selenium) (4.9.0)\n",
      "Collecting websocket-client>=1.8.0 (from selenium)\n",
      "  Downloading websocket_client-1.8.0-py3-none-any.whl.metadata (8.0 kB)\n",
      "Collecting attrs>=23.2.0 (from trio~=0.17->selenium)\n",
      "  Downloading attrs-23.2.0-py3-none-any.whl.metadata (9.5 kB)\n",
      "Requirement already satisfied: sortedcontainers in c:\\users\\rhals\\anaconda3\\lib\\site-packages (from trio~=0.17->selenium) (2.4.0)\n",
      "Requirement already satisfied: idna in c:\\users\\rhals\\anaconda3\\lib\\site-packages (from trio~=0.17->selenium) (3.4)\n",
      "Collecting outcome (from trio~=0.17->selenium)\n",
      "  Downloading outcome-1.3.0.post0-py2.py3-none-any.whl.metadata (2.6 kB)\n",
      "Requirement already satisfied: sniffio>=1.3.0 in c:\\users\\rhals\\anaconda3\\lib\\site-packages (from trio~=0.17->selenium) (1.3.0)\n",
      "Requirement already satisfied: cffi>=1.14 in c:\\users\\rhals\\anaconda3\\lib\\site-packages (from trio~=0.17->selenium) (1.16.0)\n",
      "Collecting wsproto>=0.14 (from trio-websocket~=0.9->selenium)\n",
      "  Downloading wsproto-1.2.0-py3-none-any.whl.metadata (5.6 kB)\n",
      "Requirement already satisfied: pysocks!=1.5.7,<2.0,>=1.5.6 in c:\\users\\rhals\\anaconda3\\lib\\site-packages (from urllib3[socks]<3,>=1.26->selenium) (1.7.1)\n",
      "Requirement already satisfied: pycparser in c:\\users\\rhals\\anaconda3\\lib\\site-packages (from cffi>=1.14->trio~=0.17->selenium) (2.21)\n",
      "Collecting h11<1,>=0.9.0 (from wsproto>=0.14->trio-websocket~=0.9->selenium)\n",
      "  Downloading h11-0.14.0-py3-none-any.whl.metadata (8.2 kB)\n",
      "Downloading selenium-4.22.0-py3-none-any.whl (9.4 MB)\n",
      "   ---------------------------------------- 0.0/9.4 MB ? eta -:--:--\n",
      "    --------------------------------------- 0.2/9.4 MB 5.1 MB/s eta 0:00:02\n",
      "   -- ------------------------------------- 0.5/9.4 MB 6.6 MB/s eta 0:00:02\n",
      "   --- ------------------------------------ 0.9/9.4 MB 7.4 MB/s eta 0:00:02\n",
      "   ------ --------------------------------- 1.4/9.4 MB 8.2 MB/s eta 0:00:01\n",
      "   -------- ------------------------------- 2.0/9.4 MB 9.3 MB/s eta 0:00:01\n",
      "   ----------- ---------------------------- 2.7/9.4 MB 10.3 MB/s eta 0:00:01\n",
      "   --------------- ------------------------ 3.6/9.4 MB 12.1 MB/s eta 0:00:01\n",
      "   ------------------- -------------------- 4.6/9.4 MB 13.5 MB/s eta 0:00:01\n",
      "   ------------------------ --------------- 5.9/9.4 MB 15.0 MB/s eta 0:00:01\n",
      "   ------------------------------- -------- 7.4/9.4 MB 16.9 MB/s eta 0:00:01\n",
      "   ---------------------------------------  9.2/9.4 MB 19.0 MB/s eta 0:00:01\n",
      "   ---------------------------------------  9.4/9.4 MB 18.8 MB/s eta 0:00:01\n",
      "   ---------------------------------------  9.4/9.4 MB 18.8 MB/s eta 0:00:01\n",
      "   ---------------------------------------- 9.4/9.4 MB 15.5 MB/s eta 0:00:00\n",
      "Downloading trio-0.25.1-py3-none-any.whl (467 kB)\n",
      "   ---------------------------------------- 0.0/467.7 kB ? eta -:--:--\n",
      "   ---------------------------------------  460.8/467.7 kB ? eta -:--:--\n",
      "   ---------------------------------------  460.8/467.7 kB ? eta -:--:--\n",
      "   ---------------------------------------- 467.7/467.7 kB 4.9 MB/s eta 0:00:00\n",
      "Downloading trio_websocket-0.11.1-py3-none-any.whl (17 kB)\n",
      "Downloading websocket_client-1.8.0-py3-none-any.whl (58 kB)\n",
      "   ---------------------------------------- 0.0/58.8 kB ? eta -:--:--\n",
      "   ---------------------------------- ----- 51.2/58.8 kB ? eta -:--:--\n",
      "   ---------------------------------------- 58.8/58.8 kB 1.0 MB/s eta 0:00:00\n",
      "Downloading attrs-23.2.0-py3-none-any.whl (60 kB)\n",
      "   ---------------------------------------- 0.0/60.8 kB ? eta -:--:--\n",
      "   --------------------------------- ------ 51.2/60.8 kB ? eta -:--:--\n",
      "   ---------------------------------------- 60.8/60.8 kB 639.4 kB/s eta 0:00:00\n",
      "Downloading wsproto-1.2.0-py3-none-any.whl (24 kB)\n",
      "Downloading outcome-1.3.0.post0-py2.py3-none-any.whl (10 kB)\n",
      "Downloading h11-0.14.0-py3-none-any.whl (58 kB)\n",
      "   ---------------------------------------- 0.0/58.3 kB ? eta -:--:--\n",
      "   ---------------------------------------- 58.3/58.3 kB 1.0 MB/s eta 0:00:00\n",
      "Installing collected packages: websocket-client, h11, attrs, wsproto, outcome, trio, trio-websocket, selenium\n",
      "  Attempting uninstall: websocket-client\n",
      "    Found existing installation: websocket-client 0.58.0\n",
      "    Uninstalling websocket-client-0.58.0:\n",
      "      Successfully uninstalled websocket-client-0.58.0\n",
      "  Attempting uninstall: attrs\n",
      "    Found existing installation: attrs 23.1.0\n",
      "    Uninstalling attrs-23.1.0:\n",
      "      Successfully uninstalled attrs-23.1.0\n",
      "Successfully installed attrs-23.2.0 h11-0.14.0 outcome-1.3.0.post0 selenium-4.22.0 trio-0.25.1 trio-websocket-0.11.1 websocket-client-1.8.0 wsproto-1.2.0\n"
     ]
    }
   ],
   "source": [
    "# 셀레니움 라이브러리 설치\n",
    "!pip install selenium"
   ]
  },
  {
   "cell_type": "code",
   "execution_count": 2,
   "id": "36779449-6f60-42b7-b526-c15e806288fd",
   "metadata": {},
   "outputs": [],
   "source": [
    "from selenium import webdriver\n",
    "from selenium.webdriver.common.by import By\n",
    "from selenium.webdriver.chrome.options import Options\n",
    "import time\n",
    "\n",
    "options = Options()\n",
    "# options.add_argument(\"--start-maximized\")\n",
    "# options.add_argument(\"--headless=new\") \n",
    "options.add_experimental_option(\"detach\", True) #특정함수안에서  드라이버 생성시 함수종료될 때 브라우저 같이 종료되는 문제 대응"
   ]
  },
  {
   "cell_type": "markdown",
   "id": "47e5e399-1f75-47fd-9a73-c8afb3cd31b8",
   "metadata": {},
   "source": [
    "## 브라우저 실행 및 페이지 접속"
   ]
  },
  {
   "cell_type": "code",
   "execution_count": 54,
   "id": "366d55a8-2199-4e3a-b897-bb54a114363c",
   "metadata": {},
   "outputs": [],
   "source": [
    "url = 'http://naver.com'\n",
    "driver = webdriver.Chrome(options=options) # 객체 생성\n",
    "\n",
    "driver.get(url) # 실행 \n",
    "\n",
    "time.sleep(2) "
   ]
  },
  {
   "cell_type": "markdown",
   "id": "1fd839c1-89cf-4254-843c-95783998cc4c",
   "metadata": {},
   "source": [
    "## 상호작용"
   ]
  },
  {
   "cell_type": "code",
   "execution_count": 4,
   "id": "5442f1f7-ee17-48dc-ba71-51c395f0c8f0",
   "metadata": {},
   "outputs": [],
   "source": [
    "driver.back()"
   ]
  },
  {
   "cell_type": "code",
   "execution_count": 5,
   "id": "99b739c0-d617-4a11-929e-864b350d7e98",
   "metadata": {},
   "outputs": [],
   "source": [
    "driver.forward()"
   ]
  },
  {
   "cell_type": "code",
   "execution_count": 6,
   "id": "b3b234e7-1d9d-4e9f-957c-fd86fdc74826",
   "metadata": {},
   "outputs": [],
   "source": [
    "driver.refresh()"
   ]
  },
  {
   "cell_type": "markdown",
   "id": "4bcaec77-84b6-4e48-a9da-81efdca580c2",
   "metadata": {},
   "source": [
    "## 페이지 정보 가져오기"
   ]
  },
  {
   "cell_type": "code",
   "execution_count": 7,
   "id": "4e3f2146-825d-46f3-bbf6-c8c5e7a0a65b",
   "metadata": {},
   "outputs": [
    {
     "name": "stdout",
     "output_type": "stream",
     "text": [
      "NAVER https://www.naver.com/ 82022B82491BCEE07C1BAFD1329515C6\n"
     ]
    }
   ],
   "source": [
    "title = driver.title\n",
    "url = driver.current_url\n",
    "handle = driver.current_window_handle\n",
    "print(title, url, handle)"
   ]
  },
  {
   "cell_type": "markdown",
   "id": "2b8276b3-51f1-4200-8e66-a313876a1ea5",
   "metadata": {},
   "source": [
    "## html 요소 찾기\n",
    "네이버 검색창을 핸들링해보자 driver.find_element().send_keys()\n",
    "\n",
    "<input id=\"query\" name=\"query\" type=\"search\" title=\"검색어를 입력해 주세요.\" placeholder=\"검색어를 입력해 주세요.\" maxlength=\"255\" autocomplete=\"off\" class=\"search_input\" data-atcmp-element=\"\">"
   ]
  },
  {
   "cell_type": "code",
   "execution_count": 8,
   "id": "616ca9d2-ad59-4053-8986-a11598c79a1a",
   "metadata": {},
   "outputs": [
    {
     "data": {
      "text/plain": [
       "\u001b[1;31mSignature:\u001b[0m \u001b[0mdriver\u001b[0m\u001b[1;33m.\u001b[0m\u001b[0mfind_element\u001b[0m\u001b[1;33m(\u001b[0m\u001b[0mby\u001b[0m\u001b[1;33m=\u001b[0m\u001b[1;34m'id'\u001b[0m\u001b[1;33m,\u001b[0m \u001b[0mvalue\u001b[0m\u001b[1;33m:\u001b[0m \u001b[0mOptional\u001b[0m\u001b[1;33m[\u001b[0m\u001b[0mstr\u001b[0m\u001b[1;33m]\u001b[0m \u001b[1;33m=\u001b[0m \u001b[1;32mNone\u001b[0m\u001b[1;33m)\u001b[0m \u001b[1;33m->\u001b[0m \u001b[0mselenium\u001b[0m\u001b[1;33m.\u001b[0m\u001b[0mwebdriver\u001b[0m\u001b[1;33m.\u001b[0m\u001b[0mremote\u001b[0m\u001b[1;33m.\u001b[0m\u001b[0mwebelement\u001b[0m\u001b[1;33m.\u001b[0m\u001b[0mWebElement\u001b[0m\u001b[1;33m\u001b[0m\u001b[1;33m\u001b[0m\u001b[0m\n",
       "\u001b[1;31mDocstring:\u001b[0m\n",
       "Find an element given a By strategy and locator.\n",
       "\n",
       ":Usage:\n",
       "    ::\n",
       "\n",
       "        element = driver.find_element(By.ID, 'foo')\n",
       "\n",
       ":rtype: WebElement\n",
       "\u001b[1;31mFile:\u001b[0m      c:\\users\\rhals\\anaconda3\\lib\\site-packages\\selenium\\webdriver\\remote\\webdriver.py\n",
       "\u001b[1;31mType:\u001b[0m      method"
      ]
     },
     "metadata": {},
     "output_type": "display_data"
    }
   ],
   "source": [
    "driver.find_element?"
   ]
  },
  {
   "cell_type": "code",
   "execution_count": 9,
   "id": "c073a4c0-22fd-41ad-aa85-9dca2598f4c9",
   "metadata": {},
   "outputs": [
    {
     "data": {
      "text/plain": [
       "<selenium.webdriver.remote.webelement.WebElement (session=\"7ffc2a6c518692c7f95e23aff0997f18\", element=\"f.82022B82491BCEE07C1BAFD1329515C6.d.DD565F400275CC2E572C73F5CADBDDE5.e.95\")>"
      ]
     },
     "execution_count": 9,
     "metadata": {},
     "output_type": "execute_result"
    }
   ],
   "source": [
    "driver.find_element(By.ID, \"query\")"
   ]
  },
  {
   "cell_type": "code",
   "execution_count": 10,
   "id": "27b906cb-7580-4e45-9d49-16fe66d2ff7c",
   "metadata": {},
   "outputs": [],
   "source": [
    "# 키입력\n",
    "driver.find_element(By.ID, \"query\").send_keys('뉴진스')"
   ]
  },
  {
   "cell_type": "code",
   "execution_count": 11,
   "id": "d08117f9-de74-4b32-9f61-3a13a722f7db",
   "metadata": {},
   "outputs": [],
   "source": [
    "driver.find_element(By.CLASS_NAME, \"search_input\").send_keys('블랙핑크')"
   ]
  },
  {
   "cell_type": "code",
   "execution_count": 12,
   "id": "754bc88f-5674-424b-b646-d0281fa848a3",
   "metadata": {},
   "outputs": [],
   "source": [
    "driver.find_element(By.NAME, \"query\").send_keys('르세라핌')"
   ]
  },
  {
   "cell_type": "code",
   "execution_count": 13,
   "id": "c6564a73-f025-4d58-bc68-08559c739dab",
   "metadata": {},
   "outputs": [],
   "source": [
    "driver.find_element(By.CSS_SELECTOR, \".search_input\").send_keys('세븐틴')"
   ]
  },
  {
   "cell_type": "code",
   "execution_count": 14,
   "id": "d92fdee2-2c37-450a-9442-6c29a6f8e07a",
   "metadata": {},
   "outputs": [],
   "source": [
    "driver.find_element(By.CSS_SELECTOR, \"#query\").send_keys('에스파')"
   ]
  },
  {
   "cell_type": "code",
   "execution_count": 15,
   "id": "f3ea5ca9-5e87-4f36-baf5-874711565278",
   "metadata": {},
   "outputs": [],
   "source": [
    "driver.find_element(By.CSS_SELECTOR, \"[title='검색어를 입력해 주세요.']\").send_keys('트와이스')"
   ]
  },
  {
   "cell_type": "code",
   "execution_count": 16,
   "id": "e2f8032b-aedc-4e70-8fb3-d7cf425ca0db",
   "metadata": {},
   "outputs": [],
   "source": [
    "driver.find_element(By.CSS_SELECTOR, \"[placeholder='검색어를 입력해 주세요.']\").send_keys('트와이스')"
   ]
  },
  {
   "cell_type": "code",
   "execution_count": 17,
   "id": "90ec0477-9561-40b6-b39e-2fa9a4320947",
   "metadata": {},
   "outputs": [],
   "source": [
    "driver.find_element(By.XPATH,\"//*[@id='query']\").send_keys('BTS')"
   ]
  },
  {
   "cell_type": "markdown",
   "id": "92a3e6e9-06d5-4879-ac2a-aac168e6bbc5",
   "metadata": {},
   "source": [
    "## 클릭\n",
    "네이버 쇼핑 메뉴를 클릭해보자 \n",
    "driver.find_element().click()"
   ]
  },
  {
   "cell_type": "code",
   "execution_count": 55,
   "id": "e832d86c-1a05-4b53-803e-ea80acc9d3aa",
   "metadata": {},
   "outputs": [
    {
     "data": {
      "text/plain": [
       "<selenium.webdriver.remote.webelement.WebElement (session=\"bf7cacdd0c6329f93dd49c9290de0dc0\", element=\"f.F3744203F17ACE96FB1C085B743E9B82.d.563D5525E5B2ED253DE59E47FC2CF498.e.44\")>"
      ]
     },
     "execution_count": 55,
     "metadata": {},
     "output_type": "execute_result"
    }
   ],
   "source": [
    "driver.find_element(By.LINK_TEXT, '쇼핑')"
   ]
  },
  {
   "cell_type": "code",
   "execution_count": 56,
   "id": "db5f830f-8a6a-4e7f-bcc1-9c3bb93192e8",
   "metadata": {},
   "outputs": [],
   "source": [
    "driver.find_element(By.LINK_TEXT, '쇼핑').click()"
   ]
  },
  {
   "cell_type": "code",
   "execution_count": 57,
   "id": "533cc04d-e835-45f9-be24-5346472db92b",
   "metadata": {},
   "outputs": [],
   "source": [
    "# 일부 매칭\n",
    "driver.find_element(By.PARTIAL_LINK_TEXT, '쇼').click()"
   ]
  },
  {
   "cell_type": "code",
   "execution_count": 22,
   "id": "99633b2b-d572-4bcf-99f4-3a3109ba7f09",
   "metadata": {},
   "outputs": [
    {
     "data": {
      "text/plain": [
       "<selenium.webdriver.remote.webelement.WebElement (session=\"7ffc2a6c518692c7f95e23aff0997f18\", element=\"f.82022B82491BCEE07C1BAFD1329515C6.d.DD565F400275CC2E572C73F5CADBDDE5.e.331\")>"
      ]
     },
     "execution_count": 22,
     "metadata": {},
     "output_type": "execute_result"
    }
   ],
   "source": [
    "# 태그는 너무 요소가 많으므로, 정확하게 대상을 찾을 때에는 안씀\n",
    "driver.find_element(By.TAG_NAME, 'div')"
   ]
  },
  {
   "cell_type": "code",
   "execution_count": 23,
   "id": "4402223f-5e6c-447a-b21d-0bdf0568ca21",
   "metadata": {},
   "outputs": [],
   "source": [
    "# 여러개의 요소를찾을 때\n",
    "links = driver.find_elements(By.CSS_SELECTOR, '.link_service')"
   ]
  },
  {
   "cell_type": "code",
   "execution_count": 24,
   "id": "d475d18b-e786-4076-aa23-a6d4a11b2581",
   "metadata": {},
   "outputs": [
    {
     "name": "stdout",
     "output_type": "stream",
     "text": [
      "<selenium.webdriver.remote.webelement.WebElement (session=\"7ffc2a6c518692c7f95e23aff0997f18\", element=\"f.82022B82491BCEE07C1BAFD1329515C6.d.DD565F400275CC2E572C73F5CADBDDE5.e.334\")>\n",
      "<selenium.webdriver.remote.webelement.WebElement (session=\"7ffc2a6c518692c7f95e23aff0997f18\", element=\"f.82022B82491BCEE07C1BAFD1329515C6.d.DD565F400275CC2E572C73F5CADBDDE5.e.141\")>\n",
      "<selenium.webdriver.remote.webelement.WebElement (session=\"7ffc2a6c518692c7f95e23aff0997f18\", element=\"f.82022B82491BCEE07C1BAFD1329515C6.d.DD565F400275CC2E572C73F5CADBDDE5.e.146\")>\n",
      "<selenium.webdriver.remote.webelement.WebElement (session=\"7ffc2a6c518692c7f95e23aff0997f18\", element=\"f.82022B82491BCEE07C1BAFD1329515C6.d.DD565F400275CC2E572C73F5CADBDDE5.e.151\")>\n",
      "<selenium.webdriver.remote.webelement.WebElement (session=\"7ffc2a6c518692c7f95e23aff0997f18\", element=\"f.82022B82491BCEE07C1BAFD1329515C6.d.DD565F400275CC2E572C73F5CADBDDE5.e.156\")>\n",
      "<selenium.webdriver.remote.webelement.WebElement (session=\"7ffc2a6c518692c7f95e23aff0997f18\", element=\"f.82022B82491BCEE07C1BAFD1329515C6.d.DD565F400275CC2E572C73F5CADBDDE5.e.161\")>\n",
      "<selenium.webdriver.remote.webelement.WebElement (session=\"7ffc2a6c518692c7f95e23aff0997f18\", element=\"f.82022B82491BCEE07C1BAFD1329515C6.d.DD565F400275CC2E572C73F5CADBDDE5.e.166\")>\n",
      "<selenium.webdriver.remote.webelement.WebElement (session=\"7ffc2a6c518692c7f95e23aff0997f18\", element=\"f.82022B82491BCEE07C1BAFD1329515C6.d.DD565F400275CC2E572C73F5CADBDDE5.e.171\")>\n",
      "<selenium.webdriver.remote.webelement.WebElement (session=\"7ffc2a6c518692c7f95e23aff0997f18\", element=\"f.82022B82491BCEE07C1BAFD1329515C6.d.DD565F400275CC2E572C73F5CADBDDE5.e.176\")>\n",
      "<selenium.webdriver.remote.webelement.WebElement (session=\"7ffc2a6c518692c7f95e23aff0997f18\", element=\"f.82022B82491BCEE07C1BAFD1329515C6.d.DD565F400275CC2E572C73F5CADBDDE5.e.181\")>\n",
      "<selenium.webdriver.remote.webelement.WebElement (session=\"7ffc2a6c518692c7f95e23aff0997f18\", element=\"f.82022B82491BCEE07C1BAFD1329515C6.d.DD565F400275CC2E572C73F5CADBDDE5.e.187\")>\n",
      "<selenium.webdriver.remote.webelement.WebElement (session=\"7ffc2a6c518692c7f95e23aff0997f18\", element=\"f.82022B82491BCEE07C1BAFD1329515C6.d.DD565F400275CC2E572C73F5CADBDDE5.e.192\")>\n"
     ]
    }
   ],
   "source": [
    "for link in links:\n",
    "    print(link)"
   ]
  },
  {
   "cell_type": "code",
   "execution_count": 26,
   "id": "9b2c2be8-9e2c-4ba1-b7ab-f9ab063ecbb4",
   "metadata": {},
   "outputs": [
    {
     "name": "stdout",
     "output_type": "stream",
     "text": [
      "https://mail.naver.com/\n",
      "\n",
      "https://cafe.naver.com/\n",
      "\n",
      "https://blog.naver.com/\n",
      "\n",
      "https://shopping.naver.com/home\n",
      "\n",
      "https://news.naver.com/\n",
      "\n",
      "https://finance.naver.com/\n",
      "\n",
      "https://land.naver.com/\n",
      "\n",
      "https://map.naver.com/\n",
      "\n",
      "https://comic.naver.com/\n",
      "\n",
      "https://chzzk.naver.com/\n",
      "\n",
      "https://www.naver.com/#\n",
      "\n",
      "https://siape.veta.naver.com/rd?rk=-Ls85yLdls8HWAqDZCDbxg&eltts=n4gbb%2F%2FqImBcWoQg0%2B%2Bcjw%3D%3D&elu=5BA297C9C3C09BC2A363AD20A2AF2280AA600BB0F1224856B1E3B0CD8C7D5F6341BB3F4A77A5F39CD5816E901BFB74C92B046500D36C473274A2DF28B9D9C604F0D8675FDAF22A996AAEFDEE92BA1FCD697E5F7ECC82BD74C279AA95D9F31FA9106C54B228F25590EF823CA4768D621930DE9513FAD9CD3EC5D5F708FBFC00BDA1F5B03C00EADE3421C9D4FE1E658652E8C5A37BBB18D79B4D542EF9B859195A8B5F3CB5F7D17DF7D63104BA36F5191223192AE294E03593BF7CA3B054BF55FF7DF70D50D25D1F0D4D87A7831487FDC2AFB8FEA841F79F16EA53276AF68816C7A149514203E223A19FA55EAAC4E98561256439BD31A8DEFDBC8CEF82F716E628B23F8C3BFA407A51086748714615D78698A603B1B20D8157A049045EADF303C7C90C945E9B6678B41330B37AAA80FDCE0589F05E39A2DECC900ED27DE4327494D8CC07C1B67CE038EFBDA44E52E5B715A3EC5A3F07FD7CCDECDFCA955A7B6FCB11DFA46E51BA4203609299CFB488F993296C5387E386A488064288B95F527FA540946C8672D26BA42D643227D77736CF&tr=ndp\n",
      "\n"
     ]
    }
   ],
   "source": [
    "# https://www.browserstack.com/guide/get-html-source-of-web-element-in-selenium-webdriver\n",
    "# 해당 클래스가 속한 요소의 자식 html을 출력\n",
    "for link in links:\n",
    "    print(link.get_attribute(\"href\")) \n",
    "    print()"
   ]
  },
  {
   "cell_type": "markdown",
   "id": "3c219499-e2e1-4251-9a79-e1a116b474e0",
   "metadata": {},
   "source": [
    "## 자동 로그인 연습"
   ]
  },
  {
   "cell_type": "code",
   "execution_count": 60,
   "id": "8d1baaa9-eb0a-46b8-887c-efe31488381e",
   "metadata": {},
   "outputs": [],
   "source": [
    "# 테스트용 html\n",
    "# url = 'file:///C:/workspace/python/WASSUP/02_Data_Collection/sample/signin.html'\n",
    "url = 'file:///C:/workspace/wassup3/02_Python_Collection/sample/signin.html'\n",
    "driver = webdriver.Chrome(options=options)\n",
    "driver.get(url)\n",
    "time.sleep(2) "
   ]
  },
  {
   "cell_type": "code",
   "execution_count": 61,
   "id": "b0fa8c5f-599c-4ce3-ba59-f9273c5599cd",
   "metadata": {},
   "outputs": [],
   "source": [
    "username = driver.find_element(By.NAME, \"username\")\n",
    "username.send_keys('korea')"
   ]
  },
  {
   "cell_type": "code",
   "execution_count": 62,
   "id": "9a47d146-77e0-4b70-85e3-e7ccb6330947",
   "metadata": {},
   "outputs": [],
   "source": [
    "username = driver.find_element(By.NAME, \"password\")\n",
    "username.send_keys('1004')"
   ]
  },
  {
   "cell_type": "code",
   "execution_count": 63,
   "id": "2d33bc0c-032b-47f7-8cc6-b16502427c61",
   "metadata": {},
   "outputs": [],
   "source": [
    "login =  driver.find_element(By.XPATH, '//*[@id=\"loginForm\"]/input[3]')\n",
    "login.click()"
   ]
  },
  {
   "cell_type": "code",
   "execution_count": 64,
   "id": "d0c50366-40d9-4d28-9d39-3d24477e887e",
   "metadata": {},
   "outputs": [],
   "source": [
    "driver.back()"
   ]
  },
  {
   "cell_type": "code",
   "execution_count": 65,
   "id": "a3e6144e-1f05-4083-8b67-7f95bb610614",
   "metadata": {},
   "outputs": [],
   "source": [
    "login =  driver.find_element(By.CSS_SELECTOR, \"#loginForm > input[type=submit]:nth-child(5)\")\n",
    "login.click()"
   ]
  },
  {
   "cell_type": "code",
   "execution_count": 66,
   "id": "4332b6d8-3e71-4c07-89d8-b69085285d82",
   "metadata": {},
   "outputs": [],
   "source": [
    "driver.back()"
   ]
  },
  {
   "cell_type": "code",
   "execution_count": 67,
   "id": "5874c46c-dd61-42a6-87dd-8faa2ed36cf0",
   "metadata": {},
   "outputs": [],
   "source": [
    "login =  driver.find_element(By.CSS_SELECTOR, \"#loginForm > input[type=submit]:nth-child(5)\")\n",
    "login.click()"
   ]
  },
  {
   "cell_type": "code",
   "execution_count": 68,
   "id": "2ffb9c68-d97d-47c8-ac93-260857f725b6",
   "metadata": {},
   "outputs": [],
   "source": [
    "driver.back()"
   ]
  },
  {
   "cell_type": "code",
   "execution_count": 69,
   "id": "fb5807d4-b2cf-45ad-a01b-0d087d0b3009",
   "metadata": {},
   "outputs": [],
   "source": [
    "login =  driver.find_element(By.CSS_SELECTOR, \"[value='Login']\")\n",
    "login.click()"
   ]
  },
  {
   "cell_type": "code",
   "execution_count": 70,
   "id": "769dbb02-f887-458e-9f19-5d2c84bbf35f",
   "metadata": {},
   "outputs": [],
   "source": [
    "driver.back()"
   ]
  },
  {
   "cell_type": "code",
   "execution_count": 71,
   "id": "90da3afc-e984-4a03-a923-c61d6f4b15ac",
   "metadata": {},
   "outputs": [],
   "source": [
    "# 입력창 clear 하기\n",
    "# 세션끊기면 다시 접근해야함\n",
    "username = driver.find_element(By.NAME, \"username\")\n",
    "username.clear()"
   ]
  },
  {
   "cell_type": "code",
   "execution_count": 72,
   "id": "44445330-a9af-495b-9ab5-4c9ddc682045",
   "metadata": {},
   "outputs": [],
   "source": [
    "username.submit()"
   ]
  },
  {
   "cell_type": "code",
   "execution_count": 73,
   "id": "55a3a805-c406-4921-a414-12289abfe50a",
   "metadata": {},
   "outputs": [],
   "source": [
    "driver.back()"
   ]
  },
  {
   "cell_type": "code",
   "execution_count": 74,
   "id": "97c5eb49-82b9-4f4c-9b08-9e44a6cc8007",
   "metadata": {},
   "outputs": [
    {
     "data": {
      "text/plain": [
       "'Are you sure you want to do this?'"
      ]
     },
     "execution_count": 74,
     "metadata": {},
     "output_type": "execute_result"
    }
   ],
   "source": [
    "driver.find_element(By.TAG_NAME, 'p').text"
   ]
  },
  {
   "cell_type": "code",
   "execution_count": 75,
   "id": "790faa36-99a5-4cee-8e5a-049eace9b3db",
   "metadata": {},
   "outputs": [
    {
     "data": {
      "text/plain": [
       "'<html><head></head><body>\\n        <h1> Sign In </h1>\\n        <form action=\"moved.html\" id=\"loginForm\">\\n            ID : <input name=\"username\" type=\"text\"> <br>\\n            Password : <input name=\"password\" type=\"password\"> <br>\\n\\n            <input name=\"continue\" type=\"submit\" value=\"Login\">\\n            <input name=\"continue\" type=\"button\" value=\"Clear\">\\n        \\n        </form>\\n\\n        <p>Are you sure you want to do this?</p>\\n        <a href=\"continue.html\">Continue</a>\\n        <a href=\"cancel.html\">Cancel</a>\\n\\n        <h1>Welcome</h1>\\n        <p>Site content goes here.</p>\\n        <p class=\"content\">Site content goes here.</p>\\n    \\n</body></html>'"
      ]
     },
     "execution_count": 75,
     "metadata": {},
     "output_type": "execute_result"
    }
   ],
   "source": [
    "# html 소스 가져오기\n",
    "driver.page_source"
   ]
  },
  {
   "cell_type": "code",
   "execution_count": 76,
   "id": "b0a9df62-ce1b-4970-a9ec-ac9016d7fdbd",
   "metadata": {},
   "outputs": [],
   "source": [
    "driver.close()"
   ]
  },
  {
   "cell_type": "code",
   "execution_count": null,
   "id": "b9dd09d3-9286-4f8b-ae92-f515e331df93",
   "metadata": {},
   "outputs": [],
   "source": []
  },
  {
   "cell_type": "code",
   "execution_count": null,
   "id": "08e4ea91-e5f0-4b3f-ab87-fe1e0c2d68ac",
   "metadata": {},
   "outputs": [],
   "source": []
  }
 ],
 "metadata": {
  "kernelspec": {
   "display_name": "Python 3 (ipykernel)",
   "language": "python",
   "name": "python3"
  },
  "language_info": {
   "codemirror_mode": {
    "name": "ipython",
    "version": 3
   },
   "file_extension": ".py",
   "mimetype": "text/x-python",
   "name": "python",
   "nbconvert_exporter": "python",
   "pygments_lexer": "ipython3",
   "version": "3.11.7"
  }
 },
 "nbformat": 4,
 "nbformat_minor": 5
}
