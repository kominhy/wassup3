{
 "cells": [
  {
   "cell_type": "code",
   "execution_count": 6,
   "id": "be594103-124f-4f5c-9648-375fd4233b79",
   "metadata": {},
   "outputs": [
    {
     "name": "stdin",
     "output_type": "stream",
     "text": [
      "타이머 입력: 4\n"
     ]
    },
    {
     "name": "stdout",
     "output_type": "stream",
     "text": [
      "0\n",
      "1\n",
      "2\n",
      "3\n",
      "1 번째줄 :  13, 25, 8, 19, 21, 20\n",
      "2 번째줄 :  10, 36, 8, 15, 35, 27\n",
      "3 번째줄 :  27, 12, 23, 25, 28, 21\n",
      "4 번째줄 :  20, 4, 5, 9, 18, 26\n",
      "5 번째줄 :  13, 27, 21, 38, 4, 11\n"
     ]
    }
   ],
   "source": [
    "# 로또 번호 생성기\n",
    "import time\n",
    "t = input('타이머 입력:')\n",
    "for i in range(int(t)) :\n",
    "    print(i)\n",
    "    time.sleep(1)\n",
    "\n",
    "\n",
    "\n",
    "import random\n",
    "\n",
    "lotto = []\n",
    "\n",
    "nums = range(1,46)\n",
    "\n",
    "for i in range(5) :\n",
    "    lotto = random.sample(nums, 6)\n",
    "    list = str(lotto)\n",
    "    print(i+1,'번째줄 : ', list[1:-1]) # 괄호 제거\n",
    "    \n",
    "    lotto = [] #초기화"
   ]
  },
  {
   "cell_type": "code",
   "execution_count": null,
   "id": "4affdb77-6682-4883-a5b0-b889092d9b0a",
   "metadata": {},
   "outputs": [],
   "source": []
  }
 ],
 "metadata": {
  "kernelspec": {
   "display_name": "Python 3 (ipykernel)",
   "language": "python",
   "name": "python3"
  },
  "language_info": {
   "codemirror_mode": {
    "name": "ipython",
    "version": 3
   },
   "file_extension": ".py",
   "mimetype": "text/x-python",
   "name": "python",
   "nbconvert_exporter": "python",
   "pygments_lexer": "ipython3",
   "version": "3.11.7"
  }
 },
 "nbformat": 4,
 "nbformat_minor": 5
}
