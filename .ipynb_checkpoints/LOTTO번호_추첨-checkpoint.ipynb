{
 "cells": [
  {
   "cell_type": "markdown",
   "id": "20feec7e-0460-41fa-a966-dc5092d8a218",
   "metadata": {},
   "source": [
    "# LOTTO 번호 추첨"
   ]
  },
  {
   "cell_type": "code",
   "execution_count": 11,
   "id": "7a87b15e-a215-484b-8f70-00c4ef5323ec",
   "metadata": {},
   "outputs": [
    {
     "name": "stdout",
     "output_type": "stream",
     "text": [
      "[10, 20, 3, 33, 38, 14]\n"
     ]
    }
   ],
   "source": [
    "# 45개 중 랜덤이여서 중복이 발생할 수 있음\n",
    "lotto = []\n",
    "for i in range(6) :\n",
    "    if lotto != random.randint(1, 45) :\n",
    "            lotto.append(random.randint(1, 45))\n",
    "print(lotto)"
   ]
  },
  {
   "cell_type": "code",
   "execution_count": 48,
   "id": "3fbd14e6-95f9-45a7-b249-22fdfef9bfab",
   "metadata": {},
   "outputs": [
    {
     "data": {
      "text/plain": [
       "False"
      ]
     },
     "execution_count": 48,
     "metadata": {},
     "output_type": "execute_result"
    }
   ],
   "source": [
    "a = [1,2,3,4,5]\n",
    "b = [1]\n",
    "\n",
    "a == b"
   ]
  },
  {
   "cell_type": "code",
   "execution_count": 5,
   "id": "25719ea2-14f0-47db-9d2c-a03cdaf93337",
   "metadata": {},
   "outputs": [
    {
     "name": "stdout",
     "output_type": "stream",
     "text": [
      "[8, 21, 28, 31, 40, 41]\n"
     ]
    }
   ],
   "source": [
    "import random\n",
    "random.seed(240618)\n",
    "data = list(range(1, 46))\n",
    "random.shuffle(data)\n",
    "로또 = data[:6]\n",
    "로또.sort()\n",
    "print(로또)"
   ]
  },
  {
   "cell_type": "code",
   "execution_count": null,
   "id": "ca4c1631-9b39-4e84-aae5-79a4791ce1cc",
   "metadata": {},
   "outputs": [],
   "source": [
    "lotto = []\n",
    "data = range(1,46)\n",
    "for i in range(6):\n",
    "    a = random.choice(dat)\n",
    "    lotto.append(a)\n",
    "    data.remove(a)"
   ]
  },
  {
   "cell_type": "code",
   "execution_count": 43,
   "id": "50af0c8f-c996-40a9-8db7-77ed1d433ec2",
   "metadata": {},
   "outputs": [
    {
     "name": "stdout",
     "output_type": "stream",
     "text": [
      "[17, 37, 27, 25, 14, 39, 40, 13, 38, 5, 18, 12, 39, 21, 10, 28, 33, 17, 23, 28, 23, 14, 28, 7, 28, 22, 28, 1, 30, 32]\n"
     ]
    }
   ],
   "source": [
    "# 로또 번호 5개 나오게 하기\n",
    "import random\n",
    "lotto = []\n",
    "for a in range(5) :\n",
    "    for i in range(6) :\n",
    "        a = random.randint(1, 45)\n",
    "        if lotto != a :\n",
    "            lotto.append(a)\n",
    "            \n",
    "print(lotto)\n"
   ]
  },
  {
   "cell_type": "code",
   "execution_count": 5,
   "id": "9034a609-5464-41bc-b518-450241830d01",
   "metadata": {},
   "outputs": [
    {
     "name": "stdout",
     "output_type": "stream",
     "text": [
      "Set 1: [17, 4, 16, 32, 14, 12]\n",
      "Set 2: [23, 2, 5, 24, 38, 4]\n",
      "Set 3: [28, 5, 25, 11, 18, 7]\n",
      "Set 4: [14, 2, 5, 25, 34, 21]\n",
      "Set 5: [34, 41, 11, 12, 8, 25]\n",
      "~.~ 1등 당첨 가즈앙!! ~.~\n"
     ]
    }
   ],
   "source": [
    "import random\n",
    "\n",
    "def 로또번호생성():\n",
    "    return random.sample(range(1, 46), 6)\n",
    "\n",
    "for i in range(5):\n",
    "    번호생성 = 로또번호생성()\n",
    "    print(f\"Set {i + 1}: {번호생성}\")\n",
    "random.seed(20240619)\n",
    "print('~.~ 1등 당첨 가즈앙!! ~.~')"
   ]
  },
  {
   "cell_type": "code",
   "execution_count": 97,
   "id": "c3aa48bc-8e37-4ef2-916f-aca57bbe62a8",
   "metadata": {},
   "outputs": [
    {
     "name": "stdout",
     "output_type": "stream",
     "text": [
      "1 번째줄 :  26, 13, 30, 23, 6, 32\n",
      "2 번째줄 :  41, 29, 11, 22, 38, 18\n",
      "3 번째줄 :  26, 21, 32, 24, 39, 33\n",
      "4 번째줄 :  42, 15, 38, 18, 11, 20\n",
      "5 번째줄 :  12, 24, 36, 5, 8, 10\n"
     ]
    }
   ],
   "source": [
    "# 로또 번호 생성기\n",
    "\n",
    "import random\n",
    "\n",
    "lotto = []\n",
    "nums = range(1,46)\n",
    "\n",
    "for i in range(5) :\n",
    "    lotto = random.sample(nums, 6)\n",
    "    list = str(lotto)\n",
    "    print(i+1,'번째줄 : ', list[1:-1]) # 괄호 제거\n",
    "    \n",
    "    lotto = [] #초기화"
   ]
  },
  {
   "cell_type": "code",
   "execution_count": 96,
   "id": "50c17618-8ba4-4e4d-80d6-f8fb818ef074",
   "metadata": {},
   "outputs": [
    {
     "name": "stdout",
     "output_type": "stream",
     "text": [
      "1, 2, 3, 4, 55\n"
     ]
    }
   ],
   "source": [
    "# 리스트에서 괄호 없애기\n",
    "a = [1, 2, 3, 4, 55]\n",
    "\n",
    "b = str(a)\n",
    "print(b[1:-1])"
   ]
  },
  {
   "cell_type": "code",
   "execution_count": 52,
   "id": "94441083-604d-44f9-9427-35c4fec05658",
   "metadata": {
    "scrolled": true
   },
   "outputs": [
    {
     "data": {
      "text/plain": [
       "[1,\n",
       " 2,\n",
       " 3,\n",
       " 4,\n",
       " 5,\n",
       " 6,\n",
       " 7,\n",
       " 8,\n",
       " 9,\n",
       " 10,\n",
       " 11,\n",
       " 12,\n",
       " 13,\n",
       " 14,\n",
       " 15,\n",
       " 16,\n",
       " 17,\n",
       " 18,\n",
       " 19,\n",
       " 20,\n",
       " 21,\n",
       " 22,\n",
       " 23,\n",
       " 24,\n",
       " 25,\n",
       " 26,\n",
       " 27,\n",
       " 28,\n",
       " 29,\n",
       " 30,\n",
       " 31,\n",
       " 32,\n",
       " 33,\n",
       " 34,\n",
       " 35,\n",
       " 36,\n",
       " 37,\n",
       " 38,\n",
       " 39,\n",
       " 40,\n",
       " 41,\n",
       " 42,\n",
       " 43,\n",
       " 44,\n",
       " 45]"
      ]
     },
     "execution_count": 52,
     "metadata": {},
     "output_type": "execute_result"
    }
   ],
   "source": [
    "list(range(1,46))"
   ]
  },
  {
   "cell_type": "code",
   "execution_count": 59,
   "id": "40c6558e-e0fd-4735-be8a-611faf323c90",
   "metadata": {},
   "outputs": [
    {
     "data": {
      "text/plain": [
       "[(4, 5, 6), 2, 3]"
      ]
     },
     "execution_count": 59,
     "metadata": {},
     "output_type": "execute_result"
    }
   ],
   "source": [
    "i = [1,2,3]\n",
    "i[0] = 4,5,6\n",
    "i[0]\n",
    "i"
   ]
  }
 ],
 "metadata": {
  "kernelspec": {
   "display_name": "Python 3 (ipykernel)",
   "language": "python",
   "name": "python3"
  },
  "language_info": {
   "codemirror_mode": {
    "name": "ipython",
    "version": 3
   },
   "file_extension": ".py",
   "mimetype": "text/x-python",
   "name": "python",
   "nbconvert_exporter": "python",
   "pygments_lexer": "ipython3",
   "version": "3.11.7"
  }
 },
 "nbformat": 4,
 "nbformat_minor": 5
}
