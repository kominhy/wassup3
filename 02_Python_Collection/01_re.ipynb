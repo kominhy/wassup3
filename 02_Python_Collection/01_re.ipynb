{
 "cells": [
  {
   "cell_type": "markdown",
   "id": "13202b08-146a-403c-9dc9-d9cd9310a247",
   "metadata": {},
   "source": [
    "# BeautifulSoup\n",
    "\n",
    "1. 프로세스   \n",
    " - 웹 접속 및 HTML코드 (str) 추출   \n",
    " - request library : 정적페이지(html구조)에 활용   \n",
    " - selenium library : 동적페이지(javascript 구조)에 활용   \n",
    "\n",
    "2. 계층구조(DOM)로 변환 : DOM이란?   \n",
    " - BeutifulSoup(소스코드, 파서-해석기)\n",
    "\n",
    "3. 검색 후 추출   \n",
    " - find와 select의 차이, select는 css 구분자 사용, 관계 연결 가능   \n",
    " - find와 select와 조건 방식이 다름   \n",
    " - soup.find /.findall(‘태그’, id=’orange’, class= ‘fruit’) , class는 예약어이기 때문   \n",
    " - soup.select /select_one (‘태그’, ‘#orange’, ‘.fruit’)   \n",
    " - find 와 select_one은 단일 태그값 만 반환   \n",
    " - find_all과 select는 모든 tag를 list로 반환   "
   ]
  },
  {
   "cell_type": "code",
   "execution_count": 1,
   "id": "3c780b0a-7e95-46ee-98ac-c4435cd009e0",
   "metadata": {},
   "outputs": [],
   "source": [
    "from bs4 import BeautifulSoup\n",
    "import lxml"
   ]
  },
  {
   "cell_type": "code",
   "execution_count": 2,
   "id": "08701b6f-551b-45bb-a3db-70fcd2445e29",
   "metadata": {},
   "outputs": [
    {
     "data": {
      "text/plain": [
       "'C:\\\\workspace\\\\wassup3\\\\02_Python_Collection'"
      ]
     },
     "execution_count": 2,
     "metadata": {},
     "output_type": "execute_result"
    }
   ],
   "source": [
    "pwd #현재 위치"
   ]
  },
  {
   "cell_type": "code",
   "execution_count": 4,
   "id": "e48fe5bb-a227-4315-9557-d348608fa19c",
   "metadata": {},
   "outputs": [],
   "source": [
    "# sample\n",
    "html = '''\n",
    "<div id=prices >\n",
    "    <table >\n",
    "        <tr class=bb>\n",
    "            <th class=\"bb lm lft\">Date\n",
    "            <th class=\"rgt bb\">Open\n",
    "            <th class=\"rgt bb\">High\n",
    "            <th class=\"rgt bb\">Low\n",
    "            <th class=\"rgt bb\">Close\n",
    "            <th class=\"rgt bb rm\">Volume\n",
    "        <tr>\n",
    "            <td class=\"lm\">Feb 28, 2014\n",
    "            <td class=\"rgt\">100.71\n",
    "            <td class=\"rgt\">100.71\n",
    "            <td class=\"rgt\">100.71\n",
    "            <td class=\"rgt\">100.71\n",
    "            <td class=\"rgt rm\">0\n",
    "     </table>\n",
    "\n",
    "'''"
   ]
  },
  {
   "cell_type": "code",
   "execution_count": 5,
   "id": "bb006c37-8748-4fb4-86f1-7596b0f03677",
   "metadata": {},
   "outputs": [
    {
     "data": {
      "text/plain": [
       "<html><body><div id=\"prices\">\n",
       "<table>\n",
       "<tr class=\"bb\">\n",
       "<th class=\"bb lm lft\">Date\n",
       "            </th><th class=\"rgt bb\">Open\n",
       "            </th><th class=\"rgt bb\">High\n",
       "            </th><th class=\"rgt bb\">Low\n",
       "            </th><th class=\"rgt bb\">Close\n",
       "            </th><th class=\"rgt bb rm\">Volume\n",
       "        </th></tr><tr>\n",
       "<td class=\"lm\">Feb 28, 2014\n",
       "            </td><td class=\"rgt\">100.71\n",
       "            </td><td class=\"rgt\">100.71\n",
       "            </td><td class=\"rgt\">100.71\n",
       "            </td><td class=\"rgt\">100.71\n",
       "            </td><td class=\"rgt rm\">0\n",
       "     </td></tr></table>\n",
       "</div></body></html>"
      ]
     },
     "execution_count": 5,
     "metadata": {},
     "output_type": "execute_result"
    }
   ],
   "source": [
    "BeautifulSoup(html, 'lxml')"
   ]
  },
  {
   "cell_type": "code",
   "execution_count": 6,
   "id": "5932067a-a5a1-4231-9284-c77169faadc9",
   "metadata": {},
   "outputs": [],
   "source": [
    "html_file = open('sample/market.html', encoding='utf-8')\n",
    "html_src = html_file.read()\n",
    "html_file.close()"
   ]
  },
  {
   "cell_type": "code",
   "execution_count": 7,
   "id": "be546c13-2d00-49ee-abba-fea658ca4ced",
   "metadata": {},
   "outputs": [
    {
     "data": {
      "text/plain": [
       "'<html>\\n    <body>\\n        <h1> 과일 목록 </h1>\\n        <div>\\n                <p id=\\'banana\\' class=\\'fruit\\' title=\\'바나나\\'>\\n                      <span class = \\'price\\'> 3000원 </span>\\n                      <span class = \\'count\\'> 10개 </span>\\n                      <span class = \\'store\\'> 바나나가게 </span>\\n                      <a href = \\'https://www.banana.com\\'> banana.com </a>\\n                </p>\\n                <p id=\\'cherry\\' class=\\'fruit\\' title=\\'체리\\'>\\n                    <span class = \\'price\\'> 100원 </span>\\n                    <span class = \\'count\\'> 50개 </span>\\n                    <span class = \\'store\\'> 체리가게</span>\\n                    <a href = \\'https://www.cherry.com\\'> cherry.com </a>\\n                </p>\\n                <p id=\\'orange\\' class=\\'fruit best\\' title=\\'오렌지\\'>\\n                    <span class = \\'price\\'> 500원 </span>\\n                    <span class = \\'count\\'> 20개 </span>\\n                    <span class = \\'store\\'> 오렌지가게</span>\\n                    <a href = \\'https://www.orange.com\\'> orange.com </a>\\n                    <span>\\n                        <a href=\"https://www.orange.blog/\">오렌지 효능</a>\\n                    </span>\\n                </p>\\n        </div>\\n    </body> \\n</html>'"
      ]
     },
     "execution_count": 7,
     "metadata": {},
     "output_type": "execute_result"
    }
   ],
   "source": [
    "html_src"
   ]
  },
  {
   "cell_type": "code",
   "execution_count": 8,
   "id": "c1424d77-014e-4dfa-b1b4-710fd5d407e4",
   "metadata": {},
   "outputs": [
    {
     "name": "stdout",
     "output_type": "stream",
     "text": [
      "<html>\n",
      "    <body>\n",
      "        <h1> 과일 목록 </h1>\n",
      "        <div>\n",
      "                <p id='banana' class='fruit' title='바나나'>\n",
      "                      <span class = 'price'> 3000원 </span>\n",
      "                      <span class = 'count'> 10개 </span>\n",
      "                      <span class = 'store'> 바나나가게 </span>\n",
      "                      <a href = 'https://www.banana.com'> banana.com </a>\n",
      "                </p>\n",
      "                <p id='cherry' class='fruit' title='체리'>\n",
      "                    <span class = 'price'> 100원 </span>\n",
      "                    <span class = 'count'> 50개 </span>\n",
      "                    <span class = 'store'> 체리가게</span>\n",
      "                    <a href = 'https://www.cherry.com'> cherry.com </a>\n",
      "                </p>\n",
      "                <p id='orange' class='fruit best' title='오렌지'>\n",
      "                    <span class = 'price'> 500원 </span>\n",
      "                    <span class = 'count'> 20개 </span>\n",
      "                    <span class = 'store'> 오렌지가게</span>\n",
      "                    <a href = 'https://www.orange.com'> orange.com </a>\n",
      "                    <span>\n",
      "                        <a href=\"https://www.orange.blog/\">오렌지 효능</a>\n",
      "                    </span>\n",
      "                </p>\n",
      "        </div>\n",
      "    </body> \n",
      "</html>\n"
     ]
    }
   ],
   "source": [
    "print(html_src)"
   ]
  },
  {
   "cell_type": "code",
   "execution_count": 9,
   "id": "3866e800-38a9-46d4-894e-05a0b4bb11ec",
   "metadata": {},
   "outputs": [],
   "source": [
    "# DOM구조로 변환(구문 분석)\n",
    "soup = BeautifulSoup(html_src, 'lxml')"
   ]
  },
  {
   "cell_type": "code",
   "execution_count": 10,
   "id": "2ce46528-1d84-4ba7-946c-60ab12115bd2",
   "metadata": {},
   "outputs": [
    {
     "data": {
      "text/plain": [
       "<html>\n",
       "<body>\n",
       "<h1> 과일 목록 </h1>\n",
       "<div>\n",
       "<p class=\"fruit\" id=\"banana\" title=\"바나나\">\n",
       "<span class=\"price\"> 3000원 </span>\n",
       "<span class=\"count\"> 10개 </span>\n",
       "<span class=\"store\"> 바나나가게 </span>\n",
       "<a href=\"https://www.banana.com\"> banana.com </a>\n",
       "</p>\n",
       "<p class=\"fruit\" id=\"cherry\" title=\"체리\">\n",
       "<span class=\"price\"> 100원 </span>\n",
       "<span class=\"count\"> 50개 </span>\n",
       "<span class=\"store\"> 체리가게</span>\n",
       "<a href=\"https://www.cherry.com\"> cherry.com </a>\n",
       "</p>\n",
       "<p class=\"fruit best\" id=\"orange\" title=\"오렌지\">\n",
       "<span class=\"price\"> 500원 </span>\n",
       "<span class=\"count\"> 20개 </span>\n",
       "<span class=\"store\"> 오렌지가게</span>\n",
       "<a href=\"https://www.orange.com\"> orange.com </a>\n",
       "<span>\n",
       "<a href=\"https://www.orange.blog/\">오렌지 효능</a>\n",
       "</span>\n",
       "</p>\n",
       "</div>\n",
       "</body>\n",
       "</html>"
      ]
     },
     "execution_count": 10,
     "metadata": {},
     "output_type": "execute_result"
    }
   ],
   "source": [
    "soup"
   ]
  },
  {
   "cell_type": "code",
   "execution_count": 11,
   "id": "bd6b83f1-17e0-473a-996e-465c62d108ec",
   "metadata": {},
   "outputs": [
    {
     "data": {
      "text/plain": [
       "bs4.BeautifulSoup"
      ]
     },
     "execution_count": 11,
     "metadata": {},
     "output_type": "execute_result"
    }
   ],
   "source": [
    "type(soup)"
   ]
  },
  {
   "cell_type": "markdown",
   "id": "3b789f81-b2b0-48ee-8bae-9a660b33c34b",
   "metadata": {},
   "source": [
    "# 메서드를 사용한 요소 탐색\n",
    "find   \n",
    "    soup.find/find_all(태그, id=orange, class_= ‘fruit)   \n",
    "    #class는 예약어이기 때문에 class_으로 매개변수명을 구분함  \n",
    " - soup.find(name = \"요소명\") : 첫번째 요소 찾기   \n",
    " - soup.find(attrs = {\"속성\":\"값\"})   \n",
    " - soup.find(속성 = \"값\") # 키워드 가변 인수   \n",
    " - soup.find(string = \"텍스트\")   \n",
    " - soup.find(recursive = \"True\") # 기본값, 후손 요소 전체에서 검색   \n",
    " - soup.find(reculsive = \"False\") # 직계 자식 내에서만 검색   \n",
    " - soup.find_all() : 모든 요소 찾기   \n",
    " - name, attrs, string, **kwargs, recursive, limit(final_all에서만 가능, limit=2는 2개만 찾기)"
   ]
  },
  {
   "cell_type": "code",
   "execution_count": 13,
   "id": "02116e9e-dfe4-42bd-baa5-10d826fff765",
   "metadata": {},
   "outputs": [
    {
     "data": {
      "text/plain": [
       "\u001b[1;31mSignature:\u001b[0m \u001b[0msoup\u001b[0m\u001b[1;33m.\u001b[0m\u001b[0mfind\u001b[0m\u001b[1;33m(\u001b[0m\u001b[0mname\u001b[0m\u001b[1;33m=\u001b[0m\u001b[1;32mNone\u001b[0m\u001b[1;33m,\u001b[0m \u001b[0mattrs\u001b[0m\u001b[1;33m=\u001b[0m\u001b[1;33m{\u001b[0m\u001b[1;33m}\u001b[0m\u001b[1;33m,\u001b[0m \u001b[0mrecursive\u001b[0m\u001b[1;33m=\u001b[0m\u001b[1;32mTrue\u001b[0m\u001b[1;33m,\u001b[0m \u001b[0mstring\u001b[0m\u001b[1;33m=\u001b[0m\u001b[1;32mNone\u001b[0m\u001b[1;33m,\u001b[0m \u001b[1;33m**\u001b[0m\u001b[0mkwargs\u001b[0m\u001b[1;33m)\u001b[0m\u001b[1;33m\u001b[0m\u001b[1;33m\u001b[0m\u001b[0m\n",
       "\u001b[1;31mDocstring:\u001b[0m\n",
       "Look in the children of this PageElement and find the first\n",
       "PageElement that matches the given criteria.\n",
       "\n",
       "All find_* methods take a common set of arguments. See the online\n",
       "documentation for detailed explanations.\n",
       "\n",
       ":param name: A filter on tag name.\n",
       ":param attrs: A dictionary of filters on attribute values.\n",
       ":param recursive: If this is True, find() will perform a\n",
       "    recursive search of this PageElement's children. Otherwise,\n",
       "    only the direct children will be considered.\n",
       ":param limit: Stop looking after finding this many results.\n",
       ":kwargs: A dictionary of filters on attribute values.\n",
       ":return: A PageElement.\n",
       ":rtype: bs4.element.Tag | bs4.element.NavigableString\n",
       "\u001b[1;31mFile:\u001b[0m      c:\\users\\rhals\\anaconda3\\lib\\site-packages\\bs4\\element.py\n",
       "\u001b[1;31mType:\u001b[0m      method"
      ]
     },
     "metadata": {},
     "output_type": "display_data"
    }
   ],
   "source": [
    "soup.find?"
   ]
  },
  {
   "cell_type": "code",
   "execution_count": null,
   "id": "b60a0751-fdbf-48fb-9541-808933ba4772",
   "metadata": {},
   "outputs": [],
   "source": []
  }
 ],
 "metadata": {
  "kernelspec": {
   "display_name": "Python 3 (ipykernel)",
   "language": "python",
   "name": "python3"
  },
  "language_info": {
   "codemirror_mode": {
    "name": "ipython",
    "version": 3
   },
   "file_extension": ".py",
   "mimetype": "text/x-python",
   "name": "python",
   "nbconvert_exporter": "python",
   "pygments_lexer": "ipython3",
   "version": "3.11.7"
  }
 },
 "nbformat": 4,
 "nbformat_minor": 5
}
