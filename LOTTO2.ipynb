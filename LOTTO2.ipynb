{
 "cells": [
  {
   "cell_type": "code",
   "execution_count": null,
   "id": "be594103-124f-4f5c-9648-375fd4233b79",
   "metadata": {},
   "outputs": [
    {
     "name": "stdin",
     "output_type": "stream",
     "text": [
      "타이머 입력: 3\n"
     ]
    },
    {
     "name": "stdout",
     "output_type": "stream",
     "text": [
      "0\n",
      "1\n",
      "2\n",
      "1 번째줄 :  2, 6, 28, 42, 43, 44\n",
      "2 번째줄 :  14, 16, 40, 41, 43, 44\n",
      "3 번째줄 :  6, 9, 18, 24, 37, 39\n",
      "4 번째줄 :  5, 9, 22, 34, 43, 45\n",
      "5 번째줄 :  1, 3, 10, 12, 27, 28\n"
     ]
    }
   ],
   "source": [
    "# 로또 번호 생성기\n",
    "import time\n",
    "t = input('타이머 입력:')\n",
    "for i in range(int(t)) :\n",
    "    print(i)\n",
    "    time.sleep(1)\n",
    "\n",
    "\n",
    "\n",
    "import random\n",
    "\n",
    "lotto = []\n",
    "num = []\n",
    "nums = range(1,46)\n",
    "\n",
    "for i in range(5) :\n",
    "    lotto = random.sample(nums, 6)\n",
    "    lotto.sort()\n",
    "    list = str(lotto)\n",
    "    print(i+1,'번째줄 : ', list[1:-1]) # 괄호 제거\n",
    "    \n",
    "    lotto = [] #초기화\n",
    "\n",
    "p = input('0이면 종료')\n",
    "while p == 0 : # 자동종료 방지\n",
    "    break"
   ]
  },
  {
   "cell_type": "code",
   "execution_count": null,
   "id": "965e87f3-4850-4905-ac23-aec22952e23e",
   "metadata": {},
   "outputs": [],
   "source": []
  }
 ],
 "metadata": {
  "kernelspec": {
   "display_name": "Python 3 (ipykernel)",
   "language": "python",
   "name": "python3"
  },
  "language_info": {
   "codemirror_mode": {
    "name": "ipython",
    "version": 3
   },
   "file_extension": ".py",
   "mimetype": "text/x-python",
   "name": "python",
   "nbconvert_exporter": "python",
   "pygments_lexer": "ipython3",
   "version": "3.11.7"
  }
 },
 "nbformat": 4,
 "nbformat_minor": 5
}
