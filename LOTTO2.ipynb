{
 "cells": [
  {
   "cell_type": "code",
   "execution_count": 1,
   "id": "be594103-124f-4f5c-9648-375fd4233b79",
   "metadata": {},
   "outputs": [
    {
     "name": "stdin",
     "output_type": "stream",
     "text": [
      "타이머 입력: 3\n"
     ]
    },
    {
     "name": "stdout",
     "output_type": "stream",
     "text": [
      "0\n",
      "1\n",
      "2\n",
      "1 번째줄 :  5, 11, 21, 36, 41, 45\n",
      "2 번째줄 :  5, 16, 22, 26, 36, 43\n",
      "3 번째줄 :  3, 5, 8, 10, 39, 44\n",
      "4 번째줄 :  3, 8, 16, 20, 23, 34\n",
      "5 번째줄 :  1, 2, 10, 24, 36, 45\n"
     ]
    }
   ],
   "source": [
    "# 로또 번호 생성기\n",
    "import time\n",
    "t = input('타이머 입력:')\n",
    "for i in range(int(t)) :\n",
    "    print(i)\n",
    "    time.sleep(1)\n",
    "\n",
    "\n",
    "\n",
    "import random\n",
    "\n",
    "lotto = []\n",
    "num = []\n",
    "nums = range(1,46)\n",
    "\n",
    "for i in range(5) :\n",
    "    lotto = random.sample(nums, 6)\n",
    "    lotto.sort()\n",
    "    list = str(lotto)\n",
    "    print(i+1,'번째줄 : ', list[1:-1]) # 괄호 제거\n",
    "    \n",
    "    lotto = [] #초기화"
   ]
  },
  {
   "cell_type": "code",
   "execution_count": 29,
   "id": "4affdb77-6682-4883-a5b0-b889092d9b0a",
   "metadata": {},
   "outputs": [
    {
     "name": "stdout",
     "output_type": "stream",
     "text": [
      "1 번째줄 :  13, 15, 17, 19, 21, 30\n",
      "2 번째줄 :  1, 14, 24, 26, 37, 45\n",
      "3 번째줄 :  9, 14, 25, 26, 38, 40\n",
      "4 번째줄 :  10, 19, 21, 30, 38, 41\n",
      "5 번째줄 :  6, 24, 26, 34, 35, 36\n"
     ]
    }
   ],
   "source": [
    "# import random\n",
    "\n",
    "# lotto = []\n",
    "\n",
    "# nums = range(1,46)\n",
    "# num = []\n",
    "\n",
    "# for i in range(5) :\n",
    "#     lotto = random.sample(nums, 6)\n",
    "#     lotto.sort()\n",
    "#     list = str(lotto)\n",
    "#     print(i+1,'번째줄 : ', list[1:-1]) # 괄호 제거\n",
    "    \n",
    "#     lotto = [] #초기화"
   ]
  },
  {
   "cell_type": "code",
   "execution_count": 28,
   "id": "9bf5e866-5c52-4d91-87f3-58534f509760",
   "metadata": {},
   "outputs": [
    {
     "data": {
      "text/plain": [
       "[8, 11, 15, 21, 22, 43]"
      ]
     },
     "execution_count": 28,
     "metadata": {},
     "output_type": "execute_result"
    }
   ],
   "source": [
    "# import random\n",
    "# lotto = []\n",
    "# nums = range(1,46)\n",
    "# num = []\n",
    "# lotto = random.sample(nums, 6)\n",
    "# lotto.sort()\n",
    "# lotto"
   ]
  },
  {
   "cell_type": "code",
   "execution_count": 27,
   "id": "1cf73896-3a56-4e14-9668-1a00ab5e66cd",
   "metadata": {},
   "outputs": [
    {
     "data": {
      "text/plain": [
       "\u001b[1;31mSignature:\u001b[0m \u001b[0mlotto\u001b[0m\u001b[1;33m.\u001b[0m\u001b[0msort\u001b[0m\u001b[1;33m(\u001b[0m\u001b[1;33m*\u001b[0m\u001b[1;33m,\u001b[0m \u001b[0mkey\u001b[0m\u001b[1;33m=\u001b[0m\u001b[1;32mNone\u001b[0m\u001b[1;33m,\u001b[0m \u001b[0mreverse\u001b[0m\u001b[1;33m=\u001b[0m\u001b[1;32mFalse\u001b[0m\u001b[1;33m)\u001b[0m\u001b[1;33m\u001b[0m\u001b[1;33m\u001b[0m\u001b[0m\n",
       "\u001b[1;31mDocstring:\u001b[0m\n",
       "Sort the list in ascending order and return None.\n",
       "\n",
       "The sort is in-place (i.e. the list itself is modified) and stable (i.e. the\n",
       "order of two equal elements is maintained).\n",
       "\n",
       "If a key function is given, apply it once to each list item and sort them,\n",
       "ascending or descending, according to their function values.\n",
       "\n",
       "The reverse flag can be set to sort in descending order.\n",
       "\u001b[1;31mType:\u001b[0m      builtin_function_or_method"
      ]
     },
     "metadata": {},
     "output_type": "display_data"
    }
   ],
   "source": [
    "# lotto.sort?"
   ]
  },
  {
   "cell_type": "code",
   "execution_count": null,
   "id": "3b6b59df-d53c-41fa-974d-9b2a3f183375",
   "metadata": {},
   "outputs": [],
   "source": []
  }
 ],
 "metadata": {
  "kernelspec": {
   "display_name": "Python 3 (ipykernel)",
   "language": "python",
   "name": "python3"
  },
  "language_info": {
   "codemirror_mode": {
    "name": "ipython",
    "version": 3
   },
   "file_extension": ".py",
   "mimetype": "text/x-python",
   "name": "python",
   "nbconvert_exporter": "python",
   "pygments_lexer": "ipython3",
   "version": "3.11.7"
  }
 },
 "nbformat": 4,
 "nbformat_minor": 5
}
