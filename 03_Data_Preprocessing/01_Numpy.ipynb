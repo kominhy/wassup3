{
 "cells": [
  {
   "cell_type": "code",
   "execution_count": 2,
   "id": "513b7a23-357b-4659-bf87-d952c425e898",
   "metadata": {},
   "outputs": [],
   "source": [
    "# # 주피터노트북 셀 스타일 조절\n",
    "# from IPython.core.display import display, HTML\n",
    "# # display(HTML(\"<style>.container { font-weight: bold !important; }</style>\"))\n",
    "# display(HTML(\"<style>.container { width: 100% !important; }</style>\"))\n",
    "\n",
    "# # 경고메시지 숨기기\n",
    "# import warning\n",
    "# warnings.filterwarnings(action='ignore')"
   ]
  },
  {
   "cell_type": "markdown",
   "id": "4c298beb-3f55-42c2-ac31-cfa5f9c55667",
   "metadata": {},
   "source": [
    "# Numpy 개요\n",
    "Numeric + Python = Numpy   \n",
    " - 수학 및 과학 연산을 위한 파이썬 패키지   \n",
    " - 배열이나 행렬 계산에 용이한 메서드를 제공   \n",
    " - 한글로 넘파이로 주로 통칭, 넘피/늄파이라고 부르기도 함   \n",
    " - 관련 사이트 : http://www.numpy.org   \n",
    "\n",
    "일반 List에 비해 빠르고, 메모리 효율적   \n",
    "\n",
    " - 반복문 없이 데이터 배열에 대한 처리를 지원함   \n",
    " - 선형대수와 관련된 다양한 기능을 제공함   \n",
    " - Reference Site   \n",
    " - cs231 : http://cs231n.github.io/python-numpy-tutorial/#numpy   \n",
    " - https://docs.scipy.org/doc/numpy-dev/user/quickstart.html   \n",
    " - 데이터사이언스스쿨(파이썬버전) - https://goo.gl/3hsjbS   \n",
    "\n",
    "설치 및 임포트   \n",
    "\n",
    " - 넘파이는 외부 라이브러리이므로 설치 필요.(아나콘다는 사전 설치됨)   \n",
    " - pip install numpy   "
   ]
  },
  {
   "cell_type": "code",
   "execution_count": 3,
   "id": "fbe2b528-043d-4c0a-bfc7-1da49bb98ff9",
   "metadata": {},
   "outputs": [
    {
     "data": {
      "text/plain": [
       "'1.26.4'"
      ]
     },
     "execution_count": 3,
     "metadata": {},
     "output_type": "execute_result"
    }
   ],
   "source": [
    "import numpy as np\n",
    "np.__version__"
   ]
  },
  {
   "cell_type": "markdown",
   "id": "ca359cd7-dc35-40eb-948b-7e6574fb2643",
   "metadata": {},
   "source": [
    "## ndim(dimention, rank)\n",
    " - 몇 차원인지 반환"
   ]
  },
  {
   "cell_type": "code",
   "execution_count": 4,
   "id": "98c3a20c-5f71-4adc-b383-7b7b449491d1",
   "metadata": {},
   "outputs": [],
   "source": [
    "a = np.array(0)"
   ]
  },
  {
   "cell_type": "code",
   "execution_count": 5,
   "id": "77c086b7-e532-4288-ae44-90c1cfc5dfdc",
   "metadata": {},
   "outputs": [
    {
     "data": {
      "text/plain": [
       "(array(0), 0, numpy.ndarray)"
      ]
     },
     "execution_count": 5,
     "metadata": {},
     "output_type": "execute_result"
    }
   ],
   "source": [
    "a, a.ndim, type(a)"
   ]
  },
  {
   "cell_type": "code",
   "execution_count": 6,
   "id": "f26eafdc-e381-43a9-ba6f-395bc705b83d",
   "metadata": {},
   "outputs": [
    {
     "data": {
      "text/plain": [
       "(array([2, 4, 6]), 1, numpy.ndarray)"
      ]
     },
     "execution_count": 6,
     "metadata": {},
     "output_type": "execute_result"
    }
   ],
   "source": [
    "a = np.array([2, 4, 6])\n",
    "a, a.ndim, type(a)"
   ]
  },
  {
   "cell_type": "code",
   "execution_count": 7,
   "id": "7755be45-f1e7-4383-bdde-0e210ee7fc6c",
   "metadata": {},
   "outputs": [
    {
     "data": {
      "text/plain": [
       "[[1, 2, 3], [4, 5, 6]]"
      ]
     },
     "execution_count": 7,
     "metadata": {},
     "output_type": "execute_result"
    }
   ],
   "source": [
    "a = [[1,2,3], [4,5,6]]\n",
    "a"
   ]
  },
  {
   "cell_type": "code",
   "execution_count": 5,
   "id": "b6b6563d-d88b-4f2d-9c3f-bee2a31db09a",
   "metadata": {},
   "outputs": [
    {
     "data": {
      "text/plain": [
       "(array([[1, 2, 3],\n",
       "        [4, 5, 6]]),\n",
       " 2,\n",
       " numpy.ndarray)"
      ]
     },
     "execution_count": 5,
     "metadata": {},
     "output_type": "execute_result"
    }
   ],
   "source": [
    "a = np.array( [[1,2,3], [4,5,6]] )\n",
    "a, a.ndim, type(a)"
   ]
  },
  {
   "cell_type": "code",
   "execution_count": 6,
   "id": "b6f153ff-80f2-4a65-993c-d4ac9bc074a6",
   "metadata": {},
   "outputs": [
    {
     "data": {
      "text/plain": [
       "(2, 3)"
      ]
     },
     "execution_count": 6,
     "metadata": {},
     "output_type": "execute_result"
    }
   ],
   "source": [
    "a.shape"
   ]
  },
  {
   "cell_type": "code",
   "execution_count": 7,
   "id": "4f9e3dc2-0475-435b-b474-03ef1debf29a",
   "metadata": {},
   "outputs": [
    {
     "data": {
      "text/plain": [
       "(array([[[1, 2, 3],\n",
       "         [4, 5, 6]],\n",
       " \n",
       "        [[1, 2, 3],\n",
       "         [4, 5, 6]]]),\n",
       " 3,\n",
       " numpy.ndarray)"
      ]
     },
     "execution_count": 7,
     "metadata": {},
     "output_type": "execute_result"
    }
   ],
   "source": [
    "a = np.array( [ [[1,2,3], [4,5,6]], [[1,2,3], [4,5,6]] ] )\n",
    "a, a.ndim, type(a)"
   ]
  },
  {
   "cell_type": "code",
   "execution_count": 8,
   "id": "2fbcb032-8c8b-4cb0-904a-bba7e353bc06",
   "metadata": {},
   "outputs": [
    {
     "data": {
      "text/plain": [
       "(2, 2, 3)"
      ]
     },
     "execution_count": 8,
     "metadata": {},
     "output_type": "execute_result"
    }
   ],
   "source": [
    "a.shape"
   ]
  },
  {
   "cell_type": "code",
   "execution_count": null,
   "id": "762988ff-153f-4db8-8a4b-4d8f38ac2c24",
   "metadata": {},
   "outputs": [],
   "source": []
  },
  {
   "cell_type": "code",
   "execution_count": null,
   "id": "e316a60b-b01c-4437-bd0f-e8a64d8163fd",
   "metadata": {},
   "outputs": [],
   "source": []
  },
  {
   "cell_type": "code",
   "execution_count": 9,
   "id": "bdec7601-d4e2-4535-bcb5-b93a68414094",
   "metadata": {},
   "outputs": [
    {
     "data": {
      "text/plain": [
       "(array([[10, 11, 12, 13, 14],\n",
       "        [15, 16, 17, 18, 19],\n",
       "        [20, 21, 22, 23, 24]]),\n",
       " 2,\n",
       " (3, 5),\n",
       " 15)"
      ]
     },
     "execution_count": 9,
     "metadata": {},
     "output_type": "execute_result"
    }
   ],
   "source": [
    "a = np.arange(10, 25).reshape(3, 5)\n",
    "a, a.ndim, a.shape, a.size"
   ]
  },
  {
   "cell_type": "code",
   "execution_count": null,
   "id": "b77d7a8f-55e6-40d8-be6f-fc18f6174f80",
   "metadata": {},
   "outputs": [],
   "source": []
  },
  {
   "cell_type": "code",
   "execution_count": null,
   "id": "ab104fe1-45f4-4312-a324-1f5061652ac6",
   "metadata": {},
   "outputs": [],
   "source": []
  },
  {
   "cell_type": "code",
   "execution_count": 12,
   "id": "58100f37-b377-4325-8763-9bdce1c1c49a",
   "metadata": {},
   "outputs": [
    {
     "data": {
      "text/plain": [
       "array([[10, 11, 12, 13, 14],\n",
       "       [15, 16, 17, 18, 19],\n",
       "       [20, 21, 22, 23, 24]])"
      ]
     },
     "execution_count": 12,
     "metadata": {},
     "output_type": "execute_result"
    }
   ],
   "source": [
    "a"
   ]
  },
  {
   "cell_type": "code",
   "execution_count": 10,
   "id": "34076878-d7b4-4bda-98e6-44840e0c877d",
   "metadata": {},
   "outputs": [
    {
     "data": {
      "text/plain": [
       "array([[20, 21, 22, 23, 24],\n",
       "       [15, 16, 17, 18, 19],\n",
       "       [10, 11, 12, 13, 14]])"
      ]
     },
     "execution_count": 10,
     "metadata": {},
     "output_type": "execute_result"
    }
   ],
   "source": [
    "# 행 뒤집기\n",
    "a[::-1]"
   ]
  },
  {
   "cell_type": "code",
   "execution_count": 11,
   "id": "d2e4d961-cfa8-4f01-b509-3d6bb732f248",
   "metadata": {},
   "outputs": [
    {
     "data": {
      "text/plain": [
       "array([[14, 13, 12, 11, 10],\n",
       "       [19, 18, 17, 16, 15],\n",
       "       [24, 23, 22, 21, 20]])"
      ]
     },
     "execution_count": 11,
     "metadata": {},
     "output_type": "execute_result"
    }
   ],
   "source": [
    "# 열 뒤집기\n",
    "a[::, ::-1]"
   ]
  },
  {
   "cell_type": "markdown",
   "id": "e91ccd0a-51a5-40e7-8f6e-2bb6c8bab92c",
   "metadata": {},
   "source": [
    "## 전치행렬"
   ]
  },
  {
   "cell_type": "code",
   "execution_count": 13,
   "id": "8ff7999e-bf10-43a6-a0c2-209b10fd8894",
   "metadata": {},
   "outputs": [
    {
     "data": {
      "text/plain": [
       "array([[1, 2],\n",
       "       [3, 4],\n",
       "       [5, 6]])"
      ]
     },
     "execution_count": 13,
     "metadata": {},
     "output_type": "execute_result"
    }
   ],
   "source": [
    "# 3행 2열\n",
    "matrix_d = np.arange(1,7).reshape(3,2)\n",
    "matrix_d"
   ]
  },
  {
   "cell_type": "code",
   "execution_count": 14,
   "id": "750cefb5-5ab3-46cf-8f35-d6f70143bda9",
   "metadata": {},
   "outputs": [
    {
     "name": "stdout",
     "output_type": "stream",
     "text": [
      "[[1 3 5]\n",
      " [2 4 6]]\n"
     ]
    }
   ],
   "source": [
    "# 2행 3열로 변환\n",
    "print(matrix_d.T)"
   ]
  },
  {
   "cell_type": "code",
   "execution_count": 15,
   "id": "1e417ea2-ca2b-4db7-a7fd-ea45dd1385bc",
   "metadata": {},
   "outputs": [
    {
     "name": "stdout",
     "output_type": "stream",
     "text": [
      "[[1 2 3]\n",
      " [4 5 6]]\n"
     ]
    }
   ],
   "source": [
    "# reshape과 transpose은 값이 다름을 유의 (reshqpe는 flatten이 선행)\n",
    "print(matrix_d.reshape(2,3)) "
   ]
  },
  {
   "cell_type": "markdown",
   "id": "c236055a-8995-4d75-bd03-c348dd1e39ee",
   "metadata": {},
   "source": [
    "## 난수로 구성된 넘파이 배열\n",
    " - np.random.randint(start, end, n) : 정수 난수\n",
    " - np.random.randint(start, end, (i, j))"
   ]
  },
  {
   "cell_type": "code",
   "execution_count": 16,
   "id": "d473a051-41de-4904-874a-36d026d3bbd9",
   "metadata": {},
   "outputs": [
    {
     "data": {
      "text/plain": [
       "\u001b[1;31mType:\u001b[0m        module\n",
       "\u001b[1;31mString form:\u001b[0m <module 'numpy.random' from 'C:\\\\Users\\\\rhals\\\\anaconda3\\\\Lib\\\\site-packages\\\\numpy\\\\random\\\\__init__.py'>\n",
       "\u001b[1;31mFile:\u001b[0m        c:\\users\\rhals\\anaconda3\\lib\\site-packages\\numpy\\random\\__init__.py\n",
       "\u001b[1;31mDocstring:\u001b[0m  \n",
       "========================\n",
       "Random Number Generation\n",
       "========================\n",
       "\n",
       "Use ``default_rng()`` to create a `Generator` and call its methods.\n",
       "\n",
       "=============== =========================================================\n",
       "Generator\n",
       "--------------- ---------------------------------------------------------\n",
       "Generator       Class implementing all of the random number distributions\n",
       "default_rng     Default constructor for ``Generator``\n",
       "=============== =========================================================\n",
       "\n",
       "============================================= ===\n",
       "BitGenerator Streams that work with Generator\n",
       "--------------------------------------------- ---\n",
       "MT19937\n",
       "PCG64\n",
       "PCG64DXSM\n",
       "Philox\n",
       "SFC64\n",
       "============================================= ===\n",
       "\n",
       "============================================= ===\n",
       "Getting entropy to initialize a BitGenerator\n",
       "--------------------------------------------- ---\n",
       "SeedSequence\n",
       "============================================= ===\n",
       "\n",
       "\n",
       "Legacy\n",
       "------\n",
       "\n",
       "For backwards compatibility with previous versions of numpy before 1.17, the\n",
       "various aliases to the global `RandomState` methods are left alone and do not\n",
       "use the new `Generator` API.\n",
       "\n",
       "==================== =========================================================\n",
       "Utility functions\n",
       "-------------------- ---------------------------------------------------------\n",
       "random               Uniformly distributed floats over ``[0, 1)``\n",
       "bytes                Uniformly distributed random bytes.\n",
       "permutation          Randomly permute a sequence / generate a random sequence.\n",
       "shuffle              Randomly permute a sequence in place.\n",
       "choice               Random sample from 1-D array.\n",
       "==================== =========================================================\n",
       "\n",
       "==================== =========================================================\n",
       "Compatibility\n",
       "functions - removed\n",
       "in the new API\n",
       "-------------------- ---------------------------------------------------------\n",
       "rand                 Uniformly distributed values.\n",
       "randn                Normally distributed values.\n",
       "ranf                 Uniformly distributed floating point numbers.\n",
       "random_integers      Uniformly distributed integers in a given range.\n",
       "                     (deprecated, use ``integers(..., closed=True)`` instead)\n",
       "random_sample        Alias for `random_sample`\n",
       "randint              Uniformly distributed integers in a given range\n",
       "seed                 Seed the legacy random number generator.\n",
       "==================== =========================================================\n",
       "\n",
       "==================== =========================================================\n",
       "Univariate\n",
       "distributions\n",
       "-------------------- ---------------------------------------------------------\n",
       "beta                 Beta distribution over ``[0, 1]``.\n",
       "binomial             Binomial distribution.\n",
       "chisquare            :math:`\\chi^2` distribution.\n",
       "exponential          Exponential distribution.\n",
       "f                    F (Fisher-Snedecor) distribution.\n",
       "gamma                Gamma distribution.\n",
       "geometric            Geometric distribution.\n",
       "gumbel               Gumbel distribution.\n",
       "hypergeometric       Hypergeometric distribution.\n",
       "laplace              Laplace distribution.\n",
       "logistic             Logistic distribution.\n",
       "lognormal            Log-normal distribution.\n",
       "logseries            Logarithmic series distribution.\n",
       "negative_binomial    Negative binomial distribution.\n",
       "noncentral_chisquare Non-central chi-square distribution.\n",
       "noncentral_f         Non-central F distribution.\n",
       "normal               Normal / Gaussian distribution.\n",
       "pareto               Pareto distribution.\n",
       "poisson              Poisson distribution.\n",
       "power                Power distribution.\n",
       "rayleigh             Rayleigh distribution.\n",
       "triangular           Triangular distribution.\n",
       "uniform              Uniform distribution.\n",
       "vonmises             Von Mises circular distribution.\n",
       "wald                 Wald (inverse Gaussian) distribution.\n",
       "weibull              Weibull distribution.\n",
       "zipf                 Zipf's distribution over ranked data.\n",
       "==================== =========================================================\n",
       "\n",
       "==================== ==========================================================\n",
       "Multivariate\n",
       "distributions\n",
       "-------------------- ----------------------------------------------------------\n",
       "dirichlet            Multivariate generalization of Beta distribution.\n",
       "multinomial          Multivariate generalization of the binomial distribution.\n",
       "multivariate_normal  Multivariate generalization of the normal distribution.\n",
       "==================== ==========================================================\n",
       "\n",
       "==================== =========================================================\n",
       "Standard\n",
       "distributions\n",
       "-------------------- ---------------------------------------------------------\n",
       "standard_cauchy      Standard Cauchy-Lorentz distribution.\n",
       "standard_exponential Standard exponential distribution.\n",
       "standard_gamma       Standard Gamma distribution.\n",
       "standard_normal      Standard normal distribution.\n",
       "standard_t           Standard Student's t-distribution.\n",
       "==================== =========================================================\n",
       "\n",
       "==================== =========================================================\n",
       "Internal functions\n",
       "-------------------- ---------------------------------------------------------\n",
       "get_state            Get tuple representing internal state of generator.\n",
       "set_state            Set state of generator.\n",
       "==================== ========================================================="
      ]
     },
     "metadata": {},
     "output_type": "display_data"
    }
   ],
   "source": [
    "np.random?"
   ]
  },
  {
   "cell_type": "code",
   "execution_count": 17,
   "id": "a9186923-2c33-49ae-bbcf-bf298f410338",
   "metadata": {},
   "outputs": [
    {
     "data": {
      "text/plain": [
       "array([1, 4, 7, 9, 8, 5, 2, 4, 6, 2])"
      ]
     },
     "execution_count": 17,
     "metadata": {},
     "output_type": "execute_result"
    }
   ],
   "source": [
    "# 1~10 사이의 숫자중에서 10개 출력\n",
    "np.random.randint(1, 10, 10)"
   ]
  },
  {
   "cell_type": "code",
   "execution_count": 18,
   "id": "ae24ad67-644b-4c8b-bf49-603e9fc65922",
   "metadata": {},
   "outputs": [
    {
     "data": {
      "text/plain": [
       "array([22, 30, 29,  6, 43, 25])"
      ]
     },
     "execution_count": 18,
     "metadata": {},
     "output_type": "execute_result"
    }
   ],
   "source": [
    "np.random.randint(1, 49, 6)"
   ]
  },
  {
   "cell_type": "code",
   "execution_count": 19,
   "id": "1133abf8-c004-4b34-ba5c-ca0b6a96bcf8",
   "metadata": {},
   "outputs": [
    {
     "data": {
      "text/plain": [
       "array([[1, 2, 4, 2, 9],\n",
       "       [6, 9, 9, 7, 9]])"
      ]
     },
     "execution_count": 19,
     "metadata": {},
     "output_type": "execute_result"
    }
   ],
   "source": [
    "# 2행 5열로 츨력\n",
    "np.random.randint(1, 10, (2,5))"
   ]
  },
  {
   "cell_type": "markdown",
   "id": "8c61a99c-81ce-4ec0-8055-5ba7f77316d1",
   "metadata": {},
   "source": [
    "## 섞기\n",
    " - np.random.shuffle(넘파이배열) 원본에 바로 적용"
   ]
  },
  {
   "cell_type": "code",
   "execution_count": 20,
   "id": "f2991084-07ea-4f80-aada-23f661b143c4",
   "metadata": {},
   "outputs": [
    {
     "data": {
      "text/plain": [
       "\u001b[1;31mDocstring:\u001b[0m\n",
       "shuffle(x)\n",
       "\n",
       "Modify a sequence in-place by shuffling its contents.\n",
       "\n",
       "This function only shuffles the array along the first axis of a\n",
       "multi-dimensional array. The order of sub-arrays is changed but\n",
       "their contents remains the same.\n",
       "\n",
       ".. note::\n",
       "    New code should use the `~numpy.random.Generator.shuffle`\n",
       "    method of a `~numpy.random.Generator` instance instead;\n",
       "    please see the :ref:`random-quick-start`.\n",
       "\n",
       "Parameters\n",
       "----------\n",
       "x : ndarray or MutableSequence\n",
       "    The array, list or mutable sequence to be shuffled.\n",
       "\n",
       "Returns\n",
       "-------\n",
       "None\n",
       "\n",
       "See Also\n",
       "--------\n",
       "random.Generator.shuffle: which should be used for new code.\n",
       "\n",
       "Examples\n",
       "--------\n",
       ">>> arr = np.arange(10)\n",
       ">>> np.random.shuffle(arr)\n",
       ">>> arr\n",
       "[1 7 5 2 9 4 3 6 0 8] # random\n",
       "\n",
       "Multi-dimensional arrays are only shuffled along the first axis:\n",
       "\n",
       ">>> arr = np.arange(9).reshape((3, 3))\n",
       ">>> np.random.shuffle(arr)\n",
       ">>> arr\n",
       "array([[3, 4, 5], # random\n",
       "       [6, 7, 8],\n",
       "       [0, 1, 2]])\n",
       "\u001b[1;31mType:\u001b[0m      builtin_function_or_method"
      ]
     },
     "metadata": {},
     "output_type": "display_data"
    }
   ],
   "source": [
    "np.random.shuffle?"
   ]
  },
  {
   "cell_type": "code",
   "execution_count": 21,
   "id": "8f54f9db-b176-44ad-815f-e348962df9c4",
   "metadata": {},
   "outputs": [
    {
     "data": {
      "text/plain": [
       "array([ 1,  2,  3,  4,  5,  6,  7,  8,  9, 10])"
      ]
     },
     "execution_count": 21,
     "metadata": {},
     "output_type": "execute_result"
    }
   ],
   "source": [
    "# 10개 무작위 값 만들기\n",
    "matrix_e = np.arange(1,11)\n",
    "matrix_e"
   ]
  },
  {
   "cell_type": "code",
   "execution_count": 22,
   "id": "ab440b69-593b-46cf-9eba-b7a3cfda1c25",
   "metadata": {},
   "outputs": [
    {
     "data": {
      "text/plain": [
       "array([ 9, 10,  5,  2,  4,  6,  7,  3,  1,  8])"
      ]
     },
     "execution_count": 22,
     "metadata": {},
     "output_type": "execute_result"
    }
   ],
   "source": [
    "np.random.shuffle(matrix_e)\n",
    "matrix_e"
   ]
  },
  {
   "cell_type": "markdown",
   "id": "f98b6465-26bb-4e71-bece-03453b0289ef",
   "metadata": {},
   "source": [
    "### Quiz : 1~45까지 구성된 숫자 중에서 6개를 뽑아서 로또 번호를 생성하라"
   ]
  },
  {
   "cell_type": "code",
   "execution_count": 23,
   "id": "364af109-b694-46b1-887a-66be12eea1c1",
   "metadata": {},
   "outputs": [
    {
     "data": {
      "text/plain": [
       "array([40, 29, 12,  1, 20, 13])"
      ]
     },
     "execution_count": 23,
     "metadata": {},
     "output_type": "execute_result"
    }
   ],
   "source": [
    "num= np.arange(1,46)\n",
    "np.random.shuffle(num)\n",
    "num[:6]"
   ]
  },
  {
   "cell_type": "code",
   "execution_count": 24,
   "id": "86143262-fb97-47a8-bb54-524d46db8c88",
   "metadata": {},
   "outputs": [
    {
     "data": {
      "text/plain": [
       "array([35, 23,  7, 40,  9,  5])"
      ]
     },
     "execution_count": 24,
     "metadata": {},
     "output_type": "execute_result"
    }
   ],
   "source": [
    "np.random.randint(1,46,6)"
   ]
  },
  {
   "cell_type": "markdown",
   "id": "69ffb07e-7d05-4b09-9cad-102bc4b954be",
   "metadata": {},
   "source": [
    "## 실수 난수\n",
    " - np.random.randn(n) np.random.randn(i, j)"
   ]
  },
  {
   "cell_type": "code",
   "execution_count": 25,
   "id": "cfdeab28-9d7a-4c4e-a577-275b6d1de83f",
   "metadata": {},
   "outputs": [
    {
     "data": {
      "text/plain": [
       "\u001b[1;31mDocstring:\u001b[0m\n",
       "randn(d0, d1, ..., dn)\n",
       "\n",
       "Return a sample (or samples) from the \"standard normal\" distribution.\n",
       "\n",
       ".. note::\n",
       "    This is a convenience function for users porting code from Matlab,\n",
       "    and wraps `standard_normal`. That function takes a\n",
       "    tuple to specify the size of the output, which is consistent with\n",
       "    other NumPy functions like `numpy.zeros` and `numpy.ones`.\n",
       "\n",
       ".. note::\n",
       "    New code should use the\n",
       "    `~numpy.random.Generator.standard_normal`\n",
       "    method of a `~numpy.random.Generator` instance instead;\n",
       "    please see the :ref:`random-quick-start`.\n",
       "\n",
       "If positive int_like arguments are provided, `randn` generates an array\n",
       "of shape ``(d0, d1, ..., dn)``, filled\n",
       "with random floats sampled from a univariate \"normal\" (Gaussian)\n",
       "distribution of mean 0 and variance 1. A single float randomly sampled\n",
       "from the distribution is returned if no argument is provided.\n",
       "\n",
       "Parameters\n",
       "----------\n",
       "d0, d1, ..., dn : int, optional\n",
       "    The dimensions of the returned array, must be non-negative.\n",
       "    If no argument is given a single Python float is returned.\n",
       "\n",
       "Returns\n",
       "-------\n",
       "Z : ndarray or float\n",
       "    A ``(d0, d1, ..., dn)``-shaped array of floating-point samples from\n",
       "    the standard normal distribution, or a single such float if\n",
       "    no parameters were supplied.\n",
       "\n",
       "See Also\n",
       "--------\n",
       "standard_normal : Similar, but takes a tuple as its argument.\n",
       "normal : Also accepts mu and sigma arguments.\n",
       "random.Generator.standard_normal: which should be used for new code.\n",
       "\n",
       "Notes\n",
       "-----\n",
       "For random samples from the normal distribution with mean ``mu`` and\n",
       "standard deviation ``sigma``, use::\n",
       "\n",
       "    sigma * np.random.randn(...) + mu\n",
       "\n",
       "Examples\n",
       "--------\n",
       ">>> np.random.randn()\n",
       "2.1923875335537315  # random\n",
       "\n",
       "Two-by-four array of samples from the normal distribution with\n",
       "mean 3 and standard deviation 2.5:\n",
       "\n",
       ">>> 3 + 2.5 * np.random.randn(2, 4)\n",
       "array([[-4.49401501,  4.00950034, -1.81814867,  7.29718677],   # random\n",
       "       [ 0.39924804,  4.68456316,  4.99394529,  4.84057254]])  # random\n",
       "\u001b[1;31mType:\u001b[0m      builtin_function_or_method"
      ]
     },
     "metadata": {},
     "output_type": "display_data"
    }
   ],
   "source": [
    "np.random.randn?"
   ]
  },
  {
   "cell_type": "code",
   "execution_count": 26,
   "id": "c29eeeaf-2a92-443b-a82c-7a6940783349",
   "metadata": {},
   "outputs": [
    {
     "data": {
      "text/plain": [
       "array([ 1.74420508,  0.39359035,  0.01835077,  1.30771437,  1.04738365,\n",
       "       -0.65163836,  0.43011297, -0.32465191,  1.1675824 ,  1.20368676])"
      ]
     },
     "execution_count": 26,
     "metadata": {},
     "output_type": "execute_result"
    }
   ],
   "source": [
    "matrix1 = np.random.randn(10) # 표준정규분포 0 ~ 분산1\n",
    "matrix1"
   ]
  },
  {
   "cell_type": "code",
   "execution_count": 27,
   "id": "228cbcab-0c6e-4b37-8e5c-33008c1bfbb8",
   "metadata": {},
   "outputs": [
    {
     "data": {
      "text/plain": [
       "array([[-1.36354906,  0.33395273, -0.19664713, -1.08604663],\n",
       "       [-0.5911916 ,  0.85809136,  0.09143362,  0.80150119],\n",
       "       [-2.00455644,  0.49001167, -0.3076613 ,  0.71337686],\n",
       "       [ 2.24847278, -1.53972522,  0.94095745,  0.02850997]])"
      ]
     },
     "execution_count": 27,
     "metadata": {},
     "output_type": "execute_result"
    }
   ],
   "source": [
    "matrix2 = np.random.randn(4, 4)\n",
    "matrix2"
   ]
  },
  {
   "cell_type": "code",
   "execution_count": 28,
   "id": "cb616c3f-76f7-4184-955d-b408cfcab517",
   "metadata": {},
   "outputs": [
    {
     "data": {
      "text/plain": [
       "(1.7442050830070872, -0.6516383632618549)"
      ]
     },
     "execution_count": 28,
     "metadata": {},
     "output_type": "execute_result"
    }
   ],
   "source": [
    "matrix1.max(), matrix1.min()"
   ]
  },
  {
   "cell_type": "code",
   "execution_count": 29,
   "id": "6f542082-06a0-4f6b-9289-8d1dbc62a4d0",
   "metadata": {
    "scrolled": true
   },
   "outputs": [
    {
     "data": {
      "text/plain": [
       "\u001b[1;31mDocstring:\u001b[0m\n",
       "choice(a, size=None, replace=True, p=None)\n",
       "\n",
       "Generates a random sample from a given 1-D array\n",
       "\n",
       ".. versionadded:: 1.7.0\n",
       "\n",
       ".. note::\n",
       "    New code should use the `~numpy.random.Generator.choice`\n",
       "    method of a `~numpy.random.Generator` instance instead;\n",
       "    please see the :ref:`random-quick-start`.\n",
       "\n",
       "Parameters\n",
       "----------\n",
       "a : 1-D array-like or int\n",
       "    If an ndarray, a random sample is generated from its elements.\n",
       "    If an int, the random sample is generated as if it were ``np.arange(a)``\n",
       "size : int or tuple of ints, optional\n",
       "    Output shape.  If the given shape is, e.g., ``(m, n, k)``, then\n",
       "    ``m * n * k`` samples are drawn.  Default is None, in which case a\n",
       "    single value is returned.\n",
       "replace : boolean, optional\n",
       "    Whether the sample is with or without replacement. Default is True,\n",
       "    meaning that a value of ``a`` can be selected multiple times.\n",
       "p : 1-D array-like, optional\n",
       "    The probabilities associated with each entry in a.\n",
       "    If not given, the sample assumes a uniform distribution over all\n",
       "    entries in ``a``.\n",
       "\n",
       "Returns\n",
       "-------\n",
       "samples : single item or ndarray\n",
       "    The generated random samples\n",
       "\n",
       "Raises\n",
       "------\n",
       "ValueError\n",
       "    If a is an int and less than zero, if a or p are not 1-dimensional,\n",
       "    if a is an array-like of size 0, if p is not a vector of\n",
       "    probabilities, if a and p have different lengths, or if\n",
       "    replace=False and the sample size is greater than the population\n",
       "    size\n",
       "\n",
       "See Also\n",
       "--------\n",
       "randint, shuffle, permutation\n",
       "random.Generator.choice: which should be used in new code\n",
       "\n",
       "Notes\n",
       "-----\n",
       "Setting user-specified probabilities through ``p`` uses a more general but less\n",
       "efficient sampler than the default. The general sampler produces a different sample\n",
       "than the optimized sampler even if each element of ``p`` is 1 / len(a).\n",
       "\n",
       "Sampling random rows from a 2-D array is not possible with this function,\n",
       "but is possible with `Generator.choice` through its ``axis`` keyword.\n",
       "\n",
       "Examples\n",
       "--------\n",
       "Generate a uniform random sample from np.arange(5) of size 3:\n",
       "\n",
       ">>> np.random.choice(5, 3)\n",
       "array([0, 3, 4]) # random\n",
       ">>> #This is equivalent to np.random.randint(0,5,3)\n",
       "\n",
       "Generate a non-uniform random sample from np.arange(5) of size 3:\n",
       "\n",
       ">>> np.random.choice(5, 3, p=[0.1, 0, 0.3, 0.6, 0])\n",
       "array([3, 3, 0]) # random\n",
       "\n",
       "Generate a uniform random sample from np.arange(5) of size 3 without\n",
       "replacement:\n",
       "\n",
       ">>> np.random.choice(5, 3, replace=False)\n",
       "array([3,1,0]) # random\n",
       ">>> #This is equivalent to np.random.permutation(np.arange(5))[:3]\n",
       "\n",
       "Generate a non-uniform random sample from np.arange(5) of size\n",
       "3 without replacement:\n",
       "\n",
       ">>> np.random.choice(5, 3, replace=False, p=[0.1, 0, 0.3, 0.6, 0])\n",
       "array([2, 3, 0]) # random\n",
       "\n",
       "Any of the above can be repeated with an arbitrary array-like\n",
       "instead of just integers. For instance:\n",
       "\n",
       ">>> aa_milne_arr = ['pooh', 'rabbit', 'piglet', 'Christopher']\n",
       ">>> np.random.choice(aa_milne_arr, 5, p=[0.5, 0.1, 0.1, 0.3])\n",
       "array(['pooh', 'pooh', 'pooh', 'Christopher', 'piglet'], # random\n",
       "      dtype='<U11')\n",
       "\u001b[1;31mType:\u001b[0m      builtin_function_or_method"
      ]
     },
     "metadata": {},
     "output_type": "display_data"
    }
   ],
   "source": [
    "np.random.choice?"
   ]
  },
  {
   "cell_type": "markdown",
   "id": "eaa38ec9-4b6b-44f0-9037-ea4a8a422e31",
   "metadata": {},
   "source": [
    "## 집계함수에서의 축\n",
    " - 2차원에서의 집계합수(sum, mean)\n",
    " - axis = 0, 1\n",
    " - np.sum(넘파이배열, axis=0/1)\n",
    " - np.mean(넘파이배열, axis=0/1)\n",
    " - np.sort(넘파이배열, axis=0/1)"
   ]
  },
  {
   "cell_type": "code",
   "execution_count": 30,
   "id": "df6f969a-8813-4b80-8357-35d18f933e46",
   "metadata": {},
   "outputs": [
    {
     "data": {
      "text/plain": [
       "array([[20, 47, 39, 34,  2],\n",
       "       [12, 36, 47, 23, 43],\n",
       "       [37,  2,  2, 25, 18],\n",
       "       [28, 24, 32, 11, 45],\n",
       "       [40, 28,  2, 23,  3]])"
      ]
     },
     "execution_count": 30,
     "metadata": {},
     "output_type": "execute_result"
    }
   ],
   "source": [
    "m1 = np.random.randint(1, 50, (5,5))\n",
    "m1"
   ]
  },
  {
   "cell_type": "code",
   "execution_count": 31,
   "id": "be4d0a0a-86ae-4537-8d38-3492380054a2",
   "metadata": {},
   "outputs": [
    {
     "data": {
      "text/plain": [
       "\u001b[1;31mSignature:\u001b[0m      \n",
       "\u001b[0mnp\u001b[0m\u001b[1;33m.\u001b[0m\u001b[0msum\u001b[0m\u001b[1;33m(\u001b[0m\u001b[1;33m\n",
       "\u001b[0m    \u001b[0ma\u001b[0m\u001b[1;33m,\u001b[0m\u001b[1;33m\n",
       "\u001b[0m    \u001b[0maxis\u001b[0m\u001b[1;33m=\u001b[0m\u001b[1;32mNone\u001b[0m\u001b[1;33m,\u001b[0m\u001b[1;33m\n",
       "\u001b[0m    \u001b[0mdtype\u001b[0m\u001b[1;33m=\u001b[0m\u001b[1;32mNone\u001b[0m\u001b[1;33m,\u001b[0m\u001b[1;33m\n",
       "\u001b[0m    \u001b[0mout\u001b[0m\u001b[1;33m=\u001b[0m\u001b[1;32mNone\u001b[0m\u001b[1;33m,\u001b[0m\u001b[1;33m\n",
       "\u001b[0m    \u001b[0mkeepdims\u001b[0m\u001b[1;33m=\u001b[0m\u001b[1;33m<\u001b[0m\u001b[0mno\u001b[0m \u001b[0mvalue\u001b[0m\u001b[1;33m>\u001b[0m\u001b[1;33m,\u001b[0m\u001b[1;33m\n",
       "\u001b[0m    \u001b[0minitial\u001b[0m\u001b[1;33m=\u001b[0m\u001b[1;33m<\u001b[0m\u001b[0mno\u001b[0m \u001b[0mvalue\u001b[0m\u001b[1;33m>\u001b[0m\u001b[1;33m,\u001b[0m\u001b[1;33m\n",
       "\u001b[0m    \u001b[0mwhere\u001b[0m\u001b[1;33m=\u001b[0m\u001b[1;33m<\u001b[0m\u001b[0mno\u001b[0m \u001b[0mvalue\u001b[0m\u001b[1;33m>\u001b[0m\u001b[1;33m,\u001b[0m\u001b[1;33m\n",
       "\u001b[0m\u001b[1;33m)\u001b[0m\u001b[1;33m\u001b[0m\u001b[1;33m\u001b[0m\u001b[0m\n",
       "\u001b[1;31mCall signature:\u001b[0m  \u001b[0mnp\u001b[0m\u001b[1;33m.\u001b[0m\u001b[0msum\u001b[0m\u001b[1;33m(\u001b[0m\u001b[1;33m*\u001b[0m\u001b[0margs\u001b[0m\u001b[1;33m,\u001b[0m \u001b[1;33m**\u001b[0m\u001b[0mkwargs\u001b[0m\u001b[1;33m)\u001b[0m\u001b[1;33m\u001b[0m\u001b[1;33m\u001b[0m\u001b[0m\n",
       "\u001b[1;31mType:\u001b[0m            _ArrayFunctionDispatcher\n",
       "\u001b[1;31mString form:\u001b[0m     <function sum at 0x000001E0C3A6A8E0>\n",
       "\u001b[1;31mFile:\u001b[0m            c:\\users\\rhals\\anaconda3\\lib\\site-packages\\numpy\\core\\fromnumeric.py\n",
       "\u001b[1;31mDocstring:\u001b[0m      \n",
       "Sum of array elements over a given axis.\n",
       "\n",
       "Parameters\n",
       "----------\n",
       "a : array_like\n",
       "    Elements to sum.\n",
       "axis : None or int or tuple of ints, optional\n",
       "    Axis or axes along which a sum is performed.  The default,\n",
       "    axis=None, will sum all of the elements of the input array.  If\n",
       "    axis is negative it counts from the last to the first axis.\n",
       "\n",
       "    .. versionadded:: 1.7.0\n",
       "\n",
       "    If axis is a tuple of ints, a sum is performed on all of the axes\n",
       "    specified in the tuple instead of a single axis or all the axes as\n",
       "    before.\n",
       "dtype : dtype, optional\n",
       "    The type of the returned array and of the accumulator in which the\n",
       "    elements are summed.  The dtype of `a` is used by default unless `a`\n",
       "    has an integer dtype of less precision than the default platform\n",
       "    integer.  In that case, if `a` is signed then the platform integer\n",
       "    is used while if `a` is unsigned then an unsigned integer of the\n",
       "    same precision as the platform integer is used.\n",
       "out : ndarray, optional\n",
       "    Alternative output array in which to place the result. It must have\n",
       "    the same shape as the expected output, but the type of the output\n",
       "    values will be cast if necessary.\n",
       "keepdims : bool, optional\n",
       "    If this is set to True, the axes which are reduced are left\n",
       "    in the result as dimensions with size one. With this option,\n",
       "    the result will broadcast correctly against the input array.\n",
       "\n",
       "    If the default value is passed, then `keepdims` will not be\n",
       "    passed through to the `sum` method of sub-classes of\n",
       "    `ndarray`, however any non-default value will be.  If the\n",
       "    sub-class' method does not implement `keepdims` any\n",
       "    exceptions will be raised.\n",
       "initial : scalar, optional\n",
       "    Starting value for the sum. See `~numpy.ufunc.reduce` for details.\n",
       "\n",
       "    .. versionadded:: 1.15.0\n",
       "\n",
       "where : array_like of bool, optional\n",
       "    Elements to include in the sum. See `~numpy.ufunc.reduce` for details.\n",
       "\n",
       "    .. versionadded:: 1.17.0\n",
       "\n",
       "Returns\n",
       "-------\n",
       "sum_along_axis : ndarray\n",
       "    An array with the same shape as `a`, with the specified\n",
       "    axis removed.   If `a` is a 0-d array, or if `axis` is None, a scalar\n",
       "    is returned.  If an output array is specified, a reference to\n",
       "    `out` is returned.\n",
       "\n",
       "See Also\n",
       "--------\n",
       "ndarray.sum : Equivalent method.\n",
       "\n",
       "add.reduce : Equivalent functionality of `add`.\n",
       "\n",
       "cumsum : Cumulative sum of array elements.\n",
       "\n",
       "trapz : Integration of array values using the composite trapezoidal rule.\n",
       "\n",
       "mean, average\n",
       "\n",
       "Notes\n",
       "-----\n",
       "Arithmetic is modular when using integer types, and no error is\n",
       "raised on overflow.\n",
       "\n",
       "The sum of an empty array is the neutral element 0:\n",
       "\n",
       ">>> np.sum([])\n",
       "0.0\n",
       "\n",
       "For floating point numbers the numerical precision of sum (and\n",
       "``np.add.reduce``) is in general limited by directly adding each number\n",
       "individually to the result causing rounding errors in every step.\n",
       "However, often numpy will use a  numerically better approach (partial\n",
       "pairwise summation) leading to improved precision in many use-cases.\n",
       "This improved precision is always provided when no ``axis`` is given.\n",
       "When ``axis`` is given, it will depend on which axis is summed.\n",
       "Technically, to provide the best speed possible, the improved precision\n",
       "is only used when the summation is along the fast axis in memory.\n",
       "Note that the exact precision may vary depending on other parameters.\n",
       "In contrast to NumPy, Python's ``math.fsum`` function uses a slower but\n",
       "more precise approach to summation.\n",
       "Especially when summing a large number of lower precision floating point\n",
       "numbers, such as ``float32``, numerical errors can become significant.\n",
       "In such cases it can be advisable to use `dtype=\"float64\"` to use a higher\n",
       "precision for the output.\n",
       "\n",
       "Examples\n",
       "--------\n",
       ">>> np.sum([0.5, 1.5])\n",
       "2.0\n",
       ">>> np.sum([0.5, 0.7, 0.2, 1.5], dtype=np.int32)\n",
       "1\n",
       ">>> np.sum([[0, 1], [0, 5]])\n",
       "6\n",
       ">>> np.sum([[0, 1], [0, 5]], axis=0)\n",
       "array([0, 6])\n",
       ">>> np.sum([[0, 1], [0, 5]], axis=1)\n",
       "array([1, 5])\n",
       ">>> np.sum([[0, 1], [np.nan, 5]], where=[False, True], axis=1)\n",
       "array([1., 5.])\n",
       "\n",
       "If the accumulator is too small, overflow occurs:\n",
       "\n",
       ">>> np.ones(128, dtype=np.int8).sum(dtype=np.int8)\n",
       "-128\n",
       "\n",
       "You can also start the sum with a value other than zero:\n",
       "\n",
       ">>> np.sum([10], initial=5)\n",
       "15\n",
       "\u001b[1;31mClass docstring:\u001b[0m\n",
       "Class to wrap functions with checks for __array_function__ overrides.\n",
       "\n",
       "All arguments are required, and can only be passed by position.\n",
       "\n",
       "Parameters\n",
       "----------\n",
       "dispatcher : function or None\n",
       "    The dispatcher function that returns a single sequence-like object\n",
       "    of all arguments relevant.  It must have the same signature (except\n",
       "    the default values) as the actual implementation.\n",
       "    If ``None``, this is a ``like=`` dispatcher and the\n",
       "    ``_ArrayFunctionDispatcher`` must be called with ``like`` as the\n",
       "    first (additional and positional) argument.\n",
       "implementation : function\n",
       "    Function that implements the operation on NumPy arrays without\n",
       "    overrides.  Arguments passed calling the ``_ArrayFunctionDispatcher``\n",
       "    will be forwarded to this (and the ``dispatcher``) as if using\n",
       "    ``*args, **kwargs``.\n",
       "\n",
       "Attributes\n",
       "----------\n",
       "_implementation : function\n",
       "    The original implementation passed in."
      ]
     },
     "metadata": {},
     "output_type": "display_data"
    }
   ],
   "source": [
    "np.sum?"
   ]
  },
  {
   "cell_type": "code",
   "execution_count": 32,
   "id": "7c7d2c91-2b72-4caa-8a77-cb545f9d0dd0",
   "metadata": {},
   "outputs": [
    {
     "data": {
      "text/plain": [
       "array([137, 137, 122, 116, 111])"
      ]
     },
     "execution_count": 32,
     "metadata": {},
     "output_type": "execute_result"
    }
   ],
   "source": [
    "np.sum(m1, axis=0) # (x)열 합계"
   ]
  },
  {
   "cell_type": "code",
   "execution_count": 33,
   "id": "3265bb93-92cb-4370-adfc-09c00c02e175",
   "metadata": {},
   "outputs": [
    {
     "data": {
      "text/plain": [
       "array([142, 161,  84, 140,  96])"
      ]
     },
     "execution_count": 33,
     "metadata": {},
     "output_type": "execute_result"
    }
   ],
   "source": [
    "np.sum(m1, axis=1) # (y)행 합계"
   ]
  },
  {
   "cell_type": "code",
   "execution_count": 34,
   "id": "d67f0854-74fa-4809-aeb9-2d646d9c3678",
   "metadata": {},
   "outputs": [
    {
     "data": {
      "text/plain": [
       "array([20, 47, 39, 34,  2])"
      ]
     },
     "execution_count": 34,
     "metadata": {},
     "output_type": "execute_result"
    }
   ],
   "source": [
    "# 1번째행의 합계는\n",
    "m1[0,:]"
   ]
  },
  {
   "cell_type": "code",
   "execution_count": 37,
   "id": "12a54ed2-8601-4d83-a6a3-6090299fd87b",
   "metadata": {},
   "outputs": [
    {
     "data": {
      "text/plain": [
       "142"
      ]
     },
     "execution_count": 37,
     "metadata": {},
     "output_type": "execute_result"
    }
   ],
   "source": [
    "# 1번째행의 합계는\n",
    "np.sum(m1[0,:], axis=0) # x축(행 방향) 합계"
   ]
  },
  {
   "cell_type": "markdown",
   "id": "d9add0d8-f04c-4ce7-9a58-e511c3548980",
   "metadata": {},
   "source": [
    "### Quiz 3번째 열의 합계"
   ]
  },
  {
   "cell_type": "code",
   "execution_count": 39,
   "id": "88a1d426-044e-4529-9fdd-d084d82bf6a7",
   "metadata": {},
   "outputs": [
    {
     "data": {
      "text/plain": [
       "122"
      ]
     },
     "execution_count": 39,
     "metadata": {},
     "output_type": "execute_result"
    }
   ],
   "source": [
    "np.sum(m1[:,2],axis=0)"
   ]
  },
  {
   "cell_type": "markdown",
   "id": "028f9ad0-88cb-4716-b6da-add604e4fa5b",
   "metadata": {},
   "source": [
    "## np.sort()"
   ]
  },
  {
   "cell_type": "code",
   "execution_count": 40,
   "id": "6164795b-6101-4887-87d2-a5fcede8a594",
   "metadata": {},
   "outputs": [],
   "source": [
    "import numpy as np"
   ]
  },
  {
   "cell_type": "code",
   "execution_count": 41,
   "id": "919f54fe-7258-4231-b383-73818721c8cd",
   "metadata": {},
   "outputs": [
    {
     "data": {
      "text/plain": [
       "array([[23, 35, 11],\n",
       "       [ 9, 44, 35],\n",
       "       [ 6,  9, 34],\n",
       "       [ 8, 36, 21]])"
      ]
     },
     "execution_count": 41,
     "metadata": {},
     "output_type": "execute_result"
    }
   ],
   "source": [
    "# 정수 난수로 구성된 4x3\n",
    "m2 = np.random.randint(1, 50,(4,3))\n",
    "m2"
   ]
  },
  {
   "cell_type": "code",
   "execution_count": 42,
   "id": "9be86bde-6530-49b4-ba9b-b82acb69b148",
   "metadata": {},
   "outputs": [
    {
     "data": {
      "text/plain": [
       "\u001b[1;31mSignature:\u001b[0m       \u001b[0mnp\u001b[0m\u001b[1;33m.\u001b[0m\u001b[0msort\u001b[0m\u001b[1;33m(\u001b[0m\u001b[0ma\u001b[0m\u001b[1;33m,\u001b[0m \u001b[0maxis\u001b[0m\u001b[1;33m=\u001b[0m\u001b[1;33m-\u001b[0m\u001b[1;36m1\u001b[0m\u001b[1;33m,\u001b[0m \u001b[0mkind\u001b[0m\u001b[1;33m=\u001b[0m\u001b[1;32mNone\u001b[0m\u001b[1;33m,\u001b[0m \u001b[0morder\u001b[0m\u001b[1;33m=\u001b[0m\u001b[1;32mNone\u001b[0m\u001b[1;33m)\u001b[0m\u001b[1;33m\u001b[0m\u001b[1;33m\u001b[0m\u001b[0m\n",
       "\u001b[1;31mCall signature:\u001b[0m  \u001b[0mnp\u001b[0m\u001b[1;33m.\u001b[0m\u001b[0msort\u001b[0m\u001b[1;33m(\u001b[0m\u001b[1;33m*\u001b[0m\u001b[0margs\u001b[0m\u001b[1;33m,\u001b[0m \u001b[1;33m**\u001b[0m\u001b[0mkwargs\u001b[0m\u001b[1;33m)\u001b[0m\u001b[1;33m\u001b[0m\u001b[1;33m\u001b[0m\u001b[0m\n",
       "\u001b[1;31mType:\u001b[0m            _ArrayFunctionDispatcher\n",
       "\u001b[1;31mString form:\u001b[0m     <function sort at 0x000001E0C3A69760>\n",
       "\u001b[1;31mFile:\u001b[0m            c:\\users\\rhals\\anaconda3\\lib\\site-packages\\numpy\\core\\fromnumeric.py\n",
       "\u001b[1;31mDocstring:\u001b[0m      \n",
       "Return a sorted copy of an array.\n",
       "\n",
       "Parameters\n",
       "----------\n",
       "a : array_like\n",
       "    Array to be sorted.\n",
       "axis : int or None, optional\n",
       "    Axis along which to sort. If None, the array is flattened before\n",
       "    sorting. The default is -1, which sorts along the last axis.\n",
       "kind : {'quicksort', 'mergesort', 'heapsort', 'stable'}, optional\n",
       "    Sorting algorithm. The default is 'quicksort'. Note that both 'stable'\n",
       "    and 'mergesort' use timsort or radix sort under the covers and, in general,\n",
       "    the actual implementation will vary with data type. The 'mergesort' option\n",
       "    is retained for backwards compatibility.\n",
       "\n",
       "    .. versionchanged:: 1.15.0.\n",
       "       The 'stable' option was added.\n",
       "\n",
       "order : str or list of str, optional\n",
       "    When `a` is an array with fields defined, this argument specifies\n",
       "    which fields to compare first, second, etc.  A single field can\n",
       "    be specified as a string, and not all fields need be specified,\n",
       "    but unspecified fields will still be used, in the order in which\n",
       "    they come up in the dtype, to break ties.\n",
       "\n",
       "Returns\n",
       "-------\n",
       "sorted_array : ndarray\n",
       "    Array of the same type and shape as `a`.\n",
       "\n",
       "See Also\n",
       "--------\n",
       "ndarray.sort : Method to sort an array in-place.\n",
       "argsort : Indirect sort.\n",
       "lexsort : Indirect stable sort on multiple keys.\n",
       "searchsorted : Find elements in a sorted array.\n",
       "partition : Partial sort.\n",
       "\n",
       "Notes\n",
       "-----\n",
       "The various sorting algorithms are characterized by their average speed,\n",
       "worst case performance, work space size, and whether they are stable. A\n",
       "stable sort keeps items with the same key in the same relative\n",
       "order. The four algorithms implemented in NumPy have the following\n",
       "properties:\n",
       "\n",
       "=========== ======= ============= ============ ========\n",
       "   kind      speed   worst case    work space   stable\n",
       "=========== ======= ============= ============ ========\n",
       "'quicksort'    1     O(n^2)            0          no\n",
       "'heapsort'     3     O(n*log(n))       0          no\n",
       "'mergesort'    2     O(n*log(n))      ~n/2        yes\n",
       "'timsort'      2     O(n*log(n))      ~n/2        yes\n",
       "=========== ======= ============= ============ ========\n",
       "\n",
       ".. note:: The datatype determines which of 'mergesort' or 'timsort'\n",
       "   is actually used, even if 'mergesort' is specified. User selection\n",
       "   at a finer scale is not currently available.\n",
       "\n",
       "All the sort algorithms make temporary copies of the data when\n",
       "sorting along any but the last axis.  Consequently, sorting along\n",
       "the last axis is faster and uses less space than sorting along\n",
       "any other axis.\n",
       "\n",
       "The sort order for complex numbers is lexicographic. If both the real\n",
       "and imaginary parts are non-nan then the order is determined by the\n",
       "real parts except when they are equal, in which case the order is\n",
       "determined by the imaginary parts.\n",
       "\n",
       "Previous to numpy 1.4.0 sorting real and complex arrays containing nan\n",
       "values led to undefined behaviour. In numpy versions >= 1.4.0 nan\n",
       "values are sorted to the end. The extended sort order is:\n",
       "\n",
       "  * Real: [R, nan]\n",
       "  * Complex: [R + Rj, R + nanj, nan + Rj, nan + nanj]\n",
       "\n",
       "where R is a non-nan real value. Complex values with the same nan\n",
       "placements are sorted according to the non-nan part if it exists.\n",
       "Non-nan values are sorted as before.\n",
       "\n",
       ".. versionadded:: 1.12.0\n",
       "\n",
       "quicksort has been changed to `introsort <https://en.wikipedia.org/wiki/Introsort>`_.\n",
       "When sorting does not make enough progress it switches to\n",
       "`heapsort <https://en.wikipedia.org/wiki/Heapsort>`_.\n",
       "This implementation makes quicksort O(n*log(n)) in the worst case.\n",
       "\n",
       "'stable' automatically chooses the best stable sorting algorithm\n",
       "for the data type being sorted.\n",
       "It, along with 'mergesort' is currently mapped to\n",
       "`timsort <https://en.wikipedia.org/wiki/Timsort>`_\n",
       "or `radix sort <https://en.wikipedia.org/wiki/Radix_sort>`_\n",
       "depending on the data type.\n",
       "API forward compatibility currently limits the\n",
       "ability to select the implementation and it is hardwired for the different\n",
       "data types.\n",
       "\n",
       ".. versionadded:: 1.17.0\n",
       "\n",
       "Timsort is added for better performance on already or nearly\n",
       "sorted data. On random data timsort is almost identical to\n",
       "mergesort. It is now used for stable sort while quicksort is still the\n",
       "default sort if none is chosen. For timsort details, refer to\n",
       "`CPython listsort.txt <https://github.com/python/cpython/blob/3.7/Objects/listsort.txt>`_.\n",
       "'mergesort' and 'stable' are mapped to radix sort for integer data types. Radix sort is an\n",
       "O(n) sort instead of O(n log n).\n",
       "\n",
       ".. versionchanged:: 1.18.0\n",
       "\n",
       "NaT now sorts to the end of arrays for consistency with NaN.\n",
       "\n",
       "Examples\n",
       "--------\n",
       ">>> a = np.array([[1,4],[3,1]])\n",
       ">>> np.sort(a)                # sort along the last axis\n",
       "array([[1, 4],\n",
       "       [1, 3]])\n",
       ">>> np.sort(a, axis=None)     # sort the flattened array\n",
       "array([1, 1, 3, 4])\n",
       ">>> np.sort(a, axis=0)        # sort along the first axis\n",
       "array([[1, 1],\n",
       "       [3, 4]])\n",
       "\n",
       "Use the `order` keyword to specify a field to use when sorting a\n",
       "structured array:\n",
       "\n",
       ">>> dtype = [('name', 'S10'), ('height', float), ('age', int)]\n",
       ">>> values = [('Arthur', 1.8, 41), ('Lancelot', 1.9, 38),\n",
       "...           ('Galahad', 1.7, 38)]\n",
       ">>> a = np.array(values, dtype=dtype)       # create a structured array\n",
       ">>> np.sort(a, order='height')                        # doctest: +SKIP\n",
       "array([('Galahad', 1.7, 38), ('Arthur', 1.8, 41),\n",
       "       ('Lancelot', 1.8999999999999999, 38)],\n",
       "      dtype=[('name', '|S10'), ('height', '<f8'), ('age', '<i4')])\n",
       "\n",
       "Sort by age, then height if ages are equal:\n",
       "\n",
       ">>> np.sort(a, order=['age', 'height'])               # doctest: +SKIP\n",
       "array([('Galahad', 1.7, 38), ('Lancelot', 1.8999999999999999, 38),\n",
       "       ('Arthur', 1.8, 41)],\n",
       "      dtype=[('name', '|S10'), ('height', '<f8'), ('age', '<i4')])\n",
       "\u001b[1;31mClass docstring:\u001b[0m\n",
       "Class to wrap functions with checks for __array_function__ overrides.\n",
       "\n",
       "All arguments are required, and can only be passed by position.\n",
       "\n",
       "Parameters\n",
       "----------\n",
       "dispatcher : function or None\n",
       "    The dispatcher function that returns a single sequence-like object\n",
       "    of all arguments relevant.  It must have the same signature (except\n",
       "    the default values) as the actual implementation.\n",
       "    If ``None``, this is a ``like=`` dispatcher and the\n",
       "    ``_ArrayFunctionDispatcher`` must be called with ``like`` as the\n",
       "    first (additional and positional) argument.\n",
       "implementation : function\n",
       "    Function that implements the operation on NumPy arrays without\n",
       "    overrides.  Arguments passed calling the ``_ArrayFunctionDispatcher``\n",
       "    will be forwarded to this (and the ``dispatcher``) as if using\n",
       "    ``*args, **kwargs``.\n",
       "\n",
       "Attributes\n",
       "----------\n",
       "_implementation : function\n",
       "    The original implementation passed in."
      ]
     },
     "metadata": {},
     "output_type": "display_data"
    }
   ],
   "source": [
    "np.sort?"
   ]
  },
  {
   "cell_type": "code",
   "execution_count": 57,
   "id": "4d1f2ecf-4539-4faa-9939-a1bdc72611b8",
   "metadata": {},
   "outputs": [
    {
     "data": {
      "text/plain": [
       "array([[23, 35, 11],\n",
       "       [ 9, 44, 35],\n",
       "       [ 6,  9, 34],\n",
       "       [ 8, 36, 21]])"
      ]
     },
     "execution_count": 57,
     "metadata": {},
     "output_type": "execute_result"
    }
   ],
   "source": [
    "m2"
   ]
  },
  {
   "cell_type": "code",
   "execution_count": 55,
   "id": "99979a7c-6f9e-4cb0-9a82-7a101a58bad9",
   "metadata": {},
   "outputs": [
    {
     "data": {
      "text/plain": [
       "array([[11, 23, 35],\n",
       "       [ 9, 35, 44],\n",
       "       [ 6,  9, 34],\n",
       "       [ 8, 21, 36]])"
      ]
     },
     "execution_count": 55,
     "metadata": {},
     "output_type": "execute_result"
    }
   ],
   "source": [
    "np.sort(m2) # 행안에서 열정렬 default axis = -1"
   ]
  },
  {
   "cell_type": "code",
   "execution_count": 45,
   "id": "4d35f089-1180-4cdc-8c72-bd499802da89",
   "metadata": {},
   "outputs": [
    {
     "data": {
      "text/plain": [
       "array([[ 6,  9, 11],\n",
       "       [ 8, 35, 21],\n",
       "       [ 9, 36, 34],\n",
       "       [23, 44, 35]])"
      ]
     },
     "execution_count": 45,
     "metadata": {},
     "output_type": "execute_result"
    }
   ],
   "source": [
    "np.sort(m2, axis=0) # 행방향 오름차순(요소별로)"
   ]
  },
  {
   "cell_type": "code",
   "execution_count": 63,
   "id": "30a9e5af-a7f1-490d-8914-2176629335eb",
   "metadata": {},
   "outputs": [
    {
     "data": {
      "text/plain": [
       "array([[ 8, 36, 21],\n",
       "       [ 6,  9, 34],\n",
       "       [ 9, 44, 35],\n",
       "       [23, 35, 11]])"
      ]
     },
     "execution_count": 63,
     "metadata": {},
     "output_type": "execute_result"
    }
   ],
   "source": [
    "m2[::-1, ::] # 행전체가 역순으로 바뀌는 것과는 다르다(+sort는 요소별 정렬)"
   ]
  },
  {
   "cell_type": "code",
   "execution_count": 62,
   "id": "073a681c-7976-49e5-8061-084c08f81901",
   "metadata": {},
   "outputs": [
    {
     "data": {
      "text/plain": [
       "array([[11, 35, 23],\n",
       "       [35, 44,  9],\n",
       "       [34,  9,  6],\n",
       "       [21, 36,  8]])"
      ]
     },
     "execution_count": 62,
     "metadata": {},
     "output_type": "execute_result"
    }
   ],
   "source": [
    "m2[::, ::-1]"
   ]
  },
  {
   "cell_type": "code",
   "execution_count": 58,
   "id": "88c15dca-f9a6-4a60-af89-177aa9b3ee07",
   "metadata": {},
   "outputs": [
    {
     "data": {
      "text/plain": [
       "array([[ 8, 36, 21],\n",
       "       [ 6,  9, 34],\n",
       "       [ 9, 44, 35],\n",
       "       [23, 35, 11]])"
      ]
     },
     "execution_count": 58,
     "metadata": {},
     "output_type": "execute_result"
    }
   ],
   "source": [
    "m2[::-1]"
   ]
  },
  {
   "cell_type": "code",
   "execution_count": 61,
   "id": "86abe471-fda5-4bd6-bc70-8ea332d22a1b",
   "metadata": {},
   "outputs": [
    {
     "data": {
      "text/plain": [
       "array([[23, 35, 11],\n",
       "       [ 9, 44, 35],\n",
       "       [ 6,  9, 34],\n",
       "       [ 8, 36, 21]])"
      ]
     },
     "execution_count": 61,
     "metadata": {},
     "output_type": "execute_result"
    }
   ],
   "source": [
    "m2[::]"
   ]
  },
  {
   "cell_type": "code",
   "execution_count": 47,
   "id": "ca63f385-836c-4923-a124-0d2d0f11b768",
   "metadata": {},
   "outputs": [
    {
     "data": {
      "text/plain": [
       "array([[23, 35, 11],\n",
       "       [ 9, 44, 35],\n",
       "       [ 6,  9, 34],\n",
       "       [ 8, 36, 21]])"
      ]
     },
     "execution_count": 47,
     "metadata": {},
     "output_type": "execute_result"
    }
   ],
   "source": [
    "m2"
   ]
  },
  {
   "cell_type": "code",
   "execution_count": 48,
   "id": "bf068ca1-a5c7-4c3d-892e-1b0e355c0fa0",
   "metadata": {},
   "outputs": [
    {
     "data": {
      "text/plain": [
       "array([[11, 23, 35],\n",
       "       [ 9, 35, 44],\n",
       "       [ 6,  9, 34],\n",
       "       [ 8, 21, 36]])"
      ]
     },
     "execution_count": 48,
     "metadata": {},
     "output_type": "execute_result"
    }
   ],
   "source": [
    "np.sort(m2, axis=1) # 행정렬 (열방향 오름차순)"
   ]
  },
  {
   "cell_type": "code",
   "execution_count": 60,
   "id": "50e9fdf6-ce3d-42e5-a977-ee24beafa4e6",
   "metadata": {},
   "outputs": [
    {
     "data": {
      "text/plain": [
       "array([[21, 36,  8],\n",
       "       [34,  9,  6],\n",
       "       [35, 44,  9],\n",
       "       [11, 35, 23]])"
      ]
     },
     "execution_count": 60,
     "metadata": {},
     "output_type": "execute_result"
    }
   ],
   "source": [
    "m2[::-1, ::-1] "
   ]
  },
  {
   "cell_type": "markdown",
   "id": "213fdd81-dfb7-44be-89a6-85635634646d",
   "metadata": {},
   "source": [
    "## 인덱스 소팅\n",
    "np.argsort(넘파이배열, axis=0,1)   \n",
    "\n",
    "정렬값을 인덱스로 반환 (np.sort()를 인덱스로)   "
   ]
  },
  {
   "cell_type": "code",
   "execution_count": 51,
   "id": "67de34ab-ad37-46ba-83ba-c531b4e11237",
   "metadata": {},
   "outputs": [
    {
     "data": {
      "text/plain": [
       "array([2, 1, 0], dtype=int64)"
      ]
     },
     "execution_count": 51,
     "metadata": {},
     "output_type": "execute_result"
    }
   ],
   "source": [
    "x = np.array([9,5,4])\n",
    "np.argsort(x) # 오름차순 정렬 4 5 9 의 인덱스 값 "
   ]
  },
  {
   "cell_type": "code",
   "execution_count": 52,
   "id": "a17ac3d6-b673-4e87-aaf1-fd5046bc62b6",
   "metadata": {},
   "outputs": [
    {
     "data": {
      "text/plain": [
       "array([4, 5, 9])"
      ]
     },
     "execution_count": 52,
     "metadata": {},
     "output_type": "execute_result"
    }
   ],
   "source": [
    "x[np.argsort(x)] # 인덱스값으로 실제 값 출력"
   ]
  },
  {
   "cell_type": "markdown",
   "id": "eea45ad6-af9f-4411-90e1-708f9a3e9583",
   "metadata": {},
   "source": [
    "## 넘파이 배열 요소 추가와 삭제\n",
    " - 삽입\n",
    "\n",
    "np.insert(배열, 위치인덱스, 값, axis=0/1)\n",
    "2차원인 경우 axis를 설정하지 않으면 1차원 배열로 변경되어 삽입출력\n",
    "삭제\n",
    "\n",
    "np.delete(배열명, 위치인덱스, axis=0/1)"
   ]
  },
  {
   "cell_type": "code",
   "execution_count": 65,
   "id": "3fb961d1-0fed-42cd-8400-e8b813a0f98a",
   "metadata": {},
   "outputs": [
    {
     "data": {
      "text/plain": [
       "array([ 1,  2,  3,  4,  5,  6,  7,  8,  9, 10])"
      ]
     },
     "execution_count": 65,
     "metadata": {},
     "output_type": "execute_result"
    }
   ],
   "source": [
    "m3 = np.arange(1,11)\n",
    "m3"
   ]
  },
  {
   "cell_type": "code",
   "execution_count": 69,
   "id": "a1f9074a-c2a8-4ec6-bdf4-15ad33c97bb8",
   "metadata": {},
   "outputs": [
    {
     "data": {
      "text/plain": [
       "\u001b[1;31mSignature:\u001b[0m       \u001b[0mnp\u001b[0m\u001b[1;33m.\u001b[0m\u001b[0minsert\u001b[0m\u001b[1;33m(\u001b[0m\u001b[0marr\u001b[0m\u001b[1;33m,\u001b[0m \u001b[0mobj\u001b[0m\u001b[1;33m,\u001b[0m \u001b[0mvalues\u001b[0m\u001b[1;33m,\u001b[0m \u001b[0maxis\u001b[0m\u001b[1;33m=\u001b[0m\u001b[1;32mNone\u001b[0m\u001b[1;33m)\u001b[0m\u001b[1;33m\u001b[0m\u001b[1;33m\u001b[0m\u001b[0m\n",
       "\u001b[1;31mCall signature:\u001b[0m  \u001b[0mnp\u001b[0m\u001b[1;33m.\u001b[0m\u001b[0minsert\u001b[0m\u001b[1;33m(\u001b[0m\u001b[1;33m*\u001b[0m\u001b[0margs\u001b[0m\u001b[1;33m,\u001b[0m \u001b[1;33m**\u001b[0m\u001b[0mkwargs\u001b[0m\u001b[1;33m)\u001b[0m\u001b[1;33m\u001b[0m\u001b[1;33m\u001b[0m\u001b[0m\n",
       "\u001b[1;31mType:\u001b[0m            _ArrayFunctionDispatcher\n",
       "\u001b[1;31mString form:\u001b[0m     <function insert at 0x000001E0C3CBBEC0>\n",
       "\u001b[1;31mFile:\u001b[0m            c:\\users\\rhals\\anaconda3\\lib\\site-packages\\numpy\\lib\\function_base.py\n",
       "\u001b[1;31mDocstring:\u001b[0m      \n",
       "Insert values along the given axis before the given indices.\n",
       "\n",
       "Parameters\n",
       "----------\n",
       "arr : array_like\n",
       "    Input array.\n",
       "obj : int, slice or sequence of ints\n",
       "    Object that defines the index or indices before which `values` is\n",
       "    inserted.\n",
       "\n",
       "    .. versionadded:: 1.8.0\n",
       "\n",
       "    Support for multiple insertions when `obj` is a single scalar or a\n",
       "    sequence with one element (similar to calling insert multiple\n",
       "    times).\n",
       "values : array_like\n",
       "    Values to insert into `arr`. If the type of `values` is different\n",
       "    from that of `arr`, `values` is converted to the type of `arr`.\n",
       "    `values` should be shaped so that ``arr[...,obj,...] = values``\n",
       "    is legal.\n",
       "axis : int, optional\n",
       "    Axis along which to insert `values`.  If `axis` is None then `arr`\n",
       "    is flattened first.\n",
       "\n",
       "Returns\n",
       "-------\n",
       "out : ndarray\n",
       "    A copy of `arr` with `values` inserted.  Note that `insert`\n",
       "    does not occur in-place: a new array is returned. If\n",
       "    `axis` is None, `out` is a flattened array.\n",
       "\n",
       "See Also\n",
       "--------\n",
       "append : Append elements at the end of an array.\n",
       "concatenate : Join a sequence of arrays along an existing axis.\n",
       "delete : Delete elements from an array.\n",
       "\n",
       "Notes\n",
       "-----\n",
       "Note that for higher dimensional inserts ``obj=0`` behaves very different\n",
       "from ``obj=[0]`` just like ``arr[:,0,:] = values`` is different from\n",
       "``arr[:,[0],:] = values``.\n",
       "\n",
       "Examples\n",
       "--------\n",
       ">>> a = np.array([[1, 1], [2, 2], [3, 3]])\n",
       ">>> a\n",
       "array([[1, 1],\n",
       "       [2, 2],\n",
       "       [3, 3]])\n",
       ">>> np.insert(a, 1, 5)\n",
       "array([1, 5, 1, ..., 2, 3, 3])\n",
       ">>> np.insert(a, 1, 5, axis=1)\n",
       "array([[1, 5, 1],\n",
       "       [2, 5, 2],\n",
       "       [3, 5, 3]])\n",
       "\n",
       "Difference between sequence and scalars:\n",
       "\n",
       ">>> np.insert(a, [1], [[1],[2],[3]], axis=1)\n",
       "array([[1, 1, 1],\n",
       "       [2, 2, 2],\n",
       "       [3, 3, 3]])\n",
       ">>> np.array_equal(np.insert(a, 1, [1, 2, 3], axis=1),\n",
       "...                np.insert(a, [1], [[1],[2],[3]], axis=1))\n",
       "True\n",
       "\n",
       ">>> b = a.flatten()\n",
       ">>> b\n",
       "array([1, 1, 2, 2, 3, 3])\n",
       ">>> np.insert(b, [2, 2], [5, 6])\n",
       "array([1, 1, 5, ..., 2, 3, 3])\n",
       "\n",
       ">>> np.insert(b, slice(2, 4), [5, 6])\n",
       "array([1, 1, 5, ..., 2, 3, 3])\n",
       "\n",
       ">>> np.insert(b, [2, 2], [7.13, False]) # type casting\n",
       "array([1, 1, 7, ..., 2, 3, 3])\n",
       "\n",
       ">>> x = np.arange(8).reshape(2, 4)\n",
       ">>> idx = (1, 3)\n",
       ">>> np.insert(x, idx, 999, axis=1)\n",
       "array([[  0, 999,   1,   2, 999,   3],\n",
       "       [  4, 999,   5,   6, 999,   7]])\n",
       "\u001b[1;31mClass docstring:\u001b[0m\n",
       "Class to wrap functions with checks for __array_function__ overrides.\n",
       "\n",
       "All arguments are required, and can only be passed by position.\n",
       "\n",
       "Parameters\n",
       "----------\n",
       "dispatcher : function or None\n",
       "    The dispatcher function that returns a single sequence-like object\n",
       "    of all arguments relevant.  It must have the same signature (except\n",
       "    the default values) as the actual implementation.\n",
       "    If ``None``, this is a ``like=`` dispatcher and the\n",
       "    ``_ArrayFunctionDispatcher`` must be called with ``like`` as the\n",
       "    first (additional and positional) argument.\n",
       "implementation : function\n",
       "    Function that implements the operation on NumPy arrays without\n",
       "    overrides.  Arguments passed calling the ``_ArrayFunctionDispatcher``\n",
       "    will be forwarded to this (and the ``dispatcher``) as if using\n",
       "    ``*args, **kwargs``.\n",
       "\n",
       "Attributes\n",
       "----------\n",
       "_implementation : function\n",
       "    The original implementation passed in."
      ]
     },
     "metadata": {},
     "output_type": "display_data"
    }
   ],
   "source": [
    "np.insert?"
   ]
  },
  {
   "cell_type": "code",
   "execution_count": 66,
   "id": "93ab3978-36a3-4359-b2cb-3aa7d6af9e32",
   "metadata": {},
   "outputs": [
    {
     "data": {
      "text/plain": [
       "array([100,   1,   2,   3,   4,   5,   6,   7,   8,   9,  10])"
      ]
     },
     "execution_count": 66,
     "metadata": {},
     "output_type": "execute_result"
    }
   ],
   "source": [
    "np.insert(m3, 0, 100)"
   ]
  },
  {
   "cell_type": "code",
   "execution_count": 67,
   "id": "1b709c97-156a-4256-8c53-54eb81bbec81",
   "metadata": {},
   "outputs": [
    {
     "data": {
      "text/plain": [
       "1"
      ]
     },
     "execution_count": 67,
     "metadata": {},
     "output_type": "execute_result"
    }
   ],
   "source": [
    "m3[0]"
   ]
  },
  {
   "cell_type": "code",
   "execution_count": 70,
   "id": "3c175bbf-1020-4563-b31d-6b0dad328348",
   "metadata": {},
   "outputs": [
    {
     "data": {
      "text/plain": [
       "10"
      ]
     },
     "execution_count": 70,
     "metadata": {},
     "output_type": "execute_result"
    }
   ],
   "source": [
    "m3[-1]"
   ]
  },
  {
   "cell_type": "code",
   "execution_count": 71,
   "id": "eadb4d53-b221-4cf5-8b31-68dc8a292549",
   "metadata": {},
   "outputs": [
    {
     "data": {
      "text/plain": [
       "array([  1,   2,   3,   4,   5,   6,   7,   8,   9, 500,  10])"
      ]
     },
     "execution_count": 71,
     "metadata": {},
     "output_type": "execute_result"
    }
   ],
   "source": [
    "np.insert(m3, -1, 500)  # 인덱싱/슬라이싱 end처럼 인식"
   ]
  },
  {
   "cell_type": "code",
   "execution_count": 72,
   "id": "53794069-07d1-45fe-8320-c74f662c521b",
   "metadata": {},
   "outputs": [
    {
     "data": {
      "text/plain": [
       "array([  1,   2,   3,   4,   5,   6,   7,   8,   9,  10, 500])"
      ]
     },
     "execution_count": 72,
     "metadata": {},
     "output_type": "execute_result"
    }
   ],
   "source": [
    "np.insert(m3, len(m3), 500) "
   ]
  },
  {
   "cell_type": "code",
   "execution_count": 73,
   "id": "c0a06461-8641-4362-ab88-edd6f901c59e",
   "metadata": {},
   "outputs": [
    {
     "data": {
      "text/plain": [
       "array([[1, 2, 3],\n",
       "       [4, 5, 6],\n",
       "       [7, 8, 9]])"
      ]
     },
     "execution_count": 73,
     "metadata": {},
     "output_type": "execute_result"
    }
   ],
   "source": [
    "m4 = np.arange(1,10).reshape(3,3)\n",
    "m4"
   ]
  },
  {
   "cell_type": "code",
   "execution_count": 74,
   "id": "b41ee541-16e9-4511-9e68-a1554d061d39",
   "metadata": {},
   "outputs": [
    {
     "data": {
      "text/plain": [
       "array([100,   1,   2,   3,   4,   5,   6,   7,   8,   9])"
      ]
     },
     "execution_count": 74,
     "metadata": {},
     "output_type": "execute_result"
    }
   ],
   "source": [
    "np.insert(m4, 0, 100) # 2차원배열의 경우 axis 미설정시 1차원으로 변경되어 삽입"
   ]
  },
  {
   "cell_type": "code",
   "execution_count": 75,
   "id": "69196c7a-d480-4d98-a5ba-fe828ca71b58",
   "metadata": {},
   "outputs": [
    {
     "data": {
      "text/plain": [
       "array([[100,   1,   2,   3],\n",
       "       [100,   4,   5,   6],\n",
       "       [100,   7,   8,   9]])"
      ]
     },
     "execution_count": 75,
     "metadata": {},
     "output_type": "execute_result"
    }
   ],
   "source": [
    "# 1열으로 [100,100,100] 삽입\n",
    "np.insert(m4, 0, 100, axis=1)"
   ]
  },
  {
   "cell_type": "code",
   "execution_count": 76,
   "id": "bce67b5c-8bf4-4c5e-be66-5dc4fc76f3a3",
   "metadata": {},
   "outputs": [
    {
     "data": {
      "text/plain": [
       "array([[100,   1,   2,   3],\n",
       "       [200,   4,   5,   6],\n",
       "       [300,   7,   8,   9]])"
      ]
     },
     "execution_count": 76,
     "metadata": {},
     "output_type": "execute_result"
    }
   ],
   "source": [
    "# 리스트로 삽입\n",
    "np.insert(m4, 0, [100,200,300], axis=1)"
   ]
  },
  {
   "cell_type": "code",
   "execution_count": 77,
   "id": "a805fcb3-2b99-48ef-9560-db0c62b7733f",
   "metadata": {},
   "outputs": [
    {
     "data": {
      "text/plain": [
       "((3, 3), 3, 3)"
      ]
     },
     "execution_count": 77,
     "metadata": {},
     "output_type": "execute_result"
    }
   ],
   "source": [
    "m4.shape, m4.shape[1], len(m4)"
   ]
  },
  {
   "cell_type": "code",
   "execution_count": 78,
   "id": "2d24fe70-face-473b-94e9-5f68ce46c722",
   "metadata": {},
   "outputs": [
    {
     "data": {
      "text/plain": [
       "array([[  1,   2,   3, 100],\n",
       "       [  4,   5,   6, 200],\n",
       "       [  7,   8,   9, 300]])"
      ]
     },
     "execution_count": 78,
     "metadata": {},
     "output_type": "execute_result"
    }
   ],
   "source": [
    "# 마지막 컬럼으로 삽입\n",
    "# 배열명.shape[1] 칼럼 길이\n",
    "np.insert(m4, m4.shape[1], [100,200,300], axis=1)"
   ]
  },
  {
   "cell_type": "code",
   "execution_count": 79,
   "id": "19a0401a-4f5e-4a61-badd-48978a6bf776",
   "metadata": {},
   "outputs": [
    {
     "data": {
      "text/plain": [
       "array([[  1,   2,   3],\n",
       "       [  4,   5,   6],\n",
       "       [  7,   8,   9],\n",
       "       [100, 200, 300]])"
      ]
     },
     "execution_count": 79,
     "metadata": {},
     "output_type": "execute_result"
    }
   ],
   "source": [
    "# 마지막 행에 삽입\n",
    "np.insert(m4, m4.shape[0], [100,200,300], axis=0)"
   ]
  },
  {
   "cell_type": "code",
   "execution_count": 80,
   "id": "3f7670ac-a108-4204-86d9-9caa15ca1da6",
   "metadata": {},
   "outputs": [
    {
     "data": {
      "text/plain": [
       "array([[1, 2, 3],\n",
       "       [4, 5, 6],\n",
       "       [7, 8, 9]])"
      ]
     },
     "execution_count": 80,
     "metadata": {},
     "output_type": "execute_result"
    }
   ],
   "source": [
    "m4"
   ]
  },
  {
   "cell_type": "code",
   "execution_count": 81,
   "id": "a6dca79c-3d08-45b6-8aaf-5c5d0dbdbdd2",
   "metadata": {},
   "outputs": [
    {
     "data": {
      "text/plain": [
       "array([[4, 5, 6],\n",
       "       [7, 8, 9]])"
      ]
     },
     "execution_count": 81,
     "metadata": {},
     "output_type": "execute_result"
    }
   ],
   "source": [
    "np.delete(m4, 0, axis=0)"
   ]
  },
  {
   "cell_type": "markdown",
   "id": "b6abffbc-f197-4184-b69a-b49fd0c08d9b",
   "metadata": {},
   "source": [
    "## 배열 합치기\n",
    " - np.vstack((배열1,배열2....)) : 세로 합치기\n",
    " - np.hstack((배열1,배열2....)) : 가로 합치기\n",
    " - np.concatenate((배열1, 배열2), axis=0/1 ) 2차원만 가능"
   ]
  },
  {
   "cell_type": "code",
   "execution_count": 82,
   "id": "f650a28c-eb81-4a07-b612-14c8f506e28d",
   "metadata": {},
   "outputs": [
    {
     "data": {
      "text/plain": [
       "array([[1, 2, 3],\n",
       "       [4, 5, 6]])"
      ]
     },
     "execution_count": 82,
     "metadata": {},
     "output_type": "execute_result"
    }
   ],
   "source": [
    "a = np.array([1,2,3])\n",
    "b = np.array([4,5,6])\n",
    "np.vstack((a,b))"
   ]
  },
  {
   "cell_type": "code",
   "execution_count": 89,
   "id": "4d2a2358-a4b6-4671-bb1f-a385b5b539d9",
   "metadata": {},
   "outputs": [
    {
     "data": {
      "text/plain": [
       "(array([1, 2, 3, 4, 5, 6]), 1, (6,))"
      ]
     },
     "execution_count": 89,
     "metadata": {},
     "output_type": "execute_result"
    }
   ],
   "source": [
    "np.hstack((a,b)), np.hstack((a,b)).ndim , np.hstack((a,b)).shape"
   ]
  },
  {
   "cell_type": "code",
   "execution_count": 85,
   "id": "9403a620-0bef-472e-a286-0afeec8c501a",
   "metadata": {},
   "outputs": [
    {
     "data": {
      "text/plain": [
       "(array([[1, 2, 3]]), 2, (1, 3))"
      ]
     },
     "execution_count": 85,
     "metadata": {},
     "output_type": "execute_result"
    }
   ],
   "source": [
    "c = np.array([[1,2,3]]) # 2차원\n",
    "c, c.ndim, c.shape"
   ]
  },
  {
   "cell_type": "code",
   "execution_count": 86,
   "id": "3f9ad29a-3eb8-4cd3-825e-6e19b6cccee0",
   "metadata": {},
   "outputs": [
    {
     "data": {
      "text/plain": [
       "(array([[4, 5, 6]]), 2, (1, 3))"
      ]
     },
     "execution_count": 86,
     "metadata": {},
     "output_type": "execute_result"
    }
   ],
   "source": [
    "d = np.array([[4,5,6]]) # 2차원\n",
    "d, d.ndim, d.shape"
   ]
  },
  {
   "cell_type": "code",
   "execution_count": 87,
   "id": "6dd8cc40-e904-4f4c-9e00-83d3fcdb8ac2",
   "metadata": {},
   "outputs": [
    {
     "data": {
      "text/plain": [
       "(array([[1, 2, 3],\n",
       "        [4, 5, 6]]),\n",
       " 2,\n",
       " (2, 3))"
      ]
     },
     "execution_count": 87,
     "metadata": {},
     "output_type": "execute_result"
    }
   ],
   "source": [
    "f = np.concatenate((c,d), axis=0) #\n",
    "f, f.ndim, f.shape"
   ]
  },
  {
   "cell_type": "code",
   "execution_count": 90,
   "id": "2e12ebd2-e3b7-491e-97be-c9363786d36a",
   "metadata": {},
   "outputs": [
    {
     "data": {
      "text/plain": [
       "(array([[1, 2, 3, 4, 5, 6]]), 2, (1, 6))"
      ]
     },
     "execution_count": 90,
     "metadata": {},
     "output_type": "execute_result"
    }
   ],
   "source": [
    "f = np.concatenate((c,d), axis=1) #\n",
    "f, f.ndim, f.shape"
   ]
  },
  {
   "cell_type": "markdown",
   "id": "a2a0649e-6079-4126-8e09-894cb1a50a62",
   "metadata": {},
   "source": [
    "## boolean indexing, mask\n",
    " - 조건절의 결과는 True, False로 반환\n",
    " - True인 결과의 데이터 반환\n",
    " - 넘파이배열[조건절] : ==, !=, <=, >=, &, |, ~"
   ]
  },
  {
   "cell_type": "code",
   "execution_count": 91,
   "id": "970fb3d9-7bff-40de-b4fe-39672fcc54c9",
   "metadata": {},
   "outputs": [
    {
     "data": {
      "text/plain": [
       "array([ 1,  2,  3,  4,  5,  6,  7,  8,  9, 10, 11, 12, 13, 14, 15, 16, 17,\n",
       "       18, 19, 20])"
      ]
     },
     "execution_count": 91,
     "metadata": {},
     "output_type": "execute_result"
    }
   ],
   "source": [
    "matrix = np.arange(1, 21)\n",
    "matrix"
   ]
  },
  {
   "cell_type": "code",
   "execution_count": 92,
   "id": "9eb15a7c-667e-4f24-8ea2-3cf69971109b",
   "metadata": {},
   "outputs": [
    {
     "data": {
      "text/plain": [
       "array([False, False, False, False, False, False, False, False, False,\n",
       "       False,  True,  True,  True,  True,  True,  True,  True,  True,\n",
       "        True,  True])"
      ]
     },
     "execution_count": 92,
     "metadata": {},
     "output_type": "execute_result"
    }
   ],
   "source": [
    "matrix > 10"
   ]
  },
  {
   "cell_type": "code",
   "execution_count": 93,
   "id": "2730d260-89c9-4ad2-b9c4-64d0ee4a21cf",
   "metadata": {},
   "outputs": [
    {
     "data": {
      "text/plain": [
       "array([11, 12, 13, 14, 15, 16, 17, 18, 19, 20])"
      ]
     },
     "execution_count": 93,
     "metadata": {},
     "output_type": "execute_result"
    }
   ],
   "source": [
    "matrix[matrix > 10]"
   ]
  },
  {
   "cell_type": "code",
   "execution_count": 94,
   "id": "a7074a2c-654f-4445-b69e-5d3255e8d854",
   "metadata": {},
   "outputs": [
    {
     "data": {
      "text/plain": [
       "10"
      ]
     },
     "execution_count": 94,
     "metadata": {},
     "output_type": "execute_result"
    }
   ],
   "source": [
    "(matrix > 10).sum()"
   ]
  },
  {
   "cell_type": "code",
   "execution_count": 95,
   "id": "5400534b-039d-49a5-9033-4ce18110567a",
   "metadata": {},
   "outputs": [
    {
     "data": {
      "text/plain": [
       "10"
      ]
     },
     "execution_count": 95,
     "metadata": {},
     "output_type": "execute_result"
    }
   ],
   "source": [
    "len(matrix[matrix > 10])"
   ]
  },
  {
   "cell_type": "markdown",
   "id": "e2c39700-3571-49bd-b42e-d335ce2e227b",
   "metadata": {},
   "source": [
    "### Quiz : 1~100사이 난수 30개를 추출하여 넘파이 배열을 생성하고, 30보다 크거나 70보다 작은 수를 출력하라"
   ]
  },
  {
   "cell_type": "code",
   "execution_count": 97,
   "id": "b4a693b7-468f-4db0-bd0f-a3ba7ccb6252",
   "metadata": {},
   "outputs": [
    {
     "data": {
      "text/plain": [
       "array([16, 60, 29,  1, 42, 94, 41, 78, 40, 65, 41, 62,  6,  1, 34, 82, 13,\n",
       "       81, 63, 71,  1, 15, 75, 92, 68, 33, 98, 98, 45, 54])"
      ]
     },
     "execution_count": 97,
     "metadata": {},
     "output_type": "execute_result"
    }
   ],
   "source": [
    "np.random.randint(1, 100, 30)"
   ]
  },
  {
   "cell_type": "code",
   "execution_count": 98,
   "id": "56ba69d9-5405-48c3-b186-a3457e0814c0",
   "metadata": {},
   "outputs": [
    {
     "data": {
      "text/plain": [
       "array([29, 49, 28, 74, 93, 57,  5, 27, 68, 52, 31, 55, 71, 83, 55, 72, 10,\n",
       "       71, 84, 82, 14,  5, 68, 10, 66, 77, 96, 66, 30,  6])"
      ]
     },
     "execution_count": 98,
     "metadata": {},
     "output_type": "execute_result"
    }
   ],
   "source": [
    "matrix = np.random.randint(1, 100, 30)\n",
    "matrix"
   ]
  },
  {
   "cell_type": "code",
   "execution_count": 108,
   "id": "e89d4927-cb2d-4b4e-bdb9-903a59b54a45",
   "metadata": {},
   "outputs": [
    {
     "data": {
      "text/plain": [
       "array([False,  True, False, False, False,  True, False, False,  True,\n",
       "        True,  True,  True, False, False,  True, False, False, False,\n",
       "       False, False, False, False,  True, False,  True, False, False,\n",
       "        True, False, False])"
      ]
     },
     "execution_count": 108,
     "metadata": {},
     "output_type": "execute_result"
    }
   ],
   "source": [
    "(matrix>30) & (matrix<70)"
   ]
  },
  {
   "cell_type": "code",
   "execution_count": 110,
   "id": "51067e72-14ec-48a8-b981-e30fb6d6cc1b",
   "metadata": {},
   "outputs": [
    {
     "data": {
      "text/plain": [
       "array([49, 57, 68, 52, 31, 55, 55, 68, 66, 66])"
      ]
     },
     "execution_count": 110,
     "metadata": {},
     "output_type": "execute_result"
    }
   ],
   "source": [
    "matrix[(matrix>30) & (matrix<70)]"
   ]
  },
  {
   "cell_type": "markdown",
   "id": "6337a8d8-d4cc-40b6-9b3d-062abb532e32",
   "metadata": {},
   "source": [
    "### Quiz2 : 10보다 작거나 90보다 큰수 출력하기"
   ]
  },
  {
   "cell_type": "code",
   "execution_count": 112,
   "id": "966ad5c9-ddea-4e5e-b1a3-90f04d8f3135",
   "metadata": {},
   "outputs": [
    {
     "data": {
      "text/plain": [
       "array([43, 42, 25,  7, 83, 20, 88, 74, 28, 39, 44, 89, 54, 69,  4, 41, 98,\n",
       "       93, 74, 61, 70, 19, 29, 75, 13, 49, 37, 43, 97, 41])"
      ]
     },
     "execution_count": 112,
     "metadata": {},
     "output_type": "execute_result"
    }
   ],
   "source": [
    "matrix = np.random.randint(1, 100, 30)\n",
    "matrix"
   ]
  },
  {
   "cell_type": "code",
   "execution_count": 116,
   "id": "1428fab4-d517-4be0-9e0c-fdd138aecf1f",
   "metadata": {},
   "outputs": [
    {
     "data": {
      "text/plain": [
       "array([ 7,  4, 98, 93, 97])"
      ]
     },
     "execution_count": 116,
     "metadata": {},
     "output_type": "execute_result"
    }
   ],
   "source": [
    "matrix[(matrix<10) | (matrix>90)]"
   ]
  },
  {
   "cell_type": "markdown",
   "id": "031661ee-b2d1-47dd-a3f3-41a304e408e6",
   "metadata": {},
   "source": [
    "## fancy indexing(filtering)\n",
    "넘파이 배열에 배열로 인덱싱하면 인덱스 번호로 인식한다.\n",
    "\n",
    " - 넘파이배열1[넘파이배열2]\n",
    " - 넘파이배열2 : 인덱스 역할 (only 정수형)"
   ]
  },
  {
   "cell_type": "code",
   "execution_count": 117,
   "id": "7d8fdeca-5fae-4750-a47f-627c828d38c4",
   "metadata": {},
   "outputs": [
    {
     "data": {
      "text/plain": [
       "(array([94, 86, 34, 49, 17, 32, 38, 70, 58, 76,  4, 59,  9, 41, 90, 64, 75,\n",
       "        94, 45, 76,  8, 26, 64, 20, 67, 90, 66, 93, 70,  3]),\n",
       " array([94, 34, 49,  4,  8]))"
      ]
     },
     "execution_count": 117,
     "metadata": {},
     "output_type": "execute_result"
    }
   ],
   "source": [
    "n = np.random.randint(1,100,30)\n",
    "i = np.array([0, 2, 3, 10, 20])\n",
    "n, n[i]"
   ]
  },
  {
   "cell_type": "markdown",
   "id": "e677b982-c5d4-4987-abee-c9a1e50e26fb",
   "metadata": {},
   "source": [
    "## np.where()를 이용한 필터링\n",
    " - np.where(조건식) : 조건식 만족하는 인덱스 반환\n",
    " - np.where(조건식, T, F) : 조건식 만족하면 T값, 아니면F값\n",
    " - 배열[np.where(조건식)] : 조건식 만족하는 실제 배열값"
   ]
  },
  {
   "cell_type": "code",
   "execution_count": 118,
   "id": "ac901130-1aee-4f33-b07f-7ae40f730360",
   "metadata": {
    "scrolled": true
   },
   "outputs": [
    {
     "data": {
      "text/plain": [
       "\u001b[1;31mCall signature:\u001b[0m  \u001b[0mnp\u001b[0m\u001b[1;33m.\u001b[0m\u001b[0mwhere\u001b[0m\u001b[1;33m(\u001b[0m\u001b[1;33m*\u001b[0m\u001b[0margs\u001b[0m\u001b[1;33m,\u001b[0m \u001b[1;33m**\u001b[0m\u001b[0mkwargs\u001b[0m\u001b[1;33m)\u001b[0m\u001b[1;33m\u001b[0m\u001b[1;33m\u001b[0m\u001b[0m\n",
       "\u001b[1;31mType:\u001b[0m            _ArrayFunctionDispatcher\n",
       "\u001b[1;31mString form:\u001b[0m     <built-in function where>\n",
       "\u001b[1;31mDocstring:\u001b[0m      \n",
       "where(condition, [x, y], /)\n",
       "\n",
       "Return elements chosen from `x` or `y` depending on `condition`.\n",
       "\n",
       ".. note::\n",
       "    When only `condition` is provided, this function is a shorthand for\n",
       "    ``np.asarray(condition).nonzero()``. Using `nonzero` directly should be\n",
       "    preferred, as it behaves correctly for subclasses. The rest of this\n",
       "    documentation covers only the case where all three arguments are\n",
       "    provided.\n",
       "\n",
       "Parameters\n",
       "----------\n",
       "condition : array_like, bool\n",
       "    Where True, yield `x`, otherwise yield `y`.\n",
       "x, y : array_like\n",
       "    Values from which to choose. `x`, `y` and `condition` need to be\n",
       "    broadcastable to some shape.\n",
       "\n",
       "Returns\n",
       "-------\n",
       "out : ndarray\n",
       "    An array with elements from `x` where `condition` is True, and elements\n",
       "    from `y` elsewhere.\n",
       "\n",
       "See Also\n",
       "--------\n",
       "choose\n",
       "nonzero : The function that is called when x and y are omitted\n",
       "\n",
       "Notes\n",
       "-----\n",
       "If all the arrays are 1-D, `where` is equivalent to::\n",
       "\n",
       "    [xv if c else yv\n",
       "     for c, xv, yv in zip(condition, x, y)]\n",
       "\n",
       "Examples\n",
       "--------\n",
       ">>> a = np.arange(10)\n",
       ">>> a\n",
       "array([0, 1, 2, 3, 4, 5, 6, 7, 8, 9])\n",
       ">>> np.where(a < 5, a, 10*a)\n",
       "array([ 0,  1,  2,  3,  4, 50, 60, 70, 80, 90])\n",
       "\n",
       "This can be used on multidimensional arrays too:\n",
       "\n",
       ">>> np.where([[True, False], [True, True]],\n",
       "...          [[1, 2], [3, 4]],\n",
       "...          [[9, 8], [7, 6]])\n",
       "array([[1, 8],\n",
       "       [3, 4]])\n",
       "\n",
       "The shapes of x, y, and the condition are broadcast together:\n",
       "\n",
       ">>> x, y = np.ogrid[:3, :4]\n",
       ">>> np.where(x < y, x, 10 + y)  # both x and 10+y are broadcast\n",
       "array([[10,  0,  0,  0],\n",
       "       [10, 11,  1,  1],\n",
       "       [10, 11, 12,  2]])\n",
       "\n",
       ">>> a = np.array([[0, 1, 2],\n",
       "...               [0, 2, 4],\n",
       "...               [0, 3, 6]])\n",
       ">>> np.where(a < 4, a, -1)  # -1 is broadcast\n",
       "array([[ 0,  1,  2],\n",
       "       [ 0,  2, -1],\n",
       "       [ 0,  3, -1]])\n",
       "\u001b[1;31mClass docstring:\u001b[0m\n",
       "Class to wrap functions with checks for __array_function__ overrides.\n",
       "\n",
       "All arguments are required, and can only be passed by position.\n",
       "\n",
       "Parameters\n",
       "----------\n",
       "dispatcher : function or None\n",
       "    The dispatcher function that returns a single sequence-like object\n",
       "    of all arguments relevant.  It must have the same signature (except\n",
       "    the default values) as the actual implementation.\n",
       "    If ``None``, this is a ``like=`` dispatcher and the\n",
       "    ``_ArrayFunctionDispatcher`` must be called with ``like`` as the\n",
       "    first (additional and positional) argument.\n",
       "implementation : function\n",
       "    Function that implements the operation on NumPy arrays without\n",
       "    overrides.  Arguments passed calling the ``_ArrayFunctionDispatcher``\n",
       "    will be forwarded to this (and the ``dispatcher``) as if using\n",
       "    ``*args, **kwargs``.\n",
       "\n",
       "Attributes\n",
       "----------\n",
       "_implementation : function\n",
       "    The original implementation passed in."
      ]
     },
     "metadata": {},
     "output_type": "display_data"
    }
   ],
   "source": [
    "np.where?"
   ]
  },
  {
   "cell_type": "code",
   "execution_count": 119,
   "id": "0ea1f4f4-faad-49fe-a794-442c5b080700",
   "metadata": {},
   "outputs": [
    {
     "data": {
      "text/plain": [
       "(array([0, 1, 2, 3, 4, 5, 6, 7, 8, 9]),\n",
       " array([ 0,  1,  2,  3,  4, 50, 60, 70, 80, 90]))"
      ]
     },
     "execution_count": 119,
     "metadata": {},
     "output_type": "execute_result"
    }
   ],
   "source": [
    "a = np.arange(10)\n",
    "a, np.where(a < 5, a, 10*a)\n",
    "# a가 5보다 작으면 a를, 아니면 10을 곱하여 출력"
   ]
  },
  {
   "cell_type": "code",
   "execution_count": 120,
   "id": "95fd519c-bc30-4030-9b7c-6dc8c4853344",
   "metadata": {},
   "outputs": [
    {
     "data": {
      "text/plain": [
       "\u001b[1;31mDocstring:\u001b[0m\n",
       "arange([start,] stop[, step,], dtype=None, *, like=None)\n",
       "\n",
       "Return evenly spaced values within a given interval.\n",
       "\n",
       "``arange`` can be called with a varying number of positional arguments:\n",
       "\n",
       "* ``arange(stop)``: Values are generated within the half-open interval\n",
       "  ``[0, stop)`` (in other words, the interval including `start` but\n",
       "  excluding `stop`).\n",
       "* ``arange(start, stop)``: Values are generated within the half-open\n",
       "  interval ``[start, stop)``.\n",
       "* ``arange(start, stop, step)`` Values are generated within the half-open\n",
       "  interval ``[start, stop)``, with spacing between values given by\n",
       "  ``step``.\n",
       "\n",
       "For integer arguments the function is roughly equivalent to the Python\n",
       "built-in :py:class:`range`, but returns an ndarray rather than a ``range``\n",
       "instance.\n",
       "\n",
       "When using a non-integer step, such as 0.1, it is often better to use\n",
       "`numpy.linspace`.\n",
       "\n",
       "See the Warning sections below for more information.\n",
       "\n",
       "Parameters\n",
       "----------\n",
       "start : integer or real, optional\n",
       "    Start of interval.  The interval includes this value.  The default\n",
       "    start value is 0.\n",
       "stop : integer or real\n",
       "    End of interval.  The interval does not include this value, except\n",
       "    in some cases where `step` is not an integer and floating point\n",
       "    round-off affects the length of `out`.\n",
       "step : integer or real, optional\n",
       "    Spacing between values.  For any output `out`, this is the distance\n",
       "    between two adjacent values, ``out[i+1] - out[i]``.  The default\n",
       "    step size is 1.  If `step` is specified as a position argument,\n",
       "    `start` must also be given.\n",
       "dtype : dtype, optional\n",
       "    The type of the output array.  If `dtype` is not given, infer the data\n",
       "    type from the other input arguments.\n",
       "like : array_like, optional\n",
       "    Reference object to allow the creation of arrays which are not\n",
       "    NumPy arrays. If an array-like passed in as ``like`` supports\n",
       "    the ``__array_function__`` protocol, the result will be defined\n",
       "    by it. In this case, it ensures the creation of an array object\n",
       "    compatible with that passed in via this argument.\n",
       "\n",
       "    .. versionadded:: 1.20.0\n",
       "\n",
       "Returns\n",
       "-------\n",
       "arange : ndarray\n",
       "    Array of evenly spaced values.\n",
       "\n",
       "    For floating point arguments, the length of the result is\n",
       "    ``ceil((stop - start)/step)``.  Because of floating point overflow,\n",
       "    this rule may result in the last element of `out` being greater\n",
       "    than `stop`.\n",
       "\n",
       "Warnings\n",
       "--------\n",
       "The length of the output might not be numerically stable.\n",
       "\n",
       "Another stability issue is due to the internal implementation of\n",
       "`numpy.arange`.\n",
       "The actual step value used to populate the array is\n",
       "``dtype(start + step) - dtype(start)`` and not `step`. Precision loss\n",
       "can occur here, due to casting or due to using floating points when\n",
       "`start` is much larger than `step`. This can lead to unexpected\n",
       "behaviour. For example::\n",
       "\n",
       "  >>> np.arange(0, 5, 0.5, dtype=int)\n",
       "  array([0, 0, 0, 0, 0, 0, 0, 0, 0, 0])\n",
       "  >>> np.arange(-3, 3, 0.5, dtype=int)\n",
       "  array([-3, -2, -1,  0,  1,  2,  3,  4,  5,  6,  7,  8])\n",
       "\n",
       "In such cases, the use of `numpy.linspace` should be preferred.\n",
       "\n",
       "The built-in :py:class:`range` generates :std:doc:`Python built-in integers\n",
       "that have arbitrary size <python:c-api/long>`, while `numpy.arange`\n",
       "produces `numpy.int32` or `numpy.int64` numbers. This may result in\n",
       "incorrect results for large integer values::\n",
       "\n",
       "  >>> power = 40\n",
       "  >>> modulo = 10000\n",
       "  >>> x1 = [(n ** power) % modulo for n in range(8)]\n",
       "  >>> x2 = [(n ** power) % modulo for n in np.arange(8)]\n",
       "  >>> print(x1)\n",
       "  [0, 1, 7776, 8801, 6176, 625, 6576, 4001]  # correct\n",
       "  >>> print(x2)\n",
       "  [0, 1, 7776, 7185, 0, 5969, 4816, 3361]  # incorrect\n",
       "\n",
       "See Also\n",
       "--------\n",
       "numpy.linspace : Evenly spaced numbers with careful handling of endpoints.\n",
       "numpy.ogrid: Arrays of evenly spaced numbers in N-dimensions.\n",
       "numpy.mgrid: Grid-shaped arrays of evenly spaced numbers in N-dimensions.\n",
       ":ref:`how-to-partition`\n",
       "\n",
       "Examples\n",
       "--------\n",
       ">>> np.arange(3)\n",
       "array([0, 1, 2])\n",
       ">>> np.arange(3.0)\n",
       "array([ 0.,  1.,  2.])\n",
       ">>> np.arange(3,7)\n",
       "array([3, 4, 5, 6])\n",
       ">>> np.arange(3,7,2)\n",
       "array([3, 5])\n",
       "\u001b[1;31mType:\u001b[0m      builtin_function_or_method"
      ]
     },
     "metadata": {},
     "output_type": "display_data"
    }
   ],
   "source": [
    "np.arange?"
   ]
  },
  {
   "cell_type": "code",
   "execution_count": 121,
   "id": "ecd2f926-4ae1-4567-a69b-a5b5b08ba7cc",
   "metadata": {},
   "outputs": [
    {
     "data": {
      "text/plain": [
       "array([0, 1, 2, 3, 4, 5, 6, 7, 8, 9])"
      ]
     },
     "execution_count": 121,
     "metadata": {},
     "output_type": "execute_result"
    }
   ],
   "source": [
    "a"
   ]
  },
  {
   "cell_type": "code",
   "execution_count": null,
   "id": "f11d88d0-1969-4f4e-82e4-fa427d16f1db",
   "metadata": {},
   "outputs": [],
   "source": []
  },
  {
   "cell_type": "code",
   "execution_count": null,
   "id": "26f654e5-73ec-4e29-ad5d-00261bfa067c",
   "metadata": {},
   "outputs": [],
   "source": []
  },
  {
   "cell_type": "code",
   "execution_count": null,
   "id": "23aa5b6d-824b-4d96-8477-d4995a3a72b1",
   "metadata": {},
   "outputs": [],
   "source": []
  },
  {
   "cell_type": "code",
   "execution_count": null,
   "id": "bfd2e31e-f235-4516-868b-e195cb046dff",
   "metadata": {},
   "outputs": [],
   "source": []
  },
  {
   "cell_type": "code",
   "execution_count": null,
   "id": "fd4acab2-7ed7-441a-8300-fcd734b34e16",
   "metadata": {},
   "outputs": [],
   "source": []
  },
  {
   "cell_type": "code",
   "execution_count": null,
   "id": "8c2816d5-151b-4acc-b733-c901fb12b80d",
   "metadata": {},
   "outputs": [],
   "source": []
  },
  {
   "cell_type": "code",
   "execution_count": null,
   "id": "19703e56-04d3-417e-847a-de212b061611",
   "metadata": {},
   "outputs": [],
   "source": []
  },
  {
   "cell_type": "code",
   "execution_count": null,
   "id": "42ca69ce-8308-42dd-bfff-278584f9d3b1",
   "metadata": {},
   "outputs": [],
   "source": []
  },
  {
   "cell_type": "code",
   "execution_count": null,
   "id": "fe2e2c4f-1c0e-456a-88a8-16b99024fc51",
   "metadata": {},
   "outputs": [],
   "source": []
  },
  {
   "cell_type": "code",
   "execution_count": null,
   "id": "bfb808ef-eccb-4644-9c22-aac7bb04b803",
   "metadata": {},
   "outputs": [],
   "source": []
  },
  {
   "cell_type": "code",
   "execution_count": null,
   "id": "e6668970-793e-4fa7-bad5-0ab9b24f4b6a",
   "metadata": {},
   "outputs": [],
   "source": []
  },
  {
   "cell_type": "code",
   "execution_count": null,
   "id": "4b14f606-8c35-4d21-88e4-d7dee82faead",
   "metadata": {},
   "outputs": [],
   "source": []
  },
  {
   "cell_type": "code",
   "execution_count": null,
   "id": "035833d8-d042-47c7-89c0-51b2ede51bb8",
   "metadata": {},
   "outputs": [],
   "source": []
  },
  {
   "cell_type": "code",
   "execution_count": null,
   "id": "41fa7e63-a3dd-4f2c-a0a1-a3733e4802a3",
   "metadata": {},
   "outputs": [],
   "source": []
  },
  {
   "cell_type": "code",
   "execution_count": null,
   "id": "d0c23a35-26dc-40cc-b4b0-93582d40cf56",
   "metadata": {},
   "outputs": [],
   "source": []
  },
  {
   "cell_type": "code",
   "execution_count": null,
   "id": "d61063c0-c988-4e4a-b3b7-08861cfb8ab0",
   "metadata": {},
   "outputs": [],
   "source": []
  },
  {
   "cell_type": "code",
   "execution_count": null,
   "id": "2e11c091-210c-4809-bbac-39506d4318f8",
   "metadata": {},
   "outputs": [],
   "source": []
  },
  {
   "cell_type": "code",
   "execution_count": null,
   "id": "fbc2e210-51f4-477d-89c6-d2c642233053",
   "metadata": {},
   "outputs": [],
   "source": []
  },
  {
   "cell_type": "code",
   "execution_count": null,
   "id": "59ec6ba3-ff37-4354-99b1-86f3ad404c78",
   "metadata": {},
   "outputs": [],
   "source": []
  },
  {
   "cell_type": "code",
   "execution_count": null,
   "id": "9c3d889f-4642-4fee-87eb-78e6c3a045bd",
   "metadata": {},
   "outputs": [],
   "source": []
  },
  {
   "cell_type": "code",
   "execution_count": null,
   "id": "3c78146a-783e-4c60-9ed0-779b764928b1",
   "metadata": {},
   "outputs": [],
   "source": []
  },
  {
   "cell_type": "code",
   "execution_count": null,
   "id": "b23623ca-e8e3-45c4-b622-69565475ab88",
   "metadata": {},
   "outputs": [],
   "source": []
  },
  {
   "cell_type": "code",
   "execution_count": null,
   "id": "de2c828b-ad3e-4592-b7af-280fb3d62425",
   "metadata": {},
   "outputs": [],
   "source": []
  },
  {
   "cell_type": "code",
   "execution_count": null,
   "id": "ae7b584b-02ff-41bb-a652-2e12d40a2b61",
   "metadata": {},
   "outputs": [],
   "source": []
  },
  {
   "cell_type": "code",
   "execution_count": null,
   "id": "7db1bf10-e6c3-4987-88fa-4cec64a4512a",
   "metadata": {},
   "outputs": [],
   "source": []
  },
  {
   "cell_type": "code",
   "execution_count": null,
   "id": "09c23ec7-f64e-4dad-9e71-488d9ba44d6c",
   "metadata": {},
   "outputs": [],
   "source": []
  },
  {
   "cell_type": "code",
   "execution_count": null,
   "id": "7a6e0957-13a5-465b-bcdc-f8c0925bb610",
   "metadata": {},
   "outputs": [],
   "source": []
  }
 ],
 "metadata": {
  "kernelspec": {
   "display_name": "Python 3 (ipykernel)",
   "language": "python",
   "name": "python3"
  },
  "language_info": {
   "codemirror_mode": {
    "name": "ipython",
    "version": 3
   },
   "file_extension": ".py",
   "mimetype": "text/x-python",
   "name": "python",
   "nbconvert_exporter": "python",
   "pygments_lexer": "ipython3",
   "version": "3.11.7"
  }
 },
 "nbformat": 4,
 "nbformat_minor": 5
}
